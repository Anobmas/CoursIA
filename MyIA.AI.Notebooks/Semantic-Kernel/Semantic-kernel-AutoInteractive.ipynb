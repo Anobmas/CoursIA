{
 "cells": [
  {
   "cell_type": "markdown",
   "metadata": {},
   "source": [
    "# Notebook de conception de Notebook\n",
    "\n",
    "Ce Notebook .Net interactive a pour objectif de permettre la création assistée d'autres notebooks .Net interactive en confiant le soin à ChatGPT d'analyser et de proposer des modifications d'une version courante, et en prenant en charge la mise à jour et l'exécution des mises à jour en function calling Open AI grâce à l'API .Net interactive. \n",
    "\n",
    "\n",
    "### 1. Initialisation\n",
    "\n",
    "On installe des packages pour la manipulation de notebook et pour l'orchestration de LLMs."
   ]
  },
  {
   "cell_type": "code",
   "execution_count": 13,
   "metadata": {
    "dotnet_interactive": {
     "language": "csharp"
    },
    "polyglot_notebook": {
     "kernelName": "csharp"
    }
   },
   "outputs": [
    {
     "data": {
      "text/html": [
       "<div><div></div><div></div><div><strong>Installed Packages</strong><ul><li><span>Microsoft.DotNet.Interactive.CSharp, 1.0.0-beta.24229.4</span></li><li><span>Microsoft.DotNet.Interactive.Documents, 1.0.0-beta.24229.4</span></li><li><span>Microsoft.DotNet.Interactive.PackageManagement, 1.0.0-beta.24229.4</span></li><li><span>Microsoft.Extensions.Logging, 8.0.0</span></li><li><span>Microsoft.SemanticKernel, 1.13.0</span></li><li><span>Microsoft.SemanticKernel.Planners.OpenAI, 1.13.0-preview</span></li></ul></div></div>"
      ]
     },
     "metadata": {},
     "output_type": "display_data"
    }
   ],
   "source": [
    "// #r \"nuget: Microsoft.DotNet.Interactive, *-*\"\n",
    "#r \"nuget: Microsoft.DotNet.Interactive.CSharp, *-*\"\n",
    "#r \"nuget: Microsoft.DotNet.Interactive.Documents, *-*\"\n",
    "#r \"nuget: Microsoft.DotNet.Interactive.PackageManagement, *-*\"\n",
    "\n",
    "\n",
    "#r \"nuget: Microsoft.Extensions.Logging\"\n",
    "#r \"nuget: Microsoft.SemanticKernel, 1.13.0\"\n",
    "#r \"nuget: Microsoft.SemanticKernel.Planners.OpenAI, 1.13.0-preview\""
   ]
  },
  {
   "cell_type": "markdown",
   "metadata": {},
   "source": [
    "- **Imports des espaces de noms**\n",
    "\n",
    "On prend soin de distinguer le kernel d'exécution de notebook .Net interactive, et le kernel de semantic-kernel."
   ]
  },
  {
   "cell_type": "code",
   "execution_count": 14,
   "metadata": {
    "dotnet_interactive": {
     "language": "csharp"
    },
    "polyglot_notebook": {
     "kernelName": "csharp"
    }
   },
   "outputs": [],
   "source": [
    "  using Microsoft.DotNet.Interactive;\n",
    "  using Microsoft.SemanticKernel;\n",
    "  using Microsoft.SemanticKernel.Planning;\n",
    "  using Microsoft.SemanticKernel.Connectors.OpenAI;\n",
    "  \n",
    "  using System;\n",
    "  using System.IO;\n",
    "  using System.Threading.Tasks;\n",
    "\n",
    "  using SKernel = Microsoft.SemanticKernel.Kernel;\n",
    "  using IKernel = Microsoft.DotNet.Interactive.Kernel;"
   ]
  },
  {
   "cell_type": "markdown",
   "metadata": {},
   "source": [
    "- **Configurez l'authentification des services semantic-kernel**\n",
    "\n",
    "Créer au besoin le fichier config/settings.json pour la config semantic-kernel"
   ]
  },
  {
   "cell_type": "code",
   "execution_count": 15,
   "metadata": {
    "dotnet_interactive": {
     "language": "csharp"
    },
    "polyglot_notebook": {
     "kernelName": "csharp"
    }
   },
   "outputs": [],
   "source": [
    "// Load some helper functions, e.g. to load values from settings.json\n",
    "#!import config/Settings.cs "
   ]
  },
  {
   "cell_type": "markdown",
   "metadata": {},
   "source": [
    "- **Création d'un logger dédié**\n",
    "\n",
    "On crée un logger qui s'affichera en cellule de sortie"
   ]
  },
  {
   "cell_type": "code",
   "execution_count": 16,
   "metadata": {
    "dotnet_interactive": {
     "language": "csharp"
    },
    "polyglot_notebook": {
     "kernelName": "csharp"
    }
   },
   "outputs": [],
   "source": [
    "using Microsoft.Extensions.Logging;\n",
    "using System;\n",
    "\n",
    "public class DisplayLogger : ILogger, ILoggerFactory\n",
    "{\n",
    "    private readonly string _categoryName;\n",
    "    private readonly LogLevel _logLevel;\n",
    "\n",
    "    public DisplayLogger(string categoryName, LogLevel logLevel)\n",
    "    {\n",
    "        _categoryName = categoryName;\n",
    "        _logLevel = logLevel;\n",
    "    }\n",
    "\n",
    "    public IDisposable BeginScope<TState>(TState state) => this;\n",
    "\n",
    "    public bool IsEnabled(LogLevel logLevel) => logLevel >= _logLevel;\n",
    "\n",
    "    public void Log<TState>(LogLevel logLevel, EventId eventId, TState state, Exception exception, Func<TState, Exception, string> formatter)\n",
    "    {\n",
    "        if (!IsEnabled(logLevel))\n",
    "        {\n",
    "            return;\n",
    "        }\n",
    "\n",
    "        var logEntry = $\"[{logLevel}] {_categoryName} - {formatter(state, exception)}\";\n",
    "        if (exception != null)\n",
    "        {\n",
    "            logEntry += Environment.NewLine + exception;\n",
    "        }\n",
    "\n",
    "        display(logEntry);\n",
    "    }\n",
    "\n",
    "        /// <inheritdoc/>\n",
    "        public void Dispose()\n",
    "        {\n",
    "        // This class is marked as disposable to support the BeginScope method.\n",
    "        // However, there is no need to dispose anything.\n",
    "        }\n",
    "\n",
    "    public ILogger CreateLogger(string categoryName) => this;\n",
    "\n",
    "        public void AddProvider(ILoggerProvider provider) => throw new NotSupportedException();\n",
    "\n",
    "}\n",
    "\n",
    "public class DisplayLoggerProvider : ILoggerProvider\n",
    "{\n",
    "    private readonly LogLevel _logLevel;\n",
    "\n",
    "    public DisplayLoggerProvider(LogLevel logLevel)\n",
    "    {\n",
    "        _logLevel = logLevel;\n",
    "    }\n",
    "\n",
    "    public ILogger CreateLogger(string categoryName)\n",
    "    {\n",
    "        return new DisplayLogger(categoryName, _logLevel);\n",
    "    }\n",
    "\n",
    "    public void Dispose() { }\n",
    "}\n"
   ]
  },
  {
   "cell_type": "markdown",
   "metadata": {},
   "source": [
    "- **Initialisation semantic-kernel:**\n",
    "\n",
    "On utilise les informations de configuration de semantic-kernel pour créer un kernel. On le dotera par la suite de plugins pour l'utiliser dans un planner."
   ]
  },
  {
   "cell_type": "code",
   "execution_count": 17,
   "metadata": {
    "dotnet_interactive": {
     "language": "csharp"
    },
    "polyglot_notebook": {
     "kernelName": "csharp"
    }
   },
   "outputs": [
    {
     "data": {
      "text/plain": [
       "Kernel and Semantic Kernel initialized."
      ]
     },
     "metadata": {},
     "output_type": "display_data"
    }
   ],
   "source": [
    "using Microsoft.Extensions.Logging;\n",
    "using Microsoft.Extensions.DependencyInjection;\n",
    "using System;\n",
    "\n",
    "// Configure AI service credentials used by the kernel\n",
    "var (useAzureOpenAI, model, azureEndpoint, apiKey, orgId) = Settings.LoadFromFile();\n",
    "\n",
    "// // Configure custom logger\n",
    "// var loggerFactory = LoggerFactory.Create(builder =>\n",
    "// {\n",
    "//     builder.AddProvider(new DisplayLoggerProvider(LogLevel.Information));\n",
    "// });\n",
    "\n",
    "var builder = SKernel.CreateBuilder();\n",
    "\n",
    "builder.Services.AddLogging(loggingBuilder =>\n",
    "{\n",
    "    loggingBuilder.AddProvider(new DisplayLoggerProvider(LogLevel.Information));\n",
    "});\n",
    "\n",
    "if (useAzureOpenAI)\n",
    "    builder.AddAzureOpenAIChatCompletion(model, azureEndpoint, apiKey);\n",
    "else\n",
    "    builder.AddOpenAIChatCompletion(model, apiKey, orgId);\n",
    "\n",
    "// builder.WithLoggerFactory(loggerFactory);\n",
    "\n",
    "var semanticKernel = builder.Build();\n",
    "\n",
    "display(\"Kernel and Semantic Kernel initialized.\");\n"
   ]
  },
  {
   "cell_type": "markdown",
   "metadata": {},
   "source": [
    "### 2. Mode de Fourniture des Informations\n",
    "\n",
    "On permet à l'utilisateur de saisir les informations décrivant la tâche à accomplir dans le notebook de travail de plusieurs façons différentes."
   ]
  },
  {
   "cell_type": "code",
   "execution_count": 18,
   "metadata": {
    "dotnet_interactive": {
     "language": "csharp"
    },
    "polyglot_notebook": {
     "kernelName": "csharp"
    }
   },
   "outputs": [],
   "source": [
    "public enum InformationMode\n",
    "{\n",
    "    Variable,\n",
    "    Prompt,\n",
    "    File\n",
    "}\n",
    "\n",
    "var mode = InformationMode.Variable; // Changez cette valeur pour tester les différents modes"
   ]
  },
  {
   "cell_type": "markdown",
   "metadata": {},
   "source": [
    "#### Reccueil des informations\n",
    "\n",
    "Selon le mode de fourniture des informations choisi, on récupère la tâche à accomplir dans le notebook de travail."
   ]
  },
  {
   "cell_type": "code",
   "execution_count": 19,
   "metadata": {
    "dotnet_interactive": {
     "language": "csharp"
    },
    "polyglot_notebook": {
     "kernelName": "csharp"
    }
   },
   "outputs": [
    {
     "data": {
      "text/plain": [
       "Collecte d'informations en cours..."
      ]
     },
     "metadata": {},
     "output_type": "display_data"
    },
    {
     "data": {
      "text/plain": [
       "Utilisation de la variable pour la description de la tâche."
      ]
     },
     "metadata": {},
     "output_type": "display_data"
    },
    {
     "data": {
      "text/plain": [
       "Informations recueillies :\\nCréer un notebook .Net interactive permettant de requêter DBPedia. \n",
       "Utilisant le package Nuget dotNetRDF. \n",
       "Utiliser également Plotly ou Xplot pour afficher un graphique synthétisant les résultats."
      ]
     },
     "metadata": {},
     "output_type": "display_data"
    }
   ],
   "source": [
    "var infoCollectionDisplay = display(\"Collecte d'informations en cours...\");\n",
    "\n",
    "string taskDescription = @\"Créer un notebook .Net interactive permettant de requêter DBPedia. \n",
    "Utilisant le package Nuget dotNetRDF. \n",
    "Utiliser également Plotly ou Xplot pour afficher un graphique synthétisant les résultats.\";\n",
    "\n",
    "if (mode == InformationMode.Variable)\n",
    "{\n",
    "    display(\"Utilisation de la variable pour la description de la tâche.\");\n",
    "}\n",
    "else if (mode == InformationMode.Prompt)\n",
    "{\n",
    "    var questions = new[]\n",
    "    {\n",
    "        \"Bonjour! Veuillez fournir une brève description de la tâche à accomplir.\",\n",
    "        \"Quels sont les principaux objectifs de cette tâche?\",\n",
    "        \"Y a-t-il des contraintes ou des conditions spécifiques à prendre en compte?\",\n",
    "        \"Des informations supplémentaires que vous souhaitez ajouter?\"\n",
    "    };\n",
    "\n",
    "    taskDescription = string.Empty;\n",
    "    foreach (var question in questions)\n",
    "    {\n",
    "        var response = await IKernel.GetInputAsync(question);\n",
    "        taskDescription += $\"{question}\\\\n{response}\\\\n\\\\n\";\n",
    "    }\n",
    "}\n",
    "\n",
    "\n",
    "display(\"Informations recueillies :\\\\n\" + taskDescription);"
   ]
  },
  {
   "cell_type": "markdown",
   "metadata": {},
   "source": [
    "### 3. Personnalisation du Notebook de Travail\n",
    "\n",
    "On charge un notebook template contenant des parties de Markdown et de code à compléter, et on injecte la tâche dans la partie descriptive en entête du notebook .Net interactive."
   ]
  },
  {
   "cell_type": "code",
   "execution_count": 20,
   "metadata": {
    "dotnet_interactive": {
     "language": "csharp"
    },
    "polyglot_notebook": {
     "kernelName": "csharp"
    }
   },
   "outputs": [
    {
     "data": {
      "text/plain": [
       "Personnalisation du notebook {notebookPath} en cours..."
      ]
     },
     "metadata": {},
     "output_type": "display_data"
    },
    {
     "data": {
      "text/plain": [
       "Notebook personnalisé prêt à l'exécution"
      ]
     },
     "metadata": {},
     "output_type": "display_data"
    }
   ],
   "source": [
    "\n",
    "\n",
    "var notebookTemplatePath = \"./Workbook-Template.ipynb\";\n",
    "var notebookPath = @$\"./Workbook-{DateTime.Now.Date.ToString(\"yyyy-MM-dd\")}.ipynb\";\n",
    "var notebookOutputPath = @$\"./Workbook-{DateTime.Now.Date.ToString(\"yyyy-MM-dd\")}-output.ipynb\";\n",
    "\n",
    "string notebookContent;\n",
    "if (!File.Exists(notebookPath))\n",
    "{\n",
    "    notebookContent = File.ReadAllText(notebookTemplatePath);\n",
    "}\n",
    "else\n",
    "{\n",
    "    notebookContent = File.ReadAllText(notebookPath);\n",
    "}\n",
    "\n",
    "\n",
    "display(@\"Personnalisation du notebook {notebookPath} en cours...\");\n",
    "\n",
    "notebookContent = notebookContent.Replace(\"{{TASK_DESCRIPTION}}\", taskDescription);\n",
    "\n",
    "File.WriteAllText(notebookPath, notebookContent);\n",
    "display($\"Notebook personnalisé prêt à l'exécution\");"
   ]
  },
  {
   "cell_type": "markdown",
   "metadata": {},
   "source": [
    "### 4. Boucle Récurrente pour l'Exécution du Notebook"
   ]
  },
  {
   "cell_type": "markdown",
   "metadata": {},
   "source": [
    "- **Classe en charge de charger, d'exécuter et renvoyer un le résultat d'un notebook**"
   ]
  },
  {
   "cell_type": "code",
   "execution_count": 21,
   "metadata": {
    "dotnet_interactive": {
     "language": "csharp"
    },
    "polyglot_notebook": {
     "kernelName": "csharp"
    }
   },
   "outputs": [],
   "source": [
    "using Microsoft.DotNet.Interactive;\n",
    "using Microsoft.DotNet.Interactive.Documents;\n",
    "using KernelInfo = Microsoft.DotNet.Interactive.Documents.KernelInfo;\n",
    "using Microsoft.DotNet.Interactive.Commands;\n",
    "using Microsoft.DotNet.Interactive.Events;\n",
    "using System.Reactive.Linq;\n",
    "using System.Text;\n",
    "using System.Threading;\n",
    "using System.Collections.Generic;\n",
    "using System.Linq;\n",
    "using System.Threading.Tasks;\n",
    "\n",
    "public class NotebookExecutor\n",
    "{\n",
    "    public static string PlainTextValue(DisplayEvent @event)\n",
    "    {\n",
    "        return @event.FormattedValues.FirstOrDefault()?.Value ?? string.Empty;\n",
    "    }\n",
    "\n",
    "    private readonly CompositeKernel _kernel;\n",
    "\n",
    "    public NotebookExecutor(CompositeKernel kernel)\n",
    "    {\n",
    "        _kernel = kernel;\n",
    "    }\n",
    "\n",
    "    public async Task<InteractiveDocument> RunNotebookAsync(\n",
    "        InteractiveDocument notebook,\n",
    "        IDictionary<string, string>? parameters = null,\n",
    "        CancellationToken cancellationToken = default)\n",
    "    {\n",
    "        var notebookExecutionDisplay = display(\"Exécution du notebook en cours...\");\n",
    "        notebookExecutionDisplay.Update(\"Début de l'exécution du notebook...\");\n",
    "\n",
    "        var resultDocument = new InteractiveDocument();\n",
    "\n",
    "        if (parameters is not null)\n",
    "        {\n",
    "            parameters = new Dictionary<string, string>(parameters, StringComparer.InvariantCultureIgnoreCase);\n",
    "        }\n",
    "\n",
    "        var kernelInfoCollection = CreateKernelInfos(_kernel);\n",
    "        var lookup = kernelInfoCollection.ToDictionary(k => k.Name, StringComparer.OrdinalIgnoreCase);\n",
    "\n",
    "        foreach (var element in notebook.Elements)\n",
    "        {\n",
    "            if (lookup.TryGetValue(element.KernelName!, out var kernelInfo) &&\n",
    "                StringComparer.OrdinalIgnoreCase.Equals(kernelInfo.LanguageName, \"markdown\"))\n",
    "            {\n",
    "                var formattedValue = new FormattedValue(\"text/markdown\", element.Contents);\n",
    "                var displayValue = new DisplayValue(formattedValue);\n",
    "                display($\"Affichage du markdown: \\n{element.Contents}\");\n",
    "                await _kernel.SendAsync(displayValue);\n",
    "                resultDocument.Elements.Add(element); \n",
    "            }\n",
    "            else\n",
    "            {\n",
    "                try\n",
    "                {\n",
    "                    var submitCode = new SubmitCode(element.Contents, element.KernelName);\n",
    "                    display($\"Envoi du code au kernel {element.KernelName}:\\n{element.Contents}\");\n",
    "\n",
    "                    var codeResult = await _kernel.SendAsync(submitCode);\n",
    "                    codeResult.Display();\n",
    "\n",
    "                    var outputs = new List<InteractiveDocumentOutputElement>();\n",
    "\n",
    "                    foreach (var ev in codeResult.Events)\n",
    "                    {\n",
    "                        if (ev is DisplayEvent displayEvent)\n",
    "                        {\n",
    "                            outputs.Add(CreateDisplayOutputElement(displayEvent));\n",
    "                        }\n",
    "                        else if (ev is ErrorProduced errorProduced)\n",
    "                        {\n",
    "                            outputs.Add(CreateErrorOutputElement(errorProduced));\n",
    "                        }\n",
    "                        else if (ev is StandardOutputValueProduced stdOutput)\n",
    "                        {\n",
    "                            outputs.Add(new TextElement(stdOutput.Value.ToString(), \"stdout\"));\n",
    "                        }\n",
    "                        else if (ev is StandardErrorValueProduced stdError)\n",
    "                        {\n",
    "                            outputs.Add(new TextElement(stdError.Value.ToString(), \"stderr\"));\n",
    "                        }\n",
    "                    }\n",
    "\n",
    "                    var newElement = new InteractiveDocumentElement(\n",
    "                        element.KernelName,\n",
    "                        element.Contents,\n",
    "                        outputs);\n",
    "\n",
    "                    resultDocument.Elements.Add(newElement); // Ajout du résultat au document résultant\n",
    "                }\n",
    "                catch (Exception ex)\n",
    "                {\n",
    "                    display($\"Crash du kernel {element.KernelName}\");\n",
    "                    var errorElement = new ErrorElement(\"Error\", ex.Message);\n",
    "                    var newElement = new InteractiveDocumentElement(\n",
    "                        element.KernelName,\n",
    "                        element.Contents,\n",
    "                        new List<InteractiveDocumentOutputElement> { errorElement });\n",
    "\n",
    "                    resultDocument.Elements.Add(newElement); // Ajout du résultat au document résultant\n",
    "                }\n",
    "            }\n",
    "\n",
    "        }\n",
    "\n",
    "        var defaultKernelName = _kernel.DefaultKernelName;\n",
    "        var defaultKernel = _kernel.ChildKernels.SingleOrDefault(k => k.Name == defaultKernelName);\n",
    "        var languageName = defaultKernel?.KernelInfo.LanguageName ?? notebook.GetDefaultKernelName() ?? \"C#\";\n",
    "\n",
    "        resultDocument.Metadata[\"kernelspec\"] = new Dictionary<string, object>\n",
    "        {\n",
    "            { \"name\", defaultKernel?.Name ?? \"csharp\" },\n",
    "            { \"language\", languageName }\n",
    "        };\n",
    "\n",
    "        notebookExecutionDisplay.Update(\"Exécution du notebook terminée.\");\n",
    "\n",
    "        return resultDocument;\n",
    "    }\n",
    "\n",
    "    private KernelInfoCollection CreateKernelInfos(CompositeKernel kernel)\n",
    "    {\n",
    "        KernelInfoCollection kernelInfos = new();\n",
    "\n",
    "        foreach (var childKernel in kernel.ChildKernels)\n",
    "        {\n",
    "            kernelInfos.Add(new KernelInfo(childKernel.Name, languageName: childKernel.KernelInfo.LanguageName, aliases: childKernel.KernelInfo.Aliases));\n",
    "        }\n",
    "\n",
    "        if (!kernelInfos.Contains(\"markdown\"))\n",
    "        {\n",
    "            kernelInfos = kernelInfos.Clone();\n",
    "            kernelInfos.Add(new KernelInfo(\"markdown\", languageName: \"Markdown\"));\n",
    "        }\n",
    "\n",
    "        return kernelInfos;\n",
    "    }\n",
    "\n",
    "\n",
    "    private DisplayElement CreateDisplayOutputElement(DisplayEvent displayEvent) =>\n",
    "        new(displayEvent\n",
    "            .FormattedValues\n",
    "            .ToDictionary(\n",
    "                v => v.MimeType,\n",
    "                v => (object)v.Value));\n",
    "\n",
    "    private ErrorElement CreateErrorOutputElement(ErrorProduced errorProduced) =>\n",
    "        new(\"Error\", errorProduced.Message);\n",
    "}\n"
   ]
  },
  {
   "cell_type": "markdown",
   "metadata": {},
   "source": [
    "- **Classe du plugin semantic-kernel pour function calling**\n",
    "\n",
    "Ce plugin permet à chat GPT de mettre à jour un notebook, et lui renvoie la nouvelle version rééxécutée."
   ]
  },
  {
   "cell_type": "code",
   "execution_count": 22,
   "metadata": {
    "dotnet_interactive": {
     "language": "csharp"
    },
    "polyglot_notebook": {
     "kernelName": "csharp"
    }
   },
   "outputs": [],
   "source": [
    "using Microsoft.SemanticKernel;\n",
    "using Microsoft.SemanticKernel.Planning;\n",
    "using Microsoft.DotNet.Interactive.Documents;\n",
    "using Microsoft.DotNet.Interactive.Documents.Jupyter;\n",
    "using System.Threading.Tasks;\n",
    "using System.IO;\n",
    "using System.ComponentModel;\n",
    "using Microsoft.DotNet.Interactive.CSharp;\n",
    "using System.Reflection;\n",
    "using Microsoft.DotNet.Interactive.PackageManagement;\n",
    "\n",
    "public class WorkbookInteraction\n",
    "{\n",
    "    private readonly string _notebookPath;\n",
    "    private readonly NotebookExecutor _executor;\n",
    "    private object _workbookDisplay;\n",
    "    private MethodInfo _updateDisplayMethod = typeof(DisplayedValue).GetMethod(\"Update\");\n",
    "    private int _iterationCount = 0;\n",
    "\n",
    "    private readonly ILogger _logger;\n",
    "\n",
    "    public WorkbookInteraction(string notebookPath, ILogger logger)\n",
    "    {\n",
    "        _notebookPath = notebookPath;\n",
    "\n",
    "        var cSharpKernel = new CSharpKernel()\n",
    "            .UseKernelHelpers()\n",
    "            .UseWho()\n",
    "            .UseValueSharing();\n",
    "\n",
    "        cSharpKernel.UseNugetDirective((k, resolvedPackageReference) =>\n",
    "        {\n",
    "            k.AddAssemblyReferences(resolvedPackageReference\n",
    "                .SelectMany(r => r.AssemblyPaths));\n",
    "            return Task.CompletedTask;\n",
    "        }, false);\n",
    "\n",
    "        var compositeKernel = new CompositeKernel\n",
    "        {\n",
    "            cSharpKernel\n",
    "        };\n",
    "\n",
    "        _executor = new NotebookExecutor(compositeKernel);\n",
    "        _logger = logger;\n",
    "    }\n",
    "\n",
    "    private void DisplayWorkbook(string displayContent)\n",
    "    {\n",
    "        if (_workbookDisplay is null)\n",
    "        {\n",
    "            _workbookDisplay = display(displayContent);\n",
    "        }\n",
    "\n",
    "        _updateDisplayMethod.Invoke(_workbookDisplay, new object[] { displayContent });\n",
    "    }\n",
    "\n",
    "    [KernelFunction]\n",
    "    [Description(\"Runs an updated version of the workbook and returns the notebook with output cells\")]\n",
    "    public async Task<string> UpdateWorkbook(\n",
    "        [Description(\"the new version of the workbook in ipynb json format, with multiple edited cells\")] string updatedWorkbook)\n",
    "    {\n",
    "        var updateDisplay = display($\"Appel en function calling à UpdateWorkbook avec le notebook...\\n{updatedWorkbook}\");\n",
    "        File.WriteAllText(_notebookPath, updatedWorkbook);\n",
    "\n",
    "        try\n",
    "        {\n",
    "            var notebook = await InteractiveDocument.LoadAsync(new FileInfo(_notebookPath));\n",
    "            var resultDocument = await _executor.RunNotebookAsync(notebook);\n",
    "            var outputJson = resultDocument.ToJupyterJson();\n",
    "\n",
    "            display($\"Appel à UpdateWorkbook terminé, renvoi du workbook après réexécution...\\n{outputJson}\");\n",
    "            _iterationCount++;\n",
    "            display($\"WorkbookInteraction Itération {_iterationCount} terminée.\");\n",
    "            return outputJson;\n",
    "        }\n",
    "        catch (Exception ex)\n",
    "        {\n",
    "            var message = $\"Erreur lors de l'exécution du notebook: {ex.Message}\";\n",
    "            display(message);\n",
    "            _logger.LogError(ex, \"Erreur lors de l'exécution du notebook\");\n",
    "            return message;\n",
    "        }\n",
    "    }\n",
    "}\n"
   ]
  },
  {
   "cell_type": "markdown",
   "metadata": {},
   "source": [
    "- **Classe en charge de l'exécution du planner:**"
   ]
  },
  {
   "cell_type": "code",
   "execution_count": 23,
   "metadata": {
    "dotnet_interactive": {
     "language": "csharp"
    },
    "polyglot_notebook": {
     "kernelName": "csharp"
    }
   },
   "outputs": [],
   "source": [
    "#pragma warning disable SKEXP0060\n",
    "\n",
    "public class NotebookUpdater\n",
    "{\n",
    "    private readonly FunctionCallingStepwisePlanner _planner;\n",
    "    private readonly SKernel _semanticKernel;\n",
    "    private readonly string _notebookPath;\n",
    "    private readonly ILogger _logger;\n",
    "    \n",
    "\n",
    "    public NotebookUpdater(SKernel semanticKernel, string notebookPath, ILogger logger)\n",
    "    {\n",
    "        _semanticKernel = semanticKernel;\n",
    "        _notebookPath = notebookPath;\n",
    "        var options = new FunctionCallingStepwisePlannerOptions\n",
    "        {\n",
    "            MaxTokens = 20000,\n",
    "            MaxTokensRatio = 0.2,\n",
    "            MaxIterations = 2,\n",
    "            ExecutionSettings = new OpenAIPromptExecutionSettings { \n",
    "                ToolCallBehavior = ToolCallBehavior.AutoInvokeKernelFunctions\n",
    "                 }\n",
    "        };\n",
    "        _planner = new FunctionCallingStepwisePlanner(options);\n",
    "        _logger = logger;\n",
    "        \n",
    "        var workbookInteraction = new WorkbookInteraction(notebookPath, _logger);\n",
    "        _semanticKernel.ImportPluginFromObject(workbookInteraction);\n",
    "    }\n",
    "\n",
    "    public async Task<string> UpdateNotebook()\n",
    "    {\n",
    "        display(\"Lecture du contenu du notebook...\");\n",
    "        var notebookJson = File.ReadAllText(_notebookPath);\n",
    "\n",
    "        var updateDisplay = display(\"Appel de ChatGPT avec le workbook initialisé...\");\n",
    "        \n",
    "        var plannerPrompt = $\"Analyse le notebook suivant qui contient la description de son objectif, utilise le function calling avec la méthode UpdateWorkbook pour éditer et réexécuter le notebook jusqu'à ce qu'il donne satisfaction et renvoie la réponse finale. N'hésite pas à éditer plusieurs cellules de front mais priorise les erreurs qui apparaissent dans les cellules de sorties pour garder le notebook fonctionnel. Fais particulièrement à ne pas halluciner des packages Nuget non existants.\\n\\n{notebookJson}\";\n",
    "        display($\"Envoi du prompt au planner...\\n{plannerPrompt}\");\n",
    "        \n",
    "\n",
    "        var result = await _planner.ExecuteAsync(_semanticKernel, plannerPrompt);\n",
    "        \n",
    "        \n",
    "        \n",
    "        updateDisplay.Update(\"Notebook mis à jour avec succès.\");\n",
    "\n",
    "        return result.FinalAnswer;\n",
    "    }\n",
    "}\n"
   ]
  },
  {
   "cell_type": "markdown",
   "metadata": {},
   "source": [
    "### 5. Exécution et Mise à Jour Itérative"
   ]
  },
  {
   "cell_type": "code",
   "execution_count": 24,
   "metadata": {
    "dotnet_interactive": {
     "language": "csharp"
    },
    "polyglot_notebook": {
     "kernelName": "csharp"
    }
   },
   "outputs": [
    {
     "data": {
      "text/plain": [
       "Création de l'instance NotebookUpdater..."
      ]
     },
     "metadata": {},
     "output_type": "display_data"
    },
    {
     "data": {
      "text/plain": [
       "Appel à UpdateNotebook..."
      ]
     },
     "metadata": {},
     "output_type": "display_data"
    },
    {
     "data": {
      "text/plain": [
       "Lecture du contenu du notebook..."
      ]
     },
     "metadata": {},
     "output_type": "display_data"
    },
    {
     "data": {
      "text/plain": [
       "Notebook mis à jour avec succès."
      ]
     },
     "metadata": {},
     "output_type": "display_data"
    },
    {
     "data": {
      "text/plain": [
       "Envoi du prompt au planner...\n",
       "Analyse le notebook suivant qui contient la description de son objectif, utilise le function calling avec la méthode UpdateWorkbook pour éditer et réexécuter le notebook jusqu'à ce qu'il donne satisfaction et renvoie la réponse finale. N'hésite pas à éditer plusieurs cellules de front mais priorise les erreurs qui apparaissent dans les cellules de sorties pour garder le notebook fonctionnel. Fais particulièrement à ne pas halluciner des packages Nuget non existants.\n",
       "\n",
       "{\n",
       "  \"cells\": [\n",
       "    {\n",
       "      \"cell_type\": \"markdown\",\n",
       "      \"metadata\": {},\n",
       "      \"source\": [\n",
       "        \"# Notebook de travail\\n\",\n",
       "        \"Ce notebook est généré pour accomplir la tâche suivante :\\n\",\n",
       "        \"## Description de la tâche\\n\",\n",
       "        \"Créer un notebook .Net interactive permettant de requêter DBPedia. \n",
       "Utilisant le package Nuget dotNetRDF. \n",
       "Utiliser également Plotly ou Xplot pour afficher un graphique synthétisant les résultats.\\n\"\n",
       "      ]\n",
       "    },\n",
       "    {\n",
       "      \"cell_type\": \"markdown\",\n",
       "      \"metadata\": {},\n",
       "      \"source\": [\n",
       "        \"## Préparation de l'environnement\\n\",\n",
       "        \"Nous allons d'abord installer et importer les bibliothèques nécessaires.\"\n",
       "      ]\n",
       "    },\n",
       "    {\n",
       "      \"cell_type\": \"code\",\n",
       "      \"execution_count\": null,\n",
       "      \"metadata\": {\n",
       "        \"dotnet_interactive\": {\n",
       "          \"language\": \"csharp\"\n",
       "        },\n",
       "        \"polyglot_notebook\": {\n",
       "          \"kernelName\": \"csharp\"\n",
       "        }\n",
       "      },\n",
       "      \"outputs\": [],\n",
       "      \"source\": [\n",
       "        \"// Installation des bibliothèques Nuget\\n\"\n",
       "      ]\n",
       "    },\n",
       "    {\n",
       "      \"cell_type\": \"code\",\n",
       "      \"execution_count\": null,\n",
       "      \"metadata\": {\n",
       "        \"dotnet_interactive\": {\n",
       "          \"language\": \"csharp\"\n",
       "        },\n",
       "        \"polyglot_notebook\": {\n",
       "          \"kernelName\": \"csharp\"\n",
       "        }\n",
       "      },\n",
       "      \"outputs\": [],\n",
       "      \"source\": [\n",
       "        \"// Importation des espaces de noms utiles\\n\"\n",
       "      ]\n",
       "    },\n",
       "    {\n",
       "      \"cell_type\": \"markdown\",\n",
       "      \"metadata\": {},\n",
       "      \"source\": [\n",
       "        \"## Initialisation\\n\"\n",
       "      ]\n",
       "    },\n",
       "    {\n",
       "      \"cell_type\": \"code\",\n",
       "      \"execution_count\": null,\n",
       "      \"metadata\": {\n",
       "        \"dotnet_interactive\": {\n",
       "          \"language\": \"csharp\"\n",
       "        },\n",
       "        \"polyglot_notebook\": {\n",
       "          \"kernelName\": \"csharp\"\n",
       "        }\n",
       "      },\n",
       "      \"outputs\": [],\n",
       "      \"source\": [\n",
       "        \"// Création des objets nécessaire à la tâche demandée\\n\"\n",
       "      ]\n",
       "    },\n",
       "    {\n",
       "      \"cell_type\": \"markdown\",\n",
       "      \"metadata\": {},\n",
       "      \"source\": [\n",
       "        \"## Traitement\"\n",
       "      ]\n",
       "    },\n",
       "    {\n",
       "      \"cell_type\": \"code\",\n",
       "      \"execution_count\": null,\n",
       "      \"metadata\": {\n",
       "        \"dotnet_interactive\": {\n",
       "          \"language\": \"csharp\"\n",
       "        },\n",
       "        \"polyglot_notebook\": {\n",
       "          \"kernelName\": \"csharp\"\n",
       "        }\n",
       "      },\n",
       "      \"outputs\": [],\n",
       "      \"source\": [\n",
       "        \"// Utilisation de l'infrastructure initialisée pour réaliser la tâche demandée\"\n",
       "      ]\n",
       "    },\n",
       "    {\n",
       "      \"cell_type\": \"markdown\",\n",
       "      \"metadata\": {},\n",
       "      \"source\": [\n",
       "        \"## Conclusion\\n\",\n",
       "        \"\\n\",\n",
       "        \"Conclusion Markdown issue de l'exécution du notebook, explicitant la réalisation de la tâche et son résultat.\"\n",
       "      ]\n",
       "    }\n",
       "  ],\n",
       "  \"metadata\": {\n",
       "    \"kernelspec\": {\n",
       "      \"display_name\": \".NET (C#)\",\n",
       "      \"language\": \"C#\",\n",
       "      \"name\": \".net-csharp\"\n",
       "    },\n",
       "    \"polyglot_notebook\": {\n",
       "      \"kernelInfo\": {\n",
       "        \"defaultKernelName\": \"csharp\",\n",
       "        \"items\": [\n",
       "          {\n",
       "            \"aliases\": [],\n",
       "            \"languageName\": \"csharp\",\n",
       "            \"name\": \"csharp\"\n",
       "          }\n",
       "        ]\n",
       "      }\n",
       "    }\n",
       "  },\n",
       "  \"nbformat\": 4,\n",
       "  \"nbformat_minor\": 2\n",
       "}\n"
      ]
     },
     "metadata": {},
     "output_type": "display_data"
    },
    {
     "data": {
      "text/plain": [
       "[Information] Microsoft.SemanticKernel.Planning.FunctionCallingStepwisePlanner - Plan execution started."
      ]
     },
     "metadata": {},
     "output_type": "display_data"
    },
    {
     "data": {
      "text/plain": [
       "[Information] GeneratePlan - Function GeneratePlan invoking."
      ]
     },
     "metadata": {},
     "output_type": "display_data"
    },
    {
     "data": {
      "text/plain": [
       "[Information] Microsoft.SemanticKernel.Connectors.OpenAI.OpenAIChatCompletionService - Prompt tokens: 1147. Completion tokens: 256. Total tokens: 1403."
      ]
     },
     "metadata": {},
     "output_type": "display_data"
    },
    {
     "data": {
      "text/plain": [
       "[Information] Microsoft.SemanticKernel.KernelFunctionFactory - Prompt tokens: 1147. Completion tokens: 256."
      ]
     },
     "metadata": {},
     "output_type": "display_data"
    },
    {
     "data": {
      "text/plain": [
       "[Information] GeneratePlan - Function GeneratePlan succeeded."
      ]
     },
     "metadata": {},
     "output_type": "display_data"
    },
    {
     "data": {
      "text/plain": [
       "[Information] GeneratePlan - Function completed. Duration: 5.2431837s"
      ]
     },
     "metadata": {},
     "output_type": "display_data"
    },
    {
     "data": {
      "text/plain": [
       "[Information] Microsoft.SemanticKernel.Connectors.OpenAI.OpenAIChatCompletionService - Prompt tokens: 1926. Completion tokens: 1494. Total tokens: 3420."
      ]
     },
     "metadata": {},
     "output_type": "display_data"
    },
    {
     "data": {
      "text/plain": [
       "[Information] UpdateWorkbook - Function UpdateWorkbook invoking."
      ]
     },
     "metadata": {},
     "output_type": "display_data"
    },
    {
     "data": {
      "text/plain": [
       "Appel en function calling à UpdateWorkbook avec le notebook...\n",
       "{\n",
       "  \"cells\": [\n",
       "    {\n",
       "      \"cell_type\": \"markdown\",\n",
       "      \"metadata\": {},\n",
       "      \"source\": [\n",
       "        \"# Notebook de travail\\n\",\n",
       "        \"Ce notebook est g\\u00e9n\\u00e9r\\u00e9 pour accomplir la t\\u00e2che suivante :\\n\",\n",
       "        \"## Description de la t\\u00e2che\\n\",\n",
       "        \"Cr\\u00e9er un notebook .Net interactive permettant de requ\\u00eater DBPedia. \\nUtilisant le package Nuget dotNetRDF. \\nUtiliser \\u00e9galement Plotly ou Xplot pour afficher un graphique synth\\u00e9tisant les r\\u00e9sultats.\\n\"\n",
       "      ]\n",
       "    },\n",
       "    {\n",
       "      \"cell_type\": \"markdown\",\n",
       "      \"metadata\": {},\n",
       "      \"source\": [\n",
       "        \"## Pr\\u00e9paration de l'environnement\\n\",\n",
       "        \"Nous allons d'abord installer et importer les biblioth\\u00e8ques n\\u00e9cessaires.\"\n",
       "      ]\n",
       "    },\n",
       "    {\n",
       "      \"cell_type\": \"code\",\n",
       "      \"execution_count\": null,\n",
       "      \"metadata\": {\n",
       "        \"dotnet_interactive\": {\n",
       "          \"language\": \"csharp\"\n",
       "        },\n",
       "        \"polyglot_notebook\": {\n",
       "          \"kernelName\": \"csharp\"\n",
       "        }\n",
       "      },\n",
       "      \"outputs\": [],\n",
       "      \"source\": [\n",
       "        \"// Installation des biblioth\\u00e8ques Nuget\\n\",\n",
       "        \"#r \\\"nuget: dotNetRDF\\\"\\n\",\n",
       "        \"#r \\\"nuget: XPlot.Plotly\\\"\"\n",
       "      ]\n",
       "    },\n",
       "    {\n",
       "      \"cell_type\": \"code\",\n",
       "      \"execution_count\": null,\n",
       "      \"metadata\": {\n",
       "        \"dotnet_interactive\": {\n",
       "          \"language\": \"csharp\"\n",
       "        },\n",
       "        \"polyglot_notebook\": {\n",
       "          \"kernelName\": \"csharp\"\n",
       "        }\n",
       "      },\n",
       "      \"outputs\": [],\n",
       "      \"source\": [\n",
       "        \"// Importation des espaces de noms utiles\\n\",\n",
       "        \"using VDS.RDF;\\n\",\n",
       "        \"using VDS.RDF.Query;\\n\",\n",
       "        \"using XPlot.Plotly;\"\n",
       "      ]\n",
       "    },\n",
       "    {\n",
       "      \"cell_type\": \"markdown\",\n",
       "      \"metadata\": {},\n",
       "      \"source\": [\n",
       "        \"## Initialisation\\n\"\n",
       "      ]\n",
       "    },\n",
       "    {\n",
       "      \"cell_type\": \"code\",\n",
       "      \"execution_count\": null,\n",
       "      \"metadata\": {\n",
       "        \"dotnet_interactive\": {\n",
       "          \"language\": \"csharp\"\n",
       "        },\n",
       "        \"polyglot_notebook\": {\n",
       "          \"kernelName\": \"csharp\"\n",
       "        }\n",
       "      },\n",
       "      \"outputs\": [],\n",
       "      \"source\": [\n",
       "        \"// Cr\\u00e9ation des objets n\\u00e9cessaire \\u00e0 la t\\u00e2che demand\\u00e9e\\n\",\n",
       "        \"SparqlRemoteEndpoint endpoint = new SparqlRemoteEndpoint(new Uri(\\\"https://dbpedia.org/sparql\\\"));\\n\",\n",
       "        \"// Exemple de requ\\u00eate SPARQL\\n\",\n",
       "        \"string query = \\\"SELECT ?label WHERE { <http://dbpedia.org/resource/Asturias> rdfs:label ?label }\\\";\\n\",\n",
       "        \"// Execution de la requ\\u00eate\\n\",\n",
       "        \"SparqlResultSet results = endpoint.QueryWithResultSet(query);\"\n",
       "      ]\n",
       "    },\n",
       "    {\n",
       "      \"cell_type\": \"markdown\",\n",
       "      \"metadata\": {},\n",
       "      \"source\": [\n",
       "        \"## Traitement\"\n",
       "      ]\n",
       "    },\n",
       "    {\n",
       "      \"cell_type\": \"code\",\n",
       "      \"execution_count\": null,\n",
       "      \"metadata\": {\n",
       "        \"dotnet_interactive\": {\n",
       "          \"language\": \"csharp\"\n",
       "        },\n",
       "        \"polyglot_notebook\": {\n",
       "          \"kernelName\": \"csharp\"\n",
       "        }\n",
       "      },\n",
       "      \"outputs\": [],\n",
       "      \"source\": [\n",
       "        \"// Utilisation de l'infrastructure initialis\\u00e9e pour r\\u00e9aliser la t\\u00e2che demand\\u00e9e\\n\",\n",
       "        \"var labels = new List<string>();\\n\",\n",
       "        \"foreach (var result in results)\\n\",\n",
       "        \"{\\n\",\n",
       "        \"    labels.Add(result[\\\"label\\\"].ToString());\\n\",\n",
       "        \"}\\n\",\n",
       "        \"// Cr\\u00e9ation du graphique\\n\",\n",
       "        \"var chart = Chart.Plot(new Graph.Scattergl()\\n\",\n",
       "        \"{\\n\",\n",
       "        \"    x = Enumerable.Range(1, labels.Count),\\n\",\n",
       "        \"    y = labels\\n\",\n",
       "        \"});\\n\",\n",
       "        \"chart.WithTitle(\\\"Labels for Asturias\\\");\\n\",\n",
       "        \"display(chart);\"\n",
       "      ]\n",
       "    },\n",
       "    {\n",
       "      \"cell_type\": \"markdown\",\n",
       "      \"metadata\": {},\n",
       "      \"source\": [\n",
       "        \"## Conclusion\\n\",\n",
       "        \"\\n\",\n",
       "        \"Conclusion Markdown issue de l'ex\\u00e9cution du notebook, explicitant la r\\u00e9alisation de la t\\u00e2che et son r\\u00e9sultat.\"\n",
       "      ]\n",
       "    }\n",
       "  ],\n",
       "  \"metadata\": {\n",
       "    \"kernelspec\": {\n",
       "      \"display_name\": \".NET (C#)\",\n",
       "      \"language\": \"C#\",\n",
       "      \"name\": \".net-csharp\"\n",
       "    },\n",
       "    \"polyglot_notebook\": {\n",
       "      \"kernelInfo\": {\n",
       "        \"defaultKernelName\": \"csharp\",\n",
       "        \"items\": [\n",
       "          {\n",
       "            \"aliases\": [],\n",
       "            \"languageName\": \"csharp\",\n",
       "            \"name\": \"csharp\"\n",
       "          }\n",
       "        ]\n",
       "      }\n",
       "    }\n",
       "  },\n",
       "  \"nbformat\": 4,\n",
       "  \"nbformat_minor\": 2\n",
       "}"
      ]
     },
     "metadata": {},
     "output_type": "display_data"
    },
    {
     "data": {
      "text/plain": [
       "Exécution du notebook terminée."
      ]
     },
     "metadata": {},
     "output_type": "display_data"
    },
    {
     "data": {
      "text/plain": [
       "Affichage du markdown: \n",
       "# Notebook de travail\n",
       "Ce notebook est généré pour accomplir la tâche suivante :\n",
       "## Description de la tâche\n",
       "Créer un notebook .Net interactive permettant de requêter DBPedia. \n",
       "Utilisant le package Nuget dotNetRDF. \n",
       "Utiliser également Plotly ou Xplot pour afficher un graphique synthétisant les résultats.\n"
      ]
     },
     "metadata": {},
     "output_type": "display_data"
    },
    {
     "data": {
      "text/markdown": [
       "# Notebook de travail\n",
       "Ce notebook est généré pour accomplir la tâche suivante :\n",
       "## Description de la tâche\n",
       "Créer un notebook .Net interactive permettant de requêter DBPedia. \n",
       "Utilisant le package Nuget dotNetRDF. \n",
       "Utiliser également Plotly ou Xplot pour afficher un graphique synthétisant les résultats.\n"
      ]
     },
     "metadata": {},
     "output_type": "display_data"
    },
    {
     "data": {
      "text/plain": [
       "Affichage du markdown: \n",
       "## Préparation de l'environnement\n",
       "Nous allons d'abord installer et importer les bibliothèques nécessaires."
      ]
     },
     "metadata": {},
     "output_type": "display_data"
    },
    {
     "data": {
      "text/markdown": [
       "## Préparation de l'environnement\n",
       "Nous allons d'abord installer et importer les bibliothèques nécessaires."
      ]
     },
     "metadata": {},
     "output_type": "display_data"
    },
    {
     "data": {
      "text/plain": [
       "Envoi du code au kernel csharp:\n",
       "// Installation des bibliothèques Nuget\n",
       "#r \"nuget: dotNetRDF\"\n",
       "#r \"nuget: XPlot.Plotly\""
      ]
     },
     "metadata": {},
     "output_type": "display_data"
    },
    {
     "data": {
      "text/html": [
       "<div><div></div><div></div><div><strong>Installed Packages</strong><ul><li><span>dotNetRDF, 3.1.1</span></li><li><span>XPlot.Plotly, 4.1.0</span></li></ul></div></div>"
      ]
     },
     "metadata": {},
     "output_type": "display_data"
    },
    {
     "data": {
      "text/html": [
       "<details open=\"open\" class=\"dni-treeview\"><summary><span class=\"dni-code-hint\"><code>Microsoft.DotNet.Interactive.KernelCommandResult</code></span></summary><div><table><thead><tr></tr></thead><tbody><tr><td>Command</td><td><details class=\"dni-treeview\"><summary><span class=\"dni-code-hint\"><code>SubmitCode: // Installation des biblioth&#232;ques Nuget ...</code></span></summary><div><table><thead><tr></tr></thead><tbody><tr><td>Code</td><td><div class=\"dni-plaintext\"><pre>// Installation des biblioth&#232;ques Nuget\n",
       "#r &quot;nuget: dotNetRDF&quot;\n",
       "#r &quot;nuget: XPlot.Plotly&quot;</pre></div></td></tr><tr><td>Handler</td><td><div class=\"dni-plaintext\"><pre>&lt;null&gt;</pre></div></td></tr><tr><td>Parent</td><td><details class=\"dni-treeview\"><summary><span class=\"dni-code-hint\"><code>SubmitCode: var logger = new DisplayLogger(&quot;NotebookUpdater&quot;,  ...</code></span></summary><div><table><thead><tr></tr></thead><tbody><tr><td>Code</td><td><div class=\"dni-plaintext\"><pre>var logger = new DisplayLogger(&quot;NotebookUpdater&quot;, LogLevel.Information);\n",
       "\n",
       "display(&quot;Cr&#233;ation de l&#39;instance NotebookUpdater...&quot;);\n",
       "var updater = new NotebookUpdater(semanticKernel, notebookPath, logger);\n",
       "\n",
       "display(&quot;Appel &#224; UpdateNotebook...&quot;);\n",
       "var response = await updater.UpdateNotebook();\n",
       "\n",
       "display($&quot;R&#233;sultat de l&#39;ex&#233;cution du notebook :\\n{response}&quot;);\n",
       "</pre></div></td></tr><tr><td>Handler</td><td><details class=\"dni-treeview\"><summary><span class=\"dni-code-hint\"><code>Microsoft.DotNet.Interactive.KernelCommandInvocation</code></span></summary><div><table><thead><tr></tr></thead><tbody><tr><td>Target</td><td><details class=\"dni-treeview\"><summary><span class=\"dni-code-hint\"><code>Microsoft.DotNet.Interactive.Kernel+&lt;&gt;c__DisplayClass82_0`1[Microsoft.DotNet.Interactive.Commands.SubmitCode]</code></span></summary><div><table><thead><tr></tr></thead><tbody><tr><td>handler</td><td><details class=\"dni-treeview\"><summary><span class=\"dni-code-hint\"><code>Microsoft.DotNet.Interactive.CSharp.CSharpKernel: csharp (kernel://pid-37992/csharp)</code></span></summary><div><table><thead><tr></tr></thead><tbody><tr><td>ScriptState</td><td>Microsoft.CodeAnalysis.Scripting.ScriptState`1[System.Object]</td></tr><tr><td>ParentKernel</td><td>[ Microsoft.DotNet.Interactive.SqlDiscoverabilityKernel: sql (kernel://pid-37992/sql), Microsoft.DotNet.Interactive.KqlDiscoverabilityKernel: kql (kernel://pid-37992/kql), Microsoft.DotNet.Interactive.CSharp.CSharpKernel: csharp (kernel://pid-37992/csharp), Microsoft.DotNet.Interactive.FSharp.FSharpKernel: fsharp (kernel://pid-37992/fsharp), Microsoft.DotNet.Interactive.PowerShell.PowerShellKernel: pwsh (kernel://pid-37992/pwsh), Microsoft.DotNet.Interactive.HtmlKernel: html (kernel://pid-37992/html), Microsoft.DotNet.Interactive.KeyValueStoreKernel: value (kernel://pid-37992/value), Microsoft.DotNet.Interactive.Mermaid.MermaidKernel: mermaid (kernel://pid-37992/mermaid), Microsoft.DotNet.Interactive.Http.HttpKernel: http (kernel://pid-37992/http), Microsoft.DotNet.Interactive.Connection.ProxyKernel: vscode (kernel://pid-37992/vscode -> kernel://vscode/), Microsoft.DotNet.Interactive.Connection.ProxyKernel: javascript (kernel://pid-37992/javascript -> kernel://webview/javascript) ]</td></tr><tr><td>RootKernel</td><td>[ Microsoft.DotNet.Interactive.SqlDiscoverabilityKernel: sql (kernel://pid-37992/sql), Microsoft.DotNet.Interactive.KqlDiscoverabilityKernel: kql (kernel://pid-37992/kql), Microsoft.DotNet.Interactive.CSharp.CSharpKernel: csharp (kernel://pid-37992/csharp), Microsoft.DotNet.Interactive.FSharp.FSharpKernel: fsharp (kernel://pid-37992/fsharp), Microsoft.DotNet.Interactive.PowerShell.PowerShellKernel: pwsh (kernel://pid-37992/pwsh), Microsoft.DotNet.Interactive.HtmlKernel: html (kernel://pid-37992/html), Microsoft.DotNet.Interactive.KeyValueStoreKernel: value (kernel://pid-37992/value), Microsoft.DotNet.Interactive.Mermaid.MermaidKernel: mermaid (kernel://pid-37992/mermaid), Microsoft.DotNet.Interactive.Http.HttpKernel: http (kernel://pid-37992/http), Microsoft.DotNet.Interactive.Connection.ProxyKernel: vscode (kernel://pid-37992/vscode -> kernel://vscode/), Microsoft.DotNet.Interactive.Connection.ProxyKernel: javascript (kernel://pid-37992/javascript -> kernel://webview/javascript) ]</td></tr><tr><td>SubmissionCount</td><td>0</td></tr><tr><td>SubmissionParser</td><td>Microsoft.DotNet.Interactive.Parsing.SubmissionParser</td></tr><tr><td>FrontendEnvironment</td><td>Microsoft.DotNet.Interactive.Http.BrowserFrontendEnvironment</td></tr><tr><td>KernelEvents</td><td>System.Reactive.Subjects.Subject`1[Microsoft.DotNet.Interactive.Events.KernelEvent]</td></tr><tr><td>Name</td><td>csharp</td></tr><tr><td>KernelInfo</td><td>csharp (kernel://pid-37992/csharp)</td></tr><tr><td>Directives</td><td>[ [ Argument: source ], [ Argument: package ], [  ], [  ], [  ], [ Option`1: from, Option`1: mime-type, Option`1: as, Argument: name ], [ Option`1: name, Option`1: value, Option`1: mime-type, Option`1: byref ], [  ] ]</td></tr><tr><td>ChooseKernelDirective</td><td>[  ]</td></tr></tbody></table></div></details></td></tr><tr><td>command</td><td><details class=\"dni-treeview\"><summary><span class=\"dni-code-hint\"><code>SubmitCode: var logger = new DisplayLogger(&quot;NotebookUpdater&quot;,  ...</code></span></summary><div><table><thead><tr></tr></thead><tbody><tr><td>Code</td><td>var logger = new DisplayLogger(\"NotebookUpdater\", LogLevel.Information);\n",
       "\n",
       "display(\"Création de l'instance NotebookUpdater...\");\n",
       "var updater = new NotebookUpdater(semanticKernel, notebookPath, logger);\n",
       "\n",
       "display(\"Appel à UpdateNotebook...\");\n",
       "var response = await updater.UpdateNotebook();\n",
       "\n",
       "display($\"Résultat de l'exécution du notebook :\\n{response}\");\n",
       "</td></tr><tr><td>Handler</td><td>Microsoft.DotNet.Interactive.KernelCommandInvocation</td></tr><tr><td>Parent</td><td><div class=\"dni-plaintext\"><pre>&lt;null&gt;</pre></div></td></tr><tr><td>TargetKernelName</td><td>csharp</td></tr><tr><td>OriginUri</td><td><div class=\"dni-plaintext\"><pre>&lt;null&gt;</pre></div></td></tr><tr><td>DestinationUri</td><td><div class=\"dni-plaintext\"><pre>&lt;null&gt;</pre></div></td></tr><tr><td>KernelChooserParseResult</td><td><div class=\"dni-plaintext\"><pre>&lt;null&gt;</pre></div></td></tr><tr><td>RoutingSlip</td><td>[kernel://pid-37992/ (arrived), kernel://pid-37992/csharp (arrived)]</td></tr></tbody></table></div></details></td></tr></tbody></table></div></details></td></tr><tr><td>Method</td><td><details class=\"dni-treeview\"><summary><span class=\"dni-code-hint\"><code>System.Threading.Tasks.Task &lt;SetHandler&gt;b__0(Microsoft.DotNet.Interactive.Commands.KernelCommand, Microsoft.DotNet.Interactive.KernelInvocationContext)</code></span></summary><div><table><thead><tr></tr></thead><tbody><tr><td>Name</td><td><div class=\"dni-plaintext\"><pre>&lt;SetHandler&gt;b__0</pre></div></td></tr><tr><td>DeclaringType</td><td><span><a href=\"https://docs.microsoft.com/dotnet/api/microsoft.dotnet.interactive.kernel.&lt;>c__displayclass82_0-1?view=net-7.0\">Microsoft.DotNet.Interactive.Kernel+&lt;&gt;c__DisplayClass82_0&lt;Microsoft.DotNet.Interactive.Commands.SubmitCode&gt;</a></span></td></tr><tr><td>ReflectedType</td><td><span><a href=\"https://docs.microsoft.com/dotnet/api/microsoft.dotnet.interactive.kernel.&lt;>c__displayclass82_0-1?view=net-7.0\">Microsoft.DotNet.Interactive.Kernel+&lt;&gt;c__DisplayClass82_0&lt;Microsoft.DotNet.Interactive.Commands.SubmitCode&gt;</a></span></td></tr><tr><td>MemberType</td><td><span>Method</span></td></tr><tr><td>MetadataToken</td><td><div class=\"dni-plaintext\"><pre>100664828</pre></div></td></tr><tr><td>Module</td><td><details class=\"dni-treeview\"><summary><span class=\"dni-code-hint\"><code>Microsoft.DotNet.Interactive.dll</code></span></summary><div><table><thead><tr></tr></thead><tbody><tr><td>MDStreamVersion</td><td>131072</td></tr><tr><td>FullyQualifiedName</td><td>C:\\Users\\Administrateur.000\\.nuget\\packages\\microsoft.dotnet-interactive\\1.0.522904\\tools\\net8.0\\any\\Microsoft.DotNet.Interactive.dll</td></tr><tr><td>ModuleVersionId</td><td>ee6aec0a-8e1f-4e4c-97e3-57418e1dc7e0</td></tr><tr><td>MetadataToken</td><td>1</td></tr><tr><td>ScopeName</td><td>Microsoft.DotNet.Interactive.dll</td></tr><tr><td>Name</td><td>Microsoft.DotNet.Interactive.dll</td></tr><tr><td>Assembly</td><td>Microsoft.DotNet.Interactive, Version=1.0.0.0, Culture=neutral, PublicKeyToken=31bf3856ad364e35</td></tr><tr><td>ModuleHandle</td><td>System.ModuleHandle</td></tr><tr><td>CustomAttributes</td><td>[ [System.Runtime.CompilerServices.RefSafetyRulesAttribute((Int32)11)] ]</td></tr></tbody></table></div></details></td></tr><tr><td>IsSecurityCritical</td><td><div class=\"dni-plaintext\"><pre>True</pre></div></td></tr><tr><td>IsSecuritySafeCritical</td><td><div class=\"dni-plaintext\"><pre>False</pre></div></td></tr><tr><td>IsSecurityTransparent</td><td><div class=\"dni-plaintext\"><pre>False</pre></div></td></tr><tr><td>MethodHandle</td><td><details class=\"dni-treeview\"><summary><span class=\"dni-code-hint\"><code>System.RuntimeMethodHandle</code></span></summary><div><table><thead><tr></tr></thead><tbody><tr><td>Value</td><td>140731641892472</td></tr></tbody></table></div></details></td></tr><tr><td>Attributes</td><td><span>Assembly, HideBySig</span></td></tr><tr><td>CallingConvention</td><td><span>Standard, HasThis</span></td></tr><tr><td>ReturnType</td><td><span><a href=\"https://docs.microsoft.com/dotnet/api/system.threading.tasks.task?view=net-7.0\">System.Threading.Tasks.Task</a></span></td></tr><tr><td>ReturnTypeCustomAttributes</td><td><details class=\"dni-treeview\"><summary><span class=\"dni-code-hint\"><code>System.Threading.Tasks.Task</code></span></summary><div><table><thead><tr></tr></thead><tbody><tr><td>ParameterType</td><td>System.Threading.Tasks.Task</td></tr><tr><td>Name</td><td><div class=\"dni-plaintext\"><pre>&lt;null&gt;</pre></div></td></tr><tr><td>HasDefaultValue</td><td>False</td></tr><tr><td>DefaultValue</td><td></td></tr><tr><td>RawDefaultValue</td><td></td></tr><tr><td>MetadataToken</td><td>134217728</td></tr><tr><td>Attributes</td><td>None</td></tr><tr><td>Member</td><td>System.Threading.Tasks.Task <SetHandler>b__0(Microsoft.DotNet.Interactive.Commands.KernelCommand, Microsoft.DotNet.Interactive.KernelInvocationContext)</td></tr><tr><td>Position</td><td>-1</td></tr><tr><td>IsIn</td><td>False</td></tr><tr><td>IsLcid</td><td>False</td></tr><tr><td>IsOptional</td><td>False</td></tr><tr><td>IsOut</td><td>False</td></tr><tr><td>IsRetval</td><td>False</td></tr><tr><td>CustomAttributes</td><td>[  ]</td></tr></tbody></table></div></details></td></tr><tr><td>ReturnParameter</td><td><details class=\"dni-treeview\"><summary><span class=\"dni-code-hint\"><code>System.Threading.Tasks.Task</code></span></summary><div><table><thead><tr></tr></thead><tbody><tr><td>ParameterType</td><td>System.Threading.Tasks.Task</td></tr><tr><td>Name</td><td><div class=\"dni-plaintext\"><pre>&lt;null&gt;</pre></div></td></tr><tr><td>HasDefaultValue</td><td>False</td></tr><tr><td>DefaultValue</td><td></td></tr><tr><td>RawDefaultValue</td><td></td></tr><tr><td>MetadataToken</td><td>134217728</td></tr><tr><td>Attributes</td><td>None</td></tr><tr><td>Member</td><td>System.Threading.Tasks.Task <SetHandler>b__0(Microsoft.DotNet.Interactive.Commands.KernelCommand, Microsoft.DotNet.Interactive.KernelInvocationContext)</td></tr><tr><td>Position</td><td>-1</td></tr><tr><td>IsIn</td><td>False</td></tr><tr><td>IsLcid</td><td>False</td></tr><tr><td>IsOptional</td><td>False</td></tr><tr><td>IsOut</td><td>False</td></tr><tr><td>IsRetval</td><td>False</td></tr><tr><td>CustomAttributes</td><td>[  ]</td></tr></tbody></table></div></details></td></tr><tr><td>IsCollectible</td><td><div class=\"dni-plaintext\"><pre>False</pre></div></td></tr><tr><td>IsGenericMethod</td><td><div class=\"dni-plaintext\"><pre>False</pre></div></td></tr><tr><td>IsGenericMethodDefinition</td><td><div class=\"dni-plaintext\"><pre>False</pre></div></td></tr><tr><td>ContainsGenericParameters</td><td><div class=\"dni-plaintext\"><pre>False</pre></div></td></tr><tr><td>MethodImplementationFlags</td><td><span>IL</span></td></tr><tr><td>IsAbstract</td><td><div class=\"dni-plaintext\"><pre>False</pre></div></td></tr><tr><td>IsConstructor</td><td><div class=\"dni-plaintext\"><pre>False</pre></div></td></tr><tr><td>IsFinal</td><td><div class=\"dni-plaintext\"><pre>False</pre></div></td></tr><tr><td>IsHideBySig</td><td><div class=\"dni-plaintext\"><pre>True</pre></div></td></tr><tr><td>IsSpecialName</td><td><div class=\"dni-plaintext\"><pre>False</pre></div></td></tr><tr><td>IsStatic</td><td><div class=\"dni-plaintext\"><pre>False</pre></div></td></tr><tr><td>IsVirtual</td><td><div class=\"dni-plaintext\"><pre>False</pre></div></td></tr><tr><td>IsAssembly</td><td><div class=\"dni-plaintext\"><pre>True</pre></div></td></tr><tr><td>IsFamily</td><td><div class=\"dni-plaintext\"><pre>False</pre></div></td></tr><tr><td>IsFamilyAndAssembly</td><td><div class=\"dni-plaintext\"><pre>False</pre></div></td></tr><tr><td>IsFamilyOrAssembly</td><td><div class=\"dni-plaintext\"><pre>False</pre></div></td></tr><tr><td>IsPrivate</td><td><div class=\"dni-plaintext\"><pre>False</pre></div></td></tr><tr><td>IsPublic</td><td><div class=\"dni-plaintext\"><pre>False</pre></div></td></tr><tr><td>IsConstructedGenericMethod</td><td><div class=\"dni-plaintext\"><pre>False</pre></div></td></tr><tr><td>CustomAttributes</td><td><i>(empty)</i></td></tr></tbody></table></div></details></td></tr></tbody></table></div></details></td></tr><tr><td>Parent</td><td><div class=\"dni-plaintext\"><pre>&lt;null&gt;</pre></div></td></tr><tr><td>TargetKernelName</td><td><div class=\"dni-plaintext\"><pre>csharp</pre></div></td></tr><tr><td>OriginUri</td><td><div class=\"dni-plaintext\"><pre>&lt;null&gt;</pre></div></td></tr><tr><td>DestinationUri</td><td><div class=\"dni-plaintext\"><pre>&lt;null&gt;</pre></div></td></tr><tr><td>KernelChooserParseResult</td><td><div class=\"dni-plaintext\"><pre>&lt;null&gt;</pre></div></td></tr><tr><td>RoutingSlip</td><td><div class=\"dni-plaintext\"><pre>[ kernel://pid-37992/ (arrived), kernel://pid-37992/csharp (arrived) ]</pre></div></td></tr></tbody></table></div></details></td></tr><tr><td>TargetKernelName</td><td><div class=\"dni-plaintext\"><pre>csharp</pre></div></td></tr><tr><td>OriginUri</td><td><div class=\"dni-plaintext\"><pre>&lt;null&gt;</pre></div></td></tr><tr><td>DestinationUri</td><td><div class=\"dni-plaintext\"><pre>&lt;null&gt;</pre></div></td></tr><tr><td>KernelChooserParseResult</td><td><div class=\"dni-plaintext\"><pre>&lt;null&gt;</pre></div></td></tr><tr><td>RoutingSlip</td><td><div class=\"dni-plaintext\"><pre>[  ]</pre></div></td></tr></tbody></table></div></details></td></tr><tr><td>Events</td><td><i>(empty)</i></td></tr></tbody></table></div></details><style>\r\n",
       ".dni-code-hint {\r\n",
       "    font-style: italic;\r\n",
       "    overflow: hidden;\r\n",
       "    white-space: nowrap;\r\n",
       "}\r\n",
       ".dni-treeview {\r\n",
       "    white-space: nowrap;\r\n",
       "}\r\n",
       ".dni-treeview td {\r\n",
       "    vertical-align: top;\r\n",
       "    text-align: start;\r\n",
       "}\r\n",
       "details.dni-treeview {\r\n",
       "    padding-left: 1em;\r\n",
       "}\r\n",
       "table td {\r\n",
       "    text-align: start;\r\n",
       "}\r\n",
       "table tr { \r\n",
       "    vertical-align: top; \r\n",
       "    margin: 0em 0px;\r\n",
       "}\r\n",
       "table tr td pre \r\n",
       "{ \r\n",
       "    vertical-align: top !important; \r\n",
       "    margin: 0em 0px !important;\r\n",
       "} \r\n",
       "table th {\r\n",
       "    text-align: start;\r\n",
       "}\r\n",
       "</style>"
      ]
     },
     "metadata": {},
     "output_type": "display_data"
    },
    {
     "data": {
      "text/plain": [
       "Envoi du code au kernel csharp:\n",
       "// Importation des espaces de noms utiles\n",
       "using VDS.RDF;\n",
       "using VDS.RDF.Query;\n",
       "using XPlot.Plotly;"
      ]
     },
     "metadata": {},
     "output_type": "display_data"
    },
    {
     "data": {
      "text/html": [
       "<details open=\"open\" class=\"dni-treeview\"><summary><span class=\"dni-code-hint\"><code>Microsoft.DotNet.Interactive.KernelCommandResult</code></span></summary><div><table><thead><tr></tr></thead><tbody><tr><td>Command</td><td><details class=\"dni-treeview\"><summary><span class=\"dni-code-hint\"><code>SubmitCode: // Importation des espaces de noms utiles ...</code></span></summary><div><table><thead><tr></tr></thead><tbody><tr><td>Code</td><td><div class=\"dni-plaintext\"><pre>// Importation des espaces de noms utiles\n",
       "using VDS.RDF;\n",
       "using VDS.RDF.Query;\n",
       "using XPlot.Plotly;</pre></div></td></tr><tr><td>Handler</td><td><details class=\"dni-treeview\"><summary><span class=\"dni-code-hint\"><code>Microsoft.DotNet.Interactive.KernelCommandInvocation</code></span></summary><div><table><thead><tr></tr></thead><tbody><tr><td>Target</td><td><details class=\"dni-treeview\"><summary><span class=\"dni-code-hint\"><code>Microsoft.DotNet.Interactive.Kernel+&lt;&gt;c__DisplayClass82_0`1[Microsoft.DotNet.Interactive.Commands.SubmitCode]</code></span></summary><div><table><thead><tr></tr></thead><tbody><tr><td>handler</td><td><details class=\"dni-treeview\"><summary><span class=\"dni-code-hint\"><code>Microsoft.DotNet.Interactive.CSharp.CSharpKernel: csharp (kernel://local/csharp)</code></span></summary><div><table><thead><tr></tr></thead><tbody><tr><td>ScriptState</td><td><details class=\"dni-treeview\"><summary><span class=\"dni-code-hint\"><code>Microsoft.CodeAnalysis.Scripting.ScriptState`1[System.Object]</code></span></summary><div><table><thead><tr></tr></thead><tbody><tr><td>ReturnValue</td><td>Microsoft.CodeAnalysis.Scripting.ScriptState`1[System.Object]</td></tr><tr><td>Script</td><td>Microsoft.CodeAnalysis.Scripting.Script`1[System.Object]</td></tr><tr><td>Exception</td><td><div class=\"dni-plaintext\"><pre>&lt;null&gt;</pre></div></td></tr><tr><td>ReturnValue</td><td>Microsoft.CodeAnalysis.Scripting.ScriptState`1[System.Object]</td></tr><tr><td>Variables</td><td>[  ]</td></tr></tbody></table></div></details></td></tr><tr><td>ParentKernel</td><td><details class=\"dni-treeview\"><summary><span class=\"dni-code-hint\"><code>[ Microsoft.DotNet.Interactive.CSharp.CSharpKernel: csharp (kernel://local/csharp) ]</code></span></summary><div><table><thead><tr></tr></thead><tbody><tr><td>DefaultKernelName</td><td>csharp</td></tr><tr><td>ChildKernels</td><td>[ Microsoft.DotNet.Interactive.CSharp.CSharpKernel: csharp (kernel://local/csharp) ]</td></tr><tr><td>Host</td><td><div class=\"dni-plaintext\"><pre>&lt;null&gt;</pre></div></td></tr><tr><td>ParentKernel</td><td><div class=\"dni-plaintext\"><pre>&lt;null&gt;</pre></div></td></tr><tr><td>RootKernel</td><td>[ Microsoft.DotNet.Interactive.CSharp.CSharpKernel: csharp (kernel://local/csharp) ]</td></tr><tr><td>SubmissionCount</td><td>0</td></tr><tr><td>SubmissionParser</td><td>Microsoft.DotNet.Interactive.Parsing.SubmissionParser</td></tr><tr><td>FrontendEnvironment</td><td>Microsoft.DotNet.Interactive.AutomationEnvironment</td></tr><tr><td>KernelEvents</td><td>System.Reactive.Subjects.Subject`1[Microsoft.DotNet.Interactive.Events.KernelEvent]</td></tr><tr><td>Name</td><td>.NET</td></tr><tr><td>KernelInfo</td><td>.NET (kernel://local/.NET)</td></tr><tr><td>Directives</td><td>[ [  ] ]</td></tr><tr><td>ChooseKernelDirective</td><td>[  ]</td></tr><tr><td><i>(values)</i></td><td><table><thead><tr><th><i>index</i></th><th>value</th></tr></thead><tbody><tr><td>0</td><td>Microsoft.DotNet.Interactive.CSharp.CSharpKernel: csharp (kernel://local/csharp)</td></tr></tbody></table></td></tr></tbody></table></div></details></td></tr><tr><td>RootKernel</td><td><details class=\"dni-treeview\"><summary><span class=\"dni-code-hint\"><code>[ Microsoft.DotNet.Interactive.CSharp.CSharpKernel: csharp (kernel://local/csharp) ]</code></span></summary><div><table><thead><tr></tr></thead><tbody><tr><td>DefaultKernelName</td><td>csharp</td></tr><tr><td>ChildKernels</td><td>[ Microsoft.DotNet.Interactive.CSharp.CSharpKernel: csharp (kernel://local/csharp) ]</td></tr><tr><td>Host</td><td><div class=\"dni-plaintext\"><pre>&lt;null&gt;</pre></div></td></tr><tr><td>ParentKernel</td><td><div class=\"dni-plaintext\"><pre>&lt;null&gt;</pre></div></td></tr><tr><td>RootKernel</td><td>[ Microsoft.DotNet.Interactive.CSharp.CSharpKernel: csharp (kernel://local/csharp) ]</td></tr><tr><td>SubmissionCount</td><td>0</td></tr><tr><td>SubmissionParser</td><td>Microsoft.DotNet.Interactive.Parsing.SubmissionParser</td></tr><tr><td>FrontendEnvironment</td><td>Microsoft.DotNet.Interactive.AutomationEnvironment</td></tr><tr><td>KernelEvents</td><td>System.Reactive.Subjects.Subject`1[Microsoft.DotNet.Interactive.Events.KernelEvent]</td></tr><tr><td>Name</td><td>.NET</td></tr><tr><td>KernelInfo</td><td>.NET (kernel://local/.NET)</td></tr><tr><td>Directives</td><td>[ [  ] ]</td></tr><tr><td>ChooseKernelDirective</td><td>[  ]</td></tr><tr><td><i>(values)</i></td><td><table><thead><tr><th><i>index</i></th><th>value</th></tr></thead><tbody><tr><td>0</td><td>Microsoft.DotNet.Interactive.CSharp.CSharpKernel: csharp (kernel://local/csharp)</td></tr></tbody></table></td></tr></tbody></table></div></details></td></tr><tr><td>SubmissionCount</td><td><div class=\"dni-plaintext\"><pre>0</pre></div></td></tr><tr><td>SubmissionParser</td><td><details class=\"dni-treeview\"><summary><span class=\"dni-code-hint\"><code>Microsoft.DotNet.Interactive.Parsing.SubmissionParser</code></span></summary><div><table><thead><tr></tr></thead><tbody><tr><td>Directives</td><td>[ [  ], [  ], [ Option`1: from, Option`1: mime-type, Option`1: as, Argument: name ], [ Option`1: name, Option`1: value, Option`1: mime-type, Option`1: byref ], [ Argument: source ], [ Argument: package ], [  ] ]</td></tr></tbody></table></div></details></td></tr><tr><td>FrontendEnvironment</td><td><details class=\"dni-treeview\"><summary><span class=\"dni-code-hint\"><code>Microsoft.DotNet.Interactive.AutomationEnvironment</code></span></summary><div><table><thead><tr></tr></thead><tbody></tbody></table></div></details></td></tr><tr><td>KernelEvents</td><td><details class=\"dni-treeview\"><summary><span class=\"dni-code-hint\"><code>System.Reactive.Subjects.Subject`1[Microsoft.DotNet.Interactive.Events.KernelEvent]</code></span></summary><div><table><thead><tr></tr></thead><tbody><tr><td>HasObservers</td><td>True</td></tr><tr><td>IsDisposed</td><td>False</td></tr></tbody></table></div></details></td></tr><tr><td>Name</td><td><div class=\"dni-plaintext\"><pre>csharp</pre></div></td></tr><tr><td>KernelInfo</td><td><details class=\"dni-treeview\"><summary><span class=\"dni-code-hint\"><code>csharp (kernel://local/csharp)</code></span></summary><div><table><thead><tr></tr></thead><tbody><tr><td>Aliases</td><td>[  ]</td></tr><tr><td>LanguageName</td><td>C#</td></tr><tr><td>LanguageVersion</td><td>12.0</td></tr><tr><td>IsProxy</td><td>False</td></tr><tr><td>IsComposite</td><td>False</td></tr><tr><td>DisplayName</td><td>csharp - C# Script</td></tr><tr><td>LocalName</td><td>csharp</td></tr><tr><td>Uri</td><td>kernel://local/csharp</td></tr><tr><td>RemoteUri</td><td><div class=\"dni-plaintext\"><pre>&lt;null&gt;</pre></div></td></tr><tr><td>Description</td><td>This Kernel can compile and execute C# code and display the results.\r\n",
       "The language is C# Scripting, a dialect of C# that is used for interactive programming.\r\n",
       "\r\n",
       "Can load packages from nuget.org or any other nuget feed.</td></tr><tr><td>SupportedKernelCommands</td><td>[ KernelCommandInfo { Name = RequestKernelInfo }, KernelCommandInfo { Name = RequestCompletions }, KernelCommandInfo { Name = RequestDiagnostics }, KernelCommandInfo { Name = RequestHoverText }, KernelCommandInfo { Name = RequestSignatureHelp }, KernelCommandInfo { Name = RequestValue }, KernelCommandInfo { Name = RequestValueInfos }, KernelCommandInfo { Name = SendValue }, KernelCommandInfo { Name = SubmitCode } ]</td></tr><tr><td>SupportedDirectives</td><td>[ KernelDirectiveInfo { Name = #!who }, KernelDirectiveInfo { Name = #!whos }, KernelDirectiveInfo { Name = #!share }, KernelDirectiveInfo { Name = #!set }, KernelDirectiveInfo { Name = #i }, KernelDirectiveInfo { Name = #r }, KernelDirectiveInfo { Name = #!nuget-restore } ]</td></tr></tbody></table></div></details></td></tr><tr><td>Directives</td><td><table><thead><tr><th><i>index</i></th><th>value</th></tr></thead><tbody><tr><td>0</td><td></td></tr><tr><td>1</td><td></td></tr><tr><td>2</td><td>[ Option`1: from, Option`1: mime-type, Option`1: as, Argument: name ]</td></tr><tr><td>3</td><td>[ Option`1: name, Option`1: value, Option`1: mime-type, Option`1: byref ]</td></tr><tr><td>4</td><td>[ Argument: source ]</td></tr><tr><td>5</td><td>[ Argument: package ]</td></tr><tr><td>6</td><td></td></tr></tbody></table></td></tr><tr><td>ChooseKernelDirective</td><td><details class=\"dni-treeview\"><summary><span class=\"dni-code-hint\"><code>[  ]</code></span></summary><div><table><thead><tr></tr></thead><tbody><tr><td>Kernel</td><td>Microsoft.DotNet.Interactive.CSharp.CSharpKernel: csharp (kernel://local/csharp)</td></tr><tr><td>Children</td><td>[  ]</td></tr><tr><td>Arguments</td><td>[  ]</td></tr><tr><td>Options</td><td>[  ]</td></tr><tr><td>Subcommands</td><td>[  ]</td></tr><tr><td>TreatUnmatchedTokensAsErrors</td><td>True</td></tr><tr><td>Handler</td><td>System.CommandLine.NamingConventionBinder.ModelBindingCommandHandler</td></tr><tr><td>Aliases</td><td>[ #!csharp ]</td></tr><tr><td>Name</td><td>#!csharp</td></tr><tr><td>Description</td><td>Run the code that follows using the csharp kernel.</td></tr><tr><td>IsHidden</td><td>False</td></tr><tr><td>Parents</td><td>[ [ [  ], HelpOption: help ] ]</td></tr><tr><td><i>(values)</i></td><td><i>(empty)</i></td></tr></tbody></table></div></details></td></tr></tbody></table></div></details></td></tr><tr><td>command</td><td><details class=\"dni-treeview\"><summary><span class=\"dni-code-hint\"><code>SubmitCode: // Importation des espaces de noms utiles ...</code></span></summary><div><table><thead><tr></tr></thead><tbody><tr><td>Code</td><td><div class=\"dni-plaintext\"><pre>// Importation des espaces de noms utiles\n",
       "using VDS.RDF;\n",
       "using VDS.RDF.Query;\n",
       "using XPlot.Plotly;</pre></div></td></tr><tr><td>Handler</td><td><details class=\"dni-treeview\"><summary><span class=\"dni-code-hint\"><code>Microsoft.DotNet.Interactive.KernelCommandInvocation</code></span></summary><div><table><thead><tr></tr></thead><tbody><tr><td>Target</td><td>Microsoft.DotNet.Interactive.Kernel+<>c__DisplayClass82_0`1[Microsoft.DotNet.Interactive.Commands.SubmitCode]</td></tr><tr><td>Method</td><td>System.Threading.Tasks.Task <SetHandler>b__0(Microsoft.DotNet.Interactive.Commands.KernelCommand, Microsoft.DotNet.Interactive.KernelInvocationContext)</td></tr></tbody></table></div></details></td></tr><tr><td>Parent</td><td><details class=\"dni-treeview\"><summary><span class=\"dni-code-hint\"><code>SubmitCode: var logger = new DisplayLogger(&quot;NotebookUpdater&quot;,  ...</code></span></summary><div><table><thead><tr></tr></thead><tbody><tr><td>Code</td><td>var logger = new DisplayLogger(\"NotebookUpdater\", LogLevel.Information);\n",
       "\n",
       "display(\"Création de l'instance NotebookUpdater...\");\n",
       "var updater = new NotebookUpdater(semanticKernel, notebookPath, logger);\n",
       "\n",
       "display(\"Appel à UpdateNotebook...\");\n",
       "var response = await updater.UpdateNotebook();\n",
       "\n",
       "display($\"Résultat de l'exécution du notebook :\\n{response}\");\n",
       "</td></tr><tr><td>Handler</td><td>Microsoft.DotNet.Interactive.KernelCommandInvocation</td></tr><tr><td>Parent</td><td><div class=\"dni-plaintext\"><pre>&lt;null&gt;</pre></div></td></tr><tr><td>TargetKernelName</td><td>csharp</td></tr><tr><td>OriginUri</td><td><div class=\"dni-plaintext\"><pre>&lt;null&gt;</pre></div></td></tr><tr><td>DestinationUri</td><td><div class=\"dni-plaintext\"><pre>&lt;null&gt;</pre></div></td></tr><tr><td>KernelChooserParseResult</td><td><div class=\"dni-plaintext\"><pre>&lt;null&gt;</pre></div></td></tr><tr><td>RoutingSlip</td><td>[kernel://pid-37992/ (arrived), kernel://pid-37992/csharp (arrived)]</td></tr></tbody></table></div></details></td></tr><tr><td>TargetKernelName</td><td><div class=\"dni-plaintext\"><pre>csharp</pre></div></td></tr><tr><td>OriginUri</td><td><div class=\"dni-plaintext\"><pre>&lt;null&gt;</pre></div></td></tr><tr><td>DestinationUri</td><td><div class=\"dni-plaintext\"><pre>&lt;null&gt;</pre></div></td></tr><tr><td>KernelChooserParseResult</td><td><div class=\"dni-plaintext\"><pre>&lt;null&gt;</pre></div></td></tr><tr><td>RoutingSlip</td><td>[ kernel://local/.NET (arrived), kernel://local/csharp (arrived), kernel://local/csharp, kernel://local/.NET ]</td></tr></tbody></table></div></details></td></tr></tbody></table></div></details></td></tr><tr><td>Method</td><td><details class=\"dni-treeview\"><summary><span class=\"dni-code-hint\"><code>System.Threading.Tasks.Task &lt;SetHandler&gt;b__0(Microsoft.DotNet.Interactive.Commands.KernelCommand, Microsoft.DotNet.Interactive.KernelInvocationContext)</code></span></summary><div><table><thead><tr></tr></thead><tbody><tr><td>Name</td><td><div class=\"dni-plaintext\"><pre>&lt;SetHandler&gt;b__0</pre></div></td></tr><tr><td>DeclaringType</td><td><span><a href=\"https://docs.microsoft.com/dotnet/api/microsoft.dotnet.interactive.kernel.&lt;>c__displayclass82_0-1?view=net-7.0\">Microsoft.DotNet.Interactive.Kernel+&lt;&gt;c__DisplayClass82_0&lt;Microsoft.DotNet.Interactive.Commands.SubmitCode&gt;</a></span></td></tr><tr><td>ReflectedType</td><td><span><a href=\"https://docs.microsoft.com/dotnet/api/microsoft.dotnet.interactive.kernel.&lt;>c__displayclass82_0-1?view=net-7.0\">Microsoft.DotNet.Interactive.Kernel+&lt;&gt;c__DisplayClass82_0&lt;Microsoft.DotNet.Interactive.Commands.SubmitCode&gt;</a></span></td></tr><tr><td>MemberType</td><td><span>Method</span></td></tr><tr><td>MetadataToken</td><td><div class=\"dni-plaintext\"><pre>100664828</pre></div></td></tr><tr><td>Module</td><td><details class=\"dni-treeview\"><summary><span class=\"dni-code-hint\"><code>Microsoft.DotNet.Interactive.dll</code></span></summary><div><table><thead><tr></tr></thead><tbody><tr><td>MDStreamVersion</td><td><div class=\"dni-plaintext\"><pre>131072</pre></div></td></tr><tr><td>FullyQualifiedName</td><td><div class=\"dni-plaintext\"><pre>C:\\Users\\Administrateur.000\\.nuget\\packages\\microsoft.dotnet-interactive\\1.0.522904\\tools\\net8.0\\any\\Microsoft.DotNet.Interactive.dll</pre></div></td></tr><tr><td>ModuleVersionId</td><td><div class=\"dni-plaintext\"><pre>ee6aec0a-8e1f-4e4c-97e3-57418e1dc7e0</pre></div></td></tr><tr><td>MetadataToken</td><td><div class=\"dni-plaintext\"><pre>1</pre></div></td></tr><tr><td>ScopeName</td><td><div class=\"dni-plaintext\"><pre>Microsoft.DotNet.Interactive.dll</pre></div></td></tr><tr><td>Name</td><td><div class=\"dni-plaintext\"><pre>Microsoft.DotNet.Interactive.dll</pre></div></td></tr><tr><td>Assembly</td><td><details class=\"dni-treeview\"><summary><span class=\"dni-code-hint\"><code>Microsoft.DotNet.Interactive, Version=1.0.0.0, Culture=neutral, PublicKeyToken=31bf3856ad364e35</code></span></summary><div><table><thead><tr></tr></thead><tbody><tr><td>CodeBase</td><td>file:///C:/Users/Administrateur.000/.nuget/packages/microsoft.dotnet-interactive/1.0.522904/tools/net8.0/any/Microsoft.DotNet.Interactive.dll</td></tr><tr><td>FullName</td><td>Microsoft.DotNet.Interactive, Version=1.0.0.0, Culture=neutral, PublicKeyToken=31bf3856ad364e35</td></tr><tr><td>EntryPoint</td><td><div class=\"dni-plaintext\"><pre>&lt;null&gt;</pre></div></td></tr><tr><td>DefinedTypes</td><td>[ <>f__AnonymousType0`2[<Command>j__TPar,<ValueInfos>j__TPar], System.DisplayExtensions, System.Runtime.CompilerServices.IsExternalInit, Microsoft.DotNet.Interactive.AutomationEnvironment, Microsoft.DotNet.Interactive.Base64EncodedAssembly, Microsoft.DotNet.Interactive.ChooseKernelDirective, Microsoft.DotNet.Interactive.ChooseKeyValueStoreKernelDirective, Microsoft.DotNet.Interactive.CodeSubmissionCompilationErrorException, Microsoft.DotNet.Interactive.CommandNotSupportedException, Microsoft.DotNet.Interactive.CommandRoutingSlip, Microsoft.DotNet.Interactive.CompositeKernel, Microsoft.DotNet.Interactive.DataDictionaryConverter, Microsoft.DotNet.Interactive.DataExplorer, Microsoft.DotNet.Interactive.DataExplorerFormatterSource, Microsoft.DotNet.Interactive.DataExplorer`1[TData], Microsoft.DotNet.Interactive.Diagnostic, Microsoft.DotNet.Interactive.DisplayedValue, Microsoft.DotNet.Interactive.EventRoutingSlip, Microsoft.DotNet.Interactive.FormattedValue, Microsoft.DotNet.Interactive.FrontendEnvironment ... (457 more) ]</td></tr><tr><td>IsCollectible</td><td>False</td></tr><tr><td>ManifestModule</td><td>Microsoft.DotNet.Interactive.dll</td></tr><tr><td>ReflectionOnly</td><td>False</td></tr><tr><td>Location</td><td>C:\\Users\\Administrateur.000\\.nuget\\packages\\microsoft.dotnet-interactive\\1.0.522904\\tools\\net8.0\\any\\Microsoft.DotNet.Interactive.dll</td></tr><tr><td>ImageRuntimeVersion</td><td>v4.0.30319</td></tr><tr><td>GlobalAssemblyCache</td><td>False</td></tr><tr><td>HostContext</td><td>0</td></tr><tr><td>IsDynamic</td><td>False</td></tr><tr><td>ExportedTypes</td><td>[ System.DisplayExtensions, Microsoft.DotNet.Interactive.AutomationEnvironment, Microsoft.DotNet.Interactive.Base64EncodedAssembly, Microsoft.DotNet.Interactive.ChooseKernelDirective, Microsoft.DotNet.Interactive.ChooseKeyValueStoreKernelDirective, Microsoft.DotNet.Interactive.CodeSubmissionCompilationErrorException, Microsoft.DotNet.Interactive.CommandNotSupportedException, Microsoft.DotNet.Interactive.CommandRoutingSlip, Microsoft.DotNet.Interactive.CompositeKernel, Microsoft.DotNet.Interactive.DataDictionaryConverter, Microsoft.DotNet.Interactive.DataExplorer, Microsoft.DotNet.Interactive.DataExplorer`1[TData], Microsoft.DotNet.Interactive.Diagnostic, Microsoft.DotNet.Interactive.DisplayedValue, Microsoft.DotNet.Interactive.EventRoutingSlip, Microsoft.DotNet.Interactive.FormattedValue, Microsoft.DotNet.Interactive.FrontendEnvironment, Microsoft.DotNet.Interactive.HtmlKernel, Microsoft.DotNet.Interactive.IKernelCommandHandler`1[TCommand], Microsoft.DotNet.Interactive.IKernelExtension ... (139 more) ]</td></tr><tr><td>IsFullyTrusted</td><td>True</td></tr><tr><td>CustomAttributes</td><td>[ [System.Runtime.CompilerServices.ExtensionAttribute()], [System.Runtime.CompilerServices.CompilationRelaxationsAttribute((Int32)8)], [System.Runtime.CompilerServices.RuntimeCompatibilityAttribute(WrapNonExceptionThrows = True)], [System.Diagnostics.DebuggableAttribute((System.Diagnostics.DebuggableAttribute+DebuggingModes)2)], [System.Runtime.Versioning.TargetFrameworkAttribute(\".NETCoreApp,Version=v8.0\", FrameworkDisplayName = \".NET 8.0\")], [System.Reflection.AssemblyCompanyAttribute(\"Microsoft Corporation\")], [System.Reflection.AssemblyConfigurationAttribute(\"Release\")], [System.Reflection.AssemblyCopyrightAttribute(\"© Microsoft Corporation. All rights reserved.\")], [System.Reflection.AssemblyFileVersionAttribute(\"1.0.24.22904\")], [System.Reflection.AssemblyInformationalVersionAttribute(\"1.0.0-beta.24229.4+cdfa48b2ea1a27dfe0f545c42a34fd3ec7119074\")], [System.Reflection.AssemblyProductAttribute(\"Microsoft.DotNet.Interactive\")], [System.Reflection.AssemblyTitleAttribute(\"Microsoft.DotNet.Interactive\")], [System.Reflection.AssemblyMetadataAttribute(\"RepositoryUrl\", \"https://github.com/dotnet/interactive\")], [System.Resources.NeutralResourcesLanguageAttribute(\"en-US\")] ]</td></tr><tr><td>EscapedCodeBase</td><td>file:///C:/Users/Administrateur.000/.nuget/packages/microsoft.dotnet-interactive/1.0.522904/tools/net8.0/any/Microsoft.DotNet.Interactive.dll</td></tr><tr><td>Modules</td><td>[ Microsoft.DotNet.Interactive.dll ]</td></tr><tr><td>SecurityRuleSet</td><td>None</td></tr></tbody></table></div></details></td></tr><tr><td>ModuleHandle</td><td><details class=\"dni-treeview\"><summary><span class=\"dni-code-hint\"><code>System.ModuleHandle</code></span></summary><div><table><thead><tr></tr></thead><tbody><tr><td>MDStreamVersion</td><td>131072</td></tr></tbody></table></div></details></td></tr><tr><td>CustomAttributes</td><td><table><thead><tr><th><i>index</i></th><th>value</th></tr></thead><tbody><tr><td>0</td><td>[System.Runtime.CompilerServices.RefSafetyRulesAttribute((Int32)11)]</td></tr></tbody></table></td></tr></tbody></table></div></details></td></tr><tr><td>IsSecurityCritical</td><td><div class=\"dni-plaintext\"><pre>True</pre></div></td></tr><tr><td>IsSecuritySafeCritical</td><td><div class=\"dni-plaintext\"><pre>False</pre></div></td></tr><tr><td>IsSecurityTransparent</td><td><div class=\"dni-plaintext\"><pre>False</pre></div></td></tr><tr><td>MethodHandle</td><td><details class=\"dni-treeview\"><summary><span class=\"dni-code-hint\"><code>System.RuntimeMethodHandle</code></span></summary><div><table><thead><tr></tr></thead><tbody><tr><td>Value</td><td><div class=\"dni-plaintext\"><pre>140731641892472</pre></div></td></tr></tbody></table></div></details></td></tr><tr><td>Attributes</td><td><span>Assembly, HideBySig</span></td></tr><tr><td>CallingConvention</td><td><span>Standard, HasThis</span></td></tr><tr><td>ReturnType</td><td><span><a href=\"https://docs.microsoft.com/dotnet/api/system.threading.tasks.task?view=net-7.0\">System.Threading.Tasks.Task</a></span></td></tr><tr><td>ReturnTypeCustomAttributes</td><td><details class=\"dni-treeview\"><summary><span class=\"dni-code-hint\"><code>System.Threading.Tasks.Task</code></span></summary><div><table><thead><tr></tr></thead><tbody><tr><td>ParameterType</td><td><span><a href=\"https://docs.microsoft.com/dotnet/api/system.threading.tasks.task?view=net-7.0\">System.Threading.Tasks.Task</a></span></td></tr><tr><td>Name</td><td><div class=\"dni-plaintext\"><pre>&lt;null&gt;</pre></div></td></tr><tr><td>HasDefaultValue</td><td><div class=\"dni-plaintext\"><pre>False</pre></div></td></tr><tr><td>DefaultValue</td><td><details class=\"dni-treeview\"><summary><span class=\"dni-code-hint\"><code></code></span></summary><div><table><thead><tr></tr></thead><tbody></tbody></table></div></details></td></tr><tr><td>RawDefaultValue</td><td><details class=\"dni-treeview\"><summary><span class=\"dni-code-hint\"><code></code></span></summary><div><table><thead><tr></tr></thead><tbody></tbody></table></div></details></td></tr><tr><td>MetadataToken</td><td><div class=\"dni-plaintext\"><pre>134217728</pre></div></td></tr><tr><td>Attributes</td><td><span>None</span></td></tr><tr><td>Member</td><td><details class=\"dni-treeview\"><summary><span class=\"dni-code-hint\"><code>System.Threading.Tasks.Task &lt;SetHandler&gt;b__0(Microsoft.DotNet.Interactive.Commands.KernelCommand, Microsoft.DotNet.Interactive.KernelInvocationContext)</code></span></summary><div><table><thead><tr></tr></thead><tbody><tr><td>Name</td><td><SetHandler>b__0</td></tr><tr><td>DeclaringType</td><td>Microsoft.DotNet.Interactive.Kernel+<>c__DisplayClass82_0`1[Microsoft.DotNet.Interactive.Commands.SubmitCode]</td></tr><tr><td>ReflectedType</td><td>Microsoft.DotNet.Interactive.Kernel+<>c__DisplayClass82_0`1[Microsoft.DotNet.Interactive.Commands.SubmitCode]</td></tr><tr><td>MemberType</td><td>Method</td></tr><tr><td>MetadataToken</td><td>100664828</td></tr><tr><td>Module</td><td>Microsoft.DotNet.Interactive.dll</td></tr><tr><td>IsSecurityCritical</td><td>True</td></tr><tr><td>IsSecuritySafeCritical</td><td>False</td></tr><tr><td>IsSecurityTransparent</td><td>False</td></tr><tr><td>MethodHandle</td><td>System.RuntimeMethodHandle</td></tr><tr><td>Attributes</td><td>Assembly, HideBySig</td></tr><tr><td>CallingConvention</td><td>Standard, HasThis</td></tr><tr><td>ReturnType</td><td>System.Threading.Tasks.Task</td></tr><tr><td>ReturnTypeCustomAttributes</td><td>System.Threading.Tasks.Task</td></tr><tr><td>ReturnParameter</td><td>System.Threading.Tasks.Task</td></tr><tr><td>IsCollectible</td><td>False</td></tr><tr><td>IsGenericMethod</td><td>False</td></tr><tr><td>IsGenericMethodDefinition</td><td>False</td></tr><tr><td>ContainsGenericParameters</td><td>False</td></tr><tr><td>MethodImplementationFlags</td><td>IL</td></tr><tr><td>IsAbstract</td><td>False</td></tr><tr><td>IsConstructor</td><td>False</td></tr><tr><td>IsFinal</td><td>False</td></tr><tr><td>IsHideBySig</td><td>True</td></tr><tr><td>IsSpecialName</td><td>False</td></tr><tr><td>IsStatic</td><td>False</td></tr><tr><td>IsVirtual</td><td>False</td></tr><tr><td>IsAssembly</td><td>True</td></tr><tr><td>IsFamily</td><td>False</td></tr><tr><td>IsFamilyAndAssembly</td><td>False</td></tr><tr><td>IsFamilyOrAssembly</td><td>False</td></tr><tr><td>IsPrivate</td><td>False</td></tr><tr><td>IsPublic</td><td>False</td></tr><tr><td>IsConstructedGenericMethod</td><td>False</td></tr><tr><td>CustomAttributes</td><td>[  ]</td></tr></tbody></table></div></details></td></tr><tr><td>Position</td><td><div class=\"dni-plaintext\"><pre>-1</pre></div></td></tr><tr><td>IsIn</td><td><div class=\"dni-plaintext\"><pre>False</pre></div></td></tr><tr><td>IsLcid</td><td><div class=\"dni-plaintext\"><pre>False</pre></div></td></tr><tr><td>IsOptional</td><td><div class=\"dni-plaintext\"><pre>False</pre></div></td></tr><tr><td>IsOut</td><td><div class=\"dni-plaintext\"><pre>False</pre></div></td></tr><tr><td>IsRetval</td><td><div class=\"dni-plaintext\"><pre>False</pre></div></td></tr><tr><td>CustomAttributes</td><td><i>(empty)</i></td></tr></tbody></table></div></details></td></tr><tr><td>ReturnParameter</td><td><details class=\"dni-treeview\"><summary><span class=\"dni-code-hint\"><code>System.Threading.Tasks.Task</code></span></summary><div><table><thead><tr></tr></thead><tbody><tr><td>ParameterType</td><td><span><a href=\"https://docs.microsoft.com/dotnet/api/system.threading.tasks.task?view=net-7.0\">System.Threading.Tasks.Task</a></span></td></tr><tr><td>Name</td><td><div class=\"dni-plaintext\"><pre>&lt;null&gt;</pre></div></td></tr><tr><td>HasDefaultValue</td><td><div class=\"dni-plaintext\"><pre>False</pre></div></td></tr><tr><td>DefaultValue</td><td><details class=\"dni-treeview\"><summary><span class=\"dni-code-hint\"><code></code></span></summary><div><table><thead><tr></tr></thead><tbody></tbody></table></div></details></td></tr><tr><td>RawDefaultValue</td><td><details class=\"dni-treeview\"><summary><span class=\"dni-code-hint\"><code></code></span></summary><div><table><thead><tr></tr></thead><tbody></tbody></table></div></details></td></tr><tr><td>MetadataToken</td><td><div class=\"dni-plaintext\"><pre>134217728</pre></div></td></tr><tr><td>Attributes</td><td><span>None</span></td></tr><tr><td>Member</td><td><details class=\"dni-treeview\"><summary><span class=\"dni-code-hint\"><code>System.Threading.Tasks.Task &lt;SetHandler&gt;b__0(Microsoft.DotNet.Interactive.Commands.KernelCommand, Microsoft.DotNet.Interactive.KernelInvocationContext)</code></span></summary><div><table><thead><tr></tr></thead><tbody><tr><td>Name</td><td><SetHandler>b__0</td></tr><tr><td>DeclaringType</td><td>Microsoft.DotNet.Interactive.Kernel+<>c__DisplayClass82_0`1[Microsoft.DotNet.Interactive.Commands.SubmitCode]</td></tr><tr><td>ReflectedType</td><td>Microsoft.DotNet.Interactive.Kernel+<>c__DisplayClass82_0`1[Microsoft.DotNet.Interactive.Commands.SubmitCode]</td></tr><tr><td>MemberType</td><td>Method</td></tr><tr><td>MetadataToken</td><td>100664828</td></tr><tr><td>Module</td><td>Microsoft.DotNet.Interactive.dll</td></tr><tr><td>IsSecurityCritical</td><td>True</td></tr><tr><td>IsSecuritySafeCritical</td><td>False</td></tr><tr><td>IsSecurityTransparent</td><td>False</td></tr><tr><td>MethodHandle</td><td>System.RuntimeMethodHandle</td></tr><tr><td>Attributes</td><td>Assembly, HideBySig</td></tr><tr><td>CallingConvention</td><td>Standard, HasThis</td></tr><tr><td>ReturnType</td><td>System.Threading.Tasks.Task</td></tr><tr><td>ReturnTypeCustomAttributes</td><td>System.Threading.Tasks.Task</td></tr><tr><td>ReturnParameter</td><td>System.Threading.Tasks.Task</td></tr><tr><td>IsCollectible</td><td>False</td></tr><tr><td>IsGenericMethod</td><td>False</td></tr><tr><td>IsGenericMethodDefinition</td><td>False</td></tr><tr><td>ContainsGenericParameters</td><td>False</td></tr><tr><td>MethodImplementationFlags</td><td>IL</td></tr><tr><td>IsAbstract</td><td>False</td></tr><tr><td>IsConstructor</td><td>False</td></tr><tr><td>IsFinal</td><td>False</td></tr><tr><td>IsHideBySig</td><td>True</td></tr><tr><td>IsSpecialName</td><td>False</td></tr><tr><td>IsStatic</td><td>False</td></tr><tr><td>IsVirtual</td><td>False</td></tr><tr><td>IsAssembly</td><td>True</td></tr><tr><td>IsFamily</td><td>False</td></tr><tr><td>IsFamilyAndAssembly</td><td>False</td></tr><tr><td>IsFamilyOrAssembly</td><td>False</td></tr><tr><td>IsPrivate</td><td>False</td></tr><tr><td>IsPublic</td><td>False</td></tr><tr><td>IsConstructedGenericMethod</td><td>False</td></tr><tr><td>CustomAttributes</td><td>[  ]</td></tr></tbody></table></div></details></td></tr><tr><td>Position</td><td><div class=\"dni-plaintext\"><pre>-1</pre></div></td></tr><tr><td>IsIn</td><td><div class=\"dni-plaintext\"><pre>False</pre></div></td></tr><tr><td>IsLcid</td><td><div class=\"dni-plaintext\"><pre>False</pre></div></td></tr><tr><td>IsOptional</td><td><div class=\"dni-plaintext\"><pre>False</pre></div></td></tr><tr><td>IsOut</td><td><div class=\"dni-plaintext\"><pre>False</pre></div></td></tr><tr><td>IsRetval</td><td><div class=\"dni-plaintext\"><pre>False</pre></div></td></tr><tr><td>CustomAttributes</td><td><i>(empty)</i></td></tr></tbody></table></div></details></td></tr><tr><td>IsCollectible</td><td><div class=\"dni-plaintext\"><pre>False</pre></div></td></tr><tr><td>IsGenericMethod</td><td><div class=\"dni-plaintext\"><pre>False</pre></div></td></tr><tr><td>IsGenericMethodDefinition</td><td><div class=\"dni-plaintext\"><pre>False</pre></div></td></tr><tr><td>ContainsGenericParameters</td><td><div class=\"dni-plaintext\"><pre>False</pre></div></td></tr><tr><td>MethodImplementationFlags</td><td><span>IL</span></td></tr><tr><td>IsAbstract</td><td><div class=\"dni-plaintext\"><pre>False</pre></div></td></tr><tr><td>IsConstructor</td><td><div class=\"dni-plaintext\"><pre>False</pre></div></td></tr><tr><td>IsFinal</td><td><div class=\"dni-plaintext\"><pre>False</pre></div></td></tr><tr><td>IsHideBySig</td><td><div class=\"dni-plaintext\"><pre>True</pre></div></td></tr><tr><td>IsSpecialName</td><td><div class=\"dni-plaintext\"><pre>False</pre></div></td></tr><tr><td>IsStatic</td><td><div class=\"dni-plaintext\"><pre>False</pre></div></td></tr><tr><td>IsVirtual</td><td><div class=\"dni-plaintext\"><pre>False</pre></div></td></tr><tr><td>IsAssembly</td><td><div class=\"dni-plaintext\"><pre>True</pre></div></td></tr><tr><td>IsFamily</td><td><div class=\"dni-plaintext\"><pre>False</pre></div></td></tr><tr><td>IsFamilyAndAssembly</td><td><div class=\"dni-plaintext\"><pre>False</pre></div></td></tr><tr><td>IsFamilyOrAssembly</td><td><div class=\"dni-plaintext\"><pre>False</pre></div></td></tr><tr><td>IsPrivate</td><td><div class=\"dni-plaintext\"><pre>False</pre></div></td></tr><tr><td>IsPublic</td><td><div class=\"dni-plaintext\"><pre>False</pre></div></td></tr><tr><td>IsConstructedGenericMethod</td><td><div class=\"dni-plaintext\"><pre>False</pre></div></td></tr><tr><td>CustomAttributes</td><td><i>(empty)</i></td></tr></tbody></table></div></details></td></tr></tbody></table></div></details></td></tr><tr><td>Parent</td><td><details class=\"dni-treeview\"><summary><span class=\"dni-code-hint\"><code>SubmitCode: var logger = new DisplayLogger(&quot;NotebookUpdater&quot;,  ...</code></span></summary><div><table><thead><tr></tr></thead><tbody><tr><td>Code</td><td><div class=\"dni-plaintext\"><pre>var logger = new DisplayLogger(&quot;NotebookUpdater&quot;, LogLevel.Information);\n",
       "\n",
       "display(&quot;Cr&#233;ation de l&#39;instance NotebookUpdater...&quot;);\n",
       "var updater = new NotebookUpdater(semanticKernel, notebookPath, logger);\n",
       "\n",
       "display(&quot;Appel &#224; UpdateNotebook...&quot;);\n",
       "var response = await updater.UpdateNotebook();\n",
       "\n",
       "display($&quot;R&#233;sultat de l&#39;ex&#233;cution du notebook :\\n{response}&quot;);\n",
       "</pre></div></td></tr><tr><td>Handler</td><td><details class=\"dni-treeview\"><summary><span class=\"dni-code-hint\"><code>Microsoft.DotNet.Interactive.KernelCommandInvocation</code></span></summary><div><table><thead><tr></tr></thead><tbody><tr><td>Target</td><td><details class=\"dni-treeview\"><summary><span class=\"dni-code-hint\"><code>Microsoft.DotNet.Interactive.Kernel+&lt;&gt;c__DisplayClass82_0`1[Microsoft.DotNet.Interactive.Commands.SubmitCode]</code></span></summary><div><table><thead><tr></tr></thead><tbody><tr><td>handler</td><td><details class=\"dni-treeview\"><summary><span class=\"dni-code-hint\"><code>Microsoft.DotNet.Interactive.CSharp.CSharpKernel: csharp (kernel://pid-37992/csharp)</code></span></summary><div><table><thead><tr></tr></thead><tbody><tr><td>ScriptState</td><td>Microsoft.CodeAnalysis.Scripting.ScriptState`1[System.Object]</td></tr><tr><td>ParentKernel</td><td>[ Microsoft.DotNet.Interactive.SqlDiscoverabilityKernel: sql (kernel://pid-37992/sql), Microsoft.DotNet.Interactive.KqlDiscoverabilityKernel: kql (kernel://pid-37992/kql), Microsoft.DotNet.Interactive.CSharp.CSharpKernel: csharp (kernel://pid-37992/csharp), Microsoft.DotNet.Interactive.FSharp.FSharpKernel: fsharp (kernel://pid-37992/fsharp), Microsoft.DotNet.Interactive.PowerShell.PowerShellKernel: pwsh (kernel://pid-37992/pwsh), Microsoft.DotNet.Interactive.HtmlKernel: html (kernel://pid-37992/html), Microsoft.DotNet.Interactive.KeyValueStoreKernel: value (kernel://pid-37992/value), Microsoft.DotNet.Interactive.Mermaid.MermaidKernel: mermaid (kernel://pid-37992/mermaid), Microsoft.DotNet.Interactive.Http.HttpKernel: http (kernel://pid-37992/http), Microsoft.DotNet.Interactive.Connection.ProxyKernel: vscode (kernel://pid-37992/vscode -> kernel://vscode/), Microsoft.DotNet.Interactive.Connection.ProxyKernel: javascript (kernel://pid-37992/javascript -> kernel://webview/javascript) ]</td></tr><tr><td>RootKernel</td><td>[ Microsoft.DotNet.Interactive.SqlDiscoverabilityKernel: sql (kernel://pid-37992/sql), Microsoft.DotNet.Interactive.KqlDiscoverabilityKernel: kql (kernel://pid-37992/kql), Microsoft.DotNet.Interactive.CSharp.CSharpKernel: csharp (kernel://pid-37992/csharp), Microsoft.DotNet.Interactive.FSharp.FSharpKernel: fsharp (kernel://pid-37992/fsharp), Microsoft.DotNet.Interactive.PowerShell.PowerShellKernel: pwsh (kernel://pid-37992/pwsh), Microsoft.DotNet.Interactive.HtmlKernel: html (kernel://pid-37992/html), Microsoft.DotNet.Interactive.KeyValueStoreKernel: value (kernel://pid-37992/value), Microsoft.DotNet.Interactive.Mermaid.MermaidKernel: mermaid (kernel://pid-37992/mermaid), Microsoft.DotNet.Interactive.Http.HttpKernel: http (kernel://pid-37992/http), Microsoft.DotNet.Interactive.Connection.ProxyKernel: vscode (kernel://pid-37992/vscode -> kernel://vscode/), Microsoft.DotNet.Interactive.Connection.ProxyKernel: javascript (kernel://pid-37992/javascript -> kernel://webview/javascript) ]</td></tr><tr><td>SubmissionCount</td><td>0</td></tr><tr><td>SubmissionParser</td><td>Microsoft.DotNet.Interactive.Parsing.SubmissionParser</td></tr><tr><td>FrontendEnvironment</td><td>Microsoft.DotNet.Interactive.Http.BrowserFrontendEnvironment</td></tr><tr><td>KernelEvents</td><td>System.Reactive.Subjects.Subject`1[Microsoft.DotNet.Interactive.Events.KernelEvent]</td></tr><tr><td>Name</td><td>csharp</td></tr><tr><td>KernelInfo</td><td>csharp (kernel://pid-37992/csharp)</td></tr><tr><td>Directives</td><td>[ [ Argument: source ], [ Argument: package ], [  ], [  ], [  ], [ Option`1: from, Option`1: mime-type, Option`1: as, Argument: name ], [ Option`1: name, Option`1: value, Option`1: mime-type, Option`1: byref ], [  ] ]</td></tr><tr><td>ChooseKernelDirective</td><td>[  ]</td></tr></tbody></table></div></details></td></tr><tr><td>command</td><td><details class=\"dni-treeview\"><summary><span class=\"dni-code-hint\"><code>SubmitCode: var logger = new DisplayLogger(&quot;NotebookUpdater&quot;,  ...</code></span></summary><div><table><thead><tr></tr></thead><tbody><tr><td>Code</td><td>var logger = new DisplayLogger(\"NotebookUpdater\", LogLevel.Information);\n",
       "\n",
       "display(\"Création de l'instance NotebookUpdater...\");\n",
       "var updater = new NotebookUpdater(semanticKernel, notebookPath, logger);\n",
       "\n",
       "display(\"Appel à UpdateNotebook...\");\n",
       "var response = await updater.UpdateNotebook();\n",
       "\n",
       "display($\"Résultat de l'exécution du notebook :\\n{response}\");\n",
       "</td></tr><tr><td>Handler</td><td>Microsoft.DotNet.Interactive.KernelCommandInvocation</td></tr><tr><td>Parent</td><td><div class=\"dni-plaintext\"><pre>&lt;null&gt;</pre></div></td></tr><tr><td>TargetKernelName</td><td>csharp</td></tr><tr><td>OriginUri</td><td><div class=\"dni-plaintext\"><pre>&lt;null&gt;</pre></div></td></tr><tr><td>DestinationUri</td><td><div class=\"dni-plaintext\"><pre>&lt;null&gt;</pre></div></td></tr><tr><td>KernelChooserParseResult</td><td><div class=\"dni-plaintext\"><pre>&lt;null&gt;</pre></div></td></tr><tr><td>RoutingSlip</td><td>[kernel://pid-37992/ (arrived), kernel://pid-37992/csharp (arrived)]</td></tr></tbody></table></div></details></td></tr></tbody></table></div></details></td></tr><tr><td>Method</td><td><details class=\"dni-treeview\"><summary><span class=\"dni-code-hint\"><code>System.Threading.Tasks.Task &lt;SetHandler&gt;b__0(Microsoft.DotNet.Interactive.Commands.KernelCommand, Microsoft.DotNet.Interactive.KernelInvocationContext)</code></span></summary><div><table><thead><tr></tr></thead><tbody><tr><td>Name</td><td><div class=\"dni-plaintext\"><pre>&lt;SetHandler&gt;b__0</pre></div></td></tr><tr><td>DeclaringType</td><td><span><a href=\"https://docs.microsoft.com/dotnet/api/microsoft.dotnet.interactive.kernel.&lt;>c__displayclass82_0-1?view=net-7.0\">Microsoft.DotNet.Interactive.Kernel+&lt;&gt;c__DisplayClass82_0&lt;Microsoft.DotNet.Interactive.Commands.SubmitCode&gt;</a></span></td></tr><tr><td>ReflectedType</td><td><span><a href=\"https://docs.microsoft.com/dotnet/api/microsoft.dotnet.interactive.kernel.&lt;>c__displayclass82_0-1?view=net-7.0\">Microsoft.DotNet.Interactive.Kernel+&lt;&gt;c__DisplayClass82_0&lt;Microsoft.DotNet.Interactive.Commands.SubmitCode&gt;</a></span></td></tr><tr><td>MemberType</td><td><span>Method</span></td></tr><tr><td>MetadataToken</td><td><div class=\"dni-plaintext\"><pre>100664828</pre></div></td></tr><tr><td>Module</td><td><details class=\"dni-treeview\"><summary><span class=\"dni-code-hint\"><code>Microsoft.DotNet.Interactive.dll</code></span></summary><div><table><thead><tr></tr></thead><tbody><tr><td>MDStreamVersion</td><td>131072</td></tr><tr><td>FullyQualifiedName</td><td>C:\\Users\\Administrateur.000\\.nuget\\packages\\microsoft.dotnet-interactive\\1.0.522904\\tools\\net8.0\\any\\Microsoft.DotNet.Interactive.dll</td></tr><tr><td>ModuleVersionId</td><td>ee6aec0a-8e1f-4e4c-97e3-57418e1dc7e0</td></tr><tr><td>MetadataToken</td><td>1</td></tr><tr><td>ScopeName</td><td>Microsoft.DotNet.Interactive.dll</td></tr><tr><td>Name</td><td>Microsoft.DotNet.Interactive.dll</td></tr><tr><td>Assembly</td><td>Microsoft.DotNet.Interactive, Version=1.0.0.0, Culture=neutral, PublicKeyToken=31bf3856ad364e35</td></tr><tr><td>ModuleHandle</td><td>System.ModuleHandle</td></tr><tr><td>CustomAttributes</td><td>[ [System.Runtime.CompilerServices.RefSafetyRulesAttribute((Int32)11)] ]</td></tr></tbody></table></div></details></td></tr><tr><td>IsSecurityCritical</td><td><div class=\"dni-plaintext\"><pre>True</pre></div></td></tr><tr><td>IsSecuritySafeCritical</td><td><div class=\"dni-plaintext\"><pre>False</pre></div></td></tr><tr><td>IsSecurityTransparent</td><td><div class=\"dni-plaintext\"><pre>False</pre></div></td></tr><tr><td>MethodHandle</td><td><details class=\"dni-treeview\"><summary><span class=\"dni-code-hint\"><code>System.RuntimeMethodHandle</code></span></summary><div><table><thead><tr></tr></thead><tbody><tr><td>Value</td><td>140731641892472</td></tr></tbody></table></div></details></td></tr><tr><td>Attributes</td><td><span>Assembly, HideBySig</span></td></tr><tr><td>CallingConvention</td><td><span>Standard, HasThis</span></td></tr><tr><td>ReturnType</td><td><span><a href=\"https://docs.microsoft.com/dotnet/api/system.threading.tasks.task?view=net-7.0\">System.Threading.Tasks.Task</a></span></td></tr><tr><td>ReturnTypeCustomAttributes</td><td><details class=\"dni-treeview\"><summary><span class=\"dni-code-hint\"><code>System.Threading.Tasks.Task</code></span></summary><div><table><thead><tr></tr></thead><tbody><tr><td>ParameterType</td><td>System.Threading.Tasks.Task</td></tr><tr><td>Name</td><td><div class=\"dni-plaintext\"><pre>&lt;null&gt;</pre></div></td></tr><tr><td>HasDefaultValue</td><td>False</td></tr><tr><td>DefaultValue</td><td></td></tr><tr><td>RawDefaultValue</td><td></td></tr><tr><td>MetadataToken</td><td>134217728</td></tr><tr><td>Attributes</td><td>None</td></tr><tr><td>Member</td><td>System.Threading.Tasks.Task <SetHandler>b__0(Microsoft.DotNet.Interactive.Commands.KernelCommand, Microsoft.DotNet.Interactive.KernelInvocationContext)</td></tr><tr><td>Position</td><td>-1</td></tr><tr><td>IsIn</td><td>False</td></tr><tr><td>IsLcid</td><td>False</td></tr><tr><td>IsOptional</td><td>False</td></tr><tr><td>IsOut</td><td>False</td></tr><tr><td>IsRetval</td><td>False</td></tr><tr><td>CustomAttributes</td><td>[  ]</td></tr></tbody></table></div></details></td></tr><tr><td>ReturnParameter</td><td><details class=\"dni-treeview\"><summary><span class=\"dni-code-hint\"><code>System.Threading.Tasks.Task</code></span></summary><div><table><thead><tr></tr></thead><tbody><tr><td>ParameterType</td><td>System.Threading.Tasks.Task</td></tr><tr><td>Name</td><td><div class=\"dni-plaintext\"><pre>&lt;null&gt;</pre></div></td></tr><tr><td>HasDefaultValue</td><td>False</td></tr><tr><td>DefaultValue</td><td></td></tr><tr><td>RawDefaultValue</td><td></td></tr><tr><td>MetadataToken</td><td>134217728</td></tr><tr><td>Attributes</td><td>None</td></tr><tr><td>Member</td><td>System.Threading.Tasks.Task <SetHandler>b__0(Microsoft.DotNet.Interactive.Commands.KernelCommand, Microsoft.DotNet.Interactive.KernelInvocationContext)</td></tr><tr><td>Position</td><td>-1</td></tr><tr><td>IsIn</td><td>False</td></tr><tr><td>IsLcid</td><td>False</td></tr><tr><td>IsOptional</td><td>False</td></tr><tr><td>IsOut</td><td>False</td></tr><tr><td>IsRetval</td><td>False</td></tr><tr><td>CustomAttributes</td><td>[  ]</td></tr></tbody></table></div></details></td></tr><tr><td>IsCollectible</td><td><div class=\"dni-plaintext\"><pre>False</pre></div></td></tr><tr><td>IsGenericMethod</td><td><div class=\"dni-plaintext\"><pre>False</pre></div></td></tr><tr><td>IsGenericMethodDefinition</td><td><div class=\"dni-plaintext\"><pre>False</pre></div></td></tr><tr><td>ContainsGenericParameters</td><td><div class=\"dni-plaintext\"><pre>False</pre></div></td></tr><tr><td>MethodImplementationFlags</td><td><span>IL</span></td></tr><tr><td>IsAbstract</td><td><div class=\"dni-plaintext\"><pre>False</pre></div></td></tr><tr><td>IsConstructor</td><td><div class=\"dni-plaintext\"><pre>False</pre></div></td></tr><tr><td>IsFinal</td><td><div class=\"dni-plaintext\"><pre>False</pre></div></td></tr><tr><td>IsHideBySig</td><td><div class=\"dni-plaintext\"><pre>True</pre></div></td></tr><tr><td>IsSpecialName</td><td><div class=\"dni-plaintext\"><pre>False</pre></div></td></tr><tr><td>IsStatic</td><td><div class=\"dni-plaintext\"><pre>False</pre></div></td></tr><tr><td>IsVirtual</td><td><div class=\"dni-plaintext\"><pre>False</pre></div></td></tr><tr><td>IsAssembly</td><td><div class=\"dni-plaintext\"><pre>True</pre></div></td></tr><tr><td>IsFamily</td><td><div class=\"dni-plaintext\"><pre>False</pre></div></td></tr><tr><td>IsFamilyAndAssembly</td><td><div class=\"dni-plaintext\"><pre>False</pre></div></td></tr><tr><td>IsFamilyOrAssembly</td><td><div class=\"dni-plaintext\"><pre>False</pre></div></td></tr><tr><td>IsPrivate</td><td><div class=\"dni-plaintext\"><pre>False</pre></div></td></tr><tr><td>IsPublic</td><td><div class=\"dni-plaintext\"><pre>False</pre></div></td></tr><tr><td>IsConstructedGenericMethod</td><td><div class=\"dni-plaintext\"><pre>False</pre></div></td></tr><tr><td>CustomAttributes</td><td><i>(empty)</i></td></tr></tbody></table></div></details></td></tr></tbody></table></div></details></td></tr><tr><td>Parent</td><td><div class=\"dni-plaintext\"><pre>&lt;null&gt;</pre></div></td></tr><tr><td>TargetKernelName</td><td><div class=\"dni-plaintext\"><pre>csharp</pre></div></td></tr><tr><td>OriginUri</td><td><div class=\"dni-plaintext\"><pre>&lt;null&gt;</pre></div></td></tr><tr><td>DestinationUri</td><td><div class=\"dni-plaintext\"><pre>&lt;null&gt;</pre></div></td></tr><tr><td>KernelChooserParseResult</td><td><div class=\"dni-plaintext\"><pre>&lt;null&gt;</pre></div></td></tr><tr><td>RoutingSlip</td><td><div class=\"dni-plaintext\"><pre>[ kernel://pid-37992/ (arrived), kernel://pid-37992/csharp (arrived) ]</pre></div></td></tr></tbody></table></div></details></td></tr><tr><td>TargetKernelName</td><td><div class=\"dni-plaintext\"><pre>csharp</pre></div></td></tr><tr><td>OriginUri</td><td><div class=\"dni-plaintext\"><pre>&lt;null&gt;</pre></div></td></tr><tr><td>DestinationUri</td><td><div class=\"dni-plaintext\"><pre>&lt;null&gt;</pre></div></td></tr><tr><td>KernelChooserParseResult</td><td><div class=\"dni-plaintext\"><pre>&lt;null&gt;</pre></div></td></tr><tr><td>RoutingSlip</td><td><div class=\"dni-plaintext\"><pre>[ kernel://local/.NET (arrived), kernel://local/csharp (arrived), kernel://local/csharp, kernel://local/.NET ]</pre></div></td></tr></tbody></table></div></details></td></tr><tr><td>Events</td><td><table><thead><tr><th><i>index</i></th><th><i>type</i></th><th>value</th></tr></thead><tbody><tr><td>0</td><td><span><a href=\"https://docs.microsoft.com/dotnet/api/microsoft.dotnet.interactive.events.codesubmissionreceived?view=net-7.0\">Microsoft.DotNet.Interactive.Events.CodeSubmissionReceived</a></span></td><td><details class=\"dni-treeview\"><summary><span class=\"dni-code-hint\"><code>CodeSubmissionReceived: // Importation des espaces de noms utiles ...</code></span></summary><div><table><thead><tr></tr></thead><tbody><tr><td>Code</td><td><div class=\"dni-plaintext\"><pre>// Importation des espaces de noms utiles\n",
       "using VDS.RDF;\n",
       "using VDS.RDF.Query;\n",
       "using XPlot.Plotly;</pre></div></td></tr><tr><td>Command</td><td><details class=\"dni-treeview\"><summary><span class=\"dni-code-hint\"><code>SubmitCode: // Importation des espaces de noms utiles ...</code></span></summary><div><table><thead><tr></tr></thead><tbody><tr><td>Code</td><td><div class=\"dni-plaintext\"><pre>// Importation des espaces de noms utiles\n",
       "using VDS.RDF;\n",
       "using VDS.RDF.Query;\n",
       "using XPlot.Plotly;</pre></div></td></tr><tr><td>Handler</td><td><details class=\"dni-treeview\"><summary><span class=\"dni-code-hint\"><code>Microsoft.DotNet.Interactive.KernelCommandInvocation</code></span></summary><div><table><thead><tr></tr></thead><tbody><tr><td>Target</td><td><details class=\"dni-treeview\"><summary><span class=\"dni-code-hint\"><code>Microsoft.DotNet.Interactive.Kernel+&lt;&gt;c__DisplayClass82_0`1[Microsoft.DotNet.Interactive.Commands.SubmitCode]</code></span></summary><div><table><thead><tr></tr></thead><tbody><tr><td>handler</td><td>Microsoft.DotNet.Interactive.CSharp.CSharpKernel: csharp (kernel://local/csharp)</td></tr><tr><td>command</td><td>SubmitCode: // Importation des espaces de noms utiles ...</td></tr></tbody></table></div></details></td></tr><tr><td>Method</td><td><details class=\"dni-treeview\"><summary><span class=\"dni-code-hint\"><code>System.Threading.Tasks.Task &lt;SetHandler&gt;b__0(Microsoft.DotNet.Interactive.Commands.KernelCommand, Microsoft.DotNet.Interactive.KernelInvocationContext)</code></span></summary><div><table><thead><tr></tr></thead><tbody><tr><td>Name</td><td><SetHandler>b__0</td></tr><tr><td>DeclaringType</td><td>Microsoft.DotNet.Interactive.Kernel+<>c__DisplayClass82_0`1[Microsoft.DotNet.Interactive.Commands.SubmitCode]</td></tr><tr><td>ReflectedType</td><td>Microsoft.DotNet.Interactive.Kernel+<>c__DisplayClass82_0`1[Microsoft.DotNet.Interactive.Commands.SubmitCode]</td></tr><tr><td>MemberType</td><td>Method</td></tr><tr><td>MetadataToken</td><td>100664828</td></tr><tr><td>Module</td><td>Microsoft.DotNet.Interactive.dll</td></tr><tr><td>IsSecurityCritical</td><td>True</td></tr><tr><td>IsSecuritySafeCritical</td><td>False</td></tr><tr><td>IsSecurityTransparent</td><td>False</td></tr><tr><td>MethodHandle</td><td>System.RuntimeMethodHandle</td></tr><tr><td>Attributes</td><td>Assembly, HideBySig</td></tr><tr><td>CallingConvention</td><td>Standard, HasThis</td></tr><tr><td>ReturnType</td><td>System.Threading.Tasks.Task</td></tr><tr><td>ReturnTypeCustomAttributes</td><td>System.Threading.Tasks.Task</td></tr><tr><td>ReturnParameter</td><td>System.Threading.Tasks.Task</td></tr><tr><td>IsCollectible</td><td>False</td></tr><tr><td>IsGenericMethod</td><td>False</td></tr><tr><td>IsGenericMethodDefinition</td><td>False</td></tr><tr><td>ContainsGenericParameters</td><td>False</td></tr><tr><td>MethodImplementationFlags</td><td>IL</td></tr><tr><td>IsAbstract</td><td>False</td></tr><tr><td>IsConstructor</td><td>False</td></tr><tr><td>IsFinal</td><td>False</td></tr><tr><td>IsHideBySig</td><td>True</td></tr><tr><td>IsSpecialName</td><td>False</td></tr><tr><td>IsStatic</td><td>False</td></tr><tr><td>IsVirtual</td><td>False</td></tr><tr><td>IsAssembly</td><td>True</td></tr><tr><td>IsFamily</td><td>False</td></tr><tr><td>IsFamilyAndAssembly</td><td>False</td></tr><tr><td>IsFamilyOrAssembly</td><td>False</td></tr><tr><td>IsPrivate</td><td>False</td></tr><tr><td>IsPublic</td><td>False</td></tr><tr><td>IsConstructedGenericMethod</td><td>False</td></tr><tr><td>CustomAttributes</td><td>[  ]</td></tr></tbody></table></div></details></td></tr></tbody></table></div></details></td></tr><tr><td>Parent</td><td><details class=\"dni-treeview\"><summary><span class=\"dni-code-hint\"><code>SubmitCode: var logger = new DisplayLogger(&quot;NotebookUpdater&quot;,  ...</code></span></summary><div><table><thead><tr></tr></thead><tbody><tr><td>Code</td><td><div class=\"dni-plaintext\"><pre>var logger = new DisplayLogger(&quot;NotebookUpdater&quot;, LogLevel.Information);\n",
       "\n",
       "display(&quot;Cr&#233;ation de l&#39;instance NotebookUpdater...&quot;);\n",
       "var updater = new NotebookUpdater(semanticKernel, notebookPath, logger);\n",
       "\n",
       "display(&quot;Appel &#224; UpdateNotebook...&quot;);\n",
       "var response = await updater.UpdateNotebook();\n",
       "\n",
       "display($&quot;R&#233;sultat de l&#39;ex&#233;cution du notebook :\\n{response}&quot;);\n",
       "</pre></div></td></tr><tr><td>Handler</td><td><details class=\"dni-treeview\"><summary><span class=\"dni-code-hint\"><code>Microsoft.DotNet.Interactive.KernelCommandInvocation</code></span></summary><div><table><thead><tr></tr></thead><tbody><tr><td>Target</td><td>Microsoft.DotNet.Interactive.Kernel+<>c__DisplayClass82_0`1[Microsoft.DotNet.Interactive.Commands.SubmitCode]</td></tr><tr><td>Method</td><td>System.Threading.Tasks.Task <SetHandler>b__0(Microsoft.DotNet.Interactive.Commands.KernelCommand, Microsoft.DotNet.Interactive.KernelInvocationContext)</td></tr></tbody></table></div></details></td></tr><tr><td>Parent</td><td><div class=\"dni-plaintext\"><pre>&lt;null&gt;</pre></div></td></tr><tr><td>TargetKernelName</td><td><div class=\"dni-plaintext\"><pre>csharp</pre></div></td></tr><tr><td>OriginUri</td><td><div class=\"dni-plaintext\"><pre>&lt;null&gt;</pre></div></td></tr><tr><td>DestinationUri</td><td><div class=\"dni-plaintext\"><pre>&lt;null&gt;</pre></div></td></tr><tr><td>KernelChooserParseResult</td><td><div class=\"dni-plaintext\"><pre>&lt;null&gt;</pre></div></td></tr><tr><td>RoutingSlip</td><td>[ kernel://pid-37992/ (arrived), kernel://pid-37992/csharp (arrived) ]</td></tr></tbody></table></div></details></td></tr><tr><td>TargetKernelName</td><td><div class=\"dni-plaintext\"><pre>csharp</pre></div></td></tr><tr><td>OriginUri</td><td><div class=\"dni-plaintext\"><pre>&lt;null&gt;</pre></div></td></tr><tr><td>DestinationUri</td><td><div class=\"dni-plaintext\"><pre>&lt;null&gt;</pre></div></td></tr><tr><td>KernelChooserParseResult</td><td><div class=\"dni-plaintext\"><pre>&lt;null&gt;</pre></div></td></tr><tr><td>RoutingSlip</td><td><div class=\"dni-plaintext\"><pre>[ kernel://local/.NET (arrived), kernel://local/csharp (arrived), kernel://local/csharp, kernel://local/.NET ]</pre></div></td></tr></tbody></table></div></details></td></tr><tr><td>RoutingSlip</td><td><div class=\"dni-plaintext\"><pre>[ kernel://local/csharp, kernel://pid-37992/ ]</pre></div></td></tr></tbody></table></div></details></td></tr><tr><td>1</td><td><span><a href=\"https://docs.microsoft.com/dotnet/api/microsoft.dotnet.interactive.events.completecodesubmissionreceived?view=net-7.0\">Microsoft.DotNet.Interactive.Events.CompleteCodeSubmissionReceived</a></span></td><td><details class=\"dni-treeview\"><summary><span class=\"dni-code-hint\"><code>CompleteCodeSubmissionReceived: // Importation des espaces de noms utiles ...</code></span></summary><div><table><thead><tr></tr></thead><tbody><tr><td>Code</td><td><div class=\"dni-plaintext\"><pre>// Importation des espaces de noms utiles\n",
       "using VDS.RDF;\n",
       "using VDS.RDF.Query;\n",
       "using XPlot.Plotly;</pre></div></td></tr><tr><td>Command</td><td><details class=\"dni-treeview\"><summary><span class=\"dni-code-hint\"><code>SubmitCode: // Importation des espaces de noms utiles ...</code></span></summary><div><table><thead><tr></tr></thead><tbody><tr><td>Code</td><td><div class=\"dni-plaintext\"><pre>// Importation des espaces de noms utiles\n",
       "using VDS.RDF;\n",
       "using VDS.RDF.Query;\n",
       "using XPlot.Plotly;</pre></div></td></tr><tr><td>Handler</td><td><details class=\"dni-treeview\"><summary><span class=\"dni-code-hint\"><code>Microsoft.DotNet.Interactive.KernelCommandInvocation</code></span></summary><div><table><thead><tr></tr></thead><tbody><tr><td>Target</td><td><details class=\"dni-treeview\"><summary><span class=\"dni-code-hint\"><code>Microsoft.DotNet.Interactive.Kernel+&lt;&gt;c__DisplayClass82_0`1[Microsoft.DotNet.Interactive.Commands.SubmitCode]</code></span></summary><div><table><thead><tr></tr></thead><tbody><tr><td>handler</td><td>Microsoft.DotNet.Interactive.CSharp.CSharpKernel: csharp (kernel://local/csharp)</td></tr><tr><td>command</td><td>SubmitCode: // Importation des espaces de noms utiles ...</td></tr></tbody></table></div></details></td></tr><tr><td>Method</td><td><details class=\"dni-treeview\"><summary><span class=\"dni-code-hint\"><code>System.Threading.Tasks.Task &lt;SetHandler&gt;b__0(Microsoft.DotNet.Interactive.Commands.KernelCommand, Microsoft.DotNet.Interactive.KernelInvocationContext)</code></span></summary><div><table><thead><tr></tr></thead><tbody><tr><td>Name</td><td><SetHandler>b__0</td></tr><tr><td>DeclaringType</td><td>Microsoft.DotNet.Interactive.Kernel+<>c__DisplayClass82_0`1[Microsoft.DotNet.Interactive.Commands.SubmitCode]</td></tr><tr><td>ReflectedType</td><td>Microsoft.DotNet.Interactive.Kernel+<>c__DisplayClass82_0`1[Microsoft.DotNet.Interactive.Commands.SubmitCode]</td></tr><tr><td>MemberType</td><td>Method</td></tr><tr><td>MetadataToken</td><td>100664828</td></tr><tr><td>Module</td><td>Microsoft.DotNet.Interactive.dll</td></tr><tr><td>IsSecurityCritical</td><td>True</td></tr><tr><td>IsSecuritySafeCritical</td><td>False</td></tr><tr><td>IsSecurityTransparent</td><td>False</td></tr><tr><td>MethodHandle</td><td>System.RuntimeMethodHandle</td></tr><tr><td>Attributes</td><td>Assembly, HideBySig</td></tr><tr><td>CallingConvention</td><td>Standard, HasThis</td></tr><tr><td>ReturnType</td><td>System.Threading.Tasks.Task</td></tr><tr><td>ReturnTypeCustomAttributes</td><td>System.Threading.Tasks.Task</td></tr><tr><td>ReturnParameter</td><td>System.Threading.Tasks.Task</td></tr><tr><td>IsCollectible</td><td>False</td></tr><tr><td>IsGenericMethod</td><td>False</td></tr><tr><td>IsGenericMethodDefinition</td><td>False</td></tr><tr><td>ContainsGenericParameters</td><td>False</td></tr><tr><td>MethodImplementationFlags</td><td>IL</td></tr><tr><td>IsAbstract</td><td>False</td></tr><tr><td>IsConstructor</td><td>False</td></tr><tr><td>IsFinal</td><td>False</td></tr><tr><td>IsHideBySig</td><td>True</td></tr><tr><td>IsSpecialName</td><td>False</td></tr><tr><td>IsStatic</td><td>False</td></tr><tr><td>IsVirtual</td><td>False</td></tr><tr><td>IsAssembly</td><td>True</td></tr><tr><td>IsFamily</td><td>False</td></tr><tr><td>IsFamilyAndAssembly</td><td>False</td></tr><tr><td>IsFamilyOrAssembly</td><td>False</td></tr><tr><td>IsPrivate</td><td>False</td></tr><tr><td>IsPublic</td><td>False</td></tr><tr><td>IsConstructedGenericMethod</td><td>False</td></tr><tr><td>CustomAttributes</td><td>[  ]</td></tr></tbody></table></div></details></td></tr></tbody></table></div></details></td></tr><tr><td>Parent</td><td><details class=\"dni-treeview\"><summary><span class=\"dni-code-hint\"><code>SubmitCode: var logger = new DisplayLogger(&quot;NotebookUpdater&quot;,  ...</code></span></summary><div><table><thead><tr></tr></thead><tbody><tr><td>Code</td><td><div class=\"dni-plaintext\"><pre>var logger = new DisplayLogger(&quot;NotebookUpdater&quot;, LogLevel.Information);\n",
       "\n",
       "display(&quot;Cr&#233;ation de l&#39;instance NotebookUpdater...&quot;);\n",
       "var updater = new NotebookUpdater(semanticKernel, notebookPath, logger);\n",
       "\n",
       "display(&quot;Appel &#224; UpdateNotebook...&quot;);\n",
       "var response = await updater.UpdateNotebook();\n",
       "\n",
       "display($&quot;R&#233;sultat de l&#39;ex&#233;cution du notebook :\\n{response}&quot;);\n",
       "</pre></div></td></tr><tr><td>Handler</td><td><details class=\"dni-treeview\"><summary><span class=\"dni-code-hint\"><code>Microsoft.DotNet.Interactive.KernelCommandInvocation</code></span></summary><div><table><thead><tr></tr></thead><tbody><tr><td>Target</td><td>Microsoft.DotNet.Interactive.Kernel+<>c__DisplayClass82_0`1[Microsoft.DotNet.Interactive.Commands.SubmitCode]</td></tr><tr><td>Method</td><td>System.Threading.Tasks.Task <SetHandler>b__0(Microsoft.DotNet.Interactive.Commands.KernelCommand, Microsoft.DotNet.Interactive.KernelInvocationContext)</td></tr></tbody></table></div></details></td></tr><tr><td>Parent</td><td><div class=\"dni-plaintext\"><pre>&lt;null&gt;</pre></div></td></tr><tr><td>TargetKernelName</td><td><div class=\"dni-plaintext\"><pre>csharp</pre></div></td></tr><tr><td>OriginUri</td><td><div class=\"dni-plaintext\"><pre>&lt;null&gt;</pre></div></td></tr><tr><td>DestinationUri</td><td><div class=\"dni-plaintext\"><pre>&lt;null&gt;</pre></div></td></tr><tr><td>KernelChooserParseResult</td><td><div class=\"dni-plaintext\"><pre>&lt;null&gt;</pre></div></td></tr><tr><td>RoutingSlip</td><td>[ kernel://pid-37992/ (arrived), kernel://pid-37992/csharp (arrived) ]</td></tr></tbody></table></div></details></td></tr><tr><td>TargetKernelName</td><td><div class=\"dni-plaintext\"><pre>csharp</pre></div></td></tr><tr><td>OriginUri</td><td><div class=\"dni-plaintext\"><pre>&lt;null&gt;</pre></div></td></tr><tr><td>DestinationUri</td><td><div class=\"dni-plaintext\"><pre>&lt;null&gt;</pre></div></td></tr><tr><td>KernelChooserParseResult</td><td><div class=\"dni-plaintext\"><pre>&lt;null&gt;</pre></div></td></tr><tr><td>RoutingSlip</td><td><div class=\"dni-plaintext\"><pre>[ kernel://local/.NET (arrived), kernel://local/csharp (arrived), kernel://local/csharp, kernel://local/.NET ]</pre></div></td></tr></tbody></table></div></details></td></tr><tr><td>RoutingSlip</td><td><div class=\"dni-plaintext\"><pre>[ kernel://local/csharp, kernel://pid-37992/ ]</pre></div></td></tr></tbody></table></div></details></td></tr><tr><td>2</td><td><span><a href=\"https://docs.microsoft.com/dotnet/api/microsoft.dotnet.interactive.events.diagnosticsproduced?view=net-7.0\">Microsoft.DotNet.Interactive.Events.DiagnosticsProduced</a></span></td><td><details class=\"dni-treeview\"><summary><span class=\"dni-code-hint\"><code>DiagnosticsProduced</code></span></summary><div><table><thead><tr></tr></thead><tbody><tr><td>Diagnostics</td><td><i>(empty)</i></td></tr><tr><td>FormattedDiagnostics</td><td><i>(empty)</i></td></tr><tr><td>Command</td><td><details class=\"dni-treeview\"><summary><span class=\"dni-code-hint\"><code>SubmitCode: // Importation des espaces de noms utiles ...</code></span></summary><div><table><thead><tr></tr></thead><tbody><tr><td>Code</td><td><div class=\"dni-plaintext\"><pre>// Importation des espaces de noms utiles\n",
       "using VDS.RDF;\n",
       "using VDS.RDF.Query;\n",
       "using XPlot.Plotly;</pre></div></td></tr><tr><td>Handler</td><td><details class=\"dni-treeview\"><summary><span class=\"dni-code-hint\"><code>Microsoft.DotNet.Interactive.KernelCommandInvocation</code></span></summary><div><table><thead><tr></tr></thead><tbody><tr><td>Target</td><td><details class=\"dni-treeview\"><summary><span class=\"dni-code-hint\"><code>Microsoft.DotNet.Interactive.Kernel+&lt;&gt;c__DisplayClass82_0`1[Microsoft.DotNet.Interactive.Commands.SubmitCode]</code></span></summary><div><table><thead><tr></tr></thead><tbody><tr><td>handler</td><td>Microsoft.DotNet.Interactive.CSharp.CSharpKernel: csharp (kernel://local/csharp)</td></tr><tr><td>command</td><td>SubmitCode: // Importation des espaces de noms utiles ...</td></tr></tbody></table></div></details></td></tr><tr><td>Method</td><td><details class=\"dni-treeview\"><summary><span class=\"dni-code-hint\"><code>System.Threading.Tasks.Task &lt;SetHandler&gt;b__0(Microsoft.DotNet.Interactive.Commands.KernelCommand, Microsoft.DotNet.Interactive.KernelInvocationContext)</code></span></summary><div><table><thead><tr></tr></thead><tbody><tr><td>Name</td><td><SetHandler>b__0</td></tr><tr><td>DeclaringType</td><td>Microsoft.DotNet.Interactive.Kernel+<>c__DisplayClass82_0`1[Microsoft.DotNet.Interactive.Commands.SubmitCode]</td></tr><tr><td>ReflectedType</td><td>Microsoft.DotNet.Interactive.Kernel+<>c__DisplayClass82_0`1[Microsoft.DotNet.Interactive.Commands.SubmitCode]</td></tr><tr><td>MemberType</td><td>Method</td></tr><tr><td>MetadataToken</td><td>100664828</td></tr><tr><td>Module</td><td>Microsoft.DotNet.Interactive.dll</td></tr><tr><td>IsSecurityCritical</td><td>True</td></tr><tr><td>IsSecuritySafeCritical</td><td>False</td></tr><tr><td>IsSecurityTransparent</td><td>False</td></tr><tr><td>MethodHandle</td><td>System.RuntimeMethodHandle</td></tr><tr><td>Attributes</td><td>Assembly, HideBySig</td></tr><tr><td>CallingConvention</td><td>Standard, HasThis</td></tr><tr><td>ReturnType</td><td>System.Threading.Tasks.Task</td></tr><tr><td>ReturnTypeCustomAttributes</td><td>System.Threading.Tasks.Task</td></tr><tr><td>ReturnParameter</td><td>System.Threading.Tasks.Task</td></tr><tr><td>IsCollectible</td><td>False</td></tr><tr><td>IsGenericMethod</td><td>False</td></tr><tr><td>IsGenericMethodDefinition</td><td>False</td></tr><tr><td>ContainsGenericParameters</td><td>False</td></tr><tr><td>MethodImplementationFlags</td><td>IL</td></tr><tr><td>IsAbstract</td><td>False</td></tr><tr><td>IsConstructor</td><td>False</td></tr><tr><td>IsFinal</td><td>False</td></tr><tr><td>IsHideBySig</td><td>True</td></tr><tr><td>IsSpecialName</td><td>False</td></tr><tr><td>IsStatic</td><td>False</td></tr><tr><td>IsVirtual</td><td>False</td></tr><tr><td>IsAssembly</td><td>True</td></tr><tr><td>IsFamily</td><td>False</td></tr><tr><td>IsFamilyAndAssembly</td><td>False</td></tr><tr><td>IsFamilyOrAssembly</td><td>False</td></tr><tr><td>IsPrivate</td><td>False</td></tr><tr><td>IsPublic</td><td>False</td></tr><tr><td>IsConstructedGenericMethod</td><td>False</td></tr><tr><td>CustomAttributes</td><td>[  ]</td></tr></tbody></table></div></details></td></tr></tbody></table></div></details></td></tr><tr><td>Parent</td><td><details class=\"dni-treeview\"><summary><span class=\"dni-code-hint\"><code>SubmitCode: var logger = new DisplayLogger(&quot;NotebookUpdater&quot;,  ...</code></span></summary><div><table><thead><tr></tr></thead><tbody><tr><td>Code</td><td><div class=\"dni-plaintext\"><pre>var logger = new DisplayLogger(&quot;NotebookUpdater&quot;, LogLevel.Information);\n",
       "\n",
       "display(&quot;Cr&#233;ation de l&#39;instance NotebookUpdater...&quot;);\n",
       "var updater = new NotebookUpdater(semanticKernel, notebookPath, logger);\n",
       "\n",
       "display(&quot;Appel &#224; UpdateNotebook...&quot;);\n",
       "var response = await updater.UpdateNotebook();\n",
       "\n",
       "display($&quot;R&#233;sultat de l&#39;ex&#233;cution du notebook :\\n{response}&quot;);\n",
       "</pre></div></td></tr><tr><td>Handler</td><td><details class=\"dni-treeview\"><summary><span class=\"dni-code-hint\"><code>Microsoft.DotNet.Interactive.KernelCommandInvocation</code></span></summary><div><table><thead><tr></tr></thead><tbody><tr><td>Target</td><td>Microsoft.DotNet.Interactive.Kernel+<>c__DisplayClass82_0`1[Microsoft.DotNet.Interactive.Commands.SubmitCode]</td></tr><tr><td>Method</td><td>System.Threading.Tasks.Task <SetHandler>b__0(Microsoft.DotNet.Interactive.Commands.KernelCommand, Microsoft.DotNet.Interactive.KernelInvocationContext)</td></tr></tbody></table></div></details></td></tr><tr><td>Parent</td><td><div class=\"dni-plaintext\"><pre>&lt;null&gt;</pre></div></td></tr><tr><td>TargetKernelName</td><td><div class=\"dni-plaintext\"><pre>csharp</pre></div></td></tr><tr><td>OriginUri</td><td><div class=\"dni-plaintext\"><pre>&lt;null&gt;</pre></div></td></tr><tr><td>DestinationUri</td><td><div class=\"dni-plaintext\"><pre>&lt;null&gt;</pre></div></td></tr><tr><td>KernelChooserParseResult</td><td><div class=\"dni-plaintext\"><pre>&lt;null&gt;</pre></div></td></tr><tr><td>RoutingSlip</td><td>[ kernel://pid-37992/ (arrived), kernel://pid-37992/csharp (arrived) ]</td></tr></tbody></table></div></details></td></tr><tr><td>TargetKernelName</td><td><div class=\"dni-plaintext\"><pre>csharp</pre></div></td></tr><tr><td>OriginUri</td><td><div class=\"dni-plaintext\"><pre>&lt;null&gt;</pre></div></td></tr><tr><td>DestinationUri</td><td><div class=\"dni-plaintext\"><pre>&lt;null&gt;</pre></div></td></tr><tr><td>KernelChooserParseResult</td><td><div class=\"dni-plaintext\"><pre>&lt;null&gt;</pre></div></td></tr><tr><td>RoutingSlip</td><td><div class=\"dni-plaintext\"><pre>[ kernel://local/.NET (arrived), kernel://local/csharp (arrived), kernel://local/csharp, kernel://local/.NET ]</pre></div></td></tr></tbody></table></div></details></td></tr><tr><td>RoutingSlip</td><td><div class=\"dni-plaintext\"><pre>[ kernel://local/csharp, kernel://pid-37992/ ]</pre></div></td></tr></tbody></table></div></details></td></tr><tr><td>3</td><td><span><a href=\"https://docs.microsoft.com/dotnet/api/microsoft.dotnet.interactive.events.commandsucceeded?view=net-7.0\">Microsoft.DotNet.Interactive.Events.CommandSucceeded</a></span></td><td><details class=\"dni-treeview\"><summary><span class=\"dni-code-hint\"><code>CommandSucceeded: SubmitCode: // Importation des espaces de noms utiles ...</code></span></summary><div><table><thead><tr></tr></thead><tbody><tr><td>ExecutionOrder</td><td><div class=\"dni-plaintext\"><pre>0</pre></div></td></tr><tr><td>Command</td><td><details class=\"dni-treeview\"><summary><span class=\"dni-code-hint\"><code>SubmitCode: // Importation des espaces de noms utiles ...</code></span></summary><div><table><thead><tr></tr></thead><tbody><tr><td>Code</td><td><div class=\"dni-plaintext\"><pre>// Importation des espaces de noms utiles\n",
       "using VDS.RDF;\n",
       "using VDS.RDF.Query;\n",
       "using XPlot.Plotly;</pre></div></td></tr><tr><td>Handler</td><td><details class=\"dni-treeview\"><summary><span class=\"dni-code-hint\"><code>Microsoft.DotNet.Interactive.KernelCommandInvocation</code></span></summary><div><table><thead><tr></tr></thead><tbody><tr><td>Target</td><td><details class=\"dni-treeview\"><summary><span class=\"dni-code-hint\"><code>Microsoft.DotNet.Interactive.Kernel+&lt;&gt;c__DisplayClass82_0`1[Microsoft.DotNet.Interactive.Commands.SubmitCode]</code></span></summary><div><table><thead><tr></tr></thead><tbody><tr><td>handler</td><td>Microsoft.DotNet.Interactive.CSharp.CSharpKernel: csharp (kernel://local/csharp)</td></tr><tr><td>command</td><td>SubmitCode: // Importation des espaces de noms utiles ...</td></tr></tbody></table></div></details></td></tr><tr><td>Method</td><td><details class=\"dni-treeview\"><summary><span class=\"dni-code-hint\"><code>System.Threading.Tasks.Task &lt;SetHandler&gt;b__0(Microsoft.DotNet.Interactive.Commands.KernelCommand, Microsoft.DotNet.Interactive.KernelInvocationContext)</code></span></summary><div><table><thead><tr></tr></thead><tbody><tr><td>Name</td><td><SetHandler>b__0</td></tr><tr><td>DeclaringType</td><td>Microsoft.DotNet.Interactive.Kernel+<>c__DisplayClass82_0`1[Microsoft.DotNet.Interactive.Commands.SubmitCode]</td></tr><tr><td>ReflectedType</td><td>Microsoft.DotNet.Interactive.Kernel+<>c__DisplayClass82_0`1[Microsoft.DotNet.Interactive.Commands.SubmitCode]</td></tr><tr><td>MemberType</td><td>Method</td></tr><tr><td>MetadataToken</td><td>100664828</td></tr><tr><td>Module</td><td>Microsoft.DotNet.Interactive.dll</td></tr><tr><td>IsSecurityCritical</td><td>True</td></tr><tr><td>IsSecuritySafeCritical</td><td>False</td></tr><tr><td>IsSecurityTransparent</td><td>False</td></tr><tr><td>MethodHandle</td><td>System.RuntimeMethodHandle</td></tr><tr><td>Attributes</td><td>Assembly, HideBySig</td></tr><tr><td>CallingConvention</td><td>Standard, HasThis</td></tr><tr><td>ReturnType</td><td>System.Threading.Tasks.Task</td></tr><tr><td>ReturnTypeCustomAttributes</td><td>System.Threading.Tasks.Task</td></tr><tr><td>ReturnParameter</td><td>System.Threading.Tasks.Task</td></tr><tr><td>IsCollectible</td><td>False</td></tr><tr><td>IsGenericMethod</td><td>False</td></tr><tr><td>IsGenericMethodDefinition</td><td>False</td></tr><tr><td>ContainsGenericParameters</td><td>False</td></tr><tr><td>MethodImplementationFlags</td><td>IL</td></tr><tr><td>IsAbstract</td><td>False</td></tr><tr><td>IsConstructor</td><td>False</td></tr><tr><td>IsFinal</td><td>False</td></tr><tr><td>IsHideBySig</td><td>True</td></tr><tr><td>IsSpecialName</td><td>False</td></tr><tr><td>IsStatic</td><td>False</td></tr><tr><td>IsVirtual</td><td>False</td></tr><tr><td>IsAssembly</td><td>True</td></tr><tr><td>IsFamily</td><td>False</td></tr><tr><td>IsFamilyAndAssembly</td><td>False</td></tr><tr><td>IsFamilyOrAssembly</td><td>False</td></tr><tr><td>IsPrivate</td><td>False</td></tr><tr><td>IsPublic</td><td>False</td></tr><tr><td>IsConstructedGenericMethod</td><td>False</td></tr><tr><td>CustomAttributes</td><td>[  ]</td></tr></tbody></table></div></details></td></tr></tbody></table></div></details></td></tr><tr><td>Parent</td><td><details class=\"dni-treeview\"><summary><span class=\"dni-code-hint\"><code>SubmitCode: var logger = new DisplayLogger(&quot;NotebookUpdater&quot;,  ...</code></span></summary><div><table><thead><tr></tr></thead><tbody><tr><td>Code</td><td><div class=\"dni-plaintext\"><pre>var logger = new DisplayLogger(&quot;NotebookUpdater&quot;, LogLevel.Information);\n",
       "\n",
       "display(&quot;Cr&#233;ation de l&#39;instance NotebookUpdater...&quot;);\n",
       "var updater = new NotebookUpdater(semanticKernel, notebookPath, logger);\n",
       "\n",
       "display(&quot;Appel &#224; UpdateNotebook...&quot;);\n",
       "var response = await updater.UpdateNotebook();\n",
       "\n",
       "display($&quot;R&#233;sultat de l&#39;ex&#233;cution du notebook :\\n{response}&quot;);\n",
       "</pre></div></td></tr><tr><td>Handler</td><td><details class=\"dni-treeview\"><summary><span class=\"dni-code-hint\"><code>Microsoft.DotNet.Interactive.KernelCommandInvocation</code></span></summary><div><table><thead><tr></tr></thead><tbody><tr><td>Target</td><td>Microsoft.DotNet.Interactive.Kernel+<>c__DisplayClass82_0`1[Microsoft.DotNet.Interactive.Commands.SubmitCode]</td></tr><tr><td>Method</td><td>System.Threading.Tasks.Task <SetHandler>b__0(Microsoft.DotNet.Interactive.Commands.KernelCommand, Microsoft.DotNet.Interactive.KernelInvocationContext)</td></tr></tbody></table></div></details></td></tr><tr><td>Parent</td><td><div class=\"dni-plaintext\"><pre>&lt;null&gt;</pre></div></td></tr><tr><td>TargetKernelName</td><td><div class=\"dni-plaintext\"><pre>csharp</pre></div></td></tr><tr><td>OriginUri</td><td><div class=\"dni-plaintext\"><pre>&lt;null&gt;</pre></div></td></tr><tr><td>DestinationUri</td><td><div class=\"dni-plaintext\"><pre>&lt;null&gt;</pre></div></td></tr><tr><td>KernelChooserParseResult</td><td><div class=\"dni-plaintext\"><pre>&lt;null&gt;</pre></div></td></tr><tr><td>RoutingSlip</td><td>[ kernel://pid-37992/ (arrived), kernel://pid-37992/csharp (arrived) ]</td></tr></tbody></table></div></details></td></tr><tr><td>TargetKernelName</td><td><div class=\"dni-plaintext\"><pre>csharp</pre></div></td></tr><tr><td>OriginUri</td><td><div class=\"dni-plaintext\"><pre>&lt;null&gt;</pre></div></td></tr><tr><td>DestinationUri</td><td><div class=\"dni-plaintext\"><pre>&lt;null&gt;</pre></div></td></tr><tr><td>KernelChooserParseResult</td><td><div class=\"dni-plaintext\"><pre>&lt;null&gt;</pre></div></td></tr><tr><td>RoutingSlip</td><td><div class=\"dni-plaintext\"><pre>[ kernel://local/.NET (arrived), kernel://local/csharp (arrived), kernel://local/csharp, kernel://local/.NET ]</pre></div></td></tr></tbody></table></div></details></td></tr><tr><td>RoutingSlip</td><td><div class=\"dni-plaintext\"><pre>[ kernel://local/csharp ]</pre></div></td></tr></tbody></table></div></details></td></tr></tbody></table></td></tr></tbody></table></div></details><style>\r\n",
       ".dni-code-hint {\r\n",
       "    font-style: italic;\r\n",
       "    overflow: hidden;\r\n",
       "    white-space: nowrap;\r\n",
       "}\r\n",
       ".dni-treeview {\r\n",
       "    white-space: nowrap;\r\n",
       "}\r\n",
       ".dni-treeview td {\r\n",
       "    vertical-align: top;\r\n",
       "    text-align: start;\r\n",
       "}\r\n",
       "details.dni-treeview {\r\n",
       "    padding-left: 1em;\r\n",
       "}\r\n",
       "table td {\r\n",
       "    text-align: start;\r\n",
       "}\r\n",
       "table tr { \r\n",
       "    vertical-align: top; \r\n",
       "    margin: 0em 0px;\r\n",
       "}\r\n",
       "table tr td pre \r\n",
       "{ \r\n",
       "    vertical-align: top !important; \r\n",
       "    margin: 0em 0px !important;\r\n",
       "} \r\n",
       "table th {\r\n",
       "    text-align: start;\r\n",
       "}\r\n",
       "</style>"
      ]
     },
     "metadata": {},
     "output_type": "display_data"
    },
    {
     "data": {
      "text/plain": [
       "Affichage du markdown: \n",
       "## Initialisation\n"
      ]
     },
     "metadata": {},
     "output_type": "display_data"
    },
    {
     "data": {
      "text/markdown": [
       "## Initialisation\n"
      ]
     },
     "metadata": {},
     "output_type": "display_data"
    },
    {
     "data": {
      "text/plain": [
       "Envoi du code au kernel csharp:\n",
       "// Création des objets nécessaire à la tâche demandée\n",
       "SparqlRemoteEndpoint endpoint = new SparqlRemoteEndpoint(new Uri(\"https://dbpedia.org/sparql\"));\n",
       "// Exemple de requête SPARQL\n",
       "string query = \"SELECT ?label WHERE { <http://dbpedia.org/resource/Asturias> rdfs:label ?label }\";\n",
       "// Execution de la requête\n",
       "SparqlResultSet results = endpoint.QueryWithResultSet(query);"
      ]
     },
     "metadata": {},
     "output_type": "display_data"
    },
    {
     "data": {
      "text/html": [
       "<details open=\"open\" class=\"dni-treeview\"><summary><span class=\"dni-code-hint\"><code>Microsoft.DotNet.Interactive.KernelCommandResult</code></span></summary><div><table><thead><tr></tr></thead><tbody><tr><td>Command</td><td><details class=\"dni-treeview\"><summary><span class=\"dni-code-hint\"><code>SubmitCode: // Cr&#233;ation des objets n&#233;cessaire &#224; la t&#226;che deman ...</code></span></summary><div><table><thead><tr></tr></thead><tbody><tr><td>Code</td><td><div class=\"dni-plaintext\"><pre>// Cr&#233;ation des objets n&#233;cessaire &#224; la t&#226;che demand&#233;e\n",
       "SparqlRemoteEndpoint endpoint = new SparqlRemoteEndpoint(new Uri(&quot;https://dbpedia.org/sparql&quot;));\n",
       "// Exemple de requ&#234;te SPARQL\n",
       "string query = &quot;SELECT ?label WHERE { &lt;http://dbpedia.org/resource/Asturias&gt; rdfs:label ?label }&quot;;\n",
       "// Execution de la requ&#234;te\n",
       "SparqlResultSet results = endpoint.QueryWithResultSet(query);</pre></div></td></tr><tr><td>Handler</td><td><details class=\"dni-treeview\"><summary><span class=\"dni-code-hint\"><code>Microsoft.DotNet.Interactive.KernelCommandInvocation</code></span></summary><div><table><thead><tr></tr></thead><tbody><tr><td>Target</td><td><details class=\"dni-treeview\"><summary><span class=\"dni-code-hint\"><code>Microsoft.DotNet.Interactive.Kernel+&lt;&gt;c__DisplayClass82_0`1[Microsoft.DotNet.Interactive.Commands.SubmitCode]</code></span></summary><div><table><thead><tr></tr></thead><tbody><tr><td>handler</td><td><details class=\"dni-treeview\"><summary><span class=\"dni-code-hint\"><code>Microsoft.DotNet.Interactive.CSharp.CSharpKernel: csharp (kernel://local/csharp)</code></span></summary><div><table><thead><tr></tr></thead><tbody><tr><td>ScriptState</td><td><details class=\"dni-treeview\"><summary><span class=\"dni-code-hint\"><code>Microsoft.CodeAnalysis.Scripting.ScriptState`1[System.Object]</code></span></summary><div><table><thead><tr></tr></thead><tbody><tr><td>ReturnValue</td><td>Microsoft.CodeAnalysis.Scripting.ScriptState`1[System.Object]</td></tr><tr><td>Script</td><td>Microsoft.CodeAnalysis.Scripting.Script`1[System.Object]</td></tr><tr><td>Exception</td><td><div class=\"dni-plaintext\"><pre>&lt;null&gt;</pre></div></td></tr><tr><td>ReturnValue</td><td>Microsoft.CodeAnalysis.Scripting.ScriptState`1[System.Object]</td></tr><tr><td>Variables</td><td>[ Microsoft.CodeAnalysis.Scripting.ScriptVariable, Microsoft.CodeAnalysis.Scripting.ScriptVariable, Microsoft.CodeAnalysis.Scripting.ScriptVariable ]</td></tr></tbody></table></div></details></td></tr><tr><td>ParentKernel</td><td><details class=\"dni-treeview\"><summary><span class=\"dni-code-hint\"><code>[ Microsoft.DotNet.Interactive.CSharp.CSharpKernel: csharp (kernel://local/csharp) ]</code></span></summary><div><table><thead><tr></tr></thead><tbody><tr><td>DefaultKernelName</td><td>csharp</td></tr><tr><td>ChildKernels</td><td>[ Microsoft.DotNet.Interactive.CSharp.CSharpKernel: csharp (kernel://local/csharp) ]</td></tr><tr><td>Host</td><td><div class=\"dni-plaintext\"><pre>&lt;null&gt;</pre></div></td></tr><tr><td>ParentKernel</td><td><div class=\"dni-plaintext\"><pre>&lt;null&gt;</pre></div></td></tr><tr><td>RootKernel</td><td>[ Microsoft.DotNet.Interactive.CSharp.CSharpKernel: csharp (kernel://local/csharp) ]</td></tr><tr><td>SubmissionCount</td><td>0</td></tr><tr><td>SubmissionParser</td><td>Microsoft.DotNet.Interactive.Parsing.SubmissionParser</td></tr><tr><td>FrontendEnvironment</td><td>Microsoft.DotNet.Interactive.AutomationEnvironment</td></tr><tr><td>KernelEvents</td><td>System.Reactive.Subjects.Subject`1[Microsoft.DotNet.Interactive.Events.KernelEvent]</td></tr><tr><td>Name</td><td>.NET</td></tr><tr><td>KernelInfo</td><td>.NET (kernel://local/.NET)</td></tr><tr><td>Directives</td><td>[ [  ] ]</td></tr><tr><td>ChooseKernelDirective</td><td>[  ]</td></tr><tr><td><i>(values)</i></td><td><table><thead><tr><th><i>index</i></th><th>value</th></tr></thead><tbody><tr><td>0</td><td>Microsoft.DotNet.Interactive.CSharp.CSharpKernel: csharp (kernel://local/csharp)</td></tr></tbody></table></td></tr></tbody></table></div></details></td></tr><tr><td>RootKernel</td><td><details class=\"dni-treeview\"><summary><span class=\"dni-code-hint\"><code>[ Microsoft.DotNet.Interactive.CSharp.CSharpKernel: csharp (kernel://local/csharp) ]</code></span></summary><div><table><thead><tr></tr></thead><tbody><tr><td>DefaultKernelName</td><td>csharp</td></tr><tr><td>ChildKernels</td><td>[ Microsoft.DotNet.Interactive.CSharp.CSharpKernel: csharp (kernel://local/csharp) ]</td></tr><tr><td>Host</td><td><div class=\"dni-plaintext\"><pre>&lt;null&gt;</pre></div></td></tr><tr><td>ParentKernel</td><td><div class=\"dni-plaintext\"><pre>&lt;null&gt;</pre></div></td></tr><tr><td>RootKernel</td><td>[ Microsoft.DotNet.Interactive.CSharp.CSharpKernel: csharp (kernel://local/csharp) ]</td></tr><tr><td>SubmissionCount</td><td>0</td></tr><tr><td>SubmissionParser</td><td>Microsoft.DotNet.Interactive.Parsing.SubmissionParser</td></tr><tr><td>FrontendEnvironment</td><td>Microsoft.DotNet.Interactive.AutomationEnvironment</td></tr><tr><td>KernelEvents</td><td>System.Reactive.Subjects.Subject`1[Microsoft.DotNet.Interactive.Events.KernelEvent]</td></tr><tr><td>Name</td><td>.NET</td></tr><tr><td>KernelInfo</td><td>.NET (kernel://local/.NET)</td></tr><tr><td>Directives</td><td>[ [  ] ]</td></tr><tr><td>ChooseKernelDirective</td><td>[  ]</td></tr><tr><td><i>(values)</i></td><td><table><thead><tr><th><i>index</i></th><th>value</th></tr></thead><tbody><tr><td>0</td><td>Microsoft.DotNet.Interactive.CSharp.CSharpKernel: csharp (kernel://local/csharp)</td></tr></tbody></table></td></tr></tbody></table></div></details></td></tr><tr><td>SubmissionCount</td><td><div class=\"dni-plaintext\"><pre>0</pre></div></td></tr><tr><td>SubmissionParser</td><td><details class=\"dni-treeview\"><summary><span class=\"dni-code-hint\"><code>Microsoft.DotNet.Interactive.Parsing.SubmissionParser</code></span></summary><div><table><thead><tr></tr></thead><tbody><tr><td>Directives</td><td>[ [  ], [  ], [ Option`1: from, Option`1: mime-type, Option`1: as, Argument: name ], [ Option`1: name, Option`1: value, Option`1: mime-type, Option`1: byref ], [ Argument: source ], [ Argument: package ], [  ] ]</td></tr></tbody></table></div></details></td></tr><tr><td>FrontendEnvironment</td><td><details class=\"dni-treeview\"><summary><span class=\"dni-code-hint\"><code>Microsoft.DotNet.Interactive.AutomationEnvironment</code></span></summary><div><table><thead><tr></tr></thead><tbody></tbody></table></div></details></td></tr><tr><td>KernelEvents</td><td><details class=\"dni-treeview\"><summary><span class=\"dni-code-hint\"><code>System.Reactive.Subjects.Subject`1[Microsoft.DotNet.Interactive.Events.KernelEvent]</code></span></summary><div><table><thead><tr></tr></thead><tbody><tr><td>HasObservers</td><td>True</td></tr><tr><td>IsDisposed</td><td>False</td></tr></tbody></table></div></details></td></tr><tr><td>Name</td><td><div class=\"dni-plaintext\"><pre>csharp</pre></div></td></tr><tr><td>KernelInfo</td><td><details class=\"dni-treeview\"><summary><span class=\"dni-code-hint\"><code>csharp (kernel://local/csharp)</code></span></summary><div><table><thead><tr></tr></thead><tbody><tr><td>Aliases</td><td>[  ]</td></tr><tr><td>LanguageName</td><td>C#</td></tr><tr><td>LanguageVersion</td><td>12.0</td></tr><tr><td>IsProxy</td><td>False</td></tr><tr><td>IsComposite</td><td>False</td></tr><tr><td>DisplayName</td><td>csharp - C# Script</td></tr><tr><td>LocalName</td><td>csharp</td></tr><tr><td>Uri</td><td>kernel://local/csharp</td></tr><tr><td>RemoteUri</td><td><div class=\"dni-plaintext\"><pre>&lt;null&gt;</pre></div></td></tr><tr><td>Description</td><td>This Kernel can compile and execute C# code and display the results.\r\n",
       "The language is C# Scripting, a dialect of C# that is used for interactive programming.\r\n",
       "\r\n",
       "Can load packages from nuget.org or any other nuget feed.</td></tr><tr><td>SupportedKernelCommands</td><td>[ KernelCommandInfo { Name = RequestKernelInfo }, KernelCommandInfo { Name = RequestCompletions }, KernelCommandInfo { Name = RequestDiagnostics }, KernelCommandInfo { Name = RequestHoverText }, KernelCommandInfo { Name = RequestSignatureHelp }, KernelCommandInfo { Name = RequestValue }, KernelCommandInfo { Name = RequestValueInfos }, KernelCommandInfo { Name = SendValue }, KernelCommandInfo { Name = SubmitCode } ]</td></tr><tr><td>SupportedDirectives</td><td>[ KernelDirectiveInfo { Name = #!who }, KernelDirectiveInfo { Name = #!whos }, KernelDirectiveInfo { Name = #!share }, KernelDirectiveInfo { Name = #!set }, KernelDirectiveInfo { Name = #i }, KernelDirectiveInfo { Name = #r }, KernelDirectiveInfo { Name = #!nuget-restore } ]</td></tr></tbody></table></div></details></td></tr><tr><td>Directives</td><td><table><thead><tr><th><i>index</i></th><th>value</th></tr></thead><tbody><tr><td>0</td><td></td></tr><tr><td>1</td><td></td></tr><tr><td>2</td><td>[ Option`1: from, Option`1: mime-type, Option`1: as, Argument: name ]</td></tr><tr><td>3</td><td>[ Option`1: name, Option`1: value, Option`1: mime-type, Option`1: byref ]</td></tr><tr><td>4</td><td>[ Argument: source ]</td></tr><tr><td>5</td><td>[ Argument: package ]</td></tr><tr><td>6</td><td></td></tr></tbody></table></td></tr><tr><td>ChooseKernelDirective</td><td><details class=\"dni-treeview\"><summary><span class=\"dni-code-hint\"><code>[  ]</code></span></summary><div><table><thead><tr></tr></thead><tbody><tr><td>Kernel</td><td>Microsoft.DotNet.Interactive.CSharp.CSharpKernel: csharp (kernel://local/csharp)</td></tr><tr><td>Children</td><td>[  ]</td></tr><tr><td>Arguments</td><td>[  ]</td></tr><tr><td>Options</td><td>[  ]</td></tr><tr><td>Subcommands</td><td>[  ]</td></tr><tr><td>TreatUnmatchedTokensAsErrors</td><td>True</td></tr><tr><td>Handler</td><td>System.CommandLine.NamingConventionBinder.ModelBindingCommandHandler</td></tr><tr><td>Aliases</td><td>[ #!csharp ]</td></tr><tr><td>Name</td><td>#!csharp</td></tr><tr><td>Description</td><td>Run the code that follows using the csharp kernel.</td></tr><tr><td>IsHidden</td><td>False</td></tr><tr><td>Parents</td><td>[ [ [  ], HelpOption: help ] ]</td></tr><tr><td><i>(values)</i></td><td><i>(empty)</i></td></tr></tbody></table></div></details></td></tr></tbody></table></div></details></td></tr><tr><td>command</td><td><details class=\"dni-treeview\"><summary><span class=\"dni-code-hint\"><code>SubmitCode: // Cr&#233;ation des objets n&#233;cessaire &#224; la t&#226;che deman ...</code></span></summary><div><table><thead><tr></tr></thead><tbody><tr><td>Code</td><td><div class=\"dni-plaintext\"><pre>// Cr&#233;ation des objets n&#233;cessaire &#224; la t&#226;che demand&#233;e\n",
       "SparqlRemoteEndpoint endpoint = new SparqlRemoteEndpoint(new Uri(&quot;https://dbpedia.org/sparql&quot;));\n",
       "// Exemple de requ&#234;te SPARQL\n",
       "string query = &quot;SELECT ?label WHERE { &lt;http://dbpedia.org/resource/Asturias&gt; rdfs:label ?label }&quot;;\n",
       "// Execution de la requ&#234;te\n",
       "SparqlResultSet results = endpoint.QueryWithResultSet(query);</pre></div></td></tr><tr><td>Handler</td><td><details class=\"dni-treeview\"><summary><span class=\"dni-code-hint\"><code>Microsoft.DotNet.Interactive.KernelCommandInvocation</code></span></summary><div><table><thead><tr></tr></thead><tbody><tr><td>Target</td><td>Microsoft.DotNet.Interactive.Kernel+<>c__DisplayClass82_0`1[Microsoft.DotNet.Interactive.Commands.SubmitCode]</td></tr><tr><td>Method</td><td>System.Threading.Tasks.Task <SetHandler>b__0(Microsoft.DotNet.Interactive.Commands.KernelCommand, Microsoft.DotNet.Interactive.KernelInvocationContext)</td></tr></tbody></table></div></details></td></tr><tr><td>Parent</td><td><details class=\"dni-treeview\"><summary><span class=\"dni-code-hint\"><code>SubmitCode: var logger = new DisplayLogger(&quot;NotebookUpdater&quot;,  ...</code></span></summary><div><table><thead><tr></tr></thead><tbody><tr><td>Code</td><td>var logger = new DisplayLogger(\"NotebookUpdater\", LogLevel.Information);\n",
       "\n",
       "display(\"Création de l'instance NotebookUpdater...\");\n",
       "var updater = new NotebookUpdater(semanticKernel, notebookPath, logger);\n",
       "\n",
       "display(\"Appel à UpdateNotebook...\");\n",
       "var response = await updater.UpdateNotebook();\n",
       "\n",
       "display($\"Résultat de l'exécution du notebook :\\n{response}\");\n",
       "</td></tr><tr><td>Handler</td><td>Microsoft.DotNet.Interactive.KernelCommandInvocation</td></tr><tr><td>Parent</td><td><div class=\"dni-plaintext\"><pre>&lt;null&gt;</pre></div></td></tr><tr><td>TargetKernelName</td><td>csharp</td></tr><tr><td>OriginUri</td><td><div class=\"dni-plaintext\"><pre>&lt;null&gt;</pre></div></td></tr><tr><td>DestinationUri</td><td><div class=\"dni-plaintext\"><pre>&lt;null&gt;</pre></div></td></tr><tr><td>KernelChooserParseResult</td><td><div class=\"dni-plaintext\"><pre>&lt;null&gt;</pre></div></td></tr><tr><td>RoutingSlip</td><td>[kernel://pid-37992/ (arrived), kernel://pid-37992/csharp (arrived)]</td></tr></tbody></table></div></details></td></tr><tr><td>TargetKernelName</td><td><div class=\"dni-plaintext\"><pre>csharp</pre></div></td></tr><tr><td>OriginUri</td><td><div class=\"dni-plaintext\"><pre>&lt;null&gt;</pre></div></td></tr><tr><td>DestinationUri</td><td><div class=\"dni-plaintext\"><pre>&lt;null&gt;</pre></div></td></tr><tr><td>KernelChooserParseResult</td><td><div class=\"dni-plaintext\"><pre>&lt;null&gt;</pre></div></td></tr><tr><td>RoutingSlip</td><td>[ kernel://local/.NET (arrived), kernel://local/csharp (arrived), kernel://local/csharp, kernel://local/.NET ]</td></tr></tbody></table></div></details></td></tr></tbody></table></div></details></td></tr><tr><td>Method</td><td><details class=\"dni-treeview\"><summary><span class=\"dni-code-hint\"><code>System.Threading.Tasks.Task &lt;SetHandler&gt;b__0(Microsoft.DotNet.Interactive.Commands.KernelCommand, Microsoft.DotNet.Interactive.KernelInvocationContext)</code></span></summary><div><table><thead><tr></tr></thead><tbody><tr><td>Name</td><td><div class=\"dni-plaintext\"><pre>&lt;SetHandler&gt;b__0</pre></div></td></tr><tr><td>DeclaringType</td><td><span><a href=\"https://docs.microsoft.com/dotnet/api/microsoft.dotnet.interactive.kernel.&lt;>c__displayclass82_0-1?view=net-7.0\">Microsoft.DotNet.Interactive.Kernel+&lt;&gt;c__DisplayClass82_0&lt;Microsoft.DotNet.Interactive.Commands.SubmitCode&gt;</a></span></td></tr><tr><td>ReflectedType</td><td><span><a href=\"https://docs.microsoft.com/dotnet/api/microsoft.dotnet.interactive.kernel.&lt;>c__displayclass82_0-1?view=net-7.0\">Microsoft.DotNet.Interactive.Kernel+&lt;&gt;c__DisplayClass82_0&lt;Microsoft.DotNet.Interactive.Commands.SubmitCode&gt;</a></span></td></tr><tr><td>MemberType</td><td><span>Method</span></td></tr><tr><td>MetadataToken</td><td><div class=\"dni-plaintext\"><pre>100664828</pre></div></td></tr><tr><td>Module</td><td><details class=\"dni-treeview\"><summary><span class=\"dni-code-hint\"><code>Microsoft.DotNet.Interactive.dll</code></span></summary><div><table><thead><tr></tr></thead><tbody><tr><td>MDStreamVersion</td><td><div class=\"dni-plaintext\"><pre>131072</pre></div></td></tr><tr><td>FullyQualifiedName</td><td><div class=\"dni-plaintext\"><pre>C:\\Users\\Administrateur.000\\.nuget\\packages\\microsoft.dotnet-interactive\\1.0.522904\\tools\\net8.0\\any\\Microsoft.DotNet.Interactive.dll</pre></div></td></tr><tr><td>ModuleVersionId</td><td><div class=\"dni-plaintext\"><pre>ee6aec0a-8e1f-4e4c-97e3-57418e1dc7e0</pre></div></td></tr><tr><td>MetadataToken</td><td><div class=\"dni-plaintext\"><pre>1</pre></div></td></tr><tr><td>ScopeName</td><td><div class=\"dni-plaintext\"><pre>Microsoft.DotNet.Interactive.dll</pre></div></td></tr><tr><td>Name</td><td><div class=\"dni-plaintext\"><pre>Microsoft.DotNet.Interactive.dll</pre></div></td></tr><tr><td>Assembly</td><td><details class=\"dni-treeview\"><summary><span class=\"dni-code-hint\"><code>Microsoft.DotNet.Interactive, Version=1.0.0.0, Culture=neutral, PublicKeyToken=31bf3856ad364e35</code></span></summary><div><table><thead><tr></tr></thead><tbody><tr><td>CodeBase</td><td>file:///C:/Users/Administrateur.000/.nuget/packages/microsoft.dotnet-interactive/1.0.522904/tools/net8.0/any/Microsoft.DotNet.Interactive.dll</td></tr><tr><td>FullName</td><td>Microsoft.DotNet.Interactive, Version=1.0.0.0, Culture=neutral, PublicKeyToken=31bf3856ad364e35</td></tr><tr><td>EntryPoint</td><td><div class=\"dni-plaintext\"><pre>&lt;null&gt;</pre></div></td></tr><tr><td>DefinedTypes</td><td>[ <>f__AnonymousType0`2[<Command>j__TPar,<ValueInfos>j__TPar], System.DisplayExtensions, System.Runtime.CompilerServices.IsExternalInit, Microsoft.DotNet.Interactive.AutomationEnvironment, Microsoft.DotNet.Interactive.Base64EncodedAssembly, Microsoft.DotNet.Interactive.ChooseKernelDirective, Microsoft.DotNet.Interactive.ChooseKeyValueStoreKernelDirective, Microsoft.DotNet.Interactive.CodeSubmissionCompilationErrorException, Microsoft.DotNet.Interactive.CommandNotSupportedException, Microsoft.DotNet.Interactive.CommandRoutingSlip, Microsoft.DotNet.Interactive.CompositeKernel, Microsoft.DotNet.Interactive.DataDictionaryConverter, Microsoft.DotNet.Interactive.DataExplorer, Microsoft.DotNet.Interactive.DataExplorerFormatterSource, Microsoft.DotNet.Interactive.DataExplorer`1[TData], Microsoft.DotNet.Interactive.Diagnostic, Microsoft.DotNet.Interactive.DisplayedValue, Microsoft.DotNet.Interactive.EventRoutingSlip, Microsoft.DotNet.Interactive.FormattedValue, Microsoft.DotNet.Interactive.FrontendEnvironment ... (457 more) ]</td></tr><tr><td>IsCollectible</td><td>False</td></tr><tr><td>ManifestModule</td><td>Microsoft.DotNet.Interactive.dll</td></tr><tr><td>ReflectionOnly</td><td>False</td></tr><tr><td>Location</td><td>C:\\Users\\Administrateur.000\\.nuget\\packages\\microsoft.dotnet-interactive\\1.0.522904\\tools\\net8.0\\any\\Microsoft.DotNet.Interactive.dll</td></tr><tr><td>ImageRuntimeVersion</td><td>v4.0.30319</td></tr><tr><td>GlobalAssemblyCache</td><td>False</td></tr><tr><td>HostContext</td><td>0</td></tr><tr><td>IsDynamic</td><td>False</td></tr><tr><td>ExportedTypes</td><td>[ System.DisplayExtensions, Microsoft.DotNet.Interactive.AutomationEnvironment, Microsoft.DotNet.Interactive.Base64EncodedAssembly, Microsoft.DotNet.Interactive.ChooseKernelDirective, Microsoft.DotNet.Interactive.ChooseKeyValueStoreKernelDirective, Microsoft.DotNet.Interactive.CodeSubmissionCompilationErrorException, Microsoft.DotNet.Interactive.CommandNotSupportedException, Microsoft.DotNet.Interactive.CommandRoutingSlip, Microsoft.DotNet.Interactive.CompositeKernel, Microsoft.DotNet.Interactive.DataDictionaryConverter, Microsoft.DotNet.Interactive.DataExplorer, Microsoft.DotNet.Interactive.DataExplorer`1[TData], Microsoft.DotNet.Interactive.Diagnostic, Microsoft.DotNet.Interactive.DisplayedValue, Microsoft.DotNet.Interactive.EventRoutingSlip, Microsoft.DotNet.Interactive.FormattedValue, Microsoft.DotNet.Interactive.FrontendEnvironment, Microsoft.DotNet.Interactive.HtmlKernel, Microsoft.DotNet.Interactive.IKernelCommandHandler`1[TCommand], Microsoft.DotNet.Interactive.IKernelExtension ... (139 more) ]</td></tr><tr><td>IsFullyTrusted</td><td>True</td></tr><tr><td>CustomAttributes</td><td>[ [System.Runtime.CompilerServices.ExtensionAttribute()], [System.Runtime.CompilerServices.CompilationRelaxationsAttribute((Int32)8)], [System.Runtime.CompilerServices.RuntimeCompatibilityAttribute(WrapNonExceptionThrows = True)], [System.Diagnostics.DebuggableAttribute((System.Diagnostics.DebuggableAttribute+DebuggingModes)2)], [System.Runtime.Versioning.TargetFrameworkAttribute(\".NETCoreApp,Version=v8.0\", FrameworkDisplayName = \".NET 8.0\")], [System.Reflection.AssemblyCompanyAttribute(\"Microsoft Corporation\")], [System.Reflection.AssemblyConfigurationAttribute(\"Release\")], [System.Reflection.AssemblyCopyrightAttribute(\"© Microsoft Corporation. All rights reserved.\")], [System.Reflection.AssemblyFileVersionAttribute(\"1.0.24.22904\")], [System.Reflection.AssemblyInformationalVersionAttribute(\"1.0.0-beta.24229.4+cdfa48b2ea1a27dfe0f545c42a34fd3ec7119074\")], [System.Reflection.AssemblyProductAttribute(\"Microsoft.DotNet.Interactive\")], [System.Reflection.AssemblyTitleAttribute(\"Microsoft.DotNet.Interactive\")], [System.Reflection.AssemblyMetadataAttribute(\"RepositoryUrl\", \"https://github.com/dotnet/interactive\")], [System.Resources.NeutralResourcesLanguageAttribute(\"en-US\")] ]</td></tr><tr><td>EscapedCodeBase</td><td>file:///C:/Users/Administrateur.000/.nuget/packages/microsoft.dotnet-interactive/1.0.522904/tools/net8.0/any/Microsoft.DotNet.Interactive.dll</td></tr><tr><td>Modules</td><td>[ Microsoft.DotNet.Interactive.dll ]</td></tr><tr><td>SecurityRuleSet</td><td>None</td></tr></tbody></table></div></details></td></tr><tr><td>ModuleHandle</td><td><details class=\"dni-treeview\"><summary><span class=\"dni-code-hint\"><code>System.ModuleHandle</code></span></summary><div><table><thead><tr></tr></thead><tbody><tr><td>MDStreamVersion</td><td>131072</td></tr></tbody></table></div></details></td></tr><tr><td>CustomAttributes</td><td><table><thead><tr><th><i>index</i></th><th>value</th></tr></thead><tbody><tr><td>0</td><td>[System.Runtime.CompilerServices.RefSafetyRulesAttribute((Int32)11)]</td></tr></tbody></table></td></tr></tbody></table></div></details></td></tr><tr><td>IsSecurityCritical</td><td><div class=\"dni-plaintext\"><pre>True</pre></div></td></tr><tr><td>IsSecuritySafeCritical</td><td><div class=\"dni-plaintext\"><pre>False</pre></div></td></tr><tr><td>IsSecurityTransparent</td><td><div class=\"dni-plaintext\"><pre>False</pre></div></td></tr><tr><td>MethodHandle</td><td><details class=\"dni-treeview\"><summary><span class=\"dni-code-hint\"><code>System.RuntimeMethodHandle</code></span></summary><div><table><thead><tr></tr></thead><tbody><tr><td>Value</td><td><div class=\"dni-plaintext\"><pre>140731641892472</pre></div></td></tr></tbody></table></div></details></td></tr><tr><td>Attributes</td><td><span>Assembly, HideBySig</span></td></tr><tr><td>CallingConvention</td><td><span>Standard, HasThis</span></td></tr><tr><td>ReturnType</td><td><span><a href=\"https://docs.microsoft.com/dotnet/api/system.threading.tasks.task?view=net-7.0\">System.Threading.Tasks.Task</a></span></td></tr><tr><td>ReturnTypeCustomAttributes</td><td><details class=\"dni-treeview\"><summary><span class=\"dni-code-hint\"><code>System.Threading.Tasks.Task</code></span></summary><div><table><thead><tr></tr></thead><tbody><tr><td>ParameterType</td><td><span><a href=\"https://docs.microsoft.com/dotnet/api/system.threading.tasks.task?view=net-7.0\">System.Threading.Tasks.Task</a></span></td></tr><tr><td>Name</td><td><div class=\"dni-plaintext\"><pre>&lt;null&gt;</pre></div></td></tr><tr><td>HasDefaultValue</td><td><div class=\"dni-plaintext\"><pre>False</pre></div></td></tr><tr><td>DefaultValue</td><td><details class=\"dni-treeview\"><summary><span class=\"dni-code-hint\"><code></code></span></summary><div><table><thead><tr></tr></thead><tbody></tbody></table></div></details></td></tr><tr><td>RawDefaultValue</td><td><details class=\"dni-treeview\"><summary><span class=\"dni-code-hint\"><code></code></span></summary><div><table><thead><tr></tr></thead><tbody></tbody></table></div></details></td></tr><tr><td>MetadataToken</td><td><div class=\"dni-plaintext\"><pre>134217728</pre></div></td></tr><tr><td>Attributes</td><td><span>None</span></td></tr><tr><td>Member</td><td><details class=\"dni-treeview\"><summary><span class=\"dni-code-hint\"><code>System.Threading.Tasks.Task &lt;SetHandler&gt;b__0(Microsoft.DotNet.Interactive.Commands.KernelCommand, Microsoft.DotNet.Interactive.KernelInvocationContext)</code></span></summary><div><table><thead><tr></tr></thead><tbody><tr><td>Name</td><td><SetHandler>b__0</td></tr><tr><td>DeclaringType</td><td>Microsoft.DotNet.Interactive.Kernel+<>c__DisplayClass82_0`1[Microsoft.DotNet.Interactive.Commands.SubmitCode]</td></tr><tr><td>ReflectedType</td><td>Microsoft.DotNet.Interactive.Kernel+<>c__DisplayClass82_0`1[Microsoft.DotNet.Interactive.Commands.SubmitCode]</td></tr><tr><td>MemberType</td><td>Method</td></tr><tr><td>MetadataToken</td><td>100664828</td></tr><tr><td>Module</td><td>Microsoft.DotNet.Interactive.dll</td></tr><tr><td>IsSecurityCritical</td><td>True</td></tr><tr><td>IsSecuritySafeCritical</td><td>False</td></tr><tr><td>IsSecurityTransparent</td><td>False</td></tr><tr><td>MethodHandle</td><td>System.RuntimeMethodHandle</td></tr><tr><td>Attributes</td><td>Assembly, HideBySig</td></tr><tr><td>CallingConvention</td><td>Standard, HasThis</td></tr><tr><td>ReturnType</td><td>System.Threading.Tasks.Task</td></tr><tr><td>ReturnTypeCustomAttributes</td><td>System.Threading.Tasks.Task</td></tr><tr><td>ReturnParameter</td><td>System.Threading.Tasks.Task</td></tr><tr><td>IsCollectible</td><td>False</td></tr><tr><td>IsGenericMethod</td><td>False</td></tr><tr><td>IsGenericMethodDefinition</td><td>False</td></tr><tr><td>ContainsGenericParameters</td><td>False</td></tr><tr><td>MethodImplementationFlags</td><td>IL</td></tr><tr><td>IsAbstract</td><td>False</td></tr><tr><td>IsConstructor</td><td>False</td></tr><tr><td>IsFinal</td><td>False</td></tr><tr><td>IsHideBySig</td><td>True</td></tr><tr><td>IsSpecialName</td><td>False</td></tr><tr><td>IsStatic</td><td>False</td></tr><tr><td>IsVirtual</td><td>False</td></tr><tr><td>IsAssembly</td><td>True</td></tr><tr><td>IsFamily</td><td>False</td></tr><tr><td>IsFamilyAndAssembly</td><td>False</td></tr><tr><td>IsFamilyOrAssembly</td><td>False</td></tr><tr><td>IsPrivate</td><td>False</td></tr><tr><td>IsPublic</td><td>False</td></tr><tr><td>IsConstructedGenericMethod</td><td>False</td></tr><tr><td>CustomAttributes</td><td>[  ]</td></tr></tbody></table></div></details></td></tr><tr><td>Position</td><td><div class=\"dni-plaintext\"><pre>-1</pre></div></td></tr><tr><td>IsIn</td><td><div class=\"dni-plaintext\"><pre>False</pre></div></td></tr><tr><td>IsLcid</td><td><div class=\"dni-plaintext\"><pre>False</pre></div></td></tr><tr><td>IsOptional</td><td><div class=\"dni-plaintext\"><pre>False</pre></div></td></tr><tr><td>IsOut</td><td><div class=\"dni-plaintext\"><pre>False</pre></div></td></tr><tr><td>IsRetval</td><td><div class=\"dni-plaintext\"><pre>False</pre></div></td></tr><tr><td>CustomAttributes</td><td><i>(empty)</i></td></tr></tbody></table></div></details></td></tr><tr><td>ReturnParameter</td><td><details class=\"dni-treeview\"><summary><span class=\"dni-code-hint\"><code>System.Threading.Tasks.Task</code></span></summary><div><table><thead><tr></tr></thead><tbody><tr><td>ParameterType</td><td><span><a href=\"https://docs.microsoft.com/dotnet/api/system.threading.tasks.task?view=net-7.0\">System.Threading.Tasks.Task</a></span></td></tr><tr><td>Name</td><td><div class=\"dni-plaintext\"><pre>&lt;null&gt;</pre></div></td></tr><tr><td>HasDefaultValue</td><td><div class=\"dni-plaintext\"><pre>False</pre></div></td></tr><tr><td>DefaultValue</td><td><details class=\"dni-treeview\"><summary><span class=\"dni-code-hint\"><code></code></span></summary><div><table><thead><tr></tr></thead><tbody></tbody></table></div></details></td></tr><tr><td>RawDefaultValue</td><td><details class=\"dni-treeview\"><summary><span class=\"dni-code-hint\"><code></code></span></summary><div><table><thead><tr></tr></thead><tbody></tbody></table></div></details></td></tr><tr><td>MetadataToken</td><td><div class=\"dni-plaintext\"><pre>134217728</pre></div></td></tr><tr><td>Attributes</td><td><span>None</span></td></tr><tr><td>Member</td><td><details class=\"dni-treeview\"><summary><span class=\"dni-code-hint\"><code>System.Threading.Tasks.Task &lt;SetHandler&gt;b__0(Microsoft.DotNet.Interactive.Commands.KernelCommand, Microsoft.DotNet.Interactive.KernelInvocationContext)</code></span></summary><div><table><thead><tr></tr></thead><tbody><tr><td>Name</td><td><SetHandler>b__0</td></tr><tr><td>DeclaringType</td><td>Microsoft.DotNet.Interactive.Kernel+<>c__DisplayClass82_0`1[Microsoft.DotNet.Interactive.Commands.SubmitCode]</td></tr><tr><td>ReflectedType</td><td>Microsoft.DotNet.Interactive.Kernel+<>c__DisplayClass82_0`1[Microsoft.DotNet.Interactive.Commands.SubmitCode]</td></tr><tr><td>MemberType</td><td>Method</td></tr><tr><td>MetadataToken</td><td>100664828</td></tr><tr><td>Module</td><td>Microsoft.DotNet.Interactive.dll</td></tr><tr><td>IsSecurityCritical</td><td>True</td></tr><tr><td>IsSecuritySafeCritical</td><td>False</td></tr><tr><td>IsSecurityTransparent</td><td>False</td></tr><tr><td>MethodHandle</td><td>System.RuntimeMethodHandle</td></tr><tr><td>Attributes</td><td>Assembly, HideBySig</td></tr><tr><td>CallingConvention</td><td>Standard, HasThis</td></tr><tr><td>ReturnType</td><td>System.Threading.Tasks.Task</td></tr><tr><td>ReturnTypeCustomAttributes</td><td>System.Threading.Tasks.Task</td></tr><tr><td>ReturnParameter</td><td>System.Threading.Tasks.Task</td></tr><tr><td>IsCollectible</td><td>False</td></tr><tr><td>IsGenericMethod</td><td>False</td></tr><tr><td>IsGenericMethodDefinition</td><td>False</td></tr><tr><td>ContainsGenericParameters</td><td>False</td></tr><tr><td>MethodImplementationFlags</td><td>IL</td></tr><tr><td>IsAbstract</td><td>False</td></tr><tr><td>IsConstructor</td><td>False</td></tr><tr><td>IsFinal</td><td>False</td></tr><tr><td>IsHideBySig</td><td>True</td></tr><tr><td>IsSpecialName</td><td>False</td></tr><tr><td>IsStatic</td><td>False</td></tr><tr><td>IsVirtual</td><td>False</td></tr><tr><td>IsAssembly</td><td>True</td></tr><tr><td>IsFamily</td><td>False</td></tr><tr><td>IsFamilyAndAssembly</td><td>False</td></tr><tr><td>IsFamilyOrAssembly</td><td>False</td></tr><tr><td>IsPrivate</td><td>False</td></tr><tr><td>IsPublic</td><td>False</td></tr><tr><td>IsConstructedGenericMethod</td><td>False</td></tr><tr><td>CustomAttributes</td><td>[  ]</td></tr></tbody></table></div></details></td></tr><tr><td>Position</td><td><div class=\"dni-plaintext\"><pre>-1</pre></div></td></tr><tr><td>IsIn</td><td><div class=\"dni-plaintext\"><pre>False</pre></div></td></tr><tr><td>IsLcid</td><td><div class=\"dni-plaintext\"><pre>False</pre></div></td></tr><tr><td>IsOptional</td><td><div class=\"dni-plaintext\"><pre>False</pre></div></td></tr><tr><td>IsOut</td><td><div class=\"dni-plaintext\"><pre>False</pre></div></td></tr><tr><td>IsRetval</td><td><div class=\"dni-plaintext\"><pre>False</pre></div></td></tr><tr><td>CustomAttributes</td><td><i>(empty)</i></td></tr></tbody></table></div></details></td></tr><tr><td>IsCollectible</td><td><div class=\"dni-plaintext\"><pre>False</pre></div></td></tr><tr><td>IsGenericMethod</td><td><div class=\"dni-plaintext\"><pre>False</pre></div></td></tr><tr><td>IsGenericMethodDefinition</td><td><div class=\"dni-plaintext\"><pre>False</pre></div></td></tr><tr><td>ContainsGenericParameters</td><td><div class=\"dni-plaintext\"><pre>False</pre></div></td></tr><tr><td>MethodImplementationFlags</td><td><span>IL</span></td></tr><tr><td>IsAbstract</td><td><div class=\"dni-plaintext\"><pre>False</pre></div></td></tr><tr><td>IsConstructor</td><td><div class=\"dni-plaintext\"><pre>False</pre></div></td></tr><tr><td>IsFinal</td><td><div class=\"dni-plaintext\"><pre>False</pre></div></td></tr><tr><td>IsHideBySig</td><td><div class=\"dni-plaintext\"><pre>True</pre></div></td></tr><tr><td>IsSpecialName</td><td><div class=\"dni-plaintext\"><pre>False</pre></div></td></tr><tr><td>IsStatic</td><td><div class=\"dni-plaintext\"><pre>False</pre></div></td></tr><tr><td>IsVirtual</td><td><div class=\"dni-plaintext\"><pre>False</pre></div></td></tr><tr><td>IsAssembly</td><td><div class=\"dni-plaintext\"><pre>True</pre></div></td></tr><tr><td>IsFamily</td><td><div class=\"dni-plaintext\"><pre>False</pre></div></td></tr><tr><td>IsFamilyAndAssembly</td><td><div class=\"dni-plaintext\"><pre>False</pre></div></td></tr><tr><td>IsFamilyOrAssembly</td><td><div class=\"dni-plaintext\"><pre>False</pre></div></td></tr><tr><td>IsPrivate</td><td><div class=\"dni-plaintext\"><pre>False</pre></div></td></tr><tr><td>IsPublic</td><td><div class=\"dni-plaintext\"><pre>False</pre></div></td></tr><tr><td>IsConstructedGenericMethod</td><td><div class=\"dni-plaintext\"><pre>False</pre></div></td></tr><tr><td>CustomAttributes</td><td><i>(empty)</i></td></tr></tbody></table></div></details></td></tr></tbody></table></div></details></td></tr><tr><td>Parent</td><td><details class=\"dni-treeview\"><summary><span class=\"dni-code-hint\"><code>SubmitCode: var logger = new DisplayLogger(&quot;NotebookUpdater&quot;,  ...</code></span></summary><div><table><thead><tr></tr></thead><tbody><tr><td>Code</td><td><div class=\"dni-plaintext\"><pre>var logger = new DisplayLogger(&quot;NotebookUpdater&quot;, LogLevel.Information);\n",
       "\n",
       "display(&quot;Cr&#233;ation de l&#39;instance NotebookUpdater...&quot;);\n",
       "var updater = new NotebookUpdater(semanticKernel, notebookPath, logger);\n",
       "\n",
       "display(&quot;Appel &#224; UpdateNotebook...&quot;);\n",
       "var response = await updater.UpdateNotebook();\n",
       "\n",
       "display($&quot;R&#233;sultat de l&#39;ex&#233;cution du notebook :\\n{response}&quot;);\n",
       "</pre></div></td></tr><tr><td>Handler</td><td><details class=\"dni-treeview\"><summary><span class=\"dni-code-hint\"><code>Microsoft.DotNet.Interactive.KernelCommandInvocation</code></span></summary><div><table><thead><tr></tr></thead><tbody><tr><td>Target</td><td><details class=\"dni-treeview\"><summary><span class=\"dni-code-hint\"><code>Microsoft.DotNet.Interactive.Kernel+&lt;&gt;c__DisplayClass82_0`1[Microsoft.DotNet.Interactive.Commands.SubmitCode]</code></span></summary><div><table><thead><tr></tr></thead><tbody><tr><td>handler</td><td><details class=\"dni-treeview\"><summary><span class=\"dni-code-hint\"><code>Microsoft.DotNet.Interactive.CSharp.CSharpKernel: csharp (kernel://pid-37992/csharp)</code></span></summary><div><table><thead><tr></tr></thead><tbody><tr><td>ScriptState</td><td>Microsoft.CodeAnalysis.Scripting.ScriptState`1[System.Object]</td></tr><tr><td>ParentKernel</td><td>[ Microsoft.DotNet.Interactive.SqlDiscoverabilityKernel: sql (kernel://pid-37992/sql), Microsoft.DotNet.Interactive.KqlDiscoverabilityKernel: kql (kernel://pid-37992/kql), Microsoft.DotNet.Interactive.CSharp.CSharpKernel: csharp (kernel://pid-37992/csharp), Microsoft.DotNet.Interactive.FSharp.FSharpKernel: fsharp (kernel://pid-37992/fsharp), Microsoft.DotNet.Interactive.PowerShell.PowerShellKernel: pwsh (kernel://pid-37992/pwsh), Microsoft.DotNet.Interactive.HtmlKernel: html (kernel://pid-37992/html), Microsoft.DotNet.Interactive.KeyValueStoreKernel: value (kernel://pid-37992/value), Microsoft.DotNet.Interactive.Mermaid.MermaidKernel: mermaid (kernel://pid-37992/mermaid), Microsoft.DotNet.Interactive.Http.HttpKernel: http (kernel://pid-37992/http), Microsoft.DotNet.Interactive.Connection.ProxyKernel: vscode (kernel://pid-37992/vscode -> kernel://vscode/), Microsoft.DotNet.Interactive.Connection.ProxyKernel: javascript (kernel://pid-37992/javascript -> kernel://webview/javascript) ]</td></tr><tr><td>RootKernel</td><td>[ Microsoft.DotNet.Interactive.SqlDiscoverabilityKernel: sql (kernel://pid-37992/sql), Microsoft.DotNet.Interactive.KqlDiscoverabilityKernel: kql (kernel://pid-37992/kql), Microsoft.DotNet.Interactive.CSharp.CSharpKernel: csharp (kernel://pid-37992/csharp), Microsoft.DotNet.Interactive.FSharp.FSharpKernel: fsharp (kernel://pid-37992/fsharp), Microsoft.DotNet.Interactive.PowerShell.PowerShellKernel: pwsh (kernel://pid-37992/pwsh), Microsoft.DotNet.Interactive.HtmlKernel: html (kernel://pid-37992/html), Microsoft.DotNet.Interactive.KeyValueStoreKernel: value (kernel://pid-37992/value), Microsoft.DotNet.Interactive.Mermaid.MermaidKernel: mermaid (kernel://pid-37992/mermaid), Microsoft.DotNet.Interactive.Http.HttpKernel: http (kernel://pid-37992/http), Microsoft.DotNet.Interactive.Connection.ProxyKernel: vscode (kernel://pid-37992/vscode -> kernel://vscode/), Microsoft.DotNet.Interactive.Connection.ProxyKernel: javascript (kernel://pid-37992/javascript -> kernel://webview/javascript) ]</td></tr><tr><td>SubmissionCount</td><td>0</td></tr><tr><td>SubmissionParser</td><td>Microsoft.DotNet.Interactive.Parsing.SubmissionParser</td></tr><tr><td>FrontendEnvironment</td><td>Microsoft.DotNet.Interactive.Http.BrowserFrontendEnvironment</td></tr><tr><td>KernelEvents</td><td>System.Reactive.Subjects.Subject`1[Microsoft.DotNet.Interactive.Events.KernelEvent]</td></tr><tr><td>Name</td><td>csharp</td></tr><tr><td>KernelInfo</td><td>csharp (kernel://pid-37992/csharp)</td></tr><tr><td>Directives</td><td>[ [ Argument: source ], [ Argument: package ], [  ], [  ], [  ], [ Option`1: from, Option`1: mime-type, Option`1: as, Argument: name ], [ Option`1: name, Option`1: value, Option`1: mime-type, Option`1: byref ], [  ] ]</td></tr><tr><td>ChooseKernelDirective</td><td>[  ]</td></tr></tbody></table></div></details></td></tr><tr><td>command</td><td><details class=\"dni-treeview\"><summary><span class=\"dni-code-hint\"><code>SubmitCode: var logger = new DisplayLogger(&quot;NotebookUpdater&quot;,  ...</code></span></summary><div><table><thead><tr></tr></thead><tbody><tr><td>Code</td><td>var logger = new DisplayLogger(\"NotebookUpdater\", LogLevel.Information);\n",
       "\n",
       "display(\"Création de l'instance NotebookUpdater...\");\n",
       "var updater = new NotebookUpdater(semanticKernel, notebookPath, logger);\n",
       "\n",
       "display(\"Appel à UpdateNotebook...\");\n",
       "var response = await updater.UpdateNotebook();\n",
       "\n",
       "display($\"Résultat de l'exécution du notebook :\\n{response}\");\n",
       "</td></tr><tr><td>Handler</td><td>Microsoft.DotNet.Interactive.KernelCommandInvocation</td></tr><tr><td>Parent</td><td><div class=\"dni-plaintext\"><pre>&lt;null&gt;</pre></div></td></tr><tr><td>TargetKernelName</td><td>csharp</td></tr><tr><td>OriginUri</td><td><div class=\"dni-plaintext\"><pre>&lt;null&gt;</pre></div></td></tr><tr><td>DestinationUri</td><td><div class=\"dni-plaintext\"><pre>&lt;null&gt;</pre></div></td></tr><tr><td>KernelChooserParseResult</td><td><div class=\"dni-plaintext\"><pre>&lt;null&gt;</pre></div></td></tr><tr><td>RoutingSlip</td><td>[kernel://pid-37992/ (arrived), kernel://pid-37992/csharp (arrived)]</td></tr></tbody></table></div></details></td></tr></tbody></table></div></details></td></tr><tr><td>Method</td><td><details class=\"dni-treeview\"><summary><span class=\"dni-code-hint\"><code>System.Threading.Tasks.Task &lt;SetHandler&gt;b__0(Microsoft.DotNet.Interactive.Commands.KernelCommand, Microsoft.DotNet.Interactive.KernelInvocationContext)</code></span></summary><div><table><thead><tr></tr></thead><tbody><tr><td>Name</td><td><div class=\"dni-plaintext\"><pre>&lt;SetHandler&gt;b__0</pre></div></td></tr><tr><td>DeclaringType</td><td><span><a href=\"https://docs.microsoft.com/dotnet/api/microsoft.dotnet.interactive.kernel.&lt;>c__displayclass82_0-1?view=net-7.0\">Microsoft.DotNet.Interactive.Kernel+&lt;&gt;c__DisplayClass82_0&lt;Microsoft.DotNet.Interactive.Commands.SubmitCode&gt;</a></span></td></tr><tr><td>ReflectedType</td><td><span><a href=\"https://docs.microsoft.com/dotnet/api/microsoft.dotnet.interactive.kernel.&lt;>c__displayclass82_0-1?view=net-7.0\">Microsoft.DotNet.Interactive.Kernel+&lt;&gt;c__DisplayClass82_0&lt;Microsoft.DotNet.Interactive.Commands.SubmitCode&gt;</a></span></td></tr><tr><td>MemberType</td><td><span>Method</span></td></tr><tr><td>MetadataToken</td><td><div class=\"dni-plaintext\"><pre>100664828</pre></div></td></tr><tr><td>Module</td><td><details class=\"dni-treeview\"><summary><span class=\"dni-code-hint\"><code>Microsoft.DotNet.Interactive.dll</code></span></summary><div><table><thead><tr></tr></thead><tbody><tr><td>MDStreamVersion</td><td>131072</td></tr><tr><td>FullyQualifiedName</td><td>C:\\Users\\Administrateur.000\\.nuget\\packages\\microsoft.dotnet-interactive\\1.0.522904\\tools\\net8.0\\any\\Microsoft.DotNet.Interactive.dll</td></tr><tr><td>ModuleVersionId</td><td>ee6aec0a-8e1f-4e4c-97e3-57418e1dc7e0</td></tr><tr><td>MetadataToken</td><td>1</td></tr><tr><td>ScopeName</td><td>Microsoft.DotNet.Interactive.dll</td></tr><tr><td>Name</td><td>Microsoft.DotNet.Interactive.dll</td></tr><tr><td>Assembly</td><td>Microsoft.DotNet.Interactive, Version=1.0.0.0, Culture=neutral, PublicKeyToken=31bf3856ad364e35</td></tr><tr><td>ModuleHandle</td><td>System.ModuleHandle</td></tr><tr><td>CustomAttributes</td><td>[ [System.Runtime.CompilerServices.RefSafetyRulesAttribute((Int32)11)] ]</td></tr></tbody></table></div></details></td></tr><tr><td>IsSecurityCritical</td><td><div class=\"dni-plaintext\"><pre>True</pre></div></td></tr><tr><td>IsSecuritySafeCritical</td><td><div class=\"dni-plaintext\"><pre>False</pre></div></td></tr><tr><td>IsSecurityTransparent</td><td><div class=\"dni-plaintext\"><pre>False</pre></div></td></tr><tr><td>MethodHandle</td><td><details class=\"dni-treeview\"><summary><span class=\"dni-code-hint\"><code>System.RuntimeMethodHandle</code></span></summary><div><table><thead><tr></tr></thead><tbody><tr><td>Value</td><td>140731641892472</td></tr></tbody></table></div></details></td></tr><tr><td>Attributes</td><td><span>Assembly, HideBySig</span></td></tr><tr><td>CallingConvention</td><td><span>Standard, HasThis</span></td></tr><tr><td>ReturnType</td><td><span><a href=\"https://docs.microsoft.com/dotnet/api/system.threading.tasks.task?view=net-7.0\">System.Threading.Tasks.Task</a></span></td></tr><tr><td>ReturnTypeCustomAttributes</td><td><details class=\"dni-treeview\"><summary><span class=\"dni-code-hint\"><code>System.Threading.Tasks.Task</code></span></summary><div><table><thead><tr></tr></thead><tbody><tr><td>ParameterType</td><td>System.Threading.Tasks.Task</td></tr><tr><td>Name</td><td><div class=\"dni-plaintext\"><pre>&lt;null&gt;</pre></div></td></tr><tr><td>HasDefaultValue</td><td>False</td></tr><tr><td>DefaultValue</td><td></td></tr><tr><td>RawDefaultValue</td><td></td></tr><tr><td>MetadataToken</td><td>134217728</td></tr><tr><td>Attributes</td><td>None</td></tr><tr><td>Member</td><td>System.Threading.Tasks.Task <SetHandler>b__0(Microsoft.DotNet.Interactive.Commands.KernelCommand, Microsoft.DotNet.Interactive.KernelInvocationContext)</td></tr><tr><td>Position</td><td>-1</td></tr><tr><td>IsIn</td><td>False</td></tr><tr><td>IsLcid</td><td>False</td></tr><tr><td>IsOptional</td><td>False</td></tr><tr><td>IsOut</td><td>False</td></tr><tr><td>IsRetval</td><td>False</td></tr><tr><td>CustomAttributes</td><td>[  ]</td></tr></tbody></table></div></details></td></tr><tr><td>ReturnParameter</td><td><details class=\"dni-treeview\"><summary><span class=\"dni-code-hint\"><code>System.Threading.Tasks.Task</code></span></summary><div><table><thead><tr></tr></thead><tbody><tr><td>ParameterType</td><td>System.Threading.Tasks.Task</td></tr><tr><td>Name</td><td><div class=\"dni-plaintext\"><pre>&lt;null&gt;</pre></div></td></tr><tr><td>HasDefaultValue</td><td>False</td></tr><tr><td>DefaultValue</td><td></td></tr><tr><td>RawDefaultValue</td><td></td></tr><tr><td>MetadataToken</td><td>134217728</td></tr><tr><td>Attributes</td><td>None</td></tr><tr><td>Member</td><td>System.Threading.Tasks.Task <SetHandler>b__0(Microsoft.DotNet.Interactive.Commands.KernelCommand, Microsoft.DotNet.Interactive.KernelInvocationContext)</td></tr><tr><td>Position</td><td>-1</td></tr><tr><td>IsIn</td><td>False</td></tr><tr><td>IsLcid</td><td>False</td></tr><tr><td>IsOptional</td><td>False</td></tr><tr><td>IsOut</td><td>False</td></tr><tr><td>IsRetval</td><td>False</td></tr><tr><td>CustomAttributes</td><td>[  ]</td></tr></tbody></table></div></details></td></tr><tr><td>IsCollectible</td><td><div class=\"dni-plaintext\"><pre>False</pre></div></td></tr><tr><td>IsGenericMethod</td><td><div class=\"dni-plaintext\"><pre>False</pre></div></td></tr><tr><td>IsGenericMethodDefinition</td><td><div class=\"dni-plaintext\"><pre>False</pre></div></td></tr><tr><td>ContainsGenericParameters</td><td><div class=\"dni-plaintext\"><pre>False</pre></div></td></tr><tr><td>MethodImplementationFlags</td><td><span>IL</span></td></tr><tr><td>IsAbstract</td><td><div class=\"dni-plaintext\"><pre>False</pre></div></td></tr><tr><td>IsConstructor</td><td><div class=\"dni-plaintext\"><pre>False</pre></div></td></tr><tr><td>IsFinal</td><td><div class=\"dni-plaintext\"><pre>False</pre></div></td></tr><tr><td>IsHideBySig</td><td><div class=\"dni-plaintext\"><pre>True</pre></div></td></tr><tr><td>IsSpecialName</td><td><div class=\"dni-plaintext\"><pre>False</pre></div></td></tr><tr><td>IsStatic</td><td><div class=\"dni-plaintext\"><pre>False</pre></div></td></tr><tr><td>IsVirtual</td><td><div class=\"dni-plaintext\"><pre>False</pre></div></td></tr><tr><td>IsAssembly</td><td><div class=\"dni-plaintext\"><pre>True</pre></div></td></tr><tr><td>IsFamily</td><td><div class=\"dni-plaintext\"><pre>False</pre></div></td></tr><tr><td>IsFamilyAndAssembly</td><td><div class=\"dni-plaintext\"><pre>False</pre></div></td></tr><tr><td>IsFamilyOrAssembly</td><td><div class=\"dni-plaintext\"><pre>False</pre></div></td></tr><tr><td>IsPrivate</td><td><div class=\"dni-plaintext\"><pre>False</pre></div></td></tr><tr><td>IsPublic</td><td><div class=\"dni-plaintext\"><pre>False</pre></div></td></tr><tr><td>IsConstructedGenericMethod</td><td><div class=\"dni-plaintext\"><pre>False</pre></div></td></tr><tr><td>CustomAttributes</td><td><i>(empty)</i></td></tr></tbody></table></div></details></td></tr></tbody></table></div></details></td></tr><tr><td>Parent</td><td><div class=\"dni-plaintext\"><pre>&lt;null&gt;</pre></div></td></tr><tr><td>TargetKernelName</td><td><div class=\"dni-plaintext\"><pre>csharp</pre></div></td></tr><tr><td>OriginUri</td><td><div class=\"dni-plaintext\"><pre>&lt;null&gt;</pre></div></td></tr><tr><td>DestinationUri</td><td><div class=\"dni-plaintext\"><pre>&lt;null&gt;</pre></div></td></tr><tr><td>KernelChooserParseResult</td><td><div class=\"dni-plaintext\"><pre>&lt;null&gt;</pre></div></td></tr><tr><td>RoutingSlip</td><td><div class=\"dni-plaintext\"><pre>[ kernel://pid-37992/ (arrived), kernel://pid-37992/csharp (arrived) ]</pre></div></td></tr></tbody></table></div></details></td></tr><tr><td>TargetKernelName</td><td><div class=\"dni-plaintext\"><pre>csharp</pre></div></td></tr><tr><td>OriginUri</td><td><div class=\"dni-plaintext\"><pre>&lt;null&gt;</pre></div></td></tr><tr><td>DestinationUri</td><td><div class=\"dni-plaintext\"><pre>&lt;null&gt;</pre></div></td></tr><tr><td>KernelChooserParseResult</td><td><div class=\"dni-plaintext\"><pre>&lt;null&gt;</pre></div></td></tr><tr><td>RoutingSlip</td><td><div class=\"dni-plaintext\"><pre>[ kernel://local/.NET (arrived), kernel://local/csharp (arrived), kernel://local/csharp, kernel://local/.NET ]</pre></div></td></tr></tbody></table></div></details></td></tr><tr><td>Events</td><td><table><thead><tr><th><i>index</i></th><th><i>type</i></th><th>value</th></tr></thead><tbody><tr><td>0</td><td><span><a href=\"https://docs.microsoft.com/dotnet/api/microsoft.dotnet.interactive.events.codesubmissionreceived?view=net-7.0\">Microsoft.DotNet.Interactive.Events.CodeSubmissionReceived</a></span></td><td><details class=\"dni-treeview\"><summary><span class=\"dni-code-hint\"><code>CodeSubmissionReceived: // Cr&#233;ation des objets n&#233;cessaire &#224; la t&#226;che deman ...</code></span></summary><div><table><thead><tr></tr></thead><tbody><tr><td>Code</td><td><div class=\"dni-plaintext\"><pre>// Cr&#233;ation des objets n&#233;cessaire &#224; la t&#226;che demand&#233;e\n",
       "SparqlRemoteEndpoint endpoint = new SparqlRemoteEndpoint(new Uri(&quot;https://dbpedia.org/sparql&quot;));\n",
       "// Exemple de requ&#234;te SPARQL\n",
       "string query = &quot;SELECT ?label WHERE { &lt;http://dbpedia.org/resource/Asturias&gt; rdfs:label ?label }&quot;;\n",
       "// Execution de la requ&#234;te\n",
       "SparqlResultSet results = endpoint.QueryWithResultSet(query);</pre></div></td></tr><tr><td>Command</td><td><details class=\"dni-treeview\"><summary><span class=\"dni-code-hint\"><code>SubmitCode: // Cr&#233;ation des objets n&#233;cessaire &#224; la t&#226;che deman ...</code></span></summary><div><table><thead><tr></tr></thead><tbody><tr><td>Code</td><td><div class=\"dni-plaintext\"><pre>// Cr&#233;ation des objets n&#233;cessaire &#224; la t&#226;che demand&#233;e\n",
       "SparqlRemoteEndpoint endpoint = new SparqlRemoteEndpoint(new Uri(&quot;https://dbpedia.org/sparql&quot;));\n",
       "// Exemple de requ&#234;te SPARQL\n",
       "string query = &quot;SELECT ?label WHERE { &lt;http://dbpedia.org/resource/Asturias&gt; rdfs:label ?label }&quot;;\n",
       "// Execution de la requ&#234;te\n",
       "SparqlResultSet results = endpoint.QueryWithResultSet(query);</pre></div></td></tr><tr><td>Handler</td><td><details class=\"dni-treeview\"><summary><span class=\"dni-code-hint\"><code>Microsoft.DotNet.Interactive.KernelCommandInvocation</code></span></summary><div><table><thead><tr></tr></thead><tbody><tr><td>Target</td><td><details class=\"dni-treeview\"><summary><span class=\"dni-code-hint\"><code>Microsoft.DotNet.Interactive.Kernel+&lt;&gt;c__DisplayClass82_0`1[Microsoft.DotNet.Interactive.Commands.SubmitCode]</code></span></summary><div><table><thead><tr></tr></thead><tbody><tr><td>handler</td><td>Microsoft.DotNet.Interactive.CSharp.CSharpKernel: csharp (kernel://local/csharp)</td></tr><tr><td>command</td><td>SubmitCode: // Création des objets nécessaire à la tâche deman ...</td></tr></tbody></table></div></details></td></tr><tr><td>Method</td><td><details class=\"dni-treeview\"><summary><span class=\"dni-code-hint\"><code>System.Threading.Tasks.Task &lt;SetHandler&gt;b__0(Microsoft.DotNet.Interactive.Commands.KernelCommand, Microsoft.DotNet.Interactive.KernelInvocationContext)</code></span></summary><div><table><thead><tr></tr></thead><tbody><tr><td>Name</td><td><SetHandler>b__0</td></tr><tr><td>DeclaringType</td><td>Microsoft.DotNet.Interactive.Kernel+<>c__DisplayClass82_0`1[Microsoft.DotNet.Interactive.Commands.SubmitCode]</td></tr><tr><td>ReflectedType</td><td>Microsoft.DotNet.Interactive.Kernel+<>c__DisplayClass82_0`1[Microsoft.DotNet.Interactive.Commands.SubmitCode]</td></tr><tr><td>MemberType</td><td>Method</td></tr><tr><td>MetadataToken</td><td>100664828</td></tr><tr><td>Module</td><td>Microsoft.DotNet.Interactive.dll</td></tr><tr><td>IsSecurityCritical</td><td>True</td></tr><tr><td>IsSecuritySafeCritical</td><td>False</td></tr><tr><td>IsSecurityTransparent</td><td>False</td></tr><tr><td>MethodHandle</td><td>System.RuntimeMethodHandle</td></tr><tr><td>Attributes</td><td>Assembly, HideBySig</td></tr><tr><td>CallingConvention</td><td>Standard, HasThis</td></tr><tr><td>ReturnType</td><td>System.Threading.Tasks.Task</td></tr><tr><td>ReturnTypeCustomAttributes</td><td>System.Threading.Tasks.Task</td></tr><tr><td>ReturnParameter</td><td>System.Threading.Tasks.Task</td></tr><tr><td>IsCollectible</td><td>False</td></tr><tr><td>IsGenericMethod</td><td>False</td></tr><tr><td>IsGenericMethodDefinition</td><td>False</td></tr><tr><td>ContainsGenericParameters</td><td>False</td></tr><tr><td>MethodImplementationFlags</td><td>IL</td></tr><tr><td>IsAbstract</td><td>False</td></tr><tr><td>IsConstructor</td><td>False</td></tr><tr><td>IsFinal</td><td>False</td></tr><tr><td>IsHideBySig</td><td>True</td></tr><tr><td>IsSpecialName</td><td>False</td></tr><tr><td>IsStatic</td><td>False</td></tr><tr><td>IsVirtual</td><td>False</td></tr><tr><td>IsAssembly</td><td>True</td></tr><tr><td>IsFamily</td><td>False</td></tr><tr><td>IsFamilyAndAssembly</td><td>False</td></tr><tr><td>IsFamilyOrAssembly</td><td>False</td></tr><tr><td>IsPrivate</td><td>False</td></tr><tr><td>IsPublic</td><td>False</td></tr><tr><td>IsConstructedGenericMethod</td><td>False</td></tr><tr><td>CustomAttributes</td><td>[  ]</td></tr></tbody></table></div></details></td></tr></tbody></table></div></details></td></tr><tr><td>Parent</td><td><details class=\"dni-treeview\"><summary><span class=\"dni-code-hint\"><code>SubmitCode: var logger = new DisplayLogger(&quot;NotebookUpdater&quot;,  ...</code></span></summary><div><table><thead><tr></tr></thead><tbody><tr><td>Code</td><td><div class=\"dni-plaintext\"><pre>var logger = new DisplayLogger(&quot;NotebookUpdater&quot;, LogLevel.Information);\n",
       "\n",
       "display(&quot;Cr&#233;ation de l&#39;instance NotebookUpdater...&quot;);\n",
       "var updater = new NotebookUpdater(semanticKernel, notebookPath, logger);\n",
       "\n",
       "display(&quot;Appel &#224; UpdateNotebook...&quot;);\n",
       "var response = await updater.UpdateNotebook();\n",
       "\n",
       "display($&quot;R&#233;sultat de l&#39;ex&#233;cution du notebook :\\n{response}&quot;);\n",
       "</pre></div></td></tr><tr><td>Handler</td><td><details class=\"dni-treeview\"><summary><span class=\"dni-code-hint\"><code>Microsoft.DotNet.Interactive.KernelCommandInvocation</code></span></summary><div><table><thead><tr></tr></thead><tbody><tr><td>Target</td><td>Microsoft.DotNet.Interactive.Kernel+<>c__DisplayClass82_0`1[Microsoft.DotNet.Interactive.Commands.SubmitCode]</td></tr><tr><td>Method</td><td>System.Threading.Tasks.Task <SetHandler>b__0(Microsoft.DotNet.Interactive.Commands.KernelCommand, Microsoft.DotNet.Interactive.KernelInvocationContext)</td></tr></tbody></table></div></details></td></tr><tr><td>Parent</td><td><div class=\"dni-plaintext\"><pre>&lt;null&gt;</pre></div></td></tr><tr><td>TargetKernelName</td><td><div class=\"dni-plaintext\"><pre>csharp</pre></div></td></tr><tr><td>OriginUri</td><td><div class=\"dni-plaintext\"><pre>&lt;null&gt;</pre></div></td></tr><tr><td>DestinationUri</td><td><div class=\"dni-plaintext\"><pre>&lt;null&gt;</pre></div></td></tr><tr><td>KernelChooserParseResult</td><td><div class=\"dni-plaintext\"><pre>&lt;null&gt;</pre></div></td></tr><tr><td>RoutingSlip</td><td>[ kernel://pid-37992/ (arrived), kernel://pid-37992/csharp (arrived) ]</td></tr></tbody></table></div></details></td></tr><tr><td>TargetKernelName</td><td><div class=\"dni-plaintext\"><pre>csharp</pre></div></td></tr><tr><td>OriginUri</td><td><div class=\"dni-plaintext\"><pre>&lt;null&gt;</pre></div></td></tr><tr><td>DestinationUri</td><td><div class=\"dni-plaintext\"><pre>&lt;null&gt;</pre></div></td></tr><tr><td>KernelChooserParseResult</td><td><div class=\"dni-plaintext\"><pre>&lt;null&gt;</pre></div></td></tr><tr><td>RoutingSlip</td><td><div class=\"dni-plaintext\"><pre>[ kernel://local/.NET (arrived), kernel://local/csharp (arrived), kernel://local/csharp, kernel://local/.NET ]</pre></div></td></tr></tbody></table></div></details></td></tr><tr><td>RoutingSlip</td><td><div class=\"dni-plaintext\"><pre>[ kernel://local/csharp, kernel://pid-37992/ ]</pre></div></td></tr></tbody></table></div></details></td></tr><tr><td>1</td><td><span><a href=\"https://docs.microsoft.com/dotnet/api/microsoft.dotnet.interactive.events.completecodesubmissionreceived?view=net-7.0\">Microsoft.DotNet.Interactive.Events.CompleteCodeSubmissionReceived</a></span></td><td><details class=\"dni-treeview\"><summary><span class=\"dni-code-hint\"><code>CompleteCodeSubmissionReceived: // Cr&#233;ation des objets n&#233;cessaire &#224; la t&#226;che deman ...</code></span></summary><div><table><thead><tr></tr></thead><tbody><tr><td>Code</td><td><div class=\"dni-plaintext\"><pre>// Cr&#233;ation des objets n&#233;cessaire &#224; la t&#226;che demand&#233;e\n",
       "SparqlRemoteEndpoint endpoint = new SparqlRemoteEndpoint(new Uri(&quot;https://dbpedia.org/sparql&quot;));\n",
       "// Exemple de requ&#234;te SPARQL\n",
       "string query = &quot;SELECT ?label WHERE { &lt;http://dbpedia.org/resource/Asturias&gt; rdfs:label ?label }&quot;;\n",
       "// Execution de la requ&#234;te\n",
       "SparqlResultSet results = endpoint.QueryWithResultSet(query);</pre></div></td></tr><tr><td>Command</td><td><details class=\"dni-treeview\"><summary><span class=\"dni-code-hint\"><code>SubmitCode: // Cr&#233;ation des objets n&#233;cessaire &#224; la t&#226;che deman ...</code></span></summary><div><table><thead><tr></tr></thead><tbody><tr><td>Code</td><td><div class=\"dni-plaintext\"><pre>// Cr&#233;ation des objets n&#233;cessaire &#224; la t&#226;che demand&#233;e\n",
       "SparqlRemoteEndpoint endpoint = new SparqlRemoteEndpoint(new Uri(&quot;https://dbpedia.org/sparql&quot;));\n",
       "// Exemple de requ&#234;te SPARQL\n",
       "string query = &quot;SELECT ?label WHERE { &lt;http://dbpedia.org/resource/Asturias&gt; rdfs:label ?label }&quot;;\n",
       "// Execution de la requ&#234;te\n",
       "SparqlResultSet results = endpoint.QueryWithResultSet(query);</pre></div></td></tr><tr><td>Handler</td><td><details class=\"dni-treeview\"><summary><span class=\"dni-code-hint\"><code>Microsoft.DotNet.Interactive.KernelCommandInvocation</code></span></summary><div><table><thead><tr></tr></thead><tbody><tr><td>Target</td><td><details class=\"dni-treeview\"><summary><span class=\"dni-code-hint\"><code>Microsoft.DotNet.Interactive.Kernel+&lt;&gt;c__DisplayClass82_0`1[Microsoft.DotNet.Interactive.Commands.SubmitCode]</code></span></summary><div><table><thead><tr></tr></thead><tbody><tr><td>handler</td><td>Microsoft.DotNet.Interactive.CSharp.CSharpKernel: csharp (kernel://local/csharp)</td></tr><tr><td>command</td><td>SubmitCode: // Création des objets nécessaire à la tâche deman ...</td></tr></tbody></table></div></details></td></tr><tr><td>Method</td><td><details class=\"dni-treeview\"><summary><span class=\"dni-code-hint\"><code>System.Threading.Tasks.Task &lt;SetHandler&gt;b__0(Microsoft.DotNet.Interactive.Commands.KernelCommand, Microsoft.DotNet.Interactive.KernelInvocationContext)</code></span></summary><div><table><thead><tr></tr></thead><tbody><tr><td>Name</td><td><SetHandler>b__0</td></tr><tr><td>DeclaringType</td><td>Microsoft.DotNet.Interactive.Kernel+<>c__DisplayClass82_0`1[Microsoft.DotNet.Interactive.Commands.SubmitCode]</td></tr><tr><td>ReflectedType</td><td>Microsoft.DotNet.Interactive.Kernel+<>c__DisplayClass82_0`1[Microsoft.DotNet.Interactive.Commands.SubmitCode]</td></tr><tr><td>MemberType</td><td>Method</td></tr><tr><td>MetadataToken</td><td>100664828</td></tr><tr><td>Module</td><td>Microsoft.DotNet.Interactive.dll</td></tr><tr><td>IsSecurityCritical</td><td>True</td></tr><tr><td>IsSecuritySafeCritical</td><td>False</td></tr><tr><td>IsSecurityTransparent</td><td>False</td></tr><tr><td>MethodHandle</td><td>System.RuntimeMethodHandle</td></tr><tr><td>Attributes</td><td>Assembly, HideBySig</td></tr><tr><td>CallingConvention</td><td>Standard, HasThis</td></tr><tr><td>ReturnType</td><td>System.Threading.Tasks.Task</td></tr><tr><td>ReturnTypeCustomAttributes</td><td>System.Threading.Tasks.Task</td></tr><tr><td>ReturnParameter</td><td>System.Threading.Tasks.Task</td></tr><tr><td>IsCollectible</td><td>False</td></tr><tr><td>IsGenericMethod</td><td>False</td></tr><tr><td>IsGenericMethodDefinition</td><td>False</td></tr><tr><td>ContainsGenericParameters</td><td>False</td></tr><tr><td>MethodImplementationFlags</td><td>IL</td></tr><tr><td>IsAbstract</td><td>False</td></tr><tr><td>IsConstructor</td><td>False</td></tr><tr><td>IsFinal</td><td>False</td></tr><tr><td>IsHideBySig</td><td>True</td></tr><tr><td>IsSpecialName</td><td>False</td></tr><tr><td>IsStatic</td><td>False</td></tr><tr><td>IsVirtual</td><td>False</td></tr><tr><td>IsAssembly</td><td>True</td></tr><tr><td>IsFamily</td><td>False</td></tr><tr><td>IsFamilyAndAssembly</td><td>False</td></tr><tr><td>IsFamilyOrAssembly</td><td>False</td></tr><tr><td>IsPrivate</td><td>False</td></tr><tr><td>IsPublic</td><td>False</td></tr><tr><td>IsConstructedGenericMethod</td><td>False</td></tr><tr><td>CustomAttributes</td><td>[  ]</td></tr></tbody></table></div></details></td></tr></tbody></table></div></details></td></tr><tr><td>Parent</td><td><details class=\"dni-treeview\"><summary><span class=\"dni-code-hint\"><code>SubmitCode: var logger = new DisplayLogger(&quot;NotebookUpdater&quot;,  ...</code></span></summary><div><table><thead><tr></tr></thead><tbody><tr><td>Code</td><td><div class=\"dni-plaintext\"><pre>var logger = new DisplayLogger(&quot;NotebookUpdater&quot;, LogLevel.Information);\n",
       "\n",
       "display(&quot;Cr&#233;ation de l&#39;instance NotebookUpdater...&quot;);\n",
       "var updater = new NotebookUpdater(semanticKernel, notebookPath, logger);\n",
       "\n",
       "display(&quot;Appel &#224; UpdateNotebook...&quot;);\n",
       "var response = await updater.UpdateNotebook();\n",
       "\n",
       "display($&quot;R&#233;sultat de l&#39;ex&#233;cution du notebook :\\n{response}&quot;);\n",
       "</pre></div></td></tr><tr><td>Handler</td><td><details class=\"dni-treeview\"><summary><span class=\"dni-code-hint\"><code>Microsoft.DotNet.Interactive.KernelCommandInvocation</code></span></summary><div><table><thead><tr></tr></thead><tbody><tr><td>Target</td><td>Microsoft.DotNet.Interactive.Kernel+<>c__DisplayClass82_0`1[Microsoft.DotNet.Interactive.Commands.SubmitCode]</td></tr><tr><td>Method</td><td>System.Threading.Tasks.Task <SetHandler>b__0(Microsoft.DotNet.Interactive.Commands.KernelCommand, Microsoft.DotNet.Interactive.KernelInvocationContext)</td></tr></tbody></table></div></details></td></tr><tr><td>Parent</td><td><div class=\"dni-plaintext\"><pre>&lt;null&gt;</pre></div></td></tr><tr><td>TargetKernelName</td><td><div class=\"dni-plaintext\"><pre>csharp</pre></div></td></tr><tr><td>OriginUri</td><td><div class=\"dni-plaintext\"><pre>&lt;null&gt;</pre></div></td></tr><tr><td>DestinationUri</td><td><div class=\"dni-plaintext\"><pre>&lt;null&gt;</pre></div></td></tr><tr><td>KernelChooserParseResult</td><td><div class=\"dni-plaintext\"><pre>&lt;null&gt;</pre></div></td></tr><tr><td>RoutingSlip</td><td>[ kernel://pid-37992/ (arrived), kernel://pid-37992/csharp (arrived) ]</td></tr></tbody></table></div></details></td></tr><tr><td>TargetKernelName</td><td><div class=\"dni-plaintext\"><pre>csharp</pre></div></td></tr><tr><td>OriginUri</td><td><div class=\"dni-plaintext\"><pre>&lt;null&gt;</pre></div></td></tr><tr><td>DestinationUri</td><td><div class=\"dni-plaintext\"><pre>&lt;null&gt;</pre></div></td></tr><tr><td>KernelChooserParseResult</td><td><div class=\"dni-plaintext\"><pre>&lt;null&gt;</pre></div></td></tr><tr><td>RoutingSlip</td><td><div class=\"dni-plaintext\"><pre>[ kernel://local/.NET (arrived), kernel://local/csharp (arrived), kernel://local/csharp, kernel://local/.NET ]</pre></div></td></tr></tbody></table></div></details></td></tr><tr><td>RoutingSlip</td><td><div class=\"dni-plaintext\"><pre>[ kernel://local/csharp, kernel://pid-37992/ ]</pre></div></td></tr></tbody></table></div></details></td></tr><tr><td>2</td><td><span><a href=\"https://docs.microsoft.com/dotnet/api/microsoft.dotnet.interactive.events.diagnosticsproduced?view=net-7.0\">Microsoft.DotNet.Interactive.Events.DiagnosticsProduced</a></span></td><td><details class=\"dni-treeview\"><summary><span class=\"dni-code-hint\"><code>DiagnosticsProduced</code></span></summary><div><table><thead><tr></tr></thead><tbody><tr><td>Diagnostics</td><td><table><thead><tr><th><i>index</i></th><th>value</th></tr></thead><tbody><tr><td>0</td><td><details class=\"dni-treeview\"><summary><span class=\"dni-code-hint\"><code>CS0618: [(1, 0)-(1, 20)) &#39;SparqlRemoteEndpoint&#39; est obsol&#232;te&#160;: &#39;This class is obsolete and will be removed in a future release. Replaced by VDS.RDF.Query.SparqlQueryClient.&#39;</code></span></summary><div><table><thead><tr></tr></thead><tbody><tr><td>LinePositionSpan</td><td><details class=\"dni-treeview\"><summary><span class=\"dni-code-hint\"><code>[(1, 0)-(1, 20))</code></span></summary><div><table><thead><tr></tr></thead><tbody><tr><td>Start</td><td>(1, 0)</td></tr><tr><td>End</td><td>(1, 20)</td></tr></tbody></table></div></details></td></tr><tr><td>Severity</td><td><span>Warning</span></td></tr><tr><td>Code</td><td><div class=\"dni-plaintext\"><pre>CS0618</pre></div></td></tr><tr><td>Message</td><td><div class=\"dni-plaintext\"><pre>&#39;SparqlRemoteEndpoint&#39; est obsol&#232;te&#160;: &#39;This class is obsolete and will be removed in a future release. Replaced by VDS.RDF.Query.SparqlQueryClient.&#39;</pre></div></td></tr></tbody></table></div></details></td></tr><tr><td>1</td><td><details class=\"dni-treeview\"><summary><span class=\"dni-code-hint\"><code>CS0618: [(1, 36)-(1, 56)) &#39;SparqlRemoteEndpoint&#39; est obsol&#232;te&#160;: &#39;This class is obsolete and will be removed in a future release. Replaced by VDS.RDF.Query.SparqlQueryClient.&#39;</code></span></summary><div><table><thead><tr></tr></thead><tbody><tr><td>LinePositionSpan</td><td><details class=\"dni-treeview\"><summary><span class=\"dni-code-hint\"><code>[(1, 36)-(1, 56))</code></span></summary><div><table><thead><tr></tr></thead><tbody><tr><td>Start</td><td>(1, 36)</td></tr><tr><td>End</td><td>(1, 56)</td></tr></tbody></table></div></details></td></tr><tr><td>Severity</td><td><span>Warning</span></td></tr><tr><td>Code</td><td><div class=\"dni-plaintext\"><pre>CS0618</pre></div></td></tr><tr><td>Message</td><td><div class=\"dni-plaintext\"><pre>&#39;SparqlRemoteEndpoint&#39; est obsol&#232;te&#160;: &#39;This class is obsolete and will be removed in a future release. Replaced by VDS.RDF.Query.SparqlQueryClient.&#39;</pre></div></td></tr></tbody></table></div></details></td></tr></tbody></table></td></tr><tr><td>FormattedDiagnostics</td><td><table><thead><tr><th><i>index</i></th><th>value</th></tr></thead><tbody><tr><td>0</td><td><details class=\"dni-treeview\"><summary><span class=\"dni-code-hint\"><code>Microsoft.DotNet.Interactive.FormattedValue</code></span></summary><div><table><thead><tr></tr></thead><tbody><tr><td>MimeType</td><td><div class=\"dni-plaintext\"><pre>text/plain</pre></div></td></tr><tr><td>Value</td><td><div class=\"dni-plaintext\"><pre>(2,1): warning CS0618: &#39;SparqlRemoteEndpoint&#39; est obsol&#232;te&#160;: &#39;This class is obsolete and will be removed in a future release. Replaced by VDS.RDF.Query.SparqlQueryClient.&#39;</pre></div></td></tr><tr><td>SuppressDisplay</td><td><div class=\"dni-plaintext\"><pre>False</pre></div></td></tr></tbody></table></div></details></td></tr><tr><td>1</td><td><details class=\"dni-treeview\"><summary><span class=\"dni-code-hint\"><code>Microsoft.DotNet.Interactive.FormattedValue</code></span></summary><div><table><thead><tr></tr></thead><tbody><tr><td>MimeType</td><td><div class=\"dni-plaintext\"><pre>text/plain</pre></div></td></tr><tr><td>Value</td><td><div class=\"dni-plaintext\"><pre>(2,37): warning CS0618: &#39;SparqlRemoteEndpoint&#39; est obsol&#232;te&#160;: &#39;This class is obsolete and will be removed in a future release. Replaced by VDS.RDF.Query.SparqlQueryClient.&#39;</pre></div></td></tr><tr><td>SuppressDisplay</td><td><div class=\"dni-plaintext\"><pre>False</pre></div></td></tr></tbody></table></div></details></td></tr></tbody></table></td></tr><tr><td>Command</td><td><details class=\"dni-treeview\"><summary><span class=\"dni-code-hint\"><code>SubmitCode: // Cr&#233;ation des objets n&#233;cessaire &#224; la t&#226;che deman ...</code></span></summary><div><table><thead><tr></tr></thead><tbody><tr><td>Code</td><td><div class=\"dni-plaintext\"><pre>// Cr&#233;ation des objets n&#233;cessaire &#224; la t&#226;che demand&#233;e\n",
       "SparqlRemoteEndpoint endpoint = new SparqlRemoteEndpoint(new Uri(&quot;https://dbpedia.org/sparql&quot;));\n",
       "// Exemple de requ&#234;te SPARQL\n",
       "string query = &quot;SELECT ?label WHERE { &lt;http://dbpedia.org/resource/Asturias&gt; rdfs:label ?label }&quot;;\n",
       "// Execution de la requ&#234;te\n",
       "SparqlResultSet results = endpoint.QueryWithResultSet(query);</pre></div></td></tr><tr><td>Handler</td><td><details class=\"dni-treeview\"><summary><span class=\"dni-code-hint\"><code>Microsoft.DotNet.Interactive.KernelCommandInvocation</code></span></summary><div><table><thead><tr></tr></thead><tbody><tr><td>Target</td><td><details class=\"dni-treeview\"><summary><span class=\"dni-code-hint\"><code>Microsoft.DotNet.Interactive.Kernel+&lt;&gt;c__DisplayClass82_0`1[Microsoft.DotNet.Interactive.Commands.SubmitCode]</code></span></summary><div><table><thead><tr></tr></thead><tbody><tr><td>handler</td><td>Microsoft.DotNet.Interactive.CSharp.CSharpKernel: csharp (kernel://local/csharp)</td></tr><tr><td>command</td><td>SubmitCode: // Création des objets nécessaire à la tâche deman ...</td></tr></tbody></table></div></details></td></tr><tr><td>Method</td><td><details class=\"dni-treeview\"><summary><span class=\"dni-code-hint\"><code>System.Threading.Tasks.Task &lt;SetHandler&gt;b__0(Microsoft.DotNet.Interactive.Commands.KernelCommand, Microsoft.DotNet.Interactive.KernelInvocationContext)</code></span></summary><div><table><thead><tr></tr></thead><tbody><tr><td>Name</td><td><SetHandler>b__0</td></tr><tr><td>DeclaringType</td><td>Microsoft.DotNet.Interactive.Kernel+<>c__DisplayClass82_0`1[Microsoft.DotNet.Interactive.Commands.SubmitCode]</td></tr><tr><td>ReflectedType</td><td>Microsoft.DotNet.Interactive.Kernel+<>c__DisplayClass82_0`1[Microsoft.DotNet.Interactive.Commands.SubmitCode]</td></tr><tr><td>MemberType</td><td>Method</td></tr><tr><td>MetadataToken</td><td>100664828</td></tr><tr><td>Module</td><td>Microsoft.DotNet.Interactive.dll</td></tr><tr><td>IsSecurityCritical</td><td>True</td></tr><tr><td>IsSecuritySafeCritical</td><td>False</td></tr><tr><td>IsSecurityTransparent</td><td>False</td></tr><tr><td>MethodHandle</td><td>System.RuntimeMethodHandle</td></tr><tr><td>Attributes</td><td>Assembly, HideBySig</td></tr><tr><td>CallingConvention</td><td>Standard, HasThis</td></tr><tr><td>ReturnType</td><td>System.Threading.Tasks.Task</td></tr><tr><td>ReturnTypeCustomAttributes</td><td>System.Threading.Tasks.Task</td></tr><tr><td>ReturnParameter</td><td>System.Threading.Tasks.Task</td></tr><tr><td>IsCollectible</td><td>False</td></tr><tr><td>IsGenericMethod</td><td>False</td></tr><tr><td>IsGenericMethodDefinition</td><td>False</td></tr><tr><td>ContainsGenericParameters</td><td>False</td></tr><tr><td>MethodImplementationFlags</td><td>IL</td></tr><tr><td>IsAbstract</td><td>False</td></tr><tr><td>IsConstructor</td><td>False</td></tr><tr><td>IsFinal</td><td>False</td></tr><tr><td>IsHideBySig</td><td>True</td></tr><tr><td>IsSpecialName</td><td>False</td></tr><tr><td>IsStatic</td><td>False</td></tr><tr><td>IsVirtual</td><td>False</td></tr><tr><td>IsAssembly</td><td>True</td></tr><tr><td>IsFamily</td><td>False</td></tr><tr><td>IsFamilyAndAssembly</td><td>False</td></tr><tr><td>IsFamilyOrAssembly</td><td>False</td></tr><tr><td>IsPrivate</td><td>False</td></tr><tr><td>IsPublic</td><td>False</td></tr><tr><td>IsConstructedGenericMethod</td><td>False</td></tr><tr><td>CustomAttributes</td><td>[  ]</td></tr></tbody></table></div></details></td></tr></tbody></table></div></details></td></tr><tr><td>Parent</td><td><details class=\"dni-treeview\"><summary><span class=\"dni-code-hint\"><code>SubmitCode: var logger = new DisplayLogger(&quot;NotebookUpdater&quot;,  ...</code></span></summary><div><table><thead><tr></tr></thead><tbody><tr><td>Code</td><td><div class=\"dni-plaintext\"><pre>var logger = new DisplayLogger(&quot;NotebookUpdater&quot;, LogLevel.Information);\n",
       "\n",
       "display(&quot;Cr&#233;ation de l&#39;instance NotebookUpdater...&quot;);\n",
       "var updater = new NotebookUpdater(semanticKernel, notebookPath, logger);\n",
       "\n",
       "display(&quot;Appel &#224; UpdateNotebook...&quot;);\n",
       "var response = await updater.UpdateNotebook();\n",
       "\n",
       "display($&quot;R&#233;sultat de l&#39;ex&#233;cution du notebook :\\n{response}&quot;);\n",
       "</pre></div></td></tr><tr><td>Handler</td><td><details class=\"dni-treeview\"><summary><span class=\"dni-code-hint\"><code>Microsoft.DotNet.Interactive.KernelCommandInvocation</code></span></summary><div><table><thead><tr></tr></thead><tbody><tr><td>Target</td><td>Microsoft.DotNet.Interactive.Kernel+<>c__DisplayClass82_0`1[Microsoft.DotNet.Interactive.Commands.SubmitCode]</td></tr><tr><td>Method</td><td>System.Threading.Tasks.Task <SetHandler>b__0(Microsoft.DotNet.Interactive.Commands.KernelCommand, Microsoft.DotNet.Interactive.KernelInvocationContext)</td></tr></tbody></table></div></details></td></tr><tr><td>Parent</td><td><div class=\"dni-plaintext\"><pre>&lt;null&gt;</pre></div></td></tr><tr><td>TargetKernelName</td><td><div class=\"dni-plaintext\"><pre>csharp</pre></div></td></tr><tr><td>OriginUri</td><td><div class=\"dni-plaintext\"><pre>&lt;null&gt;</pre></div></td></tr><tr><td>DestinationUri</td><td><div class=\"dni-plaintext\"><pre>&lt;null&gt;</pre></div></td></tr><tr><td>KernelChooserParseResult</td><td><div class=\"dni-plaintext\"><pre>&lt;null&gt;</pre></div></td></tr><tr><td>RoutingSlip</td><td>[ kernel://pid-37992/ (arrived), kernel://pid-37992/csharp (arrived) ]</td></tr></tbody></table></div></details></td></tr><tr><td>TargetKernelName</td><td><div class=\"dni-plaintext\"><pre>csharp</pre></div></td></tr><tr><td>OriginUri</td><td><div class=\"dni-plaintext\"><pre>&lt;null&gt;</pre></div></td></tr><tr><td>DestinationUri</td><td><div class=\"dni-plaintext\"><pre>&lt;null&gt;</pre></div></td></tr><tr><td>KernelChooserParseResult</td><td><div class=\"dni-plaintext\"><pre>&lt;null&gt;</pre></div></td></tr><tr><td>RoutingSlip</td><td><div class=\"dni-plaintext\"><pre>[ kernel://local/.NET (arrived), kernel://local/csharp (arrived), kernel://local/csharp, kernel://local/.NET ]</pre></div></td></tr></tbody></table></div></details></td></tr><tr><td>RoutingSlip</td><td><div class=\"dni-plaintext\"><pre>[ kernel://local/csharp, kernel://pid-37992/ ]</pre></div></td></tr></tbody></table></div></details></td></tr><tr><td>3</td><td><span><a href=\"https://docs.microsoft.com/dotnet/api/microsoft.dotnet.interactive.events.commandsucceeded?view=net-7.0\">Microsoft.DotNet.Interactive.Events.CommandSucceeded</a></span></td><td><details class=\"dni-treeview\"><summary><span class=\"dni-code-hint\"><code>CommandSucceeded: SubmitCode: // Cr&#233;ation des objets n&#233;cessaire &#224; la t&#226;che deman ...</code></span></summary><div><table><thead><tr></tr></thead><tbody><tr><td>ExecutionOrder</td><td><div class=\"dni-plaintext\"><pre>0</pre></div></td></tr><tr><td>Command</td><td><details class=\"dni-treeview\"><summary><span class=\"dni-code-hint\"><code>SubmitCode: // Cr&#233;ation des objets n&#233;cessaire &#224; la t&#226;che deman ...</code></span></summary><div><table><thead><tr></tr></thead><tbody><tr><td>Code</td><td><div class=\"dni-plaintext\"><pre>// Cr&#233;ation des objets n&#233;cessaire &#224; la t&#226;che demand&#233;e\n",
       "SparqlRemoteEndpoint endpoint = new SparqlRemoteEndpoint(new Uri(&quot;https://dbpedia.org/sparql&quot;));\n",
       "// Exemple de requ&#234;te SPARQL\n",
       "string query = &quot;SELECT ?label WHERE { &lt;http://dbpedia.org/resource/Asturias&gt; rdfs:label ?label }&quot;;\n",
       "// Execution de la requ&#234;te\n",
       "SparqlResultSet results = endpoint.QueryWithResultSet(query);</pre></div></td></tr><tr><td>Handler</td><td><details class=\"dni-treeview\"><summary><span class=\"dni-code-hint\"><code>Microsoft.DotNet.Interactive.KernelCommandInvocation</code></span></summary><div><table><thead><tr></tr></thead><tbody><tr><td>Target</td><td><details class=\"dni-treeview\"><summary><span class=\"dni-code-hint\"><code>Microsoft.DotNet.Interactive.Kernel+&lt;&gt;c__DisplayClass82_0`1[Microsoft.DotNet.Interactive.Commands.SubmitCode]</code></span></summary><div><table><thead><tr></tr></thead><tbody><tr><td>handler</td><td>Microsoft.DotNet.Interactive.CSharp.CSharpKernel: csharp (kernel://local/csharp)</td></tr><tr><td>command</td><td>SubmitCode: // Création des objets nécessaire à la tâche deman ...</td></tr></tbody></table></div></details></td></tr><tr><td>Method</td><td><details class=\"dni-treeview\"><summary><span class=\"dni-code-hint\"><code>System.Threading.Tasks.Task &lt;SetHandler&gt;b__0(Microsoft.DotNet.Interactive.Commands.KernelCommand, Microsoft.DotNet.Interactive.KernelInvocationContext)</code></span></summary><div><table><thead><tr></tr></thead><tbody><tr><td>Name</td><td><SetHandler>b__0</td></tr><tr><td>DeclaringType</td><td>Microsoft.DotNet.Interactive.Kernel+<>c__DisplayClass82_0`1[Microsoft.DotNet.Interactive.Commands.SubmitCode]</td></tr><tr><td>ReflectedType</td><td>Microsoft.DotNet.Interactive.Kernel+<>c__DisplayClass82_0`1[Microsoft.DotNet.Interactive.Commands.SubmitCode]</td></tr><tr><td>MemberType</td><td>Method</td></tr><tr><td>MetadataToken</td><td>100664828</td></tr><tr><td>Module</td><td>Microsoft.DotNet.Interactive.dll</td></tr><tr><td>IsSecurityCritical</td><td>True</td></tr><tr><td>IsSecuritySafeCritical</td><td>False</td></tr><tr><td>IsSecurityTransparent</td><td>False</td></tr><tr><td>MethodHandle</td><td>System.RuntimeMethodHandle</td></tr><tr><td>Attributes</td><td>Assembly, HideBySig</td></tr><tr><td>CallingConvention</td><td>Standard, HasThis</td></tr><tr><td>ReturnType</td><td>System.Threading.Tasks.Task</td></tr><tr><td>ReturnTypeCustomAttributes</td><td>System.Threading.Tasks.Task</td></tr><tr><td>ReturnParameter</td><td>System.Threading.Tasks.Task</td></tr><tr><td>IsCollectible</td><td>False</td></tr><tr><td>IsGenericMethod</td><td>False</td></tr><tr><td>IsGenericMethodDefinition</td><td>False</td></tr><tr><td>ContainsGenericParameters</td><td>False</td></tr><tr><td>MethodImplementationFlags</td><td>IL</td></tr><tr><td>IsAbstract</td><td>False</td></tr><tr><td>IsConstructor</td><td>False</td></tr><tr><td>IsFinal</td><td>False</td></tr><tr><td>IsHideBySig</td><td>True</td></tr><tr><td>IsSpecialName</td><td>False</td></tr><tr><td>IsStatic</td><td>False</td></tr><tr><td>IsVirtual</td><td>False</td></tr><tr><td>IsAssembly</td><td>True</td></tr><tr><td>IsFamily</td><td>False</td></tr><tr><td>IsFamilyAndAssembly</td><td>False</td></tr><tr><td>IsFamilyOrAssembly</td><td>False</td></tr><tr><td>IsPrivate</td><td>False</td></tr><tr><td>IsPublic</td><td>False</td></tr><tr><td>IsConstructedGenericMethod</td><td>False</td></tr><tr><td>CustomAttributes</td><td>[  ]</td></tr></tbody></table></div></details></td></tr></tbody></table></div></details></td></tr><tr><td>Parent</td><td><details class=\"dni-treeview\"><summary><span class=\"dni-code-hint\"><code>SubmitCode: var logger = new DisplayLogger(&quot;NotebookUpdater&quot;,  ...</code></span></summary><div><table><thead><tr></tr></thead><tbody><tr><td>Code</td><td><div class=\"dni-plaintext\"><pre>var logger = new DisplayLogger(&quot;NotebookUpdater&quot;, LogLevel.Information);\n",
       "\n",
       "display(&quot;Cr&#233;ation de l&#39;instance NotebookUpdater...&quot;);\n",
       "var updater = new NotebookUpdater(semanticKernel, notebookPath, logger);\n",
       "\n",
       "display(&quot;Appel &#224; UpdateNotebook...&quot;);\n",
       "var response = await updater.UpdateNotebook();\n",
       "\n",
       "display($&quot;R&#233;sultat de l&#39;ex&#233;cution du notebook :\\n{response}&quot;);\n",
       "</pre></div></td></tr><tr><td>Handler</td><td><details class=\"dni-treeview\"><summary><span class=\"dni-code-hint\"><code>Microsoft.DotNet.Interactive.KernelCommandInvocation</code></span></summary><div><table><thead><tr></tr></thead><tbody><tr><td>Target</td><td>Microsoft.DotNet.Interactive.Kernel+<>c__DisplayClass82_0`1[Microsoft.DotNet.Interactive.Commands.SubmitCode]</td></tr><tr><td>Method</td><td>System.Threading.Tasks.Task <SetHandler>b__0(Microsoft.DotNet.Interactive.Commands.KernelCommand, Microsoft.DotNet.Interactive.KernelInvocationContext)</td></tr></tbody></table></div></details></td></tr><tr><td>Parent</td><td><div class=\"dni-plaintext\"><pre>&lt;null&gt;</pre></div></td></tr><tr><td>TargetKernelName</td><td><div class=\"dni-plaintext\"><pre>csharp</pre></div></td></tr><tr><td>OriginUri</td><td><div class=\"dni-plaintext\"><pre>&lt;null&gt;</pre></div></td></tr><tr><td>DestinationUri</td><td><div class=\"dni-plaintext\"><pre>&lt;null&gt;</pre></div></td></tr><tr><td>KernelChooserParseResult</td><td><div class=\"dni-plaintext\"><pre>&lt;null&gt;</pre></div></td></tr><tr><td>RoutingSlip</td><td>[ kernel://pid-37992/ (arrived), kernel://pid-37992/csharp (arrived) ]</td></tr></tbody></table></div></details></td></tr><tr><td>TargetKernelName</td><td><div class=\"dni-plaintext\"><pre>csharp</pre></div></td></tr><tr><td>OriginUri</td><td><div class=\"dni-plaintext\"><pre>&lt;null&gt;</pre></div></td></tr><tr><td>DestinationUri</td><td><div class=\"dni-plaintext\"><pre>&lt;null&gt;</pre></div></td></tr><tr><td>KernelChooserParseResult</td><td><div class=\"dni-plaintext\"><pre>&lt;null&gt;</pre></div></td></tr><tr><td>RoutingSlip</td><td><div class=\"dni-plaintext\"><pre>[ kernel://local/.NET (arrived), kernel://local/csharp (arrived), kernel://local/csharp, kernel://local/.NET ]</pre></div></td></tr></tbody></table></div></details></td></tr><tr><td>RoutingSlip</td><td><div class=\"dni-plaintext\"><pre>[ kernel://local/csharp ]</pre></div></td></tr></tbody></table></div></details></td></tr></tbody></table></td></tr></tbody></table></div></details><style>\r\n",
       ".dni-code-hint {\r\n",
       "    font-style: italic;\r\n",
       "    overflow: hidden;\r\n",
       "    white-space: nowrap;\r\n",
       "}\r\n",
       ".dni-treeview {\r\n",
       "    white-space: nowrap;\r\n",
       "}\r\n",
       ".dni-treeview td {\r\n",
       "    vertical-align: top;\r\n",
       "    text-align: start;\r\n",
       "}\r\n",
       "details.dni-treeview {\r\n",
       "    padding-left: 1em;\r\n",
       "}\r\n",
       "table td {\r\n",
       "    text-align: start;\r\n",
       "}\r\n",
       "table tr { \r\n",
       "    vertical-align: top; \r\n",
       "    margin: 0em 0px;\r\n",
       "}\r\n",
       "table tr td pre \r\n",
       "{ \r\n",
       "    vertical-align: top !important; \r\n",
       "    margin: 0em 0px !important;\r\n",
       "} \r\n",
       "table th {\r\n",
       "    text-align: start;\r\n",
       "}\r\n",
       "</style>"
      ]
     },
     "metadata": {},
     "output_type": "display_data"
    },
    {
     "data": {
      "text/plain": [
       "Affichage du markdown: \n",
       "## Traitement"
      ]
     },
     "metadata": {},
     "output_type": "display_data"
    },
    {
     "data": {
      "text/markdown": [
       "## Traitement"
      ]
     },
     "metadata": {},
     "output_type": "display_data"
    },
    {
     "data": {
      "text/plain": [
       "Envoi du code au kernel csharp:\n",
       "// Utilisation de l'infrastructure initialisée pour réaliser la tâche demandée\n",
       "var labels = new List<string>();\n",
       "foreach (var result in results)\n",
       "{\n",
       "    labels.Add(result[\"label\"].ToString());\n",
       "}\n",
       "// Création du graphique\n",
       "var chart = Chart.Plot(new Graph.Scattergl()\n",
       "{\n",
       "    x = Enumerable.Range(1, labels.Count),\n",
       "    y = labels\n",
       "});\n",
       "chart.WithTitle(\"Labels for Asturias\");\n",
       "display(chart);"
      ]
     },
     "metadata": {},
     "output_type": "display_data"
    },
    {
     "ename": "Error",
     "evalue": "(8,34): error CS0426: Le nom de type 'Scattergl' n'existe pas dans le type 'Graph'",
     "output_type": "error",
     "traceback": [
      "(8,34): error CS0426: Le nom de type 'Scattergl' n'existe pas dans le type 'Graph'"
     ]
    },
    {
     "data": {
      "text/html": [
       "<details open=\"open\" class=\"dni-treeview\"><summary><span class=\"dni-code-hint\"><code>Microsoft.DotNet.Interactive.KernelCommandResult</code></span></summary><div><table><thead><tr></tr></thead><tbody><tr><td>Command</td><td><details class=\"dni-treeview\"><summary><span class=\"dni-code-hint\"><code>SubmitCode: // Utilisation de l&#39;infrastructure initialis&#233;e pou ...</code></span></summary><div><table><thead><tr></tr></thead><tbody><tr><td>Code</td><td><div class=\"dni-plaintext\"><pre>// Utilisation de l&#39;infrastructure initialis&#233;e pour r&#233;aliser la t&#226;che demand&#233;e\n",
       "var labels = new List&lt;string&gt;();\n",
       "foreach (var result in results)\n",
       "{\n",
       "    labels.Add(result[&quot;label&quot;].ToString());\n",
       "}\n",
       "// Cr&#233;ation du graphique\n",
       "var chart = Chart.Plot(new Graph.Scattergl()\n",
       "{\n",
       "    x = Enumerable.Range(1, labels.Count),\n",
       "    y = labels\n",
       "});\n",
       "chart.WithTitle(&quot;Labels for Asturias&quot;);\n",
       "display(chart);</pre></div></td></tr><tr><td>Handler</td><td><details class=\"dni-treeview\"><summary><span class=\"dni-code-hint\"><code>Microsoft.DotNet.Interactive.KernelCommandInvocation</code></span></summary><div><table><thead><tr></tr></thead><tbody><tr><td>Target</td><td><details class=\"dni-treeview\"><summary><span class=\"dni-code-hint\"><code>Microsoft.DotNet.Interactive.Kernel+&lt;&gt;c__DisplayClass82_0`1[Microsoft.DotNet.Interactive.Commands.SubmitCode]</code></span></summary><div><table><thead><tr></tr></thead><tbody><tr><td>handler</td><td><details class=\"dni-treeview\"><summary><span class=\"dni-code-hint\"><code>Microsoft.DotNet.Interactive.CSharp.CSharpKernel: csharp (kernel://local/csharp)</code></span></summary><div><table><thead><tr></tr></thead><tbody><tr><td>ScriptState</td><td><details class=\"dni-treeview\"><summary><span class=\"dni-code-hint\"><code>Microsoft.CodeAnalysis.Scripting.ScriptState`1[System.Object]</code></span></summary><div><table><thead><tr></tr></thead><tbody><tr><td>ReturnValue</td><td>Microsoft.CodeAnalysis.Scripting.ScriptState`1[System.Object]</td></tr><tr><td>Script</td><td>Microsoft.CodeAnalysis.Scripting.Script`1[System.Object]</td></tr><tr><td>Exception</td><td><div class=\"dni-plaintext\"><pre>&lt;null&gt;</pre></div></td></tr><tr><td>ReturnValue</td><td>Microsoft.CodeAnalysis.Scripting.ScriptState`1[System.Object]</td></tr><tr><td>Variables</td><td>[ Microsoft.CodeAnalysis.Scripting.ScriptVariable, Microsoft.CodeAnalysis.Scripting.ScriptVariable, Microsoft.CodeAnalysis.Scripting.ScriptVariable ]</td></tr></tbody></table></div></details></td></tr><tr><td>ParentKernel</td><td><details class=\"dni-treeview\"><summary><span class=\"dni-code-hint\"><code>[ Microsoft.DotNet.Interactive.CSharp.CSharpKernel: csharp (kernel://local/csharp) ]</code></span></summary><div><table><thead><tr></tr></thead><tbody><tr><td>DefaultKernelName</td><td>csharp</td></tr><tr><td>ChildKernels</td><td>[ Microsoft.DotNet.Interactive.CSharp.CSharpKernel: csharp (kernel://local/csharp) ]</td></tr><tr><td>Host</td><td><div class=\"dni-plaintext\"><pre>&lt;null&gt;</pre></div></td></tr><tr><td>ParentKernel</td><td><div class=\"dni-plaintext\"><pre>&lt;null&gt;</pre></div></td></tr><tr><td>RootKernel</td><td>[ Microsoft.DotNet.Interactive.CSharp.CSharpKernel: csharp (kernel://local/csharp) ]</td></tr><tr><td>SubmissionCount</td><td>0</td></tr><tr><td>SubmissionParser</td><td>Microsoft.DotNet.Interactive.Parsing.SubmissionParser</td></tr><tr><td>FrontendEnvironment</td><td>Microsoft.DotNet.Interactive.AutomationEnvironment</td></tr><tr><td>KernelEvents</td><td>System.Reactive.Subjects.Subject`1[Microsoft.DotNet.Interactive.Events.KernelEvent]</td></tr><tr><td>Name</td><td>.NET</td></tr><tr><td>KernelInfo</td><td>.NET (kernel://local/.NET)</td></tr><tr><td>Directives</td><td>[ [  ] ]</td></tr><tr><td>ChooseKernelDirective</td><td>[  ]</td></tr><tr><td><i>(values)</i></td><td><table><thead><tr><th><i>index</i></th><th>value</th></tr></thead><tbody><tr><td>0</td><td>Microsoft.DotNet.Interactive.CSharp.CSharpKernel: csharp (kernel://local/csharp)</td></tr></tbody></table></td></tr></tbody></table></div></details></td></tr><tr><td>RootKernel</td><td><details class=\"dni-treeview\"><summary><span class=\"dni-code-hint\"><code>[ Microsoft.DotNet.Interactive.CSharp.CSharpKernel: csharp (kernel://local/csharp) ]</code></span></summary><div><table><thead><tr></tr></thead><tbody><tr><td>DefaultKernelName</td><td>csharp</td></tr><tr><td>ChildKernels</td><td>[ Microsoft.DotNet.Interactive.CSharp.CSharpKernel: csharp (kernel://local/csharp) ]</td></tr><tr><td>Host</td><td><div class=\"dni-plaintext\"><pre>&lt;null&gt;</pre></div></td></tr><tr><td>ParentKernel</td><td><div class=\"dni-plaintext\"><pre>&lt;null&gt;</pre></div></td></tr><tr><td>RootKernel</td><td>[ Microsoft.DotNet.Interactive.CSharp.CSharpKernel: csharp (kernel://local/csharp) ]</td></tr><tr><td>SubmissionCount</td><td>0</td></tr><tr><td>SubmissionParser</td><td>Microsoft.DotNet.Interactive.Parsing.SubmissionParser</td></tr><tr><td>FrontendEnvironment</td><td>Microsoft.DotNet.Interactive.AutomationEnvironment</td></tr><tr><td>KernelEvents</td><td>System.Reactive.Subjects.Subject`1[Microsoft.DotNet.Interactive.Events.KernelEvent]</td></tr><tr><td>Name</td><td>.NET</td></tr><tr><td>KernelInfo</td><td>.NET (kernel://local/.NET)</td></tr><tr><td>Directives</td><td>[ [  ] ]</td></tr><tr><td>ChooseKernelDirective</td><td>[  ]</td></tr><tr><td><i>(values)</i></td><td><table><thead><tr><th><i>index</i></th><th>value</th></tr></thead><tbody><tr><td>0</td><td>Microsoft.DotNet.Interactive.CSharp.CSharpKernel: csharp (kernel://local/csharp)</td></tr></tbody></table></td></tr></tbody></table></div></details></td></tr><tr><td>SubmissionCount</td><td><div class=\"dni-plaintext\"><pre>0</pre></div></td></tr><tr><td>SubmissionParser</td><td><details class=\"dni-treeview\"><summary><span class=\"dni-code-hint\"><code>Microsoft.DotNet.Interactive.Parsing.SubmissionParser</code></span></summary><div><table><thead><tr></tr></thead><tbody><tr><td>Directives</td><td>[ [  ], [  ], [ Option`1: from, Option`1: mime-type, Option`1: as, Argument: name ], [ Option`1: name, Option`1: value, Option`1: mime-type, Option`1: byref ], [ Argument: source ], [ Argument: package ], [  ] ]</td></tr></tbody></table></div></details></td></tr><tr><td>FrontendEnvironment</td><td><details class=\"dni-treeview\"><summary><span class=\"dni-code-hint\"><code>Microsoft.DotNet.Interactive.AutomationEnvironment</code></span></summary><div><table><thead><tr></tr></thead><tbody></tbody></table></div></details></td></tr><tr><td>KernelEvents</td><td><details class=\"dni-treeview\"><summary><span class=\"dni-code-hint\"><code>System.Reactive.Subjects.Subject`1[Microsoft.DotNet.Interactive.Events.KernelEvent]</code></span></summary><div><table><thead><tr></tr></thead><tbody><tr><td>HasObservers</td><td>True</td></tr><tr><td>IsDisposed</td><td>False</td></tr></tbody></table></div></details></td></tr><tr><td>Name</td><td><div class=\"dni-plaintext\"><pre>csharp</pre></div></td></tr><tr><td>KernelInfo</td><td><details class=\"dni-treeview\"><summary><span class=\"dni-code-hint\"><code>csharp (kernel://local/csharp)</code></span></summary><div><table><thead><tr></tr></thead><tbody><tr><td>Aliases</td><td>[  ]</td></tr><tr><td>LanguageName</td><td>C#</td></tr><tr><td>LanguageVersion</td><td>12.0</td></tr><tr><td>IsProxy</td><td>False</td></tr><tr><td>IsComposite</td><td>False</td></tr><tr><td>DisplayName</td><td>csharp - C# Script</td></tr><tr><td>LocalName</td><td>csharp</td></tr><tr><td>Uri</td><td>kernel://local/csharp</td></tr><tr><td>RemoteUri</td><td><div class=\"dni-plaintext\"><pre>&lt;null&gt;</pre></div></td></tr><tr><td>Description</td><td>This Kernel can compile and execute C# code and display the results.\r\n",
       "The language is C# Scripting, a dialect of C# that is used for interactive programming.\r\n",
       "\r\n",
       "Can load packages from nuget.org or any other nuget feed.</td></tr><tr><td>SupportedKernelCommands</td><td>[ KernelCommandInfo { Name = RequestKernelInfo }, KernelCommandInfo { Name = RequestCompletions }, KernelCommandInfo { Name = RequestDiagnostics }, KernelCommandInfo { Name = RequestHoverText }, KernelCommandInfo { Name = RequestSignatureHelp }, KernelCommandInfo { Name = RequestValue }, KernelCommandInfo { Name = RequestValueInfos }, KernelCommandInfo { Name = SendValue }, KernelCommandInfo { Name = SubmitCode } ]</td></tr><tr><td>SupportedDirectives</td><td>[ KernelDirectiveInfo { Name = #!who }, KernelDirectiveInfo { Name = #!whos }, KernelDirectiveInfo { Name = #!share }, KernelDirectiveInfo { Name = #!set }, KernelDirectiveInfo { Name = #i }, KernelDirectiveInfo { Name = #r }, KernelDirectiveInfo { Name = #!nuget-restore } ]</td></tr></tbody></table></div></details></td></tr><tr><td>Directives</td><td><table><thead><tr><th><i>index</i></th><th>value</th></tr></thead><tbody><tr><td>0</td><td></td></tr><tr><td>1</td><td></td></tr><tr><td>2</td><td>[ Option`1: from, Option`1: mime-type, Option`1: as, Argument: name ]</td></tr><tr><td>3</td><td>[ Option`1: name, Option`1: value, Option`1: mime-type, Option`1: byref ]</td></tr><tr><td>4</td><td>[ Argument: source ]</td></tr><tr><td>5</td><td>[ Argument: package ]</td></tr><tr><td>6</td><td></td></tr></tbody></table></td></tr><tr><td>ChooseKernelDirective</td><td><details class=\"dni-treeview\"><summary><span class=\"dni-code-hint\"><code>[  ]</code></span></summary><div><table><thead><tr></tr></thead><tbody><tr><td>Kernel</td><td>Microsoft.DotNet.Interactive.CSharp.CSharpKernel: csharp (kernel://local/csharp)</td></tr><tr><td>Children</td><td>[  ]</td></tr><tr><td>Arguments</td><td>[  ]</td></tr><tr><td>Options</td><td>[  ]</td></tr><tr><td>Subcommands</td><td>[  ]</td></tr><tr><td>TreatUnmatchedTokensAsErrors</td><td>True</td></tr><tr><td>Handler</td><td>System.CommandLine.NamingConventionBinder.ModelBindingCommandHandler</td></tr><tr><td>Aliases</td><td>[ #!csharp ]</td></tr><tr><td>Name</td><td>#!csharp</td></tr><tr><td>Description</td><td>Run the code that follows using the csharp kernel.</td></tr><tr><td>IsHidden</td><td>False</td></tr><tr><td>Parents</td><td>[ [ [  ], HelpOption: help ] ]</td></tr><tr><td><i>(values)</i></td><td><i>(empty)</i></td></tr></tbody></table></div></details></td></tr></tbody></table></div></details></td></tr><tr><td>command</td><td><details class=\"dni-treeview\"><summary><span class=\"dni-code-hint\"><code>SubmitCode: // Utilisation de l&#39;infrastructure initialis&#233;e pou ...</code></span></summary><div><table><thead><tr></tr></thead><tbody><tr><td>Code</td><td><div class=\"dni-plaintext\"><pre>// Utilisation de l&#39;infrastructure initialis&#233;e pour r&#233;aliser la t&#226;che demand&#233;e\n",
       "var labels = new List&lt;string&gt;();\n",
       "foreach (var result in results)\n",
       "{\n",
       "    labels.Add(result[&quot;label&quot;].ToString());\n",
       "}\n",
       "// Cr&#233;ation du graphique\n",
       "var chart = Chart.Plot(new Graph.Scattergl()\n",
       "{\n",
       "    x = Enumerable.Range(1, labels.Count),\n",
       "    y = labels\n",
       "});\n",
       "chart.WithTitle(&quot;Labels for Asturias&quot;);\n",
       "display(chart);</pre></div></td></tr><tr><td>Handler</td><td><details class=\"dni-treeview\"><summary><span class=\"dni-code-hint\"><code>Microsoft.DotNet.Interactive.KernelCommandInvocation</code></span></summary><div><table><thead><tr></tr></thead><tbody><tr><td>Target</td><td>Microsoft.DotNet.Interactive.Kernel+<>c__DisplayClass82_0`1[Microsoft.DotNet.Interactive.Commands.SubmitCode]</td></tr><tr><td>Method</td><td>System.Threading.Tasks.Task <SetHandler>b__0(Microsoft.DotNet.Interactive.Commands.KernelCommand, Microsoft.DotNet.Interactive.KernelInvocationContext)</td></tr></tbody></table></div></details></td></tr><tr><td>Parent</td><td><details class=\"dni-treeview\"><summary><span class=\"dni-code-hint\"><code>SubmitCode: var logger = new DisplayLogger(&quot;NotebookUpdater&quot;,  ...</code></span></summary><div><table><thead><tr></tr></thead><tbody><tr><td>Code</td><td>var logger = new DisplayLogger(\"NotebookUpdater\", LogLevel.Information);\n",
       "\n",
       "display(\"Création de l'instance NotebookUpdater...\");\n",
       "var updater = new NotebookUpdater(semanticKernel, notebookPath, logger);\n",
       "\n",
       "display(\"Appel à UpdateNotebook...\");\n",
       "var response = await updater.UpdateNotebook();\n",
       "\n",
       "display($\"Résultat de l'exécution du notebook :\\n{response}\");\n",
       "</td></tr><tr><td>Handler</td><td>Microsoft.DotNet.Interactive.KernelCommandInvocation</td></tr><tr><td>Parent</td><td><div class=\"dni-plaintext\"><pre>&lt;null&gt;</pre></div></td></tr><tr><td>TargetKernelName</td><td>csharp</td></tr><tr><td>OriginUri</td><td><div class=\"dni-plaintext\"><pre>&lt;null&gt;</pre></div></td></tr><tr><td>DestinationUri</td><td><div class=\"dni-plaintext\"><pre>&lt;null&gt;</pre></div></td></tr><tr><td>KernelChooserParseResult</td><td><div class=\"dni-plaintext\"><pre>&lt;null&gt;</pre></div></td></tr><tr><td>RoutingSlip</td><td>[kernel://pid-37992/ (arrived), kernel://pid-37992/csharp (arrived)]</td></tr></tbody></table></div></details></td></tr><tr><td>TargetKernelName</td><td><div class=\"dni-plaintext\"><pre>csharp</pre></div></td></tr><tr><td>OriginUri</td><td><div class=\"dni-plaintext\"><pre>&lt;null&gt;</pre></div></td></tr><tr><td>DestinationUri</td><td><div class=\"dni-plaintext\"><pre>&lt;null&gt;</pre></div></td></tr><tr><td>KernelChooserParseResult</td><td><div class=\"dni-plaintext\"><pre>&lt;null&gt;</pre></div></td></tr><tr><td>RoutingSlip</td><td>[ kernel://local/.NET (arrived), kernel://local/csharp (arrived), kernel://local/csharp, kernel://local/.NET ]</td></tr></tbody></table></div></details></td></tr></tbody></table></div></details></td></tr><tr><td>Method</td><td><details class=\"dni-treeview\"><summary><span class=\"dni-code-hint\"><code>System.Threading.Tasks.Task &lt;SetHandler&gt;b__0(Microsoft.DotNet.Interactive.Commands.KernelCommand, Microsoft.DotNet.Interactive.KernelInvocationContext)</code></span></summary><div><table><thead><tr></tr></thead><tbody><tr><td>Name</td><td><div class=\"dni-plaintext\"><pre>&lt;SetHandler&gt;b__0</pre></div></td></tr><tr><td>DeclaringType</td><td><span><a href=\"https://docs.microsoft.com/dotnet/api/microsoft.dotnet.interactive.kernel.&lt;>c__displayclass82_0-1?view=net-7.0\">Microsoft.DotNet.Interactive.Kernel+&lt;&gt;c__DisplayClass82_0&lt;Microsoft.DotNet.Interactive.Commands.SubmitCode&gt;</a></span></td></tr><tr><td>ReflectedType</td><td><span><a href=\"https://docs.microsoft.com/dotnet/api/microsoft.dotnet.interactive.kernel.&lt;>c__displayclass82_0-1?view=net-7.0\">Microsoft.DotNet.Interactive.Kernel+&lt;&gt;c__DisplayClass82_0&lt;Microsoft.DotNet.Interactive.Commands.SubmitCode&gt;</a></span></td></tr><tr><td>MemberType</td><td><span>Method</span></td></tr><tr><td>MetadataToken</td><td><div class=\"dni-plaintext\"><pre>100664828</pre></div></td></tr><tr><td>Module</td><td><details class=\"dni-treeview\"><summary><span class=\"dni-code-hint\"><code>Microsoft.DotNet.Interactive.dll</code></span></summary><div><table><thead><tr></tr></thead><tbody><tr><td>MDStreamVersion</td><td><div class=\"dni-plaintext\"><pre>131072</pre></div></td></tr><tr><td>FullyQualifiedName</td><td><div class=\"dni-plaintext\"><pre>C:\\Users\\Administrateur.000\\.nuget\\packages\\microsoft.dotnet-interactive\\1.0.522904\\tools\\net8.0\\any\\Microsoft.DotNet.Interactive.dll</pre></div></td></tr><tr><td>ModuleVersionId</td><td><div class=\"dni-plaintext\"><pre>ee6aec0a-8e1f-4e4c-97e3-57418e1dc7e0</pre></div></td></tr><tr><td>MetadataToken</td><td><div class=\"dni-plaintext\"><pre>1</pre></div></td></tr><tr><td>ScopeName</td><td><div class=\"dni-plaintext\"><pre>Microsoft.DotNet.Interactive.dll</pre></div></td></tr><tr><td>Name</td><td><div class=\"dni-plaintext\"><pre>Microsoft.DotNet.Interactive.dll</pre></div></td></tr><tr><td>Assembly</td><td><details class=\"dni-treeview\"><summary><span class=\"dni-code-hint\"><code>Microsoft.DotNet.Interactive, Version=1.0.0.0, Culture=neutral, PublicKeyToken=31bf3856ad364e35</code></span></summary><div><table><thead><tr></tr></thead><tbody><tr><td>CodeBase</td><td>file:///C:/Users/Administrateur.000/.nuget/packages/microsoft.dotnet-interactive/1.0.522904/tools/net8.0/any/Microsoft.DotNet.Interactive.dll</td></tr><tr><td>FullName</td><td>Microsoft.DotNet.Interactive, Version=1.0.0.0, Culture=neutral, PublicKeyToken=31bf3856ad364e35</td></tr><tr><td>EntryPoint</td><td><div class=\"dni-plaintext\"><pre>&lt;null&gt;</pre></div></td></tr><tr><td>DefinedTypes</td><td>[ <>f__AnonymousType0`2[<Command>j__TPar,<ValueInfos>j__TPar], System.DisplayExtensions, System.Runtime.CompilerServices.IsExternalInit, Microsoft.DotNet.Interactive.AutomationEnvironment, Microsoft.DotNet.Interactive.Base64EncodedAssembly, Microsoft.DotNet.Interactive.ChooseKernelDirective, Microsoft.DotNet.Interactive.ChooseKeyValueStoreKernelDirective, Microsoft.DotNet.Interactive.CodeSubmissionCompilationErrorException, Microsoft.DotNet.Interactive.CommandNotSupportedException, Microsoft.DotNet.Interactive.CommandRoutingSlip, Microsoft.DotNet.Interactive.CompositeKernel, Microsoft.DotNet.Interactive.DataDictionaryConverter, Microsoft.DotNet.Interactive.DataExplorer, Microsoft.DotNet.Interactive.DataExplorerFormatterSource, Microsoft.DotNet.Interactive.DataExplorer`1[TData], Microsoft.DotNet.Interactive.Diagnostic, Microsoft.DotNet.Interactive.DisplayedValue, Microsoft.DotNet.Interactive.EventRoutingSlip, Microsoft.DotNet.Interactive.FormattedValue, Microsoft.DotNet.Interactive.FrontendEnvironment ... (457 more) ]</td></tr><tr><td>IsCollectible</td><td>False</td></tr><tr><td>ManifestModule</td><td>Microsoft.DotNet.Interactive.dll</td></tr><tr><td>ReflectionOnly</td><td>False</td></tr><tr><td>Location</td><td>C:\\Users\\Administrateur.000\\.nuget\\packages\\microsoft.dotnet-interactive\\1.0.522904\\tools\\net8.0\\any\\Microsoft.DotNet.Interactive.dll</td></tr><tr><td>ImageRuntimeVersion</td><td>v4.0.30319</td></tr><tr><td>GlobalAssemblyCache</td><td>False</td></tr><tr><td>HostContext</td><td>0</td></tr><tr><td>IsDynamic</td><td>False</td></tr><tr><td>ExportedTypes</td><td>[ System.DisplayExtensions, Microsoft.DotNet.Interactive.AutomationEnvironment, Microsoft.DotNet.Interactive.Base64EncodedAssembly, Microsoft.DotNet.Interactive.ChooseKernelDirective, Microsoft.DotNet.Interactive.ChooseKeyValueStoreKernelDirective, Microsoft.DotNet.Interactive.CodeSubmissionCompilationErrorException, Microsoft.DotNet.Interactive.CommandNotSupportedException, Microsoft.DotNet.Interactive.CommandRoutingSlip, Microsoft.DotNet.Interactive.CompositeKernel, Microsoft.DotNet.Interactive.DataDictionaryConverter, Microsoft.DotNet.Interactive.DataExplorer, Microsoft.DotNet.Interactive.DataExplorer`1[TData], Microsoft.DotNet.Interactive.Diagnostic, Microsoft.DotNet.Interactive.DisplayedValue, Microsoft.DotNet.Interactive.EventRoutingSlip, Microsoft.DotNet.Interactive.FormattedValue, Microsoft.DotNet.Interactive.FrontendEnvironment, Microsoft.DotNet.Interactive.HtmlKernel, Microsoft.DotNet.Interactive.IKernelCommandHandler`1[TCommand], Microsoft.DotNet.Interactive.IKernelExtension ... (139 more) ]</td></tr><tr><td>IsFullyTrusted</td><td>True</td></tr><tr><td>CustomAttributes</td><td>[ [System.Runtime.CompilerServices.ExtensionAttribute()], [System.Runtime.CompilerServices.CompilationRelaxationsAttribute((Int32)8)], [System.Runtime.CompilerServices.RuntimeCompatibilityAttribute(WrapNonExceptionThrows = True)], [System.Diagnostics.DebuggableAttribute((System.Diagnostics.DebuggableAttribute+DebuggingModes)2)], [System.Runtime.Versioning.TargetFrameworkAttribute(\".NETCoreApp,Version=v8.0\", FrameworkDisplayName = \".NET 8.0\")], [System.Reflection.AssemblyCompanyAttribute(\"Microsoft Corporation\")], [System.Reflection.AssemblyConfigurationAttribute(\"Release\")], [System.Reflection.AssemblyCopyrightAttribute(\"© Microsoft Corporation. All rights reserved.\")], [System.Reflection.AssemblyFileVersionAttribute(\"1.0.24.22904\")], [System.Reflection.AssemblyInformationalVersionAttribute(\"1.0.0-beta.24229.4+cdfa48b2ea1a27dfe0f545c42a34fd3ec7119074\")], [System.Reflection.AssemblyProductAttribute(\"Microsoft.DotNet.Interactive\")], [System.Reflection.AssemblyTitleAttribute(\"Microsoft.DotNet.Interactive\")], [System.Reflection.AssemblyMetadataAttribute(\"RepositoryUrl\", \"https://github.com/dotnet/interactive\")], [System.Resources.NeutralResourcesLanguageAttribute(\"en-US\")] ]</td></tr><tr><td>EscapedCodeBase</td><td>file:///C:/Users/Administrateur.000/.nuget/packages/microsoft.dotnet-interactive/1.0.522904/tools/net8.0/any/Microsoft.DotNet.Interactive.dll</td></tr><tr><td>Modules</td><td>[ Microsoft.DotNet.Interactive.dll ]</td></tr><tr><td>SecurityRuleSet</td><td>None</td></tr></tbody></table></div></details></td></tr><tr><td>ModuleHandle</td><td><details class=\"dni-treeview\"><summary><span class=\"dni-code-hint\"><code>System.ModuleHandle</code></span></summary><div><table><thead><tr></tr></thead><tbody><tr><td>MDStreamVersion</td><td>131072</td></tr></tbody></table></div></details></td></tr><tr><td>CustomAttributes</td><td><table><thead><tr><th><i>index</i></th><th>value</th></tr></thead><tbody><tr><td>0</td><td>[System.Runtime.CompilerServices.RefSafetyRulesAttribute((Int32)11)]</td></tr></tbody></table></td></tr></tbody></table></div></details></td></tr><tr><td>IsSecurityCritical</td><td><div class=\"dni-plaintext\"><pre>True</pre></div></td></tr><tr><td>IsSecuritySafeCritical</td><td><div class=\"dni-plaintext\"><pre>False</pre></div></td></tr><tr><td>IsSecurityTransparent</td><td><div class=\"dni-plaintext\"><pre>False</pre></div></td></tr><tr><td>MethodHandle</td><td><details class=\"dni-treeview\"><summary><span class=\"dni-code-hint\"><code>System.RuntimeMethodHandle</code></span></summary><div><table><thead><tr></tr></thead><tbody><tr><td>Value</td><td><div class=\"dni-plaintext\"><pre>140731641892472</pre></div></td></tr></tbody></table></div></details></td></tr><tr><td>Attributes</td><td><span>Assembly, HideBySig</span></td></tr><tr><td>CallingConvention</td><td><span>Standard, HasThis</span></td></tr><tr><td>ReturnType</td><td><span><a href=\"https://docs.microsoft.com/dotnet/api/system.threading.tasks.task?view=net-7.0\">System.Threading.Tasks.Task</a></span></td></tr><tr><td>ReturnTypeCustomAttributes</td><td><details class=\"dni-treeview\"><summary><span class=\"dni-code-hint\"><code>System.Threading.Tasks.Task</code></span></summary><div><table><thead><tr></tr></thead><tbody><tr><td>ParameterType</td><td><span><a href=\"https://docs.microsoft.com/dotnet/api/system.threading.tasks.task?view=net-7.0\">System.Threading.Tasks.Task</a></span></td></tr><tr><td>Name</td><td><div class=\"dni-plaintext\"><pre>&lt;null&gt;</pre></div></td></tr><tr><td>HasDefaultValue</td><td><div class=\"dni-plaintext\"><pre>False</pre></div></td></tr><tr><td>DefaultValue</td><td><details class=\"dni-treeview\"><summary><span class=\"dni-code-hint\"><code></code></span></summary><div><table><thead><tr></tr></thead><tbody></tbody></table></div></details></td></tr><tr><td>RawDefaultValue</td><td><details class=\"dni-treeview\"><summary><span class=\"dni-code-hint\"><code></code></span></summary><div><table><thead><tr></tr></thead><tbody></tbody></table></div></details></td></tr><tr><td>MetadataToken</td><td><div class=\"dni-plaintext\"><pre>134217728</pre></div></td></tr><tr><td>Attributes</td><td><span>None</span></td></tr><tr><td>Member</td><td><details class=\"dni-treeview\"><summary><span class=\"dni-code-hint\"><code>System.Threading.Tasks.Task &lt;SetHandler&gt;b__0(Microsoft.DotNet.Interactive.Commands.KernelCommand, Microsoft.DotNet.Interactive.KernelInvocationContext)</code></span></summary><div><table><thead><tr></tr></thead><tbody><tr><td>Name</td><td><SetHandler>b__0</td></tr><tr><td>DeclaringType</td><td>Microsoft.DotNet.Interactive.Kernel+<>c__DisplayClass82_0`1[Microsoft.DotNet.Interactive.Commands.SubmitCode]</td></tr><tr><td>ReflectedType</td><td>Microsoft.DotNet.Interactive.Kernel+<>c__DisplayClass82_0`1[Microsoft.DotNet.Interactive.Commands.SubmitCode]</td></tr><tr><td>MemberType</td><td>Method</td></tr><tr><td>MetadataToken</td><td>100664828</td></tr><tr><td>Module</td><td>Microsoft.DotNet.Interactive.dll</td></tr><tr><td>IsSecurityCritical</td><td>True</td></tr><tr><td>IsSecuritySafeCritical</td><td>False</td></tr><tr><td>IsSecurityTransparent</td><td>False</td></tr><tr><td>MethodHandle</td><td>System.RuntimeMethodHandle</td></tr><tr><td>Attributes</td><td>Assembly, HideBySig</td></tr><tr><td>CallingConvention</td><td>Standard, HasThis</td></tr><tr><td>ReturnType</td><td>System.Threading.Tasks.Task</td></tr><tr><td>ReturnTypeCustomAttributes</td><td>System.Threading.Tasks.Task</td></tr><tr><td>ReturnParameter</td><td>System.Threading.Tasks.Task</td></tr><tr><td>IsCollectible</td><td>False</td></tr><tr><td>IsGenericMethod</td><td>False</td></tr><tr><td>IsGenericMethodDefinition</td><td>False</td></tr><tr><td>ContainsGenericParameters</td><td>False</td></tr><tr><td>MethodImplementationFlags</td><td>IL</td></tr><tr><td>IsAbstract</td><td>False</td></tr><tr><td>IsConstructor</td><td>False</td></tr><tr><td>IsFinal</td><td>False</td></tr><tr><td>IsHideBySig</td><td>True</td></tr><tr><td>IsSpecialName</td><td>False</td></tr><tr><td>IsStatic</td><td>False</td></tr><tr><td>IsVirtual</td><td>False</td></tr><tr><td>IsAssembly</td><td>True</td></tr><tr><td>IsFamily</td><td>False</td></tr><tr><td>IsFamilyAndAssembly</td><td>False</td></tr><tr><td>IsFamilyOrAssembly</td><td>False</td></tr><tr><td>IsPrivate</td><td>False</td></tr><tr><td>IsPublic</td><td>False</td></tr><tr><td>IsConstructedGenericMethod</td><td>False</td></tr><tr><td>CustomAttributes</td><td>[  ]</td></tr></tbody></table></div></details></td></tr><tr><td>Position</td><td><div class=\"dni-plaintext\"><pre>-1</pre></div></td></tr><tr><td>IsIn</td><td><div class=\"dni-plaintext\"><pre>False</pre></div></td></tr><tr><td>IsLcid</td><td><div class=\"dni-plaintext\"><pre>False</pre></div></td></tr><tr><td>IsOptional</td><td><div class=\"dni-plaintext\"><pre>False</pre></div></td></tr><tr><td>IsOut</td><td><div class=\"dni-plaintext\"><pre>False</pre></div></td></tr><tr><td>IsRetval</td><td><div class=\"dni-plaintext\"><pre>False</pre></div></td></tr><tr><td>CustomAttributes</td><td><i>(empty)</i></td></tr></tbody></table></div></details></td></tr><tr><td>ReturnParameter</td><td><details class=\"dni-treeview\"><summary><span class=\"dni-code-hint\"><code>System.Threading.Tasks.Task</code></span></summary><div><table><thead><tr></tr></thead><tbody><tr><td>ParameterType</td><td><span><a href=\"https://docs.microsoft.com/dotnet/api/system.threading.tasks.task?view=net-7.0\">System.Threading.Tasks.Task</a></span></td></tr><tr><td>Name</td><td><div class=\"dni-plaintext\"><pre>&lt;null&gt;</pre></div></td></tr><tr><td>HasDefaultValue</td><td><div class=\"dni-plaintext\"><pre>False</pre></div></td></tr><tr><td>DefaultValue</td><td><details class=\"dni-treeview\"><summary><span class=\"dni-code-hint\"><code></code></span></summary><div><table><thead><tr></tr></thead><tbody></tbody></table></div></details></td></tr><tr><td>RawDefaultValue</td><td><details class=\"dni-treeview\"><summary><span class=\"dni-code-hint\"><code></code></span></summary><div><table><thead><tr></tr></thead><tbody></tbody></table></div></details></td></tr><tr><td>MetadataToken</td><td><div class=\"dni-plaintext\"><pre>134217728</pre></div></td></tr><tr><td>Attributes</td><td><span>None</span></td></tr><tr><td>Member</td><td><details class=\"dni-treeview\"><summary><span class=\"dni-code-hint\"><code>System.Threading.Tasks.Task &lt;SetHandler&gt;b__0(Microsoft.DotNet.Interactive.Commands.KernelCommand, Microsoft.DotNet.Interactive.KernelInvocationContext)</code></span></summary><div><table><thead><tr></tr></thead><tbody><tr><td>Name</td><td><SetHandler>b__0</td></tr><tr><td>DeclaringType</td><td>Microsoft.DotNet.Interactive.Kernel+<>c__DisplayClass82_0`1[Microsoft.DotNet.Interactive.Commands.SubmitCode]</td></tr><tr><td>ReflectedType</td><td>Microsoft.DotNet.Interactive.Kernel+<>c__DisplayClass82_0`1[Microsoft.DotNet.Interactive.Commands.SubmitCode]</td></tr><tr><td>MemberType</td><td>Method</td></tr><tr><td>MetadataToken</td><td>100664828</td></tr><tr><td>Module</td><td>Microsoft.DotNet.Interactive.dll</td></tr><tr><td>IsSecurityCritical</td><td>True</td></tr><tr><td>IsSecuritySafeCritical</td><td>False</td></tr><tr><td>IsSecurityTransparent</td><td>False</td></tr><tr><td>MethodHandle</td><td>System.RuntimeMethodHandle</td></tr><tr><td>Attributes</td><td>Assembly, HideBySig</td></tr><tr><td>CallingConvention</td><td>Standard, HasThis</td></tr><tr><td>ReturnType</td><td>System.Threading.Tasks.Task</td></tr><tr><td>ReturnTypeCustomAttributes</td><td>System.Threading.Tasks.Task</td></tr><tr><td>ReturnParameter</td><td>System.Threading.Tasks.Task</td></tr><tr><td>IsCollectible</td><td>False</td></tr><tr><td>IsGenericMethod</td><td>False</td></tr><tr><td>IsGenericMethodDefinition</td><td>False</td></tr><tr><td>ContainsGenericParameters</td><td>False</td></tr><tr><td>MethodImplementationFlags</td><td>IL</td></tr><tr><td>IsAbstract</td><td>False</td></tr><tr><td>IsConstructor</td><td>False</td></tr><tr><td>IsFinal</td><td>False</td></tr><tr><td>IsHideBySig</td><td>True</td></tr><tr><td>IsSpecialName</td><td>False</td></tr><tr><td>IsStatic</td><td>False</td></tr><tr><td>IsVirtual</td><td>False</td></tr><tr><td>IsAssembly</td><td>True</td></tr><tr><td>IsFamily</td><td>False</td></tr><tr><td>IsFamilyAndAssembly</td><td>False</td></tr><tr><td>IsFamilyOrAssembly</td><td>False</td></tr><tr><td>IsPrivate</td><td>False</td></tr><tr><td>IsPublic</td><td>False</td></tr><tr><td>IsConstructedGenericMethod</td><td>False</td></tr><tr><td>CustomAttributes</td><td>[  ]</td></tr></tbody></table></div></details></td></tr><tr><td>Position</td><td><div class=\"dni-plaintext\"><pre>-1</pre></div></td></tr><tr><td>IsIn</td><td><div class=\"dni-plaintext\"><pre>False</pre></div></td></tr><tr><td>IsLcid</td><td><div class=\"dni-plaintext\"><pre>False</pre></div></td></tr><tr><td>IsOptional</td><td><div class=\"dni-plaintext\"><pre>False</pre></div></td></tr><tr><td>IsOut</td><td><div class=\"dni-plaintext\"><pre>False</pre></div></td></tr><tr><td>IsRetval</td><td><div class=\"dni-plaintext\"><pre>False</pre></div></td></tr><tr><td>CustomAttributes</td><td><i>(empty)</i></td></tr></tbody></table></div></details></td></tr><tr><td>IsCollectible</td><td><div class=\"dni-plaintext\"><pre>False</pre></div></td></tr><tr><td>IsGenericMethod</td><td><div class=\"dni-plaintext\"><pre>False</pre></div></td></tr><tr><td>IsGenericMethodDefinition</td><td><div class=\"dni-plaintext\"><pre>False</pre></div></td></tr><tr><td>ContainsGenericParameters</td><td><div class=\"dni-plaintext\"><pre>False</pre></div></td></tr><tr><td>MethodImplementationFlags</td><td><span>IL</span></td></tr><tr><td>IsAbstract</td><td><div class=\"dni-plaintext\"><pre>False</pre></div></td></tr><tr><td>IsConstructor</td><td><div class=\"dni-plaintext\"><pre>False</pre></div></td></tr><tr><td>IsFinal</td><td><div class=\"dni-plaintext\"><pre>False</pre></div></td></tr><tr><td>IsHideBySig</td><td><div class=\"dni-plaintext\"><pre>True</pre></div></td></tr><tr><td>IsSpecialName</td><td><div class=\"dni-plaintext\"><pre>False</pre></div></td></tr><tr><td>IsStatic</td><td><div class=\"dni-plaintext\"><pre>False</pre></div></td></tr><tr><td>IsVirtual</td><td><div class=\"dni-plaintext\"><pre>False</pre></div></td></tr><tr><td>IsAssembly</td><td><div class=\"dni-plaintext\"><pre>True</pre></div></td></tr><tr><td>IsFamily</td><td><div class=\"dni-plaintext\"><pre>False</pre></div></td></tr><tr><td>IsFamilyAndAssembly</td><td><div class=\"dni-plaintext\"><pre>False</pre></div></td></tr><tr><td>IsFamilyOrAssembly</td><td><div class=\"dni-plaintext\"><pre>False</pre></div></td></tr><tr><td>IsPrivate</td><td><div class=\"dni-plaintext\"><pre>False</pre></div></td></tr><tr><td>IsPublic</td><td><div class=\"dni-plaintext\"><pre>False</pre></div></td></tr><tr><td>IsConstructedGenericMethod</td><td><div class=\"dni-plaintext\"><pre>False</pre></div></td></tr><tr><td>CustomAttributes</td><td><i>(empty)</i></td></tr></tbody></table></div></details></td></tr></tbody></table></div></details></td></tr><tr><td>Parent</td><td><details class=\"dni-treeview\"><summary><span class=\"dni-code-hint\"><code>SubmitCode: var logger = new DisplayLogger(&quot;NotebookUpdater&quot;,  ...</code></span></summary><div><table><thead><tr></tr></thead><tbody><tr><td>Code</td><td><div class=\"dni-plaintext\"><pre>var logger = new DisplayLogger(&quot;NotebookUpdater&quot;, LogLevel.Information);\n",
       "\n",
       "display(&quot;Cr&#233;ation de l&#39;instance NotebookUpdater...&quot;);\n",
       "var updater = new NotebookUpdater(semanticKernel, notebookPath, logger);\n",
       "\n",
       "display(&quot;Appel &#224; UpdateNotebook...&quot;);\n",
       "var response = await updater.UpdateNotebook();\n",
       "\n",
       "display($&quot;R&#233;sultat de l&#39;ex&#233;cution du notebook :\\n{response}&quot;);\n",
       "</pre></div></td></tr><tr><td>Handler</td><td><details class=\"dni-treeview\"><summary><span class=\"dni-code-hint\"><code>Microsoft.DotNet.Interactive.KernelCommandInvocation</code></span></summary><div><table><thead><tr></tr></thead><tbody><tr><td>Target</td><td><details class=\"dni-treeview\"><summary><span class=\"dni-code-hint\"><code>Microsoft.DotNet.Interactive.Kernel+&lt;&gt;c__DisplayClass82_0`1[Microsoft.DotNet.Interactive.Commands.SubmitCode]</code></span></summary><div><table><thead><tr></tr></thead><tbody><tr><td>handler</td><td><details class=\"dni-treeview\"><summary><span class=\"dni-code-hint\"><code>Microsoft.DotNet.Interactive.CSharp.CSharpKernel: csharp (kernel://pid-37992/csharp)</code></span></summary><div><table><thead><tr></tr></thead><tbody><tr><td>ScriptState</td><td>Microsoft.CodeAnalysis.Scripting.ScriptState`1[System.Object]</td></tr><tr><td>ParentKernel</td><td>[ Microsoft.DotNet.Interactive.SqlDiscoverabilityKernel: sql (kernel://pid-37992/sql), Microsoft.DotNet.Interactive.KqlDiscoverabilityKernel: kql (kernel://pid-37992/kql), Microsoft.DotNet.Interactive.CSharp.CSharpKernel: csharp (kernel://pid-37992/csharp), Microsoft.DotNet.Interactive.FSharp.FSharpKernel: fsharp (kernel://pid-37992/fsharp), Microsoft.DotNet.Interactive.PowerShell.PowerShellKernel: pwsh (kernel://pid-37992/pwsh), Microsoft.DotNet.Interactive.HtmlKernel: html (kernel://pid-37992/html), Microsoft.DotNet.Interactive.KeyValueStoreKernel: value (kernel://pid-37992/value), Microsoft.DotNet.Interactive.Mermaid.MermaidKernel: mermaid (kernel://pid-37992/mermaid), Microsoft.DotNet.Interactive.Http.HttpKernel: http (kernel://pid-37992/http), Microsoft.DotNet.Interactive.Connection.ProxyKernel: vscode (kernel://pid-37992/vscode -> kernel://vscode/), Microsoft.DotNet.Interactive.Connection.ProxyKernel: javascript (kernel://pid-37992/javascript -> kernel://webview/javascript) ]</td></tr><tr><td>RootKernel</td><td>[ Microsoft.DotNet.Interactive.SqlDiscoverabilityKernel: sql (kernel://pid-37992/sql), Microsoft.DotNet.Interactive.KqlDiscoverabilityKernel: kql (kernel://pid-37992/kql), Microsoft.DotNet.Interactive.CSharp.CSharpKernel: csharp (kernel://pid-37992/csharp), Microsoft.DotNet.Interactive.FSharp.FSharpKernel: fsharp (kernel://pid-37992/fsharp), Microsoft.DotNet.Interactive.PowerShell.PowerShellKernel: pwsh (kernel://pid-37992/pwsh), Microsoft.DotNet.Interactive.HtmlKernel: html (kernel://pid-37992/html), Microsoft.DotNet.Interactive.KeyValueStoreKernel: value (kernel://pid-37992/value), Microsoft.DotNet.Interactive.Mermaid.MermaidKernel: mermaid (kernel://pid-37992/mermaid), Microsoft.DotNet.Interactive.Http.HttpKernel: http (kernel://pid-37992/http), Microsoft.DotNet.Interactive.Connection.ProxyKernel: vscode (kernel://pid-37992/vscode -> kernel://vscode/), Microsoft.DotNet.Interactive.Connection.ProxyKernel: javascript (kernel://pid-37992/javascript -> kernel://webview/javascript) ]</td></tr><tr><td>SubmissionCount</td><td>0</td></tr><tr><td>SubmissionParser</td><td>Microsoft.DotNet.Interactive.Parsing.SubmissionParser</td></tr><tr><td>FrontendEnvironment</td><td>Microsoft.DotNet.Interactive.Http.BrowserFrontendEnvironment</td></tr><tr><td>KernelEvents</td><td>System.Reactive.Subjects.Subject`1[Microsoft.DotNet.Interactive.Events.KernelEvent]</td></tr><tr><td>Name</td><td>csharp</td></tr><tr><td>KernelInfo</td><td>csharp (kernel://pid-37992/csharp)</td></tr><tr><td>Directives</td><td>[ [ Argument: source ], [ Argument: package ], [  ], [  ], [  ], [ Option`1: from, Option`1: mime-type, Option`1: as, Argument: name ], [ Option`1: name, Option`1: value, Option`1: mime-type, Option`1: byref ], [  ] ]</td></tr><tr><td>ChooseKernelDirective</td><td>[  ]</td></tr></tbody></table></div></details></td></tr><tr><td>command</td><td><details class=\"dni-treeview\"><summary><span class=\"dni-code-hint\"><code>SubmitCode: var logger = new DisplayLogger(&quot;NotebookUpdater&quot;,  ...</code></span></summary><div><table><thead><tr></tr></thead><tbody><tr><td>Code</td><td>var logger = new DisplayLogger(\"NotebookUpdater\", LogLevel.Information);\n",
       "\n",
       "display(\"Création de l'instance NotebookUpdater...\");\n",
       "var updater = new NotebookUpdater(semanticKernel, notebookPath, logger);\n",
       "\n",
       "display(\"Appel à UpdateNotebook...\");\n",
       "var response = await updater.UpdateNotebook();\n",
       "\n",
       "display($\"Résultat de l'exécution du notebook :\\n{response}\");\n",
       "</td></tr><tr><td>Handler</td><td>Microsoft.DotNet.Interactive.KernelCommandInvocation</td></tr><tr><td>Parent</td><td><div class=\"dni-plaintext\"><pre>&lt;null&gt;</pre></div></td></tr><tr><td>TargetKernelName</td><td>csharp</td></tr><tr><td>OriginUri</td><td><div class=\"dni-plaintext\"><pre>&lt;null&gt;</pre></div></td></tr><tr><td>DestinationUri</td><td><div class=\"dni-plaintext\"><pre>&lt;null&gt;</pre></div></td></tr><tr><td>KernelChooserParseResult</td><td><div class=\"dni-plaintext\"><pre>&lt;null&gt;</pre></div></td></tr><tr><td>RoutingSlip</td><td>[kernel://pid-37992/ (arrived), kernel://pid-37992/csharp (arrived)]</td></tr></tbody></table></div></details></td></tr></tbody></table></div></details></td></tr><tr><td>Method</td><td><details class=\"dni-treeview\"><summary><span class=\"dni-code-hint\"><code>System.Threading.Tasks.Task &lt;SetHandler&gt;b__0(Microsoft.DotNet.Interactive.Commands.KernelCommand, Microsoft.DotNet.Interactive.KernelInvocationContext)</code></span></summary><div><table><thead><tr></tr></thead><tbody><tr><td>Name</td><td><div class=\"dni-plaintext\"><pre>&lt;SetHandler&gt;b__0</pre></div></td></tr><tr><td>DeclaringType</td><td><span><a href=\"https://docs.microsoft.com/dotnet/api/microsoft.dotnet.interactive.kernel.&lt;>c__displayclass82_0-1?view=net-7.0\">Microsoft.DotNet.Interactive.Kernel+&lt;&gt;c__DisplayClass82_0&lt;Microsoft.DotNet.Interactive.Commands.SubmitCode&gt;</a></span></td></tr><tr><td>ReflectedType</td><td><span><a href=\"https://docs.microsoft.com/dotnet/api/microsoft.dotnet.interactive.kernel.&lt;>c__displayclass82_0-1?view=net-7.0\">Microsoft.DotNet.Interactive.Kernel+&lt;&gt;c__DisplayClass82_0&lt;Microsoft.DotNet.Interactive.Commands.SubmitCode&gt;</a></span></td></tr><tr><td>MemberType</td><td><span>Method</span></td></tr><tr><td>MetadataToken</td><td><div class=\"dni-plaintext\"><pre>100664828</pre></div></td></tr><tr><td>Module</td><td><details class=\"dni-treeview\"><summary><span class=\"dni-code-hint\"><code>Microsoft.DotNet.Interactive.dll</code></span></summary><div><table><thead><tr></tr></thead><tbody><tr><td>MDStreamVersion</td><td>131072</td></tr><tr><td>FullyQualifiedName</td><td>C:\\Users\\Administrateur.000\\.nuget\\packages\\microsoft.dotnet-interactive\\1.0.522904\\tools\\net8.0\\any\\Microsoft.DotNet.Interactive.dll</td></tr><tr><td>ModuleVersionId</td><td>ee6aec0a-8e1f-4e4c-97e3-57418e1dc7e0</td></tr><tr><td>MetadataToken</td><td>1</td></tr><tr><td>ScopeName</td><td>Microsoft.DotNet.Interactive.dll</td></tr><tr><td>Name</td><td>Microsoft.DotNet.Interactive.dll</td></tr><tr><td>Assembly</td><td>Microsoft.DotNet.Interactive, Version=1.0.0.0, Culture=neutral, PublicKeyToken=31bf3856ad364e35</td></tr><tr><td>ModuleHandle</td><td>System.ModuleHandle</td></tr><tr><td>CustomAttributes</td><td>[ [System.Runtime.CompilerServices.RefSafetyRulesAttribute((Int32)11)] ]</td></tr></tbody></table></div></details></td></tr><tr><td>IsSecurityCritical</td><td><div class=\"dni-plaintext\"><pre>True</pre></div></td></tr><tr><td>IsSecuritySafeCritical</td><td><div class=\"dni-plaintext\"><pre>False</pre></div></td></tr><tr><td>IsSecurityTransparent</td><td><div class=\"dni-plaintext\"><pre>False</pre></div></td></tr><tr><td>MethodHandle</td><td><details class=\"dni-treeview\"><summary><span class=\"dni-code-hint\"><code>System.RuntimeMethodHandle</code></span></summary><div><table><thead><tr></tr></thead><tbody><tr><td>Value</td><td>140731641892472</td></tr></tbody></table></div></details></td></tr><tr><td>Attributes</td><td><span>Assembly, HideBySig</span></td></tr><tr><td>CallingConvention</td><td><span>Standard, HasThis</span></td></tr><tr><td>ReturnType</td><td><span><a href=\"https://docs.microsoft.com/dotnet/api/system.threading.tasks.task?view=net-7.0\">System.Threading.Tasks.Task</a></span></td></tr><tr><td>ReturnTypeCustomAttributes</td><td><details class=\"dni-treeview\"><summary><span class=\"dni-code-hint\"><code>System.Threading.Tasks.Task</code></span></summary><div><table><thead><tr></tr></thead><tbody><tr><td>ParameterType</td><td>System.Threading.Tasks.Task</td></tr><tr><td>Name</td><td><div class=\"dni-plaintext\"><pre>&lt;null&gt;</pre></div></td></tr><tr><td>HasDefaultValue</td><td>False</td></tr><tr><td>DefaultValue</td><td></td></tr><tr><td>RawDefaultValue</td><td></td></tr><tr><td>MetadataToken</td><td>134217728</td></tr><tr><td>Attributes</td><td>None</td></tr><tr><td>Member</td><td>System.Threading.Tasks.Task <SetHandler>b__0(Microsoft.DotNet.Interactive.Commands.KernelCommand, Microsoft.DotNet.Interactive.KernelInvocationContext)</td></tr><tr><td>Position</td><td>-1</td></tr><tr><td>IsIn</td><td>False</td></tr><tr><td>IsLcid</td><td>False</td></tr><tr><td>IsOptional</td><td>False</td></tr><tr><td>IsOut</td><td>False</td></tr><tr><td>IsRetval</td><td>False</td></tr><tr><td>CustomAttributes</td><td>[  ]</td></tr></tbody></table></div></details></td></tr><tr><td>ReturnParameter</td><td><details class=\"dni-treeview\"><summary><span class=\"dni-code-hint\"><code>System.Threading.Tasks.Task</code></span></summary><div><table><thead><tr></tr></thead><tbody><tr><td>ParameterType</td><td>System.Threading.Tasks.Task</td></tr><tr><td>Name</td><td><div class=\"dni-plaintext\"><pre>&lt;null&gt;</pre></div></td></tr><tr><td>HasDefaultValue</td><td>False</td></tr><tr><td>DefaultValue</td><td></td></tr><tr><td>RawDefaultValue</td><td></td></tr><tr><td>MetadataToken</td><td>134217728</td></tr><tr><td>Attributes</td><td>None</td></tr><tr><td>Member</td><td>System.Threading.Tasks.Task <SetHandler>b__0(Microsoft.DotNet.Interactive.Commands.KernelCommand, Microsoft.DotNet.Interactive.KernelInvocationContext)</td></tr><tr><td>Position</td><td>-1</td></tr><tr><td>IsIn</td><td>False</td></tr><tr><td>IsLcid</td><td>False</td></tr><tr><td>IsOptional</td><td>False</td></tr><tr><td>IsOut</td><td>False</td></tr><tr><td>IsRetval</td><td>False</td></tr><tr><td>CustomAttributes</td><td>[  ]</td></tr></tbody></table></div></details></td></tr><tr><td>IsCollectible</td><td><div class=\"dni-plaintext\"><pre>False</pre></div></td></tr><tr><td>IsGenericMethod</td><td><div class=\"dni-plaintext\"><pre>False</pre></div></td></tr><tr><td>IsGenericMethodDefinition</td><td><div class=\"dni-plaintext\"><pre>False</pre></div></td></tr><tr><td>ContainsGenericParameters</td><td><div class=\"dni-plaintext\"><pre>False</pre></div></td></tr><tr><td>MethodImplementationFlags</td><td><span>IL</span></td></tr><tr><td>IsAbstract</td><td><div class=\"dni-plaintext\"><pre>False</pre></div></td></tr><tr><td>IsConstructor</td><td><div class=\"dni-plaintext\"><pre>False</pre></div></td></tr><tr><td>IsFinal</td><td><div class=\"dni-plaintext\"><pre>False</pre></div></td></tr><tr><td>IsHideBySig</td><td><div class=\"dni-plaintext\"><pre>True</pre></div></td></tr><tr><td>IsSpecialName</td><td><div class=\"dni-plaintext\"><pre>False</pre></div></td></tr><tr><td>IsStatic</td><td><div class=\"dni-plaintext\"><pre>False</pre></div></td></tr><tr><td>IsVirtual</td><td><div class=\"dni-plaintext\"><pre>False</pre></div></td></tr><tr><td>IsAssembly</td><td><div class=\"dni-plaintext\"><pre>True</pre></div></td></tr><tr><td>IsFamily</td><td><div class=\"dni-plaintext\"><pre>False</pre></div></td></tr><tr><td>IsFamilyAndAssembly</td><td><div class=\"dni-plaintext\"><pre>False</pre></div></td></tr><tr><td>IsFamilyOrAssembly</td><td><div class=\"dni-plaintext\"><pre>False</pre></div></td></tr><tr><td>IsPrivate</td><td><div class=\"dni-plaintext\"><pre>False</pre></div></td></tr><tr><td>IsPublic</td><td><div class=\"dni-plaintext\"><pre>False</pre></div></td></tr><tr><td>IsConstructedGenericMethod</td><td><div class=\"dni-plaintext\"><pre>False</pre></div></td></tr><tr><td>CustomAttributes</td><td><i>(empty)</i></td></tr></tbody></table></div></details></td></tr></tbody></table></div></details></td></tr><tr><td>Parent</td><td><div class=\"dni-plaintext\"><pre>&lt;null&gt;</pre></div></td></tr><tr><td>TargetKernelName</td><td><div class=\"dni-plaintext\"><pre>csharp</pre></div></td></tr><tr><td>OriginUri</td><td><div class=\"dni-plaintext\"><pre>&lt;null&gt;</pre></div></td></tr><tr><td>DestinationUri</td><td><div class=\"dni-plaintext\"><pre>&lt;null&gt;</pre></div></td></tr><tr><td>KernelChooserParseResult</td><td><div class=\"dni-plaintext\"><pre>&lt;null&gt;</pre></div></td></tr><tr><td>RoutingSlip</td><td><div class=\"dni-plaintext\"><pre>[ kernel://pid-37992/ (arrived), kernel://pid-37992/csharp (arrived) ]</pre></div></td></tr></tbody></table></div></details></td></tr><tr><td>TargetKernelName</td><td><div class=\"dni-plaintext\"><pre>csharp</pre></div></td></tr><tr><td>OriginUri</td><td><div class=\"dni-plaintext\"><pre>&lt;null&gt;</pre></div></td></tr><tr><td>DestinationUri</td><td><div class=\"dni-plaintext\"><pre>&lt;null&gt;</pre></div></td></tr><tr><td>KernelChooserParseResult</td><td><div class=\"dni-plaintext\"><pre>&lt;null&gt;</pre></div></td></tr><tr><td>RoutingSlip</td><td><div class=\"dni-plaintext\"><pre>[ kernel://local/.NET (arrived), kernel://local/csharp (arrived), kernel://local/csharp, kernel://local/.NET ]</pre></div></td></tr></tbody></table></div></details></td></tr><tr><td>Events</td><td><table><thead><tr><th><i>index</i></th><th><i>type</i></th><th>value</th></tr></thead><tbody><tr><td>0</td><td><span><a href=\"https://docs.microsoft.com/dotnet/api/microsoft.dotnet.interactive.events.codesubmissionreceived?view=net-7.0\">Microsoft.DotNet.Interactive.Events.CodeSubmissionReceived</a></span></td><td><details class=\"dni-treeview\"><summary><span class=\"dni-code-hint\"><code>CodeSubmissionReceived: // Utilisation de l&#39;infrastructure initialis&#233;e pou ...</code></span></summary><div><table><thead><tr></tr></thead><tbody><tr><td>Code</td><td><div class=\"dni-plaintext\"><pre>// Utilisation de l&#39;infrastructure initialis&#233;e pour r&#233;aliser la t&#226;che demand&#233;e\n",
       "var labels = new List&lt;string&gt;();\n",
       "foreach (var result in results)\n",
       "{\n",
       "    labels.Add(result[&quot;label&quot;].ToString());\n",
       "}\n",
       "// Cr&#233;ation du graphique\n",
       "var chart = Chart.Plot(new Graph.Scattergl()\n",
       "{\n",
       "    x = Enumerable.Range(1, labels.Count),\n",
       "    y = labels\n",
       "});\n",
       "chart.WithTitle(&quot;Labels for Asturias&quot;);\n",
       "display(chart);</pre></div></td></tr><tr><td>Command</td><td><details class=\"dni-treeview\"><summary><span class=\"dni-code-hint\"><code>SubmitCode: // Utilisation de l&#39;infrastructure initialis&#233;e pou ...</code></span></summary><div><table><thead><tr></tr></thead><tbody><tr><td>Code</td><td><div class=\"dni-plaintext\"><pre>// Utilisation de l&#39;infrastructure initialis&#233;e pour r&#233;aliser la t&#226;che demand&#233;e\n",
       "var labels = new List&lt;string&gt;();\n",
       "foreach (var result in results)\n",
       "{\n",
       "    labels.Add(result[&quot;label&quot;].ToString());\n",
       "}\n",
       "// Cr&#233;ation du graphique\n",
       "var chart = Chart.Plot(new Graph.Scattergl()\n",
       "{\n",
       "    x = Enumerable.Range(1, labels.Count),\n",
       "    y = labels\n",
       "});\n",
       "chart.WithTitle(&quot;Labels for Asturias&quot;);\n",
       "display(chart);</pre></div></td></tr><tr><td>Handler</td><td><details class=\"dni-treeview\"><summary><span class=\"dni-code-hint\"><code>Microsoft.DotNet.Interactive.KernelCommandInvocation</code></span></summary><div><table><thead><tr></tr></thead><tbody><tr><td>Target</td><td><details class=\"dni-treeview\"><summary><span class=\"dni-code-hint\"><code>Microsoft.DotNet.Interactive.Kernel+&lt;&gt;c__DisplayClass82_0`1[Microsoft.DotNet.Interactive.Commands.SubmitCode]</code></span></summary><div><table><thead><tr></tr></thead><tbody><tr><td>handler</td><td>Microsoft.DotNet.Interactive.CSharp.CSharpKernel: csharp (kernel://local/csharp)</td></tr><tr><td>command</td><td>SubmitCode: // Utilisation de l'infrastructure initialisée pou ...</td></tr></tbody></table></div></details></td></tr><tr><td>Method</td><td><details class=\"dni-treeview\"><summary><span class=\"dni-code-hint\"><code>System.Threading.Tasks.Task &lt;SetHandler&gt;b__0(Microsoft.DotNet.Interactive.Commands.KernelCommand, Microsoft.DotNet.Interactive.KernelInvocationContext)</code></span></summary><div><table><thead><tr></tr></thead><tbody><tr><td>Name</td><td><SetHandler>b__0</td></tr><tr><td>DeclaringType</td><td>Microsoft.DotNet.Interactive.Kernel+<>c__DisplayClass82_0`1[Microsoft.DotNet.Interactive.Commands.SubmitCode]</td></tr><tr><td>ReflectedType</td><td>Microsoft.DotNet.Interactive.Kernel+<>c__DisplayClass82_0`1[Microsoft.DotNet.Interactive.Commands.SubmitCode]</td></tr><tr><td>MemberType</td><td>Method</td></tr><tr><td>MetadataToken</td><td>100664828</td></tr><tr><td>Module</td><td>Microsoft.DotNet.Interactive.dll</td></tr><tr><td>IsSecurityCritical</td><td>True</td></tr><tr><td>IsSecuritySafeCritical</td><td>False</td></tr><tr><td>IsSecurityTransparent</td><td>False</td></tr><tr><td>MethodHandle</td><td>System.RuntimeMethodHandle</td></tr><tr><td>Attributes</td><td>Assembly, HideBySig</td></tr><tr><td>CallingConvention</td><td>Standard, HasThis</td></tr><tr><td>ReturnType</td><td>System.Threading.Tasks.Task</td></tr><tr><td>ReturnTypeCustomAttributes</td><td>System.Threading.Tasks.Task</td></tr><tr><td>ReturnParameter</td><td>System.Threading.Tasks.Task</td></tr><tr><td>IsCollectible</td><td>False</td></tr><tr><td>IsGenericMethod</td><td>False</td></tr><tr><td>IsGenericMethodDefinition</td><td>False</td></tr><tr><td>ContainsGenericParameters</td><td>False</td></tr><tr><td>MethodImplementationFlags</td><td>IL</td></tr><tr><td>IsAbstract</td><td>False</td></tr><tr><td>IsConstructor</td><td>False</td></tr><tr><td>IsFinal</td><td>False</td></tr><tr><td>IsHideBySig</td><td>True</td></tr><tr><td>IsSpecialName</td><td>False</td></tr><tr><td>IsStatic</td><td>False</td></tr><tr><td>IsVirtual</td><td>False</td></tr><tr><td>IsAssembly</td><td>True</td></tr><tr><td>IsFamily</td><td>False</td></tr><tr><td>IsFamilyAndAssembly</td><td>False</td></tr><tr><td>IsFamilyOrAssembly</td><td>False</td></tr><tr><td>IsPrivate</td><td>False</td></tr><tr><td>IsPublic</td><td>False</td></tr><tr><td>IsConstructedGenericMethod</td><td>False</td></tr><tr><td>CustomAttributes</td><td>[  ]</td></tr></tbody></table></div></details></td></tr></tbody></table></div></details></td></tr><tr><td>Parent</td><td><details class=\"dni-treeview\"><summary><span class=\"dni-code-hint\"><code>SubmitCode: var logger = new DisplayLogger(&quot;NotebookUpdater&quot;,  ...</code></span></summary><div><table><thead><tr></tr></thead><tbody><tr><td>Code</td><td><div class=\"dni-plaintext\"><pre>var logger = new DisplayLogger(&quot;NotebookUpdater&quot;, LogLevel.Information);\n",
       "\n",
       "display(&quot;Cr&#233;ation de l&#39;instance NotebookUpdater...&quot;);\n",
       "var updater = new NotebookUpdater(semanticKernel, notebookPath, logger);\n",
       "\n",
       "display(&quot;Appel &#224; UpdateNotebook...&quot;);\n",
       "var response = await updater.UpdateNotebook();\n",
       "\n",
       "display($&quot;R&#233;sultat de l&#39;ex&#233;cution du notebook :\\n{response}&quot;);\n",
       "</pre></div></td></tr><tr><td>Handler</td><td><details class=\"dni-treeview\"><summary><span class=\"dni-code-hint\"><code>Microsoft.DotNet.Interactive.KernelCommandInvocation</code></span></summary><div><table><thead><tr></tr></thead><tbody><tr><td>Target</td><td>Microsoft.DotNet.Interactive.Kernel+<>c__DisplayClass82_0`1[Microsoft.DotNet.Interactive.Commands.SubmitCode]</td></tr><tr><td>Method</td><td>System.Threading.Tasks.Task <SetHandler>b__0(Microsoft.DotNet.Interactive.Commands.KernelCommand, Microsoft.DotNet.Interactive.KernelInvocationContext)</td></tr></tbody></table></div></details></td></tr><tr><td>Parent</td><td><div class=\"dni-plaintext\"><pre>&lt;null&gt;</pre></div></td></tr><tr><td>TargetKernelName</td><td><div class=\"dni-plaintext\"><pre>csharp</pre></div></td></tr><tr><td>OriginUri</td><td><div class=\"dni-plaintext\"><pre>&lt;null&gt;</pre></div></td></tr><tr><td>DestinationUri</td><td><div class=\"dni-plaintext\"><pre>&lt;null&gt;</pre></div></td></tr><tr><td>KernelChooserParseResult</td><td><div class=\"dni-plaintext\"><pre>&lt;null&gt;</pre></div></td></tr><tr><td>RoutingSlip</td><td>[ kernel://pid-37992/ (arrived), kernel://pid-37992/csharp (arrived) ]</td></tr></tbody></table></div></details></td></tr><tr><td>TargetKernelName</td><td><div class=\"dni-plaintext\"><pre>csharp</pre></div></td></tr><tr><td>OriginUri</td><td><div class=\"dni-plaintext\"><pre>&lt;null&gt;</pre></div></td></tr><tr><td>DestinationUri</td><td><div class=\"dni-plaintext\"><pre>&lt;null&gt;</pre></div></td></tr><tr><td>KernelChooserParseResult</td><td><div class=\"dni-plaintext\"><pre>&lt;null&gt;</pre></div></td></tr><tr><td>RoutingSlip</td><td><div class=\"dni-plaintext\"><pre>[ kernel://local/.NET (arrived), kernel://local/csharp (arrived), kernel://local/csharp, kernel://local/.NET ]</pre></div></td></tr></tbody></table></div></details></td></tr><tr><td>RoutingSlip</td><td><div class=\"dni-plaintext\"><pre>[ kernel://local/csharp, kernel://pid-37992/ ]</pre></div></td></tr></tbody></table></div></details></td></tr><tr><td>1</td><td><span><a href=\"https://docs.microsoft.com/dotnet/api/microsoft.dotnet.interactive.events.completecodesubmissionreceived?view=net-7.0\">Microsoft.DotNet.Interactive.Events.CompleteCodeSubmissionReceived</a></span></td><td><details class=\"dni-treeview\"><summary><span class=\"dni-code-hint\"><code>CompleteCodeSubmissionReceived: // Utilisation de l&#39;infrastructure initialis&#233;e pou ...</code></span></summary><div><table><thead><tr></tr></thead><tbody><tr><td>Code</td><td><div class=\"dni-plaintext\"><pre>// Utilisation de l&#39;infrastructure initialis&#233;e pour r&#233;aliser la t&#226;che demand&#233;e\n",
       "var labels = new List&lt;string&gt;();\n",
       "foreach (var result in results)\n",
       "{\n",
       "    labels.Add(result[&quot;label&quot;].ToString());\n",
       "}\n",
       "// Cr&#233;ation du graphique\n",
       "var chart = Chart.Plot(new Graph.Scattergl()\n",
       "{\n",
       "    x = Enumerable.Range(1, labels.Count),\n",
       "    y = labels\n",
       "});\n",
       "chart.WithTitle(&quot;Labels for Asturias&quot;);\n",
       "display(chart);</pre></div></td></tr><tr><td>Command</td><td><details class=\"dni-treeview\"><summary><span class=\"dni-code-hint\"><code>SubmitCode: // Utilisation de l&#39;infrastructure initialis&#233;e pou ...</code></span></summary><div><table><thead><tr></tr></thead><tbody><tr><td>Code</td><td><div class=\"dni-plaintext\"><pre>// Utilisation de l&#39;infrastructure initialis&#233;e pour r&#233;aliser la t&#226;che demand&#233;e\n",
       "var labels = new List&lt;string&gt;();\n",
       "foreach (var result in results)\n",
       "{\n",
       "    labels.Add(result[&quot;label&quot;].ToString());\n",
       "}\n",
       "// Cr&#233;ation du graphique\n",
       "var chart = Chart.Plot(new Graph.Scattergl()\n",
       "{\n",
       "    x = Enumerable.Range(1, labels.Count),\n",
       "    y = labels\n",
       "});\n",
       "chart.WithTitle(&quot;Labels for Asturias&quot;);\n",
       "display(chart);</pre></div></td></tr><tr><td>Handler</td><td><details class=\"dni-treeview\"><summary><span class=\"dni-code-hint\"><code>Microsoft.DotNet.Interactive.KernelCommandInvocation</code></span></summary><div><table><thead><tr></tr></thead><tbody><tr><td>Target</td><td><details class=\"dni-treeview\"><summary><span class=\"dni-code-hint\"><code>Microsoft.DotNet.Interactive.Kernel+&lt;&gt;c__DisplayClass82_0`1[Microsoft.DotNet.Interactive.Commands.SubmitCode]</code></span></summary><div><table><thead><tr></tr></thead><tbody><tr><td>handler</td><td>Microsoft.DotNet.Interactive.CSharp.CSharpKernel: csharp (kernel://local/csharp)</td></tr><tr><td>command</td><td>SubmitCode: // Utilisation de l'infrastructure initialisée pou ...</td></tr></tbody></table></div></details></td></tr><tr><td>Method</td><td><details class=\"dni-treeview\"><summary><span class=\"dni-code-hint\"><code>System.Threading.Tasks.Task &lt;SetHandler&gt;b__0(Microsoft.DotNet.Interactive.Commands.KernelCommand, Microsoft.DotNet.Interactive.KernelInvocationContext)</code></span></summary><div><table><thead><tr></tr></thead><tbody><tr><td>Name</td><td><SetHandler>b__0</td></tr><tr><td>DeclaringType</td><td>Microsoft.DotNet.Interactive.Kernel+<>c__DisplayClass82_0`1[Microsoft.DotNet.Interactive.Commands.SubmitCode]</td></tr><tr><td>ReflectedType</td><td>Microsoft.DotNet.Interactive.Kernel+<>c__DisplayClass82_0`1[Microsoft.DotNet.Interactive.Commands.SubmitCode]</td></tr><tr><td>MemberType</td><td>Method</td></tr><tr><td>MetadataToken</td><td>100664828</td></tr><tr><td>Module</td><td>Microsoft.DotNet.Interactive.dll</td></tr><tr><td>IsSecurityCritical</td><td>True</td></tr><tr><td>IsSecuritySafeCritical</td><td>False</td></tr><tr><td>IsSecurityTransparent</td><td>False</td></tr><tr><td>MethodHandle</td><td>System.RuntimeMethodHandle</td></tr><tr><td>Attributes</td><td>Assembly, HideBySig</td></tr><tr><td>CallingConvention</td><td>Standard, HasThis</td></tr><tr><td>ReturnType</td><td>System.Threading.Tasks.Task</td></tr><tr><td>ReturnTypeCustomAttributes</td><td>System.Threading.Tasks.Task</td></tr><tr><td>ReturnParameter</td><td>System.Threading.Tasks.Task</td></tr><tr><td>IsCollectible</td><td>False</td></tr><tr><td>IsGenericMethod</td><td>False</td></tr><tr><td>IsGenericMethodDefinition</td><td>False</td></tr><tr><td>ContainsGenericParameters</td><td>False</td></tr><tr><td>MethodImplementationFlags</td><td>IL</td></tr><tr><td>IsAbstract</td><td>False</td></tr><tr><td>IsConstructor</td><td>False</td></tr><tr><td>IsFinal</td><td>False</td></tr><tr><td>IsHideBySig</td><td>True</td></tr><tr><td>IsSpecialName</td><td>False</td></tr><tr><td>IsStatic</td><td>False</td></tr><tr><td>IsVirtual</td><td>False</td></tr><tr><td>IsAssembly</td><td>True</td></tr><tr><td>IsFamily</td><td>False</td></tr><tr><td>IsFamilyAndAssembly</td><td>False</td></tr><tr><td>IsFamilyOrAssembly</td><td>False</td></tr><tr><td>IsPrivate</td><td>False</td></tr><tr><td>IsPublic</td><td>False</td></tr><tr><td>IsConstructedGenericMethod</td><td>False</td></tr><tr><td>CustomAttributes</td><td>[  ]</td></tr></tbody></table></div></details></td></tr></tbody></table></div></details></td></tr><tr><td>Parent</td><td><details class=\"dni-treeview\"><summary><span class=\"dni-code-hint\"><code>SubmitCode: var logger = new DisplayLogger(&quot;NotebookUpdater&quot;,  ...</code></span></summary><div><table><thead><tr></tr></thead><tbody><tr><td>Code</td><td><div class=\"dni-plaintext\"><pre>var logger = new DisplayLogger(&quot;NotebookUpdater&quot;, LogLevel.Information);\n",
       "\n",
       "display(&quot;Cr&#233;ation de l&#39;instance NotebookUpdater...&quot;);\n",
       "var updater = new NotebookUpdater(semanticKernel, notebookPath, logger);\n",
       "\n",
       "display(&quot;Appel &#224; UpdateNotebook...&quot;);\n",
       "var response = await updater.UpdateNotebook();\n",
       "\n",
       "display($&quot;R&#233;sultat de l&#39;ex&#233;cution du notebook :\\n{response}&quot;);\n",
       "</pre></div></td></tr><tr><td>Handler</td><td><details class=\"dni-treeview\"><summary><span class=\"dni-code-hint\"><code>Microsoft.DotNet.Interactive.KernelCommandInvocation</code></span></summary><div><table><thead><tr></tr></thead><tbody><tr><td>Target</td><td>Microsoft.DotNet.Interactive.Kernel+<>c__DisplayClass82_0`1[Microsoft.DotNet.Interactive.Commands.SubmitCode]</td></tr><tr><td>Method</td><td>System.Threading.Tasks.Task <SetHandler>b__0(Microsoft.DotNet.Interactive.Commands.KernelCommand, Microsoft.DotNet.Interactive.KernelInvocationContext)</td></tr></tbody></table></div></details></td></tr><tr><td>Parent</td><td><div class=\"dni-plaintext\"><pre>&lt;null&gt;</pre></div></td></tr><tr><td>TargetKernelName</td><td><div class=\"dni-plaintext\"><pre>csharp</pre></div></td></tr><tr><td>OriginUri</td><td><div class=\"dni-plaintext\"><pre>&lt;null&gt;</pre></div></td></tr><tr><td>DestinationUri</td><td><div class=\"dni-plaintext\"><pre>&lt;null&gt;</pre></div></td></tr><tr><td>KernelChooserParseResult</td><td><div class=\"dni-plaintext\"><pre>&lt;null&gt;</pre></div></td></tr><tr><td>RoutingSlip</td><td>[ kernel://pid-37992/ (arrived), kernel://pid-37992/csharp (arrived) ]</td></tr></tbody></table></div></details></td></tr><tr><td>TargetKernelName</td><td><div class=\"dni-plaintext\"><pre>csharp</pre></div></td></tr><tr><td>OriginUri</td><td><div class=\"dni-plaintext\"><pre>&lt;null&gt;</pre></div></td></tr><tr><td>DestinationUri</td><td><div class=\"dni-plaintext\"><pre>&lt;null&gt;</pre></div></td></tr><tr><td>KernelChooserParseResult</td><td><div class=\"dni-plaintext\"><pre>&lt;null&gt;</pre></div></td></tr><tr><td>RoutingSlip</td><td><div class=\"dni-plaintext\"><pre>[ kernel://local/.NET (arrived), kernel://local/csharp (arrived), kernel://local/csharp, kernel://local/.NET ]</pre></div></td></tr></tbody></table></div></details></td></tr><tr><td>RoutingSlip</td><td><div class=\"dni-plaintext\"><pre>[ kernel://local/csharp, kernel://pid-37992/ ]</pre></div></td></tr></tbody></table></div></details></td></tr><tr><td>2</td><td><span><a href=\"https://docs.microsoft.com/dotnet/api/microsoft.dotnet.interactive.events.diagnosticsproduced?view=net-7.0\">Microsoft.DotNet.Interactive.Events.DiagnosticsProduced</a></span></td><td><details class=\"dni-treeview\"><summary><span class=\"dni-code-hint\"><code>DiagnosticsProduced</code></span></summary><div><table><thead><tr></tr></thead><tbody><tr><td>Diagnostics</td><td><table><thead><tr><th><i>index</i></th><th>value</th></tr></thead><tbody><tr><td>0</td><td><details class=\"dni-treeview\"><summary><span class=\"dni-code-hint\"><code>CS0426: [(7, 33)-(7, 42)) Le nom de type &#39;Scattergl&#39; n&#39;existe pas dans le type &#39;Graph&#39;</code></span></summary><div><table><thead><tr></tr></thead><tbody><tr><td>LinePositionSpan</td><td><details class=\"dni-treeview\"><summary><span class=\"dni-code-hint\"><code>[(7, 33)-(7, 42))</code></span></summary><div><table><thead><tr></tr></thead><tbody><tr><td>Start</td><td>(7, 33)</td></tr><tr><td>End</td><td>(7, 42)</td></tr></tbody></table></div></details></td></tr><tr><td>Severity</td><td><span>Error</span></td></tr><tr><td>Code</td><td><div class=\"dni-plaintext\"><pre>CS0426</pre></div></td></tr><tr><td>Message</td><td><div class=\"dni-plaintext\"><pre>Le nom de type &#39;Scattergl&#39; n&#39;existe pas dans le type &#39;Graph&#39;</pre></div></td></tr></tbody></table></div></details></td></tr></tbody></table></td></tr><tr><td>FormattedDiagnostics</td><td><table><thead><tr><th><i>index</i></th><th>value</th></tr></thead><tbody><tr><td>0</td><td><details class=\"dni-treeview\"><summary><span class=\"dni-code-hint\"><code>Microsoft.DotNet.Interactive.FormattedValue</code></span></summary><div><table><thead><tr></tr></thead><tbody><tr><td>MimeType</td><td><div class=\"dni-plaintext\"><pre>text/plain</pre></div></td></tr><tr><td>Value</td><td><div class=\"dni-plaintext\"><pre>(8,34): error CS0426: Le nom de type &#39;Scattergl&#39; n&#39;existe pas dans le type &#39;Graph&#39;</pre></div></td></tr><tr><td>SuppressDisplay</td><td><div class=\"dni-plaintext\"><pre>False</pre></div></td></tr></tbody></table></div></details></td></tr></tbody></table></td></tr><tr><td>Command</td><td><details class=\"dni-treeview\"><summary><span class=\"dni-code-hint\"><code>SubmitCode: // Utilisation de l&#39;infrastructure initialis&#233;e pou ...</code></span></summary><div><table><thead><tr></tr></thead><tbody><tr><td>Code</td><td><div class=\"dni-plaintext\"><pre>// Utilisation de l&#39;infrastructure initialis&#233;e pour r&#233;aliser la t&#226;che demand&#233;e\n",
       "var labels = new List&lt;string&gt;();\n",
       "foreach (var result in results)\n",
       "{\n",
       "    labels.Add(result[&quot;label&quot;].ToString());\n",
       "}\n",
       "// Cr&#233;ation du graphique\n",
       "var chart = Chart.Plot(new Graph.Scattergl()\n",
       "{\n",
       "    x = Enumerable.Range(1, labels.Count),\n",
       "    y = labels\n",
       "});\n",
       "chart.WithTitle(&quot;Labels for Asturias&quot;);\n",
       "display(chart);</pre></div></td></tr><tr><td>Handler</td><td><details class=\"dni-treeview\"><summary><span class=\"dni-code-hint\"><code>Microsoft.DotNet.Interactive.KernelCommandInvocation</code></span></summary><div><table><thead><tr></tr></thead><tbody><tr><td>Target</td><td><details class=\"dni-treeview\"><summary><span class=\"dni-code-hint\"><code>Microsoft.DotNet.Interactive.Kernel+&lt;&gt;c__DisplayClass82_0`1[Microsoft.DotNet.Interactive.Commands.SubmitCode]</code></span></summary><div><table><thead><tr></tr></thead><tbody><tr><td>handler</td><td>Microsoft.DotNet.Interactive.CSharp.CSharpKernel: csharp (kernel://local/csharp)</td></tr><tr><td>command</td><td>SubmitCode: // Utilisation de l'infrastructure initialisée pou ...</td></tr></tbody></table></div></details></td></tr><tr><td>Method</td><td><details class=\"dni-treeview\"><summary><span class=\"dni-code-hint\"><code>System.Threading.Tasks.Task &lt;SetHandler&gt;b__0(Microsoft.DotNet.Interactive.Commands.KernelCommand, Microsoft.DotNet.Interactive.KernelInvocationContext)</code></span></summary><div><table><thead><tr></tr></thead><tbody><tr><td>Name</td><td><SetHandler>b__0</td></tr><tr><td>DeclaringType</td><td>Microsoft.DotNet.Interactive.Kernel+<>c__DisplayClass82_0`1[Microsoft.DotNet.Interactive.Commands.SubmitCode]</td></tr><tr><td>ReflectedType</td><td>Microsoft.DotNet.Interactive.Kernel+<>c__DisplayClass82_0`1[Microsoft.DotNet.Interactive.Commands.SubmitCode]</td></tr><tr><td>MemberType</td><td>Method</td></tr><tr><td>MetadataToken</td><td>100664828</td></tr><tr><td>Module</td><td>Microsoft.DotNet.Interactive.dll</td></tr><tr><td>IsSecurityCritical</td><td>True</td></tr><tr><td>IsSecuritySafeCritical</td><td>False</td></tr><tr><td>IsSecurityTransparent</td><td>False</td></tr><tr><td>MethodHandle</td><td>System.RuntimeMethodHandle</td></tr><tr><td>Attributes</td><td>Assembly, HideBySig</td></tr><tr><td>CallingConvention</td><td>Standard, HasThis</td></tr><tr><td>ReturnType</td><td>System.Threading.Tasks.Task</td></tr><tr><td>ReturnTypeCustomAttributes</td><td>System.Threading.Tasks.Task</td></tr><tr><td>ReturnParameter</td><td>System.Threading.Tasks.Task</td></tr><tr><td>IsCollectible</td><td>False</td></tr><tr><td>IsGenericMethod</td><td>False</td></tr><tr><td>IsGenericMethodDefinition</td><td>False</td></tr><tr><td>ContainsGenericParameters</td><td>False</td></tr><tr><td>MethodImplementationFlags</td><td>IL</td></tr><tr><td>IsAbstract</td><td>False</td></tr><tr><td>IsConstructor</td><td>False</td></tr><tr><td>IsFinal</td><td>False</td></tr><tr><td>IsHideBySig</td><td>True</td></tr><tr><td>IsSpecialName</td><td>False</td></tr><tr><td>IsStatic</td><td>False</td></tr><tr><td>IsVirtual</td><td>False</td></tr><tr><td>IsAssembly</td><td>True</td></tr><tr><td>IsFamily</td><td>False</td></tr><tr><td>IsFamilyAndAssembly</td><td>False</td></tr><tr><td>IsFamilyOrAssembly</td><td>False</td></tr><tr><td>IsPrivate</td><td>False</td></tr><tr><td>IsPublic</td><td>False</td></tr><tr><td>IsConstructedGenericMethod</td><td>False</td></tr><tr><td>CustomAttributes</td><td>[  ]</td></tr></tbody></table></div></details></td></tr></tbody></table></div></details></td></tr><tr><td>Parent</td><td><details class=\"dni-treeview\"><summary><span class=\"dni-code-hint\"><code>SubmitCode: var logger = new DisplayLogger(&quot;NotebookUpdater&quot;,  ...</code></span></summary><div><table><thead><tr></tr></thead><tbody><tr><td>Code</td><td><div class=\"dni-plaintext\"><pre>var logger = new DisplayLogger(&quot;NotebookUpdater&quot;, LogLevel.Information);\n",
       "\n",
       "display(&quot;Cr&#233;ation de l&#39;instance NotebookUpdater...&quot;);\n",
       "var updater = new NotebookUpdater(semanticKernel, notebookPath, logger);\n",
       "\n",
       "display(&quot;Appel &#224; UpdateNotebook...&quot;);\n",
       "var response = await updater.UpdateNotebook();\n",
       "\n",
       "display($&quot;R&#233;sultat de l&#39;ex&#233;cution du notebook :\\n{response}&quot;);\n",
       "</pre></div></td></tr><tr><td>Handler</td><td><details class=\"dni-treeview\"><summary><span class=\"dni-code-hint\"><code>Microsoft.DotNet.Interactive.KernelCommandInvocation</code></span></summary><div><table><thead><tr></tr></thead><tbody><tr><td>Target</td><td>Microsoft.DotNet.Interactive.Kernel+<>c__DisplayClass82_0`1[Microsoft.DotNet.Interactive.Commands.SubmitCode]</td></tr><tr><td>Method</td><td>System.Threading.Tasks.Task <SetHandler>b__0(Microsoft.DotNet.Interactive.Commands.KernelCommand, Microsoft.DotNet.Interactive.KernelInvocationContext)</td></tr></tbody></table></div></details></td></tr><tr><td>Parent</td><td><div class=\"dni-plaintext\"><pre>&lt;null&gt;</pre></div></td></tr><tr><td>TargetKernelName</td><td><div class=\"dni-plaintext\"><pre>csharp</pre></div></td></tr><tr><td>OriginUri</td><td><div class=\"dni-plaintext\"><pre>&lt;null&gt;</pre></div></td></tr><tr><td>DestinationUri</td><td><div class=\"dni-plaintext\"><pre>&lt;null&gt;</pre></div></td></tr><tr><td>KernelChooserParseResult</td><td><div class=\"dni-plaintext\"><pre>&lt;null&gt;</pre></div></td></tr><tr><td>RoutingSlip</td><td>[ kernel://pid-37992/ (arrived), kernel://pid-37992/csharp (arrived) ]</td></tr></tbody></table></div></details></td></tr><tr><td>TargetKernelName</td><td><div class=\"dni-plaintext\"><pre>csharp</pre></div></td></tr><tr><td>OriginUri</td><td><div class=\"dni-plaintext\"><pre>&lt;null&gt;</pre></div></td></tr><tr><td>DestinationUri</td><td><div class=\"dni-plaintext\"><pre>&lt;null&gt;</pre></div></td></tr><tr><td>KernelChooserParseResult</td><td><div class=\"dni-plaintext\"><pre>&lt;null&gt;</pre></div></td></tr><tr><td>RoutingSlip</td><td><div class=\"dni-plaintext\"><pre>[ kernel://local/.NET (arrived), kernel://local/csharp (arrived), kernel://local/csharp, kernel://local/.NET ]</pre></div></td></tr></tbody></table></div></details></td></tr><tr><td>RoutingSlip</td><td><div class=\"dni-plaintext\"><pre>[ kernel://local/csharp, kernel://pid-37992/ ]</pre></div></td></tr></tbody></table></div></details></td></tr><tr><td>3</td><td><span><a href=\"https://docs.microsoft.com/dotnet/api/microsoft.dotnet.interactive.events.commandfailed?view=net-7.0\">Microsoft.DotNet.Interactive.Events.CommandFailed</a></span></td><td><details class=\"dni-treeview\"><summary><span class=\"dni-code-hint\"><code>CommandFailed: (8,34): error CS0426: Le nom de type &#39;Scattergl&#39; n&#39;existe pas dans le type &#39;Graph&#39;</code></span></summary><div><table><thead><tr></tr></thead><tbody><tr><td>Exception</td><td><details class=\"dni-treeview\"><summary><span class=\"dni-code-hint\"><code>Microsoft.DotNet.Interactive.CodeSubmissionCompilationErrorException: (8,34): error CS0426: Le nom de type &#39;Scattergl&#39; n&#39;existe pas dans le type &#39;Graph&#39;\\r\\n ---&gt; Microsoft.CodeAnalysis.Scripting.CompilationErrorException: (8,34): error CS0426: Le nom de type &#39;Scattergl&#39; n&#39;existe pas dans le type &#39;Gr...</code></span></summary><div><table><thead><tr></tr></thead><tbody><tr><td>TargetSite</td><td><div class=\"dni-plaintext\"><pre>&lt;null&gt;</pre></div></td></tr><tr><td>Message</td><td><div class=\"dni-plaintext\"><pre>(8,34): error CS0426: Le nom de type &#39;Scattergl&#39; n&#39;existe pas dans le type &#39;Graph&#39;</pre></div></td></tr><tr><td>Data</td><td><i>(empty)</i></td></tr><tr><td>InnerException</td><td><details class=\"dni-treeview\"><summary><span class=\"dni-code-hint\"><code>Microsoft.CodeAnalysis.Scripting.CompilationErrorException: (8,34): error CS0426: Le nom de type &#39;Scattergl&#39; n&#39;existe pas dans le type &#39;Graph&#39;\\r\\n   at Microsoft.CodeAnalysis.Scripting.ScriptBuilder.ThrowIfAnyCompilationErrors(DiagnosticBag diagnostics, DiagnosticFormatter formatter)\\r\\n   at Micros...</code></span></summary><div><table><thead><tr></tr></thead><tbody><tr><td>Diagnostics</td><td><table><thead><tr><th><i>index</i></th><th>value</th></tr></thead><tbody><tr><td>0</td><td>(8,34): error CS0426: Le nom de type 'Scattergl' n'existe pas dans le type 'Graph'</td></tr></tbody></table></td></tr><tr><td>TargetSite</td><td><details class=\"dni-treeview\"><summary><span class=\"dni-code-hint\"><code>Void ThrowIfAnyCompilationErrors(Microsoft.CodeAnalysis.DiagnosticBag, Microsoft.CodeAnalysis.DiagnosticFormatter)</code></span></summary><div><table><thead><tr></tr></thead><tbody><tr><td>Name</td><td>ThrowIfAnyCompilationErrors</td></tr><tr><td>DeclaringType</td><td>Microsoft.CodeAnalysis.Scripting.ScriptBuilder</td></tr><tr><td>ReflectedType</td><td>Microsoft.CodeAnalysis.Scripting.ScriptBuilder</td></tr><tr><td>MemberType</td><td>Method</td></tr><tr><td>MetadataToken</td><td>100663433</td></tr><tr><td>Module</td><td>Microsoft.CodeAnalysis.Scripting.dll</td></tr><tr><td>IsSecurityCritical</td><td>True</td></tr><tr><td>IsSecuritySafeCritical</td><td>False</td></tr><tr><td>IsSecurityTransparent</td><td>False</td></tr><tr><td>MethodHandle</td><td>System.RuntimeMethodHandle</td></tr><tr><td>Attributes</td><td>Private, Static, HideBySig</td></tr><tr><td>CallingConvention</td><td>Standard</td></tr><tr><td>ReturnType</td><td>System.Void</td></tr><tr><td>ReturnTypeCustomAttributes</td><td>Void</td></tr><tr><td>ReturnParameter</td><td>Void</td></tr><tr><td>IsCollectible</td><td>False</td></tr><tr><td>IsGenericMethod</td><td>False</td></tr><tr><td>IsGenericMethodDefinition</td><td>False</td></tr><tr><td>ContainsGenericParameters</td><td>False</td></tr><tr><td>MethodImplementationFlags</td><td>IL</td></tr><tr><td>IsAbstract</td><td>False</td></tr><tr><td>IsConstructor</td><td>False</td></tr><tr><td>IsFinal</td><td>False</td></tr><tr><td>IsHideBySig</td><td>True</td></tr><tr><td>IsSpecialName</td><td>False</td></tr><tr><td>IsStatic</td><td>True</td></tr><tr><td>IsVirtual</td><td>False</td></tr><tr><td>IsAssembly</td><td>False</td></tr><tr><td>IsFamily</td><td>False</td></tr><tr><td>IsFamilyAndAssembly</td><td>False</td></tr><tr><td>IsFamilyOrAssembly</td><td>False</td></tr><tr><td>IsPrivate</td><td>True</td></tr><tr><td>IsPublic</td><td>False</td></tr><tr><td>IsConstructedGenericMethod</td><td>False</td></tr><tr><td>CustomAttributes</td><td>[  ]</td></tr></tbody></table></div></details></td></tr><tr><td>Message</td><td><div class=\"dni-plaintext\"><pre>(8,34): error CS0426: Le nom de type &#39;Scattergl&#39; n&#39;existe pas dans le type &#39;Graph&#39;</pre></div></td></tr><tr><td>Data</td><td><i>(empty)</i></td></tr><tr><td>InnerException</td><td><div class=\"dni-plaintext\"><pre>&lt;null&gt;</pre></div></td></tr><tr><td>HelpLink</td><td><div class=\"dni-plaintext\"><pre>&lt;null&gt;</pre></div></td></tr><tr><td>Source</td><td><div class=\"dni-plaintext\"><pre>Microsoft.CodeAnalysis.Scripting</pre></div></td></tr><tr><td>HResult</td><td><div class=\"dni-plaintext\"><pre>-2146233088</pre></div></td></tr><tr><td>StackTrace</td><td><div class=\"dni-plaintext\"><pre>   at Microsoft.CodeAnalysis.Scripting.ScriptBuilder.ThrowIfAnyCompilationErrors(DiagnosticBag diagnostics, DiagnosticFormatter formatter)\r\n",
       "   at Microsoft.CodeAnalysis.Scripting.ScriptBuilder.CreateExecutor[T](ScriptCompiler compiler, Compilation compilation, Boolean emitDebugInformation, CancellationToken cancellationToken)\r\n",
       "   at Microsoft.CodeAnalysis.Scripting.Script`1.GetExecutor(CancellationToken cancellationToken)\r\n",
       "   at Microsoft.CodeAnalysis.Scripting.Script`1.RunFromAsync(ScriptState previousState, Func`2 catchException, CancellationToken cancellationToken)\r\n",
       "   at Microsoft.CodeAnalysis.Scripting.ScriptState.ContinueWithAsync(String code, ScriptOptions options, Func`2 catchException, CancellationToken cancellationToken)\r\n",
       "   at Microsoft.DotNet.Interactive.CSharp.CSharpKernel.RunAsync(String code, CancellationToken cancellationToken, Func`2 catchException) in D:\\a\\_work\\1\\s\\src\\Microsoft.DotNet.Interactive.CSharp\\CSharpKernel.cs:line 379\r\n",
       "   at Microsoft.DotNet.Interactive.CSharp.CSharpKernel.Microsoft.DotNet.Interactive.IKernelCommandHandler&lt;Microsoft.DotNet.Interactive.Commands.SubmitCode&gt;.HandleAsync(SubmitCode submitCode, KernelInvocationContext context) in D:\\a\\_work\\1\\s\\src\\Microsoft.DotNet.Interactive.CSharp\\CSharpKernel.cs:line 278</pre></div></td></tr></tbody></table></div></details></td></tr><tr><td>HelpLink</td><td><div class=\"dni-plaintext\"><pre>&lt;null&gt;</pre></div></td></tr><tr><td>Source</td><td><div class=\"dni-plaintext\"><pre>&lt;null&gt;</pre></div></td></tr><tr><td>HResult</td><td><div class=\"dni-plaintext\"><pre>-2146233088</pre></div></td></tr><tr><td>StackTrace</td><td><div class=\"dni-plaintext\"><pre>&lt;null&gt;</pre></div></td></tr></tbody></table></div></details></td></tr><tr><td>Message</td><td><div class=\"dni-plaintext\"><pre>(8,34): error CS0426: Le nom de type &#39;Scattergl&#39; n&#39;existe pas dans le type &#39;Graph&#39;</pre></div></td></tr><tr><td>ExecutionOrder</td><td><div class=\"dni-plaintext\"><pre>&lt;null&gt;</pre></div></td></tr><tr><td>Command</td><td><details class=\"dni-treeview\"><summary><span class=\"dni-code-hint\"><code>SubmitCode: // Utilisation de l&#39;infrastructure initialis&#233;e pou ...</code></span></summary><div><table><thead><tr></tr></thead><tbody><tr><td>Code</td><td><div class=\"dni-plaintext\"><pre>// Utilisation de l&#39;infrastructure initialis&#233;e pour r&#233;aliser la t&#226;che demand&#233;e\n",
       "var labels = new List&lt;string&gt;();\n",
       "foreach (var result in results)\n",
       "{\n",
       "    labels.Add(result[&quot;label&quot;].ToString());\n",
       "}\n",
       "// Cr&#233;ation du graphique\n",
       "var chart = Chart.Plot(new Graph.Scattergl()\n",
       "{\n",
       "    x = Enumerable.Range(1, labels.Count),\n",
       "    y = labels\n",
       "});\n",
       "chart.WithTitle(&quot;Labels for Asturias&quot;);\n",
       "display(chart);</pre></div></td></tr><tr><td>Handler</td><td><details class=\"dni-treeview\"><summary><span class=\"dni-code-hint\"><code>Microsoft.DotNet.Interactive.KernelCommandInvocation</code></span></summary><div><table><thead><tr></tr></thead><tbody><tr><td>Target</td><td><details class=\"dni-treeview\"><summary><span class=\"dni-code-hint\"><code>Microsoft.DotNet.Interactive.Kernel+&lt;&gt;c__DisplayClass82_0`1[Microsoft.DotNet.Interactive.Commands.SubmitCode]</code></span></summary><div><table><thead><tr></tr></thead><tbody><tr><td>handler</td><td>Microsoft.DotNet.Interactive.CSharp.CSharpKernel: csharp (kernel://local/csharp)</td></tr><tr><td>command</td><td>SubmitCode: // Utilisation de l'infrastructure initialisée pou ...</td></tr></tbody></table></div></details></td></tr><tr><td>Method</td><td><details class=\"dni-treeview\"><summary><span class=\"dni-code-hint\"><code>System.Threading.Tasks.Task &lt;SetHandler&gt;b__0(Microsoft.DotNet.Interactive.Commands.KernelCommand, Microsoft.DotNet.Interactive.KernelInvocationContext)</code></span></summary><div><table><thead><tr></tr></thead><tbody><tr><td>Name</td><td><SetHandler>b__0</td></tr><tr><td>DeclaringType</td><td>Microsoft.DotNet.Interactive.Kernel+<>c__DisplayClass82_0`1[Microsoft.DotNet.Interactive.Commands.SubmitCode]</td></tr><tr><td>ReflectedType</td><td>Microsoft.DotNet.Interactive.Kernel+<>c__DisplayClass82_0`1[Microsoft.DotNet.Interactive.Commands.SubmitCode]</td></tr><tr><td>MemberType</td><td>Method</td></tr><tr><td>MetadataToken</td><td>100664828</td></tr><tr><td>Module</td><td>Microsoft.DotNet.Interactive.dll</td></tr><tr><td>IsSecurityCritical</td><td>True</td></tr><tr><td>IsSecuritySafeCritical</td><td>False</td></tr><tr><td>IsSecurityTransparent</td><td>False</td></tr><tr><td>MethodHandle</td><td>System.RuntimeMethodHandle</td></tr><tr><td>Attributes</td><td>Assembly, HideBySig</td></tr><tr><td>CallingConvention</td><td>Standard, HasThis</td></tr><tr><td>ReturnType</td><td>System.Threading.Tasks.Task</td></tr><tr><td>ReturnTypeCustomAttributes</td><td>System.Threading.Tasks.Task</td></tr><tr><td>ReturnParameter</td><td>System.Threading.Tasks.Task</td></tr><tr><td>IsCollectible</td><td>False</td></tr><tr><td>IsGenericMethod</td><td>False</td></tr><tr><td>IsGenericMethodDefinition</td><td>False</td></tr><tr><td>ContainsGenericParameters</td><td>False</td></tr><tr><td>MethodImplementationFlags</td><td>IL</td></tr><tr><td>IsAbstract</td><td>False</td></tr><tr><td>IsConstructor</td><td>False</td></tr><tr><td>IsFinal</td><td>False</td></tr><tr><td>IsHideBySig</td><td>True</td></tr><tr><td>IsSpecialName</td><td>False</td></tr><tr><td>IsStatic</td><td>False</td></tr><tr><td>IsVirtual</td><td>False</td></tr><tr><td>IsAssembly</td><td>True</td></tr><tr><td>IsFamily</td><td>False</td></tr><tr><td>IsFamilyAndAssembly</td><td>False</td></tr><tr><td>IsFamilyOrAssembly</td><td>False</td></tr><tr><td>IsPrivate</td><td>False</td></tr><tr><td>IsPublic</td><td>False</td></tr><tr><td>IsConstructedGenericMethod</td><td>False</td></tr><tr><td>CustomAttributes</td><td>[  ]</td></tr></tbody></table></div></details></td></tr></tbody></table></div></details></td></tr><tr><td>Parent</td><td><details class=\"dni-treeview\"><summary><span class=\"dni-code-hint\"><code>SubmitCode: var logger = new DisplayLogger(&quot;NotebookUpdater&quot;,  ...</code></span></summary><div><table><thead><tr></tr></thead><tbody><tr><td>Code</td><td><div class=\"dni-plaintext\"><pre>var logger = new DisplayLogger(&quot;NotebookUpdater&quot;, LogLevel.Information);\n",
       "\n",
       "display(&quot;Cr&#233;ation de l&#39;instance NotebookUpdater...&quot;);\n",
       "var updater = new NotebookUpdater(semanticKernel, notebookPath, logger);\n",
       "\n",
       "display(&quot;Appel &#224; UpdateNotebook...&quot;);\n",
       "var response = await updater.UpdateNotebook();\n",
       "\n",
       "display($&quot;R&#233;sultat de l&#39;ex&#233;cution du notebook :\\n{response}&quot;);\n",
       "</pre></div></td></tr><tr><td>Handler</td><td><details class=\"dni-treeview\"><summary><span class=\"dni-code-hint\"><code>Microsoft.DotNet.Interactive.KernelCommandInvocation</code></span></summary><div><table><thead><tr></tr></thead><tbody><tr><td>Target</td><td>Microsoft.DotNet.Interactive.Kernel+<>c__DisplayClass82_0`1[Microsoft.DotNet.Interactive.Commands.SubmitCode]</td></tr><tr><td>Method</td><td>System.Threading.Tasks.Task <SetHandler>b__0(Microsoft.DotNet.Interactive.Commands.KernelCommand, Microsoft.DotNet.Interactive.KernelInvocationContext)</td></tr></tbody></table></div></details></td></tr><tr><td>Parent</td><td><div class=\"dni-plaintext\"><pre>&lt;null&gt;</pre></div></td></tr><tr><td>TargetKernelName</td><td><div class=\"dni-plaintext\"><pre>csharp</pre></div></td></tr><tr><td>OriginUri</td><td><div class=\"dni-plaintext\"><pre>&lt;null&gt;</pre></div></td></tr><tr><td>DestinationUri</td><td><div class=\"dni-plaintext\"><pre>&lt;null&gt;</pre></div></td></tr><tr><td>KernelChooserParseResult</td><td><div class=\"dni-plaintext\"><pre>&lt;null&gt;</pre></div></td></tr><tr><td>RoutingSlip</td><td>[ kernel://pid-37992/ (arrived), kernel://pid-37992/csharp (arrived) ]</td></tr></tbody></table></div></details></td></tr><tr><td>TargetKernelName</td><td><div class=\"dni-plaintext\"><pre>csharp</pre></div></td></tr><tr><td>OriginUri</td><td><div class=\"dni-plaintext\"><pre>&lt;null&gt;</pre></div></td></tr><tr><td>DestinationUri</td><td><div class=\"dni-plaintext\"><pre>&lt;null&gt;</pre></div></td></tr><tr><td>KernelChooserParseResult</td><td><div class=\"dni-plaintext\"><pre>&lt;null&gt;</pre></div></td></tr><tr><td>RoutingSlip</td><td><div class=\"dni-plaintext\"><pre>[ kernel://local/.NET (arrived), kernel://local/csharp (arrived), kernel://local/csharp, kernel://local/.NET ]</pre></div></td></tr></tbody></table></div></details></td></tr><tr><td>RoutingSlip</td><td><div class=\"dni-plaintext\"><pre>[ kernel://local/csharp ]</pre></div></td></tr></tbody></table></div></details></td></tr></tbody></table></td></tr></tbody></table></div></details><style>\r\n",
       ".dni-code-hint {\r\n",
       "    font-style: italic;\r\n",
       "    overflow: hidden;\r\n",
       "    white-space: nowrap;\r\n",
       "}\r\n",
       ".dni-treeview {\r\n",
       "    white-space: nowrap;\r\n",
       "}\r\n",
       ".dni-treeview td {\r\n",
       "    vertical-align: top;\r\n",
       "    text-align: start;\r\n",
       "}\r\n",
       "details.dni-treeview {\r\n",
       "    padding-left: 1em;\r\n",
       "}\r\n",
       "table td {\r\n",
       "    text-align: start;\r\n",
       "}\r\n",
       "table tr { \r\n",
       "    vertical-align: top; \r\n",
       "    margin: 0em 0px;\r\n",
       "}\r\n",
       "table tr td pre \r\n",
       "{ \r\n",
       "    vertical-align: top !important; \r\n",
       "    margin: 0em 0px !important;\r\n",
       "} \r\n",
       "table th {\r\n",
       "    text-align: start;\r\n",
       "}\r\n",
       "</style>"
      ]
     },
     "metadata": {},
     "output_type": "display_data"
    },
    {
     "data": {
      "text/plain": [
       "Affichage du markdown: \n",
       "## Conclusion\n",
       "\n",
       "Conclusion Markdown issue de l'exécution du notebook, explicitant la réalisation de la tâche et son résultat."
      ]
     },
     "metadata": {},
     "output_type": "display_data"
    },
    {
     "data": {
      "text/markdown": [
       "## Conclusion\n",
       "\n",
       "Conclusion Markdown issue de l'exécution du notebook, explicitant la réalisation de la tâche et son résultat."
      ]
     },
     "metadata": {},
     "output_type": "display_data"
    },
    {
     "data": {
      "text/plain": [
       "Appel à UpdateWorkbook terminé, renvoi du workbook après réexécution...\n",
       "{\r\n",
       " \"cells\": [\r\n",
       "  {\r\n",
       "   \"cell_type\": \"markdown\",\r\n",
       "   \"metadata\": {},\r\n",
       "   \"source\": [\r\n",
       "    \"# Notebook de travail\\n\",\r\n",
       "    \"Ce notebook est généré pour accomplir la tâche suivante :\\n\",\r\n",
       "    \"## Description de la tâche\\n\",\r\n",
       "    \"Créer un notebook .Net interactive permettant de requêter DBPedia. \\n\",\r\n",
       "    \"Utilisant le package Nuget dotNetRDF. \\n\",\r\n",
       "    \"Utiliser également Plotly ou Xplot pour afficher un graphique synthétisant les résultats.\\n\"\r\n",
       "   ]\r\n",
       "  },\r\n",
       "  {\r\n",
       "   \"cell_type\": \"markdown\",\r\n",
       "   \"metadata\": {},\r\n",
       "   \"source\": [\r\n",
       "    \"## Préparation de l'environnement\\n\",\r\n",
       "    \"Nous allons d'abord installer et importer les bibliothèques nécessaires.\"\r\n",
       "   ]\r\n",
       "  },\r\n",
       "  {\r\n",
       "   \"cell_type\": \"code\",\r\n",
       "   \"execution_count\": null,\r\n",
       "   \"metadata\": {\r\n",
       "    \"dotnet_interactive\": {\r\n",
       "     \"language\": \"// Installation des bibliothèques Nuget\\n#r \\\"nuget: dotNetRDF\\\"\\n#r \\\"nuget: XPlot.Plotly\\\"\"\r\n",
       "    },\r\n",
       "    \"polyglot_notebook\": {\r\n",
       "     \"kernelName\": \"// Installation des bibliothèques Nuget\\n#r \\\"nuget: dotNetRDF\\\"\\n#r \\\"nuget: XPlot.Plotly\\\"\"\r\n",
       "    }\r\n",
       "   },\r\n",
       "   \"outputs\": [],\r\n",
       "   \"source\": [\r\n",
       "    \"csharp\"\r\n",
       "   ]\r\n",
       "  },\r\n",
       "  {\r\n",
       "   \"cell_type\": \"code\",\r\n",
       "   \"execution_count\": null,\r\n",
       "   \"metadata\": {\r\n",
       "    \"dotnet_interactive\": {\r\n",
       "     \"language\": \"// Importation des espaces de noms utiles\\nusing VDS.RDF;\\nusing VDS.RDF.Query;\\nusing XPlot.Plotly;\"\r\n",
       "    },\r\n",
       "    \"polyglot_notebook\": {\r\n",
       "     \"kernelName\": \"// Importation des espaces de noms utiles\\nusing VDS.RDF;\\nusing VDS.RDF.Query;\\nusing XPlot.Plotly;\"\r\n",
       "    }\r\n",
       "   },\r\n",
       "   \"outputs\": [],\r\n",
       "   \"source\": [\r\n",
       "    \"csharp\"\r\n",
       "   ]\r\n",
       "  },\r\n",
       "  {\r\n",
       "   \"cell_type\": \"markdown\",\r\n",
       "   \"metadata\": {},\r\n",
       "   \"source\": [\r\n",
       "    \"## Initialisation\\n\"\r\n",
       "   ]\r\n",
       "  },\r\n",
       "  {\r\n",
       "   \"cell_type\": \"code\",\r\n",
       "   \"execution_count\": null,\r\n",
       "   \"metadata\": {\r\n",
       "    \"dotnet_interactive\": {\r\n",
       "     \"language\": \"// Création des objets nécessaire à la tâche demandée\\nSparqlRemoteEndpoint endpoint = new SparqlRemoteEndpoint(new Uri(\\\"https://dbpedia.org/sparql\\\"));\\n// Exemple de requête SPARQL\\nstring query = \\\"SELECT ?label WHERE { <http://dbpedia.org/resource/Asturias> rdfs:label ?label }\\\";\\n// Execution de la requête\\nSparqlResultSet results = endpoint.QueryWithResultSet(query);\"\r\n",
       "    },\r\n",
       "    \"polyglot_notebook\": {\r\n",
       "     \"kernelName\": \"// Création des objets nécessaire à la tâche demandée\\nSparqlRemoteEndpoint endpoint = new SparqlRemoteEndpoint(new Uri(\\\"https://dbpedia.org/sparql\\\"));\\n// Exemple de requête SPARQL\\nstring query = \\\"SELECT ?label WHERE { <http://dbpedia.org/resource/Asturias> rdfs:label ?label }\\\";\\n// Execution de la requête\\nSparqlResultSet results = endpoint.QueryWithResultSet(query);\"\r\n",
       "    }\r\n",
       "   },\r\n",
       "   \"outputs\": [],\r\n",
       "   \"source\": [\r\n",
       "    \"csharp\"\r\n",
       "   ]\r\n",
       "  },\r\n",
       "  {\r\n",
       "   \"cell_type\": \"markdown\",\r\n",
       "   \"metadata\": {},\r\n",
       "   \"source\": [\r\n",
       "    \"## Traitement\"\r\n",
       "   ]\r\n",
       "  },\r\n",
       "  {\r\n",
       "   \"cell_type\": \"code\",\r\n",
       "   \"execution_count\": null,\r\n",
       "   \"metadata\": {\r\n",
       "    \"dotnet_interactive\": {\r\n",
       "     \"language\": \"// Utilisation de l'infrastructure initialisée pour réaliser la tâche demandée\\nvar labels = new List<string>();\\nforeach (var result in results)\\n{\\n    labels.Add(result[\\\"label\\\"].ToString());\\n}\\n// Création du graphique\\nvar chart = Chart.Plot(new Graph.Scattergl()\\n{\\n    x = Enumerable.Range(1, labels.Count),\\n    y = labels\\n});\\nchart.WithTitle(\\\"Labels for Asturias\\\");\\ndisplay(chart);\"\r\n",
       "    },\r\n",
       "    \"polyglot_notebook\": {\r\n",
       "     \"kernelName\": \"// Utilisation de l'infrastructure initialisée pour réaliser la tâche demandée\\nvar labels = new List<string>();\\nforeach (var result in results)\\n{\\n    labels.Add(result[\\\"label\\\"].ToString());\\n}\\n// Création du graphique\\nvar chart = Chart.Plot(new Graph.Scattergl()\\n{\\n    x = Enumerable.Range(1, labels.Count),\\n    y = labels\\n});\\nchart.WithTitle(\\\"Labels for Asturias\\\");\\ndisplay(chart);\"\r\n",
       "    }\r\n",
       "   },\r\n",
       "   \"outputs\": [],\r\n",
       "   \"source\": [\r\n",
       "    \"csharp\"\r\n",
       "   ]\r\n",
       "  },\r\n",
       "  {\r\n",
       "   \"cell_type\": \"markdown\",\r\n",
       "   \"metadata\": {},\r\n",
       "   \"source\": [\r\n",
       "    \"## Conclusion\\n\",\r\n",
       "    \"\\n\",\r\n",
       "    \"Conclusion Markdown issue de l'exécution du notebook, explicitant la réalisation de la tâche et son résultat.\"\r\n",
       "   ]\r\n",
       "  }\r\n",
       " ],\r\n",
       " \"metadata\": {\r\n",
       "  \"kernelspec\": {\r\n",
       "   \"name\": \"csharp\",\r\n",
       "   \"language\": \"C#\"\r\n",
       "  }\r\n",
       " },\r\n",
       " \"nbformat\": 4,\r\n",
       " \"nbformat_minor\": 5\r\n",
       "}"
      ]
     },
     "metadata": {},
     "output_type": "display_data"
    },
    {
     "data": {
      "text/plain": [
       "WorkbookInteraction Itération 1 terminée."
      ]
     },
     "metadata": {},
     "output_type": "display_data"
    },
    {
     "data": {
      "text/plain": [
       "[Information] UpdateWorkbook - Function UpdateWorkbook succeeded."
      ]
     },
     "metadata": {},
     "output_type": "display_data"
    },
    {
     "data": {
      "text/plain": [
       "[Information] UpdateWorkbook - Function completed. Duration: 4.440973s"
      ]
     },
     "metadata": {},
     "output_type": "display_data"
    },
    {
     "data": {
      "text/plain": [
       "[Information] Microsoft.SemanticKernel.Connectors.OpenAI.OpenAIChatCompletionService - Prompt tokens: 4659. Completion tokens: 1898. Total tokens: 6557."
      ]
     },
     "metadata": {},
     "output_type": "display_data"
    },
    {
     "data": {
      "text/plain": [
       "[Information] UpdateWorkbook - Function UpdateWorkbook invoking."
      ]
     },
     "metadata": {},
     "output_type": "display_data"
    },
    {
     "data": {
      "text/plain": [
       "Appel en function calling à UpdateWorkbook avec le notebook...\n",
       "{\n",
       "  \"cells\": [\n",
       "    {\n",
       "      \"cell_type\": \"markdown\",\n",
       "      \"metadata\": {},\n",
       "      \"source\": [\n",
       "        \"# Notebook de travail\\n\",\n",
       "        \"Ce notebook est g\\u00e9n\\u00e9r\\u00e9 pour accomplir la t\\u00e2che suivante :\\n\",\n",
       "        \"## Description de la t\\u00e2che\\n\",\n",
       "        \"Cr\\u00e9er un notebook .Net interactive permettant de requ\\u00eater DBPedia. \\nUtilisant le package Nuget dotNetRDF. \\nUtiliser \\u00e9galement Plotly ou Xplot pour afficher un graphique synth\\u00e9tisant les r\\u00e9sultats.\\n\"\n",
       "      ]\n",
       "    },\n",
       "    {\n",
       "      \"cell_type\": \"markdown\",\n",
       "      \"metadata\": {},\n",
       "      \"source\": [\n",
       "        \"## Pr\\u00e9paration de l'environnement\\n\",\n",
       "        \"Nous allons d'abord installer et importer les biblioth\\u00e8ques n\\u00e9cessaires.\"\n",
       "      ]\n",
       "    },\n",
       "    {\n",
       "      \"cell_type\": \"code\",\n",
       "      \"execution_count\": null,\n",
       "      \"metadata\": {\n",
       "        \"dotnet_interactive\": {\n",
       "          \"language\": \"csharp\"\n",
       "        },\n",
       "        \"polyglot_notebook\": {\n",
       "          \"kernelName\": \"csharp\"\n",
       "        }\n",
       "      },\n",
       "      \"outputs\": [],\n",
       "      \"source\": [\n",
       "        \"// Installation des biblioth\\u00e8ques Nuget\\n\",\n",
       "        \"#r \\\"nuget: dotNetRDF\\\"\\n\",\n",
       "        \"#r \\\"nuget: XPlot.Plotly\\\"\"\n",
       "      ]\n",
       "    },\n",
       "    {\n",
       "      \"cell_type\": \"code\",\n",
       "      \"execution_count\": null,\n",
       "      \"metadata\": {\n",
       "        \"dotnet_interactive\": {\n",
       "          \"language\": \"csharp\"\n",
       "        },\n",
       "        \"polyglot_notebook\": {\n",
       "          \"kernelName\": \"csharp\"\n",
       "        }\n",
       "      },\n",
       "      \"outputs\": [],\n",
       "      \"source\": [\n",
       "        \"// Importation des espaces de noms utiles\\n\",\n",
       "        \"using VDS.RDF;\\n\",\n",
       "        \"using VDS.RDF.Query;\\n\",\n",
       "        \"using XPlot.Plotly;\"\n",
       "      ]\n",
       "    },\n",
       "    {\n",
       "      \"cell_type\": \"markdown\",\n",
       "      \"metadata\": {},\n",
       "      \"source\": [\n",
       "        \"## Initialisation\\n\"\n",
       "      ]\n",
       "    },\n",
       "    {\n",
       "      \"cell_type\": \"code\",\n",
       "      \"execution_count\": null,\n",
       "      \"metadata\": {\n",
       "        \"dotnet_interactive\": {\n",
       "          \"language\": \"csharp\"\n",
       "        },\n",
       "        \"polyglot_notebook\": {\n",
       "          \"kernelName\": \"csharp\"\n",
       "        }\n",
       "      },\n",
       "      \"outputs\": [],\n",
       "      \"source\": [\n",
       "        \"// Cr\\u00e9ation des objets n\\u00e9cessaire \\u00e0 la t\\u00e2che demand\\u00e9e\\n\",\n",
       "        \"SparqlRemoteEndpoint endpoint = new SparqlRemoteEndpoint(new Uri(\\\"https://dbpedia.org/sparql\\\"));\\n\",\n",
       "        \"// Exemple de requ\\u00eate SPARQL\\n\",\n",
       "        \"string query = \\\"SELECT ?label WHERE { <http://dbpedia.org/resource/Asturias> rdfs:label ?label }\\\";\\n\",\n",
       "        \"// Execution de la requ\\u00eate\\n\",\n",
       "        \"SparqlResultSet results = endpoint.QueryWithResultSet(query);\"\n",
       "      ]\n",
       "    },\n",
       "    {\n",
       "      \"cell_type\": \"markdown\",\n",
       "      \"metadata\": {},\n",
       "      \"source\": [\n",
       "        \"## Traitement\"\n",
       "      ]\n",
       "    },\n",
       "    {\n",
       "      \"cell_type\": \"code\",\n",
       "      \"execution_count\": null,\n",
       "      \"metadata\": {\n",
       "        \"dotnet_interactive\": {\n",
       "          \"language\": \"csharp\"\n",
       "        },\n",
       "        \"polyglot_notebook\": {\n",
       "          \"kernelName\": \"csharp\"\n",
       "        }\n",
       "      },\n",
       "      \"outputs\": [],\n",
       "      \"source\": [\n",
       "        \"// Utilisation de l'infrastructure initialis\\u00e9e pour r\\u00e9aliser la t\\u00e2che demand\\u00e9e\\n\",\n",
       "        \"var labels = new List<string>();\\n\",\n",
       "        \"foreach (var result in results)\\n\",\n",
       "        \"{\\n\",\n",
       "        \"    labels.Add(result[\\\"label\\\"].ToString());\\n\",\n",
       "        \"}\\n\",\n",
       "        \"// Cr\\u00e9ation du graphique\\n\",\n",
       "        \"var chart = Chart.Plot(new Graph.Scattergl()\\n\",\n",
       "        \"{\\n\",\n",
       "        \"    x = Enumerable.Range(1, labels.Count),\\n\",\n",
       "        \"    y = labels\\n\",\n",
       "        \"});\\n\",\n",
       "        \"chart.WithTitle(\\\"Labels for Asturias\\\");\\n\",\n",
       "        \"display(chart);\"\n",
       "      ]\n",
       "    },\n",
       "    {\n",
       "      \"cell_type\": \"markdown\",\n",
       "      \"metadata\": {},\n",
       "      \"source\": [\n",
       "        \"## Conclusion\\n\",\n",
       "        \"\\n\",\n",
       "        \"Conclusion Markdown issue de l'ex\\u00e9cution du notebook, explicitant la r\\u00e9alisation de la t\\u00e2che et son r\\u00e9sultat.\"\n",
       "      ]\n",
       "    }\n",
       "  ],\n",
       "  \"metadata\": {\n",
       "    \"kernelspec\": {\n",
       "      \"display_name\": \".NET (C#)\",\n",
       "      \"language\": \"C#\",\n",
       "      \"name\": \".net-csharp\"\n",
       "    },\n",
       "    \"polyglot_notebook\": {\n",
       "      \"kernelInfo\": {\n",
       "        \"defaultKernelName\": \"csharp\",\n",
       "        \"items\": [\n",
       "          {\n",
       "            \"aliases\": [],\n",
       "            \"languageName\": \"csharp\",\n",
       "            \"name\": \"csharp\"\n",
       "          }\n",
       "        ]\n",
       "      }\n",
       "    }\n",
       "  },\n",
       "  \"nbformat\": 4,\n",
       "  \"nbformat_minor\": 2\n",
       "}"
      ]
     },
     "metadata": {},
     "output_type": "display_data"
    },
    {
     "data": {
      "text/plain": [
       "Exécution du notebook terminée."
      ]
     },
     "metadata": {},
     "output_type": "display_data"
    },
    {
     "data": {
      "text/plain": [
       "Affichage du markdown: \n",
       "# Notebook de travail\n",
       "Ce notebook est généré pour accomplir la tâche suivante :\n",
       "## Description de la tâche\n",
       "Créer un notebook .Net interactive permettant de requêter DBPedia. \n",
       "Utilisant le package Nuget dotNetRDF. \n",
       "Utiliser également Plotly ou Xplot pour afficher un graphique synthétisant les résultats.\n"
      ]
     },
     "metadata": {},
     "output_type": "display_data"
    },
    {
     "data": {
      "text/markdown": [
       "# Notebook de travail\n",
       "Ce notebook est généré pour accomplir la tâche suivante :\n",
       "## Description de la tâche\n",
       "Créer un notebook .Net interactive permettant de requêter DBPedia. \n",
       "Utilisant le package Nuget dotNetRDF. \n",
       "Utiliser également Plotly ou Xplot pour afficher un graphique synthétisant les résultats.\n"
      ]
     },
     "metadata": {},
     "output_type": "display_data"
    },
    {
     "data": {
      "text/plain": [
       "Affichage du markdown: \n",
       "## Préparation de l'environnement\n",
       "Nous allons d'abord installer et importer les bibliothèques nécessaires."
      ]
     },
     "metadata": {},
     "output_type": "display_data"
    },
    {
     "data": {
      "text/markdown": [
       "## Préparation de l'environnement\n",
       "Nous allons d'abord installer et importer les bibliothèques nécessaires."
      ]
     },
     "metadata": {},
     "output_type": "display_data"
    },
    {
     "data": {
      "text/plain": [
       "Envoi du code au kernel csharp:\n",
       "// Installation des bibliothèques Nuget\n",
       "#r \"nuget: dotNetRDF\"\n",
       "#r \"nuget: XPlot.Plotly\""
      ]
     },
     "metadata": {},
     "output_type": "display_data"
    },
    {
     "data": {
      "text/html": [
       "<div><div></div><div></div><div><strong>Installed Packages</strong><ul><li><span>dotNetRDF, 3.1.1</span></li><li><span>XPlot.Plotly, 4.1.0</span></li></ul></div></div>"
      ]
     },
     "metadata": {},
     "output_type": "display_data"
    },
    {
     "data": {
      "text/html": [
       "<details open=\"open\" class=\"dni-treeview\"><summary><span class=\"dni-code-hint\"><code>Microsoft.DotNet.Interactive.KernelCommandResult</code></span></summary><div><table><thead><tr></tr></thead><tbody><tr><td>Command</td><td><details class=\"dni-treeview\"><summary><span class=\"dni-code-hint\"><code>SubmitCode: // Installation des biblioth&#232;ques Nuget ...</code></span></summary><div><table><thead><tr></tr></thead><tbody><tr><td>Code</td><td><div class=\"dni-plaintext\"><pre>// Installation des biblioth&#232;ques Nuget\n",
       "#r &quot;nuget: dotNetRDF&quot;\n",
       "#r &quot;nuget: XPlot.Plotly&quot;</pre></div></td></tr><tr><td>Handler</td><td><div class=\"dni-plaintext\"><pre>&lt;null&gt;</pre></div></td></tr><tr><td>Parent</td><td><details class=\"dni-treeview\"><summary><span class=\"dni-code-hint\"><code>SubmitCode: var logger = new DisplayLogger(&quot;NotebookUpdater&quot;,  ...</code></span></summary><div><table><thead><tr></tr></thead><tbody><tr><td>Code</td><td><div class=\"dni-plaintext\"><pre>var logger = new DisplayLogger(&quot;NotebookUpdater&quot;, LogLevel.Information);\n",
       "\n",
       "display(&quot;Cr&#233;ation de l&#39;instance NotebookUpdater...&quot;);\n",
       "var updater = new NotebookUpdater(semanticKernel, notebookPath, logger);\n",
       "\n",
       "display(&quot;Appel &#224; UpdateNotebook...&quot;);\n",
       "var response = await updater.UpdateNotebook();\n",
       "\n",
       "display($&quot;R&#233;sultat de l&#39;ex&#233;cution du notebook :\\n{response}&quot;);\n",
       "</pre></div></td></tr><tr><td>Handler</td><td><details class=\"dni-treeview\"><summary><span class=\"dni-code-hint\"><code>Microsoft.DotNet.Interactive.KernelCommandInvocation</code></span></summary><div><table><thead><tr></tr></thead><tbody><tr><td>Target</td><td><details class=\"dni-treeview\"><summary><span class=\"dni-code-hint\"><code>Microsoft.DotNet.Interactive.Kernel+&lt;&gt;c__DisplayClass82_0`1[Microsoft.DotNet.Interactive.Commands.SubmitCode]</code></span></summary><div><table><thead><tr></tr></thead><tbody><tr><td>handler</td><td><details class=\"dni-treeview\"><summary><span class=\"dni-code-hint\"><code>Microsoft.DotNet.Interactive.CSharp.CSharpKernel: csharp (kernel://pid-37992/csharp)</code></span></summary><div><table><thead><tr></tr></thead><tbody><tr><td>ScriptState</td><td>Microsoft.CodeAnalysis.Scripting.ScriptState`1[System.Object]</td></tr><tr><td>ParentKernel</td><td>[ Microsoft.DotNet.Interactive.SqlDiscoverabilityKernel: sql (kernel://pid-37992/sql), Microsoft.DotNet.Interactive.KqlDiscoverabilityKernel: kql (kernel://pid-37992/kql), Microsoft.DotNet.Interactive.CSharp.CSharpKernel: csharp (kernel://pid-37992/csharp), Microsoft.DotNet.Interactive.FSharp.FSharpKernel: fsharp (kernel://pid-37992/fsharp), Microsoft.DotNet.Interactive.PowerShell.PowerShellKernel: pwsh (kernel://pid-37992/pwsh), Microsoft.DotNet.Interactive.HtmlKernel: html (kernel://pid-37992/html), Microsoft.DotNet.Interactive.KeyValueStoreKernel: value (kernel://pid-37992/value), Microsoft.DotNet.Interactive.Mermaid.MermaidKernel: mermaid (kernel://pid-37992/mermaid), Microsoft.DotNet.Interactive.Http.HttpKernel: http (kernel://pid-37992/http), Microsoft.DotNet.Interactive.Connection.ProxyKernel: vscode (kernel://pid-37992/vscode -> kernel://vscode/), Microsoft.DotNet.Interactive.Connection.ProxyKernel: javascript (kernel://pid-37992/javascript -> kernel://webview/javascript) ]</td></tr><tr><td>RootKernel</td><td>[ Microsoft.DotNet.Interactive.SqlDiscoverabilityKernel: sql (kernel://pid-37992/sql), Microsoft.DotNet.Interactive.KqlDiscoverabilityKernel: kql (kernel://pid-37992/kql), Microsoft.DotNet.Interactive.CSharp.CSharpKernel: csharp (kernel://pid-37992/csharp), Microsoft.DotNet.Interactive.FSharp.FSharpKernel: fsharp (kernel://pid-37992/fsharp), Microsoft.DotNet.Interactive.PowerShell.PowerShellKernel: pwsh (kernel://pid-37992/pwsh), Microsoft.DotNet.Interactive.HtmlKernel: html (kernel://pid-37992/html), Microsoft.DotNet.Interactive.KeyValueStoreKernel: value (kernel://pid-37992/value), Microsoft.DotNet.Interactive.Mermaid.MermaidKernel: mermaid (kernel://pid-37992/mermaid), Microsoft.DotNet.Interactive.Http.HttpKernel: http (kernel://pid-37992/http), Microsoft.DotNet.Interactive.Connection.ProxyKernel: vscode (kernel://pid-37992/vscode -> kernel://vscode/), Microsoft.DotNet.Interactive.Connection.ProxyKernel: javascript (kernel://pid-37992/javascript -> kernel://webview/javascript) ]</td></tr><tr><td>SubmissionCount</td><td>0</td></tr><tr><td>SubmissionParser</td><td>Microsoft.DotNet.Interactive.Parsing.SubmissionParser</td></tr><tr><td>FrontendEnvironment</td><td>Microsoft.DotNet.Interactive.Http.BrowserFrontendEnvironment</td></tr><tr><td>KernelEvents</td><td>System.Reactive.Subjects.Subject`1[Microsoft.DotNet.Interactive.Events.KernelEvent]</td></tr><tr><td>Name</td><td>csharp</td></tr><tr><td>KernelInfo</td><td>csharp (kernel://pid-37992/csharp)</td></tr><tr><td>Directives</td><td>[ [ Argument: source ], [ Argument: package ], [  ], [  ], [  ], [ Option`1: from, Option`1: mime-type, Option`1: as, Argument: name ], [ Option`1: name, Option`1: value, Option`1: mime-type, Option`1: byref ], [  ] ]</td></tr><tr><td>ChooseKernelDirective</td><td>[  ]</td></tr></tbody></table></div></details></td></tr><tr><td>command</td><td><details class=\"dni-treeview\"><summary><span class=\"dni-code-hint\"><code>SubmitCode: var logger = new DisplayLogger(&quot;NotebookUpdater&quot;,  ...</code></span></summary><div><table><thead><tr></tr></thead><tbody><tr><td>Code</td><td>var logger = new DisplayLogger(\"NotebookUpdater\", LogLevel.Information);\n",
       "\n",
       "display(\"Création de l'instance NotebookUpdater...\");\n",
       "var updater = new NotebookUpdater(semanticKernel, notebookPath, logger);\n",
       "\n",
       "display(\"Appel à UpdateNotebook...\");\n",
       "var response = await updater.UpdateNotebook();\n",
       "\n",
       "display($\"Résultat de l'exécution du notebook :\\n{response}\");\n",
       "</td></tr><tr><td>Handler</td><td>Microsoft.DotNet.Interactive.KernelCommandInvocation</td></tr><tr><td>Parent</td><td><div class=\"dni-plaintext\"><pre>&lt;null&gt;</pre></div></td></tr><tr><td>TargetKernelName</td><td>csharp</td></tr><tr><td>OriginUri</td><td><div class=\"dni-plaintext\"><pre>&lt;null&gt;</pre></div></td></tr><tr><td>DestinationUri</td><td><div class=\"dni-plaintext\"><pre>&lt;null&gt;</pre></div></td></tr><tr><td>KernelChooserParseResult</td><td><div class=\"dni-plaintext\"><pre>&lt;null&gt;</pre></div></td></tr><tr><td>RoutingSlip</td><td>[kernel://pid-37992/ (arrived), kernel://pid-37992/csharp (arrived)]</td></tr></tbody></table></div></details></td></tr></tbody></table></div></details></td></tr><tr><td>Method</td><td><details class=\"dni-treeview\"><summary><span class=\"dni-code-hint\"><code>System.Threading.Tasks.Task &lt;SetHandler&gt;b__0(Microsoft.DotNet.Interactive.Commands.KernelCommand, Microsoft.DotNet.Interactive.KernelInvocationContext)</code></span></summary><div><table><thead><tr></tr></thead><tbody><tr><td>Name</td><td><div class=\"dni-plaintext\"><pre>&lt;SetHandler&gt;b__0</pre></div></td></tr><tr><td>DeclaringType</td><td><span><a href=\"https://docs.microsoft.com/dotnet/api/microsoft.dotnet.interactive.kernel.&lt;>c__displayclass82_0-1?view=net-7.0\">Microsoft.DotNet.Interactive.Kernel+&lt;&gt;c__DisplayClass82_0&lt;Microsoft.DotNet.Interactive.Commands.SubmitCode&gt;</a></span></td></tr><tr><td>ReflectedType</td><td><span><a href=\"https://docs.microsoft.com/dotnet/api/microsoft.dotnet.interactive.kernel.&lt;>c__displayclass82_0-1?view=net-7.0\">Microsoft.DotNet.Interactive.Kernel+&lt;&gt;c__DisplayClass82_0&lt;Microsoft.DotNet.Interactive.Commands.SubmitCode&gt;</a></span></td></tr><tr><td>MemberType</td><td><span>Method</span></td></tr><tr><td>MetadataToken</td><td><div class=\"dni-plaintext\"><pre>100664828</pre></div></td></tr><tr><td>Module</td><td><details class=\"dni-treeview\"><summary><span class=\"dni-code-hint\"><code>Microsoft.DotNet.Interactive.dll</code></span></summary><div><table><thead><tr></tr></thead><tbody><tr><td>MDStreamVersion</td><td>131072</td></tr><tr><td>FullyQualifiedName</td><td>C:\\Users\\Administrateur.000\\.nuget\\packages\\microsoft.dotnet-interactive\\1.0.522904\\tools\\net8.0\\any\\Microsoft.DotNet.Interactive.dll</td></tr><tr><td>ModuleVersionId</td><td>ee6aec0a-8e1f-4e4c-97e3-57418e1dc7e0</td></tr><tr><td>MetadataToken</td><td>1</td></tr><tr><td>ScopeName</td><td>Microsoft.DotNet.Interactive.dll</td></tr><tr><td>Name</td><td>Microsoft.DotNet.Interactive.dll</td></tr><tr><td>Assembly</td><td>Microsoft.DotNet.Interactive, Version=1.0.0.0, Culture=neutral, PublicKeyToken=31bf3856ad364e35</td></tr><tr><td>ModuleHandle</td><td>System.ModuleHandle</td></tr><tr><td>CustomAttributes</td><td>[ [System.Runtime.CompilerServices.RefSafetyRulesAttribute((Int32)11)] ]</td></tr></tbody></table></div></details></td></tr><tr><td>IsSecurityCritical</td><td><div class=\"dni-plaintext\"><pre>True</pre></div></td></tr><tr><td>IsSecuritySafeCritical</td><td><div class=\"dni-plaintext\"><pre>False</pre></div></td></tr><tr><td>IsSecurityTransparent</td><td><div class=\"dni-plaintext\"><pre>False</pre></div></td></tr><tr><td>MethodHandle</td><td><details class=\"dni-treeview\"><summary><span class=\"dni-code-hint\"><code>System.RuntimeMethodHandle</code></span></summary><div><table><thead><tr></tr></thead><tbody><tr><td>Value</td><td>140731641892472</td></tr></tbody></table></div></details></td></tr><tr><td>Attributes</td><td><span>Assembly, HideBySig</span></td></tr><tr><td>CallingConvention</td><td><span>Standard, HasThis</span></td></tr><tr><td>ReturnType</td><td><span><a href=\"https://docs.microsoft.com/dotnet/api/system.threading.tasks.task?view=net-7.0\">System.Threading.Tasks.Task</a></span></td></tr><tr><td>ReturnTypeCustomAttributes</td><td><details class=\"dni-treeview\"><summary><span class=\"dni-code-hint\"><code>System.Threading.Tasks.Task</code></span></summary><div><table><thead><tr></tr></thead><tbody><tr><td>ParameterType</td><td>System.Threading.Tasks.Task</td></tr><tr><td>Name</td><td><div class=\"dni-plaintext\"><pre>&lt;null&gt;</pre></div></td></tr><tr><td>HasDefaultValue</td><td>False</td></tr><tr><td>DefaultValue</td><td></td></tr><tr><td>RawDefaultValue</td><td></td></tr><tr><td>MetadataToken</td><td>134217728</td></tr><tr><td>Attributes</td><td>None</td></tr><tr><td>Member</td><td>System.Threading.Tasks.Task <SetHandler>b__0(Microsoft.DotNet.Interactive.Commands.KernelCommand, Microsoft.DotNet.Interactive.KernelInvocationContext)</td></tr><tr><td>Position</td><td>-1</td></tr><tr><td>IsIn</td><td>False</td></tr><tr><td>IsLcid</td><td>False</td></tr><tr><td>IsOptional</td><td>False</td></tr><tr><td>IsOut</td><td>False</td></tr><tr><td>IsRetval</td><td>False</td></tr><tr><td>CustomAttributes</td><td>[  ]</td></tr></tbody></table></div></details></td></tr><tr><td>ReturnParameter</td><td><details class=\"dni-treeview\"><summary><span class=\"dni-code-hint\"><code>System.Threading.Tasks.Task</code></span></summary><div><table><thead><tr></tr></thead><tbody><tr><td>ParameterType</td><td>System.Threading.Tasks.Task</td></tr><tr><td>Name</td><td><div class=\"dni-plaintext\"><pre>&lt;null&gt;</pre></div></td></tr><tr><td>HasDefaultValue</td><td>False</td></tr><tr><td>DefaultValue</td><td></td></tr><tr><td>RawDefaultValue</td><td></td></tr><tr><td>MetadataToken</td><td>134217728</td></tr><tr><td>Attributes</td><td>None</td></tr><tr><td>Member</td><td>System.Threading.Tasks.Task <SetHandler>b__0(Microsoft.DotNet.Interactive.Commands.KernelCommand, Microsoft.DotNet.Interactive.KernelInvocationContext)</td></tr><tr><td>Position</td><td>-1</td></tr><tr><td>IsIn</td><td>False</td></tr><tr><td>IsLcid</td><td>False</td></tr><tr><td>IsOptional</td><td>False</td></tr><tr><td>IsOut</td><td>False</td></tr><tr><td>IsRetval</td><td>False</td></tr><tr><td>CustomAttributes</td><td>[  ]</td></tr></tbody></table></div></details></td></tr><tr><td>IsCollectible</td><td><div class=\"dni-plaintext\"><pre>False</pre></div></td></tr><tr><td>IsGenericMethod</td><td><div class=\"dni-plaintext\"><pre>False</pre></div></td></tr><tr><td>IsGenericMethodDefinition</td><td><div class=\"dni-plaintext\"><pre>False</pre></div></td></tr><tr><td>ContainsGenericParameters</td><td><div class=\"dni-plaintext\"><pre>False</pre></div></td></tr><tr><td>MethodImplementationFlags</td><td><span>IL</span></td></tr><tr><td>IsAbstract</td><td><div class=\"dni-plaintext\"><pre>False</pre></div></td></tr><tr><td>IsConstructor</td><td><div class=\"dni-plaintext\"><pre>False</pre></div></td></tr><tr><td>IsFinal</td><td><div class=\"dni-plaintext\"><pre>False</pre></div></td></tr><tr><td>IsHideBySig</td><td><div class=\"dni-plaintext\"><pre>True</pre></div></td></tr><tr><td>IsSpecialName</td><td><div class=\"dni-plaintext\"><pre>False</pre></div></td></tr><tr><td>IsStatic</td><td><div class=\"dni-plaintext\"><pre>False</pre></div></td></tr><tr><td>IsVirtual</td><td><div class=\"dni-plaintext\"><pre>False</pre></div></td></tr><tr><td>IsAssembly</td><td><div class=\"dni-plaintext\"><pre>True</pre></div></td></tr><tr><td>IsFamily</td><td><div class=\"dni-plaintext\"><pre>False</pre></div></td></tr><tr><td>IsFamilyAndAssembly</td><td><div class=\"dni-plaintext\"><pre>False</pre></div></td></tr><tr><td>IsFamilyOrAssembly</td><td><div class=\"dni-plaintext\"><pre>False</pre></div></td></tr><tr><td>IsPrivate</td><td><div class=\"dni-plaintext\"><pre>False</pre></div></td></tr><tr><td>IsPublic</td><td><div class=\"dni-plaintext\"><pre>False</pre></div></td></tr><tr><td>IsConstructedGenericMethod</td><td><div class=\"dni-plaintext\"><pre>False</pre></div></td></tr><tr><td>CustomAttributes</td><td><i>(empty)</i></td></tr></tbody></table></div></details></td></tr></tbody></table></div></details></td></tr><tr><td>Parent</td><td><div class=\"dni-plaintext\"><pre>&lt;null&gt;</pre></div></td></tr><tr><td>TargetKernelName</td><td><div class=\"dni-plaintext\"><pre>csharp</pre></div></td></tr><tr><td>OriginUri</td><td><div class=\"dni-plaintext\"><pre>&lt;null&gt;</pre></div></td></tr><tr><td>DestinationUri</td><td><div class=\"dni-plaintext\"><pre>&lt;null&gt;</pre></div></td></tr><tr><td>KernelChooserParseResult</td><td><div class=\"dni-plaintext\"><pre>&lt;null&gt;</pre></div></td></tr><tr><td>RoutingSlip</td><td><div class=\"dni-plaintext\"><pre>[ kernel://pid-37992/ (arrived), kernel://pid-37992/csharp (arrived) ]</pre></div></td></tr></tbody></table></div></details></td></tr><tr><td>TargetKernelName</td><td><div class=\"dni-plaintext\"><pre>csharp</pre></div></td></tr><tr><td>OriginUri</td><td><div class=\"dni-plaintext\"><pre>&lt;null&gt;</pre></div></td></tr><tr><td>DestinationUri</td><td><div class=\"dni-plaintext\"><pre>&lt;null&gt;</pre></div></td></tr><tr><td>KernelChooserParseResult</td><td><div class=\"dni-plaintext\"><pre>&lt;null&gt;</pre></div></td></tr><tr><td>RoutingSlip</td><td><div class=\"dni-plaintext\"><pre>[  ]</pre></div></td></tr></tbody></table></div></details></td></tr><tr><td>Events</td><td><i>(empty)</i></td></tr></tbody></table></div></details><style>\r\n",
       ".dni-code-hint {\r\n",
       "    font-style: italic;\r\n",
       "    overflow: hidden;\r\n",
       "    white-space: nowrap;\r\n",
       "}\r\n",
       ".dni-treeview {\r\n",
       "    white-space: nowrap;\r\n",
       "}\r\n",
       ".dni-treeview td {\r\n",
       "    vertical-align: top;\r\n",
       "    text-align: start;\r\n",
       "}\r\n",
       "details.dni-treeview {\r\n",
       "    padding-left: 1em;\r\n",
       "}\r\n",
       "table td {\r\n",
       "    text-align: start;\r\n",
       "}\r\n",
       "table tr { \r\n",
       "    vertical-align: top; \r\n",
       "    margin: 0em 0px;\r\n",
       "}\r\n",
       "table tr td pre \r\n",
       "{ \r\n",
       "    vertical-align: top !important; \r\n",
       "    margin: 0em 0px !important;\r\n",
       "} \r\n",
       "table th {\r\n",
       "    text-align: start;\r\n",
       "}\r\n",
       "</style>"
      ]
     },
     "metadata": {},
     "output_type": "display_data"
    },
    {
     "data": {
      "text/plain": [
       "Envoi du code au kernel csharp:\n",
       "// Importation des espaces de noms utiles\n",
       "using VDS.RDF;\n",
       "using VDS.RDF.Query;\n",
       "using XPlot.Plotly;"
      ]
     },
     "metadata": {},
     "output_type": "display_data"
    },
    {
     "data": {
      "text/html": [
       "<details open=\"open\" class=\"dni-treeview\"><summary><span class=\"dni-code-hint\"><code>Microsoft.DotNet.Interactive.KernelCommandResult</code></span></summary><div><table><thead><tr></tr></thead><tbody><tr><td>Command</td><td><details class=\"dni-treeview\"><summary><span class=\"dni-code-hint\"><code>SubmitCode: // Importation des espaces de noms utiles ...</code></span></summary><div><table><thead><tr></tr></thead><tbody><tr><td>Code</td><td><div class=\"dni-plaintext\"><pre>// Importation des espaces de noms utiles\n",
       "using VDS.RDF;\n",
       "using VDS.RDF.Query;\n",
       "using XPlot.Plotly;</pre></div></td></tr><tr><td>Handler</td><td><details class=\"dni-treeview\"><summary><span class=\"dni-code-hint\"><code>Microsoft.DotNet.Interactive.KernelCommandInvocation</code></span></summary><div><table><thead><tr></tr></thead><tbody><tr><td>Target</td><td><details class=\"dni-treeview\"><summary><span class=\"dni-code-hint\"><code>Microsoft.DotNet.Interactive.Kernel+&lt;&gt;c__DisplayClass82_0`1[Microsoft.DotNet.Interactive.Commands.SubmitCode]</code></span></summary><div><table><thead><tr></tr></thead><tbody><tr><td>handler</td><td><details class=\"dni-treeview\"><summary><span class=\"dni-code-hint\"><code>Microsoft.DotNet.Interactive.CSharp.CSharpKernel: csharp (kernel://local/csharp)</code></span></summary><div><table><thead><tr></tr></thead><tbody><tr><td>ScriptState</td><td><details class=\"dni-treeview\"><summary><span class=\"dni-code-hint\"><code>Microsoft.CodeAnalysis.Scripting.ScriptState`1[System.Object]</code></span></summary><div><table><thead><tr></tr></thead><tbody><tr><td>ReturnValue</td><td>Microsoft.CodeAnalysis.Scripting.ScriptState`1[System.Object]</td></tr><tr><td>Script</td><td>Microsoft.CodeAnalysis.Scripting.Script`1[System.Object]</td></tr><tr><td>Exception</td><td><div class=\"dni-plaintext\"><pre>&lt;null&gt;</pre></div></td></tr><tr><td>ReturnValue</td><td>Microsoft.CodeAnalysis.Scripting.ScriptState`1[System.Object]</td></tr><tr><td>Variables</td><td>[ Microsoft.CodeAnalysis.Scripting.ScriptVariable, Microsoft.CodeAnalysis.Scripting.ScriptVariable, Microsoft.CodeAnalysis.Scripting.ScriptVariable ]</td></tr></tbody></table></div></details></td></tr><tr><td>ParentKernel</td><td><details class=\"dni-treeview\"><summary><span class=\"dni-code-hint\"><code>[ Microsoft.DotNet.Interactive.CSharp.CSharpKernel: csharp (kernel://local/csharp) ]</code></span></summary><div><table><thead><tr></tr></thead><tbody><tr><td>DefaultKernelName</td><td>csharp</td></tr><tr><td>ChildKernels</td><td>[ Microsoft.DotNet.Interactive.CSharp.CSharpKernel: csharp (kernel://local/csharp) ]</td></tr><tr><td>Host</td><td><div class=\"dni-plaintext\"><pre>&lt;null&gt;</pre></div></td></tr><tr><td>ParentKernel</td><td><div class=\"dni-plaintext\"><pre>&lt;null&gt;</pre></div></td></tr><tr><td>RootKernel</td><td>[ Microsoft.DotNet.Interactive.CSharp.CSharpKernel: csharp (kernel://local/csharp) ]</td></tr><tr><td>SubmissionCount</td><td>0</td></tr><tr><td>SubmissionParser</td><td>Microsoft.DotNet.Interactive.Parsing.SubmissionParser</td></tr><tr><td>FrontendEnvironment</td><td>Microsoft.DotNet.Interactive.AutomationEnvironment</td></tr><tr><td>KernelEvents</td><td>System.Reactive.Subjects.Subject`1[Microsoft.DotNet.Interactive.Events.KernelEvent]</td></tr><tr><td>Name</td><td>.NET</td></tr><tr><td>KernelInfo</td><td>.NET (kernel://local/.NET)</td></tr><tr><td>Directives</td><td>[ [  ] ]</td></tr><tr><td>ChooseKernelDirective</td><td>[  ]</td></tr><tr><td><i>(values)</i></td><td><table><thead><tr><th><i>index</i></th><th>value</th></tr></thead><tbody><tr><td>0</td><td>Microsoft.DotNet.Interactive.CSharp.CSharpKernel: csharp (kernel://local/csharp)</td></tr></tbody></table></td></tr></tbody></table></div></details></td></tr><tr><td>RootKernel</td><td><details class=\"dni-treeview\"><summary><span class=\"dni-code-hint\"><code>[ Microsoft.DotNet.Interactive.CSharp.CSharpKernel: csharp (kernel://local/csharp) ]</code></span></summary><div><table><thead><tr></tr></thead><tbody><tr><td>DefaultKernelName</td><td>csharp</td></tr><tr><td>ChildKernels</td><td>[ Microsoft.DotNet.Interactive.CSharp.CSharpKernel: csharp (kernel://local/csharp) ]</td></tr><tr><td>Host</td><td><div class=\"dni-plaintext\"><pre>&lt;null&gt;</pre></div></td></tr><tr><td>ParentKernel</td><td><div class=\"dni-plaintext\"><pre>&lt;null&gt;</pre></div></td></tr><tr><td>RootKernel</td><td>[ Microsoft.DotNet.Interactive.CSharp.CSharpKernel: csharp (kernel://local/csharp) ]</td></tr><tr><td>SubmissionCount</td><td>0</td></tr><tr><td>SubmissionParser</td><td>Microsoft.DotNet.Interactive.Parsing.SubmissionParser</td></tr><tr><td>FrontendEnvironment</td><td>Microsoft.DotNet.Interactive.AutomationEnvironment</td></tr><tr><td>KernelEvents</td><td>System.Reactive.Subjects.Subject`1[Microsoft.DotNet.Interactive.Events.KernelEvent]</td></tr><tr><td>Name</td><td>.NET</td></tr><tr><td>KernelInfo</td><td>.NET (kernel://local/.NET)</td></tr><tr><td>Directives</td><td>[ [  ] ]</td></tr><tr><td>ChooseKernelDirective</td><td>[  ]</td></tr><tr><td><i>(values)</i></td><td><table><thead><tr><th><i>index</i></th><th>value</th></tr></thead><tbody><tr><td>0</td><td>Microsoft.DotNet.Interactive.CSharp.CSharpKernel: csharp (kernel://local/csharp)</td></tr></tbody></table></td></tr></tbody></table></div></details></td></tr><tr><td>SubmissionCount</td><td><div class=\"dni-plaintext\"><pre>0</pre></div></td></tr><tr><td>SubmissionParser</td><td><details class=\"dni-treeview\"><summary><span class=\"dni-code-hint\"><code>Microsoft.DotNet.Interactive.Parsing.SubmissionParser</code></span></summary><div><table><thead><tr></tr></thead><tbody><tr><td>Directives</td><td>[ [  ], [  ], [ Option`1: from, Option`1: mime-type, Option`1: as, Argument: name ], [ Option`1: name, Option`1: value, Option`1: mime-type, Option`1: byref ], [ Argument: source ], [ Argument: package ], [  ] ]</td></tr></tbody></table></div></details></td></tr><tr><td>FrontendEnvironment</td><td><details class=\"dni-treeview\"><summary><span class=\"dni-code-hint\"><code>Microsoft.DotNet.Interactive.AutomationEnvironment</code></span></summary><div><table><thead><tr></tr></thead><tbody></tbody></table></div></details></td></tr><tr><td>KernelEvents</td><td><details class=\"dni-treeview\"><summary><span class=\"dni-code-hint\"><code>System.Reactive.Subjects.Subject`1[Microsoft.DotNet.Interactive.Events.KernelEvent]</code></span></summary><div><table><thead><tr></tr></thead><tbody><tr><td>HasObservers</td><td>True</td></tr><tr><td>IsDisposed</td><td>False</td></tr></tbody></table></div></details></td></tr><tr><td>Name</td><td><div class=\"dni-plaintext\"><pre>csharp</pre></div></td></tr><tr><td>KernelInfo</td><td><details class=\"dni-treeview\"><summary><span class=\"dni-code-hint\"><code>csharp (kernel://local/csharp)</code></span></summary><div><table><thead><tr></tr></thead><tbody><tr><td>Aliases</td><td>[  ]</td></tr><tr><td>LanguageName</td><td>C#</td></tr><tr><td>LanguageVersion</td><td>12.0</td></tr><tr><td>IsProxy</td><td>False</td></tr><tr><td>IsComposite</td><td>False</td></tr><tr><td>DisplayName</td><td>csharp - C# Script</td></tr><tr><td>LocalName</td><td>csharp</td></tr><tr><td>Uri</td><td>kernel://local/csharp</td></tr><tr><td>RemoteUri</td><td><div class=\"dni-plaintext\"><pre>&lt;null&gt;</pre></div></td></tr><tr><td>Description</td><td>This Kernel can compile and execute C# code and display the results.\r\n",
       "The language is C# Scripting, a dialect of C# that is used for interactive programming.\r\n",
       "\r\n",
       "Can load packages from nuget.org or any other nuget feed.</td></tr><tr><td>SupportedKernelCommands</td><td>[ KernelCommandInfo { Name = RequestKernelInfo }, KernelCommandInfo { Name = RequestCompletions }, KernelCommandInfo { Name = RequestDiagnostics }, KernelCommandInfo { Name = RequestHoverText }, KernelCommandInfo { Name = RequestSignatureHelp }, KernelCommandInfo { Name = RequestValue }, KernelCommandInfo { Name = RequestValueInfos }, KernelCommandInfo { Name = SendValue }, KernelCommandInfo { Name = SubmitCode } ]</td></tr><tr><td>SupportedDirectives</td><td>[ KernelDirectiveInfo { Name = #!who }, KernelDirectiveInfo { Name = #!whos }, KernelDirectiveInfo { Name = #!share }, KernelDirectiveInfo { Name = #!set }, KernelDirectiveInfo { Name = #i }, KernelDirectiveInfo { Name = #r }, KernelDirectiveInfo { Name = #!nuget-restore } ]</td></tr></tbody></table></div></details></td></tr><tr><td>Directives</td><td><table><thead><tr><th><i>index</i></th><th>value</th></tr></thead><tbody><tr><td>0</td><td></td></tr><tr><td>1</td><td></td></tr><tr><td>2</td><td>[ Option`1: from, Option`1: mime-type, Option`1: as, Argument: name ]</td></tr><tr><td>3</td><td>[ Option`1: name, Option`1: value, Option`1: mime-type, Option`1: byref ]</td></tr><tr><td>4</td><td>[ Argument: source ]</td></tr><tr><td>5</td><td>[ Argument: package ]</td></tr><tr><td>6</td><td></td></tr></tbody></table></td></tr><tr><td>ChooseKernelDirective</td><td><details class=\"dni-treeview\"><summary><span class=\"dni-code-hint\"><code>[  ]</code></span></summary><div><table><thead><tr></tr></thead><tbody><tr><td>Kernel</td><td>Microsoft.DotNet.Interactive.CSharp.CSharpKernel: csharp (kernel://local/csharp)</td></tr><tr><td>Children</td><td>[  ]</td></tr><tr><td>Arguments</td><td>[  ]</td></tr><tr><td>Options</td><td>[  ]</td></tr><tr><td>Subcommands</td><td>[  ]</td></tr><tr><td>TreatUnmatchedTokensAsErrors</td><td>True</td></tr><tr><td>Handler</td><td>System.CommandLine.NamingConventionBinder.ModelBindingCommandHandler</td></tr><tr><td>Aliases</td><td>[ #!csharp ]</td></tr><tr><td>Name</td><td>#!csharp</td></tr><tr><td>Description</td><td>Run the code that follows using the csharp kernel.</td></tr><tr><td>IsHidden</td><td>False</td></tr><tr><td>Parents</td><td>[ [ [  ], HelpOption: help ] ]</td></tr><tr><td><i>(values)</i></td><td><i>(empty)</i></td></tr></tbody></table></div></details></td></tr></tbody></table></div></details></td></tr><tr><td>command</td><td><details class=\"dni-treeview\"><summary><span class=\"dni-code-hint\"><code>SubmitCode: // Importation des espaces de noms utiles ...</code></span></summary><div><table><thead><tr></tr></thead><tbody><tr><td>Code</td><td><div class=\"dni-plaintext\"><pre>// Importation des espaces de noms utiles\n",
       "using VDS.RDF;\n",
       "using VDS.RDF.Query;\n",
       "using XPlot.Plotly;</pre></div></td></tr><tr><td>Handler</td><td><details class=\"dni-treeview\"><summary><span class=\"dni-code-hint\"><code>Microsoft.DotNet.Interactive.KernelCommandInvocation</code></span></summary><div><table><thead><tr></tr></thead><tbody><tr><td>Target</td><td>Microsoft.DotNet.Interactive.Kernel+<>c__DisplayClass82_0`1[Microsoft.DotNet.Interactive.Commands.SubmitCode]</td></tr><tr><td>Method</td><td>System.Threading.Tasks.Task <SetHandler>b__0(Microsoft.DotNet.Interactive.Commands.KernelCommand, Microsoft.DotNet.Interactive.KernelInvocationContext)</td></tr></tbody></table></div></details></td></tr><tr><td>Parent</td><td><details class=\"dni-treeview\"><summary><span class=\"dni-code-hint\"><code>SubmitCode: var logger = new DisplayLogger(&quot;NotebookUpdater&quot;,  ...</code></span></summary><div><table><thead><tr></tr></thead><tbody><tr><td>Code</td><td>var logger = new DisplayLogger(\"NotebookUpdater\", LogLevel.Information);\n",
       "\n",
       "display(\"Création de l'instance NotebookUpdater...\");\n",
       "var updater = new NotebookUpdater(semanticKernel, notebookPath, logger);\n",
       "\n",
       "display(\"Appel à UpdateNotebook...\");\n",
       "var response = await updater.UpdateNotebook();\n",
       "\n",
       "display($\"Résultat de l'exécution du notebook :\\n{response}\");\n",
       "</td></tr><tr><td>Handler</td><td>Microsoft.DotNet.Interactive.KernelCommandInvocation</td></tr><tr><td>Parent</td><td><div class=\"dni-plaintext\"><pre>&lt;null&gt;</pre></div></td></tr><tr><td>TargetKernelName</td><td>csharp</td></tr><tr><td>OriginUri</td><td><div class=\"dni-plaintext\"><pre>&lt;null&gt;</pre></div></td></tr><tr><td>DestinationUri</td><td><div class=\"dni-plaintext\"><pre>&lt;null&gt;</pre></div></td></tr><tr><td>KernelChooserParseResult</td><td><div class=\"dni-plaintext\"><pre>&lt;null&gt;</pre></div></td></tr><tr><td>RoutingSlip</td><td>[kernel://pid-37992/ (arrived), kernel://pid-37992/csharp (arrived)]</td></tr></tbody></table></div></details></td></tr><tr><td>TargetKernelName</td><td><div class=\"dni-plaintext\"><pre>csharp</pre></div></td></tr><tr><td>OriginUri</td><td><div class=\"dni-plaintext\"><pre>&lt;null&gt;</pre></div></td></tr><tr><td>DestinationUri</td><td><div class=\"dni-plaintext\"><pre>&lt;null&gt;</pre></div></td></tr><tr><td>KernelChooserParseResult</td><td><div class=\"dni-plaintext\"><pre>&lt;null&gt;</pre></div></td></tr><tr><td>RoutingSlip</td><td>[ kernel://local/.NET (arrived), kernel://local/csharp (arrived), kernel://local/csharp, kernel://local/.NET ]</td></tr></tbody></table></div></details></td></tr></tbody></table></div></details></td></tr><tr><td>Method</td><td><details class=\"dni-treeview\"><summary><span class=\"dni-code-hint\"><code>System.Threading.Tasks.Task &lt;SetHandler&gt;b__0(Microsoft.DotNet.Interactive.Commands.KernelCommand, Microsoft.DotNet.Interactive.KernelInvocationContext)</code></span></summary><div><table><thead><tr></tr></thead><tbody><tr><td>Name</td><td><div class=\"dni-plaintext\"><pre>&lt;SetHandler&gt;b__0</pre></div></td></tr><tr><td>DeclaringType</td><td><span><a href=\"https://docs.microsoft.com/dotnet/api/microsoft.dotnet.interactive.kernel.&lt;>c__displayclass82_0-1?view=net-7.0\">Microsoft.DotNet.Interactive.Kernel+&lt;&gt;c__DisplayClass82_0&lt;Microsoft.DotNet.Interactive.Commands.SubmitCode&gt;</a></span></td></tr><tr><td>ReflectedType</td><td><span><a href=\"https://docs.microsoft.com/dotnet/api/microsoft.dotnet.interactive.kernel.&lt;>c__displayclass82_0-1?view=net-7.0\">Microsoft.DotNet.Interactive.Kernel+&lt;&gt;c__DisplayClass82_0&lt;Microsoft.DotNet.Interactive.Commands.SubmitCode&gt;</a></span></td></tr><tr><td>MemberType</td><td><span>Method</span></td></tr><tr><td>MetadataToken</td><td><div class=\"dni-plaintext\"><pre>100664828</pre></div></td></tr><tr><td>Module</td><td><details class=\"dni-treeview\"><summary><span class=\"dni-code-hint\"><code>Microsoft.DotNet.Interactive.dll</code></span></summary><div><table><thead><tr></tr></thead><tbody><tr><td>MDStreamVersion</td><td><div class=\"dni-plaintext\"><pre>131072</pre></div></td></tr><tr><td>FullyQualifiedName</td><td><div class=\"dni-plaintext\"><pre>C:\\Users\\Administrateur.000\\.nuget\\packages\\microsoft.dotnet-interactive\\1.0.522904\\tools\\net8.0\\any\\Microsoft.DotNet.Interactive.dll</pre></div></td></tr><tr><td>ModuleVersionId</td><td><div class=\"dni-plaintext\"><pre>ee6aec0a-8e1f-4e4c-97e3-57418e1dc7e0</pre></div></td></tr><tr><td>MetadataToken</td><td><div class=\"dni-plaintext\"><pre>1</pre></div></td></tr><tr><td>ScopeName</td><td><div class=\"dni-plaintext\"><pre>Microsoft.DotNet.Interactive.dll</pre></div></td></tr><tr><td>Name</td><td><div class=\"dni-plaintext\"><pre>Microsoft.DotNet.Interactive.dll</pre></div></td></tr><tr><td>Assembly</td><td><details class=\"dni-treeview\"><summary><span class=\"dni-code-hint\"><code>Microsoft.DotNet.Interactive, Version=1.0.0.0, Culture=neutral, PublicKeyToken=31bf3856ad364e35</code></span></summary><div><table><thead><tr></tr></thead><tbody><tr><td>CodeBase</td><td>file:///C:/Users/Administrateur.000/.nuget/packages/microsoft.dotnet-interactive/1.0.522904/tools/net8.0/any/Microsoft.DotNet.Interactive.dll</td></tr><tr><td>FullName</td><td>Microsoft.DotNet.Interactive, Version=1.0.0.0, Culture=neutral, PublicKeyToken=31bf3856ad364e35</td></tr><tr><td>EntryPoint</td><td><div class=\"dni-plaintext\"><pre>&lt;null&gt;</pre></div></td></tr><tr><td>DefinedTypes</td><td>[ <>f__AnonymousType0`2[<Command>j__TPar,<ValueInfos>j__TPar], System.DisplayExtensions, System.Runtime.CompilerServices.IsExternalInit, Microsoft.DotNet.Interactive.AutomationEnvironment, Microsoft.DotNet.Interactive.Base64EncodedAssembly, Microsoft.DotNet.Interactive.ChooseKernelDirective, Microsoft.DotNet.Interactive.ChooseKeyValueStoreKernelDirective, Microsoft.DotNet.Interactive.CodeSubmissionCompilationErrorException, Microsoft.DotNet.Interactive.CommandNotSupportedException, Microsoft.DotNet.Interactive.CommandRoutingSlip, Microsoft.DotNet.Interactive.CompositeKernel, Microsoft.DotNet.Interactive.DataDictionaryConverter, Microsoft.DotNet.Interactive.DataExplorer, Microsoft.DotNet.Interactive.DataExplorerFormatterSource, Microsoft.DotNet.Interactive.DataExplorer`1[TData], Microsoft.DotNet.Interactive.Diagnostic, Microsoft.DotNet.Interactive.DisplayedValue, Microsoft.DotNet.Interactive.EventRoutingSlip, Microsoft.DotNet.Interactive.FormattedValue, Microsoft.DotNet.Interactive.FrontendEnvironment ... (457 more) ]</td></tr><tr><td>IsCollectible</td><td>False</td></tr><tr><td>ManifestModule</td><td>Microsoft.DotNet.Interactive.dll</td></tr><tr><td>ReflectionOnly</td><td>False</td></tr><tr><td>Location</td><td>C:\\Users\\Administrateur.000\\.nuget\\packages\\microsoft.dotnet-interactive\\1.0.522904\\tools\\net8.0\\any\\Microsoft.DotNet.Interactive.dll</td></tr><tr><td>ImageRuntimeVersion</td><td>v4.0.30319</td></tr><tr><td>GlobalAssemblyCache</td><td>False</td></tr><tr><td>HostContext</td><td>0</td></tr><tr><td>IsDynamic</td><td>False</td></tr><tr><td>ExportedTypes</td><td>[ System.DisplayExtensions, Microsoft.DotNet.Interactive.AutomationEnvironment, Microsoft.DotNet.Interactive.Base64EncodedAssembly, Microsoft.DotNet.Interactive.ChooseKernelDirective, Microsoft.DotNet.Interactive.ChooseKeyValueStoreKernelDirective, Microsoft.DotNet.Interactive.CodeSubmissionCompilationErrorException, Microsoft.DotNet.Interactive.CommandNotSupportedException, Microsoft.DotNet.Interactive.CommandRoutingSlip, Microsoft.DotNet.Interactive.CompositeKernel, Microsoft.DotNet.Interactive.DataDictionaryConverter, Microsoft.DotNet.Interactive.DataExplorer, Microsoft.DotNet.Interactive.DataExplorer`1[TData], Microsoft.DotNet.Interactive.Diagnostic, Microsoft.DotNet.Interactive.DisplayedValue, Microsoft.DotNet.Interactive.EventRoutingSlip, Microsoft.DotNet.Interactive.FormattedValue, Microsoft.DotNet.Interactive.FrontendEnvironment, Microsoft.DotNet.Interactive.HtmlKernel, Microsoft.DotNet.Interactive.IKernelCommandHandler`1[TCommand], Microsoft.DotNet.Interactive.IKernelExtension ... (139 more) ]</td></tr><tr><td>IsFullyTrusted</td><td>True</td></tr><tr><td>CustomAttributes</td><td>[ [System.Runtime.CompilerServices.ExtensionAttribute()], [System.Runtime.CompilerServices.CompilationRelaxationsAttribute((Int32)8)], [System.Runtime.CompilerServices.RuntimeCompatibilityAttribute(WrapNonExceptionThrows = True)], [System.Diagnostics.DebuggableAttribute((System.Diagnostics.DebuggableAttribute+DebuggingModes)2)], [System.Runtime.Versioning.TargetFrameworkAttribute(\".NETCoreApp,Version=v8.0\", FrameworkDisplayName = \".NET 8.0\")], [System.Reflection.AssemblyCompanyAttribute(\"Microsoft Corporation\")], [System.Reflection.AssemblyConfigurationAttribute(\"Release\")], [System.Reflection.AssemblyCopyrightAttribute(\"© Microsoft Corporation. All rights reserved.\")], [System.Reflection.AssemblyFileVersionAttribute(\"1.0.24.22904\")], [System.Reflection.AssemblyInformationalVersionAttribute(\"1.0.0-beta.24229.4+cdfa48b2ea1a27dfe0f545c42a34fd3ec7119074\")], [System.Reflection.AssemblyProductAttribute(\"Microsoft.DotNet.Interactive\")], [System.Reflection.AssemblyTitleAttribute(\"Microsoft.DotNet.Interactive\")], [System.Reflection.AssemblyMetadataAttribute(\"RepositoryUrl\", \"https://github.com/dotnet/interactive\")], [System.Resources.NeutralResourcesLanguageAttribute(\"en-US\")] ]</td></tr><tr><td>EscapedCodeBase</td><td>file:///C:/Users/Administrateur.000/.nuget/packages/microsoft.dotnet-interactive/1.0.522904/tools/net8.0/any/Microsoft.DotNet.Interactive.dll</td></tr><tr><td>Modules</td><td>[ Microsoft.DotNet.Interactive.dll ]</td></tr><tr><td>SecurityRuleSet</td><td>None</td></tr></tbody></table></div></details></td></tr><tr><td>ModuleHandle</td><td><details class=\"dni-treeview\"><summary><span class=\"dni-code-hint\"><code>System.ModuleHandle</code></span></summary><div><table><thead><tr></tr></thead><tbody><tr><td>MDStreamVersion</td><td>131072</td></tr></tbody></table></div></details></td></tr><tr><td>CustomAttributes</td><td><table><thead><tr><th><i>index</i></th><th>value</th></tr></thead><tbody><tr><td>0</td><td>[System.Runtime.CompilerServices.RefSafetyRulesAttribute((Int32)11)]</td></tr></tbody></table></td></tr></tbody></table></div></details></td></tr><tr><td>IsSecurityCritical</td><td><div class=\"dni-plaintext\"><pre>True</pre></div></td></tr><tr><td>IsSecuritySafeCritical</td><td><div class=\"dni-plaintext\"><pre>False</pre></div></td></tr><tr><td>IsSecurityTransparent</td><td><div class=\"dni-plaintext\"><pre>False</pre></div></td></tr><tr><td>MethodHandle</td><td><details class=\"dni-treeview\"><summary><span class=\"dni-code-hint\"><code>System.RuntimeMethodHandle</code></span></summary><div><table><thead><tr></tr></thead><tbody><tr><td>Value</td><td><div class=\"dni-plaintext\"><pre>140731641892472</pre></div></td></tr></tbody></table></div></details></td></tr><tr><td>Attributes</td><td><span>Assembly, HideBySig</span></td></tr><tr><td>CallingConvention</td><td><span>Standard, HasThis</span></td></tr><tr><td>ReturnType</td><td><span><a href=\"https://docs.microsoft.com/dotnet/api/system.threading.tasks.task?view=net-7.0\">System.Threading.Tasks.Task</a></span></td></tr><tr><td>ReturnTypeCustomAttributes</td><td><details class=\"dni-treeview\"><summary><span class=\"dni-code-hint\"><code>System.Threading.Tasks.Task</code></span></summary><div><table><thead><tr></tr></thead><tbody><tr><td>ParameterType</td><td><span><a href=\"https://docs.microsoft.com/dotnet/api/system.threading.tasks.task?view=net-7.0\">System.Threading.Tasks.Task</a></span></td></tr><tr><td>Name</td><td><div class=\"dni-plaintext\"><pre>&lt;null&gt;</pre></div></td></tr><tr><td>HasDefaultValue</td><td><div class=\"dni-plaintext\"><pre>False</pre></div></td></tr><tr><td>DefaultValue</td><td><details class=\"dni-treeview\"><summary><span class=\"dni-code-hint\"><code></code></span></summary><div><table><thead><tr></tr></thead><tbody></tbody></table></div></details></td></tr><tr><td>RawDefaultValue</td><td><details class=\"dni-treeview\"><summary><span class=\"dni-code-hint\"><code></code></span></summary><div><table><thead><tr></tr></thead><tbody></tbody></table></div></details></td></tr><tr><td>MetadataToken</td><td><div class=\"dni-plaintext\"><pre>134217728</pre></div></td></tr><tr><td>Attributes</td><td><span>None</span></td></tr><tr><td>Member</td><td><details class=\"dni-treeview\"><summary><span class=\"dni-code-hint\"><code>System.Threading.Tasks.Task &lt;SetHandler&gt;b__0(Microsoft.DotNet.Interactive.Commands.KernelCommand, Microsoft.DotNet.Interactive.KernelInvocationContext)</code></span></summary><div><table><thead><tr></tr></thead><tbody><tr><td>Name</td><td><SetHandler>b__0</td></tr><tr><td>DeclaringType</td><td>Microsoft.DotNet.Interactive.Kernel+<>c__DisplayClass82_0`1[Microsoft.DotNet.Interactive.Commands.SubmitCode]</td></tr><tr><td>ReflectedType</td><td>Microsoft.DotNet.Interactive.Kernel+<>c__DisplayClass82_0`1[Microsoft.DotNet.Interactive.Commands.SubmitCode]</td></tr><tr><td>MemberType</td><td>Method</td></tr><tr><td>MetadataToken</td><td>100664828</td></tr><tr><td>Module</td><td>Microsoft.DotNet.Interactive.dll</td></tr><tr><td>IsSecurityCritical</td><td>True</td></tr><tr><td>IsSecuritySafeCritical</td><td>False</td></tr><tr><td>IsSecurityTransparent</td><td>False</td></tr><tr><td>MethodHandle</td><td>System.RuntimeMethodHandle</td></tr><tr><td>Attributes</td><td>Assembly, HideBySig</td></tr><tr><td>CallingConvention</td><td>Standard, HasThis</td></tr><tr><td>ReturnType</td><td>System.Threading.Tasks.Task</td></tr><tr><td>ReturnTypeCustomAttributes</td><td>System.Threading.Tasks.Task</td></tr><tr><td>ReturnParameter</td><td>System.Threading.Tasks.Task</td></tr><tr><td>IsCollectible</td><td>False</td></tr><tr><td>IsGenericMethod</td><td>False</td></tr><tr><td>IsGenericMethodDefinition</td><td>False</td></tr><tr><td>ContainsGenericParameters</td><td>False</td></tr><tr><td>MethodImplementationFlags</td><td>IL</td></tr><tr><td>IsAbstract</td><td>False</td></tr><tr><td>IsConstructor</td><td>False</td></tr><tr><td>IsFinal</td><td>False</td></tr><tr><td>IsHideBySig</td><td>True</td></tr><tr><td>IsSpecialName</td><td>False</td></tr><tr><td>IsStatic</td><td>False</td></tr><tr><td>IsVirtual</td><td>False</td></tr><tr><td>IsAssembly</td><td>True</td></tr><tr><td>IsFamily</td><td>False</td></tr><tr><td>IsFamilyAndAssembly</td><td>False</td></tr><tr><td>IsFamilyOrAssembly</td><td>False</td></tr><tr><td>IsPrivate</td><td>False</td></tr><tr><td>IsPublic</td><td>False</td></tr><tr><td>IsConstructedGenericMethod</td><td>False</td></tr><tr><td>CustomAttributes</td><td>[  ]</td></tr></tbody></table></div></details></td></tr><tr><td>Position</td><td><div class=\"dni-plaintext\"><pre>-1</pre></div></td></tr><tr><td>IsIn</td><td><div class=\"dni-plaintext\"><pre>False</pre></div></td></tr><tr><td>IsLcid</td><td><div class=\"dni-plaintext\"><pre>False</pre></div></td></tr><tr><td>IsOptional</td><td><div class=\"dni-plaintext\"><pre>False</pre></div></td></tr><tr><td>IsOut</td><td><div class=\"dni-plaintext\"><pre>False</pre></div></td></tr><tr><td>IsRetval</td><td><div class=\"dni-plaintext\"><pre>False</pre></div></td></tr><tr><td>CustomAttributes</td><td><i>(empty)</i></td></tr></tbody></table></div></details></td></tr><tr><td>ReturnParameter</td><td><details class=\"dni-treeview\"><summary><span class=\"dni-code-hint\"><code>System.Threading.Tasks.Task</code></span></summary><div><table><thead><tr></tr></thead><tbody><tr><td>ParameterType</td><td><span><a href=\"https://docs.microsoft.com/dotnet/api/system.threading.tasks.task?view=net-7.0\">System.Threading.Tasks.Task</a></span></td></tr><tr><td>Name</td><td><div class=\"dni-plaintext\"><pre>&lt;null&gt;</pre></div></td></tr><tr><td>HasDefaultValue</td><td><div class=\"dni-plaintext\"><pre>False</pre></div></td></tr><tr><td>DefaultValue</td><td><details class=\"dni-treeview\"><summary><span class=\"dni-code-hint\"><code></code></span></summary><div><table><thead><tr></tr></thead><tbody></tbody></table></div></details></td></tr><tr><td>RawDefaultValue</td><td><details class=\"dni-treeview\"><summary><span class=\"dni-code-hint\"><code></code></span></summary><div><table><thead><tr></tr></thead><tbody></tbody></table></div></details></td></tr><tr><td>MetadataToken</td><td><div class=\"dni-plaintext\"><pre>134217728</pre></div></td></tr><tr><td>Attributes</td><td><span>None</span></td></tr><tr><td>Member</td><td><details class=\"dni-treeview\"><summary><span class=\"dni-code-hint\"><code>System.Threading.Tasks.Task &lt;SetHandler&gt;b__0(Microsoft.DotNet.Interactive.Commands.KernelCommand, Microsoft.DotNet.Interactive.KernelInvocationContext)</code></span></summary><div><table><thead><tr></tr></thead><tbody><tr><td>Name</td><td><SetHandler>b__0</td></tr><tr><td>DeclaringType</td><td>Microsoft.DotNet.Interactive.Kernel+<>c__DisplayClass82_0`1[Microsoft.DotNet.Interactive.Commands.SubmitCode]</td></tr><tr><td>ReflectedType</td><td>Microsoft.DotNet.Interactive.Kernel+<>c__DisplayClass82_0`1[Microsoft.DotNet.Interactive.Commands.SubmitCode]</td></tr><tr><td>MemberType</td><td>Method</td></tr><tr><td>MetadataToken</td><td>100664828</td></tr><tr><td>Module</td><td>Microsoft.DotNet.Interactive.dll</td></tr><tr><td>IsSecurityCritical</td><td>True</td></tr><tr><td>IsSecuritySafeCritical</td><td>False</td></tr><tr><td>IsSecurityTransparent</td><td>False</td></tr><tr><td>MethodHandle</td><td>System.RuntimeMethodHandle</td></tr><tr><td>Attributes</td><td>Assembly, HideBySig</td></tr><tr><td>CallingConvention</td><td>Standard, HasThis</td></tr><tr><td>ReturnType</td><td>System.Threading.Tasks.Task</td></tr><tr><td>ReturnTypeCustomAttributes</td><td>System.Threading.Tasks.Task</td></tr><tr><td>ReturnParameter</td><td>System.Threading.Tasks.Task</td></tr><tr><td>IsCollectible</td><td>False</td></tr><tr><td>IsGenericMethod</td><td>False</td></tr><tr><td>IsGenericMethodDefinition</td><td>False</td></tr><tr><td>ContainsGenericParameters</td><td>False</td></tr><tr><td>MethodImplementationFlags</td><td>IL</td></tr><tr><td>IsAbstract</td><td>False</td></tr><tr><td>IsConstructor</td><td>False</td></tr><tr><td>IsFinal</td><td>False</td></tr><tr><td>IsHideBySig</td><td>True</td></tr><tr><td>IsSpecialName</td><td>False</td></tr><tr><td>IsStatic</td><td>False</td></tr><tr><td>IsVirtual</td><td>False</td></tr><tr><td>IsAssembly</td><td>True</td></tr><tr><td>IsFamily</td><td>False</td></tr><tr><td>IsFamilyAndAssembly</td><td>False</td></tr><tr><td>IsFamilyOrAssembly</td><td>False</td></tr><tr><td>IsPrivate</td><td>False</td></tr><tr><td>IsPublic</td><td>False</td></tr><tr><td>IsConstructedGenericMethod</td><td>False</td></tr><tr><td>CustomAttributes</td><td>[  ]</td></tr></tbody></table></div></details></td></tr><tr><td>Position</td><td><div class=\"dni-plaintext\"><pre>-1</pre></div></td></tr><tr><td>IsIn</td><td><div class=\"dni-plaintext\"><pre>False</pre></div></td></tr><tr><td>IsLcid</td><td><div class=\"dni-plaintext\"><pre>False</pre></div></td></tr><tr><td>IsOptional</td><td><div class=\"dni-plaintext\"><pre>False</pre></div></td></tr><tr><td>IsOut</td><td><div class=\"dni-plaintext\"><pre>False</pre></div></td></tr><tr><td>IsRetval</td><td><div class=\"dni-plaintext\"><pre>False</pre></div></td></tr><tr><td>CustomAttributes</td><td><i>(empty)</i></td></tr></tbody></table></div></details></td></tr><tr><td>IsCollectible</td><td><div class=\"dni-plaintext\"><pre>False</pre></div></td></tr><tr><td>IsGenericMethod</td><td><div class=\"dni-plaintext\"><pre>False</pre></div></td></tr><tr><td>IsGenericMethodDefinition</td><td><div class=\"dni-plaintext\"><pre>False</pre></div></td></tr><tr><td>ContainsGenericParameters</td><td><div class=\"dni-plaintext\"><pre>False</pre></div></td></tr><tr><td>MethodImplementationFlags</td><td><span>IL</span></td></tr><tr><td>IsAbstract</td><td><div class=\"dni-plaintext\"><pre>False</pre></div></td></tr><tr><td>IsConstructor</td><td><div class=\"dni-plaintext\"><pre>False</pre></div></td></tr><tr><td>IsFinal</td><td><div class=\"dni-plaintext\"><pre>False</pre></div></td></tr><tr><td>IsHideBySig</td><td><div class=\"dni-plaintext\"><pre>True</pre></div></td></tr><tr><td>IsSpecialName</td><td><div class=\"dni-plaintext\"><pre>False</pre></div></td></tr><tr><td>IsStatic</td><td><div class=\"dni-plaintext\"><pre>False</pre></div></td></tr><tr><td>IsVirtual</td><td><div class=\"dni-plaintext\"><pre>False</pre></div></td></tr><tr><td>IsAssembly</td><td><div class=\"dni-plaintext\"><pre>True</pre></div></td></tr><tr><td>IsFamily</td><td><div class=\"dni-plaintext\"><pre>False</pre></div></td></tr><tr><td>IsFamilyAndAssembly</td><td><div class=\"dni-plaintext\"><pre>False</pre></div></td></tr><tr><td>IsFamilyOrAssembly</td><td><div class=\"dni-plaintext\"><pre>False</pre></div></td></tr><tr><td>IsPrivate</td><td><div class=\"dni-plaintext\"><pre>False</pre></div></td></tr><tr><td>IsPublic</td><td><div class=\"dni-plaintext\"><pre>False</pre></div></td></tr><tr><td>IsConstructedGenericMethod</td><td><div class=\"dni-plaintext\"><pre>False</pre></div></td></tr><tr><td>CustomAttributes</td><td><i>(empty)</i></td></tr></tbody></table></div></details></td></tr></tbody></table></div></details></td></tr><tr><td>Parent</td><td><details class=\"dni-treeview\"><summary><span class=\"dni-code-hint\"><code>SubmitCode: var logger = new DisplayLogger(&quot;NotebookUpdater&quot;,  ...</code></span></summary><div><table><thead><tr></tr></thead><tbody><tr><td>Code</td><td><div class=\"dni-plaintext\"><pre>var logger = new DisplayLogger(&quot;NotebookUpdater&quot;, LogLevel.Information);\n",
       "\n",
       "display(&quot;Cr&#233;ation de l&#39;instance NotebookUpdater...&quot;);\n",
       "var updater = new NotebookUpdater(semanticKernel, notebookPath, logger);\n",
       "\n",
       "display(&quot;Appel &#224; UpdateNotebook...&quot;);\n",
       "var response = await updater.UpdateNotebook();\n",
       "\n",
       "display($&quot;R&#233;sultat de l&#39;ex&#233;cution du notebook :\\n{response}&quot;);\n",
       "</pre></div></td></tr><tr><td>Handler</td><td><details class=\"dni-treeview\"><summary><span class=\"dni-code-hint\"><code>Microsoft.DotNet.Interactive.KernelCommandInvocation</code></span></summary><div><table><thead><tr></tr></thead><tbody><tr><td>Target</td><td><details class=\"dni-treeview\"><summary><span class=\"dni-code-hint\"><code>Microsoft.DotNet.Interactive.Kernel+&lt;&gt;c__DisplayClass82_0`1[Microsoft.DotNet.Interactive.Commands.SubmitCode]</code></span></summary><div><table><thead><tr></tr></thead><tbody><tr><td>handler</td><td><details class=\"dni-treeview\"><summary><span class=\"dni-code-hint\"><code>Microsoft.DotNet.Interactive.CSharp.CSharpKernel: csharp (kernel://pid-37992/csharp)</code></span></summary><div><table><thead><tr></tr></thead><tbody><tr><td>ScriptState</td><td>Microsoft.CodeAnalysis.Scripting.ScriptState`1[System.Object]</td></tr><tr><td>ParentKernel</td><td>[ Microsoft.DotNet.Interactive.SqlDiscoverabilityKernel: sql (kernel://pid-37992/sql), Microsoft.DotNet.Interactive.KqlDiscoverabilityKernel: kql (kernel://pid-37992/kql), Microsoft.DotNet.Interactive.CSharp.CSharpKernel: csharp (kernel://pid-37992/csharp), Microsoft.DotNet.Interactive.FSharp.FSharpKernel: fsharp (kernel://pid-37992/fsharp), Microsoft.DotNet.Interactive.PowerShell.PowerShellKernel: pwsh (kernel://pid-37992/pwsh), Microsoft.DotNet.Interactive.HtmlKernel: html (kernel://pid-37992/html), Microsoft.DotNet.Interactive.KeyValueStoreKernel: value (kernel://pid-37992/value), Microsoft.DotNet.Interactive.Mermaid.MermaidKernel: mermaid (kernel://pid-37992/mermaid), Microsoft.DotNet.Interactive.Http.HttpKernel: http (kernel://pid-37992/http), Microsoft.DotNet.Interactive.Connection.ProxyKernel: vscode (kernel://pid-37992/vscode -> kernel://vscode/), Microsoft.DotNet.Interactive.Connection.ProxyKernel: javascript (kernel://pid-37992/javascript -> kernel://webview/javascript) ]</td></tr><tr><td>RootKernel</td><td>[ Microsoft.DotNet.Interactive.SqlDiscoverabilityKernel: sql (kernel://pid-37992/sql), Microsoft.DotNet.Interactive.KqlDiscoverabilityKernel: kql (kernel://pid-37992/kql), Microsoft.DotNet.Interactive.CSharp.CSharpKernel: csharp (kernel://pid-37992/csharp), Microsoft.DotNet.Interactive.FSharp.FSharpKernel: fsharp (kernel://pid-37992/fsharp), Microsoft.DotNet.Interactive.PowerShell.PowerShellKernel: pwsh (kernel://pid-37992/pwsh), Microsoft.DotNet.Interactive.HtmlKernel: html (kernel://pid-37992/html), Microsoft.DotNet.Interactive.KeyValueStoreKernel: value (kernel://pid-37992/value), Microsoft.DotNet.Interactive.Mermaid.MermaidKernel: mermaid (kernel://pid-37992/mermaid), Microsoft.DotNet.Interactive.Http.HttpKernel: http (kernel://pid-37992/http), Microsoft.DotNet.Interactive.Connection.ProxyKernel: vscode (kernel://pid-37992/vscode -> kernel://vscode/), Microsoft.DotNet.Interactive.Connection.ProxyKernel: javascript (kernel://pid-37992/javascript -> kernel://webview/javascript) ]</td></tr><tr><td>SubmissionCount</td><td>0</td></tr><tr><td>SubmissionParser</td><td>Microsoft.DotNet.Interactive.Parsing.SubmissionParser</td></tr><tr><td>FrontendEnvironment</td><td>Microsoft.DotNet.Interactive.Http.BrowserFrontendEnvironment</td></tr><tr><td>KernelEvents</td><td>System.Reactive.Subjects.Subject`1[Microsoft.DotNet.Interactive.Events.KernelEvent]</td></tr><tr><td>Name</td><td>csharp</td></tr><tr><td>KernelInfo</td><td>csharp (kernel://pid-37992/csharp)</td></tr><tr><td>Directives</td><td>[ [ Argument: source ], [ Argument: package ], [  ], [  ], [  ], [ Option`1: from, Option`1: mime-type, Option`1: as, Argument: name ], [ Option`1: name, Option`1: value, Option`1: mime-type, Option`1: byref ], [  ] ]</td></tr><tr><td>ChooseKernelDirective</td><td>[  ]</td></tr></tbody></table></div></details></td></tr><tr><td>command</td><td><details class=\"dni-treeview\"><summary><span class=\"dni-code-hint\"><code>SubmitCode: var logger = new DisplayLogger(&quot;NotebookUpdater&quot;,  ...</code></span></summary><div><table><thead><tr></tr></thead><tbody><tr><td>Code</td><td>var logger = new DisplayLogger(\"NotebookUpdater\", LogLevel.Information);\n",
       "\n",
       "display(\"Création de l'instance NotebookUpdater...\");\n",
       "var updater = new NotebookUpdater(semanticKernel, notebookPath, logger);\n",
       "\n",
       "display(\"Appel à UpdateNotebook...\");\n",
       "var response = await updater.UpdateNotebook();\n",
       "\n",
       "display($\"Résultat de l'exécution du notebook :\\n{response}\");\n",
       "</td></tr><tr><td>Handler</td><td>Microsoft.DotNet.Interactive.KernelCommandInvocation</td></tr><tr><td>Parent</td><td><div class=\"dni-plaintext\"><pre>&lt;null&gt;</pre></div></td></tr><tr><td>TargetKernelName</td><td>csharp</td></tr><tr><td>OriginUri</td><td><div class=\"dni-plaintext\"><pre>&lt;null&gt;</pre></div></td></tr><tr><td>DestinationUri</td><td><div class=\"dni-plaintext\"><pre>&lt;null&gt;</pre></div></td></tr><tr><td>KernelChooserParseResult</td><td><div class=\"dni-plaintext\"><pre>&lt;null&gt;</pre></div></td></tr><tr><td>RoutingSlip</td><td>[kernel://pid-37992/ (arrived), kernel://pid-37992/csharp (arrived)]</td></tr></tbody></table></div></details></td></tr></tbody></table></div></details></td></tr><tr><td>Method</td><td><details class=\"dni-treeview\"><summary><span class=\"dni-code-hint\"><code>System.Threading.Tasks.Task &lt;SetHandler&gt;b__0(Microsoft.DotNet.Interactive.Commands.KernelCommand, Microsoft.DotNet.Interactive.KernelInvocationContext)</code></span></summary><div><table><thead><tr></tr></thead><tbody><tr><td>Name</td><td><div class=\"dni-plaintext\"><pre>&lt;SetHandler&gt;b__0</pre></div></td></tr><tr><td>DeclaringType</td><td><span><a href=\"https://docs.microsoft.com/dotnet/api/microsoft.dotnet.interactive.kernel.&lt;>c__displayclass82_0-1?view=net-7.0\">Microsoft.DotNet.Interactive.Kernel+&lt;&gt;c__DisplayClass82_0&lt;Microsoft.DotNet.Interactive.Commands.SubmitCode&gt;</a></span></td></tr><tr><td>ReflectedType</td><td><span><a href=\"https://docs.microsoft.com/dotnet/api/microsoft.dotnet.interactive.kernel.&lt;>c__displayclass82_0-1?view=net-7.0\">Microsoft.DotNet.Interactive.Kernel+&lt;&gt;c__DisplayClass82_0&lt;Microsoft.DotNet.Interactive.Commands.SubmitCode&gt;</a></span></td></tr><tr><td>MemberType</td><td><span>Method</span></td></tr><tr><td>MetadataToken</td><td><div class=\"dni-plaintext\"><pre>100664828</pre></div></td></tr><tr><td>Module</td><td><details class=\"dni-treeview\"><summary><span class=\"dni-code-hint\"><code>Microsoft.DotNet.Interactive.dll</code></span></summary><div><table><thead><tr></tr></thead><tbody><tr><td>MDStreamVersion</td><td>131072</td></tr><tr><td>FullyQualifiedName</td><td>C:\\Users\\Administrateur.000\\.nuget\\packages\\microsoft.dotnet-interactive\\1.0.522904\\tools\\net8.0\\any\\Microsoft.DotNet.Interactive.dll</td></tr><tr><td>ModuleVersionId</td><td>ee6aec0a-8e1f-4e4c-97e3-57418e1dc7e0</td></tr><tr><td>MetadataToken</td><td>1</td></tr><tr><td>ScopeName</td><td>Microsoft.DotNet.Interactive.dll</td></tr><tr><td>Name</td><td>Microsoft.DotNet.Interactive.dll</td></tr><tr><td>Assembly</td><td>Microsoft.DotNet.Interactive, Version=1.0.0.0, Culture=neutral, PublicKeyToken=31bf3856ad364e35</td></tr><tr><td>ModuleHandle</td><td>System.ModuleHandle</td></tr><tr><td>CustomAttributes</td><td>[ [System.Runtime.CompilerServices.RefSafetyRulesAttribute((Int32)11)] ]</td></tr></tbody></table></div></details></td></tr><tr><td>IsSecurityCritical</td><td><div class=\"dni-plaintext\"><pre>True</pre></div></td></tr><tr><td>IsSecuritySafeCritical</td><td><div class=\"dni-plaintext\"><pre>False</pre></div></td></tr><tr><td>IsSecurityTransparent</td><td><div class=\"dni-plaintext\"><pre>False</pre></div></td></tr><tr><td>MethodHandle</td><td><details class=\"dni-treeview\"><summary><span class=\"dni-code-hint\"><code>System.RuntimeMethodHandle</code></span></summary><div><table><thead><tr></tr></thead><tbody><tr><td>Value</td><td>140731641892472</td></tr></tbody></table></div></details></td></tr><tr><td>Attributes</td><td><span>Assembly, HideBySig</span></td></tr><tr><td>CallingConvention</td><td><span>Standard, HasThis</span></td></tr><tr><td>ReturnType</td><td><span><a href=\"https://docs.microsoft.com/dotnet/api/system.threading.tasks.task?view=net-7.0\">System.Threading.Tasks.Task</a></span></td></tr><tr><td>ReturnTypeCustomAttributes</td><td><details class=\"dni-treeview\"><summary><span class=\"dni-code-hint\"><code>System.Threading.Tasks.Task</code></span></summary><div><table><thead><tr></tr></thead><tbody><tr><td>ParameterType</td><td>System.Threading.Tasks.Task</td></tr><tr><td>Name</td><td><div class=\"dni-plaintext\"><pre>&lt;null&gt;</pre></div></td></tr><tr><td>HasDefaultValue</td><td>False</td></tr><tr><td>DefaultValue</td><td></td></tr><tr><td>RawDefaultValue</td><td></td></tr><tr><td>MetadataToken</td><td>134217728</td></tr><tr><td>Attributes</td><td>None</td></tr><tr><td>Member</td><td>System.Threading.Tasks.Task <SetHandler>b__0(Microsoft.DotNet.Interactive.Commands.KernelCommand, Microsoft.DotNet.Interactive.KernelInvocationContext)</td></tr><tr><td>Position</td><td>-1</td></tr><tr><td>IsIn</td><td>False</td></tr><tr><td>IsLcid</td><td>False</td></tr><tr><td>IsOptional</td><td>False</td></tr><tr><td>IsOut</td><td>False</td></tr><tr><td>IsRetval</td><td>False</td></tr><tr><td>CustomAttributes</td><td>[  ]</td></tr></tbody></table></div></details></td></tr><tr><td>ReturnParameter</td><td><details class=\"dni-treeview\"><summary><span class=\"dni-code-hint\"><code>System.Threading.Tasks.Task</code></span></summary><div><table><thead><tr></tr></thead><tbody><tr><td>ParameterType</td><td>System.Threading.Tasks.Task</td></tr><tr><td>Name</td><td><div class=\"dni-plaintext\"><pre>&lt;null&gt;</pre></div></td></tr><tr><td>HasDefaultValue</td><td>False</td></tr><tr><td>DefaultValue</td><td></td></tr><tr><td>RawDefaultValue</td><td></td></tr><tr><td>MetadataToken</td><td>134217728</td></tr><tr><td>Attributes</td><td>None</td></tr><tr><td>Member</td><td>System.Threading.Tasks.Task <SetHandler>b__0(Microsoft.DotNet.Interactive.Commands.KernelCommand, Microsoft.DotNet.Interactive.KernelInvocationContext)</td></tr><tr><td>Position</td><td>-1</td></tr><tr><td>IsIn</td><td>False</td></tr><tr><td>IsLcid</td><td>False</td></tr><tr><td>IsOptional</td><td>False</td></tr><tr><td>IsOut</td><td>False</td></tr><tr><td>IsRetval</td><td>False</td></tr><tr><td>CustomAttributes</td><td>[  ]</td></tr></tbody></table></div></details></td></tr><tr><td>IsCollectible</td><td><div class=\"dni-plaintext\"><pre>False</pre></div></td></tr><tr><td>IsGenericMethod</td><td><div class=\"dni-plaintext\"><pre>False</pre></div></td></tr><tr><td>IsGenericMethodDefinition</td><td><div class=\"dni-plaintext\"><pre>False</pre></div></td></tr><tr><td>ContainsGenericParameters</td><td><div class=\"dni-plaintext\"><pre>False</pre></div></td></tr><tr><td>MethodImplementationFlags</td><td><span>IL</span></td></tr><tr><td>IsAbstract</td><td><div class=\"dni-plaintext\"><pre>False</pre></div></td></tr><tr><td>IsConstructor</td><td><div class=\"dni-plaintext\"><pre>False</pre></div></td></tr><tr><td>IsFinal</td><td><div class=\"dni-plaintext\"><pre>False</pre></div></td></tr><tr><td>IsHideBySig</td><td><div class=\"dni-plaintext\"><pre>True</pre></div></td></tr><tr><td>IsSpecialName</td><td><div class=\"dni-plaintext\"><pre>False</pre></div></td></tr><tr><td>IsStatic</td><td><div class=\"dni-plaintext\"><pre>False</pre></div></td></tr><tr><td>IsVirtual</td><td><div class=\"dni-plaintext\"><pre>False</pre></div></td></tr><tr><td>IsAssembly</td><td><div class=\"dni-plaintext\"><pre>True</pre></div></td></tr><tr><td>IsFamily</td><td><div class=\"dni-plaintext\"><pre>False</pre></div></td></tr><tr><td>IsFamilyAndAssembly</td><td><div class=\"dni-plaintext\"><pre>False</pre></div></td></tr><tr><td>IsFamilyOrAssembly</td><td><div class=\"dni-plaintext\"><pre>False</pre></div></td></tr><tr><td>IsPrivate</td><td><div class=\"dni-plaintext\"><pre>False</pre></div></td></tr><tr><td>IsPublic</td><td><div class=\"dni-plaintext\"><pre>False</pre></div></td></tr><tr><td>IsConstructedGenericMethod</td><td><div class=\"dni-plaintext\"><pre>False</pre></div></td></tr><tr><td>CustomAttributes</td><td><i>(empty)</i></td></tr></tbody></table></div></details></td></tr></tbody></table></div></details></td></tr><tr><td>Parent</td><td><div class=\"dni-plaintext\"><pre>&lt;null&gt;</pre></div></td></tr><tr><td>TargetKernelName</td><td><div class=\"dni-plaintext\"><pre>csharp</pre></div></td></tr><tr><td>OriginUri</td><td><div class=\"dni-plaintext\"><pre>&lt;null&gt;</pre></div></td></tr><tr><td>DestinationUri</td><td><div class=\"dni-plaintext\"><pre>&lt;null&gt;</pre></div></td></tr><tr><td>KernelChooserParseResult</td><td><div class=\"dni-plaintext\"><pre>&lt;null&gt;</pre></div></td></tr><tr><td>RoutingSlip</td><td><div class=\"dni-plaintext\"><pre>[ kernel://pid-37992/ (arrived), kernel://pid-37992/csharp (arrived) ]</pre></div></td></tr></tbody></table></div></details></td></tr><tr><td>TargetKernelName</td><td><div class=\"dni-plaintext\"><pre>csharp</pre></div></td></tr><tr><td>OriginUri</td><td><div class=\"dni-plaintext\"><pre>&lt;null&gt;</pre></div></td></tr><tr><td>DestinationUri</td><td><div class=\"dni-plaintext\"><pre>&lt;null&gt;</pre></div></td></tr><tr><td>KernelChooserParseResult</td><td><div class=\"dni-plaintext\"><pre>&lt;null&gt;</pre></div></td></tr><tr><td>RoutingSlip</td><td><div class=\"dni-plaintext\"><pre>[ kernel://local/.NET (arrived), kernel://local/csharp (arrived), kernel://local/csharp, kernel://local/.NET ]</pre></div></td></tr></tbody></table></div></details></td></tr><tr><td>Events</td><td><table><thead><tr><th><i>index</i></th><th><i>type</i></th><th>value</th></tr></thead><tbody><tr><td>0</td><td><span><a href=\"https://docs.microsoft.com/dotnet/api/microsoft.dotnet.interactive.events.codesubmissionreceived?view=net-7.0\">Microsoft.DotNet.Interactive.Events.CodeSubmissionReceived</a></span></td><td><details class=\"dni-treeview\"><summary><span class=\"dni-code-hint\"><code>CodeSubmissionReceived: // Importation des espaces de noms utiles ...</code></span></summary><div><table><thead><tr></tr></thead><tbody><tr><td>Code</td><td><div class=\"dni-plaintext\"><pre>// Importation des espaces de noms utiles\n",
       "using VDS.RDF;\n",
       "using VDS.RDF.Query;\n",
       "using XPlot.Plotly;</pre></div></td></tr><tr><td>Command</td><td><details class=\"dni-treeview\"><summary><span class=\"dni-code-hint\"><code>SubmitCode: // Importation des espaces de noms utiles ...</code></span></summary><div><table><thead><tr></tr></thead><tbody><tr><td>Code</td><td><div class=\"dni-plaintext\"><pre>// Importation des espaces de noms utiles\n",
       "using VDS.RDF;\n",
       "using VDS.RDF.Query;\n",
       "using XPlot.Plotly;</pre></div></td></tr><tr><td>Handler</td><td><details class=\"dni-treeview\"><summary><span class=\"dni-code-hint\"><code>Microsoft.DotNet.Interactive.KernelCommandInvocation</code></span></summary><div><table><thead><tr></tr></thead><tbody><tr><td>Target</td><td><details class=\"dni-treeview\"><summary><span class=\"dni-code-hint\"><code>Microsoft.DotNet.Interactive.Kernel+&lt;&gt;c__DisplayClass82_0`1[Microsoft.DotNet.Interactive.Commands.SubmitCode]</code></span></summary><div><table><thead><tr></tr></thead><tbody><tr><td>handler</td><td>Microsoft.DotNet.Interactive.CSharp.CSharpKernel: csharp (kernel://local/csharp)</td></tr><tr><td>command</td><td>SubmitCode: // Importation des espaces de noms utiles ...</td></tr></tbody></table></div></details></td></tr><tr><td>Method</td><td><details class=\"dni-treeview\"><summary><span class=\"dni-code-hint\"><code>System.Threading.Tasks.Task &lt;SetHandler&gt;b__0(Microsoft.DotNet.Interactive.Commands.KernelCommand, Microsoft.DotNet.Interactive.KernelInvocationContext)</code></span></summary><div><table><thead><tr></tr></thead><tbody><tr><td>Name</td><td><SetHandler>b__0</td></tr><tr><td>DeclaringType</td><td>Microsoft.DotNet.Interactive.Kernel+<>c__DisplayClass82_0`1[Microsoft.DotNet.Interactive.Commands.SubmitCode]</td></tr><tr><td>ReflectedType</td><td>Microsoft.DotNet.Interactive.Kernel+<>c__DisplayClass82_0`1[Microsoft.DotNet.Interactive.Commands.SubmitCode]</td></tr><tr><td>MemberType</td><td>Method</td></tr><tr><td>MetadataToken</td><td>100664828</td></tr><tr><td>Module</td><td>Microsoft.DotNet.Interactive.dll</td></tr><tr><td>IsSecurityCritical</td><td>True</td></tr><tr><td>IsSecuritySafeCritical</td><td>False</td></tr><tr><td>IsSecurityTransparent</td><td>False</td></tr><tr><td>MethodHandle</td><td>System.RuntimeMethodHandle</td></tr><tr><td>Attributes</td><td>Assembly, HideBySig</td></tr><tr><td>CallingConvention</td><td>Standard, HasThis</td></tr><tr><td>ReturnType</td><td>System.Threading.Tasks.Task</td></tr><tr><td>ReturnTypeCustomAttributes</td><td>System.Threading.Tasks.Task</td></tr><tr><td>ReturnParameter</td><td>System.Threading.Tasks.Task</td></tr><tr><td>IsCollectible</td><td>False</td></tr><tr><td>IsGenericMethod</td><td>False</td></tr><tr><td>IsGenericMethodDefinition</td><td>False</td></tr><tr><td>ContainsGenericParameters</td><td>False</td></tr><tr><td>MethodImplementationFlags</td><td>IL</td></tr><tr><td>IsAbstract</td><td>False</td></tr><tr><td>IsConstructor</td><td>False</td></tr><tr><td>IsFinal</td><td>False</td></tr><tr><td>IsHideBySig</td><td>True</td></tr><tr><td>IsSpecialName</td><td>False</td></tr><tr><td>IsStatic</td><td>False</td></tr><tr><td>IsVirtual</td><td>False</td></tr><tr><td>IsAssembly</td><td>True</td></tr><tr><td>IsFamily</td><td>False</td></tr><tr><td>IsFamilyAndAssembly</td><td>False</td></tr><tr><td>IsFamilyOrAssembly</td><td>False</td></tr><tr><td>IsPrivate</td><td>False</td></tr><tr><td>IsPublic</td><td>False</td></tr><tr><td>IsConstructedGenericMethod</td><td>False</td></tr><tr><td>CustomAttributes</td><td>[  ]</td></tr></tbody></table></div></details></td></tr></tbody></table></div></details></td></tr><tr><td>Parent</td><td><details class=\"dni-treeview\"><summary><span class=\"dni-code-hint\"><code>SubmitCode: var logger = new DisplayLogger(&quot;NotebookUpdater&quot;,  ...</code></span></summary><div><table><thead><tr></tr></thead><tbody><tr><td>Code</td><td><div class=\"dni-plaintext\"><pre>var logger = new DisplayLogger(&quot;NotebookUpdater&quot;, LogLevel.Information);\n",
       "\n",
       "display(&quot;Cr&#233;ation de l&#39;instance NotebookUpdater...&quot;);\n",
       "var updater = new NotebookUpdater(semanticKernel, notebookPath, logger);\n",
       "\n",
       "display(&quot;Appel &#224; UpdateNotebook...&quot;);\n",
       "var response = await updater.UpdateNotebook();\n",
       "\n",
       "display($&quot;R&#233;sultat de l&#39;ex&#233;cution du notebook :\\n{response}&quot;);\n",
       "</pre></div></td></tr><tr><td>Handler</td><td><details class=\"dni-treeview\"><summary><span class=\"dni-code-hint\"><code>Microsoft.DotNet.Interactive.KernelCommandInvocation</code></span></summary><div><table><thead><tr></tr></thead><tbody><tr><td>Target</td><td>Microsoft.DotNet.Interactive.Kernel+<>c__DisplayClass82_0`1[Microsoft.DotNet.Interactive.Commands.SubmitCode]</td></tr><tr><td>Method</td><td>System.Threading.Tasks.Task <SetHandler>b__0(Microsoft.DotNet.Interactive.Commands.KernelCommand, Microsoft.DotNet.Interactive.KernelInvocationContext)</td></tr></tbody></table></div></details></td></tr><tr><td>Parent</td><td><div class=\"dni-plaintext\"><pre>&lt;null&gt;</pre></div></td></tr><tr><td>TargetKernelName</td><td><div class=\"dni-plaintext\"><pre>csharp</pre></div></td></tr><tr><td>OriginUri</td><td><div class=\"dni-plaintext\"><pre>&lt;null&gt;</pre></div></td></tr><tr><td>DestinationUri</td><td><div class=\"dni-plaintext\"><pre>&lt;null&gt;</pre></div></td></tr><tr><td>KernelChooserParseResult</td><td><div class=\"dni-plaintext\"><pre>&lt;null&gt;</pre></div></td></tr><tr><td>RoutingSlip</td><td>[ kernel://pid-37992/ (arrived), kernel://pid-37992/csharp (arrived) ]</td></tr></tbody></table></div></details></td></tr><tr><td>TargetKernelName</td><td><div class=\"dni-plaintext\"><pre>csharp</pre></div></td></tr><tr><td>OriginUri</td><td><div class=\"dni-plaintext\"><pre>&lt;null&gt;</pre></div></td></tr><tr><td>DestinationUri</td><td><div class=\"dni-plaintext\"><pre>&lt;null&gt;</pre></div></td></tr><tr><td>KernelChooserParseResult</td><td><div class=\"dni-plaintext\"><pre>&lt;null&gt;</pre></div></td></tr><tr><td>RoutingSlip</td><td><div class=\"dni-plaintext\"><pre>[ kernel://local/.NET (arrived), kernel://local/csharp (arrived), kernel://local/csharp, kernel://local/.NET ]</pre></div></td></tr></tbody></table></div></details></td></tr><tr><td>RoutingSlip</td><td><div class=\"dni-plaintext\"><pre>[ kernel://local/csharp, kernel://pid-37992/ ]</pre></div></td></tr></tbody></table></div></details></td></tr><tr><td>1</td><td><span><a href=\"https://docs.microsoft.com/dotnet/api/microsoft.dotnet.interactive.events.completecodesubmissionreceived?view=net-7.0\">Microsoft.DotNet.Interactive.Events.CompleteCodeSubmissionReceived</a></span></td><td><details class=\"dni-treeview\"><summary><span class=\"dni-code-hint\"><code>CompleteCodeSubmissionReceived: // Importation des espaces de noms utiles ...</code></span></summary><div><table><thead><tr></tr></thead><tbody><tr><td>Code</td><td><div class=\"dni-plaintext\"><pre>// Importation des espaces de noms utiles\n",
       "using VDS.RDF;\n",
       "using VDS.RDF.Query;\n",
       "using XPlot.Plotly;</pre></div></td></tr><tr><td>Command</td><td><details class=\"dni-treeview\"><summary><span class=\"dni-code-hint\"><code>SubmitCode: // Importation des espaces de noms utiles ...</code></span></summary><div><table><thead><tr></tr></thead><tbody><tr><td>Code</td><td><div class=\"dni-plaintext\"><pre>// Importation des espaces de noms utiles\n",
       "using VDS.RDF;\n",
       "using VDS.RDF.Query;\n",
       "using XPlot.Plotly;</pre></div></td></tr><tr><td>Handler</td><td><details class=\"dni-treeview\"><summary><span class=\"dni-code-hint\"><code>Microsoft.DotNet.Interactive.KernelCommandInvocation</code></span></summary><div><table><thead><tr></tr></thead><tbody><tr><td>Target</td><td><details class=\"dni-treeview\"><summary><span class=\"dni-code-hint\"><code>Microsoft.DotNet.Interactive.Kernel+&lt;&gt;c__DisplayClass82_0`1[Microsoft.DotNet.Interactive.Commands.SubmitCode]</code></span></summary><div><table><thead><tr></tr></thead><tbody><tr><td>handler</td><td>Microsoft.DotNet.Interactive.CSharp.CSharpKernel: csharp (kernel://local/csharp)</td></tr><tr><td>command</td><td>SubmitCode: // Importation des espaces de noms utiles ...</td></tr></tbody></table></div></details></td></tr><tr><td>Method</td><td><details class=\"dni-treeview\"><summary><span class=\"dni-code-hint\"><code>System.Threading.Tasks.Task &lt;SetHandler&gt;b__0(Microsoft.DotNet.Interactive.Commands.KernelCommand, Microsoft.DotNet.Interactive.KernelInvocationContext)</code></span></summary><div><table><thead><tr></tr></thead><tbody><tr><td>Name</td><td><SetHandler>b__0</td></tr><tr><td>DeclaringType</td><td>Microsoft.DotNet.Interactive.Kernel+<>c__DisplayClass82_0`1[Microsoft.DotNet.Interactive.Commands.SubmitCode]</td></tr><tr><td>ReflectedType</td><td>Microsoft.DotNet.Interactive.Kernel+<>c__DisplayClass82_0`1[Microsoft.DotNet.Interactive.Commands.SubmitCode]</td></tr><tr><td>MemberType</td><td>Method</td></tr><tr><td>MetadataToken</td><td>100664828</td></tr><tr><td>Module</td><td>Microsoft.DotNet.Interactive.dll</td></tr><tr><td>IsSecurityCritical</td><td>True</td></tr><tr><td>IsSecuritySafeCritical</td><td>False</td></tr><tr><td>IsSecurityTransparent</td><td>False</td></tr><tr><td>MethodHandle</td><td>System.RuntimeMethodHandle</td></tr><tr><td>Attributes</td><td>Assembly, HideBySig</td></tr><tr><td>CallingConvention</td><td>Standard, HasThis</td></tr><tr><td>ReturnType</td><td>System.Threading.Tasks.Task</td></tr><tr><td>ReturnTypeCustomAttributes</td><td>System.Threading.Tasks.Task</td></tr><tr><td>ReturnParameter</td><td>System.Threading.Tasks.Task</td></tr><tr><td>IsCollectible</td><td>False</td></tr><tr><td>IsGenericMethod</td><td>False</td></tr><tr><td>IsGenericMethodDefinition</td><td>False</td></tr><tr><td>ContainsGenericParameters</td><td>False</td></tr><tr><td>MethodImplementationFlags</td><td>IL</td></tr><tr><td>IsAbstract</td><td>False</td></tr><tr><td>IsConstructor</td><td>False</td></tr><tr><td>IsFinal</td><td>False</td></tr><tr><td>IsHideBySig</td><td>True</td></tr><tr><td>IsSpecialName</td><td>False</td></tr><tr><td>IsStatic</td><td>False</td></tr><tr><td>IsVirtual</td><td>False</td></tr><tr><td>IsAssembly</td><td>True</td></tr><tr><td>IsFamily</td><td>False</td></tr><tr><td>IsFamilyAndAssembly</td><td>False</td></tr><tr><td>IsFamilyOrAssembly</td><td>False</td></tr><tr><td>IsPrivate</td><td>False</td></tr><tr><td>IsPublic</td><td>False</td></tr><tr><td>IsConstructedGenericMethod</td><td>False</td></tr><tr><td>CustomAttributes</td><td>[  ]</td></tr></tbody></table></div></details></td></tr></tbody></table></div></details></td></tr><tr><td>Parent</td><td><details class=\"dni-treeview\"><summary><span class=\"dni-code-hint\"><code>SubmitCode: var logger = new DisplayLogger(&quot;NotebookUpdater&quot;,  ...</code></span></summary><div><table><thead><tr></tr></thead><tbody><tr><td>Code</td><td><div class=\"dni-plaintext\"><pre>var logger = new DisplayLogger(&quot;NotebookUpdater&quot;, LogLevel.Information);\n",
       "\n",
       "display(&quot;Cr&#233;ation de l&#39;instance NotebookUpdater...&quot;);\n",
       "var updater = new NotebookUpdater(semanticKernel, notebookPath, logger);\n",
       "\n",
       "display(&quot;Appel &#224; UpdateNotebook...&quot;);\n",
       "var response = await updater.UpdateNotebook();\n",
       "\n",
       "display($&quot;R&#233;sultat de l&#39;ex&#233;cution du notebook :\\n{response}&quot;);\n",
       "</pre></div></td></tr><tr><td>Handler</td><td><details class=\"dni-treeview\"><summary><span class=\"dni-code-hint\"><code>Microsoft.DotNet.Interactive.KernelCommandInvocation</code></span></summary><div><table><thead><tr></tr></thead><tbody><tr><td>Target</td><td>Microsoft.DotNet.Interactive.Kernel+<>c__DisplayClass82_0`1[Microsoft.DotNet.Interactive.Commands.SubmitCode]</td></tr><tr><td>Method</td><td>System.Threading.Tasks.Task <SetHandler>b__0(Microsoft.DotNet.Interactive.Commands.KernelCommand, Microsoft.DotNet.Interactive.KernelInvocationContext)</td></tr></tbody></table></div></details></td></tr><tr><td>Parent</td><td><div class=\"dni-plaintext\"><pre>&lt;null&gt;</pre></div></td></tr><tr><td>TargetKernelName</td><td><div class=\"dni-plaintext\"><pre>csharp</pre></div></td></tr><tr><td>OriginUri</td><td><div class=\"dni-plaintext\"><pre>&lt;null&gt;</pre></div></td></tr><tr><td>DestinationUri</td><td><div class=\"dni-plaintext\"><pre>&lt;null&gt;</pre></div></td></tr><tr><td>KernelChooserParseResult</td><td><div class=\"dni-plaintext\"><pre>&lt;null&gt;</pre></div></td></tr><tr><td>RoutingSlip</td><td>[ kernel://pid-37992/ (arrived), kernel://pid-37992/csharp (arrived) ]</td></tr></tbody></table></div></details></td></tr><tr><td>TargetKernelName</td><td><div class=\"dni-plaintext\"><pre>csharp</pre></div></td></tr><tr><td>OriginUri</td><td><div class=\"dni-plaintext\"><pre>&lt;null&gt;</pre></div></td></tr><tr><td>DestinationUri</td><td><div class=\"dni-plaintext\"><pre>&lt;null&gt;</pre></div></td></tr><tr><td>KernelChooserParseResult</td><td><div class=\"dni-plaintext\"><pre>&lt;null&gt;</pre></div></td></tr><tr><td>RoutingSlip</td><td><div class=\"dni-plaintext\"><pre>[ kernel://local/.NET (arrived), kernel://local/csharp (arrived), kernel://local/csharp, kernel://local/.NET ]</pre></div></td></tr></tbody></table></div></details></td></tr><tr><td>RoutingSlip</td><td><div class=\"dni-plaintext\"><pre>[ kernel://local/csharp, kernel://pid-37992/ ]</pre></div></td></tr></tbody></table></div></details></td></tr><tr><td>2</td><td><span><a href=\"https://docs.microsoft.com/dotnet/api/microsoft.dotnet.interactive.events.diagnosticsproduced?view=net-7.0\">Microsoft.DotNet.Interactive.Events.DiagnosticsProduced</a></span></td><td><details class=\"dni-treeview\"><summary><span class=\"dni-code-hint\"><code>DiagnosticsProduced</code></span></summary><div><table><thead><tr></tr></thead><tbody><tr><td>Diagnostics</td><td><i>(empty)</i></td></tr><tr><td>FormattedDiagnostics</td><td><i>(empty)</i></td></tr><tr><td>Command</td><td><details class=\"dni-treeview\"><summary><span class=\"dni-code-hint\"><code>SubmitCode: // Importation des espaces de noms utiles ...</code></span></summary><div><table><thead><tr></tr></thead><tbody><tr><td>Code</td><td><div class=\"dni-plaintext\"><pre>// Importation des espaces de noms utiles\n",
       "using VDS.RDF;\n",
       "using VDS.RDF.Query;\n",
       "using XPlot.Plotly;</pre></div></td></tr><tr><td>Handler</td><td><details class=\"dni-treeview\"><summary><span class=\"dni-code-hint\"><code>Microsoft.DotNet.Interactive.KernelCommandInvocation</code></span></summary><div><table><thead><tr></tr></thead><tbody><tr><td>Target</td><td><details class=\"dni-treeview\"><summary><span class=\"dni-code-hint\"><code>Microsoft.DotNet.Interactive.Kernel+&lt;&gt;c__DisplayClass82_0`1[Microsoft.DotNet.Interactive.Commands.SubmitCode]</code></span></summary><div><table><thead><tr></tr></thead><tbody><tr><td>handler</td><td>Microsoft.DotNet.Interactive.CSharp.CSharpKernel: csharp (kernel://local/csharp)</td></tr><tr><td>command</td><td>SubmitCode: // Importation des espaces de noms utiles ...</td></tr></tbody></table></div></details></td></tr><tr><td>Method</td><td><details class=\"dni-treeview\"><summary><span class=\"dni-code-hint\"><code>System.Threading.Tasks.Task &lt;SetHandler&gt;b__0(Microsoft.DotNet.Interactive.Commands.KernelCommand, Microsoft.DotNet.Interactive.KernelInvocationContext)</code></span></summary><div><table><thead><tr></tr></thead><tbody><tr><td>Name</td><td><SetHandler>b__0</td></tr><tr><td>DeclaringType</td><td>Microsoft.DotNet.Interactive.Kernel+<>c__DisplayClass82_0`1[Microsoft.DotNet.Interactive.Commands.SubmitCode]</td></tr><tr><td>ReflectedType</td><td>Microsoft.DotNet.Interactive.Kernel+<>c__DisplayClass82_0`1[Microsoft.DotNet.Interactive.Commands.SubmitCode]</td></tr><tr><td>MemberType</td><td>Method</td></tr><tr><td>MetadataToken</td><td>100664828</td></tr><tr><td>Module</td><td>Microsoft.DotNet.Interactive.dll</td></tr><tr><td>IsSecurityCritical</td><td>True</td></tr><tr><td>IsSecuritySafeCritical</td><td>False</td></tr><tr><td>IsSecurityTransparent</td><td>False</td></tr><tr><td>MethodHandle</td><td>System.RuntimeMethodHandle</td></tr><tr><td>Attributes</td><td>Assembly, HideBySig</td></tr><tr><td>CallingConvention</td><td>Standard, HasThis</td></tr><tr><td>ReturnType</td><td>System.Threading.Tasks.Task</td></tr><tr><td>ReturnTypeCustomAttributes</td><td>System.Threading.Tasks.Task</td></tr><tr><td>ReturnParameter</td><td>System.Threading.Tasks.Task</td></tr><tr><td>IsCollectible</td><td>False</td></tr><tr><td>IsGenericMethod</td><td>False</td></tr><tr><td>IsGenericMethodDefinition</td><td>False</td></tr><tr><td>ContainsGenericParameters</td><td>False</td></tr><tr><td>MethodImplementationFlags</td><td>IL</td></tr><tr><td>IsAbstract</td><td>False</td></tr><tr><td>IsConstructor</td><td>False</td></tr><tr><td>IsFinal</td><td>False</td></tr><tr><td>IsHideBySig</td><td>True</td></tr><tr><td>IsSpecialName</td><td>False</td></tr><tr><td>IsStatic</td><td>False</td></tr><tr><td>IsVirtual</td><td>False</td></tr><tr><td>IsAssembly</td><td>True</td></tr><tr><td>IsFamily</td><td>False</td></tr><tr><td>IsFamilyAndAssembly</td><td>False</td></tr><tr><td>IsFamilyOrAssembly</td><td>False</td></tr><tr><td>IsPrivate</td><td>False</td></tr><tr><td>IsPublic</td><td>False</td></tr><tr><td>IsConstructedGenericMethod</td><td>False</td></tr><tr><td>CustomAttributes</td><td>[  ]</td></tr></tbody></table></div></details></td></tr></tbody></table></div></details></td></tr><tr><td>Parent</td><td><details class=\"dni-treeview\"><summary><span class=\"dni-code-hint\"><code>SubmitCode: var logger = new DisplayLogger(&quot;NotebookUpdater&quot;,  ...</code></span></summary><div><table><thead><tr></tr></thead><tbody><tr><td>Code</td><td><div class=\"dni-plaintext\"><pre>var logger = new DisplayLogger(&quot;NotebookUpdater&quot;, LogLevel.Information);\n",
       "\n",
       "display(&quot;Cr&#233;ation de l&#39;instance NotebookUpdater...&quot;);\n",
       "var updater = new NotebookUpdater(semanticKernel, notebookPath, logger);\n",
       "\n",
       "display(&quot;Appel &#224; UpdateNotebook...&quot;);\n",
       "var response = await updater.UpdateNotebook();\n",
       "\n",
       "display($&quot;R&#233;sultat de l&#39;ex&#233;cution du notebook :\\n{response}&quot;);\n",
       "</pre></div></td></tr><tr><td>Handler</td><td><details class=\"dni-treeview\"><summary><span class=\"dni-code-hint\"><code>Microsoft.DotNet.Interactive.KernelCommandInvocation</code></span></summary><div><table><thead><tr></tr></thead><tbody><tr><td>Target</td><td>Microsoft.DotNet.Interactive.Kernel+<>c__DisplayClass82_0`1[Microsoft.DotNet.Interactive.Commands.SubmitCode]</td></tr><tr><td>Method</td><td>System.Threading.Tasks.Task <SetHandler>b__0(Microsoft.DotNet.Interactive.Commands.KernelCommand, Microsoft.DotNet.Interactive.KernelInvocationContext)</td></tr></tbody></table></div></details></td></tr><tr><td>Parent</td><td><div class=\"dni-plaintext\"><pre>&lt;null&gt;</pre></div></td></tr><tr><td>TargetKernelName</td><td><div class=\"dni-plaintext\"><pre>csharp</pre></div></td></tr><tr><td>OriginUri</td><td><div class=\"dni-plaintext\"><pre>&lt;null&gt;</pre></div></td></tr><tr><td>DestinationUri</td><td><div class=\"dni-plaintext\"><pre>&lt;null&gt;</pre></div></td></tr><tr><td>KernelChooserParseResult</td><td><div class=\"dni-plaintext\"><pre>&lt;null&gt;</pre></div></td></tr><tr><td>RoutingSlip</td><td>[ kernel://pid-37992/ (arrived), kernel://pid-37992/csharp (arrived) ]</td></tr></tbody></table></div></details></td></tr><tr><td>TargetKernelName</td><td><div class=\"dni-plaintext\"><pre>csharp</pre></div></td></tr><tr><td>OriginUri</td><td><div class=\"dni-plaintext\"><pre>&lt;null&gt;</pre></div></td></tr><tr><td>DestinationUri</td><td><div class=\"dni-plaintext\"><pre>&lt;null&gt;</pre></div></td></tr><tr><td>KernelChooserParseResult</td><td><div class=\"dni-plaintext\"><pre>&lt;null&gt;</pre></div></td></tr><tr><td>RoutingSlip</td><td><div class=\"dni-plaintext\"><pre>[ kernel://local/.NET (arrived), kernel://local/csharp (arrived), kernel://local/csharp, kernel://local/.NET ]</pre></div></td></tr></tbody></table></div></details></td></tr><tr><td>RoutingSlip</td><td><div class=\"dni-plaintext\"><pre>[ kernel://local/csharp, kernel://pid-37992/ ]</pre></div></td></tr></tbody></table></div></details></td></tr><tr><td>3</td><td><span><a href=\"https://docs.microsoft.com/dotnet/api/microsoft.dotnet.interactive.events.commandsucceeded?view=net-7.0\">Microsoft.DotNet.Interactive.Events.CommandSucceeded</a></span></td><td><details class=\"dni-treeview\"><summary><span class=\"dni-code-hint\"><code>CommandSucceeded: SubmitCode: // Importation des espaces de noms utiles ...</code></span></summary><div><table><thead><tr></tr></thead><tbody><tr><td>ExecutionOrder</td><td><div class=\"dni-plaintext\"><pre>0</pre></div></td></tr><tr><td>Command</td><td><details class=\"dni-treeview\"><summary><span class=\"dni-code-hint\"><code>SubmitCode: // Importation des espaces de noms utiles ...</code></span></summary><div><table><thead><tr></tr></thead><tbody><tr><td>Code</td><td><div class=\"dni-plaintext\"><pre>// Importation des espaces de noms utiles\n",
       "using VDS.RDF;\n",
       "using VDS.RDF.Query;\n",
       "using XPlot.Plotly;</pre></div></td></tr><tr><td>Handler</td><td><details class=\"dni-treeview\"><summary><span class=\"dni-code-hint\"><code>Microsoft.DotNet.Interactive.KernelCommandInvocation</code></span></summary><div><table><thead><tr></tr></thead><tbody><tr><td>Target</td><td><details class=\"dni-treeview\"><summary><span class=\"dni-code-hint\"><code>Microsoft.DotNet.Interactive.Kernel+&lt;&gt;c__DisplayClass82_0`1[Microsoft.DotNet.Interactive.Commands.SubmitCode]</code></span></summary><div><table><thead><tr></tr></thead><tbody><tr><td>handler</td><td>Microsoft.DotNet.Interactive.CSharp.CSharpKernel: csharp (kernel://local/csharp)</td></tr><tr><td>command</td><td>SubmitCode: // Importation des espaces de noms utiles ...</td></tr></tbody></table></div></details></td></tr><tr><td>Method</td><td><details class=\"dni-treeview\"><summary><span class=\"dni-code-hint\"><code>System.Threading.Tasks.Task &lt;SetHandler&gt;b__0(Microsoft.DotNet.Interactive.Commands.KernelCommand, Microsoft.DotNet.Interactive.KernelInvocationContext)</code></span></summary><div><table><thead><tr></tr></thead><tbody><tr><td>Name</td><td><SetHandler>b__0</td></tr><tr><td>DeclaringType</td><td>Microsoft.DotNet.Interactive.Kernel+<>c__DisplayClass82_0`1[Microsoft.DotNet.Interactive.Commands.SubmitCode]</td></tr><tr><td>ReflectedType</td><td>Microsoft.DotNet.Interactive.Kernel+<>c__DisplayClass82_0`1[Microsoft.DotNet.Interactive.Commands.SubmitCode]</td></tr><tr><td>MemberType</td><td>Method</td></tr><tr><td>MetadataToken</td><td>100664828</td></tr><tr><td>Module</td><td>Microsoft.DotNet.Interactive.dll</td></tr><tr><td>IsSecurityCritical</td><td>True</td></tr><tr><td>IsSecuritySafeCritical</td><td>False</td></tr><tr><td>IsSecurityTransparent</td><td>False</td></tr><tr><td>MethodHandle</td><td>System.RuntimeMethodHandle</td></tr><tr><td>Attributes</td><td>Assembly, HideBySig</td></tr><tr><td>CallingConvention</td><td>Standard, HasThis</td></tr><tr><td>ReturnType</td><td>System.Threading.Tasks.Task</td></tr><tr><td>ReturnTypeCustomAttributes</td><td>System.Threading.Tasks.Task</td></tr><tr><td>ReturnParameter</td><td>System.Threading.Tasks.Task</td></tr><tr><td>IsCollectible</td><td>False</td></tr><tr><td>IsGenericMethod</td><td>False</td></tr><tr><td>IsGenericMethodDefinition</td><td>False</td></tr><tr><td>ContainsGenericParameters</td><td>False</td></tr><tr><td>MethodImplementationFlags</td><td>IL</td></tr><tr><td>IsAbstract</td><td>False</td></tr><tr><td>IsConstructor</td><td>False</td></tr><tr><td>IsFinal</td><td>False</td></tr><tr><td>IsHideBySig</td><td>True</td></tr><tr><td>IsSpecialName</td><td>False</td></tr><tr><td>IsStatic</td><td>False</td></tr><tr><td>IsVirtual</td><td>False</td></tr><tr><td>IsAssembly</td><td>True</td></tr><tr><td>IsFamily</td><td>False</td></tr><tr><td>IsFamilyAndAssembly</td><td>False</td></tr><tr><td>IsFamilyOrAssembly</td><td>False</td></tr><tr><td>IsPrivate</td><td>False</td></tr><tr><td>IsPublic</td><td>False</td></tr><tr><td>IsConstructedGenericMethod</td><td>False</td></tr><tr><td>CustomAttributes</td><td>[  ]</td></tr></tbody></table></div></details></td></tr></tbody></table></div></details></td></tr><tr><td>Parent</td><td><details class=\"dni-treeview\"><summary><span class=\"dni-code-hint\"><code>SubmitCode: var logger = new DisplayLogger(&quot;NotebookUpdater&quot;,  ...</code></span></summary><div><table><thead><tr></tr></thead><tbody><tr><td>Code</td><td><div class=\"dni-plaintext\"><pre>var logger = new DisplayLogger(&quot;NotebookUpdater&quot;, LogLevel.Information);\n",
       "\n",
       "display(&quot;Cr&#233;ation de l&#39;instance NotebookUpdater...&quot;);\n",
       "var updater = new NotebookUpdater(semanticKernel, notebookPath, logger);\n",
       "\n",
       "display(&quot;Appel &#224; UpdateNotebook...&quot;);\n",
       "var response = await updater.UpdateNotebook();\n",
       "\n",
       "display($&quot;R&#233;sultat de l&#39;ex&#233;cution du notebook :\\n{response}&quot;);\n",
       "</pre></div></td></tr><tr><td>Handler</td><td><details class=\"dni-treeview\"><summary><span class=\"dni-code-hint\"><code>Microsoft.DotNet.Interactive.KernelCommandInvocation</code></span></summary><div><table><thead><tr></tr></thead><tbody><tr><td>Target</td><td>Microsoft.DotNet.Interactive.Kernel+<>c__DisplayClass82_0`1[Microsoft.DotNet.Interactive.Commands.SubmitCode]</td></tr><tr><td>Method</td><td>System.Threading.Tasks.Task <SetHandler>b__0(Microsoft.DotNet.Interactive.Commands.KernelCommand, Microsoft.DotNet.Interactive.KernelInvocationContext)</td></tr></tbody></table></div></details></td></tr><tr><td>Parent</td><td><div class=\"dni-plaintext\"><pre>&lt;null&gt;</pre></div></td></tr><tr><td>TargetKernelName</td><td><div class=\"dni-plaintext\"><pre>csharp</pre></div></td></tr><tr><td>OriginUri</td><td><div class=\"dni-plaintext\"><pre>&lt;null&gt;</pre></div></td></tr><tr><td>DestinationUri</td><td><div class=\"dni-plaintext\"><pre>&lt;null&gt;</pre></div></td></tr><tr><td>KernelChooserParseResult</td><td><div class=\"dni-plaintext\"><pre>&lt;null&gt;</pre></div></td></tr><tr><td>RoutingSlip</td><td>[ kernel://pid-37992/ (arrived), kernel://pid-37992/csharp (arrived) ]</td></tr></tbody></table></div></details></td></tr><tr><td>TargetKernelName</td><td><div class=\"dni-plaintext\"><pre>csharp</pre></div></td></tr><tr><td>OriginUri</td><td><div class=\"dni-plaintext\"><pre>&lt;null&gt;</pre></div></td></tr><tr><td>DestinationUri</td><td><div class=\"dni-plaintext\"><pre>&lt;null&gt;</pre></div></td></tr><tr><td>KernelChooserParseResult</td><td><div class=\"dni-plaintext\"><pre>&lt;null&gt;</pre></div></td></tr><tr><td>RoutingSlip</td><td><div class=\"dni-plaintext\"><pre>[ kernel://local/.NET (arrived), kernel://local/csharp (arrived), kernel://local/csharp, kernel://local/.NET ]</pre></div></td></tr></tbody></table></div></details></td></tr><tr><td>RoutingSlip</td><td><div class=\"dni-plaintext\"><pre>[ kernel://local/csharp ]</pre></div></td></tr></tbody></table></div></details></td></tr></tbody></table></td></tr></tbody></table></div></details><style>\r\n",
       ".dni-code-hint {\r\n",
       "    font-style: italic;\r\n",
       "    overflow: hidden;\r\n",
       "    white-space: nowrap;\r\n",
       "}\r\n",
       ".dni-treeview {\r\n",
       "    white-space: nowrap;\r\n",
       "}\r\n",
       ".dni-treeview td {\r\n",
       "    vertical-align: top;\r\n",
       "    text-align: start;\r\n",
       "}\r\n",
       "details.dni-treeview {\r\n",
       "    padding-left: 1em;\r\n",
       "}\r\n",
       "table td {\r\n",
       "    text-align: start;\r\n",
       "}\r\n",
       "table tr { \r\n",
       "    vertical-align: top; \r\n",
       "    margin: 0em 0px;\r\n",
       "}\r\n",
       "table tr td pre \r\n",
       "{ \r\n",
       "    vertical-align: top !important; \r\n",
       "    margin: 0em 0px !important;\r\n",
       "} \r\n",
       "table th {\r\n",
       "    text-align: start;\r\n",
       "}\r\n",
       "</style>"
      ]
     },
     "metadata": {},
     "output_type": "display_data"
    },
    {
     "data": {
      "text/plain": [
       "Affichage du markdown: \n",
       "## Initialisation\n"
      ]
     },
     "metadata": {},
     "output_type": "display_data"
    },
    {
     "data": {
      "text/markdown": [
       "## Initialisation\n"
      ]
     },
     "metadata": {},
     "output_type": "display_data"
    },
    {
     "data": {
      "text/plain": [
       "Envoi du code au kernel csharp:\n",
       "// Création des objets nécessaire à la tâche demandée\n",
       "SparqlRemoteEndpoint endpoint = new SparqlRemoteEndpoint(new Uri(\"https://dbpedia.org/sparql\"));\n",
       "// Exemple de requête SPARQL\n",
       "string query = \"SELECT ?label WHERE { <http://dbpedia.org/resource/Asturias> rdfs:label ?label }\";\n",
       "// Execution de la requête\n",
       "SparqlResultSet results = endpoint.QueryWithResultSet(query);"
      ]
     },
     "metadata": {},
     "output_type": "display_data"
    },
    {
     "data": {
      "text/html": [
       "<details open=\"open\" class=\"dni-treeview\"><summary><span class=\"dni-code-hint\"><code>Microsoft.DotNet.Interactive.KernelCommandResult</code></span></summary><div><table><thead><tr></tr></thead><tbody><tr><td>Command</td><td><details class=\"dni-treeview\"><summary><span class=\"dni-code-hint\"><code>SubmitCode: // Cr&#233;ation des objets n&#233;cessaire &#224; la t&#226;che deman ...</code></span></summary><div><table><thead><tr></tr></thead><tbody><tr><td>Code</td><td><div class=\"dni-plaintext\"><pre>// Cr&#233;ation des objets n&#233;cessaire &#224; la t&#226;che demand&#233;e\n",
       "SparqlRemoteEndpoint endpoint = new SparqlRemoteEndpoint(new Uri(&quot;https://dbpedia.org/sparql&quot;));\n",
       "// Exemple de requ&#234;te SPARQL\n",
       "string query = &quot;SELECT ?label WHERE { &lt;http://dbpedia.org/resource/Asturias&gt; rdfs:label ?label }&quot;;\n",
       "// Execution de la requ&#234;te\n",
       "SparqlResultSet results = endpoint.QueryWithResultSet(query);</pre></div></td></tr><tr><td>Handler</td><td><details class=\"dni-treeview\"><summary><span class=\"dni-code-hint\"><code>Microsoft.DotNet.Interactive.KernelCommandInvocation</code></span></summary><div><table><thead><tr></tr></thead><tbody><tr><td>Target</td><td><details class=\"dni-treeview\"><summary><span class=\"dni-code-hint\"><code>Microsoft.DotNet.Interactive.Kernel+&lt;&gt;c__DisplayClass82_0`1[Microsoft.DotNet.Interactive.Commands.SubmitCode]</code></span></summary><div><table><thead><tr></tr></thead><tbody><tr><td>handler</td><td><details class=\"dni-treeview\"><summary><span class=\"dni-code-hint\"><code>Microsoft.DotNet.Interactive.CSharp.CSharpKernel: csharp (kernel://local/csharp)</code></span></summary><div><table><thead><tr></tr></thead><tbody><tr><td>ScriptState</td><td><details class=\"dni-treeview\"><summary><span class=\"dni-code-hint\"><code>Microsoft.CodeAnalysis.Scripting.ScriptState`1[System.Object]</code></span></summary><div><table><thead><tr></tr></thead><tbody><tr><td>ReturnValue</td><td>Microsoft.CodeAnalysis.Scripting.ScriptState`1[System.Object]</td></tr><tr><td>Script</td><td>Microsoft.CodeAnalysis.Scripting.Script`1[System.Object]</td></tr><tr><td>Exception</td><td><div class=\"dni-plaintext\"><pre>&lt;null&gt;</pre></div></td></tr><tr><td>ReturnValue</td><td>Microsoft.CodeAnalysis.Scripting.ScriptState`1[System.Object]</td></tr><tr><td>Variables</td><td>[ Microsoft.CodeAnalysis.Scripting.ScriptVariable, Microsoft.CodeAnalysis.Scripting.ScriptVariable, Microsoft.CodeAnalysis.Scripting.ScriptVariable, Microsoft.CodeAnalysis.Scripting.ScriptVariable, Microsoft.CodeAnalysis.Scripting.ScriptVariable, Microsoft.CodeAnalysis.Scripting.ScriptVariable ]</td></tr></tbody></table></div></details></td></tr><tr><td>ParentKernel</td><td><details class=\"dni-treeview\"><summary><span class=\"dni-code-hint\"><code>[ Microsoft.DotNet.Interactive.CSharp.CSharpKernel: csharp (kernel://local/csharp) ]</code></span></summary><div><table><thead><tr></tr></thead><tbody><tr><td>DefaultKernelName</td><td>csharp</td></tr><tr><td>ChildKernels</td><td>[ Microsoft.DotNet.Interactive.CSharp.CSharpKernel: csharp (kernel://local/csharp) ]</td></tr><tr><td>Host</td><td><div class=\"dni-plaintext\"><pre>&lt;null&gt;</pre></div></td></tr><tr><td>ParentKernel</td><td><div class=\"dni-plaintext\"><pre>&lt;null&gt;</pre></div></td></tr><tr><td>RootKernel</td><td>[ Microsoft.DotNet.Interactive.CSharp.CSharpKernel: csharp (kernel://local/csharp) ]</td></tr><tr><td>SubmissionCount</td><td>0</td></tr><tr><td>SubmissionParser</td><td>Microsoft.DotNet.Interactive.Parsing.SubmissionParser</td></tr><tr><td>FrontendEnvironment</td><td>Microsoft.DotNet.Interactive.AutomationEnvironment</td></tr><tr><td>KernelEvents</td><td>System.Reactive.Subjects.Subject`1[Microsoft.DotNet.Interactive.Events.KernelEvent]</td></tr><tr><td>Name</td><td>.NET</td></tr><tr><td>KernelInfo</td><td>.NET (kernel://local/.NET)</td></tr><tr><td>Directives</td><td>[ [  ] ]</td></tr><tr><td>ChooseKernelDirective</td><td>[  ]</td></tr><tr><td><i>(values)</i></td><td><table><thead><tr><th><i>index</i></th><th>value</th></tr></thead><tbody><tr><td>0</td><td>Microsoft.DotNet.Interactive.CSharp.CSharpKernel: csharp (kernel://local/csharp)</td></tr></tbody></table></td></tr></tbody></table></div></details></td></tr><tr><td>RootKernel</td><td><details class=\"dni-treeview\"><summary><span class=\"dni-code-hint\"><code>[ Microsoft.DotNet.Interactive.CSharp.CSharpKernel: csharp (kernel://local/csharp) ]</code></span></summary><div><table><thead><tr></tr></thead><tbody><tr><td>DefaultKernelName</td><td>csharp</td></tr><tr><td>ChildKernels</td><td>[ Microsoft.DotNet.Interactive.CSharp.CSharpKernel: csharp (kernel://local/csharp) ]</td></tr><tr><td>Host</td><td><div class=\"dni-plaintext\"><pre>&lt;null&gt;</pre></div></td></tr><tr><td>ParentKernel</td><td><div class=\"dni-plaintext\"><pre>&lt;null&gt;</pre></div></td></tr><tr><td>RootKernel</td><td>[ Microsoft.DotNet.Interactive.CSharp.CSharpKernel: csharp (kernel://local/csharp) ]</td></tr><tr><td>SubmissionCount</td><td>0</td></tr><tr><td>SubmissionParser</td><td>Microsoft.DotNet.Interactive.Parsing.SubmissionParser</td></tr><tr><td>FrontendEnvironment</td><td>Microsoft.DotNet.Interactive.AutomationEnvironment</td></tr><tr><td>KernelEvents</td><td>System.Reactive.Subjects.Subject`1[Microsoft.DotNet.Interactive.Events.KernelEvent]</td></tr><tr><td>Name</td><td>.NET</td></tr><tr><td>KernelInfo</td><td>.NET (kernel://local/.NET)</td></tr><tr><td>Directives</td><td>[ [  ] ]</td></tr><tr><td>ChooseKernelDirective</td><td>[  ]</td></tr><tr><td><i>(values)</i></td><td><table><thead><tr><th><i>index</i></th><th>value</th></tr></thead><tbody><tr><td>0</td><td>Microsoft.DotNet.Interactive.CSharp.CSharpKernel: csharp (kernel://local/csharp)</td></tr></tbody></table></td></tr></tbody></table></div></details></td></tr><tr><td>SubmissionCount</td><td><div class=\"dni-plaintext\"><pre>0</pre></div></td></tr><tr><td>SubmissionParser</td><td><details class=\"dni-treeview\"><summary><span class=\"dni-code-hint\"><code>Microsoft.DotNet.Interactive.Parsing.SubmissionParser</code></span></summary><div><table><thead><tr></tr></thead><tbody><tr><td>Directives</td><td>[ [  ], [  ], [ Option`1: from, Option`1: mime-type, Option`1: as, Argument: name ], [ Option`1: name, Option`1: value, Option`1: mime-type, Option`1: byref ], [ Argument: source ], [ Argument: package ], [  ] ]</td></tr></tbody></table></div></details></td></tr><tr><td>FrontendEnvironment</td><td><details class=\"dni-treeview\"><summary><span class=\"dni-code-hint\"><code>Microsoft.DotNet.Interactive.AutomationEnvironment</code></span></summary><div><table><thead><tr></tr></thead><tbody></tbody></table></div></details></td></tr><tr><td>KernelEvents</td><td><details class=\"dni-treeview\"><summary><span class=\"dni-code-hint\"><code>System.Reactive.Subjects.Subject`1[Microsoft.DotNet.Interactive.Events.KernelEvent]</code></span></summary><div><table><thead><tr></tr></thead><tbody><tr><td>HasObservers</td><td>True</td></tr><tr><td>IsDisposed</td><td>False</td></tr></tbody></table></div></details></td></tr><tr><td>Name</td><td><div class=\"dni-plaintext\"><pre>csharp</pre></div></td></tr><tr><td>KernelInfo</td><td><details class=\"dni-treeview\"><summary><span class=\"dni-code-hint\"><code>csharp (kernel://local/csharp)</code></span></summary><div><table><thead><tr></tr></thead><tbody><tr><td>Aliases</td><td>[  ]</td></tr><tr><td>LanguageName</td><td>C#</td></tr><tr><td>LanguageVersion</td><td>12.0</td></tr><tr><td>IsProxy</td><td>False</td></tr><tr><td>IsComposite</td><td>False</td></tr><tr><td>DisplayName</td><td>csharp - C# Script</td></tr><tr><td>LocalName</td><td>csharp</td></tr><tr><td>Uri</td><td>kernel://local/csharp</td></tr><tr><td>RemoteUri</td><td><div class=\"dni-plaintext\"><pre>&lt;null&gt;</pre></div></td></tr><tr><td>Description</td><td>This Kernel can compile and execute C# code and display the results.\r\n",
       "The language is C# Scripting, a dialect of C# that is used for interactive programming.\r\n",
       "\r\n",
       "Can load packages from nuget.org or any other nuget feed.</td></tr><tr><td>SupportedKernelCommands</td><td>[ KernelCommandInfo { Name = RequestKernelInfo }, KernelCommandInfo { Name = RequestCompletions }, KernelCommandInfo { Name = RequestDiagnostics }, KernelCommandInfo { Name = RequestHoverText }, KernelCommandInfo { Name = RequestSignatureHelp }, KernelCommandInfo { Name = RequestValue }, KernelCommandInfo { Name = RequestValueInfos }, KernelCommandInfo { Name = SendValue }, KernelCommandInfo { Name = SubmitCode } ]</td></tr><tr><td>SupportedDirectives</td><td>[ KernelDirectiveInfo { Name = #!who }, KernelDirectiveInfo { Name = #!whos }, KernelDirectiveInfo { Name = #!share }, KernelDirectiveInfo { Name = #!set }, KernelDirectiveInfo { Name = #i }, KernelDirectiveInfo { Name = #r }, KernelDirectiveInfo { Name = #!nuget-restore } ]</td></tr></tbody></table></div></details></td></tr><tr><td>Directives</td><td><table><thead><tr><th><i>index</i></th><th>value</th></tr></thead><tbody><tr><td>0</td><td></td></tr><tr><td>1</td><td></td></tr><tr><td>2</td><td>[ Option`1: from, Option`1: mime-type, Option`1: as, Argument: name ]</td></tr><tr><td>3</td><td>[ Option`1: name, Option`1: value, Option`1: mime-type, Option`1: byref ]</td></tr><tr><td>4</td><td>[ Argument: source ]</td></tr><tr><td>5</td><td>[ Argument: package ]</td></tr><tr><td>6</td><td></td></tr></tbody></table></td></tr><tr><td>ChooseKernelDirective</td><td><details class=\"dni-treeview\"><summary><span class=\"dni-code-hint\"><code>[  ]</code></span></summary><div><table><thead><tr></tr></thead><tbody><tr><td>Kernel</td><td>Microsoft.DotNet.Interactive.CSharp.CSharpKernel: csharp (kernel://local/csharp)</td></tr><tr><td>Children</td><td>[  ]</td></tr><tr><td>Arguments</td><td>[  ]</td></tr><tr><td>Options</td><td>[  ]</td></tr><tr><td>Subcommands</td><td>[  ]</td></tr><tr><td>TreatUnmatchedTokensAsErrors</td><td>True</td></tr><tr><td>Handler</td><td>System.CommandLine.NamingConventionBinder.ModelBindingCommandHandler</td></tr><tr><td>Aliases</td><td>[ #!csharp ]</td></tr><tr><td>Name</td><td>#!csharp</td></tr><tr><td>Description</td><td>Run the code that follows using the csharp kernel.</td></tr><tr><td>IsHidden</td><td>False</td></tr><tr><td>Parents</td><td>[ [ [  ], HelpOption: help ] ]</td></tr><tr><td><i>(values)</i></td><td><i>(empty)</i></td></tr></tbody></table></div></details></td></tr></tbody></table></div></details></td></tr><tr><td>command</td><td><details class=\"dni-treeview\"><summary><span class=\"dni-code-hint\"><code>SubmitCode: // Cr&#233;ation des objets n&#233;cessaire &#224; la t&#226;che deman ...</code></span></summary><div><table><thead><tr></tr></thead><tbody><tr><td>Code</td><td><div class=\"dni-plaintext\"><pre>// Cr&#233;ation des objets n&#233;cessaire &#224; la t&#226;che demand&#233;e\n",
       "SparqlRemoteEndpoint endpoint = new SparqlRemoteEndpoint(new Uri(&quot;https://dbpedia.org/sparql&quot;));\n",
       "// Exemple de requ&#234;te SPARQL\n",
       "string query = &quot;SELECT ?label WHERE { &lt;http://dbpedia.org/resource/Asturias&gt; rdfs:label ?label }&quot;;\n",
       "// Execution de la requ&#234;te\n",
       "SparqlResultSet results = endpoint.QueryWithResultSet(query);</pre></div></td></tr><tr><td>Handler</td><td><details class=\"dni-treeview\"><summary><span class=\"dni-code-hint\"><code>Microsoft.DotNet.Interactive.KernelCommandInvocation</code></span></summary><div><table><thead><tr></tr></thead><tbody><tr><td>Target</td><td>Microsoft.DotNet.Interactive.Kernel+<>c__DisplayClass82_0`1[Microsoft.DotNet.Interactive.Commands.SubmitCode]</td></tr><tr><td>Method</td><td>System.Threading.Tasks.Task <SetHandler>b__0(Microsoft.DotNet.Interactive.Commands.KernelCommand, Microsoft.DotNet.Interactive.KernelInvocationContext)</td></tr></tbody></table></div></details></td></tr><tr><td>Parent</td><td><details class=\"dni-treeview\"><summary><span class=\"dni-code-hint\"><code>SubmitCode: var logger = new DisplayLogger(&quot;NotebookUpdater&quot;,  ...</code></span></summary><div><table><thead><tr></tr></thead><tbody><tr><td>Code</td><td>var logger = new DisplayLogger(\"NotebookUpdater\", LogLevel.Information);\n",
       "\n",
       "display(\"Création de l'instance NotebookUpdater...\");\n",
       "var updater = new NotebookUpdater(semanticKernel, notebookPath, logger);\n",
       "\n",
       "display(\"Appel à UpdateNotebook...\");\n",
       "var response = await updater.UpdateNotebook();\n",
       "\n",
       "display($\"Résultat de l'exécution du notebook :\\n{response}\");\n",
       "</td></tr><tr><td>Handler</td><td>Microsoft.DotNet.Interactive.KernelCommandInvocation</td></tr><tr><td>Parent</td><td><div class=\"dni-plaintext\"><pre>&lt;null&gt;</pre></div></td></tr><tr><td>TargetKernelName</td><td>csharp</td></tr><tr><td>OriginUri</td><td><div class=\"dni-plaintext\"><pre>&lt;null&gt;</pre></div></td></tr><tr><td>DestinationUri</td><td><div class=\"dni-plaintext\"><pre>&lt;null&gt;</pre></div></td></tr><tr><td>KernelChooserParseResult</td><td><div class=\"dni-plaintext\"><pre>&lt;null&gt;</pre></div></td></tr><tr><td>RoutingSlip</td><td>[kernel://pid-37992/ (arrived), kernel://pid-37992/csharp (arrived)]</td></tr></tbody></table></div></details></td></tr><tr><td>TargetKernelName</td><td><div class=\"dni-plaintext\"><pre>csharp</pre></div></td></tr><tr><td>OriginUri</td><td><div class=\"dni-plaintext\"><pre>&lt;null&gt;</pre></div></td></tr><tr><td>DestinationUri</td><td><div class=\"dni-plaintext\"><pre>&lt;null&gt;</pre></div></td></tr><tr><td>KernelChooserParseResult</td><td><div class=\"dni-plaintext\"><pre>&lt;null&gt;</pre></div></td></tr><tr><td>RoutingSlip</td><td>[ kernel://local/.NET (arrived), kernel://local/csharp (arrived), kernel://local/csharp, kernel://local/.NET ]</td></tr></tbody></table></div></details></td></tr></tbody></table></div></details></td></tr><tr><td>Method</td><td><details class=\"dni-treeview\"><summary><span class=\"dni-code-hint\"><code>System.Threading.Tasks.Task &lt;SetHandler&gt;b__0(Microsoft.DotNet.Interactive.Commands.KernelCommand, Microsoft.DotNet.Interactive.KernelInvocationContext)</code></span></summary><div><table><thead><tr></tr></thead><tbody><tr><td>Name</td><td><div class=\"dni-plaintext\"><pre>&lt;SetHandler&gt;b__0</pre></div></td></tr><tr><td>DeclaringType</td><td><span><a href=\"https://docs.microsoft.com/dotnet/api/microsoft.dotnet.interactive.kernel.&lt;>c__displayclass82_0-1?view=net-7.0\">Microsoft.DotNet.Interactive.Kernel+&lt;&gt;c__DisplayClass82_0&lt;Microsoft.DotNet.Interactive.Commands.SubmitCode&gt;</a></span></td></tr><tr><td>ReflectedType</td><td><span><a href=\"https://docs.microsoft.com/dotnet/api/microsoft.dotnet.interactive.kernel.&lt;>c__displayclass82_0-1?view=net-7.0\">Microsoft.DotNet.Interactive.Kernel+&lt;&gt;c__DisplayClass82_0&lt;Microsoft.DotNet.Interactive.Commands.SubmitCode&gt;</a></span></td></tr><tr><td>MemberType</td><td><span>Method</span></td></tr><tr><td>MetadataToken</td><td><div class=\"dni-plaintext\"><pre>100664828</pre></div></td></tr><tr><td>Module</td><td><details class=\"dni-treeview\"><summary><span class=\"dni-code-hint\"><code>Microsoft.DotNet.Interactive.dll</code></span></summary><div><table><thead><tr></tr></thead><tbody><tr><td>MDStreamVersion</td><td><div class=\"dni-plaintext\"><pre>131072</pre></div></td></tr><tr><td>FullyQualifiedName</td><td><div class=\"dni-plaintext\"><pre>C:\\Users\\Administrateur.000\\.nuget\\packages\\microsoft.dotnet-interactive\\1.0.522904\\tools\\net8.0\\any\\Microsoft.DotNet.Interactive.dll</pre></div></td></tr><tr><td>ModuleVersionId</td><td><div class=\"dni-plaintext\"><pre>ee6aec0a-8e1f-4e4c-97e3-57418e1dc7e0</pre></div></td></tr><tr><td>MetadataToken</td><td><div class=\"dni-plaintext\"><pre>1</pre></div></td></tr><tr><td>ScopeName</td><td><div class=\"dni-plaintext\"><pre>Microsoft.DotNet.Interactive.dll</pre></div></td></tr><tr><td>Name</td><td><div class=\"dni-plaintext\"><pre>Microsoft.DotNet.Interactive.dll</pre></div></td></tr><tr><td>Assembly</td><td><details class=\"dni-treeview\"><summary><span class=\"dni-code-hint\"><code>Microsoft.DotNet.Interactive, Version=1.0.0.0, Culture=neutral, PublicKeyToken=31bf3856ad364e35</code></span></summary><div><table><thead><tr></tr></thead><tbody><tr><td>CodeBase</td><td>file:///C:/Users/Administrateur.000/.nuget/packages/microsoft.dotnet-interactive/1.0.522904/tools/net8.0/any/Microsoft.DotNet.Interactive.dll</td></tr><tr><td>FullName</td><td>Microsoft.DotNet.Interactive, Version=1.0.0.0, Culture=neutral, PublicKeyToken=31bf3856ad364e35</td></tr><tr><td>EntryPoint</td><td><div class=\"dni-plaintext\"><pre>&lt;null&gt;</pre></div></td></tr><tr><td>DefinedTypes</td><td>[ <>f__AnonymousType0`2[<Command>j__TPar,<ValueInfos>j__TPar], System.DisplayExtensions, System.Runtime.CompilerServices.IsExternalInit, Microsoft.DotNet.Interactive.AutomationEnvironment, Microsoft.DotNet.Interactive.Base64EncodedAssembly, Microsoft.DotNet.Interactive.ChooseKernelDirective, Microsoft.DotNet.Interactive.ChooseKeyValueStoreKernelDirective, Microsoft.DotNet.Interactive.CodeSubmissionCompilationErrorException, Microsoft.DotNet.Interactive.CommandNotSupportedException, Microsoft.DotNet.Interactive.CommandRoutingSlip, Microsoft.DotNet.Interactive.CompositeKernel, Microsoft.DotNet.Interactive.DataDictionaryConverter, Microsoft.DotNet.Interactive.DataExplorer, Microsoft.DotNet.Interactive.DataExplorerFormatterSource, Microsoft.DotNet.Interactive.DataExplorer`1[TData], Microsoft.DotNet.Interactive.Diagnostic, Microsoft.DotNet.Interactive.DisplayedValue, Microsoft.DotNet.Interactive.EventRoutingSlip, Microsoft.DotNet.Interactive.FormattedValue, Microsoft.DotNet.Interactive.FrontendEnvironment ... (457 more) ]</td></tr><tr><td>IsCollectible</td><td>False</td></tr><tr><td>ManifestModule</td><td>Microsoft.DotNet.Interactive.dll</td></tr><tr><td>ReflectionOnly</td><td>False</td></tr><tr><td>Location</td><td>C:\\Users\\Administrateur.000\\.nuget\\packages\\microsoft.dotnet-interactive\\1.0.522904\\tools\\net8.0\\any\\Microsoft.DotNet.Interactive.dll</td></tr><tr><td>ImageRuntimeVersion</td><td>v4.0.30319</td></tr><tr><td>GlobalAssemblyCache</td><td>False</td></tr><tr><td>HostContext</td><td>0</td></tr><tr><td>IsDynamic</td><td>False</td></tr><tr><td>ExportedTypes</td><td>[ System.DisplayExtensions, Microsoft.DotNet.Interactive.AutomationEnvironment, Microsoft.DotNet.Interactive.Base64EncodedAssembly, Microsoft.DotNet.Interactive.ChooseKernelDirective, Microsoft.DotNet.Interactive.ChooseKeyValueStoreKernelDirective, Microsoft.DotNet.Interactive.CodeSubmissionCompilationErrorException, Microsoft.DotNet.Interactive.CommandNotSupportedException, Microsoft.DotNet.Interactive.CommandRoutingSlip, Microsoft.DotNet.Interactive.CompositeKernel, Microsoft.DotNet.Interactive.DataDictionaryConverter, Microsoft.DotNet.Interactive.DataExplorer, Microsoft.DotNet.Interactive.DataExplorer`1[TData], Microsoft.DotNet.Interactive.Diagnostic, Microsoft.DotNet.Interactive.DisplayedValue, Microsoft.DotNet.Interactive.EventRoutingSlip, Microsoft.DotNet.Interactive.FormattedValue, Microsoft.DotNet.Interactive.FrontendEnvironment, Microsoft.DotNet.Interactive.HtmlKernel, Microsoft.DotNet.Interactive.IKernelCommandHandler`1[TCommand], Microsoft.DotNet.Interactive.IKernelExtension ... (139 more) ]</td></tr><tr><td>IsFullyTrusted</td><td>True</td></tr><tr><td>CustomAttributes</td><td>[ [System.Runtime.CompilerServices.ExtensionAttribute()], [System.Runtime.CompilerServices.CompilationRelaxationsAttribute((Int32)8)], [System.Runtime.CompilerServices.RuntimeCompatibilityAttribute(WrapNonExceptionThrows = True)], [System.Diagnostics.DebuggableAttribute((System.Diagnostics.DebuggableAttribute+DebuggingModes)2)], [System.Runtime.Versioning.TargetFrameworkAttribute(\".NETCoreApp,Version=v8.0\", FrameworkDisplayName = \".NET 8.0\")], [System.Reflection.AssemblyCompanyAttribute(\"Microsoft Corporation\")], [System.Reflection.AssemblyConfigurationAttribute(\"Release\")], [System.Reflection.AssemblyCopyrightAttribute(\"© Microsoft Corporation. All rights reserved.\")], [System.Reflection.AssemblyFileVersionAttribute(\"1.0.24.22904\")], [System.Reflection.AssemblyInformationalVersionAttribute(\"1.0.0-beta.24229.4+cdfa48b2ea1a27dfe0f545c42a34fd3ec7119074\")], [System.Reflection.AssemblyProductAttribute(\"Microsoft.DotNet.Interactive\")], [System.Reflection.AssemblyTitleAttribute(\"Microsoft.DotNet.Interactive\")], [System.Reflection.AssemblyMetadataAttribute(\"RepositoryUrl\", \"https://github.com/dotnet/interactive\")], [System.Resources.NeutralResourcesLanguageAttribute(\"en-US\")] ]</td></tr><tr><td>EscapedCodeBase</td><td>file:///C:/Users/Administrateur.000/.nuget/packages/microsoft.dotnet-interactive/1.0.522904/tools/net8.0/any/Microsoft.DotNet.Interactive.dll</td></tr><tr><td>Modules</td><td>[ Microsoft.DotNet.Interactive.dll ]</td></tr><tr><td>SecurityRuleSet</td><td>None</td></tr></tbody></table></div></details></td></tr><tr><td>ModuleHandle</td><td><details class=\"dni-treeview\"><summary><span class=\"dni-code-hint\"><code>System.ModuleHandle</code></span></summary><div><table><thead><tr></tr></thead><tbody><tr><td>MDStreamVersion</td><td>131072</td></tr></tbody></table></div></details></td></tr><tr><td>CustomAttributes</td><td><table><thead><tr><th><i>index</i></th><th>value</th></tr></thead><tbody><tr><td>0</td><td>[System.Runtime.CompilerServices.RefSafetyRulesAttribute((Int32)11)]</td></tr></tbody></table></td></tr></tbody></table></div></details></td></tr><tr><td>IsSecurityCritical</td><td><div class=\"dni-plaintext\"><pre>True</pre></div></td></tr><tr><td>IsSecuritySafeCritical</td><td><div class=\"dni-plaintext\"><pre>False</pre></div></td></tr><tr><td>IsSecurityTransparent</td><td><div class=\"dni-plaintext\"><pre>False</pre></div></td></tr><tr><td>MethodHandle</td><td><details class=\"dni-treeview\"><summary><span class=\"dni-code-hint\"><code>System.RuntimeMethodHandle</code></span></summary><div><table><thead><tr></tr></thead><tbody><tr><td>Value</td><td><div class=\"dni-plaintext\"><pre>140731641892472</pre></div></td></tr></tbody></table></div></details></td></tr><tr><td>Attributes</td><td><span>Assembly, HideBySig</span></td></tr><tr><td>CallingConvention</td><td><span>Standard, HasThis</span></td></tr><tr><td>ReturnType</td><td><span><a href=\"https://docs.microsoft.com/dotnet/api/system.threading.tasks.task?view=net-7.0\">System.Threading.Tasks.Task</a></span></td></tr><tr><td>ReturnTypeCustomAttributes</td><td><details class=\"dni-treeview\"><summary><span class=\"dni-code-hint\"><code>System.Threading.Tasks.Task</code></span></summary><div><table><thead><tr></tr></thead><tbody><tr><td>ParameterType</td><td><span><a href=\"https://docs.microsoft.com/dotnet/api/system.threading.tasks.task?view=net-7.0\">System.Threading.Tasks.Task</a></span></td></tr><tr><td>Name</td><td><div class=\"dni-plaintext\"><pre>&lt;null&gt;</pre></div></td></tr><tr><td>HasDefaultValue</td><td><div class=\"dni-plaintext\"><pre>False</pre></div></td></tr><tr><td>DefaultValue</td><td><details class=\"dni-treeview\"><summary><span class=\"dni-code-hint\"><code></code></span></summary><div><table><thead><tr></tr></thead><tbody></tbody></table></div></details></td></tr><tr><td>RawDefaultValue</td><td><details class=\"dni-treeview\"><summary><span class=\"dni-code-hint\"><code></code></span></summary><div><table><thead><tr></tr></thead><tbody></tbody></table></div></details></td></tr><tr><td>MetadataToken</td><td><div class=\"dni-plaintext\"><pre>134217728</pre></div></td></tr><tr><td>Attributes</td><td><span>None</span></td></tr><tr><td>Member</td><td><details class=\"dni-treeview\"><summary><span class=\"dni-code-hint\"><code>System.Threading.Tasks.Task &lt;SetHandler&gt;b__0(Microsoft.DotNet.Interactive.Commands.KernelCommand, Microsoft.DotNet.Interactive.KernelInvocationContext)</code></span></summary><div><table><thead><tr></tr></thead><tbody><tr><td>Name</td><td><SetHandler>b__0</td></tr><tr><td>DeclaringType</td><td>Microsoft.DotNet.Interactive.Kernel+<>c__DisplayClass82_0`1[Microsoft.DotNet.Interactive.Commands.SubmitCode]</td></tr><tr><td>ReflectedType</td><td>Microsoft.DotNet.Interactive.Kernel+<>c__DisplayClass82_0`1[Microsoft.DotNet.Interactive.Commands.SubmitCode]</td></tr><tr><td>MemberType</td><td>Method</td></tr><tr><td>MetadataToken</td><td>100664828</td></tr><tr><td>Module</td><td>Microsoft.DotNet.Interactive.dll</td></tr><tr><td>IsSecurityCritical</td><td>True</td></tr><tr><td>IsSecuritySafeCritical</td><td>False</td></tr><tr><td>IsSecurityTransparent</td><td>False</td></tr><tr><td>MethodHandle</td><td>System.RuntimeMethodHandle</td></tr><tr><td>Attributes</td><td>Assembly, HideBySig</td></tr><tr><td>CallingConvention</td><td>Standard, HasThis</td></tr><tr><td>ReturnType</td><td>System.Threading.Tasks.Task</td></tr><tr><td>ReturnTypeCustomAttributes</td><td>System.Threading.Tasks.Task</td></tr><tr><td>ReturnParameter</td><td>System.Threading.Tasks.Task</td></tr><tr><td>IsCollectible</td><td>False</td></tr><tr><td>IsGenericMethod</td><td>False</td></tr><tr><td>IsGenericMethodDefinition</td><td>False</td></tr><tr><td>ContainsGenericParameters</td><td>False</td></tr><tr><td>MethodImplementationFlags</td><td>IL</td></tr><tr><td>IsAbstract</td><td>False</td></tr><tr><td>IsConstructor</td><td>False</td></tr><tr><td>IsFinal</td><td>False</td></tr><tr><td>IsHideBySig</td><td>True</td></tr><tr><td>IsSpecialName</td><td>False</td></tr><tr><td>IsStatic</td><td>False</td></tr><tr><td>IsVirtual</td><td>False</td></tr><tr><td>IsAssembly</td><td>True</td></tr><tr><td>IsFamily</td><td>False</td></tr><tr><td>IsFamilyAndAssembly</td><td>False</td></tr><tr><td>IsFamilyOrAssembly</td><td>False</td></tr><tr><td>IsPrivate</td><td>False</td></tr><tr><td>IsPublic</td><td>False</td></tr><tr><td>IsConstructedGenericMethod</td><td>False</td></tr><tr><td>CustomAttributes</td><td>[  ]</td></tr></tbody></table></div></details></td></tr><tr><td>Position</td><td><div class=\"dni-plaintext\"><pre>-1</pre></div></td></tr><tr><td>IsIn</td><td><div class=\"dni-plaintext\"><pre>False</pre></div></td></tr><tr><td>IsLcid</td><td><div class=\"dni-plaintext\"><pre>False</pre></div></td></tr><tr><td>IsOptional</td><td><div class=\"dni-plaintext\"><pre>False</pre></div></td></tr><tr><td>IsOut</td><td><div class=\"dni-plaintext\"><pre>False</pre></div></td></tr><tr><td>IsRetval</td><td><div class=\"dni-plaintext\"><pre>False</pre></div></td></tr><tr><td>CustomAttributes</td><td><i>(empty)</i></td></tr></tbody></table></div></details></td></tr><tr><td>ReturnParameter</td><td><details class=\"dni-treeview\"><summary><span class=\"dni-code-hint\"><code>System.Threading.Tasks.Task</code></span></summary><div><table><thead><tr></tr></thead><tbody><tr><td>ParameterType</td><td><span><a href=\"https://docs.microsoft.com/dotnet/api/system.threading.tasks.task?view=net-7.0\">System.Threading.Tasks.Task</a></span></td></tr><tr><td>Name</td><td><div class=\"dni-plaintext\"><pre>&lt;null&gt;</pre></div></td></tr><tr><td>HasDefaultValue</td><td><div class=\"dni-plaintext\"><pre>False</pre></div></td></tr><tr><td>DefaultValue</td><td><details class=\"dni-treeview\"><summary><span class=\"dni-code-hint\"><code></code></span></summary><div><table><thead><tr></tr></thead><tbody></tbody></table></div></details></td></tr><tr><td>RawDefaultValue</td><td><details class=\"dni-treeview\"><summary><span class=\"dni-code-hint\"><code></code></span></summary><div><table><thead><tr></tr></thead><tbody></tbody></table></div></details></td></tr><tr><td>MetadataToken</td><td><div class=\"dni-plaintext\"><pre>134217728</pre></div></td></tr><tr><td>Attributes</td><td><span>None</span></td></tr><tr><td>Member</td><td><details class=\"dni-treeview\"><summary><span class=\"dni-code-hint\"><code>System.Threading.Tasks.Task &lt;SetHandler&gt;b__0(Microsoft.DotNet.Interactive.Commands.KernelCommand, Microsoft.DotNet.Interactive.KernelInvocationContext)</code></span></summary><div><table><thead><tr></tr></thead><tbody><tr><td>Name</td><td><SetHandler>b__0</td></tr><tr><td>DeclaringType</td><td>Microsoft.DotNet.Interactive.Kernel+<>c__DisplayClass82_0`1[Microsoft.DotNet.Interactive.Commands.SubmitCode]</td></tr><tr><td>ReflectedType</td><td>Microsoft.DotNet.Interactive.Kernel+<>c__DisplayClass82_0`1[Microsoft.DotNet.Interactive.Commands.SubmitCode]</td></tr><tr><td>MemberType</td><td>Method</td></tr><tr><td>MetadataToken</td><td>100664828</td></tr><tr><td>Module</td><td>Microsoft.DotNet.Interactive.dll</td></tr><tr><td>IsSecurityCritical</td><td>True</td></tr><tr><td>IsSecuritySafeCritical</td><td>False</td></tr><tr><td>IsSecurityTransparent</td><td>False</td></tr><tr><td>MethodHandle</td><td>System.RuntimeMethodHandle</td></tr><tr><td>Attributes</td><td>Assembly, HideBySig</td></tr><tr><td>CallingConvention</td><td>Standard, HasThis</td></tr><tr><td>ReturnType</td><td>System.Threading.Tasks.Task</td></tr><tr><td>ReturnTypeCustomAttributes</td><td>System.Threading.Tasks.Task</td></tr><tr><td>ReturnParameter</td><td>System.Threading.Tasks.Task</td></tr><tr><td>IsCollectible</td><td>False</td></tr><tr><td>IsGenericMethod</td><td>False</td></tr><tr><td>IsGenericMethodDefinition</td><td>False</td></tr><tr><td>ContainsGenericParameters</td><td>False</td></tr><tr><td>MethodImplementationFlags</td><td>IL</td></tr><tr><td>IsAbstract</td><td>False</td></tr><tr><td>IsConstructor</td><td>False</td></tr><tr><td>IsFinal</td><td>False</td></tr><tr><td>IsHideBySig</td><td>True</td></tr><tr><td>IsSpecialName</td><td>False</td></tr><tr><td>IsStatic</td><td>False</td></tr><tr><td>IsVirtual</td><td>False</td></tr><tr><td>IsAssembly</td><td>True</td></tr><tr><td>IsFamily</td><td>False</td></tr><tr><td>IsFamilyAndAssembly</td><td>False</td></tr><tr><td>IsFamilyOrAssembly</td><td>False</td></tr><tr><td>IsPrivate</td><td>False</td></tr><tr><td>IsPublic</td><td>False</td></tr><tr><td>IsConstructedGenericMethod</td><td>False</td></tr><tr><td>CustomAttributes</td><td>[  ]</td></tr></tbody></table></div></details></td></tr><tr><td>Position</td><td><div class=\"dni-plaintext\"><pre>-1</pre></div></td></tr><tr><td>IsIn</td><td><div class=\"dni-plaintext\"><pre>False</pre></div></td></tr><tr><td>IsLcid</td><td><div class=\"dni-plaintext\"><pre>False</pre></div></td></tr><tr><td>IsOptional</td><td><div class=\"dni-plaintext\"><pre>False</pre></div></td></tr><tr><td>IsOut</td><td><div class=\"dni-plaintext\"><pre>False</pre></div></td></tr><tr><td>IsRetval</td><td><div class=\"dni-plaintext\"><pre>False</pre></div></td></tr><tr><td>CustomAttributes</td><td><i>(empty)</i></td></tr></tbody></table></div></details></td></tr><tr><td>IsCollectible</td><td><div class=\"dni-plaintext\"><pre>False</pre></div></td></tr><tr><td>IsGenericMethod</td><td><div class=\"dni-plaintext\"><pre>False</pre></div></td></tr><tr><td>IsGenericMethodDefinition</td><td><div class=\"dni-plaintext\"><pre>False</pre></div></td></tr><tr><td>ContainsGenericParameters</td><td><div class=\"dni-plaintext\"><pre>False</pre></div></td></tr><tr><td>MethodImplementationFlags</td><td><span>IL</span></td></tr><tr><td>IsAbstract</td><td><div class=\"dni-plaintext\"><pre>False</pre></div></td></tr><tr><td>IsConstructor</td><td><div class=\"dni-plaintext\"><pre>False</pre></div></td></tr><tr><td>IsFinal</td><td><div class=\"dni-plaintext\"><pre>False</pre></div></td></tr><tr><td>IsHideBySig</td><td><div class=\"dni-plaintext\"><pre>True</pre></div></td></tr><tr><td>IsSpecialName</td><td><div class=\"dni-plaintext\"><pre>False</pre></div></td></tr><tr><td>IsStatic</td><td><div class=\"dni-plaintext\"><pre>False</pre></div></td></tr><tr><td>IsVirtual</td><td><div class=\"dni-plaintext\"><pre>False</pre></div></td></tr><tr><td>IsAssembly</td><td><div class=\"dni-plaintext\"><pre>True</pre></div></td></tr><tr><td>IsFamily</td><td><div class=\"dni-plaintext\"><pre>False</pre></div></td></tr><tr><td>IsFamilyAndAssembly</td><td><div class=\"dni-plaintext\"><pre>False</pre></div></td></tr><tr><td>IsFamilyOrAssembly</td><td><div class=\"dni-plaintext\"><pre>False</pre></div></td></tr><tr><td>IsPrivate</td><td><div class=\"dni-plaintext\"><pre>False</pre></div></td></tr><tr><td>IsPublic</td><td><div class=\"dni-plaintext\"><pre>False</pre></div></td></tr><tr><td>IsConstructedGenericMethod</td><td><div class=\"dni-plaintext\"><pre>False</pre></div></td></tr><tr><td>CustomAttributes</td><td><i>(empty)</i></td></tr></tbody></table></div></details></td></tr></tbody></table></div></details></td></tr><tr><td>Parent</td><td><details class=\"dni-treeview\"><summary><span class=\"dni-code-hint\"><code>SubmitCode: var logger = new DisplayLogger(&quot;NotebookUpdater&quot;,  ...</code></span></summary><div><table><thead><tr></tr></thead><tbody><tr><td>Code</td><td><div class=\"dni-plaintext\"><pre>var logger = new DisplayLogger(&quot;NotebookUpdater&quot;, LogLevel.Information);\n",
       "\n",
       "display(&quot;Cr&#233;ation de l&#39;instance NotebookUpdater...&quot;);\n",
       "var updater = new NotebookUpdater(semanticKernel, notebookPath, logger);\n",
       "\n",
       "display(&quot;Appel &#224; UpdateNotebook...&quot;);\n",
       "var response = await updater.UpdateNotebook();\n",
       "\n",
       "display($&quot;R&#233;sultat de l&#39;ex&#233;cution du notebook :\\n{response}&quot;);\n",
       "</pre></div></td></tr><tr><td>Handler</td><td><details class=\"dni-treeview\"><summary><span class=\"dni-code-hint\"><code>Microsoft.DotNet.Interactive.KernelCommandInvocation</code></span></summary><div><table><thead><tr></tr></thead><tbody><tr><td>Target</td><td><details class=\"dni-treeview\"><summary><span class=\"dni-code-hint\"><code>Microsoft.DotNet.Interactive.Kernel+&lt;&gt;c__DisplayClass82_0`1[Microsoft.DotNet.Interactive.Commands.SubmitCode]</code></span></summary><div><table><thead><tr></tr></thead><tbody><tr><td>handler</td><td><details class=\"dni-treeview\"><summary><span class=\"dni-code-hint\"><code>Microsoft.DotNet.Interactive.CSharp.CSharpKernel: csharp (kernel://pid-37992/csharp)</code></span></summary><div><table><thead><tr></tr></thead><tbody><tr><td>ScriptState</td><td>Microsoft.CodeAnalysis.Scripting.ScriptState`1[System.Object]</td></tr><tr><td>ParentKernel</td><td>[ Microsoft.DotNet.Interactive.SqlDiscoverabilityKernel: sql (kernel://pid-37992/sql), Microsoft.DotNet.Interactive.KqlDiscoverabilityKernel: kql (kernel://pid-37992/kql), Microsoft.DotNet.Interactive.CSharp.CSharpKernel: csharp (kernel://pid-37992/csharp), Microsoft.DotNet.Interactive.FSharp.FSharpKernel: fsharp (kernel://pid-37992/fsharp), Microsoft.DotNet.Interactive.PowerShell.PowerShellKernel: pwsh (kernel://pid-37992/pwsh), Microsoft.DotNet.Interactive.HtmlKernel: html (kernel://pid-37992/html), Microsoft.DotNet.Interactive.KeyValueStoreKernel: value (kernel://pid-37992/value), Microsoft.DotNet.Interactive.Mermaid.MermaidKernel: mermaid (kernel://pid-37992/mermaid), Microsoft.DotNet.Interactive.Http.HttpKernel: http (kernel://pid-37992/http), Microsoft.DotNet.Interactive.Connection.ProxyKernel: vscode (kernel://pid-37992/vscode -> kernel://vscode/), Microsoft.DotNet.Interactive.Connection.ProxyKernel: javascript (kernel://pid-37992/javascript -> kernel://webview/javascript) ]</td></tr><tr><td>RootKernel</td><td>[ Microsoft.DotNet.Interactive.SqlDiscoverabilityKernel: sql (kernel://pid-37992/sql), Microsoft.DotNet.Interactive.KqlDiscoverabilityKernel: kql (kernel://pid-37992/kql), Microsoft.DotNet.Interactive.CSharp.CSharpKernel: csharp (kernel://pid-37992/csharp), Microsoft.DotNet.Interactive.FSharp.FSharpKernel: fsharp (kernel://pid-37992/fsharp), Microsoft.DotNet.Interactive.PowerShell.PowerShellKernel: pwsh (kernel://pid-37992/pwsh), Microsoft.DotNet.Interactive.HtmlKernel: html (kernel://pid-37992/html), Microsoft.DotNet.Interactive.KeyValueStoreKernel: value (kernel://pid-37992/value), Microsoft.DotNet.Interactive.Mermaid.MermaidKernel: mermaid (kernel://pid-37992/mermaid), Microsoft.DotNet.Interactive.Http.HttpKernel: http (kernel://pid-37992/http), Microsoft.DotNet.Interactive.Connection.ProxyKernel: vscode (kernel://pid-37992/vscode -> kernel://vscode/), Microsoft.DotNet.Interactive.Connection.ProxyKernel: javascript (kernel://pid-37992/javascript -> kernel://webview/javascript) ]</td></tr><tr><td>SubmissionCount</td><td>0</td></tr><tr><td>SubmissionParser</td><td>Microsoft.DotNet.Interactive.Parsing.SubmissionParser</td></tr><tr><td>FrontendEnvironment</td><td>Microsoft.DotNet.Interactive.Http.BrowserFrontendEnvironment</td></tr><tr><td>KernelEvents</td><td>System.Reactive.Subjects.Subject`1[Microsoft.DotNet.Interactive.Events.KernelEvent]</td></tr><tr><td>Name</td><td>csharp</td></tr><tr><td>KernelInfo</td><td>csharp (kernel://pid-37992/csharp)</td></tr><tr><td>Directives</td><td>[ [ Argument: source ], [ Argument: package ], [  ], [  ], [  ], [ Option`1: from, Option`1: mime-type, Option`1: as, Argument: name ], [ Option`1: name, Option`1: value, Option`1: mime-type, Option`1: byref ], [  ] ]</td></tr><tr><td>ChooseKernelDirective</td><td>[  ]</td></tr></tbody></table></div></details></td></tr><tr><td>command</td><td><details class=\"dni-treeview\"><summary><span class=\"dni-code-hint\"><code>SubmitCode: var logger = new DisplayLogger(&quot;NotebookUpdater&quot;,  ...</code></span></summary><div><table><thead><tr></tr></thead><tbody><tr><td>Code</td><td>var logger = new DisplayLogger(\"NotebookUpdater\", LogLevel.Information);\n",
       "\n",
       "display(\"Création de l'instance NotebookUpdater...\");\n",
       "var updater = new NotebookUpdater(semanticKernel, notebookPath, logger);\n",
       "\n",
       "display(\"Appel à UpdateNotebook...\");\n",
       "var response = await updater.UpdateNotebook();\n",
       "\n",
       "display($\"Résultat de l'exécution du notebook :\\n{response}\");\n",
       "</td></tr><tr><td>Handler</td><td>Microsoft.DotNet.Interactive.KernelCommandInvocation</td></tr><tr><td>Parent</td><td><div class=\"dni-plaintext\"><pre>&lt;null&gt;</pre></div></td></tr><tr><td>TargetKernelName</td><td>csharp</td></tr><tr><td>OriginUri</td><td><div class=\"dni-plaintext\"><pre>&lt;null&gt;</pre></div></td></tr><tr><td>DestinationUri</td><td><div class=\"dni-plaintext\"><pre>&lt;null&gt;</pre></div></td></tr><tr><td>KernelChooserParseResult</td><td><div class=\"dni-plaintext\"><pre>&lt;null&gt;</pre></div></td></tr><tr><td>RoutingSlip</td><td>[kernel://pid-37992/ (arrived), kernel://pid-37992/csharp (arrived)]</td></tr></tbody></table></div></details></td></tr></tbody></table></div></details></td></tr><tr><td>Method</td><td><details class=\"dni-treeview\"><summary><span class=\"dni-code-hint\"><code>System.Threading.Tasks.Task &lt;SetHandler&gt;b__0(Microsoft.DotNet.Interactive.Commands.KernelCommand, Microsoft.DotNet.Interactive.KernelInvocationContext)</code></span></summary><div><table><thead><tr></tr></thead><tbody><tr><td>Name</td><td><div class=\"dni-plaintext\"><pre>&lt;SetHandler&gt;b__0</pre></div></td></tr><tr><td>DeclaringType</td><td><span><a href=\"https://docs.microsoft.com/dotnet/api/microsoft.dotnet.interactive.kernel.&lt;>c__displayclass82_0-1?view=net-7.0\">Microsoft.DotNet.Interactive.Kernel+&lt;&gt;c__DisplayClass82_0&lt;Microsoft.DotNet.Interactive.Commands.SubmitCode&gt;</a></span></td></tr><tr><td>ReflectedType</td><td><span><a href=\"https://docs.microsoft.com/dotnet/api/microsoft.dotnet.interactive.kernel.&lt;>c__displayclass82_0-1?view=net-7.0\">Microsoft.DotNet.Interactive.Kernel+&lt;&gt;c__DisplayClass82_0&lt;Microsoft.DotNet.Interactive.Commands.SubmitCode&gt;</a></span></td></tr><tr><td>MemberType</td><td><span>Method</span></td></tr><tr><td>MetadataToken</td><td><div class=\"dni-plaintext\"><pre>100664828</pre></div></td></tr><tr><td>Module</td><td><details class=\"dni-treeview\"><summary><span class=\"dni-code-hint\"><code>Microsoft.DotNet.Interactive.dll</code></span></summary><div><table><thead><tr></tr></thead><tbody><tr><td>MDStreamVersion</td><td>131072</td></tr><tr><td>FullyQualifiedName</td><td>C:\\Users\\Administrateur.000\\.nuget\\packages\\microsoft.dotnet-interactive\\1.0.522904\\tools\\net8.0\\any\\Microsoft.DotNet.Interactive.dll</td></tr><tr><td>ModuleVersionId</td><td>ee6aec0a-8e1f-4e4c-97e3-57418e1dc7e0</td></tr><tr><td>MetadataToken</td><td>1</td></tr><tr><td>ScopeName</td><td>Microsoft.DotNet.Interactive.dll</td></tr><tr><td>Name</td><td>Microsoft.DotNet.Interactive.dll</td></tr><tr><td>Assembly</td><td>Microsoft.DotNet.Interactive, Version=1.0.0.0, Culture=neutral, PublicKeyToken=31bf3856ad364e35</td></tr><tr><td>ModuleHandle</td><td>System.ModuleHandle</td></tr><tr><td>CustomAttributes</td><td>[ [System.Runtime.CompilerServices.RefSafetyRulesAttribute((Int32)11)] ]</td></tr></tbody></table></div></details></td></tr><tr><td>IsSecurityCritical</td><td><div class=\"dni-plaintext\"><pre>True</pre></div></td></tr><tr><td>IsSecuritySafeCritical</td><td><div class=\"dni-plaintext\"><pre>False</pre></div></td></tr><tr><td>IsSecurityTransparent</td><td><div class=\"dni-plaintext\"><pre>False</pre></div></td></tr><tr><td>MethodHandle</td><td><details class=\"dni-treeview\"><summary><span class=\"dni-code-hint\"><code>System.RuntimeMethodHandle</code></span></summary><div><table><thead><tr></tr></thead><tbody><tr><td>Value</td><td>140731641892472</td></tr></tbody></table></div></details></td></tr><tr><td>Attributes</td><td><span>Assembly, HideBySig</span></td></tr><tr><td>CallingConvention</td><td><span>Standard, HasThis</span></td></tr><tr><td>ReturnType</td><td><span><a href=\"https://docs.microsoft.com/dotnet/api/system.threading.tasks.task?view=net-7.0\">System.Threading.Tasks.Task</a></span></td></tr><tr><td>ReturnTypeCustomAttributes</td><td><details class=\"dni-treeview\"><summary><span class=\"dni-code-hint\"><code>System.Threading.Tasks.Task</code></span></summary><div><table><thead><tr></tr></thead><tbody><tr><td>ParameterType</td><td>System.Threading.Tasks.Task</td></tr><tr><td>Name</td><td><div class=\"dni-plaintext\"><pre>&lt;null&gt;</pre></div></td></tr><tr><td>HasDefaultValue</td><td>False</td></tr><tr><td>DefaultValue</td><td></td></tr><tr><td>RawDefaultValue</td><td></td></tr><tr><td>MetadataToken</td><td>134217728</td></tr><tr><td>Attributes</td><td>None</td></tr><tr><td>Member</td><td>System.Threading.Tasks.Task <SetHandler>b__0(Microsoft.DotNet.Interactive.Commands.KernelCommand, Microsoft.DotNet.Interactive.KernelInvocationContext)</td></tr><tr><td>Position</td><td>-1</td></tr><tr><td>IsIn</td><td>False</td></tr><tr><td>IsLcid</td><td>False</td></tr><tr><td>IsOptional</td><td>False</td></tr><tr><td>IsOut</td><td>False</td></tr><tr><td>IsRetval</td><td>False</td></tr><tr><td>CustomAttributes</td><td>[  ]</td></tr></tbody></table></div></details></td></tr><tr><td>ReturnParameter</td><td><details class=\"dni-treeview\"><summary><span class=\"dni-code-hint\"><code>System.Threading.Tasks.Task</code></span></summary><div><table><thead><tr></tr></thead><tbody><tr><td>ParameterType</td><td>System.Threading.Tasks.Task</td></tr><tr><td>Name</td><td><div class=\"dni-plaintext\"><pre>&lt;null&gt;</pre></div></td></tr><tr><td>HasDefaultValue</td><td>False</td></tr><tr><td>DefaultValue</td><td></td></tr><tr><td>RawDefaultValue</td><td></td></tr><tr><td>MetadataToken</td><td>134217728</td></tr><tr><td>Attributes</td><td>None</td></tr><tr><td>Member</td><td>System.Threading.Tasks.Task <SetHandler>b__0(Microsoft.DotNet.Interactive.Commands.KernelCommand, Microsoft.DotNet.Interactive.KernelInvocationContext)</td></tr><tr><td>Position</td><td>-1</td></tr><tr><td>IsIn</td><td>False</td></tr><tr><td>IsLcid</td><td>False</td></tr><tr><td>IsOptional</td><td>False</td></tr><tr><td>IsOut</td><td>False</td></tr><tr><td>IsRetval</td><td>False</td></tr><tr><td>CustomAttributes</td><td>[  ]</td></tr></tbody></table></div></details></td></tr><tr><td>IsCollectible</td><td><div class=\"dni-plaintext\"><pre>False</pre></div></td></tr><tr><td>IsGenericMethod</td><td><div class=\"dni-plaintext\"><pre>False</pre></div></td></tr><tr><td>IsGenericMethodDefinition</td><td><div class=\"dni-plaintext\"><pre>False</pre></div></td></tr><tr><td>ContainsGenericParameters</td><td><div class=\"dni-plaintext\"><pre>False</pre></div></td></tr><tr><td>MethodImplementationFlags</td><td><span>IL</span></td></tr><tr><td>IsAbstract</td><td><div class=\"dni-plaintext\"><pre>False</pre></div></td></tr><tr><td>IsConstructor</td><td><div class=\"dni-plaintext\"><pre>False</pre></div></td></tr><tr><td>IsFinal</td><td><div class=\"dni-plaintext\"><pre>False</pre></div></td></tr><tr><td>IsHideBySig</td><td><div class=\"dni-plaintext\"><pre>True</pre></div></td></tr><tr><td>IsSpecialName</td><td><div class=\"dni-plaintext\"><pre>False</pre></div></td></tr><tr><td>IsStatic</td><td><div class=\"dni-plaintext\"><pre>False</pre></div></td></tr><tr><td>IsVirtual</td><td><div class=\"dni-plaintext\"><pre>False</pre></div></td></tr><tr><td>IsAssembly</td><td><div class=\"dni-plaintext\"><pre>True</pre></div></td></tr><tr><td>IsFamily</td><td><div class=\"dni-plaintext\"><pre>False</pre></div></td></tr><tr><td>IsFamilyAndAssembly</td><td><div class=\"dni-plaintext\"><pre>False</pre></div></td></tr><tr><td>IsFamilyOrAssembly</td><td><div class=\"dni-plaintext\"><pre>False</pre></div></td></tr><tr><td>IsPrivate</td><td><div class=\"dni-plaintext\"><pre>False</pre></div></td></tr><tr><td>IsPublic</td><td><div class=\"dni-plaintext\"><pre>False</pre></div></td></tr><tr><td>IsConstructedGenericMethod</td><td><div class=\"dni-plaintext\"><pre>False</pre></div></td></tr><tr><td>CustomAttributes</td><td><i>(empty)</i></td></tr></tbody></table></div></details></td></tr></tbody></table></div></details></td></tr><tr><td>Parent</td><td><div class=\"dni-plaintext\"><pre>&lt;null&gt;</pre></div></td></tr><tr><td>TargetKernelName</td><td><div class=\"dni-plaintext\"><pre>csharp</pre></div></td></tr><tr><td>OriginUri</td><td><div class=\"dni-plaintext\"><pre>&lt;null&gt;</pre></div></td></tr><tr><td>DestinationUri</td><td><div class=\"dni-plaintext\"><pre>&lt;null&gt;</pre></div></td></tr><tr><td>KernelChooserParseResult</td><td><div class=\"dni-plaintext\"><pre>&lt;null&gt;</pre></div></td></tr><tr><td>RoutingSlip</td><td><div class=\"dni-plaintext\"><pre>[ kernel://pid-37992/ (arrived), kernel://pid-37992/csharp (arrived) ]</pre></div></td></tr></tbody></table></div></details></td></tr><tr><td>TargetKernelName</td><td><div class=\"dni-plaintext\"><pre>csharp</pre></div></td></tr><tr><td>OriginUri</td><td><div class=\"dni-plaintext\"><pre>&lt;null&gt;</pre></div></td></tr><tr><td>DestinationUri</td><td><div class=\"dni-plaintext\"><pre>&lt;null&gt;</pre></div></td></tr><tr><td>KernelChooserParseResult</td><td><div class=\"dni-plaintext\"><pre>&lt;null&gt;</pre></div></td></tr><tr><td>RoutingSlip</td><td><div class=\"dni-plaintext\"><pre>[ kernel://local/.NET (arrived), kernel://local/csharp (arrived), kernel://local/csharp, kernel://local/.NET ]</pre></div></td></tr></tbody></table></div></details></td></tr><tr><td>Events</td><td><table><thead><tr><th><i>index</i></th><th><i>type</i></th><th>value</th></tr></thead><tbody><tr><td>0</td><td><span><a href=\"https://docs.microsoft.com/dotnet/api/microsoft.dotnet.interactive.events.codesubmissionreceived?view=net-7.0\">Microsoft.DotNet.Interactive.Events.CodeSubmissionReceived</a></span></td><td><details class=\"dni-treeview\"><summary><span class=\"dni-code-hint\"><code>CodeSubmissionReceived: // Cr&#233;ation des objets n&#233;cessaire &#224; la t&#226;che deman ...</code></span></summary><div><table><thead><tr></tr></thead><tbody><tr><td>Code</td><td><div class=\"dni-plaintext\"><pre>// Cr&#233;ation des objets n&#233;cessaire &#224; la t&#226;che demand&#233;e\n",
       "SparqlRemoteEndpoint endpoint = new SparqlRemoteEndpoint(new Uri(&quot;https://dbpedia.org/sparql&quot;));\n",
       "// Exemple de requ&#234;te SPARQL\n",
       "string query = &quot;SELECT ?label WHERE { &lt;http://dbpedia.org/resource/Asturias&gt; rdfs:label ?label }&quot;;\n",
       "// Execution de la requ&#234;te\n",
       "SparqlResultSet results = endpoint.QueryWithResultSet(query);</pre></div></td></tr><tr><td>Command</td><td><details class=\"dni-treeview\"><summary><span class=\"dni-code-hint\"><code>SubmitCode: // Cr&#233;ation des objets n&#233;cessaire &#224; la t&#226;che deman ...</code></span></summary><div><table><thead><tr></tr></thead><tbody><tr><td>Code</td><td><div class=\"dni-plaintext\"><pre>// Cr&#233;ation des objets n&#233;cessaire &#224; la t&#226;che demand&#233;e\n",
       "SparqlRemoteEndpoint endpoint = new SparqlRemoteEndpoint(new Uri(&quot;https://dbpedia.org/sparql&quot;));\n",
       "// Exemple de requ&#234;te SPARQL\n",
       "string query = &quot;SELECT ?label WHERE { &lt;http://dbpedia.org/resource/Asturias&gt; rdfs:label ?label }&quot;;\n",
       "// Execution de la requ&#234;te\n",
       "SparqlResultSet results = endpoint.QueryWithResultSet(query);</pre></div></td></tr><tr><td>Handler</td><td><details class=\"dni-treeview\"><summary><span class=\"dni-code-hint\"><code>Microsoft.DotNet.Interactive.KernelCommandInvocation</code></span></summary><div><table><thead><tr></tr></thead><tbody><tr><td>Target</td><td><details class=\"dni-treeview\"><summary><span class=\"dni-code-hint\"><code>Microsoft.DotNet.Interactive.Kernel+&lt;&gt;c__DisplayClass82_0`1[Microsoft.DotNet.Interactive.Commands.SubmitCode]</code></span></summary><div><table><thead><tr></tr></thead><tbody><tr><td>handler</td><td>Microsoft.DotNet.Interactive.CSharp.CSharpKernel: csharp (kernel://local/csharp)</td></tr><tr><td>command</td><td>SubmitCode: // Création des objets nécessaire à la tâche deman ...</td></tr></tbody></table></div></details></td></tr><tr><td>Method</td><td><details class=\"dni-treeview\"><summary><span class=\"dni-code-hint\"><code>System.Threading.Tasks.Task &lt;SetHandler&gt;b__0(Microsoft.DotNet.Interactive.Commands.KernelCommand, Microsoft.DotNet.Interactive.KernelInvocationContext)</code></span></summary><div><table><thead><tr></tr></thead><tbody><tr><td>Name</td><td><SetHandler>b__0</td></tr><tr><td>DeclaringType</td><td>Microsoft.DotNet.Interactive.Kernel+<>c__DisplayClass82_0`1[Microsoft.DotNet.Interactive.Commands.SubmitCode]</td></tr><tr><td>ReflectedType</td><td>Microsoft.DotNet.Interactive.Kernel+<>c__DisplayClass82_0`1[Microsoft.DotNet.Interactive.Commands.SubmitCode]</td></tr><tr><td>MemberType</td><td>Method</td></tr><tr><td>MetadataToken</td><td>100664828</td></tr><tr><td>Module</td><td>Microsoft.DotNet.Interactive.dll</td></tr><tr><td>IsSecurityCritical</td><td>True</td></tr><tr><td>IsSecuritySafeCritical</td><td>False</td></tr><tr><td>IsSecurityTransparent</td><td>False</td></tr><tr><td>MethodHandle</td><td>System.RuntimeMethodHandle</td></tr><tr><td>Attributes</td><td>Assembly, HideBySig</td></tr><tr><td>CallingConvention</td><td>Standard, HasThis</td></tr><tr><td>ReturnType</td><td>System.Threading.Tasks.Task</td></tr><tr><td>ReturnTypeCustomAttributes</td><td>System.Threading.Tasks.Task</td></tr><tr><td>ReturnParameter</td><td>System.Threading.Tasks.Task</td></tr><tr><td>IsCollectible</td><td>False</td></tr><tr><td>IsGenericMethod</td><td>False</td></tr><tr><td>IsGenericMethodDefinition</td><td>False</td></tr><tr><td>ContainsGenericParameters</td><td>False</td></tr><tr><td>MethodImplementationFlags</td><td>IL</td></tr><tr><td>IsAbstract</td><td>False</td></tr><tr><td>IsConstructor</td><td>False</td></tr><tr><td>IsFinal</td><td>False</td></tr><tr><td>IsHideBySig</td><td>True</td></tr><tr><td>IsSpecialName</td><td>False</td></tr><tr><td>IsStatic</td><td>False</td></tr><tr><td>IsVirtual</td><td>False</td></tr><tr><td>IsAssembly</td><td>True</td></tr><tr><td>IsFamily</td><td>False</td></tr><tr><td>IsFamilyAndAssembly</td><td>False</td></tr><tr><td>IsFamilyOrAssembly</td><td>False</td></tr><tr><td>IsPrivate</td><td>False</td></tr><tr><td>IsPublic</td><td>False</td></tr><tr><td>IsConstructedGenericMethod</td><td>False</td></tr><tr><td>CustomAttributes</td><td>[  ]</td></tr></tbody></table></div></details></td></tr></tbody></table></div></details></td></tr><tr><td>Parent</td><td><details class=\"dni-treeview\"><summary><span class=\"dni-code-hint\"><code>SubmitCode: var logger = new DisplayLogger(&quot;NotebookUpdater&quot;,  ...</code></span></summary><div><table><thead><tr></tr></thead><tbody><tr><td>Code</td><td><div class=\"dni-plaintext\"><pre>var logger = new DisplayLogger(&quot;NotebookUpdater&quot;, LogLevel.Information);\n",
       "\n",
       "display(&quot;Cr&#233;ation de l&#39;instance NotebookUpdater...&quot;);\n",
       "var updater = new NotebookUpdater(semanticKernel, notebookPath, logger);\n",
       "\n",
       "display(&quot;Appel &#224; UpdateNotebook...&quot;);\n",
       "var response = await updater.UpdateNotebook();\n",
       "\n",
       "display($&quot;R&#233;sultat de l&#39;ex&#233;cution du notebook :\\n{response}&quot;);\n",
       "</pre></div></td></tr><tr><td>Handler</td><td><details class=\"dni-treeview\"><summary><span class=\"dni-code-hint\"><code>Microsoft.DotNet.Interactive.KernelCommandInvocation</code></span></summary><div><table><thead><tr></tr></thead><tbody><tr><td>Target</td><td>Microsoft.DotNet.Interactive.Kernel+<>c__DisplayClass82_0`1[Microsoft.DotNet.Interactive.Commands.SubmitCode]</td></tr><tr><td>Method</td><td>System.Threading.Tasks.Task <SetHandler>b__0(Microsoft.DotNet.Interactive.Commands.KernelCommand, Microsoft.DotNet.Interactive.KernelInvocationContext)</td></tr></tbody></table></div></details></td></tr><tr><td>Parent</td><td><div class=\"dni-plaintext\"><pre>&lt;null&gt;</pre></div></td></tr><tr><td>TargetKernelName</td><td><div class=\"dni-plaintext\"><pre>csharp</pre></div></td></tr><tr><td>OriginUri</td><td><div class=\"dni-plaintext\"><pre>&lt;null&gt;</pre></div></td></tr><tr><td>DestinationUri</td><td><div class=\"dni-plaintext\"><pre>&lt;null&gt;</pre></div></td></tr><tr><td>KernelChooserParseResult</td><td><div class=\"dni-plaintext\"><pre>&lt;null&gt;</pre></div></td></tr><tr><td>RoutingSlip</td><td>[ kernel://pid-37992/ (arrived), kernel://pid-37992/csharp (arrived) ]</td></tr></tbody></table></div></details></td></tr><tr><td>TargetKernelName</td><td><div class=\"dni-plaintext\"><pre>csharp</pre></div></td></tr><tr><td>OriginUri</td><td><div class=\"dni-plaintext\"><pre>&lt;null&gt;</pre></div></td></tr><tr><td>DestinationUri</td><td><div class=\"dni-plaintext\"><pre>&lt;null&gt;</pre></div></td></tr><tr><td>KernelChooserParseResult</td><td><div class=\"dni-plaintext\"><pre>&lt;null&gt;</pre></div></td></tr><tr><td>RoutingSlip</td><td><div class=\"dni-plaintext\"><pre>[ kernel://local/.NET (arrived), kernel://local/csharp (arrived), kernel://local/csharp, kernel://local/.NET ]</pre></div></td></tr></tbody></table></div></details></td></tr><tr><td>RoutingSlip</td><td><div class=\"dni-plaintext\"><pre>[ kernel://local/csharp, kernel://pid-37992/ ]</pre></div></td></tr></tbody></table></div></details></td></tr><tr><td>1</td><td><span><a href=\"https://docs.microsoft.com/dotnet/api/microsoft.dotnet.interactive.events.completecodesubmissionreceived?view=net-7.0\">Microsoft.DotNet.Interactive.Events.CompleteCodeSubmissionReceived</a></span></td><td><details class=\"dni-treeview\"><summary><span class=\"dni-code-hint\"><code>CompleteCodeSubmissionReceived: // Cr&#233;ation des objets n&#233;cessaire &#224; la t&#226;che deman ...</code></span></summary><div><table><thead><tr></tr></thead><tbody><tr><td>Code</td><td><div class=\"dni-plaintext\"><pre>// Cr&#233;ation des objets n&#233;cessaire &#224; la t&#226;che demand&#233;e\n",
       "SparqlRemoteEndpoint endpoint = new SparqlRemoteEndpoint(new Uri(&quot;https://dbpedia.org/sparql&quot;));\n",
       "// Exemple de requ&#234;te SPARQL\n",
       "string query = &quot;SELECT ?label WHERE { &lt;http://dbpedia.org/resource/Asturias&gt; rdfs:label ?label }&quot;;\n",
       "// Execution de la requ&#234;te\n",
       "SparqlResultSet results = endpoint.QueryWithResultSet(query);</pre></div></td></tr><tr><td>Command</td><td><details class=\"dni-treeview\"><summary><span class=\"dni-code-hint\"><code>SubmitCode: // Cr&#233;ation des objets n&#233;cessaire &#224; la t&#226;che deman ...</code></span></summary><div><table><thead><tr></tr></thead><tbody><tr><td>Code</td><td><div class=\"dni-plaintext\"><pre>// Cr&#233;ation des objets n&#233;cessaire &#224; la t&#226;che demand&#233;e\n",
       "SparqlRemoteEndpoint endpoint = new SparqlRemoteEndpoint(new Uri(&quot;https://dbpedia.org/sparql&quot;));\n",
       "// Exemple de requ&#234;te SPARQL\n",
       "string query = &quot;SELECT ?label WHERE { &lt;http://dbpedia.org/resource/Asturias&gt; rdfs:label ?label }&quot;;\n",
       "// Execution de la requ&#234;te\n",
       "SparqlResultSet results = endpoint.QueryWithResultSet(query);</pre></div></td></tr><tr><td>Handler</td><td><details class=\"dni-treeview\"><summary><span class=\"dni-code-hint\"><code>Microsoft.DotNet.Interactive.KernelCommandInvocation</code></span></summary><div><table><thead><tr></tr></thead><tbody><tr><td>Target</td><td><details class=\"dni-treeview\"><summary><span class=\"dni-code-hint\"><code>Microsoft.DotNet.Interactive.Kernel+&lt;&gt;c__DisplayClass82_0`1[Microsoft.DotNet.Interactive.Commands.SubmitCode]</code></span></summary><div><table><thead><tr></tr></thead><tbody><tr><td>handler</td><td>Microsoft.DotNet.Interactive.CSharp.CSharpKernel: csharp (kernel://local/csharp)</td></tr><tr><td>command</td><td>SubmitCode: // Création des objets nécessaire à la tâche deman ...</td></tr></tbody></table></div></details></td></tr><tr><td>Method</td><td><details class=\"dni-treeview\"><summary><span class=\"dni-code-hint\"><code>System.Threading.Tasks.Task &lt;SetHandler&gt;b__0(Microsoft.DotNet.Interactive.Commands.KernelCommand, Microsoft.DotNet.Interactive.KernelInvocationContext)</code></span></summary><div><table><thead><tr></tr></thead><tbody><tr><td>Name</td><td><SetHandler>b__0</td></tr><tr><td>DeclaringType</td><td>Microsoft.DotNet.Interactive.Kernel+<>c__DisplayClass82_0`1[Microsoft.DotNet.Interactive.Commands.SubmitCode]</td></tr><tr><td>ReflectedType</td><td>Microsoft.DotNet.Interactive.Kernel+<>c__DisplayClass82_0`1[Microsoft.DotNet.Interactive.Commands.SubmitCode]</td></tr><tr><td>MemberType</td><td>Method</td></tr><tr><td>MetadataToken</td><td>100664828</td></tr><tr><td>Module</td><td>Microsoft.DotNet.Interactive.dll</td></tr><tr><td>IsSecurityCritical</td><td>True</td></tr><tr><td>IsSecuritySafeCritical</td><td>False</td></tr><tr><td>IsSecurityTransparent</td><td>False</td></tr><tr><td>MethodHandle</td><td>System.RuntimeMethodHandle</td></tr><tr><td>Attributes</td><td>Assembly, HideBySig</td></tr><tr><td>CallingConvention</td><td>Standard, HasThis</td></tr><tr><td>ReturnType</td><td>System.Threading.Tasks.Task</td></tr><tr><td>ReturnTypeCustomAttributes</td><td>System.Threading.Tasks.Task</td></tr><tr><td>ReturnParameter</td><td>System.Threading.Tasks.Task</td></tr><tr><td>IsCollectible</td><td>False</td></tr><tr><td>IsGenericMethod</td><td>False</td></tr><tr><td>IsGenericMethodDefinition</td><td>False</td></tr><tr><td>ContainsGenericParameters</td><td>False</td></tr><tr><td>MethodImplementationFlags</td><td>IL</td></tr><tr><td>IsAbstract</td><td>False</td></tr><tr><td>IsConstructor</td><td>False</td></tr><tr><td>IsFinal</td><td>False</td></tr><tr><td>IsHideBySig</td><td>True</td></tr><tr><td>IsSpecialName</td><td>False</td></tr><tr><td>IsStatic</td><td>False</td></tr><tr><td>IsVirtual</td><td>False</td></tr><tr><td>IsAssembly</td><td>True</td></tr><tr><td>IsFamily</td><td>False</td></tr><tr><td>IsFamilyAndAssembly</td><td>False</td></tr><tr><td>IsFamilyOrAssembly</td><td>False</td></tr><tr><td>IsPrivate</td><td>False</td></tr><tr><td>IsPublic</td><td>False</td></tr><tr><td>IsConstructedGenericMethod</td><td>False</td></tr><tr><td>CustomAttributes</td><td>[  ]</td></tr></tbody></table></div></details></td></tr></tbody></table></div></details></td></tr><tr><td>Parent</td><td><details class=\"dni-treeview\"><summary><span class=\"dni-code-hint\"><code>SubmitCode: var logger = new DisplayLogger(&quot;NotebookUpdater&quot;,  ...</code></span></summary><div><table><thead><tr></tr></thead><tbody><tr><td>Code</td><td><div class=\"dni-plaintext\"><pre>var logger = new DisplayLogger(&quot;NotebookUpdater&quot;, LogLevel.Information);\n",
       "\n",
       "display(&quot;Cr&#233;ation de l&#39;instance NotebookUpdater...&quot;);\n",
       "var updater = new NotebookUpdater(semanticKernel, notebookPath, logger);\n",
       "\n",
       "display(&quot;Appel &#224; UpdateNotebook...&quot;);\n",
       "var response = await updater.UpdateNotebook();\n",
       "\n",
       "display($&quot;R&#233;sultat de l&#39;ex&#233;cution du notebook :\\n{response}&quot;);\n",
       "</pre></div></td></tr><tr><td>Handler</td><td><details class=\"dni-treeview\"><summary><span class=\"dni-code-hint\"><code>Microsoft.DotNet.Interactive.KernelCommandInvocation</code></span></summary><div><table><thead><tr></tr></thead><tbody><tr><td>Target</td><td>Microsoft.DotNet.Interactive.Kernel+<>c__DisplayClass82_0`1[Microsoft.DotNet.Interactive.Commands.SubmitCode]</td></tr><tr><td>Method</td><td>System.Threading.Tasks.Task <SetHandler>b__0(Microsoft.DotNet.Interactive.Commands.KernelCommand, Microsoft.DotNet.Interactive.KernelInvocationContext)</td></tr></tbody></table></div></details></td></tr><tr><td>Parent</td><td><div class=\"dni-plaintext\"><pre>&lt;null&gt;</pre></div></td></tr><tr><td>TargetKernelName</td><td><div class=\"dni-plaintext\"><pre>csharp</pre></div></td></tr><tr><td>OriginUri</td><td><div class=\"dni-plaintext\"><pre>&lt;null&gt;</pre></div></td></tr><tr><td>DestinationUri</td><td><div class=\"dni-plaintext\"><pre>&lt;null&gt;</pre></div></td></tr><tr><td>KernelChooserParseResult</td><td><div class=\"dni-plaintext\"><pre>&lt;null&gt;</pre></div></td></tr><tr><td>RoutingSlip</td><td>[ kernel://pid-37992/ (arrived), kernel://pid-37992/csharp (arrived) ]</td></tr></tbody></table></div></details></td></tr><tr><td>TargetKernelName</td><td><div class=\"dni-plaintext\"><pre>csharp</pre></div></td></tr><tr><td>OriginUri</td><td><div class=\"dni-plaintext\"><pre>&lt;null&gt;</pre></div></td></tr><tr><td>DestinationUri</td><td><div class=\"dni-plaintext\"><pre>&lt;null&gt;</pre></div></td></tr><tr><td>KernelChooserParseResult</td><td><div class=\"dni-plaintext\"><pre>&lt;null&gt;</pre></div></td></tr><tr><td>RoutingSlip</td><td><div class=\"dni-plaintext\"><pre>[ kernel://local/.NET (arrived), kernel://local/csharp (arrived), kernel://local/csharp, kernel://local/.NET ]</pre></div></td></tr></tbody></table></div></details></td></tr><tr><td>RoutingSlip</td><td><div class=\"dni-plaintext\"><pre>[ kernel://local/csharp, kernel://pid-37992/ ]</pre></div></td></tr></tbody></table></div></details></td></tr><tr><td>2</td><td><span><a href=\"https://docs.microsoft.com/dotnet/api/microsoft.dotnet.interactive.events.diagnosticsproduced?view=net-7.0\">Microsoft.DotNet.Interactive.Events.DiagnosticsProduced</a></span></td><td><details class=\"dni-treeview\"><summary><span class=\"dni-code-hint\"><code>DiagnosticsProduced</code></span></summary><div><table><thead><tr></tr></thead><tbody><tr><td>Diagnostics</td><td><table><thead><tr><th><i>index</i></th><th>value</th></tr></thead><tbody><tr><td>0</td><td><details class=\"dni-treeview\"><summary><span class=\"dni-code-hint\"><code>CS0618: [(1, 0)-(1, 20)) &#39;SparqlRemoteEndpoint&#39; est obsol&#232;te&#160;: &#39;This class is obsolete and will be removed in a future release. Replaced by VDS.RDF.Query.SparqlQueryClient.&#39;</code></span></summary><div><table><thead><tr></tr></thead><tbody><tr><td>LinePositionSpan</td><td><details class=\"dni-treeview\"><summary><span class=\"dni-code-hint\"><code>[(1, 0)-(1, 20))</code></span></summary><div><table><thead><tr></tr></thead><tbody><tr><td>Start</td><td>(1, 0)</td></tr><tr><td>End</td><td>(1, 20)</td></tr></tbody></table></div></details></td></tr><tr><td>Severity</td><td><span>Warning</span></td></tr><tr><td>Code</td><td><div class=\"dni-plaintext\"><pre>CS0618</pre></div></td></tr><tr><td>Message</td><td><div class=\"dni-plaintext\"><pre>&#39;SparqlRemoteEndpoint&#39; est obsol&#232;te&#160;: &#39;This class is obsolete and will be removed in a future release. Replaced by VDS.RDF.Query.SparqlQueryClient.&#39;</pre></div></td></tr></tbody></table></div></details></td></tr><tr><td>1</td><td><details class=\"dni-treeview\"><summary><span class=\"dni-code-hint\"><code>CS0618: [(1, 36)-(1, 56)) &#39;SparqlRemoteEndpoint&#39; est obsol&#232;te&#160;: &#39;This class is obsolete and will be removed in a future release. Replaced by VDS.RDF.Query.SparqlQueryClient.&#39;</code></span></summary><div><table><thead><tr></tr></thead><tbody><tr><td>LinePositionSpan</td><td><details class=\"dni-treeview\"><summary><span class=\"dni-code-hint\"><code>[(1, 36)-(1, 56))</code></span></summary><div><table><thead><tr></tr></thead><tbody><tr><td>Start</td><td>(1, 36)</td></tr><tr><td>End</td><td>(1, 56)</td></tr></tbody></table></div></details></td></tr><tr><td>Severity</td><td><span>Warning</span></td></tr><tr><td>Code</td><td><div class=\"dni-plaintext\"><pre>CS0618</pre></div></td></tr><tr><td>Message</td><td><div class=\"dni-plaintext\"><pre>&#39;SparqlRemoteEndpoint&#39; est obsol&#232;te&#160;: &#39;This class is obsolete and will be removed in a future release. Replaced by VDS.RDF.Query.SparqlQueryClient.&#39;</pre></div></td></tr></tbody></table></div></details></td></tr></tbody></table></td></tr><tr><td>FormattedDiagnostics</td><td><table><thead><tr><th><i>index</i></th><th>value</th></tr></thead><tbody><tr><td>0</td><td><details class=\"dni-treeview\"><summary><span class=\"dni-code-hint\"><code>Microsoft.DotNet.Interactive.FormattedValue</code></span></summary><div><table><thead><tr></tr></thead><tbody><tr><td>MimeType</td><td><div class=\"dni-plaintext\"><pre>text/plain</pre></div></td></tr><tr><td>Value</td><td><div class=\"dni-plaintext\"><pre>(2,1): warning CS0618: &#39;SparqlRemoteEndpoint&#39; est obsol&#232;te&#160;: &#39;This class is obsolete and will be removed in a future release. Replaced by VDS.RDF.Query.SparqlQueryClient.&#39;</pre></div></td></tr><tr><td>SuppressDisplay</td><td><div class=\"dni-plaintext\"><pre>False</pre></div></td></tr></tbody></table></div></details></td></tr><tr><td>1</td><td><details class=\"dni-treeview\"><summary><span class=\"dni-code-hint\"><code>Microsoft.DotNet.Interactive.FormattedValue</code></span></summary><div><table><thead><tr></tr></thead><tbody><tr><td>MimeType</td><td><div class=\"dni-plaintext\"><pre>text/plain</pre></div></td></tr><tr><td>Value</td><td><div class=\"dni-plaintext\"><pre>(2,37): warning CS0618: &#39;SparqlRemoteEndpoint&#39; est obsol&#232;te&#160;: &#39;This class is obsolete and will be removed in a future release. Replaced by VDS.RDF.Query.SparqlQueryClient.&#39;</pre></div></td></tr><tr><td>SuppressDisplay</td><td><div class=\"dni-plaintext\"><pre>False</pre></div></td></tr></tbody></table></div></details></td></tr></tbody></table></td></tr><tr><td>Command</td><td><details class=\"dni-treeview\"><summary><span class=\"dni-code-hint\"><code>SubmitCode: // Cr&#233;ation des objets n&#233;cessaire &#224; la t&#226;che deman ...</code></span></summary><div><table><thead><tr></tr></thead><tbody><tr><td>Code</td><td><div class=\"dni-plaintext\"><pre>// Cr&#233;ation des objets n&#233;cessaire &#224; la t&#226;che demand&#233;e\n",
       "SparqlRemoteEndpoint endpoint = new SparqlRemoteEndpoint(new Uri(&quot;https://dbpedia.org/sparql&quot;));\n",
       "// Exemple de requ&#234;te SPARQL\n",
       "string query = &quot;SELECT ?label WHERE { &lt;http://dbpedia.org/resource/Asturias&gt; rdfs:label ?label }&quot;;\n",
       "// Execution de la requ&#234;te\n",
       "SparqlResultSet results = endpoint.QueryWithResultSet(query);</pre></div></td></tr><tr><td>Handler</td><td><details class=\"dni-treeview\"><summary><span class=\"dni-code-hint\"><code>Microsoft.DotNet.Interactive.KernelCommandInvocation</code></span></summary><div><table><thead><tr></tr></thead><tbody><tr><td>Target</td><td><details class=\"dni-treeview\"><summary><span class=\"dni-code-hint\"><code>Microsoft.DotNet.Interactive.Kernel+&lt;&gt;c__DisplayClass82_0`1[Microsoft.DotNet.Interactive.Commands.SubmitCode]</code></span></summary><div><table><thead><tr></tr></thead><tbody><tr><td>handler</td><td>Microsoft.DotNet.Interactive.CSharp.CSharpKernel: csharp (kernel://local/csharp)</td></tr><tr><td>command</td><td>SubmitCode: // Création des objets nécessaire à la tâche deman ...</td></tr></tbody></table></div></details></td></tr><tr><td>Method</td><td><details class=\"dni-treeview\"><summary><span class=\"dni-code-hint\"><code>System.Threading.Tasks.Task &lt;SetHandler&gt;b__0(Microsoft.DotNet.Interactive.Commands.KernelCommand, Microsoft.DotNet.Interactive.KernelInvocationContext)</code></span></summary><div><table><thead><tr></tr></thead><tbody><tr><td>Name</td><td><SetHandler>b__0</td></tr><tr><td>DeclaringType</td><td>Microsoft.DotNet.Interactive.Kernel+<>c__DisplayClass82_0`1[Microsoft.DotNet.Interactive.Commands.SubmitCode]</td></tr><tr><td>ReflectedType</td><td>Microsoft.DotNet.Interactive.Kernel+<>c__DisplayClass82_0`1[Microsoft.DotNet.Interactive.Commands.SubmitCode]</td></tr><tr><td>MemberType</td><td>Method</td></tr><tr><td>MetadataToken</td><td>100664828</td></tr><tr><td>Module</td><td>Microsoft.DotNet.Interactive.dll</td></tr><tr><td>IsSecurityCritical</td><td>True</td></tr><tr><td>IsSecuritySafeCritical</td><td>False</td></tr><tr><td>IsSecurityTransparent</td><td>False</td></tr><tr><td>MethodHandle</td><td>System.RuntimeMethodHandle</td></tr><tr><td>Attributes</td><td>Assembly, HideBySig</td></tr><tr><td>CallingConvention</td><td>Standard, HasThis</td></tr><tr><td>ReturnType</td><td>System.Threading.Tasks.Task</td></tr><tr><td>ReturnTypeCustomAttributes</td><td>System.Threading.Tasks.Task</td></tr><tr><td>ReturnParameter</td><td>System.Threading.Tasks.Task</td></tr><tr><td>IsCollectible</td><td>False</td></tr><tr><td>IsGenericMethod</td><td>False</td></tr><tr><td>IsGenericMethodDefinition</td><td>False</td></tr><tr><td>ContainsGenericParameters</td><td>False</td></tr><tr><td>MethodImplementationFlags</td><td>IL</td></tr><tr><td>IsAbstract</td><td>False</td></tr><tr><td>IsConstructor</td><td>False</td></tr><tr><td>IsFinal</td><td>False</td></tr><tr><td>IsHideBySig</td><td>True</td></tr><tr><td>IsSpecialName</td><td>False</td></tr><tr><td>IsStatic</td><td>False</td></tr><tr><td>IsVirtual</td><td>False</td></tr><tr><td>IsAssembly</td><td>True</td></tr><tr><td>IsFamily</td><td>False</td></tr><tr><td>IsFamilyAndAssembly</td><td>False</td></tr><tr><td>IsFamilyOrAssembly</td><td>False</td></tr><tr><td>IsPrivate</td><td>False</td></tr><tr><td>IsPublic</td><td>False</td></tr><tr><td>IsConstructedGenericMethod</td><td>False</td></tr><tr><td>CustomAttributes</td><td>[  ]</td></tr></tbody></table></div></details></td></tr></tbody></table></div></details></td></tr><tr><td>Parent</td><td><details class=\"dni-treeview\"><summary><span class=\"dni-code-hint\"><code>SubmitCode: var logger = new DisplayLogger(&quot;NotebookUpdater&quot;,  ...</code></span></summary><div><table><thead><tr></tr></thead><tbody><tr><td>Code</td><td><div class=\"dni-plaintext\"><pre>var logger = new DisplayLogger(&quot;NotebookUpdater&quot;, LogLevel.Information);\n",
       "\n",
       "display(&quot;Cr&#233;ation de l&#39;instance NotebookUpdater...&quot;);\n",
       "var updater = new NotebookUpdater(semanticKernel, notebookPath, logger);\n",
       "\n",
       "display(&quot;Appel &#224; UpdateNotebook...&quot;);\n",
       "var response = await updater.UpdateNotebook();\n",
       "\n",
       "display($&quot;R&#233;sultat de l&#39;ex&#233;cution du notebook :\\n{response}&quot;);\n",
       "</pre></div></td></tr><tr><td>Handler</td><td><details class=\"dni-treeview\"><summary><span class=\"dni-code-hint\"><code>Microsoft.DotNet.Interactive.KernelCommandInvocation</code></span></summary><div><table><thead><tr></tr></thead><tbody><tr><td>Target</td><td>Microsoft.DotNet.Interactive.Kernel+<>c__DisplayClass82_0`1[Microsoft.DotNet.Interactive.Commands.SubmitCode]</td></tr><tr><td>Method</td><td>System.Threading.Tasks.Task <SetHandler>b__0(Microsoft.DotNet.Interactive.Commands.KernelCommand, Microsoft.DotNet.Interactive.KernelInvocationContext)</td></tr></tbody></table></div></details></td></tr><tr><td>Parent</td><td><div class=\"dni-plaintext\"><pre>&lt;null&gt;</pre></div></td></tr><tr><td>TargetKernelName</td><td><div class=\"dni-plaintext\"><pre>csharp</pre></div></td></tr><tr><td>OriginUri</td><td><div class=\"dni-plaintext\"><pre>&lt;null&gt;</pre></div></td></tr><tr><td>DestinationUri</td><td><div class=\"dni-plaintext\"><pre>&lt;null&gt;</pre></div></td></tr><tr><td>KernelChooserParseResult</td><td><div class=\"dni-plaintext\"><pre>&lt;null&gt;</pre></div></td></tr><tr><td>RoutingSlip</td><td>[ kernel://pid-37992/ (arrived), kernel://pid-37992/csharp (arrived) ]</td></tr></tbody></table></div></details></td></tr><tr><td>TargetKernelName</td><td><div class=\"dni-plaintext\"><pre>csharp</pre></div></td></tr><tr><td>OriginUri</td><td><div class=\"dni-plaintext\"><pre>&lt;null&gt;</pre></div></td></tr><tr><td>DestinationUri</td><td><div class=\"dni-plaintext\"><pre>&lt;null&gt;</pre></div></td></tr><tr><td>KernelChooserParseResult</td><td><div class=\"dni-plaintext\"><pre>&lt;null&gt;</pre></div></td></tr><tr><td>RoutingSlip</td><td><div class=\"dni-plaintext\"><pre>[ kernel://local/.NET (arrived), kernel://local/csharp (arrived), kernel://local/csharp, kernel://local/.NET ]</pre></div></td></tr></tbody></table></div></details></td></tr><tr><td>RoutingSlip</td><td><div class=\"dni-plaintext\"><pre>[ kernel://local/csharp, kernel://pid-37992/ ]</pre></div></td></tr></tbody></table></div></details></td></tr><tr><td>3</td><td><span><a href=\"https://docs.microsoft.com/dotnet/api/microsoft.dotnet.interactive.events.commandsucceeded?view=net-7.0\">Microsoft.DotNet.Interactive.Events.CommandSucceeded</a></span></td><td><details class=\"dni-treeview\"><summary><span class=\"dni-code-hint\"><code>CommandSucceeded: SubmitCode: // Cr&#233;ation des objets n&#233;cessaire &#224; la t&#226;che deman ...</code></span></summary><div><table><thead><tr></tr></thead><tbody><tr><td>ExecutionOrder</td><td><div class=\"dni-plaintext\"><pre>0</pre></div></td></tr><tr><td>Command</td><td><details class=\"dni-treeview\"><summary><span class=\"dni-code-hint\"><code>SubmitCode: // Cr&#233;ation des objets n&#233;cessaire &#224; la t&#226;che deman ...</code></span></summary><div><table><thead><tr></tr></thead><tbody><tr><td>Code</td><td><div class=\"dni-plaintext\"><pre>// Cr&#233;ation des objets n&#233;cessaire &#224; la t&#226;che demand&#233;e\n",
       "SparqlRemoteEndpoint endpoint = new SparqlRemoteEndpoint(new Uri(&quot;https://dbpedia.org/sparql&quot;));\n",
       "// Exemple de requ&#234;te SPARQL\n",
       "string query = &quot;SELECT ?label WHERE { &lt;http://dbpedia.org/resource/Asturias&gt; rdfs:label ?label }&quot;;\n",
       "// Execution de la requ&#234;te\n",
       "SparqlResultSet results = endpoint.QueryWithResultSet(query);</pre></div></td></tr><tr><td>Handler</td><td><details class=\"dni-treeview\"><summary><span class=\"dni-code-hint\"><code>Microsoft.DotNet.Interactive.KernelCommandInvocation</code></span></summary><div><table><thead><tr></tr></thead><tbody><tr><td>Target</td><td><details class=\"dni-treeview\"><summary><span class=\"dni-code-hint\"><code>Microsoft.DotNet.Interactive.Kernel+&lt;&gt;c__DisplayClass82_0`1[Microsoft.DotNet.Interactive.Commands.SubmitCode]</code></span></summary><div><table><thead><tr></tr></thead><tbody><tr><td>handler</td><td>Microsoft.DotNet.Interactive.CSharp.CSharpKernel: csharp (kernel://local/csharp)</td></tr><tr><td>command</td><td>SubmitCode: // Création des objets nécessaire à la tâche deman ...</td></tr></tbody></table></div></details></td></tr><tr><td>Method</td><td><details class=\"dni-treeview\"><summary><span class=\"dni-code-hint\"><code>System.Threading.Tasks.Task &lt;SetHandler&gt;b__0(Microsoft.DotNet.Interactive.Commands.KernelCommand, Microsoft.DotNet.Interactive.KernelInvocationContext)</code></span></summary><div><table><thead><tr></tr></thead><tbody><tr><td>Name</td><td><SetHandler>b__0</td></tr><tr><td>DeclaringType</td><td>Microsoft.DotNet.Interactive.Kernel+<>c__DisplayClass82_0`1[Microsoft.DotNet.Interactive.Commands.SubmitCode]</td></tr><tr><td>ReflectedType</td><td>Microsoft.DotNet.Interactive.Kernel+<>c__DisplayClass82_0`1[Microsoft.DotNet.Interactive.Commands.SubmitCode]</td></tr><tr><td>MemberType</td><td>Method</td></tr><tr><td>MetadataToken</td><td>100664828</td></tr><tr><td>Module</td><td>Microsoft.DotNet.Interactive.dll</td></tr><tr><td>IsSecurityCritical</td><td>True</td></tr><tr><td>IsSecuritySafeCritical</td><td>False</td></tr><tr><td>IsSecurityTransparent</td><td>False</td></tr><tr><td>MethodHandle</td><td>System.RuntimeMethodHandle</td></tr><tr><td>Attributes</td><td>Assembly, HideBySig</td></tr><tr><td>CallingConvention</td><td>Standard, HasThis</td></tr><tr><td>ReturnType</td><td>System.Threading.Tasks.Task</td></tr><tr><td>ReturnTypeCustomAttributes</td><td>System.Threading.Tasks.Task</td></tr><tr><td>ReturnParameter</td><td>System.Threading.Tasks.Task</td></tr><tr><td>IsCollectible</td><td>False</td></tr><tr><td>IsGenericMethod</td><td>False</td></tr><tr><td>IsGenericMethodDefinition</td><td>False</td></tr><tr><td>ContainsGenericParameters</td><td>False</td></tr><tr><td>MethodImplementationFlags</td><td>IL</td></tr><tr><td>IsAbstract</td><td>False</td></tr><tr><td>IsConstructor</td><td>False</td></tr><tr><td>IsFinal</td><td>False</td></tr><tr><td>IsHideBySig</td><td>True</td></tr><tr><td>IsSpecialName</td><td>False</td></tr><tr><td>IsStatic</td><td>False</td></tr><tr><td>IsVirtual</td><td>False</td></tr><tr><td>IsAssembly</td><td>True</td></tr><tr><td>IsFamily</td><td>False</td></tr><tr><td>IsFamilyAndAssembly</td><td>False</td></tr><tr><td>IsFamilyOrAssembly</td><td>False</td></tr><tr><td>IsPrivate</td><td>False</td></tr><tr><td>IsPublic</td><td>False</td></tr><tr><td>IsConstructedGenericMethod</td><td>False</td></tr><tr><td>CustomAttributes</td><td>[  ]</td></tr></tbody></table></div></details></td></tr></tbody></table></div></details></td></tr><tr><td>Parent</td><td><details class=\"dni-treeview\"><summary><span class=\"dni-code-hint\"><code>SubmitCode: var logger = new DisplayLogger(&quot;NotebookUpdater&quot;,  ...</code></span></summary><div><table><thead><tr></tr></thead><tbody><tr><td>Code</td><td><div class=\"dni-plaintext\"><pre>var logger = new DisplayLogger(&quot;NotebookUpdater&quot;, LogLevel.Information);\n",
       "\n",
       "display(&quot;Cr&#233;ation de l&#39;instance NotebookUpdater...&quot;);\n",
       "var updater = new NotebookUpdater(semanticKernel, notebookPath, logger);\n",
       "\n",
       "display(&quot;Appel &#224; UpdateNotebook...&quot;);\n",
       "var response = await updater.UpdateNotebook();\n",
       "\n",
       "display($&quot;R&#233;sultat de l&#39;ex&#233;cution du notebook :\\n{response}&quot;);\n",
       "</pre></div></td></tr><tr><td>Handler</td><td><details class=\"dni-treeview\"><summary><span class=\"dni-code-hint\"><code>Microsoft.DotNet.Interactive.KernelCommandInvocation</code></span></summary><div><table><thead><tr></tr></thead><tbody><tr><td>Target</td><td>Microsoft.DotNet.Interactive.Kernel+<>c__DisplayClass82_0`1[Microsoft.DotNet.Interactive.Commands.SubmitCode]</td></tr><tr><td>Method</td><td>System.Threading.Tasks.Task <SetHandler>b__0(Microsoft.DotNet.Interactive.Commands.KernelCommand, Microsoft.DotNet.Interactive.KernelInvocationContext)</td></tr></tbody></table></div></details></td></tr><tr><td>Parent</td><td><div class=\"dni-plaintext\"><pre>&lt;null&gt;</pre></div></td></tr><tr><td>TargetKernelName</td><td><div class=\"dni-plaintext\"><pre>csharp</pre></div></td></tr><tr><td>OriginUri</td><td><div class=\"dni-plaintext\"><pre>&lt;null&gt;</pre></div></td></tr><tr><td>DestinationUri</td><td><div class=\"dni-plaintext\"><pre>&lt;null&gt;</pre></div></td></tr><tr><td>KernelChooserParseResult</td><td><div class=\"dni-plaintext\"><pre>&lt;null&gt;</pre></div></td></tr><tr><td>RoutingSlip</td><td>[ kernel://pid-37992/ (arrived), kernel://pid-37992/csharp (arrived) ]</td></tr></tbody></table></div></details></td></tr><tr><td>TargetKernelName</td><td><div class=\"dni-plaintext\"><pre>csharp</pre></div></td></tr><tr><td>OriginUri</td><td><div class=\"dni-plaintext\"><pre>&lt;null&gt;</pre></div></td></tr><tr><td>DestinationUri</td><td><div class=\"dni-plaintext\"><pre>&lt;null&gt;</pre></div></td></tr><tr><td>KernelChooserParseResult</td><td><div class=\"dni-plaintext\"><pre>&lt;null&gt;</pre></div></td></tr><tr><td>RoutingSlip</td><td><div class=\"dni-plaintext\"><pre>[ kernel://local/.NET (arrived), kernel://local/csharp (arrived), kernel://local/csharp, kernel://local/.NET ]</pre></div></td></tr></tbody></table></div></details></td></tr><tr><td>RoutingSlip</td><td><div class=\"dni-plaintext\"><pre>[ kernel://local/csharp ]</pre></div></td></tr></tbody></table></div></details></td></tr></tbody></table></td></tr></tbody></table></div></details><style>\r\n",
       ".dni-code-hint {\r\n",
       "    font-style: italic;\r\n",
       "    overflow: hidden;\r\n",
       "    white-space: nowrap;\r\n",
       "}\r\n",
       ".dni-treeview {\r\n",
       "    white-space: nowrap;\r\n",
       "}\r\n",
       ".dni-treeview td {\r\n",
       "    vertical-align: top;\r\n",
       "    text-align: start;\r\n",
       "}\r\n",
       "details.dni-treeview {\r\n",
       "    padding-left: 1em;\r\n",
       "}\r\n",
       "table td {\r\n",
       "    text-align: start;\r\n",
       "}\r\n",
       "table tr { \r\n",
       "    vertical-align: top; \r\n",
       "    margin: 0em 0px;\r\n",
       "}\r\n",
       "table tr td pre \r\n",
       "{ \r\n",
       "    vertical-align: top !important; \r\n",
       "    margin: 0em 0px !important;\r\n",
       "} \r\n",
       "table th {\r\n",
       "    text-align: start;\r\n",
       "}\r\n",
       "</style>"
      ]
     },
     "metadata": {},
     "output_type": "display_data"
    },
    {
     "data": {
      "text/plain": [
       "Affichage du markdown: \n",
       "## Traitement"
      ]
     },
     "metadata": {},
     "output_type": "display_data"
    },
    {
     "data": {
      "text/markdown": [
       "## Traitement"
      ]
     },
     "metadata": {},
     "output_type": "display_data"
    },
    {
     "data": {
      "text/plain": [
       "Envoi du code au kernel csharp:\n",
       "// Utilisation de l'infrastructure initialisée pour réaliser la tâche demandée\n",
       "var labels = new List<string>();\n",
       "foreach (var result in results)\n",
       "{\n",
       "    labels.Add(result[\"label\"].ToString());\n",
       "}\n",
       "// Création du graphique\n",
       "var chart = Chart.Plot(new Graph.Scattergl()\n",
       "{\n",
       "    x = Enumerable.Range(1, labels.Count),\n",
       "    y = labels\n",
       "});\n",
       "chart.WithTitle(\"Labels for Asturias\");\n",
       "display(chart);"
      ]
     },
     "metadata": {},
     "output_type": "display_data"
    },
    {
     "ename": "Error",
     "evalue": "(8,34): error CS0426: Le nom de type 'Scattergl' n'existe pas dans le type 'Graph'",
     "output_type": "error",
     "traceback": [
      "(8,34): error CS0426: Le nom de type 'Scattergl' n'existe pas dans le type 'Graph'"
     ]
    },
    {
     "data": {
      "text/html": [
       "<details open=\"open\" class=\"dni-treeview\"><summary><span class=\"dni-code-hint\"><code>Microsoft.DotNet.Interactive.KernelCommandResult</code></span></summary><div><table><thead><tr></tr></thead><tbody><tr><td>Command</td><td><details class=\"dni-treeview\"><summary><span class=\"dni-code-hint\"><code>SubmitCode: // Utilisation de l&#39;infrastructure initialis&#233;e pou ...</code></span></summary><div><table><thead><tr></tr></thead><tbody><tr><td>Code</td><td><div class=\"dni-plaintext\"><pre>// Utilisation de l&#39;infrastructure initialis&#233;e pour r&#233;aliser la t&#226;che demand&#233;e\n",
       "var labels = new List&lt;string&gt;();\n",
       "foreach (var result in results)\n",
       "{\n",
       "    labels.Add(result[&quot;label&quot;].ToString());\n",
       "}\n",
       "// Cr&#233;ation du graphique\n",
       "var chart = Chart.Plot(new Graph.Scattergl()\n",
       "{\n",
       "    x = Enumerable.Range(1, labels.Count),\n",
       "    y = labels\n",
       "});\n",
       "chart.WithTitle(&quot;Labels for Asturias&quot;);\n",
       "display(chart);</pre></div></td></tr><tr><td>Handler</td><td><details class=\"dni-treeview\"><summary><span class=\"dni-code-hint\"><code>Microsoft.DotNet.Interactive.KernelCommandInvocation</code></span></summary><div><table><thead><tr></tr></thead><tbody><tr><td>Target</td><td><details class=\"dni-treeview\"><summary><span class=\"dni-code-hint\"><code>Microsoft.DotNet.Interactive.Kernel+&lt;&gt;c__DisplayClass82_0`1[Microsoft.DotNet.Interactive.Commands.SubmitCode]</code></span></summary><div><table><thead><tr></tr></thead><tbody><tr><td>handler</td><td><details class=\"dni-treeview\"><summary><span class=\"dni-code-hint\"><code>Microsoft.DotNet.Interactive.CSharp.CSharpKernel: csharp (kernel://local/csharp)</code></span></summary><div><table><thead><tr></tr></thead><tbody><tr><td>ScriptState</td><td><details class=\"dni-treeview\"><summary><span class=\"dni-code-hint\"><code>Microsoft.CodeAnalysis.Scripting.ScriptState`1[System.Object]</code></span></summary><div><table><thead><tr></tr></thead><tbody><tr><td>ReturnValue</td><td>Microsoft.CodeAnalysis.Scripting.ScriptState`1[System.Object]</td></tr><tr><td>Script</td><td>Microsoft.CodeAnalysis.Scripting.Script`1[System.Object]</td></tr><tr><td>Exception</td><td><div class=\"dni-plaintext\"><pre>&lt;null&gt;</pre></div></td></tr><tr><td>ReturnValue</td><td>Microsoft.CodeAnalysis.Scripting.ScriptState`1[System.Object]</td></tr><tr><td>Variables</td><td>[ Microsoft.CodeAnalysis.Scripting.ScriptVariable, Microsoft.CodeAnalysis.Scripting.ScriptVariable, Microsoft.CodeAnalysis.Scripting.ScriptVariable, Microsoft.CodeAnalysis.Scripting.ScriptVariable, Microsoft.CodeAnalysis.Scripting.ScriptVariable, Microsoft.CodeAnalysis.Scripting.ScriptVariable ]</td></tr></tbody></table></div></details></td></tr><tr><td>ParentKernel</td><td><details class=\"dni-treeview\"><summary><span class=\"dni-code-hint\"><code>[ Microsoft.DotNet.Interactive.CSharp.CSharpKernel: csharp (kernel://local/csharp) ]</code></span></summary><div><table><thead><tr></tr></thead><tbody><tr><td>DefaultKernelName</td><td>csharp</td></tr><tr><td>ChildKernels</td><td>[ Microsoft.DotNet.Interactive.CSharp.CSharpKernel: csharp (kernel://local/csharp) ]</td></tr><tr><td>Host</td><td><div class=\"dni-plaintext\"><pre>&lt;null&gt;</pre></div></td></tr><tr><td>ParentKernel</td><td><div class=\"dni-plaintext\"><pre>&lt;null&gt;</pre></div></td></tr><tr><td>RootKernel</td><td>[ Microsoft.DotNet.Interactive.CSharp.CSharpKernel: csharp (kernel://local/csharp) ]</td></tr><tr><td>SubmissionCount</td><td>0</td></tr><tr><td>SubmissionParser</td><td>Microsoft.DotNet.Interactive.Parsing.SubmissionParser</td></tr><tr><td>FrontendEnvironment</td><td>Microsoft.DotNet.Interactive.AutomationEnvironment</td></tr><tr><td>KernelEvents</td><td>System.Reactive.Subjects.Subject`1[Microsoft.DotNet.Interactive.Events.KernelEvent]</td></tr><tr><td>Name</td><td>.NET</td></tr><tr><td>KernelInfo</td><td>.NET (kernel://local/.NET)</td></tr><tr><td>Directives</td><td>[ [  ] ]</td></tr><tr><td>ChooseKernelDirective</td><td>[  ]</td></tr><tr><td><i>(values)</i></td><td><table><thead><tr><th><i>index</i></th><th>value</th></tr></thead><tbody><tr><td>0</td><td>Microsoft.DotNet.Interactive.CSharp.CSharpKernel: csharp (kernel://local/csharp)</td></tr></tbody></table></td></tr></tbody></table></div></details></td></tr><tr><td>RootKernel</td><td><details class=\"dni-treeview\"><summary><span class=\"dni-code-hint\"><code>[ Microsoft.DotNet.Interactive.CSharp.CSharpKernel: csharp (kernel://local/csharp) ]</code></span></summary><div><table><thead><tr></tr></thead><tbody><tr><td>DefaultKernelName</td><td>csharp</td></tr><tr><td>ChildKernels</td><td>[ Microsoft.DotNet.Interactive.CSharp.CSharpKernel: csharp (kernel://local/csharp) ]</td></tr><tr><td>Host</td><td><div class=\"dni-plaintext\"><pre>&lt;null&gt;</pre></div></td></tr><tr><td>ParentKernel</td><td><div class=\"dni-plaintext\"><pre>&lt;null&gt;</pre></div></td></tr><tr><td>RootKernel</td><td>[ Microsoft.DotNet.Interactive.CSharp.CSharpKernel: csharp (kernel://local/csharp) ]</td></tr><tr><td>SubmissionCount</td><td>0</td></tr><tr><td>SubmissionParser</td><td>Microsoft.DotNet.Interactive.Parsing.SubmissionParser</td></tr><tr><td>FrontendEnvironment</td><td>Microsoft.DotNet.Interactive.AutomationEnvironment</td></tr><tr><td>KernelEvents</td><td>System.Reactive.Subjects.Subject`1[Microsoft.DotNet.Interactive.Events.KernelEvent]</td></tr><tr><td>Name</td><td>.NET</td></tr><tr><td>KernelInfo</td><td>.NET (kernel://local/.NET)</td></tr><tr><td>Directives</td><td>[ [  ] ]</td></tr><tr><td>ChooseKernelDirective</td><td>[  ]</td></tr><tr><td><i>(values)</i></td><td><table><thead><tr><th><i>index</i></th><th>value</th></tr></thead><tbody><tr><td>0</td><td>Microsoft.DotNet.Interactive.CSharp.CSharpKernel: csharp (kernel://local/csharp)</td></tr></tbody></table></td></tr></tbody></table></div></details></td></tr><tr><td>SubmissionCount</td><td><div class=\"dni-plaintext\"><pre>0</pre></div></td></tr><tr><td>SubmissionParser</td><td><details class=\"dni-treeview\"><summary><span class=\"dni-code-hint\"><code>Microsoft.DotNet.Interactive.Parsing.SubmissionParser</code></span></summary><div><table><thead><tr></tr></thead><tbody><tr><td>Directives</td><td>[ [  ], [  ], [ Option`1: from, Option`1: mime-type, Option`1: as, Argument: name ], [ Option`1: name, Option`1: value, Option`1: mime-type, Option`1: byref ], [ Argument: source ], [ Argument: package ], [  ] ]</td></tr></tbody></table></div></details></td></tr><tr><td>FrontendEnvironment</td><td><details class=\"dni-treeview\"><summary><span class=\"dni-code-hint\"><code>Microsoft.DotNet.Interactive.AutomationEnvironment</code></span></summary><div><table><thead><tr></tr></thead><tbody></tbody></table></div></details></td></tr><tr><td>KernelEvents</td><td><details class=\"dni-treeview\"><summary><span class=\"dni-code-hint\"><code>System.Reactive.Subjects.Subject`1[Microsoft.DotNet.Interactive.Events.KernelEvent]</code></span></summary><div><table><thead><tr></tr></thead><tbody><tr><td>HasObservers</td><td>True</td></tr><tr><td>IsDisposed</td><td>False</td></tr></tbody></table></div></details></td></tr><tr><td>Name</td><td><div class=\"dni-plaintext\"><pre>csharp</pre></div></td></tr><tr><td>KernelInfo</td><td><details class=\"dni-treeview\"><summary><span class=\"dni-code-hint\"><code>csharp (kernel://local/csharp)</code></span></summary><div><table><thead><tr></tr></thead><tbody><tr><td>Aliases</td><td>[  ]</td></tr><tr><td>LanguageName</td><td>C#</td></tr><tr><td>LanguageVersion</td><td>12.0</td></tr><tr><td>IsProxy</td><td>False</td></tr><tr><td>IsComposite</td><td>False</td></tr><tr><td>DisplayName</td><td>csharp - C# Script</td></tr><tr><td>LocalName</td><td>csharp</td></tr><tr><td>Uri</td><td>kernel://local/csharp</td></tr><tr><td>RemoteUri</td><td><div class=\"dni-plaintext\"><pre>&lt;null&gt;</pre></div></td></tr><tr><td>Description</td><td>This Kernel can compile and execute C# code and display the results.\r\n",
       "The language is C# Scripting, a dialect of C# that is used for interactive programming.\r\n",
       "\r\n",
       "Can load packages from nuget.org or any other nuget feed.</td></tr><tr><td>SupportedKernelCommands</td><td>[ KernelCommandInfo { Name = RequestKernelInfo }, KernelCommandInfo { Name = RequestCompletions }, KernelCommandInfo { Name = RequestDiagnostics }, KernelCommandInfo { Name = RequestHoverText }, KernelCommandInfo { Name = RequestSignatureHelp }, KernelCommandInfo { Name = RequestValue }, KernelCommandInfo { Name = RequestValueInfos }, KernelCommandInfo { Name = SendValue }, KernelCommandInfo { Name = SubmitCode } ]</td></tr><tr><td>SupportedDirectives</td><td>[ KernelDirectiveInfo { Name = #!who }, KernelDirectiveInfo { Name = #!whos }, KernelDirectiveInfo { Name = #!share }, KernelDirectiveInfo { Name = #!set }, KernelDirectiveInfo { Name = #i }, KernelDirectiveInfo { Name = #r }, KernelDirectiveInfo { Name = #!nuget-restore } ]</td></tr></tbody></table></div></details></td></tr><tr><td>Directives</td><td><table><thead><tr><th><i>index</i></th><th>value</th></tr></thead><tbody><tr><td>0</td><td></td></tr><tr><td>1</td><td></td></tr><tr><td>2</td><td>[ Option`1: from, Option`1: mime-type, Option`1: as, Argument: name ]</td></tr><tr><td>3</td><td>[ Option`1: name, Option`1: value, Option`1: mime-type, Option`1: byref ]</td></tr><tr><td>4</td><td>[ Argument: source ]</td></tr><tr><td>5</td><td>[ Argument: package ]</td></tr><tr><td>6</td><td></td></tr></tbody></table></td></tr><tr><td>ChooseKernelDirective</td><td><details class=\"dni-treeview\"><summary><span class=\"dni-code-hint\"><code>[  ]</code></span></summary><div><table><thead><tr></tr></thead><tbody><tr><td>Kernel</td><td>Microsoft.DotNet.Interactive.CSharp.CSharpKernel: csharp (kernel://local/csharp)</td></tr><tr><td>Children</td><td>[  ]</td></tr><tr><td>Arguments</td><td>[  ]</td></tr><tr><td>Options</td><td>[  ]</td></tr><tr><td>Subcommands</td><td>[  ]</td></tr><tr><td>TreatUnmatchedTokensAsErrors</td><td>True</td></tr><tr><td>Handler</td><td>System.CommandLine.NamingConventionBinder.ModelBindingCommandHandler</td></tr><tr><td>Aliases</td><td>[ #!csharp ]</td></tr><tr><td>Name</td><td>#!csharp</td></tr><tr><td>Description</td><td>Run the code that follows using the csharp kernel.</td></tr><tr><td>IsHidden</td><td>False</td></tr><tr><td>Parents</td><td>[ [ [  ], HelpOption: help ] ]</td></tr><tr><td><i>(values)</i></td><td><i>(empty)</i></td></tr></tbody></table></div></details></td></tr></tbody></table></div></details></td></tr><tr><td>command</td><td><details class=\"dni-treeview\"><summary><span class=\"dni-code-hint\"><code>SubmitCode: // Utilisation de l&#39;infrastructure initialis&#233;e pou ...</code></span></summary><div><table><thead><tr></tr></thead><tbody><tr><td>Code</td><td><div class=\"dni-plaintext\"><pre>// Utilisation de l&#39;infrastructure initialis&#233;e pour r&#233;aliser la t&#226;che demand&#233;e\n",
       "var labels = new List&lt;string&gt;();\n",
       "foreach (var result in results)\n",
       "{\n",
       "    labels.Add(result[&quot;label&quot;].ToString());\n",
       "}\n",
       "// Cr&#233;ation du graphique\n",
       "var chart = Chart.Plot(new Graph.Scattergl()\n",
       "{\n",
       "    x = Enumerable.Range(1, labels.Count),\n",
       "    y = labels\n",
       "});\n",
       "chart.WithTitle(&quot;Labels for Asturias&quot;);\n",
       "display(chart);</pre></div></td></tr><tr><td>Handler</td><td><details class=\"dni-treeview\"><summary><span class=\"dni-code-hint\"><code>Microsoft.DotNet.Interactive.KernelCommandInvocation</code></span></summary><div><table><thead><tr></tr></thead><tbody><tr><td>Target</td><td>Microsoft.DotNet.Interactive.Kernel+<>c__DisplayClass82_0`1[Microsoft.DotNet.Interactive.Commands.SubmitCode]</td></tr><tr><td>Method</td><td>System.Threading.Tasks.Task <SetHandler>b__0(Microsoft.DotNet.Interactive.Commands.KernelCommand, Microsoft.DotNet.Interactive.KernelInvocationContext)</td></tr></tbody></table></div></details></td></tr><tr><td>Parent</td><td><details class=\"dni-treeview\"><summary><span class=\"dni-code-hint\"><code>SubmitCode: var logger = new DisplayLogger(&quot;NotebookUpdater&quot;,  ...</code></span></summary><div><table><thead><tr></tr></thead><tbody><tr><td>Code</td><td>var logger = new DisplayLogger(\"NotebookUpdater\", LogLevel.Information);\n",
       "\n",
       "display(\"Création de l'instance NotebookUpdater...\");\n",
       "var updater = new NotebookUpdater(semanticKernel, notebookPath, logger);\n",
       "\n",
       "display(\"Appel à UpdateNotebook...\");\n",
       "var response = await updater.UpdateNotebook();\n",
       "\n",
       "display($\"Résultat de l'exécution du notebook :\\n{response}\");\n",
       "</td></tr><tr><td>Handler</td><td>Microsoft.DotNet.Interactive.KernelCommandInvocation</td></tr><tr><td>Parent</td><td><div class=\"dni-plaintext\"><pre>&lt;null&gt;</pre></div></td></tr><tr><td>TargetKernelName</td><td>csharp</td></tr><tr><td>OriginUri</td><td><div class=\"dni-plaintext\"><pre>&lt;null&gt;</pre></div></td></tr><tr><td>DestinationUri</td><td><div class=\"dni-plaintext\"><pre>&lt;null&gt;</pre></div></td></tr><tr><td>KernelChooserParseResult</td><td><div class=\"dni-plaintext\"><pre>&lt;null&gt;</pre></div></td></tr><tr><td>RoutingSlip</td><td>[kernel://pid-37992/ (arrived), kernel://pid-37992/csharp (arrived)]</td></tr></tbody></table></div></details></td></tr><tr><td>TargetKernelName</td><td><div class=\"dni-plaintext\"><pre>csharp</pre></div></td></tr><tr><td>OriginUri</td><td><div class=\"dni-plaintext\"><pre>&lt;null&gt;</pre></div></td></tr><tr><td>DestinationUri</td><td><div class=\"dni-plaintext\"><pre>&lt;null&gt;</pre></div></td></tr><tr><td>KernelChooserParseResult</td><td><div class=\"dni-plaintext\"><pre>&lt;null&gt;</pre></div></td></tr><tr><td>RoutingSlip</td><td>[ kernel://local/.NET (arrived), kernel://local/csharp (arrived), kernel://local/csharp, kernel://local/.NET ]</td></tr></tbody></table></div></details></td></tr></tbody></table></div></details></td></tr><tr><td>Method</td><td><details class=\"dni-treeview\"><summary><span class=\"dni-code-hint\"><code>System.Threading.Tasks.Task &lt;SetHandler&gt;b__0(Microsoft.DotNet.Interactive.Commands.KernelCommand, Microsoft.DotNet.Interactive.KernelInvocationContext)</code></span></summary><div><table><thead><tr></tr></thead><tbody><tr><td>Name</td><td><div class=\"dni-plaintext\"><pre>&lt;SetHandler&gt;b__0</pre></div></td></tr><tr><td>DeclaringType</td><td><span><a href=\"https://docs.microsoft.com/dotnet/api/microsoft.dotnet.interactive.kernel.&lt;>c__displayclass82_0-1?view=net-7.0\">Microsoft.DotNet.Interactive.Kernel+&lt;&gt;c__DisplayClass82_0&lt;Microsoft.DotNet.Interactive.Commands.SubmitCode&gt;</a></span></td></tr><tr><td>ReflectedType</td><td><span><a href=\"https://docs.microsoft.com/dotnet/api/microsoft.dotnet.interactive.kernel.&lt;>c__displayclass82_0-1?view=net-7.0\">Microsoft.DotNet.Interactive.Kernel+&lt;&gt;c__DisplayClass82_0&lt;Microsoft.DotNet.Interactive.Commands.SubmitCode&gt;</a></span></td></tr><tr><td>MemberType</td><td><span>Method</span></td></tr><tr><td>MetadataToken</td><td><div class=\"dni-plaintext\"><pre>100664828</pre></div></td></tr><tr><td>Module</td><td><details class=\"dni-treeview\"><summary><span class=\"dni-code-hint\"><code>Microsoft.DotNet.Interactive.dll</code></span></summary><div><table><thead><tr></tr></thead><tbody><tr><td>MDStreamVersion</td><td><div class=\"dni-plaintext\"><pre>131072</pre></div></td></tr><tr><td>FullyQualifiedName</td><td><div class=\"dni-plaintext\"><pre>C:\\Users\\Administrateur.000\\.nuget\\packages\\microsoft.dotnet-interactive\\1.0.522904\\tools\\net8.0\\any\\Microsoft.DotNet.Interactive.dll</pre></div></td></tr><tr><td>ModuleVersionId</td><td><div class=\"dni-plaintext\"><pre>ee6aec0a-8e1f-4e4c-97e3-57418e1dc7e0</pre></div></td></tr><tr><td>MetadataToken</td><td><div class=\"dni-plaintext\"><pre>1</pre></div></td></tr><tr><td>ScopeName</td><td><div class=\"dni-plaintext\"><pre>Microsoft.DotNet.Interactive.dll</pre></div></td></tr><tr><td>Name</td><td><div class=\"dni-plaintext\"><pre>Microsoft.DotNet.Interactive.dll</pre></div></td></tr><tr><td>Assembly</td><td><details class=\"dni-treeview\"><summary><span class=\"dni-code-hint\"><code>Microsoft.DotNet.Interactive, Version=1.0.0.0, Culture=neutral, PublicKeyToken=31bf3856ad364e35</code></span></summary><div><table><thead><tr></tr></thead><tbody><tr><td>CodeBase</td><td>file:///C:/Users/Administrateur.000/.nuget/packages/microsoft.dotnet-interactive/1.0.522904/tools/net8.0/any/Microsoft.DotNet.Interactive.dll</td></tr><tr><td>FullName</td><td>Microsoft.DotNet.Interactive, Version=1.0.0.0, Culture=neutral, PublicKeyToken=31bf3856ad364e35</td></tr><tr><td>EntryPoint</td><td><div class=\"dni-plaintext\"><pre>&lt;null&gt;</pre></div></td></tr><tr><td>DefinedTypes</td><td>[ <>f__AnonymousType0`2[<Command>j__TPar,<ValueInfos>j__TPar], System.DisplayExtensions, System.Runtime.CompilerServices.IsExternalInit, Microsoft.DotNet.Interactive.AutomationEnvironment, Microsoft.DotNet.Interactive.Base64EncodedAssembly, Microsoft.DotNet.Interactive.ChooseKernelDirective, Microsoft.DotNet.Interactive.ChooseKeyValueStoreKernelDirective, Microsoft.DotNet.Interactive.CodeSubmissionCompilationErrorException, Microsoft.DotNet.Interactive.CommandNotSupportedException, Microsoft.DotNet.Interactive.CommandRoutingSlip, Microsoft.DotNet.Interactive.CompositeKernel, Microsoft.DotNet.Interactive.DataDictionaryConverter, Microsoft.DotNet.Interactive.DataExplorer, Microsoft.DotNet.Interactive.DataExplorerFormatterSource, Microsoft.DotNet.Interactive.DataExplorer`1[TData], Microsoft.DotNet.Interactive.Diagnostic, Microsoft.DotNet.Interactive.DisplayedValue, Microsoft.DotNet.Interactive.EventRoutingSlip, Microsoft.DotNet.Interactive.FormattedValue, Microsoft.DotNet.Interactive.FrontendEnvironment ... (457 more) ]</td></tr><tr><td>IsCollectible</td><td>False</td></tr><tr><td>ManifestModule</td><td>Microsoft.DotNet.Interactive.dll</td></tr><tr><td>ReflectionOnly</td><td>False</td></tr><tr><td>Location</td><td>C:\\Users\\Administrateur.000\\.nuget\\packages\\microsoft.dotnet-interactive\\1.0.522904\\tools\\net8.0\\any\\Microsoft.DotNet.Interactive.dll</td></tr><tr><td>ImageRuntimeVersion</td><td>v4.0.30319</td></tr><tr><td>GlobalAssemblyCache</td><td>False</td></tr><tr><td>HostContext</td><td>0</td></tr><tr><td>IsDynamic</td><td>False</td></tr><tr><td>ExportedTypes</td><td>[ System.DisplayExtensions, Microsoft.DotNet.Interactive.AutomationEnvironment, Microsoft.DotNet.Interactive.Base64EncodedAssembly, Microsoft.DotNet.Interactive.ChooseKernelDirective, Microsoft.DotNet.Interactive.ChooseKeyValueStoreKernelDirective, Microsoft.DotNet.Interactive.CodeSubmissionCompilationErrorException, Microsoft.DotNet.Interactive.CommandNotSupportedException, Microsoft.DotNet.Interactive.CommandRoutingSlip, Microsoft.DotNet.Interactive.CompositeKernel, Microsoft.DotNet.Interactive.DataDictionaryConverter, Microsoft.DotNet.Interactive.DataExplorer, Microsoft.DotNet.Interactive.DataExplorer`1[TData], Microsoft.DotNet.Interactive.Diagnostic, Microsoft.DotNet.Interactive.DisplayedValue, Microsoft.DotNet.Interactive.EventRoutingSlip, Microsoft.DotNet.Interactive.FormattedValue, Microsoft.DotNet.Interactive.FrontendEnvironment, Microsoft.DotNet.Interactive.HtmlKernel, Microsoft.DotNet.Interactive.IKernelCommandHandler`1[TCommand], Microsoft.DotNet.Interactive.IKernelExtension ... (139 more) ]</td></tr><tr><td>IsFullyTrusted</td><td>True</td></tr><tr><td>CustomAttributes</td><td>[ [System.Runtime.CompilerServices.ExtensionAttribute()], [System.Runtime.CompilerServices.CompilationRelaxationsAttribute((Int32)8)], [System.Runtime.CompilerServices.RuntimeCompatibilityAttribute(WrapNonExceptionThrows = True)], [System.Diagnostics.DebuggableAttribute((System.Diagnostics.DebuggableAttribute+DebuggingModes)2)], [System.Runtime.Versioning.TargetFrameworkAttribute(\".NETCoreApp,Version=v8.0\", FrameworkDisplayName = \".NET 8.0\")], [System.Reflection.AssemblyCompanyAttribute(\"Microsoft Corporation\")], [System.Reflection.AssemblyConfigurationAttribute(\"Release\")], [System.Reflection.AssemblyCopyrightAttribute(\"© Microsoft Corporation. All rights reserved.\")], [System.Reflection.AssemblyFileVersionAttribute(\"1.0.24.22904\")], [System.Reflection.AssemblyInformationalVersionAttribute(\"1.0.0-beta.24229.4+cdfa48b2ea1a27dfe0f545c42a34fd3ec7119074\")], [System.Reflection.AssemblyProductAttribute(\"Microsoft.DotNet.Interactive\")], [System.Reflection.AssemblyTitleAttribute(\"Microsoft.DotNet.Interactive\")], [System.Reflection.AssemblyMetadataAttribute(\"RepositoryUrl\", \"https://github.com/dotnet/interactive\")], [System.Resources.NeutralResourcesLanguageAttribute(\"en-US\")] ]</td></tr><tr><td>EscapedCodeBase</td><td>file:///C:/Users/Administrateur.000/.nuget/packages/microsoft.dotnet-interactive/1.0.522904/tools/net8.0/any/Microsoft.DotNet.Interactive.dll</td></tr><tr><td>Modules</td><td>[ Microsoft.DotNet.Interactive.dll ]</td></tr><tr><td>SecurityRuleSet</td><td>None</td></tr></tbody></table></div></details></td></tr><tr><td>ModuleHandle</td><td><details class=\"dni-treeview\"><summary><span class=\"dni-code-hint\"><code>System.ModuleHandle</code></span></summary><div><table><thead><tr></tr></thead><tbody><tr><td>MDStreamVersion</td><td>131072</td></tr></tbody></table></div></details></td></tr><tr><td>CustomAttributes</td><td><table><thead><tr><th><i>index</i></th><th>value</th></tr></thead><tbody><tr><td>0</td><td>[System.Runtime.CompilerServices.RefSafetyRulesAttribute((Int32)11)]</td></tr></tbody></table></td></tr></tbody></table></div></details></td></tr><tr><td>IsSecurityCritical</td><td><div class=\"dni-plaintext\"><pre>True</pre></div></td></tr><tr><td>IsSecuritySafeCritical</td><td><div class=\"dni-plaintext\"><pre>False</pre></div></td></tr><tr><td>IsSecurityTransparent</td><td><div class=\"dni-plaintext\"><pre>False</pre></div></td></tr><tr><td>MethodHandle</td><td><details class=\"dni-treeview\"><summary><span class=\"dni-code-hint\"><code>System.RuntimeMethodHandle</code></span></summary><div><table><thead><tr></tr></thead><tbody><tr><td>Value</td><td><div class=\"dni-plaintext\"><pre>140731641892472</pre></div></td></tr></tbody></table></div></details></td></tr><tr><td>Attributes</td><td><span>Assembly, HideBySig</span></td></tr><tr><td>CallingConvention</td><td><span>Standard, HasThis</span></td></tr><tr><td>ReturnType</td><td><span><a href=\"https://docs.microsoft.com/dotnet/api/system.threading.tasks.task?view=net-7.0\">System.Threading.Tasks.Task</a></span></td></tr><tr><td>ReturnTypeCustomAttributes</td><td><details class=\"dni-treeview\"><summary><span class=\"dni-code-hint\"><code>System.Threading.Tasks.Task</code></span></summary><div><table><thead><tr></tr></thead><tbody><tr><td>ParameterType</td><td><span><a href=\"https://docs.microsoft.com/dotnet/api/system.threading.tasks.task?view=net-7.0\">System.Threading.Tasks.Task</a></span></td></tr><tr><td>Name</td><td><div class=\"dni-plaintext\"><pre>&lt;null&gt;</pre></div></td></tr><tr><td>HasDefaultValue</td><td><div class=\"dni-plaintext\"><pre>False</pre></div></td></tr><tr><td>DefaultValue</td><td><details class=\"dni-treeview\"><summary><span class=\"dni-code-hint\"><code></code></span></summary><div><table><thead><tr></tr></thead><tbody></tbody></table></div></details></td></tr><tr><td>RawDefaultValue</td><td><details class=\"dni-treeview\"><summary><span class=\"dni-code-hint\"><code></code></span></summary><div><table><thead><tr></tr></thead><tbody></tbody></table></div></details></td></tr><tr><td>MetadataToken</td><td><div class=\"dni-plaintext\"><pre>134217728</pre></div></td></tr><tr><td>Attributes</td><td><span>None</span></td></tr><tr><td>Member</td><td><details class=\"dni-treeview\"><summary><span class=\"dni-code-hint\"><code>System.Threading.Tasks.Task &lt;SetHandler&gt;b__0(Microsoft.DotNet.Interactive.Commands.KernelCommand, Microsoft.DotNet.Interactive.KernelInvocationContext)</code></span></summary><div><table><thead><tr></tr></thead><tbody><tr><td>Name</td><td><SetHandler>b__0</td></tr><tr><td>DeclaringType</td><td>Microsoft.DotNet.Interactive.Kernel+<>c__DisplayClass82_0`1[Microsoft.DotNet.Interactive.Commands.SubmitCode]</td></tr><tr><td>ReflectedType</td><td>Microsoft.DotNet.Interactive.Kernel+<>c__DisplayClass82_0`1[Microsoft.DotNet.Interactive.Commands.SubmitCode]</td></tr><tr><td>MemberType</td><td>Method</td></tr><tr><td>MetadataToken</td><td>100664828</td></tr><tr><td>Module</td><td>Microsoft.DotNet.Interactive.dll</td></tr><tr><td>IsSecurityCritical</td><td>True</td></tr><tr><td>IsSecuritySafeCritical</td><td>False</td></tr><tr><td>IsSecurityTransparent</td><td>False</td></tr><tr><td>MethodHandle</td><td>System.RuntimeMethodHandle</td></tr><tr><td>Attributes</td><td>Assembly, HideBySig</td></tr><tr><td>CallingConvention</td><td>Standard, HasThis</td></tr><tr><td>ReturnType</td><td>System.Threading.Tasks.Task</td></tr><tr><td>ReturnTypeCustomAttributes</td><td>System.Threading.Tasks.Task</td></tr><tr><td>ReturnParameter</td><td>System.Threading.Tasks.Task</td></tr><tr><td>IsCollectible</td><td>False</td></tr><tr><td>IsGenericMethod</td><td>False</td></tr><tr><td>IsGenericMethodDefinition</td><td>False</td></tr><tr><td>ContainsGenericParameters</td><td>False</td></tr><tr><td>MethodImplementationFlags</td><td>IL</td></tr><tr><td>IsAbstract</td><td>False</td></tr><tr><td>IsConstructor</td><td>False</td></tr><tr><td>IsFinal</td><td>False</td></tr><tr><td>IsHideBySig</td><td>True</td></tr><tr><td>IsSpecialName</td><td>False</td></tr><tr><td>IsStatic</td><td>False</td></tr><tr><td>IsVirtual</td><td>False</td></tr><tr><td>IsAssembly</td><td>True</td></tr><tr><td>IsFamily</td><td>False</td></tr><tr><td>IsFamilyAndAssembly</td><td>False</td></tr><tr><td>IsFamilyOrAssembly</td><td>False</td></tr><tr><td>IsPrivate</td><td>False</td></tr><tr><td>IsPublic</td><td>False</td></tr><tr><td>IsConstructedGenericMethod</td><td>False</td></tr><tr><td>CustomAttributes</td><td>[  ]</td></tr></tbody></table></div></details></td></tr><tr><td>Position</td><td><div class=\"dni-plaintext\"><pre>-1</pre></div></td></tr><tr><td>IsIn</td><td><div class=\"dni-plaintext\"><pre>False</pre></div></td></tr><tr><td>IsLcid</td><td><div class=\"dni-plaintext\"><pre>False</pre></div></td></tr><tr><td>IsOptional</td><td><div class=\"dni-plaintext\"><pre>False</pre></div></td></tr><tr><td>IsOut</td><td><div class=\"dni-plaintext\"><pre>False</pre></div></td></tr><tr><td>IsRetval</td><td><div class=\"dni-plaintext\"><pre>False</pre></div></td></tr><tr><td>CustomAttributes</td><td><i>(empty)</i></td></tr></tbody></table></div></details></td></tr><tr><td>ReturnParameter</td><td><details class=\"dni-treeview\"><summary><span class=\"dni-code-hint\"><code>System.Threading.Tasks.Task</code></span></summary><div><table><thead><tr></tr></thead><tbody><tr><td>ParameterType</td><td><span><a href=\"https://docs.microsoft.com/dotnet/api/system.threading.tasks.task?view=net-7.0\">System.Threading.Tasks.Task</a></span></td></tr><tr><td>Name</td><td><div class=\"dni-plaintext\"><pre>&lt;null&gt;</pre></div></td></tr><tr><td>HasDefaultValue</td><td><div class=\"dni-plaintext\"><pre>False</pre></div></td></tr><tr><td>DefaultValue</td><td><details class=\"dni-treeview\"><summary><span class=\"dni-code-hint\"><code></code></span></summary><div><table><thead><tr></tr></thead><tbody></tbody></table></div></details></td></tr><tr><td>RawDefaultValue</td><td><details class=\"dni-treeview\"><summary><span class=\"dni-code-hint\"><code></code></span></summary><div><table><thead><tr></tr></thead><tbody></tbody></table></div></details></td></tr><tr><td>MetadataToken</td><td><div class=\"dni-plaintext\"><pre>134217728</pre></div></td></tr><tr><td>Attributes</td><td><span>None</span></td></tr><tr><td>Member</td><td><details class=\"dni-treeview\"><summary><span class=\"dni-code-hint\"><code>System.Threading.Tasks.Task &lt;SetHandler&gt;b__0(Microsoft.DotNet.Interactive.Commands.KernelCommand, Microsoft.DotNet.Interactive.KernelInvocationContext)</code></span></summary><div><table><thead><tr></tr></thead><tbody><tr><td>Name</td><td><SetHandler>b__0</td></tr><tr><td>DeclaringType</td><td>Microsoft.DotNet.Interactive.Kernel+<>c__DisplayClass82_0`1[Microsoft.DotNet.Interactive.Commands.SubmitCode]</td></tr><tr><td>ReflectedType</td><td>Microsoft.DotNet.Interactive.Kernel+<>c__DisplayClass82_0`1[Microsoft.DotNet.Interactive.Commands.SubmitCode]</td></tr><tr><td>MemberType</td><td>Method</td></tr><tr><td>MetadataToken</td><td>100664828</td></tr><tr><td>Module</td><td>Microsoft.DotNet.Interactive.dll</td></tr><tr><td>IsSecurityCritical</td><td>True</td></tr><tr><td>IsSecuritySafeCritical</td><td>False</td></tr><tr><td>IsSecurityTransparent</td><td>False</td></tr><tr><td>MethodHandle</td><td>System.RuntimeMethodHandle</td></tr><tr><td>Attributes</td><td>Assembly, HideBySig</td></tr><tr><td>CallingConvention</td><td>Standard, HasThis</td></tr><tr><td>ReturnType</td><td>System.Threading.Tasks.Task</td></tr><tr><td>ReturnTypeCustomAttributes</td><td>System.Threading.Tasks.Task</td></tr><tr><td>ReturnParameter</td><td>System.Threading.Tasks.Task</td></tr><tr><td>IsCollectible</td><td>False</td></tr><tr><td>IsGenericMethod</td><td>False</td></tr><tr><td>IsGenericMethodDefinition</td><td>False</td></tr><tr><td>ContainsGenericParameters</td><td>False</td></tr><tr><td>MethodImplementationFlags</td><td>IL</td></tr><tr><td>IsAbstract</td><td>False</td></tr><tr><td>IsConstructor</td><td>False</td></tr><tr><td>IsFinal</td><td>False</td></tr><tr><td>IsHideBySig</td><td>True</td></tr><tr><td>IsSpecialName</td><td>False</td></tr><tr><td>IsStatic</td><td>False</td></tr><tr><td>IsVirtual</td><td>False</td></tr><tr><td>IsAssembly</td><td>True</td></tr><tr><td>IsFamily</td><td>False</td></tr><tr><td>IsFamilyAndAssembly</td><td>False</td></tr><tr><td>IsFamilyOrAssembly</td><td>False</td></tr><tr><td>IsPrivate</td><td>False</td></tr><tr><td>IsPublic</td><td>False</td></tr><tr><td>IsConstructedGenericMethod</td><td>False</td></tr><tr><td>CustomAttributes</td><td>[  ]</td></tr></tbody></table></div></details></td></tr><tr><td>Position</td><td><div class=\"dni-plaintext\"><pre>-1</pre></div></td></tr><tr><td>IsIn</td><td><div class=\"dni-plaintext\"><pre>False</pre></div></td></tr><tr><td>IsLcid</td><td><div class=\"dni-plaintext\"><pre>False</pre></div></td></tr><tr><td>IsOptional</td><td><div class=\"dni-plaintext\"><pre>False</pre></div></td></tr><tr><td>IsOut</td><td><div class=\"dni-plaintext\"><pre>False</pre></div></td></tr><tr><td>IsRetval</td><td><div class=\"dni-plaintext\"><pre>False</pre></div></td></tr><tr><td>CustomAttributes</td><td><i>(empty)</i></td></tr></tbody></table></div></details></td></tr><tr><td>IsCollectible</td><td><div class=\"dni-plaintext\"><pre>False</pre></div></td></tr><tr><td>IsGenericMethod</td><td><div class=\"dni-plaintext\"><pre>False</pre></div></td></tr><tr><td>IsGenericMethodDefinition</td><td><div class=\"dni-plaintext\"><pre>False</pre></div></td></tr><tr><td>ContainsGenericParameters</td><td><div class=\"dni-plaintext\"><pre>False</pre></div></td></tr><tr><td>MethodImplementationFlags</td><td><span>IL</span></td></tr><tr><td>IsAbstract</td><td><div class=\"dni-plaintext\"><pre>False</pre></div></td></tr><tr><td>IsConstructor</td><td><div class=\"dni-plaintext\"><pre>False</pre></div></td></tr><tr><td>IsFinal</td><td><div class=\"dni-plaintext\"><pre>False</pre></div></td></tr><tr><td>IsHideBySig</td><td><div class=\"dni-plaintext\"><pre>True</pre></div></td></tr><tr><td>IsSpecialName</td><td><div class=\"dni-plaintext\"><pre>False</pre></div></td></tr><tr><td>IsStatic</td><td><div class=\"dni-plaintext\"><pre>False</pre></div></td></tr><tr><td>IsVirtual</td><td><div class=\"dni-plaintext\"><pre>False</pre></div></td></tr><tr><td>IsAssembly</td><td><div class=\"dni-plaintext\"><pre>True</pre></div></td></tr><tr><td>IsFamily</td><td><div class=\"dni-plaintext\"><pre>False</pre></div></td></tr><tr><td>IsFamilyAndAssembly</td><td><div class=\"dni-plaintext\"><pre>False</pre></div></td></tr><tr><td>IsFamilyOrAssembly</td><td><div class=\"dni-plaintext\"><pre>False</pre></div></td></tr><tr><td>IsPrivate</td><td><div class=\"dni-plaintext\"><pre>False</pre></div></td></tr><tr><td>IsPublic</td><td><div class=\"dni-plaintext\"><pre>False</pre></div></td></tr><tr><td>IsConstructedGenericMethod</td><td><div class=\"dni-plaintext\"><pre>False</pre></div></td></tr><tr><td>CustomAttributes</td><td><i>(empty)</i></td></tr></tbody></table></div></details></td></tr></tbody></table></div></details></td></tr><tr><td>Parent</td><td><details class=\"dni-treeview\"><summary><span class=\"dni-code-hint\"><code>SubmitCode: var logger = new DisplayLogger(&quot;NotebookUpdater&quot;,  ...</code></span></summary><div><table><thead><tr></tr></thead><tbody><tr><td>Code</td><td><div class=\"dni-plaintext\"><pre>var logger = new DisplayLogger(&quot;NotebookUpdater&quot;, LogLevel.Information);\n",
       "\n",
       "display(&quot;Cr&#233;ation de l&#39;instance NotebookUpdater...&quot;);\n",
       "var updater = new NotebookUpdater(semanticKernel, notebookPath, logger);\n",
       "\n",
       "display(&quot;Appel &#224; UpdateNotebook...&quot;);\n",
       "var response = await updater.UpdateNotebook();\n",
       "\n",
       "display($&quot;R&#233;sultat de l&#39;ex&#233;cution du notebook :\\n{response}&quot;);\n",
       "</pre></div></td></tr><tr><td>Handler</td><td><details class=\"dni-treeview\"><summary><span class=\"dni-code-hint\"><code>Microsoft.DotNet.Interactive.KernelCommandInvocation</code></span></summary><div><table><thead><tr></tr></thead><tbody><tr><td>Target</td><td><details class=\"dni-treeview\"><summary><span class=\"dni-code-hint\"><code>Microsoft.DotNet.Interactive.Kernel+&lt;&gt;c__DisplayClass82_0`1[Microsoft.DotNet.Interactive.Commands.SubmitCode]</code></span></summary><div><table><thead><tr></tr></thead><tbody><tr><td>handler</td><td><details class=\"dni-treeview\"><summary><span class=\"dni-code-hint\"><code>Microsoft.DotNet.Interactive.CSharp.CSharpKernel: csharp (kernel://pid-37992/csharp)</code></span></summary><div><table><thead><tr></tr></thead><tbody><tr><td>ScriptState</td><td>Microsoft.CodeAnalysis.Scripting.ScriptState`1[System.Object]</td></tr><tr><td>ParentKernel</td><td>[ Microsoft.DotNet.Interactive.SqlDiscoverabilityKernel: sql (kernel://pid-37992/sql), Microsoft.DotNet.Interactive.KqlDiscoverabilityKernel: kql (kernel://pid-37992/kql), Microsoft.DotNet.Interactive.CSharp.CSharpKernel: csharp (kernel://pid-37992/csharp), Microsoft.DotNet.Interactive.FSharp.FSharpKernel: fsharp (kernel://pid-37992/fsharp), Microsoft.DotNet.Interactive.PowerShell.PowerShellKernel: pwsh (kernel://pid-37992/pwsh), Microsoft.DotNet.Interactive.HtmlKernel: html (kernel://pid-37992/html), Microsoft.DotNet.Interactive.KeyValueStoreKernel: value (kernel://pid-37992/value), Microsoft.DotNet.Interactive.Mermaid.MermaidKernel: mermaid (kernel://pid-37992/mermaid), Microsoft.DotNet.Interactive.Http.HttpKernel: http (kernel://pid-37992/http), Microsoft.DotNet.Interactive.Connection.ProxyKernel: vscode (kernel://pid-37992/vscode -> kernel://vscode/), Microsoft.DotNet.Interactive.Connection.ProxyKernel: javascript (kernel://pid-37992/javascript -> kernel://webview/javascript) ]</td></tr><tr><td>RootKernel</td><td>[ Microsoft.DotNet.Interactive.SqlDiscoverabilityKernel: sql (kernel://pid-37992/sql), Microsoft.DotNet.Interactive.KqlDiscoverabilityKernel: kql (kernel://pid-37992/kql), Microsoft.DotNet.Interactive.CSharp.CSharpKernel: csharp (kernel://pid-37992/csharp), Microsoft.DotNet.Interactive.FSharp.FSharpKernel: fsharp (kernel://pid-37992/fsharp), Microsoft.DotNet.Interactive.PowerShell.PowerShellKernel: pwsh (kernel://pid-37992/pwsh), Microsoft.DotNet.Interactive.HtmlKernel: html (kernel://pid-37992/html), Microsoft.DotNet.Interactive.KeyValueStoreKernel: value (kernel://pid-37992/value), Microsoft.DotNet.Interactive.Mermaid.MermaidKernel: mermaid (kernel://pid-37992/mermaid), Microsoft.DotNet.Interactive.Http.HttpKernel: http (kernel://pid-37992/http), Microsoft.DotNet.Interactive.Connection.ProxyKernel: vscode (kernel://pid-37992/vscode -> kernel://vscode/), Microsoft.DotNet.Interactive.Connection.ProxyKernel: javascript (kernel://pid-37992/javascript -> kernel://webview/javascript) ]</td></tr><tr><td>SubmissionCount</td><td>0</td></tr><tr><td>SubmissionParser</td><td>Microsoft.DotNet.Interactive.Parsing.SubmissionParser</td></tr><tr><td>FrontendEnvironment</td><td>Microsoft.DotNet.Interactive.Http.BrowserFrontendEnvironment</td></tr><tr><td>KernelEvents</td><td>System.Reactive.Subjects.Subject`1[Microsoft.DotNet.Interactive.Events.KernelEvent]</td></tr><tr><td>Name</td><td>csharp</td></tr><tr><td>KernelInfo</td><td>csharp (kernel://pid-37992/csharp)</td></tr><tr><td>Directives</td><td>[ [ Argument: source ], [ Argument: package ], [  ], [  ], [  ], [ Option`1: from, Option`1: mime-type, Option`1: as, Argument: name ], [ Option`1: name, Option`1: value, Option`1: mime-type, Option`1: byref ], [  ] ]</td></tr><tr><td>ChooseKernelDirective</td><td>[  ]</td></tr></tbody></table></div></details></td></tr><tr><td>command</td><td><details class=\"dni-treeview\"><summary><span class=\"dni-code-hint\"><code>SubmitCode: var logger = new DisplayLogger(&quot;NotebookUpdater&quot;,  ...</code></span></summary><div><table><thead><tr></tr></thead><tbody><tr><td>Code</td><td>var logger = new DisplayLogger(\"NotebookUpdater\", LogLevel.Information);\n",
       "\n",
       "display(\"Création de l'instance NotebookUpdater...\");\n",
       "var updater = new NotebookUpdater(semanticKernel, notebookPath, logger);\n",
       "\n",
       "display(\"Appel à UpdateNotebook...\");\n",
       "var response = await updater.UpdateNotebook();\n",
       "\n",
       "display($\"Résultat de l'exécution du notebook :\\n{response}\");\n",
       "</td></tr><tr><td>Handler</td><td>Microsoft.DotNet.Interactive.KernelCommandInvocation</td></tr><tr><td>Parent</td><td><div class=\"dni-plaintext\"><pre>&lt;null&gt;</pre></div></td></tr><tr><td>TargetKernelName</td><td>csharp</td></tr><tr><td>OriginUri</td><td><div class=\"dni-plaintext\"><pre>&lt;null&gt;</pre></div></td></tr><tr><td>DestinationUri</td><td><div class=\"dni-plaintext\"><pre>&lt;null&gt;</pre></div></td></tr><tr><td>KernelChooserParseResult</td><td><div class=\"dni-plaintext\"><pre>&lt;null&gt;</pre></div></td></tr><tr><td>RoutingSlip</td><td>[kernel://pid-37992/ (arrived), kernel://pid-37992/csharp (arrived)]</td></tr></tbody></table></div></details></td></tr></tbody></table></div></details></td></tr><tr><td>Method</td><td><details class=\"dni-treeview\"><summary><span class=\"dni-code-hint\"><code>System.Threading.Tasks.Task &lt;SetHandler&gt;b__0(Microsoft.DotNet.Interactive.Commands.KernelCommand, Microsoft.DotNet.Interactive.KernelInvocationContext)</code></span></summary><div><table><thead><tr></tr></thead><tbody><tr><td>Name</td><td><div class=\"dni-plaintext\"><pre>&lt;SetHandler&gt;b__0</pre></div></td></tr><tr><td>DeclaringType</td><td><span><a href=\"https://docs.microsoft.com/dotnet/api/microsoft.dotnet.interactive.kernel.&lt;>c__displayclass82_0-1?view=net-7.0\">Microsoft.DotNet.Interactive.Kernel+&lt;&gt;c__DisplayClass82_0&lt;Microsoft.DotNet.Interactive.Commands.SubmitCode&gt;</a></span></td></tr><tr><td>ReflectedType</td><td><span><a href=\"https://docs.microsoft.com/dotnet/api/microsoft.dotnet.interactive.kernel.&lt;>c__displayclass82_0-1?view=net-7.0\">Microsoft.DotNet.Interactive.Kernel+&lt;&gt;c__DisplayClass82_0&lt;Microsoft.DotNet.Interactive.Commands.SubmitCode&gt;</a></span></td></tr><tr><td>MemberType</td><td><span>Method</span></td></tr><tr><td>MetadataToken</td><td><div class=\"dni-plaintext\"><pre>100664828</pre></div></td></tr><tr><td>Module</td><td><details class=\"dni-treeview\"><summary><span class=\"dni-code-hint\"><code>Microsoft.DotNet.Interactive.dll</code></span></summary><div><table><thead><tr></tr></thead><tbody><tr><td>MDStreamVersion</td><td>131072</td></tr><tr><td>FullyQualifiedName</td><td>C:\\Users\\Administrateur.000\\.nuget\\packages\\microsoft.dotnet-interactive\\1.0.522904\\tools\\net8.0\\any\\Microsoft.DotNet.Interactive.dll</td></tr><tr><td>ModuleVersionId</td><td>ee6aec0a-8e1f-4e4c-97e3-57418e1dc7e0</td></tr><tr><td>MetadataToken</td><td>1</td></tr><tr><td>ScopeName</td><td>Microsoft.DotNet.Interactive.dll</td></tr><tr><td>Name</td><td>Microsoft.DotNet.Interactive.dll</td></tr><tr><td>Assembly</td><td>Microsoft.DotNet.Interactive, Version=1.0.0.0, Culture=neutral, PublicKeyToken=31bf3856ad364e35</td></tr><tr><td>ModuleHandle</td><td>System.ModuleHandle</td></tr><tr><td>CustomAttributes</td><td>[ [System.Runtime.CompilerServices.RefSafetyRulesAttribute((Int32)11)] ]</td></tr></tbody></table></div></details></td></tr><tr><td>IsSecurityCritical</td><td><div class=\"dni-plaintext\"><pre>True</pre></div></td></tr><tr><td>IsSecuritySafeCritical</td><td><div class=\"dni-plaintext\"><pre>False</pre></div></td></tr><tr><td>IsSecurityTransparent</td><td><div class=\"dni-plaintext\"><pre>False</pre></div></td></tr><tr><td>MethodHandle</td><td><details class=\"dni-treeview\"><summary><span class=\"dni-code-hint\"><code>System.RuntimeMethodHandle</code></span></summary><div><table><thead><tr></tr></thead><tbody><tr><td>Value</td><td>140731641892472</td></tr></tbody></table></div></details></td></tr><tr><td>Attributes</td><td><span>Assembly, HideBySig</span></td></tr><tr><td>CallingConvention</td><td><span>Standard, HasThis</span></td></tr><tr><td>ReturnType</td><td><span><a href=\"https://docs.microsoft.com/dotnet/api/system.threading.tasks.task?view=net-7.0\">System.Threading.Tasks.Task</a></span></td></tr><tr><td>ReturnTypeCustomAttributes</td><td><details class=\"dni-treeview\"><summary><span class=\"dni-code-hint\"><code>System.Threading.Tasks.Task</code></span></summary><div><table><thead><tr></tr></thead><tbody><tr><td>ParameterType</td><td>System.Threading.Tasks.Task</td></tr><tr><td>Name</td><td><div class=\"dni-plaintext\"><pre>&lt;null&gt;</pre></div></td></tr><tr><td>HasDefaultValue</td><td>False</td></tr><tr><td>DefaultValue</td><td></td></tr><tr><td>RawDefaultValue</td><td></td></tr><tr><td>MetadataToken</td><td>134217728</td></tr><tr><td>Attributes</td><td>None</td></tr><tr><td>Member</td><td>System.Threading.Tasks.Task <SetHandler>b__0(Microsoft.DotNet.Interactive.Commands.KernelCommand, Microsoft.DotNet.Interactive.KernelInvocationContext)</td></tr><tr><td>Position</td><td>-1</td></tr><tr><td>IsIn</td><td>False</td></tr><tr><td>IsLcid</td><td>False</td></tr><tr><td>IsOptional</td><td>False</td></tr><tr><td>IsOut</td><td>False</td></tr><tr><td>IsRetval</td><td>False</td></tr><tr><td>CustomAttributes</td><td>[  ]</td></tr></tbody></table></div></details></td></tr><tr><td>ReturnParameter</td><td><details class=\"dni-treeview\"><summary><span class=\"dni-code-hint\"><code>System.Threading.Tasks.Task</code></span></summary><div><table><thead><tr></tr></thead><tbody><tr><td>ParameterType</td><td>System.Threading.Tasks.Task</td></tr><tr><td>Name</td><td><div class=\"dni-plaintext\"><pre>&lt;null&gt;</pre></div></td></tr><tr><td>HasDefaultValue</td><td>False</td></tr><tr><td>DefaultValue</td><td></td></tr><tr><td>RawDefaultValue</td><td></td></tr><tr><td>MetadataToken</td><td>134217728</td></tr><tr><td>Attributes</td><td>None</td></tr><tr><td>Member</td><td>System.Threading.Tasks.Task <SetHandler>b__0(Microsoft.DotNet.Interactive.Commands.KernelCommand, Microsoft.DotNet.Interactive.KernelInvocationContext)</td></tr><tr><td>Position</td><td>-1</td></tr><tr><td>IsIn</td><td>False</td></tr><tr><td>IsLcid</td><td>False</td></tr><tr><td>IsOptional</td><td>False</td></tr><tr><td>IsOut</td><td>False</td></tr><tr><td>IsRetval</td><td>False</td></tr><tr><td>CustomAttributes</td><td>[  ]</td></tr></tbody></table></div></details></td></tr><tr><td>IsCollectible</td><td><div class=\"dni-plaintext\"><pre>False</pre></div></td></tr><tr><td>IsGenericMethod</td><td><div class=\"dni-plaintext\"><pre>False</pre></div></td></tr><tr><td>IsGenericMethodDefinition</td><td><div class=\"dni-plaintext\"><pre>False</pre></div></td></tr><tr><td>ContainsGenericParameters</td><td><div class=\"dni-plaintext\"><pre>False</pre></div></td></tr><tr><td>MethodImplementationFlags</td><td><span>IL</span></td></tr><tr><td>IsAbstract</td><td><div class=\"dni-plaintext\"><pre>False</pre></div></td></tr><tr><td>IsConstructor</td><td><div class=\"dni-plaintext\"><pre>False</pre></div></td></tr><tr><td>IsFinal</td><td><div class=\"dni-plaintext\"><pre>False</pre></div></td></tr><tr><td>IsHideBySig</td><td><div class=\"dni-plaintext\"><pre>True</pre></div></td></tr><tr><td>IsSpecialName</td><td><div class=\"dni-plaintext\"><pre>False</pre></div></td></tr><tr><td>IsStatic</td><td><div class=\"dni-plaintext\"><pre>False</pre></div></td></tr><tr><td>IsVirtual</td><td><div class=\"dni-plaintext\"><pre>False</pre></div></td></tr><tr><td>IsAssembly</td><td><div class=\"dni-plaintext\"><pre>True</pre></div></td></tr><tr><td>IsFamily</td><td><div class=\"dni-plaintext\"><pre>False</pre></div></td></tr><tr><td>IsFamilyAndAssembly</td><td><div class=\"dni-plaintext\"><pre>False</pre></div></td></tr><tr><td>IsFamilyOrAssembly</td><td><div class=\"dni-plaintext\"><pre>False</pre></div></td></tr><tr><td>IsPrivate</td><td><div class=\"dni-plaintext\"><pre>False</pre></div></td></tr><tr><td>IsPublic</td><td><div class=\"dni-plaintext\"><pre>False</pre></div></td></tr><tr><td>IsConstructedGenericMethod</td><td><div class=\"dni-plaintext\"><pre>False</pre></div></td></tr><tr><td>CustomAttributes</td><td><i>(empty)</i></td></tr></tbody></table></div></details></td></tr></tbody></table></div></details></td></tr><tr><td>Parent</td><td><div class=\"dni-plaintext\"><pre>&lt;null&gt;</pre></div></td></tr><tr><td>TargetKernelName</td><td><div class=\"dni-plaintext\"><pre>csharp</pre></div></td></tr><tr><td>OriginUri</td><td><div class=\"dni-plaintext\"><pre>&lt;null&gt;</pre></div></td></tr><tr><td>DestinationUri</td><td><div class=\"dni-plaintext\"><pre>&lt;null&gt;</pre></div></td></tr><tr><td>KernelChooserParseResult</td><td><div class=\"dni-plaintext\"><pre>&lt;null&gt;</pre></div></td></tr><tr><td>RoutingSlip</td><td><div class=\"dni-plaintext\"><pre>[ kernel://pid-37992/ (arrived), kernel://pid-37992/csharp (arrived) ]</pre></div></td></tr></tbody></table></div></details></td></tr><tr><td>TargetKernelName</td><td><div class=\"dni-plaintext\"><pre>csharp</pre></div></td></tr><tr><td>OriginUri</td><td><div class=\"dni-plaintext\"><pre>&lt;null&gt;</pre></div></td></tr><tr><td>DestinationUri</td><td><div class=\"dni-plaintext\"><pre>&lt;null&gt;</pre></div></td></tr><tr><td>KernelChooserParseResult</td><td><div class=\"dni-plaintext\"><pre>&lt;null&gt;</pre></div></td></tr><tr><td>RoutingSlip</td><td><div class=\"dni-plaintext\"><pre>[ kernel://local/.NET (arrived), kernel://local/csharp (arrived), kernel://local/csharp, kernel://local/.NET ]</pre></div></td></tr></tbody></table></div></details></td></tr><tr><td>Events</td><td><table><thead><tr><th><i>index</i></th><th><i>type</i></th><th>value</th></tr></thead><tbody><tr><td>0</td><td><span><a href=\"https://docs.microsoft.com/dotnet/api/microsoft.dotnet.interactive.events.codesubmissionreceived?view=net-7.0\">Microsoft.DotNet.Interactive.Events.CodeSubmissionReceived</a></span></td><td><details class=\"dni-treeview\"><summary><span class=\"dni-code-hint\"><code>CodeSubmissionReceived: // Utilisation de l&#39;infrastructure initialis&#233;e pou ...</code></span></summary><div><table><thead><tr></tr></thead><tbody><tr><td>Code</td><td><div class=\"dni-plaintext\"><pre>// Utilisation de l&#39;infrastructure initialis&#233;e pour r&#233;aliser la t&#226;che demand&#233;e\n",
       "var labels = new List&lt;string&gt;();\n",
       "foreach (var result in results)\n",
       "{\n",
       "    labels.Add(result[&quot;label&quot;].ToString());\n",
       "}\n",
       "// Cr&#233;ation du graphique\n",
       "var chart = Chart.Plot(new Graph.Scattergl()\n",
       "{\n",
       "    x = Enumerable.Range(1, labels.Count),\n",
       "    y = labels\n",
       "});\n",
       "chart.WithTitle(&quot;Labels for Asturias&quot;);\n",
       "display(chart);</pre></div></td></tr><tr><td>Command</td><td><details class=\"dni-treeview\"><summary><span class=\"dni-code-hint\"><code>SubmitCode: // Utilisation de l&#39;infrastructure initialis&#233;e pou ...</code></span></summary><div><table><thead><tr></tr></thead><tbody><tr><td>Code</td><td><div class=\"dni-plaintext\"><pre>// Utilisation de l&#39;infrastructure initialis&#233;e pour r&#233;aliser la t&#226;che demand&#233;e\n",
       "var labels = new List&lt;string&gt;();\n",
       "foreach (var result in results)\n",
       "{\n",
       "    labels.Add(result[&quot;label&quot;].ToString());\n",
       "}\n",
       "// Cr&#233;ation du graphique\n",
       "var chart = Chart.Plot(new Graph.Scattergl()\n",
       "{\n",
       "    x = Enumerable.Range(1, labels.Count),\n",
       "    y = labels\n",
       "});\n",
       "chart.WithTitle(&quot;Labels for Asturias&quot;);\n",
       "display(chart);</pre></div></td></tr><tr><td>Handler</td><td><details class=\"dni-treeview\"><summary><span class=\"dni-code-hint\"><code>Microsoft.DotNet.Interactive.KernelCommandInvocation</code></span></summary><div><table><thead><tr></tr></thead><tbody><tr><td>Target</td><td><details class=\"dni-treeview\"><summary><span class=\"dni-code-hint\"><code>Microsoft.DotNet.Interactive.Kernel+&lt;&gt;c__DisplayClass82_0`1[Microsoft.DotNet.Interactive.Commands.SubmitCode]</code></span></summary><div><table><thead><tr></tr></thead><tbody><tr><td>handler</td><td>Microsoft.DotNet.Interactive.CSharp.CSharpKernel: csharp (kernel://local/csharp)</td></tr><tr><td>command</td><td>SubmitCode: // Utilisation de l'infrastructure initialisée pou ...</td></tr></tbody></table></div></details></td></tr><tr><td>Method</td><td><details class=\"dni-treeview\"><summary><span class=\"dni-code-hint\"><code>System.Threading.Tasks.Task &lt;SetHandler&gt;b__0(Microsoft.DotNet.Interactive.Commands.KernelCommand, Microsoft.DotNet.Interactive.KernelInvocationContext)</code></span></summary><div><table><thead><tr></tr></thead><tbody><tr><td>Name</td><td><SetHandler>b__0</td></tr><tr><td>DeclaringType</td><td>Microsoft.DotNet.Interactive.Kernel+<>c__DisplayClass82_0`1[Microsoft.DotNet.Interactive.Commands.SubmitCode]</td></tr><tr><td>ReflectedType</td><td>Microsoft.DotNet.Interactive.Kernel+<>c__DisplayClass82_0`1[Microsoft.DotNet.Interactive.Commands.SubmitCode]</td></tr><tr><td>MemberType</td><td>Method</td></tr><tr><td>MetadataToken</td><td>100664828</td></tr><tr><td>Module</td><td>Microsoft.DotNet.Interactive.dll</td></tr><tr><td>IsSecurityCritical</td><td>True</td></tr><tr><td>IsSecuritySafeCritical</td><td>False</td></tr><tr><td>IsSecurityTransparent</td><td>False</td></tr><tr><td>MethodHandle</td><td>System.RuntimeMethodHandle</td></tr><tr><td>Attributes</td><td>Assembly, HideBySig</td></tr><tr><td>CallingConvention</td><td>Standard, HasThis</td></tr><tr><td>ReturnType</td><td>System.Threading.Tasks.Task</td></tr><tr><td>ReturnTypeCustomAttributes</td><td>System.Threading.Tasks.Task</td></tr><tr><td>ReturnParameter</td><td>System.Threading.Tasks.Task</td></tr><tr><td>IsCollectible</td><td>False</td></tr><tr><td>IsGenericMethod</td><td>False</td></tr><tr><td>IsGenericMethodDefinition</td><td>False</td></tr><tr><td>ContainsGenericParameters</td><td>False</td></tr><tr><td>MethodImplementationFlags</td><td>IL</td></tr><tr><td>IsAbstract</td><td>False</td></tr><tr><td>IsConstructor</td><td>False</td></tr><tr><td>IsFinal</td><td>False</td></tr><tr><td>IsHideBySig</td><td>True</td></tr><tr><td>IsSpecialName</td><td>False</td></tr><tr><td>IsStatic</td><td>False</td></tr><tr><td>IsVirtual</td><td>False</td></tr><tr><td>IsAssembly</td><td>True</td></tr><tr><td>IsFamily</td><td>False</td></tr><tr><td>IsFamilyAndAssembly</td><td>False</td></tr><tr><td>IsFamilyOrAssembly</td><td>False</td></tr><tr><td>IsPrivate</td><td>False</td></tr><tr><td>IsPublic</td><td>False</td></tr><tr><td>IsConstructedGenericMethod</td><td>False</td></tr><tr><td>CustomAttributes</td><td>[  ]</td></tr></tbody></table></div></details></td></tr></tbody></table></div></details></td></tr><tr><td>Parent</td><td><details class=\"dni-treeview\"><summary><span class=\"dni-code-hint\"><code>SubmitCode: var logger = new DisplayLogger(&quot;NotebookUpdater&quot;,  ...</code></span></summary><div><table><thead><tr></tr></thead><tbody><tr><td>Code</td><td><div class=\"dni-plaintext\"><pre>var logger = new DisplayLogger(&quot;NotebookUpdater&quot;, LogLevel.Information);\n",
       "\n",
       "display(&quot;Cr&#233;ation de l&#39;instance NotebookUpdater...&quot;);\n",
       "var updater = new NotebookUpdater(semanticKernel, notebookPath, logger);\n",
       "\n",
       "display(&quot;Appel &#224; UpdateNotebook...&quot;);\n",
       "var response = await updater.UpdateNotebook();\n",
       "\n",
       "display($&quot;R&#233;sultat de l&#39;ex&#233;cution du notebook :\\n{response}&quot;);\n",
       "</pre></div></td></tr><tr><td>Handler</td><td><details class=\"dni-treeview\"><summary><span class=\"dni-code-hint\"><code>Microsoft.DotNet.Interactive.KernelCommandInvocation</code></span></summary><div><table><thead><tr></tr></thead><tbody><tr><td>Target</td><td>Microsoft.DotNet.Interactive.Kernel+<>c__DisplayClass82_0`1[Microsoft.DotNet.Interactive.Commands.SubmitCode]</td></tr><tr><td>Method</td><td>System.Threading.Tasks.Task <SetHandler>b__0(Microsoft.DotNet.Interactive.Commands.KernelCommand, Microsoft.DotNet.Interactive.KernelInvocationContext)</td></tr></tbody></table></div></details></td></tr><tr><td>Parent</td><td><div class=\"dni-plaintext\"><pre>&lt;null&gt;</pre></div></td></tr><tr><td>TargetKernelName</td><td><div class=\"dni-plaintext\"><pre>csharp</pre></div></td></tr><tr><td>OriginUri</td><td><div class=\"dni-plaintext\"><pre>&lt;null&gt;</pre></div></td></tr><tr><td>DestinationUri</td><td><div class=\"dni-plaintext\"><pre>&lt;null&gt;</pre></div></td></tr><tr><td>KernelChooserParseResult</td><td><div class=\"dni-plaintext\"><pre>&lt;null&gt;</pre></div></td></tr><tr><td>RoutingSlip</td><td>[ kernel://pid-37992/ (arrived), kernel://pid-37992/csharp (arrived) ]</td></tr></tbody></table></div></details></td></tr><tr><td>TargetKernelName</td><td><div class=\"dni-plaintext\"><pre>csharp</pre></div></td></tr><tr><td>OriginUri</td><td><div class=\"dni-plaintext\"><pre>&lt;null&gt;</pre></div></td></tr><tr><td>DestinationUri</td><td><div class=\"dni-plaintext\"><pre>&lt;null&gt;</pre></div></td></tr><tr><td>KernelChooserParseResult</td><td><div class=\"dni-plaintext\"><pre>&lt;null&gt;</pre></div></td></tr><tr><td>RoutingSlip</td><td><div class=\"dni-plaintext\"><pre>[ kernel://local/.NET (arrived), kernel://local/csharp (arrived), kernel://local/csharp, kernel://local/.NET ]</pre></div></td></tr></tbody></table></div></details></td></tr><tr><td>RoutingSlip</td><td><div class=\"dni-plaintext\"><pre>[ kernel://local/csharp, kernel://pid-37992/ ]</pre></div></td></tr></tbody></table></div></details></td></tr><tr><td>1</td><td><span><a href=\"https://docs.microsoft.com/dotnet/api/microsoft.dotnet.interactive.events.completecodesubmissionreceived?view=net-7.0\">Microsoft.DotNet.Interactive.Events.CompleteCodeSubmissionReceived</a></span></td><td><details class=\"dni-treeview\"><summary><span class=\"dni-code-hint\"><code>CompleteCodeSubmissionReceived: // Utilisation de l&#39;infrastructure initialis&#233;e pou ...</code></span></summary><div><table><thead><tr></tr></thead><tbody><tr><td>Code</td><td><div class=\"dni-plaintext\"><pre>// Utilisation de l&#39;infrastructure initialis&#233;e pour r&#233;aliser la t&#226;che demand&#233;e\n",
       "var labels = new List&lt;string&gt;();\n",
       "foreach (var result in results)\n",
       "{\n",
       "    labels.Add(result[&quot;label&quot;].ToString());\n",
       "}\n",
       "// Cr&#233;ation du graphique\n",
       "var chart = Chart.Plot(new Graph.Scattergl()\n",
       "{\n",
       "    x = Enumerable.Range(1, labels.Count),\n",
       "    y = labels\n",
       "});\n",
       "chart.WithTitle(&quot;Labels for Asturias&quot;);\n",
       "display(chart);</pre></div></td></tr><tr><td>Command</td><td><details class=\"dni-treeview\"><summary><span class=\"dni-code-hint\"><code>SubmitCode: // Utilisation de l&#39;infrastructure initialis&#233;e pou ...</code></span></summary><div><table><thead><tr></tr></thead><tbody><tr><td>Code</td><td><div class=\"dni-plaintext\"><pre>// Utilisation de l&#39;infrastructure initialis&#233;e pour r&#233;aliser la t&#226;che demand&#233;e\n",
       "var labels = new List&lt;string&gt;();\n",
       "foreach (var result in results)\n",
       "{\n",
       "    labels.Add(result[&quot;label&quot;].ToString());\n",
       "}\n",
       "// Cr&#233;ation du graphique\n",
       "var chart = Chart.Plot(new Graph.Scattergl()\n",
       "{\n",
       "    x = Enumerable.Range(1, labels.Count),\n",
       "    y = labels\n",
       "});\n",
       "chart.WithTitle(&quot;Labels for Asturias&quot;);\n",
       "display(chart);</pre></div></td></tr><tr><td>Handler</td><td><details class=\"dni-treeview\"><summary><span class=\"dni-code-hint\"><code>Microsoft.DotNet.Interactive.KernelCommandInvocation</code></span></summary><div><table><thead><tr></tr></thead><tbody><tr><td>Target</td><td><details class=\"dni-treeview\"><summary><span class=\"dni-code-hint\"><code>Microsoft.DotNet.Interactive.Kernel+&lt;&gt;c__DisplayClass82_0`1[Microsoft.DotNet.Interactive.Commands.SubmitCode]</code></span></summary><div><table><thead><tr></tr></thead><tbody><tr><td>handler</td><td>Microsoft.DotNet.Interactive.CSharp.CSharpKernel: csharp (kernel://local/csharp)</td></tr><tr><td>command</td><td>SubmitCode: // Utilisation de l'infrastructure initialisée pou ...</td></tr></tbody></table></div></details></td></tr><tr><td>Method</td><td><details class=\"dni-treeview\"><summary><span class=\"dni-code-hint\"><code>System.Threading.Tasks.Task &lt;SetHandler&gt;b__0(Microsoft.DotNet.Interactive.Commands.KernelCommand, Microsoft.DotNet.Interactive.KernelInvocationContext)</code></span></summary><div><table><thead><tr></tr></thead><tbody><tr><td>Name</td><td><SetHandler>b__0</td></tr><tr><td>DeclaringType</td><td>Microsoft.DotNet.Interactive.Kernel+<>c__DisplayClass82_0`1[Microsoft.DotNet.Interactive.Commands.SubmitCode]</td></tr><tr><td>ReflectedType</td><td>Microsoft.DotNet.Interactive.Kernel+<>c__DisplayClass82_0`1[Microsoft.DotNet.Interactive.Commands.SubmitCode]</td></tr><tr><td>MemberType</td><td>Method</td></tr><tr><td>MetadataToken</td><td>100664828</td></tr><tr><td>Module</td><td>Microsoft.DotNet.Interactive.dll</td></tr><tr><td>IsSecurityCritical</td><td>True</td></tr><tr><td>IsSecuritySafeCritical</td><td>False</td></tr><tr><td>IsSecurityTransparent</td><td>False</td></tr><tr><td>MethodHandle</td><td>System.RuntimeMethodHandle</td></tr><tr><td>Attributes</td><td>Assembly, HideBySig</td></tr><tr><td>CallingConvention</td><td>Standard, HasThis</td></tr><tr><td>ReturnType</td><td>System.Threading.Tasks.Task</td></tr><tr><td>ReturnTypeCustomAttributes</td><td>System.Threading.Tasks.Task</td></tr><tr><td>ReturnParameter</td><td>System.Threading.Tasks.Task</td></tr><tr><td>IsCollectible</td><td>False</td></tr><tr><td>IsGenericMethod</td><td>False</td></tr><tr><td>IsGenericMethodDefinition</td><td>False</td></tr><tr><td>ContainsGenericParameters</td><td>False</td></tr><tr><td>MethodImplementationFlags</td><td>IL</td></tr><tr><td>IsAbstract</td><td>False</td></tr><tr><td>IsConstructor</td><td>False</td></tr><tr><td>IsFinal</td><td>False</td></tr><tr><td>IsHideBySig</td><td>True</td></tr><tr><td>IsSpecialName</td><td>False</td></tr><tr><td>IsStatic</td><td>False</td></tr><tr><td>IsVirtual</td><td>False</td></tr><tr><td>IsAssembly</td><td>True</td></tr><tr><td>IsFamily</td><td>False</td></tr><tr><td>IsFamilyAndAssembly</td><td>False</td></tr><tr><td>IsFamilyOrAssembly</td><td>False</td></tr><tr><td>IsPrivate</td><td>False</td></tr><tr><td>IsPublic</td><td>False</td></tr><tr><td>IsConstructedGenericMethod</td><td>False</td></tr><tr><td>CustomAttributes</td><td>[  ]</td></tr></tbody></table></div></details></td></tr></tbody></table></div></details></td></tr><tr><td>Parent</td><td><details class=\"dni-treeview\"><summary><span class=\"dni-code-hint\"><code>SubmitCode: var logger = new DisplayLogger(&quot;NotebookUpdater&quot;,  ...</code></span></summary><div><table><thead><tr></tr></thead><tbody><tr><td>Code</td><td><div class=\"dni-plaintext\"><pre>var logger = new DisplayLogger(&quot;NotebookUpdater&quot;, LogLevel.Information);\n",
       "\n",
       "display(&quot;Cr&#233;ation de l&#39;instance NotebookUpdater...&quot;);\n",
       "var updater = new NotebookUpdater(semanticKernel, notebookPath, logger);\n",
       "\n",
       "display(&quot;Appel &#224; UpdateNotebook...&quot;);\n",
       "var response = await updater.UpdateNotebook();\n",
       "\n",
       "display($&quot;R&#233;sultat de l&#39;ex&#233;cution du notebook :\\n{response}&quot;);\n",
       "</pre></div></td></tr><tr><td>Handler</td><td><details class=\"dni-treeview\"><summary><span class=\"dni-code-hint\"><code>Microsoft.DotNet.Interactive.KernelCommandInvocation</code></span></summary><div><table><thead><tr></tr></thead><tbody><tr><td>Target</td><td>Microsoft.DotNet.Interactive.Kernel+<>c__DisplayClass82_0`1[Microsoft.DotNet.Interactive.Commands.SubmitCode]</td></tr><tr><td>Method</td><td>System.Threading.Tasks.Task <SetHandler>b__0(Microsoft.DotNet.Interactive.Commands.KernelCommand, Microsoft.DotNet.Interactive.KernelInvocationContext)</td></tr></tbody></table></div></details></td></tr><tr><td>Parent</td><td><div class=\"dni-plaintext\"><pre>&lt;null&gt;</pre></div></td></tr><tr><td>TargetKernelName</td><td><div class=\"dni-plaintext\"><pre>csharp</pre></div></td></tr><tr><td>OriginUri</td><td><div class=\"dni-plaintext\"><pre>&lt;null&gt;</pre></div></td></tr><tr><td>DestinationUri</td><td><div class=\"dni-plaintext\"><pre>&lt;null&gt;</pre></div></td></tr><tr><td>KernelChooserParseResult</td><td><div class=\"dni-plaintext\"><pre>&lt;null&gt;</pre></div></td></tr><tr><td>RoutingSlip</td><td>[ kernel://pid-37992/ (arrived), kernel://pid-37992/csharp (arrived) ]</td></tr></tbody></table></div></details></td></tr><tr><td>TargetKernelName</td><td><div class=\"dni-plaintext\"><pre>csharp</pre></div></td></tr><tr><td>OriginUri</td><td><div class=\"dni-plaintext\"><pre>&lt;null&gt;</pre></div></td></tr><tr><td>DestinationUri</td><td><div class=\"dni-plaintext\"><pre>&lt;null&gt;</pre></div></td></tr><tr><td>KernelChooserParseResult</td><td><div class=\"dni-plaintext\"><pre>&lt;null&gt;</pre></div></td></tr><tr><td>RoutingSlip</td><td><div class=\"dni-plaintext\"><pre>[ kernel://local/.NET (arrived), kernel://local/csharp (arrived), kernel://local/csharp, kernel://local/.NET ]</pre></div></td></tr></tbody></table></div></details></td></tr><tr><td>RoutingSlip</td><td><div class=\"dni-plaintext\"><pre>[ kernel://local/csharp, kernel://pid-37992/ ]</pre></div></td></tr></tbody></table></div></details></td></tr><tr><td>2</td><td><span><a href=\"https://docs.microsoft.com/dotnet/api/microsoft.dotnet.interactive.events.diagnosticsproduced?view=net-7.0\">Microsoft.DotNet.Interactive.Events.DiagnosticsProduced</a></span></td><td><details class=\"dni-treeview\"><summary><span class=\"dni-code-hint\"><code>DiagnosticsProduced</code></span></summary><div><table><thead><tr></tr></thead><tbody><tr><td>Diagnostics</td><td><table><thead><tr><th><i>index</i></th><th>value</th></tr></thead><tbody><tr><td>0</td><td><details class=\"dni-treeview\"><summary><span class=\"dni-code-hint\"><code>CS0426: [(7, 33)-(7, 42)) Le nom de type &#39;Scattergl&#39; n&#39;existe pas dans le type &#39;Graph&#39;</code></span></summary><div><table><thead><tr></tr></thead><tbody><tr><td>LinePositionSpan</td><td><details class=\"dni-treeview\"><summary><span class=\"dni-code-hint\"><code>[(7, 33)-(7, 42))</code></span></summary><div><table><thead><tr></tr></thead><tbody><tr><td>Start</td><td>(7, 33)</td></tr><tr><td>End</td><td>(7, 42)</td></tr></tbody></table></div></details></td></tr><tr><td>Severity</td><td><span>Error</span></td></tr><tr><td>Code</td><td><div class=\"dni-plaintext\"><pre>CS0426</pre></div></td></tr><tr><td>Message</td><td><div class=\"dni-plaintext\"><pre>Le nom de type &#39;Scattergl&#39; n&#39;existe pas dans le type &#39;Graph&#39;</pre></div></td></tr></tbody></table></div></details></td></tr></tbody></table></td></tr><tr><td>FormattedDiagnostics</td><td><table><thead><tr><th><i>index</i></th><th>value</th></tr></thead><tbody><tr><td>0</td><td><details class=\"dni-treeview\"><summary><span class=\"dni-code-hint\"><code>Microsoft.DotNet.Interactive.FormattedValue</code></span></summary><div><table><thead><tr></tr></thead><tbody><tr><td>MimeType</td><td><div class=\"dni-plaintext\"><pre>text/plain</pre></div></td></tr><tr><td>Value</td><td><div class=\"dni-plaintext\"><pre>(8,34): error CS0426: Le nom de type &#39;Scattergl&#39; n&#39;existe pas dans le type &#39;Graph&#39;</pre></div></td></tr><tr><td>SuppressDisplay</td><td><div class=\"dni-plaintext\"><pre>False</pre></div></td></tr></tbody></table></div></details></td></tr></tbody></table></td></tr><tr><td>Command</td><td><details class=\"dni-treeview\"><summary><span class=\"dni-code-hint\"><code>SubmitCode: // Utilisation de l&#39;infrastructure initialis&#233;e pou ...</code></span></summary><div><table><thead><tr></tr></thead><tbody><tr><td>Code</td><td><div class=\"dni-plaintext\"><pre>// Utilisation de l&#39;infrastructure initialis&#233;e pour r&#233;aliser la t&#226;che demand&#233;e\n",
       "var labels = new List&lt;string&gt;();\n",
       "foreach (var result in results)\n",
       "{\n",
       "    labels.Add(result[&quot;label&quot;].ToString());\n",
       "}\n",
       "// Cr&#233;ation du graphique\n",
       "var chart = Chart.Plot(new Graph.Scattergl()\n",
       "{\n",
       "    x = Enumerable.Range(1, labels.Count),\n",
       "    y = labels\n",
       "});\n",
       "chart.WithTitle(&quot;Labels for Asturias&quot;);\n",
       "display(chart);</pre></div></td></tr><tr><td>Handler</td><td><details class=\"dni-treeview\"><summary><span class=\"dni-code-hint\"><code>Microsoft.DotNet.Interactive.KernelCommandInvocation</code></span></summary><div><table><thead><tr></tr></thead><tbody><tr><td>Target</td><td><details class=\"dni-treeview\"><summary><span class=\"dni-code-hint\"><code>Microsoft.DotNet.Interactive.Kernel+&lt;&gt;c__DisplayClass82_0`1[Microsoft.DotNet.Interactive.Commands.SubmitCode]</code></span></summary><div><table><thead><tr></tr></thead><tbody><tr><td>handler</td><td>Microsoft.DotNet.Interactive.CSharp.CSharpKernel: csharp (kernel://local/csharp)</td></tr><tr><td>command</td><td>SubmitCode: // Utilisation de l'infrastructure initialisée pou ...</td></tr></tbody></table></div></details></td></tr><tr><td>Method</td><td><details class=\"dni-treeview\"><summary><span class=\"dni-code-hint\"><code>System.Threading.Tasks.Task &lt;SetHandler&gt;b__0(Microsoft.DotNet.Interactive.Commands.KernelCommand, Microsoft.DotNet.Interactive.KernelInvocationContext)</code></span></summary><div><table><thead><tr></tr></thead><tbody><tr><td>Name</td><td><SetHandler>b__0</td></tr><tr><td>DeclaringType</td><td>Microsoft.DotNet.Interactive.Kernel+<>c__DisplayClass82_0`1[Microsoft.DotNet.Interactive.Commands.SubmitCode]</td></tr><tr><td>ReflectedType</td><td>Microsoft.DotNet.Interactive.Kernel+<>c__DisplayClass82_0`1[Microsoft.DotNet.Interactive.Commands.SubmitCode]</td></tr><tr><td>MemberType</td><td>Method</td></tr><tr><td>MetadataToken</td><td>100664828</td></tr><tr><td>Module</td><td>Microsoft.DotNet.Interactive.dll</td></tr><tr><td>IsSecurityCritical</td><td>True</td></tr><tr><td>IsSecuritySafeCritical</td><td>False</td></tr><tr><td>IsSecurityTransparent</td><td>False</td></tr><tr><td>MethodHandle</td><td>System.RuntimeMethodHandle</td></tr><tr><td>Attributes</td><td>Assembly, HideBySig</td></tr><tr><td>CallingConvention</td><td>Standard, HasThis</td></tr><tr><td>ReturnType</td><td>System.Threading.Tasks.Task</td></tr><tr><td>ReturnTypeCustomAttributes</td><td>System.Threading.Tasks.Task</td></tr><tr><td>ReturnParameter</td><td>System.Threading.Tasks.Task</td></tr><tr><td>IsCollectible</td><td>False</td></tr><tr><td>IsGenericMethod</td><td>False</td></tr><tr><td>IsGenericMethodDefinition</td><td>False</td></tr><tr><td>ContainsGenericParameters</td><td>False</td></tr><tr><td>MethodImplementationFlags</td><td>IL</td></tr><tr><td>IsAbstract</td><td>False</td></tr><tr><td>IsConstructor</td><td>False</td></tr><tr><td>IsFinal</td><td>False</td></tr><tr><td>IsHideBySig</td><td>True</td></tr><tr><td>IsSpecialName</td><td>False</td></tr><tr><td>IsStatic</td><td>False</td></tr><tr><td>IsVirtual</td><td>False</td></tr><tr><td>IsAssembly</td><td>True</td></tr><tr><td>IsFamily</td><td>False</td></tr><tr><td>IsFamilyAndAssembly</td><td>False</td></tr><tr><td>IsFamilyOrAssembly</td><td>False</td></tr><tr><td>IsPrivate</td><td>False</td></tr><tr><td>IsPublic</td><td>False</td></tr><tr><td>IsConstructedGenericMethod</td><td>False</td></tr><tr><td>CustomAttributes</td><td>[  ]</td></tr></tbody></table></div></details></td></tr></tbody></table></div></details></td></tr><tr><td>Parent</td><td><details class=\"dni-treeview\"><summary><span class=\"dni-code-hint\"><code>SubmitCode: var logger = new DisplayLogger(&quot;NotebookUpdater&quot;,  ...</code></span></summary><div><table><thead><tr></tr></thead><tbody><tr><td>Code</td><td><div class=\"dni-plaintext\"><pre>var logger = new DisplayLogger(&quot;NotebookUpdater&quot;, LogLevel.Information);\n",
       "\n",
       "display(&quot;Cr&#233;ation de l&#39;instance NotebookUpdater...&quot;);\n",
       "var updater = new NotebookUpdater(semanticKernel, notebookPath, logger);\n",
       "\n",
       "display(&quot;Appel &#224; UpdateNotebook...&quot;);\n",
       "var response = await updater.UpdateNotebook();\n",
       "\n",
       "display($&quot;R&#233;sultat de l&#39;ex&#233;cution du notebook :\\n{response}&quot;);\n",
       "</pre></div></td></tr><tr><td>Handler</td><td><details class=\"dni-treeview\"><summary><span class=\"dni-code-hint\"><code>Microsoft.DotNet.Interactive.KernelCommandInvocation</code></span></summary><div><table><thead><tr></tr></thead><tbody><tr><td>Target</td><td>Microsoft.DotNet.Interactive.Kernel+<>c__DisplayClass82_0`1[Microsoft.DotNet.Interactive.Commands.SubmitCode]</td></tr><tr><td>Method</td><td>System.Threading.Tasks.Task <SetHandler>b__0(Microsoft.DotNet.Interactive.Commands.KernelCommand, Microsoft.DotNet.Interactive.KernelInvocationContext)</td></tr></tbody></table></div></details></td></tr><tr><td>Parent</td><td><div class=\"dni-plaintext\"><pre>&lt;null&gt;</pre></div></td></tr><tr><td>TargetKernelName</td><td><div class=\"dni-plaintext\"><pre>csharp</pre></div></td></tr><tr><td>OriginUri</td><td><div class=\"dni-plaintext\"><pre>&lt;null&gt;</pre></div></td></tr><tr><td>DestinationUri</td><td><div class=\"dni-plaintext\"><pre>&lt;null&gt;</pre></div></td></tr><tr><td>KernelChooserParseResult</td><td><div class=\"dni-plaintext\"><pre>&lt;null&gt;</pre></div></td></tr><tr><td>RoutingSlip</td><td>[ kernel://pid-37992/ (arrived), kernel://pid-37992/csharp (arrived) ]</td></tr></tbody></table></div></details></td></tr><tr><td>TargetKernelName</td><td><div class=\"dni-plaintext\"><pre>csharp</pre></div></td></tr><tr><td>OriginUri</td><td><div class=\"dni-plaintext\"><pre>&lt;null&gt;</pre></div></td></tr><tr><td>DestinationUri</td><td><div class=\"dni-plaintext\"><pre>&lt;null&gt;</pre></div></td></tr><tr><td>KernelChooserParseResult</td><td><div class=\"dni-plaintext\"><pre>&lt;null&gt;</pre></div></td></tr><tr><td>RoutingSlip</td><td><div class=\"dni-plaintext\"><pre>[ kernel://local/.NET (arrived), kernel://local/csharp (arrived), kernel://local/csharp, kernel://local/.NET ]</pre></div></td></tr></tbody></table></div></details></td></tr><tr><td>RoutingSlip</td><td><div class=\"dni-plaintext\"><pre>[ kernel://local/csharp, kernel://pid-37992/ ]</pre></div></td></tr></tbody></table></div></details></td></tr><tr><td>3</td><td><span><a href=\"https://docs.microsoft.com/dotnet/api/microsoft.dotnet.interactive.events.commandfailed?view=net-7.0\">Microsoft.DotNet.Interactive.Events.CommandFailed</a></span></td><td><details class=\"dni-treeview\"><summary><span class=\"dni-code-hint\"><code>CommandFailed: (8,34): error CS0426: Le nom de type &#39;Scattergl&#39; n&#39;existe pas dans le type &#39;Graph&#39;</code></span></summary><div><table><thead><tr></tr></thead><tbody><tr><td>Exception</td><td><details class=\"dni-treeview\"><summary><span class=\"dni-code-hint\"><code>Microsoft.DotNet.Interactive.CodeSubmissionCompilationErrorException: (8,34): error CS0426: Le nom de type &#39;Scattergl&#39; n&#39;existe pas dans le type &#39;Graph&#39;\\r\\n ---&gt; Microsoft.CodeAnalysis.Scripting.CompilationErrorException: (8,34): error CS0426: Le nom de type &#39;Scattergl&#39; n&#39;existe pas dans le type &#39;Gr...</code></span></summary><div><table><thead><tr></tr></thead><tbody><tr><td>TargetSite</td><td><div class=\"dni-plaintext\"><pre>&lt;null&gt;</pre></div></td></tr><tr><td>Message</td><td><div class=\"dni-plaintext\"><pre>(8,34): error CS0426: Le nom de type &#39;Scattergl&#39; n&#39;existe pas dans le type &#39;Graph&#39;</pre></div></td></tr><tr><td>Data</td><td><i>(empty)</i></td></tr><tr><td>InnerException</td><td><details class=\"dni-treeview\"><summary><span class=\"dni-code-hint\"><code>Microsoft.CodeAnalysis.Scripting.CompilationErrorException: (8,34): error CS0426: Le nom de type &#39;Scattergl&#39; n&#39;existe pas dans le type &#39;Graph&#39;\\r\\n   at Microsoft.CodeAnalysis.Scripting.ScriptBuilder.ThrowIfAnyCompilationErrors(DiagnosticBag diagnostics, DiagnosticFormatter formatter)\\r\\n   at Micros...</code></span></summary><div><table><thead><tr></tr></thead><tbody><tr><td>Diagnostics</td><td><table><thead><tr><th><i>index</i></th><th>value</th></tr></thead><tbody><tr><td>0</td><td>(8,34): error CS0426: Le nom de type 'Scattergl' n'existe pas dans le type 'Graph'</td></tr></tbody></table></td></tr><tr><td>TargetSite</td><td><details class=\"dni-treeview\"><summary><span class=\"dni-code-hint\"><code>Void ThrowIfAnyCompilationErrors(Microsoft.CodeAnalysis.DiagnosticBag, Microsoft.CodeAnalysis.DiagnosticFormatter)</code></span></summary><div><table><thead><tr></tr></thead><tbody><tr><td>Name</td><td>ThrowIfAnyCompilationErrors</td></tr><tr><td>DeclaringType</td><td>Microsoft.CodeAnalysis.Scripting.ScriptBuilder</td></tr><tr><td>ReflectedType</td><td>Microsoft.CodeAnalysis.Scripting.ScriptBuilder</td></tr><tr><td>MemberType</td><td>Method</td></tr><tr><td>MetadataToken</td><td>100663433</td></tr><tr><td>Module</td><td>Microsoft.CodeAnalysis.Scripting.dll</td></tr><tr><td>IsSecurityCritical</td><td>True</td></tr><tr><td>IsSecuritySafeCritical</td><td>False</td></tr><tr><td>IsSecurityTransparent</td><td>False</td></tr><tr><td>MethodHandle</td><td>System.RuntimeMethodHandle</td></tr><tr><td>Attributes</td><td>Private, Static, HideBySig</td></tr><tr><td>CallingConvention</td><td>Standard</td></tr><tr><td>ReturnType</td><td>System.Void</td></tr><tr><td>ReturnTypeCustomAttributes</td><td>Void</td></tr><tr><td>ReturnParameter</td><td>Void</td></tr><tr><td>IsCollectible</td><td>False</td></tr><tr><td>IsGenericMethod</td><td>False</td></tr><tr><td>IsGenericMethodDefinition</td><td>False</td></tr><tr><td>ContainsGenericParameters</td><td>False</td></tr><tr><td>MethodImplementationFlags</td><td>IL</td></tr><tr><td>IsAbstract</td><td>False</td></tr><tr><td>IsConstructor</td><td>False</td></tr><tr><td>IsFinal</td><td>False</td></tr><tr><td>IsHideBySig</td><td>True</td></tr><tr><td>IsSpecialName</td><td>False</td></tr><tr><td>IsStatic</td><td>True</td></tr><tr><td>IsVirtual</td><td>False</td></tr><tr><td>IsAssembly</td><td>False</td></tr><tr><td>IsFamily</td><td>False</td></tr><tr><td>IsFamilyAndAssembly</td><td>False</td></tr><tr><td>IsFamilyOrAssembly</td><td>False</td></tr><tr><td>IsPrivate</td><td>True</td></tr><tr><td>IsPublic</td><td>False</td></tr><tr><td>IsConstructedGenericMethod</td><td>False</td></tr><tr><td>CustomAttributes</td><td>[  ]</td></tr></tbody></table></div></details></td></tr><tr><td>Message</td><td><div class=\"dni-plaintext\"><pre>(8,34): error CS0426: Le nom de type &#39;Scattergl&#39; n&#39;existe pas dans le type &#39;Graph&#39;</pre></div></td></tr><tr><td>Data</td><td><i>(empty)</i></td></tr><tr><td>InnerException</td><td><div class=\"dni-plaintext\"><pre>&lt;null&gt;</pre></div></td></tr><tr><td>HelpLink</td><td><div class=\"dni-plaintext\"><pre>&lt;null&gt;</pre></div></td></tr><tr><td>Source</td><td><div class=\"dni-plaintext\"><pre>Microsoft.CodeAnalysis.Scripting</pre></div></td></tr><tr><td>HResult</td><td><div class=\"dni-plaintext\"><pre>-2146233088</pre></div></td></tr><tr><td>StackTrace</td><td><div class=\"dni-plaintext\"><pre>   at Microsoft.CodeAnalysis.Scripting.ScriptBuilder.ThrowIfAnyCompilationErrors(DiagnosticBag diagnostics, DiagnosticFormatter formatter)\r\n",
       "   at Microsoft.CodeAnalysis.Scripting.ScriptBuilder.CreateExecutor[T](ScriptCompiler compiler, Compilation compilation, Boolean emitDebugInformation, CancellationToken cancellationToken)\r\n",
       "   at Microsoft.CodeAnalysis.Scripting.Script`1.GetExecutor(CancellationToken cancellationToken)\r\n",
       "   at Microsoft.CodeAnalysis.Scripting.Script`1.RunFromAsync(ScriptState previousState, Func`2 catchException, CancellationToken cancellationToken)\r\n",
       "   at Microsoft.CodeAnalysis.Scripting.ScriptState.ContinueWithAsync(String code, ScriptOptions options, Func`2 catchException, CancellationToken cancellationToken)\r\n",
       "   at Microsoft.DotNet.Interactive.CSharp.CSharpKernel.RunAsync(String code, CancellationToken cancellationToken, Func`2 catchException) in D:\\a\\_work\\1\\s\\src\\Microsoft.DotNet.Interactive.CSharp\\CSharpKernel.cs:line 379\r\n",
       "   at Microsoft.DotNet.Interactive.CSharp.CSharpKernel.Microsoft.DotNet.Interactive.IKernelCommandHandler&lt;Microsoft.DotNet.Interactive.Commands.SubmitCode&gt;.HandleAsync(SubmitCode submitCode, KernelInvocationContext context) in D:\\a\\_work\\1\\s\\src\\Microsoft.DotNet.Interactive.CSharp\\CSharpKernel.cs:line 278</pre></div></td></tr></tbody></table></div></details></td></tr><tr><td>HelpLink</td><td><div class=\"dni-plaintext\"><pre>&lt;null&gt;</pre></div></td></tr><tr><td>Source</td><td><div class=\"dni-plaintext\"><pre>&lt;null&gt;</pre></div></td></tr><tr><td>HResult</td><td><div class=\"dni-plaintext\"><pre>-2146233088</pre></div></td></tr><tr><td>StackTrace</td><td><div class=\"dni-plaintext\"><pre>&lt;null&gt;</pre></div></td></tr></tbody></table></div></details></td></tr><tr><td>Message</td><td><div class=\"dni-plaintext\"><pre>(8,34): error CS0426: Le nom de type &#39;Scattergl&#39; n&#39;existe pas dans le type &#39;Graph&#39;</pre></div></td></tr><tr><td>ExecutionOrder</td><td><div class=\"dni-plaintext\"><pre>&lt;null&gt;</pre></div></td></tr><tr><td>Command</td><td><details class=\"dni-treeview\"><summary><span class=\"dni-code-hint\"><code>SubmitCode: // Utilisation de l&#39;infrastructure initialis&#233;e pou ...</code></span></summary><div><table><thead><tr></tr></thead><tbody><tr><td>Code</td><td><div class=\"dni-plaintext\"><pre>// Utilisation de l&#39;infrastructure initialis&#233;e pour r&#233;aliser la t&#226;che demand&#233;e\n",
       "var labels = new List&lt;string&gt;();\n",
       "foreach (var result in results)\n",
       "{\n",
       "    labels.Add(result[&quot;label&quot;].ToString());\n",
       "}\n",
       "// Cr&#233;ation du graphique\n",
       "var chart = Chart.Plot(new Graph.Scattergl()\n",
       "{\n",
       "    x = Enumerable.Range(1, labels.Count),\n",
       "    y = labels\n",
       "});\n",
       "chart.WithTitle(&quot;Labels for Asturias&quot;);\n",
       "display(chart);</pre></div></td></tr><tr><td>Handler</td><td><details class=\"dni-treeview\"><summary><span class=\"dni-code-hint\"><code>Microsoft.DotNet.Interactive.KernelCommandInvocation</code></span></summary><div><table><thead><tr></tr></thead><tbody><tr><td>Target</td><td><details class=\"dni-treeview\"><summary><span class=\"dni-code-hint\"><code>Microsoft.DotNet.Interactive.Kernel+&lt;&gt;c__DisplayClass82_0`1[Microsoft.DotNet.Interactive.Commands.SubmitCode]</code></span></summary><div><table><thead><tr></tr></thead><tbody><tr><td>handler</td><td>Microsoft.DotNet.Interactive.CSharp.CSharpKernel: csharp (kernel://local/csharp)</td></tr><tr><td>command</td><td>SubmitCode: // Utilisation de l'infrastructure initialisée pou ...</td></tr></tbody></table></div></details></td></tr><tr><td>Method</td><td><details class=\"dni-treeview\"><summary><span class=\"dni-code-hint\"><code>System.Threading.Tasks.Task &lt;SetHandler&gt;b__0(Microsoft.DotNet.Interactive.Commands.KernelCommand, Microsoft.DotNet.Interactive.KernelInvocationContext)</code></span></summary><div><table><thead><tr></tr></thead><tbody><tr><td>Name</td><td><SetHandler>b__0</td></tr><tr><td>DeclaringType</td><td>Microsoft.DotNet.Interactive.Kernel+<>c__DisplayClass82_0`1[Microsoft.DotNet.Interactive.Commands.SubmitCode]</td></tr><tr><td>ReflectedType</td><td>Microsoft.DotNet.Interactive.Kernel+<>c__DisplayClass82_0`1[Microsoft.DotNet.Interactive.Commands.SubmitCode]</td></tr><tr><td>MemberType</td><td>Method</td></tr><tr><td>MetadataToken</td><td>100664828</td></tr><tr><td>Module</td><td>Microsoft.DotNet.Interactive.dll</td></tr><tr><td>IsSecurityCritical</td><td>True</td></tr><tr><td>IsSecuritySafeCritical</td><td>False</td></tr><tr><td>IsSecurityTransparent</td><td>False</td></tr><tr><td>MethodHandle</td><td>System.RuntimeMethodHandle</td></tr><tr><td>Attributes</td><td>Assembly, HideBySig</td></tr><tr><td>CallingConvention</td><td>Standard, HasThis</td></tr><tr><td>ReturnType</td><td>System.Threading.Tasks.Task</td></tr><tr><td>ReturnTypeCustomAttributes</td><td>System.Threading.Tasks.Task</td></tr><tr><td>ReturnParameter</td><td>System.Threading.Tasks.Task</td></tr><tr><td>IsCollectible</td><td>False</td></tr><tr><td>IsGenericMethod</td><td>False</td></tr><tr><td>IsGenericMethodDefinition</td><td>False</td></tr><tr><td>ContainsGenericParameters</td><td>False</td></tr><tr><td>MethodImplementationFlags</td><td>IL</td></tr><tr><td>IsAbstract</td><td>False</td></tr><tr><td>IsConstructor</td><td>False</td></tr><tr><td>IsFinal</td><td>False</td></tr><tr><td>IsHideBySig</td><td>True</td></tr><tr><td>IsSpecialName</td><td>False</td></tr><tr><td>IsStatic</td><td>False</td></tr><tr><td>IsVirtual</td><td>False</td></tr><tr><td>IsAssembly</td><td>True</td></tr><tr><td>IsFamily</td><td>False</td></tr><tr><td>IsFamilyAndAssembly</td><td>False</td></tr><tr><td>IsFamilyOrAssembly</td><td>False</td></tr><tr><td>IsPrivate</td><td>False</td></tr><tr><td>IsPublic</td><td>False</td></tr><tr><td>IsConstructedGenericMethod</td><td>False</td></tr><tr><td>CustomAttributes</td><td>[  ]</td></tr></tbody></table></div></details></td></tr></tbody></table></div></details></td></tr><tr><td>Parent</td><td><details class=\"dni-treeview\"><summary><span class=\"dni-code-hint\"><code>SubmitCode: var logger = new DisplayLogger(&quot;NotebookUpdater&quot;,  ...</code></span></summary><div><table><thead><tr></tr></thead><tbody><tr><td>Code</td><td><div class=\"dni-plaintext\"><pre>var logger = new DisplayLogger(&quot;NotebookUpdater&quot;, LogLevel.Information);\n",
       "\n",
       "display(&quot;Cr&#233;ation de l&#39;instance NotebookUpdater...&quot;);\n",
       "var updater = new NotebookUpdater(semanticKernel, notebookPath, logger);\n",
       "\n",
       "display(&quot;Appel &#224; UpdateNotebook...&quot;);\n",
       "var response = await updater.UpdateNotebook();\n",
       "\n",
       "display($&quot;R&#233;sultat de l&#39;ex&#233;cution du notebook :\\n{response}&quot;);\n",
       "</pre></div></td></tr><tr><td>Handler</td><td><details class=\"dni-treeview\"><summary><span class=\"dni-code-hint\"><code>Microsoft.DotNet.Interactive.KernelCommandInvocation</code></span></summary><div><table><thead><tr></tr></thead><tbody><tr><td>Target</td><td>Microsoft.DotNet.Interactive.Kernel+<>c__DisplayClass82_0`1[Microsoft.DotNet.Interactive.Commands.SubmitCode]</td></tr><tr><td>Method</td><td>System.Threading.Tasks.Task <SetHandler>b__0(Microsoft.DotNet.Interactive.Commands.KernelCommand, Microsoft.DotNet.Interactive.KernelInvocationContext)</td></tr></tbody></table></div></details></td></tr><tr><td>Parent</td><td><div class=\"dni-plaintext\"><pre>&lt;null&gt;</pre></div></td></tr><tr><td>TargetKernelName</td><td><div class=\"dni-plaintext\"><pre>csharp</pre></div></td></tr><tr><td>OriginUri</td><td><div class=\"dni-plaintext\"><pre>&lt;null&gt;</pre></div></td></tr><tr><td>DestinationUri</td><td><div class=\"dni-plaintext\"><pre>&lt;null&gt;</pre></div></td></tr><tr><td>KernelChooserParseResult</td><td><div class=\"dni-plaintext\"><pre>&lt;null&gt;</pre></div></td></tr><tr><td>RoutingSlip</td><td>[ kernel://pid-37992/ (arrived), kernel://pid-37992/csharp (arrived) ]</td></tr></tbody></table></div></details></td></tr><tr><td>TargetKernelName</td><td><div class=\"dni-plaintext\"><pre>csharp</pre></div></td></tr><tr><td>OriginUri</td><td><div class=\"dni-plaintext\"><pre>&lt;null&gt;</pre></div></td></tr><tr><td>DestinationUri</td><td><div class=\"dni-plaintext\"><pre>&lt;null&gt;</pre></div></td></tr><tr><td>KernelChooserParseResult</td><td><div class=\"dni-plaintext\"><pre>&lt;null&gt;</pre></div></td></tr><tr><td>RoutingSlip</td><td><div class=\"dni-plaintext\"><pre>[ kernel://local/.NET (arrived), kernel://local/csharp (arrived), kernel://local/csharp, kernel://local/.NET ]</pre></div></td></tr></tbody></table></div></details></td></tr><tr><td>RoutingSlip</td><td><div class=\"dni-plaintext\"><pre>[ kernel://local/csharp ]</pre></div></td></tr></tbody></table></div></details></td></tr></tbody></table></td></tr></tbody></table></div></details><style>\r\n",
       ".dni-code-hint {\r\n",
       "    font-style: italic;\r\n",
       "    overflow: hidden;\r\n",
       "    white-space: nowrap;\r\n",
       "}\r\n",
       ".dni-treeview {\r\n",
       "    white-space: nowrap;\r\n",
       "}\r\n",
       ".dni-treeview td {\r\n",
       "    vertical-align: top;\r\n",
       "    text-align: start;\r\n",
       "}\r\n",
       "details.dni-treeview {\r\n",
       "    padding-left: 1em;\r\n",
       "}\r\n",
       "table td {\r\n",
       "    text-align: start;\r\n",
       "}\r\n",
       "table tr { \r\n",
       "    vertical-align: top; \r\n",
       "    margin: 0em 0px;\r\n",
       "}\r\n",
       "table tr td pre \r\n",
       "{ \r\n",
       "    vertical-align: top !important; \r\n",
       "    margin: 0em 0px !important;\r\n",
       "} \r\n",
       "table th {\r\n",
       "    text-align: start;\r\n",
       "}\r\n",
       "</style>"
      ]
     },
     "metadata": {},
     "output_type": "display_data"
    },
    {
     "data": {
      "text/plain": [
       "Affichage du markdown: \n",
       "## Conclusion\n",
       "\n",
       "Conclusion Markdown issue de l'exécution du notebook, explicitant la réalisation de la tâche et son résultat."
      ]
     },
     "metadata": {},
     "output_type": "display_data"
    },
    {
     "data": {
      "text/markdown": [
       "## Conclusion\n",
       "\n",
       "Conclusion Markdown issue de l'exécution du notebook, explicitant la réalisation de la tâche et son résultat."
      ]
     },
     "metadata": {},
     "output_type": "display_data"
    },
    {
     "data": {
      "text/plain": [
       "Appel à UpdateWorkbook terminé, renvoi du workbook après réexécution...\n",
       "{\r\n",
       " \"cells\": [\r\n",
       "  {\r\n",
       "   \"cell_type\": \"markdown\",\r\n",
       "   \"metadata\": {},\r\n",
       "   \"source\": [\r\n",
       "    \"# Notebook de travail\\n\",\r\n",
       "    \"Ce notebook est généré pour accomplir la tâche suivante :\\n\",\r\n",
       "    \"## Description de la tâche\\n\",\r\n",
       "    \"Créer un notebook .Net interactive permettant de requêter DBPedia. \\n\",\r\n",
       "    \"Utilisant le package Nuget dotNetRDF. \\n\",\r\n",
       "    \"Utiliser également Plotly ou Xplot pour afficher un graphique synthétisant les résultats.\\n\"\r\n",
       "   ]\r\n",
       "  },\r\n",
       "  {\r\n",
       "   \"cell_type\": \"markdown\",\r\n",
       "   \"metadata\": {},\r\n",
       "   \"source\": [\r\n",
       "    \"## Préparation de l'environnement\\n\",\r\n",
       "    \"Nous allons d'abord installer et importer les bibliothèques nécessaires.\"\r\n",
       "   ]\r\n",
       "  },\r\n",
       "  {\r\n",
       "   \"cell_type\": \"code\",\r\n",
       "   \"execution_count\": null,\r\n",
       "   \"metadata\": {\r\n",
       "    \"dotnet_interactive\": {\r\n",
       "     \"language\": \"// Installation des bibliothèques Nuget\\n#r \\\"nuget: dotNetRDF\\\"\\n#r \\\"nuget: XPlot.Plotly\\\"\"\r\n",
       "    },\r\n",
       "    \"polyglot_notebook\": {\r\n",
       "     \"kernelName\": \"// Installation des bibliothèques Nuget\\n#r \\\"nuget: dotNetRDF\\\"\\n#r \\\"nuget: XPlot.Plotly\\\"\"\r\n",
       "    }\r\n",
       "   },\r\n",
       "   \"outputs\": [],\r\n",
       "   \"source\": [\r\n",
       "    \"csharp\"\r\n",
       "   ]\r\n",
       "  },\r\n",
       "  {\r\n",
       "   \"cell_type\": \"code\",\r\n",
       "   \"execution_count\": null,\r\n",
       "   \"metadata\": {\r\n",
       "    \"dotnet_interactive\": {\r\n",
       "     \"language\": \"// Importation des espaces de noms utiles\\nusing VDS.RDF;\\nusing VDS.RDF.Query;\\nusing XPlot.Plotly;\"\r\n",
       "    },\r\n",
       "    \"polyglot_notebook\": {\r\n",
       "     \"kernelName\": \"// Importation des espaces de noms utiles\\nusing VDS.RDF;\\nusing VDS.RDF.Query;\\nusing XPlot.Plotly;\"\r\n",
       "    }\r\n",
       "   },\r\n",
       "   \"outputs\": [],\r\n",
       "   \"source\": [\r\n",
       "    \"csharp\"\r\n",
       "   ]\r\n",
       "  },\r\n",
       "  {\r\n",
       "   \"cell_type\": \"markdown\",\r\n",
       "   \"metadata\": {},\r\n",
       "   \"source\": [\r\n",
       "    \"## Initialisation\\n\"\r\n",
       "   ]\r\n",
       "  },\r\n",
       "  {\r\n",
       "   \"cell_type\": \"code\",\r\n",
       "   \"execution_count\": null,\r\n",
       "   \"metadata\": {\r\n",
       "    \"dotnet_interactive\": {\r\n",
       "     \"language\": \"// Création des objets nécessaire à la tâche demandée\\nSparqlRemoteEndpoint endpoint = new SparqlRemoteEndpoint(new Uri(\\\"https://dbpedia.org/sparql\\\"));\\n// Exemple de requête SPARQL\\nstring query = \\\"SELECT ?label WHERE { <http://dbpedia.org/resource/Asturias> rdfs:label ?label }\\\";\\n// Execution de la requête\\nSparqlResultSet results = endpoint.QueryWithResultSet(query);\"\r\n",
       "    },\r\n",
       "    \"polyglot_notebook\": {\r\n",
       "     \"kernelName\": \"// Création des objets nécessaire à la tâche demandée\\nSparqlRemoteEndpoint endpoint = new SparqlRemoteEndpoint(new Uri(\\\"https://dbpedia.org/sparql\\\"));\\n// Exemple de requête SPARQL\\nstring query = \\\"SELECT ?label WHERE { <http://dbpedia.org/resource/Asturias> rdfs:label ?label }\\\";\\n// Execution de la requête\\nSparqlResultSet results = endpoint.QueryWithResultSet(query);\"\r\n",
       "    }\r\n",
       "   },\r\n",
       "   \"outputs\": [],\r\n",
       "   \"source\": [\r\n",
       "    \"csharp\"\r\n",
       "   ]\r\n",
       "  },\r\n",
       "  {\r\n",
       "   \"cell_type\": \"markdown\",\r\n",
       "   \"metadata\": {},\r\n",
       "   \"source\": [\r\n",
       "    \"## Traitement\"\r\n",
       "   ]\r\n",
       "  },\r\n",
       "  {\r\n",
       "   \"cell_type\": \"code\",\r\n",
       "   \"execution_count\": null,\r\n",
       "   \"metadata\": {\r\n",
       "    \"dotnet_interactive\": {\r\n",
       "     \"language\": \"// Utilisation de l'infrastructure initialisée pour réaliser la tâche demandée\\nvar labels = new List<string>();\\nforeach (var result in results)\\n{\\n    labels.Add(result[\\\"label\\\"].ToString());\\n}\\n// Création du graphique\\nvar chart = Chart.Plot(new Graph.Scattergl()\\n{\\n    x = Enumerable.Range(1, labels.Count),\\n    y = labels\\n});\\nchart.WithTitle(\\\"Labels for Asturias\\\");\\ndisplay(chart);\"\r\n",
       "    },\r\n",
       "    \"polyglot_notebook\": {\r\n",
       "     \"kernelName\": \"// Utilisation de l'infrastructure initialisée pour réaliser la tâche demandée\\nvar labels = new List<string>();\\nforeach (var result in results)\\n{\\n    labels.Add(result[\\\"label\\\"].ToString());\\n}\\n// Création du graphique\\nvar chart = Chart.Plot(new Graph.Scattergl()\\n{\\n    x = Enumerable.Range(1, labels.Count),\\n    y = labels\\n});\\nchart.WithTitle(\\\"Labels for Asturias\\\");\\ndisplay(chart);\"\r\n",
       "    }\r\n",
       "   },\r\n",
       "   \"outputs\": [],\r\n",
       "   \"source\": [\r\n",
       "    \"csharp\"\r\n",
       "   ]\r\n",
       "  },\r\n",
       "  {\r\n",
       "   \"cell_type\": \"markdown\",\r\n",
       "   \"metadata\": {},\r\n",
       "   \"source\": [\r\n",
       "    \"## Conclusion\\n\",\r\n",
       "    \"\\n\",\r\n",
       "    \"Conclusion Markdown issue de l'exécution du notebook, explicitant la réalisation de la tâche et son résultat.\"\r\n",
       "   ]\r\n",
       "  }\r\n",
       " ],\r\n",
       " \"metadata\": {\r\n",
       "  \"kernelspec\": {\r\n",
       "   \"name\": \"csharp\",\r\n",
       "   \"language\": \"C#\"\r\n",
       "  }\r\n",
       " },\r\n",
       " \"nbformat\": 4,\r\n",
       " \"nbformat_minor\": 5\r\n",
       "}"
      ]
     },
     "metadata": {},
     "output_type": "display_data"
    },
    {
     "data": {
      "text/plain": [
       "WorkbookInteraction Itération 2 terminée."
      ]
     },
     "metadata": {},
     "output_type": "display_data"
    },
    {
     "data": {
      "text/plain": [
       "[Information] UpdateWorkbook - Function UpdateWorkbook succeeded."
      ]
     },
     "metadata": {},
     "output_type": "display_data"
    },
    {
     "data": {
      "text/plain": [
       "[Information] UpdateWorkbook - Function completed. Duration: 3.6944859s"
      ]
     },
     "metadata": {},
     "output_type": "display_data"
    },
    {
     "data": {
      "text/plain": [
       "[Information] Microsoft.SemanticKernel.Planning.FunctionCallingStepwisePlanner - Plan executed successfully."
      ]
     },
     "metadata": {},
     "output_type": "display_data"
    },
    {
     "data": {
      "text/plain": [
       "[Information] Microsoft.SemanticKernel.Planning.FunctionCallingStepwisePlanner - Plan execution duration: 83.7927352s."
      ]
     },
     "metadata": {},
     "output_type": "display_data"
    },
    {
     "data": {
      "text/plain": [
       "Résultat de l'exécution du notebook :\n"
      ]
     },
     "metadata": {},
     "output_type": "display_data"
    }
   ],
   "source": [
    "var logger = new DisplayLogger(\"NotebookUpdater\", LogLevel.Information);\n",
    "\n",
    "display(\"Création de l'instance NotebookUpdater...\");\n",
    "var updater = new NotebookUpdater(semanticKernel, notebookPath, logger);\n",
    "\n",
    "display(\"Appel à UpdateNotebook...\");\n",
    "var response = await updater.UpdateNotebook();\n",
    "\n",
    "display($\"Résultat de l'exécution du notebook :\\n{response}\");\n"
   ]
  },
  {
   "cell_type": "markdown",
   "metadata": {},
   "source": [
    "### Conclusion"
   ]
  }
 ],
 "metadata": {
  "kernelspec": {
   "display_name": ".NET (C#)",
   "language": "C#",
   "name": ".net-csharp"
  },
  "polyglot_notebook": {
   "kernelInfo": {
    "defaultKernelName": "csharp",
    "items": [
     {
      "aliases": [],
      "languageName": "csharp",
      "name": "csharp"
     }
    ]
   }
  }
 },
 "nbformat": 4,
 "nbformat_minor": 2
}
