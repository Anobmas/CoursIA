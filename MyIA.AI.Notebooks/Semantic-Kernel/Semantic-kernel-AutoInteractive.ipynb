{
 "cells": [
  {
   "cell_type": "markdown",
   "metadata": {},
   "source": [
    "# Notebook de conception de Notebook\n",
    "\n",
    "Ce Notebook .Net interactive a pour objectif de permettre la création assistée d'autres notebooks .Net interactive en confiant le soin à ChatGPT d'analyser et de proposer des modifications d'une version courante, et en prenant en charge la mise à jour et l'exécution des mises à jour en function calling Open AI grâce à l'API .Net interactive. \n",
    "\n",
    "\n",
    "### 1. Initialisation\n",
    "\n",
    "On installe des packages pour la manipulation de notebook et pour l'orchestration de LLMs."
   ]
  },
  {
   "cell_type": "code",
   "execution_count": 1,
   "metadata": {
    "dotnet_interactive": {
     "language": "csharp"
    },
    "polyglot_notebook": {
     "kernelName": "csharp"
    }
   },
   "outputs": [
    {
     "data": {
      "text/html": [
       "<div><div></div><div></div><div><strong>Installed Packages</strong><ul><li><span>Microsoft.DotNet.Interactive.CSharp, 1.0.0-beta.24229.4</span></li><li><span>Microsoft.DotNet.Interactive.Documents, 1.0.0-beta.24229.4</span></li><li><span>Microsoft.Extensions.Logging, 8.0.0</span></li><li><span>Microsoft.SemanticKernel, 1.13.0</span></li><li><span>Microsoft.SemanticKernel.Planners.OpenAI, 1.13.0-preview</span></li></ul></div></div>"
      ]
     },
     "metadata": {},
     "output_type": "display_data"
    }
   ],
   "source": [
    "// #r \"nuget: Microsoft.DotNet.Interactive, *-*\"\n",
    "#r \"nuget: Microsoft.DotNet.Interactive.CSharp, *-*\"\n",
    "#r \"nuget: Microsoft.DotNet.Interactive.Documents, *-*\"\n",
    "\n",
    "#r \"nuget: Microsoft.Extensions.Logging\"\n",
    "#r \"nuget: Microsoft.SemanticKernel, 1.13.0\"\n",
    "#r \"nuget: Microsoft.SemanticKernel.Planners.OpenAI, 1.13.0-preview\""
   ]
  },
  {
   "cell_type": "markdown",
   "metadata": {},
   "source": [
    "- **Imports des espaces de noms**\n",
    "\n",
    "On prend soin de distinguer le kernel d'exécution de notebook .Net interactive, et le kernel de semantic-kernel."
   ]
  },
  {
   "cell_type": "code",
   "execution_count": 2,
   "metadata": {
    "dotnet_interactive": {
     "language": "csharp"
    },
    "polyglot_notebook": {
     "kernelName": "csharp"
    }
   },
   "outputs": [],
   "source": [
    "  using Microsoft.DotNet.Interactive;\n",
    "  using Microsoft.SemanticKernel;\n",
    "  using Microsoft.SemanticKernel.Planning;\n",
    "  using Microsoft.SemanticKernel.Connectors.OpenAI;\n",
    "  \n",
    "  using System;\n",
    "  using System.IO;\n",
    "  using System.Threading.Tasks;\n",
    "\n",
    "  using SKernel = Microsoft.SemanticKernel.Kernel;\n",
    "  using IKernel = Microsoft.DotNet.Interactive.Kernel;"
   ]
  },
  {
   "cell_type": "markdown",
   "metadata": {},
   "source": [
    "- **Configurez l'authentification des services semantic-kernel**\n",
    "\n",
    "Créer au besoin le fichier config/settings.json pour la config semantic-kernel"
   ]
  },
  {
   "cell_type": "code",
   "execution_count": 3,
   "metadata": {
    "dotnet_interactive": {
     "language": "csharp"
    },
    "polyglot_notebook": {
     "kernelName": "csharp"
    }
   },
   "outputs": [],
   "source": [
    "// Load some helper functions, e.g. to load values from settings.json\n",
    "#!import config/Settings.cs "
   ]
  },
  {
   "cell_type": "markdown",
   "metadata": {},
   "source": [
    "- **Création d'un logger dédié**\n",
    "\n",
    "On crée un logger qui s'affichera en cellule de sortie"
   ]
  },
  {
   "cell_type": "code",
   "execution_count": 4,
   "metadata": {
    "dotnet_interactive": {
     "language": "csharp"
    },
    "polyglot_notebook": {
     "kernelName": "csharp"
    }
   },
   "outputs": [],
   "source": [
    "using Microsoft.Extensions.Logging;\n",
    "using System;\n",
    "\n",
    "public class DisplayLogger : ILogger, ILoggerFactory\n",
    "{\n",
    "    private readonly string _categoryName;\n",
    "    private readonly LogLevel _logLevel;\n",
    "\n",
    "    public DisplayLogger(string categoryName, LogLevel logLevel)\n",
    "    {\n",
    "        _categoryName = categoryName;\n",
    "        _logLevel = logLevel;\n",
    "    }\n",
    "\n",
    "    public IDisposable BeginScope<TState>(TState state) => this;\n",
    "\n",
    "    public bool IsEnabled(LogLevel logLevel) => logLevel >= _logLevel;\n",
    "\n",
    "    public void Log<TState>(LogLevel logLevel, EventId eventId, TState state, Exception exception, Func<TState, Exception, string> formatter)\n",
    "    {\n",
    "        if (!IsEnabled(logLevel))\n",
    "        {\n",
    "            return;\n",
    "        }\n",
    "\n",
    "        var logEntry = $\"[{logLevel}] {_categoryName} - {formatter(state, exception)}\";\n",
    "        if (exception != null)\n",
    "        {\n",
    "            logEntry += Environment.NewLine + exception;\n",
    "        }\n",
    "\n",
    "        display(logEntry);\n",
    "    }\n",
    "\n",
    "        /// <inheritdoc/>\n",
    "        public void Dispose()\n",
    "        {\n",
    "        // This class is marked as disposable to support the BeginScope method.\n",
    "        // However, there is no need to dispose anything.\n",
    "        }\n",
    "\n",
    "    public ILogger CreateLogger(string categoryName) => this;\n",
    "\n",
    "        public void AddProvider(ILoggerProvider provider) => throw new NotSupportedException();\n",
    "\n",
    "}\n",
    "\n",
    "public class DisplayLoggerProvider : ILoggerProvider\n",
    "{\n",
    "    private readonly LogLevel _logLevel;\n",
    "\n",
    "    public DisplayLoggerProvider(LogLevel logLevel)\n",
    "    {\n",
    "        _logLevel = logLevel;\n",
    "    }\n",
    "\n",
    "    public ILogger CreateLogger(string categoryName)\n",
    "    {\n",
    "        return new DisplayLogger(categoryName, _logLevel);\n",
    "    }\n",
    "\n",
    "    public void Dispose() { }\n",
    "}\n"
   ]
  },
  {
   "cell_type": "markdown",
   "metadata": {},
   "source": [
    "- **Initialisation semantic-kernel:**\n",
    "\n",
    "On utilise les informations de configuration de semantic-kernel pour créer un kernel. On le dotera par la suite de plugins pour l'utiliser dans un planner."
   ]
  },
  {
   "cell_type": "code",
   "execution_count": 5,
   "metadata": {
    "dotnet_interactive": {
     "language": "csharp"
    },
    "polyglot_notebook": {
     "kernelName": "csharp"
    }
   },
   "outputs": [
    {
     "data": {
      "text/plain": [
       "Kernel and Semantic Kernel initialized."
      ]
     },
     "metadata": {},
     "output_type": "display_data"
    }
   ],
   "source": [
    "using Microsoft.Extensions.Logging;\n",
    "using Microsoft.Extensions.DependencyInjection;\n",
    "using System;\n",
    "\n",
    "// Configure AI service credentials used by the kernel\n",
    "var (useAzureOpenAI, model, azureEndpoint, apiKey, orgId) = Settings.LoadFromFile();\n",
    "\n",
    "// // Configure custom logger\n",
    "// var loggerFactory = LoggerFactory.Create(builder =>\n",
    "// {\n",
    "//     builder.AddProvider(new DisplayLoggerProvider(LogLevel.Information));\n",
    "// });\n",
    "\n",
    "var builder = SKernel.CreateBuilder();\n",
    "\n",
    "builder.Services.AddLogging(loggingBuilder =>\n",
    "{\n",
    "    loggingBuilder.AddProvider(new DisplayLoggerProvider(LogLevel.Information));\n",
    "});\n",
    "\n",
    "if (useAzureOpenAI)\n",
    "    builder.AddAzureOpenAIChatCompletion(model, azureEndpoint, apiKey);\n",
    "else\n",
    "    builder.AddOpenAIChatCompletion(model, apiKey, orgId);\n",
    "\n",
    "// builder.WithLoggerFactory(loggerFactory);\n",
    "\n",
    "var semanticKernel = builder.Build();\n",
    "\n",
    "display(\"Kernel and Semantic Kernel initialized.\");\n"
   ]
  },
  {
   "cell_type": "markdown",
   "metadata": {},
   "source": [
    "### 2. Mode de Fourniture des Informations\n",
    "\n",
    "On permet à l'utilisateur de saisir les informations décrivant la tâche à accomplir dans le notebook de travail de plusieurs façons différentes."
   ]
  },
  {
   "cell_type": "code",
   "execution_count": 6,
   "metadata": {
    "dotnet_interactive": {
     "language": "csharp"
    },
    "polyglot_notebook": {
     "kernelName": "csharp"
    }
   },
   "outputs": [],
   "source": [
    "public enum InformationMode\n",
    "{\n",
    "    Variable,\n",
    "    Prompt,\n",
    "    File\n",
    "}\n",
    "\n",
    "var mode = InformationMode.Variable; // Changez cette valeur pour tester les différents modes"
   ]
  },
  {
   "cell_type": "markdown",
   "metadata": {},
   "source": [
    "#### Reccueil des informations\n",
    "\n",
    "Selon le mode de fourniture des informations choisi, on récupère la tâche à accomplir dans le notebook de travail."
   ]
  },
  {
   "cell_type": "code",
   "execution_count": 7,
   "metadata": {
    "dotnet_interactive": {
     "language": "csharp"
    },
    "polyglot_notebook": {
     "kernelName": "csharp"
    }
   },
   "outputs": [
    {
     "data": {
      "text/plain": [
       "Collecte d'informations en cours..."
      ]
     },
     "metadata": {},
     "output_type": "display_data"
    },
    {
     "data": {
      "text/plain": [
       "Utilisation de la variable pour la description de la tâche."
      ]
     },
     "metadata": {},
     "output_type": "display_data"
    },
    {
     "data": {
      "text/plain": [
       "Informations recueillies :\\nCréer un notebook permettant de requêter DBPedia en utilisant RDF.Net"
      ]
     },
     "metadata": {},
     "output_type": "display_data"
    }
   ],
   "source": [
    "var infoCollectionDisplay = display(\"Collecte d'informations en cours...\");\n",
    "\n",
    "string taskDescription = \"Créer un notebook permettant de requêter DBPedia en utilisant RDF.Net\";\n",
    "\n",
    "if (mode == InformationMode.Variable)\n",
    "{\n",
    "    display(\"Utilisation de la variable pour la description de la tâche.\");\n",
    "}\n",
    "else if (mode == InformationMode.Prompt)\n",
    "{\n",
    "    var questions = new[]\n",
    "    {\n",
    "        \"Bonjour! Veuillez fournir une brève description de la tâche à accomplir.\",\n",
    "        \"Quels sont les principaux objectifs de cette tâche?\",\n",
    "        \"Y a-t-il des contraintes ou des conditions spécifiques à prendre en compte?\",\n",
    "        \"Des informations supplémentaires que vous souhaitez ajouter?\"\n",
    "    };\n",
    "\n",
    "    taskDescription = string.Empty;\n",
    "    foreach (var question in questions)\n",
    "    {\n",
    "        var response = await IKernel.GetInputAsync(question);\n",
    "        taskDescription += $\"{question}\\\\n{response}\\\\n\\\\n\";\n",
    "    }\n",
    "}\n",
    "\n",
    "\n",
    "display(\"Informations recueillies :\\\\n\" + taskDescription);"
   ]
  },
  {
   "cell_type": "markdown",
   "metadata": {},
   "source": [
    "### 3. Personnalisation du Notebook de Travail\n",
    "\n",
    "On charge un notebook template contenant des parties de Markdown et de code à compléter, et on injecte la tâche dans la partie descriptive en entête du notebook .Net interactive."
   ]
  },
  {
   "cell_type": "code",
   "execution_count": 8,
   "metadata": {
    "dotnet_interactive": {
     "language": "csharp"
    },
    "polyglot_notebook": {
     "kernelName": "csharp"
    }
   },
   "outputs": [
    {
     "data": {
      "text/plain": [
       "Personnalisation du notebook {notebookPath} en cours..."
      ]
     },
     "metadata": {},
     "output_type": "display_data"
    },
    {
     "data": {
      "text/plain": [
       "Notebook personnalisé prêt à l'exécution"
      ]
     },
     "metadata": {},
     "output_type": "display_data"
    }
   ],
   "source": [
    "\n",
    "\n",
    "var notebookTemplatePath = \"./Workbook-Template.ipynb\";\n",
    "var notebookPath = @$\"./Workbook-{DateTime.Now.Date.ToString(\"yyyy-MM-dd\")}.ipynb\";\n",
    "var notebookOutputPath = @$\"./Workbook-{DateTime.Now.Date.ToString(\"yyyy-MM-dd\")}-output.ipynb\";\n",
    "\n",
    "string notebookContent = File.ReadAllText(notebookTemplatePath);\n",
    "\n",
    "display(@\"Personnalisation du notebook {notebookPath} en cours...\");\n",
    "\n",
    "notebookContent = notebookContent.Replace(\"{{TASK_DESCRIPTION}}\", taskDescription);\n",
    "\n",
    "File.WriteAllText(notebookPath, notebookContent);\n",
    "display($\"Notebook personnalisé prêt à l'exécution\");"
   ]
  },
  {
   "cell_type": "markdown",
   "metadata": {},
   "source": [
    "### 4. Boucle Récurrente pour l'Exécution du Notebook"
   ]
  },
  {
   "cell_type": "markdown",
   "metadata": {},
   "source": [
    "- **Classe en charge de charger, d'exécuter et renvoyer un le résultat d'un notebook**"
   ]
  },
  {
   "cell_type": "code",
   "execution_count": 9,
   "metadata": {
    "dotnet_interactive": {
     "language": "csharp"
    },
    "polyglot_notebook": {
     "kernelName": "csharp"
    }
   },
   "outputs": [],
   "source": [
    "using Microsoft.DotNet.Interactive;\n",
    "using Microsoft.DotNet.Interactive.Documents;\n",
    "using DKernelInfo = Microsoft.DotNet.Interactive.Documents.KernelInfo;\n",
    "using Microsoft.DotNet.Interactive.Commands;\n",
    "using Microsoft.DotNet.Interactive.Events;\n",
    "using System.Reactive.Linq;\n",
    "using System.Text;\n",
    "using System.Threading;\n",
    "using System.Collections.Generic;\n",
    "using System.Linq;\n",
    "using System.Threading.Tasks;\n",
    "\n",
    "public class NotebookExecutor\n",
    "{\n",
    "    public static string PlainTextValue(DisplayEvent @event)\n",
    "    {\n",
    "        return @event.FormattedValues.FirstOrDefault()?.Value ?? string.Empty;\n",
    "    }\n",
    "\n",
    "    private readonly CompositeKernel _kernel;\n",
    "\n",
    "    public NotebookExecutor(CompositeKernel kernel)\n",
    "    {\n",
    "        _kernel = kernel;\n",
    "    }\n",
    "\n",
    "    public async Task<InteractiveDocument> RunNotebookAsync(\n",
    "        InteractiveDocument notebook,\n",
    "        IDictionary<string, string>? parameters = null,\n",
    "        CancellationToken cancellationToken = default)\n",
    "    {\n",
    "        var notebookExecutionDisplay = display(\"Exécution du notebook en cours...\");\n",
    "        notebookExecutionDisplay.Update(\"Début de l'exécution du notebook...\");\n",
    "\n",
    "        var resultDocument = new InteractiveDocument();\n",
    "\n",
    "        if (parameters is not null)\n",
    "        {\n",
    "            parameters = new Dictionary<string, string>(parameters, StringComparer.InvariantCultureIgnoreCase);\n",
    "        }\n",
    "\n",
    "        var kernelInfoCollection = CreateKernelInfos(_kernel);\n",
    "        var lookup = kernelInfoCollection.ToDictionary(k => k.Name, StringComparer.OrdinalIgnoreCase);\n",
    "\n",
    "        foreach (var element in notebook.Elements)\n",
    "        {\n",
    "            if (lookup.TryGetValue(element.KernelName!, out var kernelInfo) &&\n",
    "                StringComparer.OrdinalIgnoreCase.Equals(kernelInfo.LanguageName, \"markdown\"))\n",
    "            {\n",
    "                var formattedValue = new FormattedValue(\"text/markdown\", element.Contents);\n",
    "                var displayValue = new DisplayValue(formattedValue);\n",
    "                display($\"Affichage du markdown: {element.Contents}\");\n",
    "                await _kernel.SendAsync(displayValue);\n",
    "            }\n",
    "            else\n",
    "            {\n",
    "                var submitCode = new SubmitCode(element.Contents, element.KernelName);\n",
    "                display($\"Envoi du code au kernel {element.KernelName}: {element.Contents}\");\n",
    "                await _kernel.SendAsync(submitCode);\n",
    "            }\n",
    "        }\n",
    "\n",
    "        var defaultKernelName = _kernel.DefaultKernelName;\n",
    "        var defaultKernel = _kernel.ChildKernels.SingleOrDefault(k => k.Name == defaultKernelName);\n",
    "        var languageName = defaultKernel?.KernelInfo.LanguageName ?? notebook.GetDefaultKernelName() ?? \"C#\";\n",
    "\n",
    "        resultDocument.Metadata[\"kernelspec\"] = new Dictionary<string, object>\n",
    "        {\n",
    "            { \"name\", defaultKernel?.Name ?? \"csharp\" },\n",
    "            { \"language\", languageName }\n",
    "        };\n",
    "\n",
    "        notebookExecutionDisplay.Update(\"Exécution du notebook terminée.\");\n",
    "\n",
    "        return resultDocument;\n",
    "    }\n",
    "\n",
    "    private KernelInfoCollection CreateKernelInfos(CompositeKernel kernel)\n",
    "    {\n",
    "        KernelInfoCollection kernelInfos = new();\n",
    "\n",
    "        foreach (var childKernel in kernel.ChildKernels)\n",
    "        {\n",
    "            kernelInfos.Add(new DKernelInfo(childKernel.Name, languageName: childKernel.KernelInfo.LanguageName, aliases: childKernel.KernelInfo.Aliases));\n",
    "        }\n",
    "\n",
    "        if (!kernelInfos.Contains(\"markdown\"))\n",
    "        {\n",
    "            kernelInfos = kernelInfos.Clone();\n",
    "            kernelInfos.Add(new DKernelInfo(\"markdown\", languageName: \"Markdown\"));\n",
    "        }\n",
    "\n",
    "        return kernelInfos;\n",
    "    }\n",
    "}\n"
   ]
  },
  {
   "cell_type": "markdown",
   "metadata": {},
   "source": [
    "- **Classe du plugin semantic-kernel pour function calling**\n",
    "\n",
    "Ce plugin permet à chat GPT de mettre à jour un notebook, et lui renvoie la nouvelle version rééxécutée."
   ]
  },
  {
   "cell_type": "code",
   "execution_count": 10,
   "metadata": {
    "dotnet_interactive": {
     "language": "csharp"
    },
    "polyglot_notebook": {
     "kernelName": "csharp"
    }
   },
   "outputs": [],
   "source": [
    "using Microsoft.SemanticKernel;\n",
    "using Microsoft.SemanticKernel.Planning;\n",
    "using Microsoft.DotNet.Interactive.Documents;\n",
    "using Microsoft.DotNet.Interactive.Documents.Jupyter;\n",
    "using System.Threading.Tasks;\n",
    "using System.IO;\n",
    "using System.ComponentModel;\n",
    "using Microsoft.DotNet.Interactive.CSharp;\n",
    "using System.Reflection;\n",
    "\n",
    "public class WorkbookInteraction\n",
    "{\n",
    "\n",
    "    private readonly string _notebookPath ;\n",
    "    private readonly NotebookExecutor _executor;\n",
    "    private object _workbookDisplay;\n",
    "    private MethodInfo _updateDisplayMethod = typeof(DisplayedValue).GetMethod(\"Update\");\n",
    "\n",
    "     private readonly ILogger _logger;\n",
    "\n",
    "    public WorkbookInteraction(string notebookPath, ILogger logger)\n",
    "    {\n",
    "        _notebookPath = notebookPath;\n",
    "        var compositeKernel = new CompositeKernel\n",
    "        {\n",
    "            new CSharpKernel()\n",
    "        };\n",
    "        _executor = new NotebookExecutor(compositeKernel);\n",
    "        _logger = logger;\n",
    "    }\n",
    "\n",
    "    private void DisplayWorkbook(string displayContent)\n",
    "    {\n",
    "        if (_workbookDisplay is null)\n",
    "        {\n",
    "            _workbookDisplay = display(displayContent);\n",
    "        }\n",
    "\n",
    "        _updateDisplayMethod.Invoke(_workbookDisplay, new object[] { displayContent });\n",
    "    }\n",
    "\n",
    "    [KernelFunction]\n",
    "    [Description(\"Runs an updated version of the workbook and returns the notebook with output cells\")]\n",
    "    public async Task<string> UpdateWorkbook(\n",
    "        [Description(\"the new version of the workbook in ipynb json format\")] string updatedWorkbook)\n",
    "    {\n",
    "        var updateDisplay = display(\"Appel en function calling à UpdateWorkbook...\");\n",
    "        DisplayWorkbook(updatedWorkbook);\n",
    "        File.WriteAllText(_notebookPath, updatedWorkbook);\n",
    "        _logger.LogInformation(\"UpdateWorkbook called with updated workbook content.\");\n",
    "\n",
    "        var notebook = await InteractiveDocument.LoadAsync(new FileInfo(_notebookPath));\n",
    "        var resultDocument = await _executor.RunNotebookAsync(notebook);\n",
    "        var outputJson = resultDocument.ToJupyterJson();\n",
    "        // File.WriteAllText(notebookOutputPath, outputJson );\n",
    "        updateDisplay.Update(\"Appel à UpdateWorkbook terminé, renvoi du workbook rééxécuté...\");\n",
    "        DisplayWorkbook(outputJson);\n",
    "        return outputJson;\n",
    "        \n",
    "    }\n",
    "\n",
    "    // [KernelFunction]\n",
    "    // [Description(\"Returns the final answer if last version of the workbook allowed to conclude the task.\")]\n",
    "    // public string SendFinalAnswer([Description(\"The final answer to the task at hand\")] string answer)\n",
    "    // {\n",
    "    //     var resultDisplay = display(\"Final Answer: \" + answer);\n",
    "    //     return answer;\n",
    "    // }\n",
    "}\n"
   ]
  },
  {
   "cell_type": "markdown",
   "metadata": {},
   "source": [
    "- **Classe en charge de l'exécution du planner:**"
   ]
  },
  {
   "cell_type": "code",
   "execution_count": 11,
   "metadata": {
    "dotnet_interactive": {
     "language": "csharp"
    },
    "polyglot_notebook": {
     "kernelName": "csharp"
    }
   },
   "outputs": [],
   "source": [
    "#pragma warning disable SKEXP0060\n",
    "\n",
    "public class NotebookUpdater\n",
    "{\n",
    "\n",
    "    private readonly FunctionCallingStepwisePlanner _planner;\n",
    "    private readonly SKernel _semanticKernel;\n",
    "    private readonly string _notebookPath;\n",
    "\n",
    "    private readonly ILogger _logger;\n",
    "\n",
    "    public NotebookUpdater(SKernel semanticKernel, string notebookPath, ILogger logger)\n",
    "    {\n",
    "        _semanticKernel = semanticKernel;\n",
    "        _notebookPath = notebookPath;\n",
    "        var options = new FunctionCallingStepwisePlannerOptions\n",
    "        {\n",
    "            MaxIterations = 5,\n",
    "            ExecutionSettings = new OpenAIPromptExecutionSettings { ToolCallBehavior = ToolCallBehavior.AutoInvokeKernelFunctions }\n",
    "        };\n",
    "        _planner = new FunctionCallingStepwisePlanner(options);\n",
    "        _logger = logger;\n",
    "        var workbookInteraction = new WorkbookInteraction(notebookPath, _logger);\n",
    "\n",
    "        \n",
    "        _semanticKernel.ImportPluginFromObject(workbookInteraction);\n",
    "    }\n",
    "\n",
    "    public async Task<string> UpdateNotebook()\n",
    "    {\n",
    "        display(\"Lecture du contenu du notebook...\");\n",
    "        var notebookJson = File.ReadAllText(_notebookPath);\n",
    "\n",
    "        var updateDisplay = display(\"Appel de ChatGPT avec le workbook initialisé...\");\n",
    "        \n",
    "        var plannerPrompt = $\"Analyse le notebook suivant qui contient la description de son objectif, utilise le function calling avec la méthode UpdateWorkbook pour éditer et réexécuter le notebook jusqu'à ce qu'il donne satisfaction et renvoie la réponse finale.\\\\n\\\\n{notebookJson}\";\n",
    "        display(\"Envoi du prompt au planner...\");\n",
    "        \n",
    "        var result = await _planner.ExecuteAsync(_semanticKernel, plannerPrompt);\n",
    "        \n",
    "        updateDisplay.Update(\"Notebook mis à jour avec succès.\");\n",
    "\n",
    "        return result.FinalAnswer;\n",
    "        \n",
    "    }\n",
    "}\n"
   ]
  },
  {
   "cell_type": "markdown",
   "metadata": {},
   "source": [
    "### 5. Exécution et Mise à Jour Itérative"
   ]
  },
  {
   "cell_type": "code",
   "execution_count": 12,
   "metadata": {
    "dotnet_interactive": {
     "language": "csharp"
    },
    "polyglot_notebook": {
     "kernelName": "csharp"
    }
   },
   "outputs": [
    {
     "data": {
      "text/plain": [
       "Création de l'instance NotebookUpdater..."
      ]
     },
     "metadata": {},
     "output_type": "display_data"
    },
    {
     "data": {
      "text/plain": [
       "Appel à UpdateNotebook..."
      ]
     },
     "metadata": {},
     "output_type": "display_data"
    },
    {
     "data": {
      "text/plain": [
       "Lecture du contenu du notebook..."
      ]
     },
     "metadata": {},
     "output_type": "display_data"
    },
    {
     "data": {
      "text/plain": [
       "Notebook mis à jour avec succès."
      ]
     },
     "metadata": {},
     "output_type": "display_data"
    },
    {
     "data": {
      "text/plain": [
       "Envoi du prompt au planner..."
      ]
     },
     "metadata": {},
     "output_type": "display_data"
    },
    {
     "data": {
      "text/plain": [
       "[Information] Microsoft.SemanticKernel.Planning.FunctionCallingStepwisePlanner - Plan execution started."
      ]
     },
     "metadata": {},
     "output_type": "display_data"
    },
    {
     "data": {
      "text/plain": [
       "[Information] GeneratePlan - Function GeneratePlan invoking."
      ]
     },
     "metadata": {},
     "output_type": "display_data"
    },
    {
     "data": {
      "text/plain": [
       "[Information] Microsoft.SemanticKernel.Connectors.OpenAI.OpenAIChatCompletionService - Prompt tokens: 1066. Completion tokens: 256. Total tokens: 1322."
      ]
     },
     "metadata": {},
     "output_type": "display_data"
    },
    {
     "data": {
      "text/plain": [
       "[Information] Microsoft.SemanticKernel.KernelFunctionFactory - Prompt tokens: 1066. Completion tokens: 256."
      ]
     },
     "metadata": {},
     "output_type": "display_data"
    },
    {
     "data": {
      "text/plain": [
       "[Information] GeneratePlan - Function GeneratePlan succeeded."
      ]
     },
     "metadata": {},
     "output_type": "display_data"
    },
    {
     "data": {
      "text/plain": [
       "[Information] GeneratePlan - Function completed. Duration: 8.9193766s"
      ]
     },
     "metadata": {},
     "output_type": "display_data"
    },
    {
     "data": {
      "text/plain": [
       "[Information] Microsoft.SemanticKernel.Connectors.OpenAI.OpenAIChatCompletionService - Prompt tokens: 1856. Completion tokens: 1352. Total tokens: 3208."
      ]
     },
     "metadata": {},
     "output_type": "display_data"
    },
    {
     "data": {
      "text/plain": [
       "[Information] UpdateWorkbook - Function UpdateWorkbook invoking."
      ]
     },
     "metadata": {},
     "output_type": "display_data"
    },
    {
     "data": {
      "text/plain": [
       "Appel à UpdateWorkbook terminé, renvoi du workbook rééxécuté..."
      ]
     },
     "metadata": {},
     "output_type": "display_data"
    },
    {
     "data": {
      "text/plain": [
       "{\r\n",
       " \"cells\": [],\r\n",
       " \"metadata\": {\r\n",
       "  \"kernelspec\": {\r\n",
       "   \"name\": \"csharp\",\r\n",
       "   \"language\": \"C#\"\r\n",
       "  }\r\n",
       " },\r\n",
       " \"nbformat\": 4,\r\n",
       " \"nbformat_minor\": 5\r\n",
       "}"
      ]
     },
     "metadata": {},
     "output_type": "display_data"
    },
    {
     "data": {
      "text/plain": [
       "[Information] NotebookUpdater - UpdateWorkbook called with updated workbook content."
      ]
     },
     "metadata": {},
     "output_type": "display_data"
    },
    {
     "data": {
      "text/plain": [
       "Exécution du notebook terminée."
      ]
     },
     "metadata": {},
     "output_type": "display_data"
    },
    {
     "data": {
      "text/plain": [
       "Affichage du markdown: # Notebook de travail\n",
       "Ce notebook est généré pour accomplir la tâche suivante :\n",
       "## Description de la tâche\n",
       "Créer un notebook permettant de requêter DBPedia en utilisant RDF.Net\n"
      ]
     },
     "metadata": {},
     "output_type": "display_data"
    },
    {
     "data": {
      "text/markdown": [
       "# Notebook de travail\n",
       "Ce notebook est généré pour accomplir la tâche suivante :\n",
       "## Description de la tâche\n",
       "Créer un notebook permettant de requêter DBPedia en utilisant RDF.Net\n"
      ]
     },
     "metadata": {},
     "output_type": "display_data"
    },
    {
     "data": {
      "text/plain": [
       "Affichage du markdown: ## Préparation de l'environnement\n",
       "Nous allons d'abord installer et importer les bibliothèques nécessaires."
      ]
     },
     "metadata": {},
     "output_type": "display_data"
    },
    {
     "data": {
      "text/markdown": [
       "## Préparation de l'environnement\n",
       "Nous allons d'abord installer et importer les bibliothèques nécessaires."
      ]
     },
     "metadata": {},
     "output_type": "display_data"
    },
    {
     "data": {
      "text/plain": [
       "Envoi du code au kernel csharp: # Installation des bibliothèques Nuget\n",
       "#r \"nuget:RDFSharp\""
      ]
     },
     "metadata": {},
     "output_type": "display_data"
    },
    {
     "ename": "Error",
     "evalue": "(1,3): error CS1024: Directive de préprocesseur attendue",
     "output_type": "error",
     "traceback": [
      "(1,3): error CS1024: Directive de préprocesseur attendue"
     ]
    },
    {
     "data": {
      "text/plain": [
       "Envoi du code au kernel csharp: # Importation des espaces de noms utiles\n",
       "using RDFSharp.Model;\n",
       "using RDFSharp.Query;"
      ]
     },
     "metadata": {},
     "output_type": "display_data"
    },
    {
     "ename": "Error",
     "evalue": "(1,3): error CS1024: Directive de préprocesseur attendue",
     "output_type": "error",
     "traceback": [
      "(1,3): error CS1024: Directive de préprocesseur attendue"
     ]
    },
    {
     "data": {
      "text/plain": [
       "Affichage du markdown: ## Initialisation\n"
      ]
     },
     "metadata": {},
     "output_type": "display_data"
    },
    {
     "data": {
      "text/markdown": [
       "## Initialisation\n"
      ]
     },
     "metadata": {},
     "output_type": "display_data"
    },
    {
     "data": {
      "text/plain": [
       "Envoi du code au kernel csharp: // Création des objets nécessaire à la tâche demandée\n",
       "RDFSPARQLEndpoint endpoint = new RDFSPARQLEndpoint(new Uri(\"https://dbpedia.org/sparql\"));"
      ]
     },
     "metadata": {},
     "output_type": "display_data"
    },
    {
     "ename": "Error",
     "evalue": "(2,1): error CS0246: Le nom de type ou d'espace de noms 'RDFSPARQLEndpoint' est introuvable (vous manque-t-il une directive using ou une référence d'assembly ?)\r\n(2,34): error CS0246: Le nom de type ou d'espace de noms 'RDFSPARQLEndpoint' est introuvable (vous manque-t-il une directive using ou une référence d'assembly ?)",
     "output_type": "error",
     "traceback": [
      "(2,1): error CS0246: Le nom de type ou d'espace de noms 'RDFSPARQLEndpoint' est introuvable (vous manque-t-il une directive using ou une référence d'assembly ?)\r\n",
      "(2,34): error CS0246: Le nom de type ou d'espace de noms 'RDFSPARQLEndpoint' est introuvable (vous manque-t-il une directive using ou une référence d'assembly ?)"
     ]
    },
    {
     "data": {
      "text/plain": [
       "Affichage du markdown: ## Traitement"
      ]
     },
     "metadata": {},
     "output_type": "display_data"
    },
    {
     "data": {
      "text/markdown": [
       "## Traitement"
      ]
     },
     "metadata": {},
     "output_type": "display_data"
    },
    {
     "data": {
      "text/plain": [
       "Envoi du code au kernel csharp: // Utilisation de l'infrastructure initialisée pour réaliser la tâche demandée\n",
       "RDFSPARQLQuery query = new RDFSPARQLQuery();\n",
       "query.AddPrefix(RDFNamespaceRegister.GetByPrefix(\"dbo\"));\n",
       "query.AddPatternGroup(new RDFPatternGroup().AddPattern(new RDFPattern(new RDFResource(\"?s\"), new RDFResource(\"rdf:type\"), new RDFResource(\"dbo:Person\"))));\n",
       "RDFSelectQueryResult result = endpoint.QuerySelect(query) as RDFSelectQueryResult;\n",
       "foreach(DataRow row in result.SelectResults.Rows) {\\n    Console.WriteLine(\"Person: \" + row[\"s\"].ToString());\\n}"
      ]
     },
     "metadata": {},
     "output_type": "display_data"
    },
    {
     "ename": "Error",
     "evalue": "(6,52): error CS1056: Caractère inattendu '\\'\r\n(6,65): error CS1003: Erreur de syntaxe, ',' attendu\r\n(6,66): error CS1002: ; attendu\r\n(6,110): error CS1056: Caractère inattendu '\\'\r\n(6,112): error CS1002: ; attendu",
     "output_type": "error",
     "traceback": [
      "(6,52): error CS1056: Caractère inattendu '\\'\r\n",
      "(6,65): error CS1003: Erreur de syntaxe, ',' attendu\r\n",
      "(6,66): error CS1002: ; attendu\r\n",
      "(6,110): error CS1056: Caractère inattendu '\\'\r\n",
      "(6,112): error CS1002: ; attendu"
     ]
    },
    {
     "data": {
      "text/plain": [
       "Affichage du markdown: ## Conclusion\n",
       "\n",
       "Conclusion Markdown issue de l'exécution du notebook, explicitant la réalisation de la tâche et son résultat."
      ]
     },
     "metadata": {},
     "output_type": "display_data"
    },
    {
     "data": {
      "text/markdown": [
       "## Conclusion\n",
       "\n",
       "Conclusion Markdown issue de l'exécution du notebook, explicitant la réalisation de la tâche et son résultat."
      ]
     },
     "metadata": {},
     "output_type": "display_data"
    },
    {
     "data": {
      "text/plain": [
       "[Information] UpdateWorkbook - Function UpdateWorkbook succeeded."
      ]
     },
     "metadata": {},
     "output_type": "display_data"
    },
    {
     "data": {
      "text/plain": [
       "[Information] UpdateWorkbook - Function completed. Duration: 0.3399289s"
      ]
     },
     "metadata": {},
     "output_type": "display_data"
    },
    {
     "data": {
      "text/plain": [
       "[Information] Microsoft.SemanticKernel.Connectors.OpenAI.OpenAIChatCompletionService - Prompt tokens: 3315. Completion tokens: 59. Total tokens: 3374."
      ]
     },
     "metadata": {},
     "output_type": "display_data"
    },
    {
     "data": {
      "text/plain": [
       "[Information] Microsoft.SemanticKernel.Planning.FunctionCallingStepwisePlanner - Plan executed successfully."
      ]
     },
     "metadata": {},
     "output_type": "display_data"
    },
    {
     "data": {
      "text/plain": [
       "[Information] Microsoft.SemanticKernel.Planning.FunctionCallingStepwisePlanner - Plan execution duration: 34.9479294s."
      ]
     },
     "metadata": {},
     "output_type": "display_data"
    },
    {
     "data": {
      "text/plain": [
       "Résultat de l'exécution du notebook :\n",
       "Le notebook a été mis à jour mais aucune cellule n'a été retournée avec des résultats. Veuillez vérifier la version mise à jour du notebook pour vous assurer que toutes les étapes ont été correctement ajoutées."
      ]
     },
     "metadata": {},
     "output_type": "display_data"
    }
   ],
   "source": [
    "var logger = new DisplayLogger(\"NotebookUpdater\", LogLevel.Information);\n",
    "\n",
    "display(\"Création de l'instance NotebookUpdater...\");\n",
    "var updater = new NotebookUpdater(semanticKernel, notebookPath, logger);\n",
    "\n",
    "display(\"Appel à UpdateNotebook...\");\n",
    "var response = await updater.UpdateNotebook();\n",
    "\n",
    "display($\"Résultat de l'exécution du notebook :\\n{response}\");\n"
   ]
  },
  {
   "cell_type": "markdown",
   "metadata": {},
   "source": [
    "### Conclusion"
   ]
  }
 ],
 "metadata": {
  "kernelspec": {
   "display_name": ".NET (C#)",
   "language": "C#",
   "name": ".net-csharp"
  },
  "polyglot_notebook": {
   "kernelInfo": {
    "defaultKernelName": "csharp",
    "items": [
     {
      "aliases": [],
      "languageName": "csharp",
      "name": "csharp"
     }
    ]
   }
  }
 },
 "nbformat": 4,
 "nbformat_minor": 2
}
