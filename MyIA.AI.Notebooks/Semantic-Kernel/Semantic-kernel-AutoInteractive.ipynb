{
 "cells": [
  {
   "cell_type": "markdown",
   "metadata": {},
   "source": [
    "### 1. Initialisation"
   ]
  },
  {
   "cell_type": "code",
   "execution_count": 37,
   "metadata": {
    "dotnet_interactive": {
     "language": "csharp"
    },
    "polyglot_notebook": {
     "kernelName": "csharp"
    }
   },
   "outputs": [
    {
     "data": {
      "text/html": [
       "<div><div></div><div></div><div><strong>Installed Packages</strong><ul><li><span>Microsoft.DotNet.Interactive, 1.0.0-beta.24229.4</span></li><li><span>Microsoft.DotNet.Interactive.CSharp, 1.0.0-beta.24229.4</span></li><li><span>microsoft.dotnet.interactive.documents, 1.0.0-beta.24229.4</span></li><li><span>Microsoft.SemanticKernel, 1.13.0</span></li><li><span>Microsoft.SemanticKernel.Planners.OpenAI, 1.13.0-preview</span></li></ul></div></div>"
      ]
     },
     "metadata": {},
     "output_type": "display_data"
    }
   ],
   "source": [
    "#r \"nuget: Microsoft.DotNet.Interactive, *-*\"\n",
    "#r \"nuget: Microsoft.DotNet.Interactive.CSharp, *-*\"\n",
    "#r \"nuget: Microsoft.DotNet.Interactive.Documents, *-*\"\n",
    "\n",
    "\n",
    "#r \"nuget: Microsoft.SemanticKernel, 1.13.0\"\n",
    "#r \"nuget: Microsoft.SemanticKernel.Planners.OpenAI, 1.13.0-preview\""
   ]
  },
  {
   "cell_type": "markdown",
   "metadata": {},
   "source": [
    "- **Imports des espaces de noms**"
   ]
  },
  {
   "cell_type": "code",
   "execution_count": 38,
   "metadata": {},
   "outputs": [],
   "source": [
    "  using Microsoft.DotNet.Interactive;\n",
    "  using Microsoft.SemanticKernel;\n",
    "  using Microsoft.SemanticKernel.Planning;\n",
    "  using Microsoft.SemanticKernel.Connectors.OpenAI;\n",
    "  using System;\n",
    "  using System.IO;\n",
    "  using System.Threading.Tasks;\n",
    "\n",
    "  using SKernel = Microsoft.SemanticKernel.Kernel;\n",
    "  using IKernel = Microsoft.DotNet.Interactive.Kernel;"
   ]
  },
  {
   "cell_type": "markdown",
   "metadata": {},
   "source": [
    "- **Configurez l'authentification des services semantic-kernel**\n",
    "\n",
    "Créer au besoin le fichier config/settings.json pour la config semantic-kernel"
   ]
  },
  {
   "cell_type": "code",
   "execution_count": 39,
   "metadata": {},
   "outputs": [],
   "source": [
    "// Load some helper functions, e.g. to load values from settings.json\n",
    "#!import config/Settings.cs "
   ]
  },
  {
   "cell_type": "markdown",
   "metadata": {},
   "source": [
    "Initialisation semantic-kernel:**"
   ]
  },
  {
   "cell_type": "code",
   "execution_count": 40,
   "metadata": {
    "dotnet_interactive": {
     "language": "csharp"
    },
    "polyglot_notebook": {
     "kernelName": "csharp"
    }
   },
   "outputs": [
    {
     "name": "stdout",
     "output_type": "stream",
     "text": [
      "Kernel and Semantic Kernel initialized.\r\n"
     ]
    }
   ],
   "source": [
    "// Configure AI service credentials used by the kernel\n",
    "var (useAzureOpenAI, model, azureEndpoint, apiKey, orgId) = Settings.LoadFromFile();\n",
    "\n",
    "  var builder = SKernel.CreateBuilder();\n",
    "\n",
    "if (useAzureOpenAI)\n",
    "    builder.AddAzureOpenAIChatCompletion(model, azureEndpoint, apiKey);\n",
    "else\n",
    "    builder.AddOpenAIChatCompletion(model, apiKey, orgId);\n",
    "\n",
    "\n",
    "\n",
    "var semanticKernel = builder.Build();\n",
    "\n",
    "Console.WriteLine(\"Kernel and Semantic Kernel initialized.\");"
   ]
  },
  {
   "cell_type": "markdown",
   "metadata": {},
   "source": [
    "### 2. Mode de Fourniture des Informations"
   ]
  },
  {
   "cell_type": "code",
   "execution_count": 41,
   "metadata": {
    "dotnet_interactive": {
     "language": "csharp"
    },
    "polyglot_notebook": {
     "kernelName": "csharp"
    }
   },
   "outputs": [],
   "source": [
    "public enum InformationMode\n",
    "{\n",
    "    Variable,\n",
    "    Prompt,\n",
    "    File\n",
    "}\n",
    "\n",
    "var mode = InformationMode.Variable; // Changez cette valeur pour tester les différents modes"
   ]
  },
  {
   "cell_type": "markdown",
   "metadata": {},
   "source": [
    "#### Mode 1: Personnalisation via une variable textuelle"
   ]
  },
  {
   "cell_type": "code",
   "execution_count": 42,
   "metadata": {
    "dotnet_interactive": {
     "language": "csharp"
    },
    "polyglot_notebook": {
     "kernelName": "csharp"
    }
   },
   "outputs": [
    {
     "name": "stdout",
     "output_type": "stream",
     "text": [
      "Utilisation de la variable pour la description de la tâche.\n",
      "Créer un notebook permettant de requêter DBPedia en utilisant RDF.Net\n"
     ]
    }
   ],
   "source": [
    "string taskDescription = \"Créer un notebook permettant de requêter DBPedia en utilisant RDF.Net\";\n",
    "\n",
    "if (mode == InformationMode.Variable)\n",
    "{\n",
    "    Console.WriteLine(\"Utilisation de la variable pour la description de la tâche.\");\n",
    "    var personalizedTask = taskDescription;\n",
    "    Console.WriteLine(personalizedTask);\n",
    "}"
   ]
  },
  {
   "cell_type": "markdown",
   "metadata": {},
   "source": [
    "#### Mode 2: Série de questions via le prompt de .NET Interactive"
   ]
  },
  {
   "cell_type": "code",
   "execution_count": 43,
   "metadata": {
    "dotnet_interactive": {
     "language": "csharp"
    },
    "polyglot_notebook": {
     "kernelName": "csharp"
    }
   },
   "outputs": [],
   "source": [
    "if (mode == InformationMode.Prompt)\n",
    "{\n",
    "    var questions = new[]\n",
    "    {\n",
    "        \"Bonjour! Veuillez fournir une brève description de la tâche à accomplir.\",\n",
    "        \"Quels sont les principaux objectifs de cette tâche?\",\n",
    "        \"Y a-t-il des contraintes ou des conditions spécifiques à prendre en compte?\",\n",
    "        \"Des informations supplémentaires que vous souhaitez ajouter?\"\n",
    "    };\n",
    "\n",
    "    taskDescription = string.Empty;\n",
    "    foreach (var question in questions)\n",
    "    {\n",
    "        var response = await IKernel.GetInputAsync(question);\n",
    "        taskDescription += $\"{question}\\\\n{response}\\\\n\\\\n\";\n",
    "    }\n",
    "\n",
    "    Console.WriteLine(\"Informations recueillies :\\\\n\" + taskDescription);\n",
    "}"
   ]
  },
  {
   "cell_type": "markdown",
   "metadata": {},
   "source": [
    "### 3. Personnalisation et Exécution du Notebook de Travail"
   ]
  },
  {
   "cell_type": "code",
   "execution_count": 44,
   "metadata": {
    "dotnet_interactive": {
     "language": "csharp"
    },
    "polyglot_notebook": {
     "kernelName": "csharp"
    }
   },
   "outputs": [
    {
     "name": "stdout",
     "output_type": "stream",
     "text": [
      "Notebook personnalisé prêt à l'exécution.\r\n"
     ]
    }
   ],
   "source": [
    "var notebookTemplatePath = \"./Workbook-Template.ipynb\";\n",
    "var notebookPath = @$\"./Workbook-{DateTime.Now.Date.ToString(\"yyyy-MM-dd\")}.ipynb\";\n",
    "var notebookOutputPath = @$\"./Workbook-{DateTime.Now.Date.ToString(\"yyyy-MM-dd\")}-output.ipynb\";\n",
    "\n",
    "string notebookContent = File.ReadAllText(notebookTemplatePath);\n",
    "\n",
    "notebookContent = notebookContent.Replace(\"{{TASK_DESCRIPTION}}\", taskDescription);\n",
    "\n",
    "\n",
    "File.WriteAllText(personalizedNotebookPath, notebookContent);\n",
    "Console.WriteLine(\"Notebook personnalisé prêt à l'exécution.\");"
   ]
  },
  {
   "cell_type": "markdown",
   "metadata": {},
   "source": [
    "### 4. Boucle Récurrente pour l'Exécution du Notebook"
   ]
  },
  {
   "cell_type": "markdown",
   "metadata": {},
   "source": [
    "- **Classe en charge de charger, d'exécuter et renvoyer un le résultat d'un notebook**"
   ]
  },
  {
   "cell_type": "code",
   "execution_count": 45,
   "metadata": {
    "dotnet_interactive": {
     "language": "csharp"
    },
    "polyglot_notebook": {
     "kernelName": "csharp"
    }
   },
   "outputs": [],
   "source": [
    "using Microsoft.DotNet.Interactive;\n",
    "using Microsoft.DotNet.Interactive.Documents;\n",
    "using Microsoft.DotNet.Interactive.Commands;\n",
    "using Microsoft.DotNet.Interactive.Events;\n",
    "using System.Reactive.Linq;\n",
    "using System.Text;\n",
    "using System.Threading;\n",
    "using System.Collections.Generic;\n",
    "using System.Linq;\n",
    "using System.Threading.Tasks;\n",
    "\n",
    "\n",
    "\n",
    "public class NotebookExecutor\n",
    "{\n",
    "\n",
    "    public static string PlainTextValue(DisplayEvent @event)\n",
    "    {\n",
    "        return @event.FormattedValues.FirstOrDefault()?.Value ?? string.Empty;\n",
    "    }\n",
    "\n",
    "    private readonly CompositeKernel _kernel;\n",
    "\n",
    "    public NotebookExecutor(CompositeKernel kernel)\n",
    "    {\n",
    "        _kernel = kernel;\n",
    "    }\n",
    "\n",
    "    public async Task<InteractiveDocument> RunNotebookAsync(\n",
    "        InteractiveDocument notebook,\n",
    "        IDictionary<string, string>? parameters = null,\n",
    "        CancellationToken cancellationToken = default)\n",
    "    {\n",
    "        var resultDocument = new InteractiveDocument();\n",
    "\n",
    "        if (parameters is not null)\n",
    "        {\n",
    "            parameters = new Dictionary<string, string>(parameters, StringComparer.InvariantCultureIgnoreCase);\n",
    "            // var inputKernel = _kernel.ChildKernels.OfType<InputKernel>().FirstOrDefault();\n",
    "            // if (inputKernel is not null)\n",
    "            // {\n",
    "            //     inputKernel.GetInputValueAsync = key =>\n",
    "            //     {\n",
    "            //         if (parameters.TryGetValue(key, out var value))\n",
    "            //         {\n",
    "            //             return Task.FromResult<string?>(value);\n",
    "            //         }\n",
    "            //         else\n",
    "            //         {\n",
    "            //             return Task.FromResult<string?>(null);\n",
    "            //         }\n",
    "            //     };\n",
    "            // }\n",
    "        }\n",
    "\n",
    "        foreach (var element in notebook.Elements)\n",
    "        {\n",
    "            var command = new SubmitCode(element.Contents, element.KernelName);\n",
    "            var events = _kernel.KernelEvents.Replay();\n",
    "            using var connect = events.Connect();\n",
    "\n",
    "            var startTime = DateTimeOffset.Now;\n",
    "            var result = _kernel.SendAsync(command, cancellationToken);\n",
    "            var tcs = new TaskCompletionSource();\n",
    "            StringBuilder? stdOut = default;\n",
    "            StringBuilder? stdErr = default;\n",
    "            var outputs = new List<InteractiveDocumentOutputElement>();\n",
    "\n",
    "            using var _ = events.Subscribe(@event =>\n",
    "            {\n",
    "                switch (@event)\n",
    "                {\n",
    "                    case IncompleteCodeSubmissionReceived incomplete when incomplete.Command == command:\n",
    "                        break;\n",
    "                    case CompleteCodeSubmissionReceived complete when complete.Command == command:\n",
    "                        break;\n",
    "                    case ErrorProduced errorProduced:\n",
    "                        outputs.Add(CreateErrorOutputElement(errorProduced));\n",
    "                        break;\n",
    "                    case StandardOutputValueProduced standardOutputValueProduced:\n",
    "                        stdOut ??= new StringBuilder();\n",
    "                        stdOut.Append(PlainTextValue(standardOutputValueProduced));\n",
    "                        break;\n",
    "                    case StandardErrorValueProduced standardErrorValueProduced:\n",
    "                        stdErr ??= new StringBuilder();\n",
    "                        stdErr.Append(PlainTextValue(standardErrorValueProduced));\n",
    "                        break;\n",
    "                    case DisplayedValueProduced displayedValueProduced:\n",
    "                        outputs.Add(CreateDisplayOutputElement(displayedValueProduced));\n",
    "                        break;\n",
    "                    case DisplayedValueUpdated displayedValueUpdated:\n",
    "                        outputs.Add(CreateDisplayOutputElement(displayedValueUpdated));\n",
    "                        break;\n",
    "                    case ReturnValueProduced returnValueProduced:\n",
    "                        if (returnValueProduced.Value is DisplayedValue)\n",
    "                        {\n",
    "                            break;\n",
    "                        }\n",
    "                        outputs.Add(CreateDisplayOutputElement(returnValueProduced));\n",
    "                        break;\n",
    "                    case CommandFailed failed when failed.Command == command:\n",
    "                        if (CreateBufferedStandardOutAndErrElement(stdOut, stdErr) is { } te)\n",
    "                        {\n",
    "                            outputs.Add(te);\n",
    "                        }\n",
    "                        outputs.Add(CreateErrorOutputElement(failed));\n",
    "                        tcs.SetResult();\n",
    "                        break;\n",
    "                    case CommandSucceeded succeeded when succeeded.Command == command:\n",
    "                        if (CreateBufferedStandardOutAndErrElement(stdOut, stdErr) is { } textElement)\n",
    "                        {\n",
    "                            outputs.Add(textElement);\n",
    "                        }\n",
    "                        tcs.SetResult();\n",
    "                        break;\n",
    "                }\n",
    "            });\n",
    "\n",
    "            await tcs.Task;\n",
    "            var resultElement = new InteractiveDocumentElement(element.Contents, element.KernelName, outputs.ToArray())\n",
    "            {\n",
    "                Metadata = new Dictionary<string, object>\n",
    "                {\n",
    "                    { \"dotnet_repl_cellExecutionStartTime\", startTime },\n",
    "                    { \"dotnet_repl_cellExecutionEndTime\", DateTimeOffset.Now }\n",
    "                }\n",
    "            };\n",
    "\n",
    "            resultDocument.Add(resultElement);\n",
    "        }\n",
    "\n",
    "        var defaultKernelName = _kernel.DefaultKernelName;\n",
    "        var defaultKernel = _kernel.ChildKernels.SingleOrDefault(k => k.Name == defaultKernelName);\n",
    "        var languageName = defaultKernel?.KernelInfo.LanguageName ?? notebook.GetDefaultKernelName() ?? \"C#\";\n",
    "\n",
    "        resultDocument.Metadata[\"kernelspec\"] = new Dictionary<string, object>\n",
    "        {\n",
    "            { \"name\", defaultKernel?.Name ?? \"csharp\" },\n",
    "            { \"language\", languageName }\n",
    "        };\n",
    "        return resultDocument;\n",
    "    }\n",
    "\n",
    "    private TextElement? CreateBufferedStandardOutAndErrElement(StringBuilder? stdOut, StringBuilder? stdErr)\n",
    "    {\n",
    "        if (stdOut is null && stdErr is null)\n",
    "        {\n",
    "            return null;\n",
    "        }\n",
    "\n",
    "        var sb = new StringBuilder();\n",
    "        if (stdOut is { })\n",
    "        {\n",
    "            sb.Append(stdOut);\n",
    "        }\n",
    "\n",
    "        if (stdOut is { } && stdErr is { })\n",
    "        {\n",
    "            sb.Append(\"\\n\\n\");\n",
    "        }\n",
    "\n",
    "        if (stdErr is { })\n",
    "        {\n",
    "            sb.Append(stdErr);\n",
    "        }\n",
    "\n",
    "        return new TextElement(sb.ToString(), \"stdout\");\n",
    "    }\n",
    "\n",
    "    private DisplayElement CreateDisplayOutputElement(DisplayEvent displayedValueProduced) =>\n",
    "        new(displayedValueProduced.FormattedValues.ToDictionary(v => v.MimeType, v => (object)v.Value));\n",
    "\n",
    "    private ErrorElement CreateErrorOutputElement(ErrorProduced errorProduced) =>\n",
    "        new(\"Error\", errorProduced.Message);\n",
    "\n",
    "    private ErrorElement CreateErrorOutputElement(CommandFailed failed) =>\n",
    "        new(\"Error\", failed.Message, failed.Exception?.StackTrace?.Split('\\n') ?? Array.Empty<string>());\n",
    "}\n"
   ]
  },
  {
   "cell_type": "markdown",
   "metadata": {},
   "source": [
    "- **Analyse et Proposition de Mise à Jour:**"
   ]
  },
  {
   "cell_type": "code",
   "execution_count": 46,
   "metadata": {
    "dotnet_interactive": {
     "language": "csharp"
    },
    "polyglot_notebook": {
     "kernelName": "csharp"
    }
   },
   "outputs": [],
   "source": [
    "using Microsoft.SemanticKernel;\n",
    "using Microsoft.SemanticKernel.Planning;\n",
    "using Microsoft.DotNet.Interactive.Documents;\n",
    "using Microsoft.DotNet.Interactive.Documents.Jupyter;\n",
    "using System.Threading.Tasks;\n",
    "using System.IO;\n",
    "\n",
    "// public class WorkbookInteraction\n",
    "// {\n",
    "//     [KernelFunction]\n",
    "//     [Description(\"Returns an updated version of the workbook after pondering the task and the outputs of the current version.\")]\n",
    "//     public string UpdateWorkbook([Description(\"the new version of the workbook in ipynb json format\")] string updatedWorkbook)\n",
    "//     {\n",
    "        \n",
    "        \n",
    "//     }\n",
    "\n",
    "//     [KernelFunction]\n",
    "//     [Description(\"Returns the final answer if last version of the workbook allowed to conclude the task.\")]\n",
    "//     public string SendFinalAnswer([Description(\"The final answer to the task at hand\")] string answer)\n",
    "//     {\n",
    "//         var resultDisplay = display(\"Final Answer: \" + answer);\n",
    "//         return answer;\n",
    "//     }\n",
    "// }\n",
    "\n",
    "// var chatHistory = new ChatHistory();\n",
    "// var resultDisplay = display(\"Collecte d'informations en cours...\");\n",
    "\n",
    "// foreach (var question in questions)\n",
    "// {\n",
    "//     chatHistory.AddUserMessage(question);\n",
    "//     var result = await planner.ExecuteAsync(kernel, question, chatHistory);\n",
    "//     chatHistory.AddAssistantMessage(result.FinalAnswer);\n",
    "//     chatHistory.AddUserMessage(result.FinalAnswer); // Store the user's answer\n",
    "//     resultDisplay.Update(resultDisplay.GetValue<string>() + \"\\n\\n\" + \"Question: \" + question + \"\\nAnswer: \" + result.FinalAnswer);\n",
    "// }\n",
    "\n",
    "#pragma warning disable SKEXP0060\n",
    "\n",
    "public class NotebookUpdater\n",
    "{\n",
    "    private readonly NotebookExecutor _executor;\n",
    "    private readonly FunctionCallingStepwisePlanner _planner;\n",
    "    private readonly SKernel _semanticKernel;\n",
    "\n",
    "    public NotebookUpdater(NotebookExecutor executor, SKernel semanticKernel)\n",
    "    {\n",
    "        _executor = executor;\n",
    "        _semanticKernel = semanticKernel;\n",
    "        var options = new FunctionCallingStepwisePlannerOptions\n",
    "        {\n",
    "            MaxIterations = 5,\n",
    "            ExecutionSettings = new OpenAIPromptExecutionSettings { ToolCallBehavior = ToolCallBehavior.AutoInvokeKernelFunctions }\n",
    "        };\n",
    "        _planner = new FunctionCallingStepwisePlanner(options);\n",
    "        // _semanticKernel.ImportPluginFromType<WorkbookInteraction>();\n",
    "    }\n",
    "\n",
    "    public async Task<string> UpdateNotebook(string notebookPath, string outputPath, string taskDescription)\n",
    "    {\n",
    "\n",
    "        var notebook = await InteractiveDocument.LoadAsync(new FileInfo(notebookPath));\n",
    "        var resultDocument = await _executor.RunNotebookAsync(notebook);\n",
    "\n",
    "        await File.WriteAllTextAsync(outputPath, resultDocument.ToJupyterJson());\n",
    "        var outputContent = await File.ReadAllTextAsync(outputPath);\n",
    "\n",
    "        var result = await _planner.ExecuteAsync(_semanticKernel, \"Analyze the output and suggest updates\", new Microsoft.SemanticKernel.ChatCompletion.ChatHistory(outputContent));\n",
    "        return result.FinalAnswer;\n",
    "    }\n",
    "}\n"
   ]
  },
  {
   "cell_type": "markdown",
   "metadata": {},
   "source": [
    "### 5. Exécution et Mise à Jour Itérative"
   ]
  },
  {
   "cell_type": "code",
   "execution_count": 47,
   "metadata": {
    "dotnet_interactive": {
     "language": "csharp"
    },
    "polyglot_notebook": {
     "kernelName": "csharp"
    }
   },
   "outputs": [
    {
     "ename": "Error",
     "evalue": "Command cancelled.",
     "output_type": "error",
     "traceback": [
      "Command cancelled."
     ]
    }
   ],
   "source": [
    "using Microsoft.DotNet.Interactive.CSharp;\n",
    "\n",
    "var compositeKernel = new CompositeKernel\n",
    "{\n",
    "    new CSharpKernel()\n",
    "};\n",
    "var executor = new NotebookExecutor(compositeKernel);\n",
    "var updater = new NotebookUpdater(executor, semanticKernel);\n",
    "\n",
    "var response = await updater.UpdateNotebook(notebookPath, notebookOutputPath, taskDescription);\n",
    "\n",
    "Console.WriteLine(\"Résultat de l'exécution du notebook :\\n\" + response);\n"
   ]
  },
  {
   "cell_type": "markdown",
   "metadata": {},
   "source": [
    "### Conclusion"
   ]
  }
 ],
 "metadata": {
  "kernelspec": {
   "display_name": ".NET (C#)",
   "language": "C#",
   "name": ".net-csharp"
  },
  "polyglot_notebook": {
   "kernelInfo": {
    "defaultKernelName": "csharp",
    "items": [
     {
      "aliases": [],
      "languageName": "csharp",
      "name": "csharp"
     }
    ]
   }
  }
 },
 "nbformat": 4,
 "nbformat_minor": 2
}
