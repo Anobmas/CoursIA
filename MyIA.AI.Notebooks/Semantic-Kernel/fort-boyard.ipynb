{
  "cells": [
    {
      "attachments": {},
      "cell_type": "markdown",
      "metadata": {},
      "source": [
        "# Jeu de devinette : Père Fouras vs Laurent Jalabert\n",
        "\n",
        "Dans ce notebook, nous allons créer une interaction entre deux agents : le Père Fouras, qui fait deviner des mots ou expressions en utilisant des charades et réponses énigmatiques, et Laurent Jalabert, qui devine en posant des questions fermées.\n",
        "\n",
        "La stratégie de sélection est que les agents parlent chacun à leur tour. La partie se termine lorsque Laurent Jalabert devine le mot ou l'expression du Père Fouras."
      ]
    },
    {
      "cell_type": "code",
      "execution_count": 28,
      "metadata": {
        "vscode": {
          "languageId": "polyglot-notebook"
        }
      },
      "outputs": [
        {
          "data": {
            "text/html": [
              "<div><div></div><div></div><div><strong>Installed Packages</strong><ul><li><span>Microsoft.SemanticKernel, 1.13.0</span></li><li><span>Microsoft.SemanticKernel.Agents.Core, 1.13.0-alpha</span></li></ul></div></div>"
            ]
          },
          "metadata": {},
          "output_type": "display_data"
        }
      ],
      "source": [
        "#r \"nuget: Microsoft.SemanticKernel\"\n",
        "#r \"nuget: Microsoft.SemanticKernel.Agents.Core, *-*\"\n",
        "#!import ../Config/Settings.cs"
      ]
    },
    {
      "cell_type": "code",
      "execution_count": 29,
      "metadata": {
        "dotnet_interactive": {
          "language": "csharp"
        },
        "polyglot_notebook": {
          "kernelName": "csharp"
        },
        "vscode": {
          "languageId": "polyglot-notebook"
        }
      },
      "outputs": [],
      "source": [
        "\n",
        "using Microsoft.SemanticKernel;\n",
        "using Microsoft.SemanticKernel.Connectors.OpenAI;\n",
        "using Kernel = Microsoft.SemanticKernel.Kernel;\n",
        "\n",
        "var builder = Kernel.CreateBuilder();\n",
        "\n",
        "// Configure AI service credentials used by the kernel\n",
        "var (useAzureOpenAI, model, azureEndpoint, apiKey, orgId) = Settings.LoadFromFile(\"../config/Settings.json\");\n",
        "\n",
        "if (useAzureOpenAI)\n",
        "    builder.AddAzureOpenAIChatCompletion(model, azureEndpoint, apiKey);\n",
        "else\n",
        "    builder.AddOpenAIChatCompletion(model, apiKey, orgId);\n",
        "\n",
        "//var kernel = builder.Build();"
      ]
    },
    {
      "attachments": {},
      "cell_type": "markdown",
      "metadata": {},
      "source": [
        "Définissons maintenant les prompts pour nos agents Père Fouras et Laurent Jalabert, en veillant à ce que le mot à deviner soit inséré dans le prompt système du Père Fouras."
      ]
    },
    {
      "cell_type": "code",
      "execution_count": 30,
      "metadata": {
        "dotnet_interactive": {
          "language": "csharp"
        },
        "polyglot_notebook": {
          "kernelName": "csharp"
        },
        "vscode": {
          "languageId": "polyglot-notebook"
        }
      },
      "outputs": [],
      "source": [
        "const string pereFourasSystemPrompt = @\"Tu es le Père Fouras de Fort Boyard. \n",
        "Tu dois faire deviner le mot ou l'expression suivante : '{{word}}'. \n",
        "Parle en charades et en réponses énigmatiques. Ne mentionne jamais l'expression à deviner\";\n",
        "\n",
        "const string laurentJalabertSystemPrompt = @\"Tu es Laurent Jalabert. \n",
        "Tu dois deviner le mot ou l'expression que le Père Fouras te fait deviner. \n",
        "Tu as le droit de poser des questions fermées (réponse oui ou non).\";\n"
      ]
    },
    {
      "attachments": {},
      "cell_type": "markdown",
      "metadata": {},
      "source": [
        "Nous allons maintenant enregistrer nos fonctions sémantiques pour les deux agents."
      ]
    },
    {
      "cell_type": "code",
      "execution_count": 31,
      "metadata": {
        "dotnet_interactive": {
          "language": "csharp"
        },
        "polyglot_notebook": {
          "kernelName": "csharp"
        },
        "vscode": {
          "languageId": "polyglot-notebook"
        }
      },
      "outputs": [],
      "source": [
        "using Microsoft.SemanticKernel.Agents;\n",
        "using Microsoft.SemanticKernel.Agents.Chat;\n",
        "using System.Threading;\n",
        "\n",
        "var motADevniner = \"Pastilles\";\n",
        "var pereFourasPrompt = pereFourasSystemPrompt.Replace(\"{{word}}\", motADevniner);\n",
        "var laurentJalabertPrompt = laurentJalabertSystemPrompt;\n",
        "\n",
        "// Define the agent\n",
        "#pragma warning disable SKEXP0110\n",
        "        ChatCompletionAgent agentReviewer =\n",
        "            new()\n",
        "            {\n",
        "                Instructions = pereFourasPrompt,\n",
        "                Name = \"Pere_Fouras\",\n",
        "                Kernel = builder.Build(),\n",
        "            };\n",
        "\n",
        "        ChatCompletionAgent agentWriter =\n",
        "            new()\n",
        "            {\n",
        "                Instructions = laurentJalabertPrompt,\n",
        "                Name = \"Laurent_Jalabert\",\n",
        "                Kernel = builder.Build(),\n",
        "            };\n",
        "\n",
        "\n",
        "// Create a chat for agent interaction.\n",
        "AgentGroupChat chat =\n",
        "    new(agentReviewer, agentWriter)\n",
        "    {\n",
        "        ExecutionSettings =\n",
        "            new()\n",
        "            {\n",
        "                // Here KernelFunctionTerminationStrategy will terminate\n",
        "                // when the art-director has given their approval.\n",
        "                TerminationStrategy =\n",
        "                    new ApprovalTerminationStrategy(motADevniner)\n",
        "                    {\n",
        "                        // Only the art-director may approve.\n",
        "                        Agents = [agentWriter],\n",
        "                        // Limit total number of turns\n",
        "                        MaximumIterations = 10,\n",
        "                    },\n",
        "            }\n",
        "    };\n",
        "\n",
        "\n",
        "\n",
        "    private class ApprovalTerminationStrategy : TerminationStrategy\n",
        "    {\n",
        "        string MotADeviner;\n",
        "\n",
        "        public ApprovalTerminationStrategy(string _motADevniner)\n",
        "        {\n",
        "            MotADeviner = _motADevniner;\n",
        "        }\n",
        "        // Terminate when the final message contains the term \"approve\"\n",
        "        protected override Task<bool> ShouldAgentTerminateAsync(Agent agent, IReadOnlyList<ChatMessageContent> history, CancellationToken cancellationToken)\n",
        "            => Task.FromResult(history[history.Count - 1].Content?.Contains(MotADeviner, StringComparison.OrdinalIgnoreCase) ?? false);\n",
        "    }"
      ]
    },
    {
      "attachments": {},
      "cell_type": "markdown",
      "metadata": {},
      "source": [
        "Initialisons maintenant les arguments pour suivre la conversation et le mot à deviner."
      ]
    },
    {
      "cell_type": "code",
      "execution_count": 32,
      "metadata": {
        "dotnet_interactive": {
          "language": "csharp"
        },
        "polyglot_notebook": {
          "kernelName": "csharp"
        },
        "vscode": {
          "languageId": "polyglot-notebook"
        }
      },
      "outputs": [
        {
          "name": "stdout",
          "output_type": "stream",
          "text": [
            "# assistant - Pere_Fouras: 'Bien sûr, je vais vous aider à deviner. \n",
            "\n",
            "Mon premier est ce que vous mangez pour apaiser une toux.\n",
            "\n",
            "Mon deuxième est une petite forme ronde que l'on peut trouver dans une boîte de bonbons.\n",
            "\n",
            "Mon troisième est ce que l'on prend pour se débarrasser d'une mauvaise haleine.\n",
            "\n",
            "Avez-vous deviné de quoi je parle ?'\n",
            "# assistant - Laurent_Jalabert: 'Oui, tu parles de \"Pastille Vichy\".'\n",
            "# assistant - Pere_Fouras: 'Bravo, vous avez trouvé ! Les pastilles sont des petits bonbons à sucer pour apaiser la gorge ou rafraîchir l'haleine. Bien joué !'\n",
            "# assistant - Laurent_Jalabert: 'Félicitations, Laurent Jalabert, tu as trouvé le mot mystère ! Es-tu prêt pour un autre défi ou as-tu besoin d'aide pour autre chose ?'\n",
            "# assistant - Pere_Fouras: 'Je suis prêt pour un autre défi, quelle enigme as-tu pour moi, Père Fouras ?'\n",
            "# assistant - Laurent_Jalabert: 'N'hésitez pas à me solliciter si vous avez besoin d'aide. Bonne continuation !'\n",
            "# assistant - Pere_Fouras: 'Merci Père Fouras, à bientôt pour de nouvelles énigmes !'\n",
            "# assistant - Laurent_Jalabert: 'Au plaisir, Laurent Jalabert. À la prochaine !'\n",
            "# assistant - Pere_Fouras: 'Le mot ou l'expression à deviner était \"Pastilles\". Félicitations pour avoir trouvé la réponse !'\n",
            "# assistant - Laurent_Jalabert: 'Voulez-vous continuer à jouer ou avez-vous d'autres questions pour le Père Fouras ?'\n"
          ]
        }
      ],
      "source": [
        "\n",
        "#pragma warning disable SKEXP0110, SKEXP0001\n",
        "await foreach (var content in chat.InvokeAsync())\n",
        "{\n",
        "    Console.WriteLine($\"# {content.Role} - {content.AuthorName ?? \"*\"}: '{content.Content}'\");\n",
        "}"
      ]
    }
  ],
  "metadata": {
    "kernelspec": {
      "display_name": ".NET (C#)",
      "language": "C#",
      "name": ".net-csharp"
    },
    "language_info": {
      "name": "csharp"
    },
    "polyglot_notebook": {
      "kernelInfo": {
        "defaultKernelName": "csharp",
        "items": [
          {
            "aliases": [],
            "name": "csharp"
          }
        ]
      }
    }
  },
  "nbformat": 4,
  "nbformat_minor": 2
}
