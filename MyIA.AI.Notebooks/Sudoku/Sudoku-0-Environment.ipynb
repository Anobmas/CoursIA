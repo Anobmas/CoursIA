{
 "cells": [
  {
   "cell_type": "markdown",
   "metadata": {},
   "source": [
    "# Notebook 0: Classes de Base pour la Résolution de Sudoku\n",
    "\n",
    "Ce notebook contient les classes de base nécessaires pour la manipulation et la résolution des grilles de Sudoku. Il sera importé dans les autres notebooks pour réutiliser ces classes.\n",
    "\n",
    "## Importation des Bibliothèques Nécessaires\n",
    "\n",
    "Nous commençons par importer les bibliothèques nécessaires.\n"
   ]
  },
  {
   "cell_type": "code",
   "execution_count": null,
   "metadata": {
    "dotnet_interactive": {
     "language": "csharp"
    },
    "polyglot_notebook": {
     "kernelName": "csharp"
    }
   },
   "outputs": [],
   "source": [
    "using System;\n",
    "using System.Collections.Generic;\n",
    "using System.Collections.ObjectModel;\n",
    "using System.IO;\n",
    "using System.Linq;\n",
    "using System.Text;\n"
   ]
  },
  {
   "cell_type": "markdown",
   "metadata": {},
   "source": [
    "## Définition de la classe SudokuGrid\n",
    "\n",
    "Nous définissons ici la classe SudokuGrid qui représente une grille de Sudoku et fournit des méthodes pour manipuler et afficher les grilles.\n"
   ]
  },
  {
   "cell_type": "code",
   "execution_count": null,
   "metadata": {
    "dotnet_interactive": {
     "language": "csharp"
    },
    "polyglot_notebook": {
     "kernelName": "csharp"
    }
   },
   "outputs": [],
   "source": [
    "public class SudokuGrid : ICloneable\n",
    "{\n",
    "\n",
    "    // Méthodes utilitaires\n",
    "    public static T[][] ToJaggedArray<T>(IList<T> source, int columnLength)\n",
    "    {\n",
    "        return source\n",
    "            .Select((value, index) => new { value, index })\n",
    "            .GroupBy(x => x.index / columnLength)\n",
    "            .Select(g => g.Select(x => x.value).ToArray())\n",
    "            .ToArray();\n",
    "    }\n",
    "\n",
    "    public static T[] Flatten<T>(T[][] source) => source.SelectMany(x => x).ToArray();\n",
    "\n",
    "    public static T[,] To2D<T>(T[][] source)\n",
    "    {\n",
    "        int rowLength = source.Length;\n",
    "        int colLength = source[0].Length;\n",
    "        var result = new T[rowLength, colLength];\n",
    "\n",
    "        for (int row = 0; row < rowLength; row++)\n",
    "            for (int col = 0; col < colLength; col++)\n",
    "                result[row, col] = source[row][col];\n",
    "\n",
    "        return result;\n",
    "    }\n",
    "\n",
    "    public static T[][] ToJaggedArray<T>(T[,] source)\n",
    "    {\n",
    "        int rows = source.GetLength(0);\n",
    "        int cols = source.GetLength(1);\n",
    "        var result = new T[rows][];\n",
    "\n",
    "        for (int i = 0; i < rows; i++)\n",
    "        {\n",
    "            result[i] = new T[cols];\n",
    "            for (int j = 0; j < cols; j++)\n",
    "                result[i][j] = source[i, j];\n",
    "        }\n",
    "\n",
    "        return result;\n",
    "    }\n",
    "\n",
    "    public static readonly ReadOnlyCollection<int> NeighbourIndices = new(Enumerable.Range(0, 9).ToList());\n",
    "\n",
    "    private static readonly (int row, int column)[][] LineNeighbours = NeighbourIndices.Select(r => NeighbourIndices.Select(c => (r, c)).ToArray()).ToArray();\n",
    "    private static readonly (int row, int column)[][] ColumnNeighbours = NeighbourIndices.Select(c => NeighbourIndices.Select(r => (r, c)).ToArray()).ToArray();\n",
    "    private static readonly (int row, int column)[][] BoxNeighbours = GetBoxNeighbours();\n",
    "    public static readonly (int row, int column)[][] AllNeighbours = LineNeighbours.Concat(ColumnNeighbours).Concat(BoxNeighbours).ToArray();\n",
    "\n",
    "    private static (int row, int column)[][] GetBoxNeighbours()\n",
    "    {\n",
    "        var result = new (int row, int column)[9][];\n",
    "\n",
    "        for (int box = 0; box < 9; box++)\n",
    "        {\n",
    "            var cells = new List<(int, int)>();\n",
    "            int startRow = (box / 3) * 3;\n",
    "            int startCol = (box % 3) * 3;\n",
    "\n",
    "            for (int row = startRow; row < startRow + 3; row++)\n",
    "                for (int col = startCol; col < startCol + 3; col++)\n",
    "                    cells.Add((row, col));\n",
    "\n",
    "            result[box] = cells.ToArray();\n",
    "        }\n",
    "\n",
    "        return result;\n",
    "    }\n",
    "\n",
    "    public static readonly (int row, int column)[][][] CellNeighbours = NeighbourIndices\n",
    "        .Select(row => NeighbourIndices\n",
    "            .Select(col => AllNeighbours\n",
    "                .Where(neighbourhood => neighbourhood.Contains((row, col)))\n",
    "                .SelectMany(n => n)\n",
    "                .Where(pos => pos != (row, col))\n",
    "                .Distinct()\n",
    "                .ToArray())\n",
    "            .ToArray())\n",
    "        .ToArray();\n",
    "\n",
    "    public SudokuGrid() { }\n",
    "\n",
    "    public int[,] Cells { get; set; } = new int[9, 9];\n",
    "\n",
    "    public override string ToString()\n",
    "    {\n",
    "        var output = new StringBuilder();\n",
    "        var lineSep = new string('-', 31);\n",
    "        var blankSep = new string(' ', 8);\n",
    "\n",
    "        for (int row = 0; row < 9; row++)\n",
    "        {\n",
    "            output.Append(row % 3 == 0 ? lineSep + \"\\n\" : \"\");\n",
    "            output.Append(\"| \");\n",
    "            for (int col = 0; col < 9; col++)\n",
    "            {\n",
    "                output.Append(Cells[row, col] > 0 ? Cells[row, col].ToString() : \" \");\n",
    "                output.Append((col + 1) % 3 == 0 ? \" | \" : \"  \");\n",
    "            }\n",
    "            output.Append(\"\\n\");\n",
    "        }\n",
    "        output.Append(lineSep);\n",
    "\n",
    "        return output.ToString();\n",
    "    }\n",
    "\n",
    "    public int[] GetAvailableNumbers(int x, int y)\n",
    "    {\n",
    "        if (x < 0 || x >= 9 || y < 0 || y >= 9)\n",
    "            throw new ApplicationException(\"Invalid Coordinates\");\n",
    "\n",
    "        bool[] used = new bool[9];\n",
    "        foreach (var (row, col) in CellNeighbours[x][y])\n",
    "        {\n",
    "            int value = Cells[row, col];\n",
    "            if (value > 0) used[value - 1] = true;\n",
    "        }\n",
    "\n",
    "        return Enumerable.Range(1, 9).Where(n => !used[n - 1]).ToArray();\n",
    "    }\n",
    "\n",
    "    public static SudokuGrid ReadSudoku(string sudokuAsString) => ReadMultiSudoku(new[] { sudokuAsString })[0];\n",
    "\n",
    "    public static List<SudokuGrid> ReadSudokuFile(string fileName) => ReadMultiSudoku(File.ReadAllLines(fileName));\n",
    "\n",
    "\n",
    "    public static List<SudokuGrid> ReadMultiSudoku(string[] lines)\n",
    "    {\n",
    "        var toReturn = new List<SudokuGrid>();\n",
    "        var rows = new List<int[]>();\n",
    "        var rowCells = new List<int>(9);\n",
    "\n",
    "        foreach (var line in lines.Where(l => l.Length > 0 && IsSudokuChar(l[0])))\n",
    "        {\n",
    "            foreach (char c in line)\n",
    "            {\n",
    "                if (IsSudokuChar(c))\n",
    "                {\n",
    "                    if (char.IsDigit(c))\n",
    "                    {\n",
    "                        rowCells.Add((int)Char.GetNumericValue(c));\n",
    "                    }\n",
    "                    else\n",
    "                    {\n",
    "                        rowCells.Add(0);\n",
    "                    }\n",
    "                }\n",
    "\n",
    "                if (rowCells.Count == 9)\n",
    "                {\n",
    "                    rows.Add(rowCells.ToArray());\n",
    "                    rowCells.Clear();\n",
    "                }\n",
    "\n",
    "                if (rows.Count == 9)\n",
    "                {\n",
    "                    toReturn.Add(new SudokuGrid() { Cells = To2D(rows.ToArray()) });\n",
    "                    rows.Clear();\n",
    "                }\n",
    "            }\n",
    "        }\n",
    "\n",
    "        return toReturn;\n",
    "    }\n",
    "\n",
    "     private static bool IsSudokuChar(char c) => char.IsDigit(c) || c == '.' || c == 'X' || c == '-';\n",
    "\n",
    "    public object Clone() => new SudokuGrid { Cells = (int[,])Cells.Clone() };\n",
    "\n",
    "    public int NbErrors(SudokuGrid originalPuzzle)\n",
    "    {\n",
    "        int errors = AllNeighbours.Select(n => n.Select(pos => Cells[pos.row, pos.column])\n",
    "                                                 .GroupBy(val => val)\n",
    "                                                 .Sum(g => g.Count() - 1))\n",
    "                                   .Sum();\n",
    "\n",
    "        foreach (var row in NeighbourIndices)\n",
    "            foreach (var col in NeighbourIndices)\n",
    "                if (originalPuzzle.Cells[row, col] > 0 && originalPuzzle.Cells[row, col] != Cells[row, col])\n",
    "                    errors++;\n",
    "\n",
    "        return errors;\n",
    "    }\n",
    "\n",
    "    public bool IsValid(SudokuGrid originalPuzzle) => NbErrors(originalPuzzle) == 0;\n",
    "\n",
    "    public int NbEmptyCells() => Cells.Cast<int>().Count(c => c == 0);\n",
    "}\n"
   ]
  },
  {
   "cell_type": "markdown",
   "metadata": {},
   "source": [
    "## Définition de l'interface ISudokuSolver\n",
    "\n",
    "Nous définissons ici l'interface ISudokuSolver qui sera implémentée par les différentes stratégies de résolution de Sudoku.\n"
   ]
  },
  {
   "cell_type": "code",
   "execution_count": null,
   "metadata": {
    "dotnet_interactive": {
     "language": "csharp"
    },
    "polyglot_notebook": {
     "kernelName": "csharp"
    }
   },
   "outputs": [],
   "source": [
    "public interface ISudokuSolver\n",
    "{\n",
    "    SudokuGrid Solve(SudokuGrid s);\n",
    "}\n"
   ]
  },
  {
   "cell_type": "markdown",
   "metadata": {},
   "source": [
    "## Définition de la classe SudokuHelper\n",
    "\n",
    "Nous ajoutons ici la classe SudokuHelper qui contient des méthodes utilitaires pour charger et afficher des grilles de Sudoku.\n"
   ]
  },
  {
   "cell_type": "code",
   "execution_count": null,
   "metadata": {
    "dotnet_interactive": {
     "language": "csharp"
    },
    "polyglot_notebook": {
     "kernelName": "csharp"
    }
   },
   "outputs": [],
   "source": [
    "using System.IO;\n",
    "\n",
    "public enum SudokuDifficulty\n",
    "{\n",
    "    Easy,\n",
    "    Medium,\n",
    "    Hard\n",
    "}\n",
    "\n",
    "public static class SudokuHelper\n",
    "{\n",
    "    private const string PUZZLES_FOLDER_NAME = \"Puzzles\";\n",
    "\n",
    "    public static List<SudokuGrid> GetSudokus(SudokuDifficulty difficulty)\n",
    "    {\n",
    "        string fileName = difficulty switch\n",
    "        {\n",
    "            SudokuDifficulty.Easy => \"Sudoku_Easy51.txt\",\n",
    "            SudokuDifficulty.Medium => \"Sudoku_hardest.txt\",\n",
    "            _ => \"Sudoku_top95.txt\"\n",
    "        };\n",
    "\n",
    "        var currentDirectory = new DirectoryInfo(Environment.CurrentDirectory);\n",
    "        DirectoryInfo puzzlesDirectory = null;\n",
    "\n",
    "        while (puzzlesDirectory == null)\n",
    "        {\n",
    "            puzzlesDirectory = currentDirectory.GetDirectories()\n",
    "                                               .FirstOrDefault(d => d.Name == PUZZLES_FOLDER_NAME);\n",
    "            currentDirectory = currentDirectory.Parent;\n",
    "            if (currentDirectory == null)\n",
    "                throw new ApplicationException(\"Couldn't find puzzles directory\");\n",
    "        }\n",
    "\n",
    "        string filePath = Path.Combine(puzzlesDirectory.ToString(), fileName);\n",
    "        return SudokuGrid.ReadSudokuFile(filePath);\n",
    "    }\n",
    "\n",
    "    public static SudokuGrid SolveSudoku(SudokuGrid sudoku, ISudokuSolver solver)\n",
    "    {\n",
    "        display($\"Résolution par le solver {solver.GetType().Name} du Sudoku:\\n {sudoku}\");\n",
    "        var stopwatch = System.Diagnostics.Stopwatch.StartNew();\n",
    "        var solvedSudoku = solver.Solve(sudoku);\n",
    "        stopwatch.Stop();\n",
    "        display($\"Sudoku renvoyé:\\n{solvedSudoku}\\nNombre d'erreurs réstantes: {solvedSudoku.NbErrors(sudoku)}\\nTemps de résolution: {stopwatch.Elapsed.TotalMilliseconds} ms\");\n",
    "        return solvedSudoku;\n",
    "    }\n",
    "}\n"
   ]
  },
  {
   "cell_type": "markdown",
   "metadata": {},
   "source": [
    "## Affichage des Puzzles de chaque Difficulté\n",
    "\n",
    "Nous allons charger et afficher un puzzle de chaque niveau de difficulté : Facile, Moyen et Difficile.\n"
   ]
  },
  {
   "cell_type": "code",
   "execution_count": null,
   "metadata": {
    "dotnet_interactive": {
     "language": "csharp"
    },
    "polyglot_notebook": {
     "kernelName": "csharp"
    }
   },
   "outputs": [],
   "source": [
    "// Chargement et affichage d'un puzzle facile\n",
    "var easySudoku = SudokuHelper.GetSudokus(SudokuDifficulty.Easy).FirstOrDefault();\n",
    "display($\"Puzzle Facile:\\n{easySudoku}\");\n",
    "\n",
    "// Chargement et affichage d'un puzzle moyen\n",
    "var mediumSudoku = SudokuHelper.GetSudokus(SudokuDifficulty.Medium).FirstOrDefault();\n",
    "display($\"Puzzle Moyen:\\n{mediumSudoku}\");\n",
    "\n",
    "// Chargement et affichage d'un puzzle difficile\n",
    "var hardSudoku = SudokuHelper.GetSudokus(SudokuDifficulty.Hard).FirstOrDefault();\n",
    "display($\"Puzzle Difficile:\\n{hardSudoku}\");"
   ]
  }
 ],
 "metadata": {
  "kernelspec": {
   "display_name": ".NET (C#)",
   "language": "C#",
   "name": ".net-csharp"
  },
  "polyglot_notebook": {
   "kernelInfo": {
    "defaultKernelName": "csharp",
    "items": [
     {
      "aliases": [],
      "languageName": "csharp",
      "name": "csharp"
     }
    ]
   }
  }
 },
 "nbformat": 4,
 "nbformat_minor": 2
}
