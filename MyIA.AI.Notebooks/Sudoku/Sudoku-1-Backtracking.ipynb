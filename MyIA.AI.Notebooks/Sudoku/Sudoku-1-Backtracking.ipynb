{
 "cells": [
  {
   "cell_type": "markdown",
   "metadata": {},
   "source": [
    "# Résolution de Sudoku par Backtracking\n",
    "\n",
    "## Introduction Théorique\n",
    "\n",
    "L'algorithme de backtracking est une méthode de recherche en profondeur utilisée pour résoudre les problèmes de satisfaction de contraintes (CSP), comme le Sudoku. L'algorithme explore toutes les configurations possibles pour trouver une solution qui respecte les contraintes. Voici les concepts clés :\n",
    "\n",
    "- **Exploration en profondeur** : L'algorithme explore chaque possibilité de manière exhaustive avant de revenir en arrière (backtrack) lorsque aucune solution n'est trouvée dans une branche particulière.\n",
    "- **Contraintes** : Dans le cas du Sudoku, les contraintes sont les règles du jeu : chaque chiffre de 1 à 9 doit apparaître une seule fois par ligne, colonne et sous-grille de 3x3.\n",
    "\n",
    "## Implémentation de l'Algorithme de Backtracking\n",
    "\n",
    "L'algorithme de backtracking suit ces étapes :\n",
    "1. Trouver une case vide dans la grille.\n",
    "2. Tenter de placer un chiffre (1-9) dans la case vide.\n",
    "3. Vérifier si ce chiffre respecte les contraintes.\n",
    "4. Si oui, passer à la case suivante et répéter le processus.\n",
    "5. Si non, essayer le chiffre suivant.\n",
    "6. Si aucun chiffre ne convient, revenir en arrière (backtrack) et essayer un autre chiffre pour la case précédente.\n",
    "\n",
    "\n",
    "\n",
    "\n",
    "## Importation des Classes de Base\n",
    "\n",
    "Nous allons commencer par importer les classes de base définies dans le notebook précédent.\n",
    "\n",
    "\n"
   ]
  },
  {
   "cell_type": "code",
   "execution_count": 1,
   "metadata": {
    "dotnet_interactive": {
     "language": "csharp"
    },
    "polyglot_notebook": {
     "kernelName": "csharp"
    }
   },
   "outputs": [
    {
     "data": {
      "text/markdown": [
       "# Notebook 0: Classes de Base pour la Résolution de Sudoku\n",
       "\n",
       "Ce notebook contient les classes de base nécessaires pour la manipulation et la résolution des grilles de Sudoku. Il sera importé dans les autres notebooks pour réutiliser ces classes.\n",
       "\n",
       "## Importation des Bibliothèques Nécessaires\n",
       "\n",
       "Nous commençons par importer les bibliothèques nécessaires.\n"
      ]
     },
     "metadata": {},
     "output_type": "display_data"
    },
    {
     "data": {
      "text/html": [
       "<div><div></div><div></div><div><strong>Installed Packages</strong><ul><li><span>XPlot.Plotly.Interactive, 4.1.0</span></li></ul></div></div>"
      ]
     },
     "metadata": {},
     "output_type": "display_data"
    },
    {
     "data": {
      "text/plain": [
       "Loading extensions from `C:\\Users\\Administrateur.000\\.nuget\\packages\\xplot.plotly.interactive\\4.1.0\\lib\\net7.0\\XPlot.Plotly.Interactive.dll`"
      ]
     },
     "metadata": {},
     "output_type": "display_data"
    },
    {
     "data": {
      "text/markdown": [
       "Configuring PowerShell Kernel for XPlot.Plotly integration."
      ]
     },
     "metadata": {},
     "output_type": "display_data"
    },
    {
     "data": {
      "text/markdown": [
       "Installed support for XPlot.Plotly."
      ]
     },
     "metadata": {},
     "output_type": "display_data"
    },
    {
     "data": {
      "text/markdown": [
       "## Définition de la classe SudokuGrid\n",
       "\n",
       "Nous définissons ici la classe SudokuGrid qui représente une grille de Sudoku et fournit des méthodes pour manipuler et afficher les grilles.\n"
      ]
     },
     "metadata": {},
     "output_type": "display_data"
    },
    {
     "data": {
      "text/markdown": [
       "## Définition de l'interface ISudokuSolver\n",
       "\n",
       "Nous définissons ici l'interface ISudokuSolver qui sera implémentée par les différentes stratégies de résolution de Sudoku.\n"
      ]
     },
     "metadata": {},
     "output_type": "display_data"
    },
    {
     "data": {
      "text/markdown": [
       "## Définition de la classe SudokuHelper\n",
       "\n",
       "Nous ajoutons ici la classe SudokuHelper qui contient des méthodes utilitaires pour charger  des grilles de Sudoku et tester des solvers.\n",
       "\n",
       "- `GetSudokus` : Renvoie des listes de Sudoku issues de fichiers de 3 difficultés différentes.\n",
       "- `SolveSudoku` : effectue un test simple d'un solver sur un sudoku donné.\n",
       "- `TestSolvers` : exécute les tests de performance sur plusieurs solveurs.\n",
       "- `DisplayResults` : affiche les résultats des tests sous forme de graphiques.\n",
       "\n"
      ]
     },
     "metadata": {},
     "output_type": "display_data"
    }
   ],
   "source": [
    "#!import Sudoku-0-Environment.ipynb\n"
   ]
  },
  {
   "cell_type": "markdown",
   "metadata": {},
   "source": [
    "## Affichage des Puzzles de chaque Difficulté\n",
    "\n",
    "Nous allons charger et afficher un puzzle de chaque niveau de difficulté : Facile, Moyen et Difficile.\n"
   ]
  },
  {
   "cell_type": "code",
   "execution_count": 2,
   "metadata": {
    "dotnet_interactive": {
     "language": "csharp"
    },
    "polyglot_notebook": {
     "kernelName": "csharp"
    }
   },
   "outputs": [
    {
     "data": {
      "text/plain": [
       "Puzzle Facile:\n",
       "-------------------------------\n",
       "| 9     2 |       5 | 4     3 | \n",
       "| 1       |    6  3 |    2  5 | \n",
       "| 5     8 | 4     7 |    6    | \n",
       "-------------------------------\n",
       "|    2  6 | 3     9 |       1 | \n",
       "|    5  7 |    1    | 2  9    | \n",
       "|    9    | 6  7    | 5  3    | \n",
       "-------------------------------\n",
       "| 2  4    | 5  3    | 6       | \n",
       "| 7     5 | 2       | 3     4 | \n",
       "|    8    |    4  1 | 9  5    | \n",
       "-------------------------------"
      ]
     },
     "metadata": {},
     "output_type": "display_data"
    },
    {
     "data": {
      "text/plain": [
       "Puzzle Moyen:\n",
       "-------------------------------\n",
       "| 8  5    |       2 | 4       | \n",
       "| 7  2    |         |       9 | \n",
       "|       4 |         |         | \n",
       "-------------------------------\n",
       "|         | 1     7 |       2 | \n",
       "| 3     5 |         | 9       | \n",
       "|    4    |         |         | \n",
       "-------------------------------\n",
       "|         |    8    |    7    | \n",
       "|    1  7 |         |         | \n",
       "|         |    3  6 |    4    | \n",
       "-------------------------------"
      ]
     },
     "metadata": {},
     "output_type": "display_data"
    },
    {
     "data": {
      "text/plain": [
       "Puzzle Difficile:\n",
       "-------------------------------\n",
       "| 4       |         | 8     5 | \n",
       "|    3    |         |         | \n",
       "|         | 7       |         | \n",
       "-------------------------------\n",
       "|    2    |         |    6    | \n",
       "|         |    8    | 4       | \n",
       "|         |    1    |         | \n",
       "-------------------------------\n",
       "|         | 6     3 |    7    | \n",
       "| 5       | 2       |         | \n",
       "| 1     4 |         |         | \n",
       "-------------------------------"
      ]
     },
     "metadata": {},
     "output_type": "display_data"
    }
   ],
   "source": [
    "// Chargement et affichage d'un puzzle facile\n",
    "var easySudoku = SudokuHelper.GetSudokus(SudokuDifficulty.Easy).FirstOrDefault();\n",
    "display($\"Puzzle Facile:\\n{easySudoku}\");\n",
    "\n",
    "// Chargement et affichage d'un puzzle moyen\n",
    "var mediumSudoku = SudokuHelper.GetSudokus(SudokuDifficulty.Medium).FirstOrDefault();\n",
    "display($\"Puzzle Moyen:\\n{mediumSudoku}\");\n",
    "\n",
    "// Chargement et affichage d'un puzzle difficile\n",
    "var hardSudoku = SudokuHelper.GetSudokus(SudokuDifficulty.Hard).FirstOrDefault();\n",
    "display($\"Puzzle Difficile:\\n{hardSudoku}\");"
   ]
  },
  {
   "cell_type": "markdown",
   "metadata": {},
   "source": [
    "## Code du solver en C#\n",
    "\n",
    "Nous allons maintenant implémenter ce solveur en C#.\n",
    "\n",
    "### Classe `BacktrackingDotNetSolver`"
   ]
  },
  {
   "cell_type": "code",
   "execution_count": 3,
   "metadata": {
    "dotnet_interactive": {
     "language": "csharp"
    },
    "polyglot_notebook": {
     "kernelName": "csharp"
    }
   },
   "outputs": [],
   "source": [
    "public class BacktrackingDotNetSolver : ISudokuSolver\n",
    "{\n",
    "    public SudokuGrid Solve(SudokuGrid s)\n",
    "    {\n",
    "        callCount = 0;\n",
    "        Search(s, 0, 0);\n",
    "        Console.WriteLine($\"BacktrackingDotNetSolver: {callCount} search calls\");\n",
    "        return s;\n",
    "    }\n",
    "\n",
    "    private int callCount = 0;\n",
    "\n",
    "    private bool Search(SudokuGrid s, int row, int col)\n",
    "    {\n",
    "        callCount++;\n",
    "        if (row == 9) return true;\n",
    "        if (col == 9) return Search(s, row + 1, 0);\n",
    "        if (s.Cells[row, col] != 0) return Search(s, row, col + 1);\n",
    "\n",
    "        for (int num = 1; num <= 9; num++)\n",
    "        {\n",
    "            if (IsValid(s, row, col, num))\n",
    "            {\n",
    "                s.Cells[row, col] = num;\n",
    "                if (Search(s, row, col + 1)) return true;\n",
    "                s.Cells[row, col] = 0;\n",
    "            }\n",
    "        }\n",
    "        return false;\n",
    "    }\n",
    "\n",
    "    private bool IsValid(SudokuGrid s, int row, int col, int val)\n",
    "    {\n",
    "        for (int i = 0; i < 9; i++)\n",
    "            if (s.Cells[row, i] == val || s.Cells[i, col] == val)\n",
    "                return false;\n",
    "\n",
    "        int startRow = 3 * (row / 3), startCol = 3 * (col / 3);\n",
    "        for (int i = 0; i < 3; i++)\n",
    "            for (int j = 0; j < 3; j++)\n",
    "                if (s.Cells[startRow + i, startCol + j] == val)\n",
    "                    return false;\n",
    "\n",
    "        return true;\n",
    "    }\n",
    "}\n"
   ]
  },
  {
   "cell_type": "markdown",
   "metadata": {},
   "source": [
    "## Test du Solveur\n",
    "\n",
    "Nous allons maintenant tester notre solveur de Sudoku par backtracking en utilisant une grille de Sudoku.\n"
   ]
  },
  {
   "cell_type": "code",
   "execution_count": 4,
   "metadata": {
    "dotnet_interactive": {
     "language": "csharp"
    },
    "polyglot_notebook": {
     "kernelName": "csharp"
    }
   },
   "outputs": [
    {
     "name": "stdout",
     "output_type": "stream",
     "text": [
      "Puzzle Sudoku Facile Initial:\r\n"
     ]
    },
    {
     "data": {
      "text/plain": [
       "Résolution par le solver BacktrackingDotNetSolver du Sudoku:\n",
       " -------------------------------\n",
       "| 9     2 |       5 | 4     3 | \n",
       "| 1       |    6  3 |    2  5 | \n",
       "| 5     8 | 4     7 |    6    | \n",
       "-------------------------------\n",
       "|    2  6 | 3     9 |       1 | \n",
       "|    5  7 |    1    | 2  9    | \n",
       "|    9    | 6  7    | 5  3    | \n",
       "-------------------------------\n",
       "| 2  4    | 5  3    | 6       | \n",
       "| 7     5 | 2       | 3     4 | \n",
       "|    8    |    4  1 | 9  5    | \n",
       "-------------------------------"
      ]
     },
     "metadata": {},
     "output_type": "display_data"
    },
    {
     "name": "stdout",
     "output_type": "stream",
     "text": [
      "BacktrackingDotNetSolver: 122 search calls\r\n"
     ]
    },
    {
     "data": {
      "text/plain": [
       "Sudoku renvoyé:\n",
       "-------------------------------\n",
       "| 9  6  2 | 1  8  5 | 4  7  3 | \n",
       "| 1  7  4 | 9  6  3 | 8  2  5 | \n",
       "| 5  3  8 | 4  2  7 | 1  6  9 | \n",
       "-------------------------------\n",
       "| 8  2  6 | 3  5  9 | 7  4  1 | \n",
       "| 3  5  7 | 8  1  4 | 2  9  6 | \n",
       "| 4  9  1 | 6  7  2 | 5  3  8 | \n",
       "-------------------------------\n",
       "| 2  4  9 | 5  3  8 | 6  1  7 | \n",
       "| 7  1  5 | 2  9  6 | 3  8  4 | \n",
       "| 6  8  3 | 7  4  1 | 9  5  2 | \n",
       "-------------------------------\n",
       "Nombre d'erreurs réstantes: 0\n",
       "Temps de résolution: 0,8361 ms"
      ]
     },
     "metadata": {},
     "output_type": "display_data"
    },
    {
     "name": "stdout",
     "output_type": "stream",
     "text": [
      "Puzzle Sudoku Moyen Initial:\r\n"
     ]
    },
    {
     "data": {
      "text/plain": [
       "Résolution par le solver BacktrackingDotNetSolver du Sudoku:\n",
       " -------------------------------\n",
       "| 8  5    |       2 | 4       | \n",
       "| 7  2    |         |       9 | \n",
       "|       4 |         |         | \n",
       "-------------------------------\n",
       "|         | 1     7 |       2 | \n",
       "| 3     5 |         | 9       | \n",
       "|    4    |         |         | \n",
       "-------------------------------\n",
       "|         |    8    |    7    | \n",
       "|    1  7 |         |         | \n",
       "|         |    3  6 |    4    | \n",
       "-------------------------------"
      ]
     },
     "metadata": {},
     "output_type": "display_data"
    },
    {
     "name": "stdout",
     "output_type": "stream",
     "text": [
      "BacktrackingDotNetSolver: 490304 search calls\r\n"
     ]
    },
    {
     "data": {
      "text/plain": [
       "Sudoku renvoyé:\n",
       "-------------------------------\n",
       "| 8  5  9 | 6  1  2 | 4  3  7 | \n",
       "| 7  2  3 | 8  5  4 | 1  6  9 | \n",
       "| 1  6  4 | 3  7  9 | 5  2  8 | \n",
       "-------------------------------\n",
       "| 9  8  6 | 1  4  7 | 3  5  2 | \n",
       "| 3  7  5 | 2  6  8 | 9  1  4 | \n",
       "| 2  4  1 | 5  9  3 | 7  8  6 | \n",
       "-------------------------------\n",
       "| 4  3  2 | 9  8  1 | 6  7  5 | \n",
       "| 6  1  7 | 4  2  5 | 8  9  3 | \n",
       "| 5  9  8 | 7  3  6 | 2  4  1 | \n",
       "-------------------------------\n",
       "Nombre d'erreurs réstantes: 0\n",
       "Temps de résolution: 281,2818 ms"
      ]
     },
     "metadata": {},
     "output_type": "display_data"
    },
    {
     "name": "stdout",
     "output_type": "stream",
     "text": [
      "Puzzle Sudoku Difficile Initial:\r\n"
     ]
    },
    {
     "data": {
      "text/plain": [
       "Résolution par le solver BacktrackingDotNetSolver du Sudoku:\n",
       " -------------------------------\n",
       "| 4       |         | 8     5 | \n",
       "|    3    |         |         | \n",
       "|         | 7       |         | \n",
       "-------------------------------\n",
       "|    2    |         |    6    | \n",
       "|         |    8    | 4       | \n",
       "|         |    1    |         | \n",
       "-------------------------------\n",
       "|         | 6     3 |    7    | \n",
       "| 5       | 2       |         | \n",
       "| 1     4 |         |         | \n",
       "-------------------------------"
      ]
     },
     "metadata": {},
     "output_type": "display_data"
    },
    {
     "name": "stdout",
     "output_type": "stream",
     "text": [
      "BacktrackingDotNetSolver: 12625368 search calls\r\n"
     ]
    },
    {
     "data": {
      "text/plain": [
       "Sudoku renvoyé:\n",
       "-------------------------------\n",
       "| 4  1  7 | 3  6  9 | 8  2  5 | \n",
       "| 6  3  2 | 1  5  8 | 9  4  7 | \n",
       "| 9  5  8 | 7  2  4 | 3  1  6 | \n",
       "-------------------------------\n",
       "| 8  2  5 | 4  3  7 | 1  6  9 | \n",
       "| 7  9  1 | 5  8  6 | 4  3  2 | \n",
       "| 3  4  6 | 9  1  2 | 7  5  8 | \n",
       "-------------------------------\n",
       "| 2  8  9 | 6  4  3 | 5  7  1 | \n",
       "| 5  7  3 | 2  9  1 | 6  8  4 | \n",
       "| 1  6  4 | 8  7  5 | 2  9  3 | \n",
       "-------------------------------\n",
       "Nombre d'erreurs réstantes: 0\n",
       "Temps de résolution: 8465,4997 ms"
      ]
     },
     "metadata": {},
     "output_type": "display_data"
    }
   ],
   "source": [
    "BacktrackingDotNetSolver solver = new BacktrackingDotNetSolver();\n",
    "\n",
    "// Test du puzzle facile\n",
    "var easySudoku = SudokuHelper.GetSudokus(SudokuDifficulty.Easy).FirstOrDefault();\n",
    "Console.WriteLine(\"Puzzle Sudoku Facile Initial:\");\n",
    "SudokuHelper.SolveSudoku(easySudoku, solver);\n",
    "\n",
    "// Test du puzzle moyen\n",
    "var mediumSudoku = SudokuHelper.GetSudokus(SudokuDifficulty.Medium).FirstOrDefault();\n",
    "Console.WriteLine(\"Puzzle Sudoku Moyen Initial:\");\n",
    "SudokuHelper.SolveSudoku(mediumSudoku, solver);\n",
    "\n",
    "// Test du puzzle difficile\n",
    "var hardSudoku = SudokuHelper.GetSudokus(SudokuDifficulty.Hard).FirstOrDefault();\n",
    "Console.WriteLine(\"Puzzle Sudoku Difficile Initial:\");\n",
    "SudokuHelper.SolveSudoku(hardSudoku, solver);\n",
    "\n"
   ]
  },
  {
   "cell_type": "markdown",
   "metadata": {},
   "source": [
    "## Conclusion et Analyse des Performances\n",
    "\n",
    "L'algorithme de backtracking est une méthode efficace pour résoudre des puzzles de Sudoku simples à modérés. Cependant, pour des puzzles plus complexes, il peut devenir très lent en raison du grand nombre de combinaisons possibles. Malgré cela, les performances observées avec l'implémentation en C# sont remarquablement bonnes. Voici quelques raisons possibles :\n",
    "\n",
    "1. **Programmation Dynamique** : L'implémentation en C# peut bénéficier des optimisations offertes par la programmation dynamique, où les résultats des sous-problèmes sont réutilisés, réduisant ainsi le nombre total de calculs nécessaires.\n",
    "\n",
    "2. **Gestion de la Pile d'Appel** : .NET 8 offre des performances exceptionnelles dans la gestion de la pile d'appel, permettant une exécution rapide et efficace des appels récursifs. La gestion de la mémoire et l'optimisation des appels récursifs sont des facteurs clés dans la rapidité de l'algorithme.\n",
    "\n",
    "3. **Optimisations du Compilateur JIT** : Le compilateur Just-In-Time (JIT) de .NET 8 applique de nombreuses optimisations à l'exécution, telles que l'inlining des fonctions, l'élimination des appels redondants et l'optimisation des boucles, ce qui améliore considérablement les performances.\n",
    "\n",
    "4. **Bibliothèques et Infrastructure** : Les bibliothèques standard de .NET et l'infrastructure de runtime offrent des primitives et des structures de données hautement optimisées, permettant une manipulation rapide et efficace des tableaux et des collections.\n",
    "\n",
    "Dans les prochains notebooks, nous explorerons des techniques plus avancées, telles que les heuristiques, les métaheuristiques, et les algorithmes de satisfaction de contraintes pour améliorer l'efficacité de la résolution des Sudoku.\n",
    "\n"
   ]
  }
 ],
 "metadata": {
  "kernelspec": {
   "display_name": ".NET (C#)",
   "language": "C#",
   "name": ".net-csharp"
  },
  "polyglot_notebook": {
   "kernelInfo": {
    "defaultKernelName": "csharp",
    "items": [
     {
      "aliases": [],
      "languageName": "csharp",
      "name": "csharp"
     }
    ]
   }
  }
 },
 "nbformat": 4,
 "nbformat_minor": 2
}
