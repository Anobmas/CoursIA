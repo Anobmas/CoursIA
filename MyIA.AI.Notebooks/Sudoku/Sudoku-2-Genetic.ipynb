{
 "cells": [
  {
   "cell_type": "markdown",
   "metadata": {},
   "source": [
    "# Résolution de Sudoku par Algorithme Génétique\n",
    "\n",
    "## Introduction Théorique\n",
    "\n",
    "Les algorithmes génétiques (GA) sont des techniques de recherche heuristiques inspirées par le processus de sélection naturelle. Ils sont couramment utilisés pour résoudre des problèmes d'optimisation et de recherche. Un algorithme génétique utilise des opérations telles que la mutation, le croisement et la sélection pour évoluer vers une solution optimale.\n",
    "\n",
    "Dans le contexte du Sudoku, un algorithme génétique peut être utilisé pour trouver une solution en représentant une grille de Sudoku comme un chromosome, où chaque gène représente une cellule de la grille. Les opérations génétiques sont appliquées pour optimiser la grille en respectant les contraintes du Sudoku.\n",
    "\n",
    "## Installation de GeneticSharp\n",
    "\n",
    "Nous devons commencer par installer le package GeneticSharp.\n",
    "Afin de concevoir un solver de Sudoku en algorithme génétique, il nous faudra concevoir un chromosome de Sudoku représentant l'individu d'une population de solution potentielles, et une fonction d'évaluation (fitness) évaluant la qualité d'un individu/chromosme.\n",
    "GeneticSharp fournira tout le reste des composants nécessaires à la mise en oeuvre de l'algorithme.\n"
   ]
  },
  {
   "cell_type": "code",
   "execution_count": 1,
   "metadata": {
    "dotnet_interactive": {
     "language": "csharp"
    },
    "polyglot_notebook": {
     "kernelName": "csharp"
    }
   },
   "outputs": [
    {
     "data": {
      "text/html": [
       "<div><div></div><div></div><div><strong>Installed Packages</strong><ul><li><span>GeneticSharp, 3.1.4</span></li></ul></div></div>"
      ]
     },
     "metadata": {},
     "output_type": "display_data"
    }
   ],
   "source": [
    "#r \"nuget: GeneticSharp\""
   ]
  },
  {
   "cell_type": "markdown",
   "metadata": {},
   "source": [
    "## Importation des Classes de Base\n",
    "\n",
    "Nous allons importer les classes de base définies dans le notebook précédent, fournissant notamment la représentation, le chargement et l'affichage de Sudokus, et l'infrastructure de résolution.\n"
   ]
  },
  {
   "cell_type": "code",
   "execution_count": 2,
   "metadata": {
    "dotnet_interactive": {
     "language": "csharp"
    },
    "polyglot_notebook": {
     "kernelName": "csharp"
    }
   },
   "outputs": [
    {
     "data": {
      "text/markdown": [
       "# Notebook 0: Classes de Base pour la Résolution de Sudoku\n",
       "\n",
       "Ce notebook contient les classes de base nécessaires pour la manipulation et la résolution des grilles de Sudoku. Il sera importé dans les autres notebooks pour réutiliser ces classes.\n",
       "\n",
       "## Importation des Bibliothèques Nécessaires\n",
       "\n",
       "Nous commençons par importer les bibliothèques nécessaires.\n"
      ]
     },
     "metadata": {},
     "output_type": "display_data"
    },
    {
     "data": {
      "text/markdown": [
       "## Définition de la classe SudokuGrid\n",
       "\n",
       "Nous définissons ici la classe SudokuGrid qui représente une grille de Sudoku et fournit des méthodes pour manipuler et afficher les grilles.\n"
      ]
     },
     "metadata": {},
     "output_type": "display_data"
    },
    {
     "data": {
      "text/markdown": [
       "## Définition de l'interface ISudokuSolver\n",
       "\n",
       "Nous définissons ici l'interface ISudokuSolver qui sera implémentée par les différentes stratégies de résolution de Sudoku.\n"
      ]
     },
     "metadata": {},
     "output_type": "display_data"
    },
    {
     "data": {
      "text/markdown": [
       "## Définition de la classe SudokuHelper\n",
       "\n",
       "Nous ajoutons ici la classe SudokuHelper qui contient des méthodes utilitaires pour charger et afficher des grilles de Sudoku.\n"
      ]
     },
     "metadata": {},
     "output_type": "display_data"
    },
    {
     "data": {
      "text/markdown": [
       "## Affichage des Puzzles de chaque Difficulté\n",
       "\n",
       "Nous allons charger et afficher un puzzle de chaque niveau de difficulté : Facile, Moyen et Difficile.\n"
      ]
     },
     "metadata": {},
     "output_type": "display_data"
    },
    {
     "data": {
      "text/plain": [
       "Puzzle Facile:\n",
       "-------------------------------\n",
       "| 9     2 |       5 | 4     3 | \n",
       "| 1       |    6  3 |    2  5 | \n",
       "| 5     8 | 4     7 |    6    | \n",
       "-------------------------------\n",
       "|    2  6 | 3     9 |       1 | \n",
       "|    5  7 |    1    | 2  9    | \n",
       "|    9    | 6  7    | 5  3    | \n",
       "-------------------------------\n",
       "| 2  4    | 5  3    | 6       | \n",
       "| 7     5 | 2       | 3     4 | \n",
       "|    8    |    4  1 | 9  5    | \n",
       "-------------------------------"
      ]
     },
     "metadata": {},
     "output_type": "display_data"
    },
    {
     "data": {
      "text/plain": [
       "Puzzle Moyen:\n",
       "-------------------------------\n",
       "| 8  5    |       2 | 4       | \n",
       "| 7  2    |         |       9 | \n",
       "|       4 |         |         | \n",
       "-------------------------------\n",
       "|         | 1     7 |       2 | \n",
       "| 3     5 |         | 9       | \n",
       "|    4    |         |         | \n",
       "-------------------------------\n",
       "|         |    8    |    7    | \n",
       "|    1  7 |         |         | \n",
       "|         |    3  6 |    4    | \n",
       "-------------------------------"
      ]
     },
     "metadata": {},
     "output_type": "display_data"
    },
    {
     "data": {
      "text/plain": [
       "Puzzle Difficile:\n",
       "-------------------------------\n",
       "| 4       |         | 8     5 | \n",
       "|    3    |         |         | \n",
       "|         | 7       |         | \n",
       "-------------------------------\n",
       "|    2    |         |    6    | \n",
       "|         |    8    | 4       | \n",
       "|         |    1    |         | \n",
       "-------------------------------\n",
       "|         | 6     3 |    7    | \n",
       "| 5       | 2       |         | \n",
       "| 1     4 |         |         | \n",
       "-------------------------------"
      ]
     },
     "metadata": {},
     "output_type": "display_data"
    }
   ],
   "source": [
    "#!import Sudoku-0-Environment.ipynb"
   ]
  },
  {
   "cell_type": "markdown",
   "metadata": {},
   "source": [
    "## Implémentation du Solveur de Sudoku par Algorithme Génétique\n",
    "\n",
    "Nous allons maintenant implémenter ce solveur en C#. Comme indiqué précédemment il nous faut code la notion de chromosome et de fonction d'évaluation.\n",
    "\n",
    "Afin de nous donner la possibilité de tester plusieurs types de chromosome, on introduit une interface dédiée:\n",
    "\n",
    "### Interface `ISudokuChromosome`\n"
   ]
  },
  {
   "cell_type": "code",
   "execution_count": 3,
   "metadata": {
    "dotnet_interactive": {
     "language": "csharp"
    },
    "polyglot_notebook": {
     "kernelName": "csharp"
    }
   },
   "outputs": [],
   "source": [
    "using GeneticSharp;\n",
    "\n",
    "public interface ISudokuChromosome: IChromosome\n",
    "{\n",
    "\tSudokuGrid TargetSudoku { get; set; }\n",
    "    SudokuGrid GetSolution();\n",
    "    \n",
    "}"
   ]
  },
  {
   "cell_type": "markdown",
   "metadata": {},
   "source": [
    "### Classe `SudokuFitness`\n",
    "\n",
    "On peut maintenant proposer une fonction d'évaluation basée sur cette interface.\n",
    "Cette classe évalue un chromosome en fonction du nombre d'erreurs dans la grille de Sudoku générée.\n"
   ]
  },
  {
   "cell_type": "code",
   "execution_count": 4,
   "metadata": {
    "dotnet_interactive": {
     "language": "csharp"
    },
    "polyglot_notebook": {
     "kernelName": "csharp"
    }
   },
   "outputs": [],
   "source": [
    "using GeneticSharp;\n",
    "\n",
    "public class SudokuFitness : IFitness\n",
    "{\n",
    "    private SudokuGrid _targetSudokuGrid;\n",
    "\n",
    "    public SudokuFitness(SudokuGrid targetSudokuGrid)\n",
    "    {\n",
    "        _targetSudokuGrid = targetSudokuGrid;\n",
    "    }\n",
    "\n",
    "    public double Evaluate(IChromosome chromosome)\n",
    "    {\n",
    "        var sudokuChromosome = (ISudokuChromosome)chromosome;\n",
    "        var sudoku = sudokuChromosome.GetSolution();\n",
    "        var nbErrors = sudoku.NbErrors(_targetSudokuGrid);\n",
    "        return -nbErrors;\n",
    "    }\n",
    "}\n"
   ]
  },
  {
   "cell_type": "markdown",
   "metadata": {},
   "source": [
    "### Classe `SudokuSolver`\n",
    "\n",
    "Cette classe contient les méthodes pour résoudre le Sudoku en utilisant l'algorithme génétique.\n",
    "\n",
    "Nous concevons dores et déjà une méthode de résolution qui supportera plusieurs types de chromosomes de Sudoku sur les bases de notre interface commune, et présentant des fonctionnalités avancées suivantes:\n",
    "\n",
    "- Possibilité de fournir l'opérateur de croisement et de mutation (opérateurs uniformes par défaut)\n",
    "\n",
    "- Utilisation du parallélisme. L'application des opérateurs génétiques à une population ainsi que l'évaluation de la population résultantes sont par nature parallélisables. GeneticSharp propose l'utilisation du parallélisme de tâche natif .Net pour l'utilisation optimale des coeurs de processeurs disponibles.\n",
    "\n",
    "- Multi-Objectifs et ajustement de la taille de la population. L'algorithme se termine à l'issue d'une génération si le meilleur chromosome ne contient plus d'erreur, ou si sa fitness n'a pas évolué depuis un certain nombre de génération, signalant un possible effondrement de la diversité génétique sur un maximum local. Dans ce cas, l'algorithme est redémarré en doublant la taille de la population.   \n"
   ]
  },
  {
   "cell_type": "code",
   "execution_count": 5,
   "metadata": {
    "dotnet_interactive": {
     "language": "csharp"
    },
    "polyglot_notebook": {
     "kernelName": "csharp"
    }
   },
   "outputs": [],
   "source": [
    "using GeneticSharp;\n",
    "using Microsoft.DotNet.Interactive;\n",
    "using System;\n",
    "using System.Diagnostics;\n",
    "\n",
    "public class SudokuGeneticSolver: ISudokuSolver\n",
    "{\n",
    "    \n",
    "    public SudokuGeneticSolver(ISudokuChromosome chromosome)\n",
    "    {\n",
    "        Chromosome = chromosome;\n",
    "    }\n",
    "\n",
    "    public ISudokuChromosome Chromosome { get; set; }\n",
    "\n",
    "    // Opérateurs de mutation et de croisement\n",
    "    public IMutation Mutation { get; set; } = new UniformMutation(true);\n",
    "    public ICrossover Crossover { get; set; } = new UniformCrossover(0.5f);\n",
    "\n",
    "    public SudokuGrid Solve(SudokuGrid s)\n",
    "    {\n",
    "        var maxDuration = 20;\n",
    "\n",
    "        var fitness = new SudokuFitness(s);\n",
    "        \n",
    "        var populationSize = 400;\n",
    "\n",
    "        //Opérateur de sélection (Elite rapide mais un peu sélectif)\n",
    "        var selection = new EliteSelection ();\n",
    "\n",
    "        // Critères de terminaison\n",
    "        var fitnessThreshold = 0;\n",
    "        int stableGenerationNb = 30;\n",
    "        var termination = new OrTermination(new ITermination[]\n",
    "        {\n",
    "            new FitnessThresholdTermination(fitnessThreshold),\n",
    "            new FitnessStagnationTermination(stableGenerationNb),\n",
    "        });\n",
    "        \n",
    "        var nbErrors = 0;\n",
    "        var stopWatch = Stopwatch.StartNew();\n",
    "        var lastTime = stopWatch.Elapsed;\n",
    "        DisplayedValue displayPlaceholder = null;\n",
    "\n",
    "        SudokuGrid bestSudoku = null;\n",
    "        do\n",
    "        {\n",
    "            Population population = new Population(populationSize, populationSize, Chromosome);\n",
    "\n",
    "            GeneticAlgorithm ga = new GeneticAlgorithm(population, fitness, selection, Crossover, Mutation)\n",
    "            {\n",
    "                Termination = termination\n",
    "            };\n",
    "            // Opérateurs de parallélisation\n",
    "            ga.OperatorsStrategy = new TplOperatorsStrategy();\n",
    "            ga.TaskExecutor = new TplTaskExecutor();\n",
    "            ga.GenerationRan += (sender, args) =>\n",
    "            {\n",
    "                var bestIndividual = (ISudokuChromosome)ga.Population.BestChromosome;\n",
    "                bestSudoku = bestIndividual.GetSolution();\n",
    "                nbErrors = bestSudoku.NbErrors(s);\n",
    "                if (displayPlaceholder == null)\n",
    "                {\n",
    "                    displayPlaceholder = display($\"Generation {ga.GenerationsNumber}, Population {ga.Population.CurrentGeneration.Chromosomes.Count}, NbErrors {nbErrors}, Elapsed {stopWatch.Elapsed - lastTime}\");\n",
    "                }\n",
    "                else\n",
    "                {\n",
    "                displayPlaceholder.Update($\"Generation {ga.GenerationsNumber}, Population {ga.Population.CurrentGeneration.Chromosomes.Count}, NbErrors {nbErrors}, Elapsed {stopWatch.Elapsed - lastTime}\");\n",
    "                }\n",
    "            \n",
    "            };\n",
    "            lastTime = stopWatch.Elapsed;\n",
    "            ga.Start();\n",
    "            nbErrors = bestSudoku.NbErrors(s);\n",
    "            populationSize = Math.Min(10000, populationSize *= 2);\n",
    "        } while (nbErrors > 0 && stopWatch.Elapsed.TotalSeconds < maxDuration);\n",
    "\n",
    "        return bestSudoku;\n",
    "\n",
    "    }\n",
    "    \n",
    "}"
   ]
  },
  {
   "cell_type": "markdown",
   "metadata": {},
   "source": [
    "### Premier chromosome simple\n",
    "\n",
    "Pour ce premier essai, nous représentont chaque cellule par un gène à valeur de 1 à 9. L'initialisation tient compte du masque à résoudre, mais pas les opérateurs qui agissent au hasard."
   ]
  },
  {
   "cell_type": "code",
   "execution_count": 6,
   "metadata": {
    "dotnet_interactive": {
     "language": "csharp"
    },
    "polyglot_notebook": {
     "kernelName": "csharp"
    }
   },
   "outputs": [],
   "source": [
    "using System;\n",
    "\n",
    "public class SudokuCellsChromosome : ChromosomeBase, ISudokuChromosome\n",
    "{\n",
    "    public SudokuGrid TargetSudoku { get; set; }\n",
    "\n",
    "    \n",
    "    public SudokuCellsChromosome() : base(81) {}\n",
    "\n",
    "    public override Gene GenerateGene(int geneIndex)\n",
    "    {\n",
    "        var row = geneIndex / 9;\n",
    "        var col = geneIndex % 9;\n",
    "\n",
    "        if (TargetSudoku.Cells[row, col] != 0)\n",
    "        {\n",
    "            return new Gene(TargetSudoku.Cells[row, col]);\n",
    "        }\n",
    "\n",
    "        var rnd = RandomizationProvider.Current;\n",
    "        return new Gene(rnd.GetInt(1, 10));\n",
    "    }\n",
    "\n",
    "    public override IChromosome CreateNew()\n",
    "    {\n",
    "        var toReturn = new SudokuCellsChromosome(){TargetSudoku = TargetSudoku};\n",
    "        toReturn.CreateGenes();\n",
    "        return toReturn;\n",
    "    }\n",
    "\n",
    "    public SudokuGrid GetSolution()\n",
    "    {\n",
    "        var genes = GetGenes();\n",
    "        var cells = new int[9, 9];\n",
    "        for (int i = 0; i < 81; i++)\n",
    "        {\n",
    "            cells[i / 9, i % 9] = (int)genes[i].Value;\n",
    "        }\n",
    "        var sudoku = new SudokuGrid() { Cells = cells };\n",
    "        return sudoku;\n",
    "    }\n",
    "}\n"
   ]
  },
  {
   "cell_type": "markdown",
   "metadata": {},
   "source": [
    "## Test du Solveur\n",
    "\n",
    "Nous allons maintenant tester notre solveur de Sudoku par algorithme génétique en utilisant des grilles de Sudoku de différentes difficultés : facile, moyen et difficile.\n"
   ]
  },
  {
   "cell_type": "code",
   "execution_count": 7,
   "metadata": {
    "dotnet_interactive": {
     "language": "csharp"
    },
    "polyglot_notebook": {
     "kernelName": "csharp"
    }
   },
   "outputs": [
    {
     "data": {
      "text/plain": [
       "Test du solver genetique simple:"
      ]
     },
     "metadata": {},
     "output_type": "display_data"
    },
    {
     "data": {
      "text/plain": [
       "Puzzle Sudoku Facile Initial:"
      ]
     },
     "metadata": {},
     "output_type": "display_data"
    },
    {
     "data": {
      "text/plain": [
       "Résolution par le solver SudokuGeneticSolver du Sudoku:\n",
       " -------------------------------\n",
       "| 9     2 |       5 | 4     3 | \n",
       "| 1       |    6  3 |    2  5 | \n",
       "| 5     8 | 4     7 |    6    | \n",
       "-------------------------------\n",
       "|    2  6 | 3     9 |       1 | \n",
       "|    5  7 |    1    | 2  9    | \n",
       "|    9    | 6  7    | 5  3    | \n",
       "-------------------------------\n",
       "| 2  4    | 5  3    | 6       | \n",
       "| 7     5 | 2       | 3     4 | \n",
       "|    8    |    4  1 | 9  5    | \n",
       "-------------------------------"
      ]
     },
     "metadata": {},
     "output_type": "display_data"
    },
    {
     "data": {
      "text/plain": [
       "Generation 86, Population 1600, NbErrors 0, Elapsed 00:00:01.0479622"
      ]
     },
     "metadata": {},
     "output_type": "display_data"
    },
    {
     "data": {
      "text/plain": [
       "Sudoku renvoyé:\n",
       "-------------------------------\n",
       "| 9  6  2 | 1  8  5 | 4  7  3 | \n",
       "| 1  7  4 | 9  6  3 | 8  2  5 | \n",
       "| 5  3  8 | 4  2  7 | 1  6  9 | \n",
       "-------------------------------\n",
       "| 8  2  6 | 3  5  9 | 7  4  1 | \n",
       "| 3  5  7 | 8  1  4 | 2  9  6 | \n",
       "| 4  9  1 | 6  7  2 | 5  3  8 | \n",
       "-------------------------------\n",
       "| 2  4  9 | 5  3  8 | 6  1  7 | \n",
       "| 7  1  5 | 2  9  6 | 3  8  4 | \n",
       "| 6  8  3 | 7  4  1 | 9  5  2 | \n",
       "-------------------------------\n",
       "Nombre d'erreurs réstantes: 0\n",
       "Temps de résolution: 4769,0452 ms"
      ]
     },
     "metadata": {},
     "output_type": "display_data"
    }
   ],
   "source": [
    "display(\"Test du solver genetique simple:\");\n",
    "\n",
    "\n",
    "display(\"Puzzle Sudoku Facile Initial:\");\n",
    "\n",
    "// Charger et tester un puzzle facile\n",
    "var easySudokus = SudokuHelper.GetSudokus(SudokuDifficulty.Easy);\n",
    "var easySudoku = easySudokus.FirstOrDefault();\n",
    "\n",
    "//Création du chromosome:\n",
    "var chromosome = new SudokuCellsChromosome(){TargetSudoku = easySudoku};\n",
    "\n",
    "// Instanciation de Solver avec notre chromosmome SudokuCellsChromosome\n",
    "var solver = new SudokuGeneticSolver(chromosome);\n",
    "\n",
    "SudokuHelper.SolveSudoku(easySudoku, solver);"
   ]
  },
  {
   "cell_type": "markdown",
   "metadata": {},
   "source": [
    "## Conclusion Intermédiaire\n",
    "\n",
    "Le solveur génétique a réussi à résoudre le Sudoku de difficulté facile en plusieurs redémarrages, prenant plusieurs secondes. Cela montre que notre approche fonctionne, mais elle n'est pas encore assez efficace pour résoudre des puzzles de difficultéplus difficile en un temps raisonnable.\n",
    "\n",
    "### Introduction des Chromosomes Avancés\n",
    "\n",
    "Pour améliorer l'efficacité de notre algorithme génétique, nous allons introduire des chromosomes avancés qui illustrent comment manipuler le problème pour réduire son espace de solution, et rendre possible les opérateurs génétiques disponiblespour une exploration plus efficace de l'espace des solutions.\n",
    "\n",
    "Nous allons implémenter trois types de chromosomes avancés :\n",
    "- **SudokuPermutationsChromosome** : Manipule les permutations des lignes.\n",
    "- **SudokuPermutatedCellsChromosome** : Manipule les cellules permutées.\n",
    "- **SudokuOrderedCellsChromosome** : Conçu pour utiliser les opérateurs de mutation et de croisement de type \"Ordered\".\n",
    "\n",
    "Voyons comment implémenter ces chromosomes et les tester.\n",
    "\n",
    "\n",
    "### Classe de Base : SudokuChromosomeBase\n",
    "\n",
    "La classe SudokuChromosomeBase sert de fondation pour nos différents types de chromosomes de Sudoku avancés. Elle contient des fonctionnalités communes telles que la gestion de la grille de Sudoku cible, le traitement des permutations des chiffres de 1 à 9 pour les chromosomes qui en ont besoin, et la génération des gènes basés sur les contraintes du puzzle.\n",
    "\n",
    "La première optimisation consiste à remarquer que les lignes de Sudokus sont à valeur dans l'ensemble des permutations des chiffres de 1 à 9, au nombre de 362880, qu'on peut filtrer pour chaque ligne pour ne garder que celles qui respectent le masque à résoudre en entrée.\n",
    "\n",
    "Une bonne partie du code de cette classe de base consiste à calculer et mettre en cache l'ensemble des permutations et les ensembles filtrés pour en faire le nouveau matériel génétique manipulable. "
   ]
  },
  {
   "cell_type": "code",
   "execution_count": 8,
   "metadata": {
    "dotnet_interactive": {
     "language": "csharp"
    },
    "polyglot_notebook": {
     "kernelName": "csharp"
    }
   },
   "outputs": [],
   "source": [
    "#nullable enable\n",
    "using System;\n",
    "using System.Collections.Generic;\n",
    "using System.Linq;\n",
    "using GeneticSharp;\n",
    "\n",
    "public abstract class SudokuChromosomeBase : ChromosomeBase, ISudokuChromosome\n",
    "{\n",
    "    public abstract bool UsesPermutations();\n",
    "\n",
    "    public SudokuGrid TargetSudoku {get;set;}\n",
    "    \n",
    "    private Dictionary<(int row, int col), List<int>>? _extendedMask;\n",
    "    private IList<IList<IList<int>>>? _targetRowsPermutations; // Rendons cette propriété nullable\n",
    "    private IList<IList<IList<int>>> _RowsPermutations = new List<IList<IList<int>>>();\n",
    "    private IList<int> _permutationsGenes = new List<int>();\n",
    "    private IList<IList<int>> _permutations = new List<IList<int>>();\n",
    "\n",
    "\n",
    "    // public SudokuChromosomeBase(int length) : base(length){}\n",
    "\n",
    "    protected SudokuChromosomeBase(SudokuGrid targetSudokuGrid, Dictionary<(int row, int col), List<int>>? extendedMask, int length) : base(length)\n",
    "    {\n",
    "        TargetSudoku = targetSudokuGrid;\n",
    "        _extendedMask = extendedMask;\n",
    "    }\n",
    "\n",
    "    public IList<int> PermutationsGenes => _permutationsGenes;\n",
    "    public IList<IList<int>> Permutations => _permutations;\n",
    "\n",
    "    public bool CheckPermutation(IList<int> permutation, int row)\n",
    "    {\n",
    "        var toReturn = true;\n",
    "        for (int i = 0; i < 9; i++)\n",
    "        {\n",
    "            if (TargetSudoku != null && TargetSudoku.Cells[row, i] != 0)\n",
    "            {\n",
    "                if (permutation[i] != TargetSudoku.Cells[row, i])\n",
    "                {\n",
    "                    toReturn = false;\n",
    "                    break;\n",
    "                }\n",
    "            }\n",
    "        }\n",
    "        return toReturn;\n",
    "    }\n",
    "\n",
    "    protected override void CreateGenes()\n",
    "    {\n",
    "        var rnd = RandomizationProvider.Current;\n",
    "\n",
    "        if (UsesPermutations())\n",
    "        {\n",
    "            for (int index = 0; index < 9; ++index)\n",
    "            {\n",
    "                IList<IList<int>> permutations = TargetRowsPermutations[index];\n",
    "                IList<IList<int>> rowPermutations = _RowsPermutations[index];\n",
    "\n",
    "                int[] permTargetIdxs = permutations.Where((perm) => CheckPermutation(perm, index)).Select((perm, idx) => idx).ToArray();\n",
    "                int permIdx;\n",
    "                if (permTargetIdxs.Length != 0)\n",
    "                {\n",
    "                    permIdx = rowPermutations.IndexOf(permutations[permTargetIdxs[rnd.GetInt(0, permTargetIdxs.Length)]]);\n",
    "                }\n",
    "                else\n",
    "                {\n",
    "                    permIdx = rnd.GetInt(0, rowPermutations.Count);\n",
    "                }\n",
    "\n",
    "                _permutationsGenes.Add(permIdx);\n",
    "                _permutations.Add(rowPermutations[permIdx]);\n",
    "            }\n",
    "        }\n",
    "\n",
    "        for (int index = 0; index < this.Length; ++index)\n",
    "            this.ReplaceGene(index, this.GenerateGene(index));\n",
    "    }\n",
    "\n",
    "\n",
    "    public IList<IList<IList<int>>> GetRowsPermutations()\n",
    "    {\n",
    "        if (TargetSudoku == null)\n",
    "        {\n",
    "            return UnfilteredPermutations;\n",
    "        }\n",
    "\n",
    "        if (!_rowsPermutations.TryGetValue(TargetSudoku, out var toReturn))\n",
    "        {\n",
    "            lock (_rowsPermutations)\n",
    "            {\n",
    "                if (!_rowsPermutations.TryGetValue(TargetSudoku, out toReturn))\n",
    "                {\n",
    "                    toReturn = GetRowsPermutationsUncached();\n",
    "                    _rowsPermutations[TargetSudoku] = toReturn;\n",
    "                }\n",
    "            }\n",
    "        }\n",
    "        if (this._RowsPermutations.Count == 0)\n",
    "            this._RowsPermutations = toReturn;\n",
    "        return toReturn;\n",
    "    }\n",
    "\n",
    "    private IList<IList<IList<int>>> GetRowsPermutationsUncached()\n",
    "    {\n",
    "        var toReturn = new List<IList<IList<int>>>(9);\n",
    "        for (int i = 0; i < 9; i++)\n",
    "        {\n",
    "            var tempList = new List<IList<int>>();\n",
    "            foreach (var perm in AllPermutations)\n",
    "            {\n",
    "                if (Range9.All(j => ExtendedMask[(i, j)].Contains(perm[j])))\n",
    "                {\n",
    "                    tempList.Add(perm);\n",
    "                }\n",
    "            }\n",
    "            toReturn.Add(tempList);\n",
    "        }\n",
    "\n",
    "        return toReturn;\n",
    "    }\n",
    "\n",
    "    public static IList<IList<IList<int>>> UnfilteredPermutations\n",
    "    {\n",
    "        get\n",
    "        {\n",
    "            if (!_unfilteredPermutations.Any())\n",
    "            {\n",
    "                lock (_unfilteredPermutations)\n",
    "                {\n",
    "                    if (!_unfilteredPermutations.Any())\n",
    "                    {\n",
    "                        _unfilteredPermutations = Range9.Select(i => AllPermutations).ToList();\n",
    "                    }\n",
    "                }\n",
    "            }\n",
    "            return _unfilteredPermutations;\n",
    "        }\n",
    "    }\n",
    "\n",
    "    public static IList<IList<int>> AllPermutations\n",
    "    {\n",
    "        get\n",
    "        {\n",
    "            if (!_allPermutations.Any())\n",
    "            {\n",
    "                lock (_allPermutations)\n",
    "                {\n",
    "                    if (!_allPermutations.Any())\n",
    "                    {\n",
    "                        _allPermutations = GetPermutations(Enumerable.Range(1, 9), 9);\n",
    "                    }\n",
    "                }\n",
    "            }\n",
    "            return _allPermutations;\n",
    "        }\n",
    "    }\n",
    "\n",
    "    public IList<IList<IList<int>>> TargetRowsPermutations\n",
    "    {\n",
    "        get\n",
    "        {\n",
    "            if (_targetRowsPermutations == null)\n",
    "            {\n",
    "                _targetRowsPermutations = GetRowsPermutations();\n",
    "            }\n",
    "            return _targetRowsPermutations;\n",
    "        }\n",
    "    }\n",
    "\n",
    "    private static readonly IDictionary<SudokuGrid, IList<IList<IList<int>>>> _rowsPermutations = new Dictionary<SudokuGrid, IList<IList<IList<int>>>>();\n",
    "    private static readonly List<int> Range9 = Enumerable.Range(0, 9).ToList();\n",
    "    private static IList<IList<int>> _allPermutations = new List<IList<int>>();\n",
    "    private static IList<IList<IList<int>>> _unfilteredPermutations = new List<IList<IList<int>>>();\n",
    "\n",
    "    static IList<IList<T>> GetPermutations<T>(IEnumerable<T> list, int length)\n",
    "    {\n",
    "        if (length == 1) return list.Select(t => (IList<T>)(new T[] { t }.ToList())).ToList();\n",
    "\n",
    "        var enumeratedList = list.ToList();\n",
    "        return (IList<IList<T>>)GetPermutations(enumeratedList, length - 1)\n",
    "            .SelectMany(t => enumeratedList.Where(e => !t.Contains(e)),\n",
    "                (t1, t2) => (IList<T>)t1.Concat(new T[] { t2 }).ToList()).ToList();\n",
    "    }\n",
    "\n",
    "    public Dictionary<(int row, int col), List<int>> ExtendedMask\n",
    "    {\n",
    "        get\n",
    "        {\n",
    "            if (_extendedMask == null)\n",
    "                BuildExtendedMask();\n",
    "\n",
    "            return _extendedMask!;\n",
    "        }\n",
    "    }\n",
    "\n",
    "    private void BuildExtendedMask()\n",
    "    {\n",
    "        var indices = Enumerable.Range(1, 9).ToList();\n",
    "        var extendedMask = new Dictionary<(int row, int col), List<int>>(81);\n",
    "        if (TargetSudoku != null)\n",
    "        {\n",
    "            var forbiddenMask = new Dictionary<(int row, int col), List<int>>();\n",
    "            for (var row = 0; row < 9; row++)\n",
    "            {\n",
    "                for (var col = 0; col < 9; col++)\n",
    "                {\n",
    "                    int targetCell = TargetSudoku.Cells[row, col];\n",
    "                    if (targetCell != 0)\n",
    "                    {\n",
    "                        var cellNeighbours = SudokuGrid.CellNeighbours[row][col];\n",
    "                        foreach (var cellNeighbour in cellNeighbours)\n",
    "                        {\n",
    "                            if (!forbiddenMask.TryGetValue(cellNeighbour, out var targetList))\n",
    "                            {\n",
    "                                targetList = new List<int>();\n",
    "                                forbiddenMask[cellNeighbour] = targetList;\n",
    "                            }\n",
    "                            if (!targetList.Contains(targetCell))\n",
    "                            {\n",
    "                                targetList.Add(targetCell);\n",
    "                            }\n",
    "                        }\n",
    "                    }\n",
    "                }\n",
    "            }\n",
    "\n",
    "            for (var row = 0; row < 9; row++)\n",
    "            {\n",
    "                for (var col = 0; col < 9; col++)\n",
    "                {\n",
    "                    var cellIndex = (row, col);\n",
    "                    extendedMask[cellIndex] = indices.Where(i => !forbiddenMask[cellIndex].Contains(i)).ToList();\n",
    "                }\n",
    "            }\n",
    "        }\n",
    "        else\n",
    "        {\n",
    "            for (var row = 0; row < 9; row++)\n",
    "            {\n",
    "                for (var col = 0; col < 9; col++)\n",
    "                {\n",
    "                    var cellIndex = (row, col);\n",
    "                    extendedMask[cellIndex] = indices;\n",
    "                }\n",
    "            }\n",
    "        }\n",
    "        _extendedMask = extendedMask;\n",
    "    }\n",
    "\n",
    "    public abstract SudokuGrid GetSolution();\n",
    "}\n"
   ]
  },
  {
   "cell_type": "markdown",
   "metadata": {},
   "source": [
    "### Chromosome : SudokuPermutationsChromosome\n",
    "\n",
    "Le SudokuPermutationsChromosome est un chromosome simple de 9 gènes qui manipule les permutations de lignes du Sudoku. Chaque gène représente une permutation d'une ligne entière, permettant ainsi une exploration plus efficace des solutions potentielles."
   ]
  },
  {
   "cell_type": "code",
   "execution_count": 9,
   "metadata": {
    "dotnet_interactive": {
     "language": "csharp"
    },
    "polyglot_notebook": {
     "kernelName": "csharp"
    }
   },
   "outputs": [],
   "source": [
    "public class SudokuPermutationsChromosome : SudokuChromosomeBase\n",
    "{\n",
    "    public SudokuPermutationsChromosome() : base(null, null, 9) { }\n",
    "\n",
    "    public SudokuPermutationsChromosome(Dictionary<(int row, int col), List<int>> extendedMask)\n",
    "        : base(null, extendedMask, 9)\n",
    "    {\n",
    "    }\n",
    "\n",
    "    public override Gene GenerateGene(int geneIndex)\n",
    "    {\n",
    "        Gene toReturn = new Gene(PermutationsGenes[geneIndex]);\n",
    "        return toReturn;\n",
    "    }\n",
    "\n",
    "    public override IChromosome CreateNew()\n",
    "    {\n",
    "        var toReturn = new SudokuPermutationsChromosome(ExtendedMask){TargetSudoku = TargetSudoku};\n",
    "        toReturn.CreateGenes();\n",
    "        return toReturn;\n",
    "    }\n",
    "\n",
    "    public override bool UsesPermutations()\n",
    "    {\n",
    "        return true;\n",
    "    }\n",
    "\n",
    "    public override SudokuGrid GetSolution()\n",
    "    {\n",
    "        var listInt = new List<int[]>(81);\n",
    "        for (int i = 0; i < 9; i++)\n",
    "        {\n",
    "            var perm = GetPermutation(i).ToArray();\n",
    "            listInt.Add(perm);\n",
    "        }\n",
    "        var sudoku = new SudokuGrid() { Cells = SudokuGrid.To2D(listInt.ToArray()) };\n",
    "        return sudoku;\n",
    "    }\n",
    "\n",
    "    protected virtual List<int> GetPermutation(int rowIndex)\n",
    "    {\n",
    "        int permIDx = GetPermutationIndex(rowIndex);\n",
    "        return GetPermutation(rowIndex, permIDx);\n",
    "    }\n",
    "\n",
    "    protected virtual List<int> GetPermutation(int rowIndex, int permIDx)\n",
    "    {\n",
    "        var perm = GetRowsPermutations()[rowIndex][permIDx % GetRowsPermutations()[rowIndex].Count].ToList();\n",
    "        return perm;\n",
    "    }\n",
    "\n",
    "    protected virtual int GetPermutationIndex(int rowIndex)\n",
    "    {\n",
    "        return (int)GetGene(rowIndex).Value;\n",
    "    }\n",
    "}\n"
   ]
  },
  {
   "cell_type": "markdown",
   "metadata": {},
   "source": [
    "### Test du SudokuPermutationsChromosome\n",
    "\n",
    "Nous allons maintenant tester le SudokuPermutationsChromosome en utilisant notre algorithme génétique. Nous allons voir comment il se comporte sur un Sudoku de difficulté facile, moyenne et difficile."
   ]
  },
  {
   "cell_type": "code",
   "execution_count": 10,
   "metadata": {
    "dotnet_interactive": {
     "language": "csharp"
    },
    "polyglot_notebook": {
     "kernelName": "csharp"
    }
   },
   "outputs": [
    {
     "data": {
      "text/plain": [
       "Test du solver genetique de permutations de lignes:"
      ]
     },
     "metadata": {},
     "output_type": "display_data"
    },
    {
     "data": {
      "text/plain": [
       "Puzzle Sudoku Facile Initial:"
      ]
     },
     "metadata": {},
     "output_type": "display_data"
    },
    {
     "data": {
      "text/plain": [
       "Résolution par le solver SudokuGeneticSolver du Sudoku:\n",
       " -------------------------------\n",
       "| 9     2 |       5 | 4     3 | \n",
       "| 1       |    6  3 |    2  5 | \n",
       "| 5     8 | 4     7 |    6    | \n",
       "-------------------------------\n",
       "|    2  6 | 3     9 |       1 | \n",
       "|    5  7 |    1    | 2  9    | \n",
       "|    9    | 6  7    | 5  3    | \n",
       "-------------------------------\n",
       "| 2  4    | 5  3    | 6       | \n",
       "| 7     5 | 2       | 3     4 | \n",
       "|    8    |    4  1 | 9  5    | \n",
       "-------------------------------"
      ]
     },
     "metadata": {},
     "output_type": "display_data"
    },
    {
     "data": {
      "text/plain": [
       "Generation 1, Population 400, NbErrors 0, Elapsed 00:00:01.4848566"
      ]
     },
     "metadata": {},
     "output_type": "display_data"
    },
    {
     "data": {
      "text/plain": [
       "Sudoku renvoyé:\n",
       "-------------------------------\n",
       "| 9  6  2 | 1  8  5 | 4  7  3 | \n",
       "| 1  7  4 | 9  6  3 | 8  2  5 | \n",
       "| 5  3  8 | 4  2  7 | 1  6  9 | \n",
       "-------------------------------\n",
       "| 8  2  6 | 3  5  9 | 7  4  1 | \n",
       "| 3  5  7 | 8  1  4 | 2  9  6 | \n",
       "| 4  9  1 | 6  7  2 | 5  3  8 | \n",
       "-------------------------------\n",
       "| 2  4  9 | 5  3  8 | 6  1  7 | \n",
       "| 7  1  5 | 2  9  6 | 3  8  4 | \n",
       "| 6  8  3 | 7  4  1 | 9  5  2 | \n",
       "-------------------------------\n",
       "Nombre d'erreurs réstantes: 0\n",
       "Temps de résolution: 1485,1341 ms"
      ]
     },
     "metadata": {},
     "output_type": "display_data"
    },
    {
     "data": {
      "text/plain": [
       "Puzzle Sudoku Medium Initial:"
      ]
     },
     "metadata": {},
     "output_type": "display_data"
    },
    {
     "data": {
      "text/plain": [
       "Résolution par le solver SudokuGeneticSolver du Sudoku:\n",
       " -------------------------------\n",
       "| 8  5    |       2 | 4       | \n",
       "| 7  2    |         |       9 | \n",
       "|       4 |         |         | \n",
       "-------------------------------\n",
       "|         | 1     7 |       2 | \n",
       "| 3     5 |         | 9       | \n",
       "|    4    |         |         | \n",
       "-------------------------------\n",
       "|         |    8    |    7    | \n",
       "|    1  7 |         |         | \n",
       "|         |    3  6 |    4    | \n",
       "-------------------------------"
      ]
     },
     "metadata": {},
     "output_type": "display_data"
    },
    {
     "data": {
      "text/plain": [
       "Generation 61, Population 3200, NbErrors 4, Elapsed 00:00:09.5002400"
      ]
     },
     "metadata": {},
     "output_type": "display_data"
    },
    {
     "data": {
      "text/plain": [
       "Sudoku renvoyé:\n",
       "-------------------------------\n",
       "| 8  5  1 | 6  9  2 | 4  3  7 | \n",
       "| 7  2  3 | 5  1  4 | 8  6  9 | \n",
       "| 9  6  4 | 8  7  3 | 1  2  5 | \n",
       "-------------------------------\n",
       "| 9  8  6 | 1  4  7 | 5  3  2 | \n",
       "| 3  7  5 | 2  6  8 | 9  1  4 | \n",
       "| 1  4  2 | 3  5  9 | 7  8  6 | \n",
       "-------------------------------\n",
       "| 4  3  2 | 9  8  1 | 6  7  5 | \n",
       "| 6  1  7 | 4  2  5 | 3  9  8 | \n",
       "| 5  9  8 | 7  3  6 | 2  4  1 | \n",
       "-------------------------------\n",
       "Nombre d'erreurs réstantes: 4\n",
       "Temps de résolution: 20495,5069 ms"
      ]
     },
     "metadata": {},
     "output_type": "display_data"
    }
   ],
   "source": [
    "display(\"Test du solver genetique de permutations de lignes:\");\n",
    "\n",
    "\n",
    "display(\"Puzzle Sudoku Facile Initial:\");\n",
    "\n",
    "// Charger et tester un puzzle facile\n",
    "var easySudokus = SudokuHelper.GetSudokus(SudokuDifficulty.Easy);\n",
    "var easySudoku = easySudokus.FirstOrDefault();\n",
    "\n",
    "//Création du chromosome:\n",
    "var chromosome = new SudokuPermutationsChromosome(){TargetSudoku = easySudoku};\n",
    "\n",
    "// Instanciation de Solver avec notre chromosmome SudokuCellsChromosome\n",
    "var solver = new SudokuGeneticSolver(chromosome);\n",
    "\n",
    "SudokuHelper.SolveSudoku(easySudoku, solver);\n",
    "\n",
    "display(\"Puzzle Sudoku Medium Initial:\");\n",
    "\n",
    "// Charger et tester un puzzle moyen\n",
    "var mediumSudoku = SudokuHelper.GetSudokus(SudokuDifficulty.Medium).First();\n",
    "\n",
    "chromosome = new SudokuPermutationsChromosome(){TargetSudoku = mediumSudoku};\n",
    "solver = new SudokuGeneticSolver(chromosome);\n",
    "\n",
    "SudokuHelper.SolveSudoku(mediumSudoku, solver);"
   ]
  },
  {
   "cell_type": "markdown",
   "metadata": {},
   "source": [
    "On constate un progrès mais l'agorithme est encore insuffisant pour les Sudokus plus difficiles.\n",
    "\n",
    "Le chromosome suivant introduit une suite ordonnée de gènes, afin de pouvoir utiliser les opérateurs génétiques dédiés."
   ]
  },
  {
   "cell_type": "code",
   "execution_count": 13,
   "metadata": {
    "dotnet_interactive": {
     "language": "csharp"
    },
    "polyglot_notebook": {
     "kernelName": "csharp"
    }
   },
   "outputs": [],
   "source": [
    "public class SudokuOrderedCellsChromosome : SudokuChromosomeBase\n",
    "    {\n",
    "\t    public IList<(int row, int col)> GeneToCellLookup\n",
    "\t    {\n",
    "\t\t    get\n",
    "\t\t    {\n",
    "\t\t\t    if (_geneToCellLookup == null)\n",
    "\t\t\t    {\n",
    "\t\t\t\t\tif (TargetSudoku == null)\n",
    "\t\t\t\t\t{\n",
    "\t\t\t\t\t\t_geneToCellLookup = Enumerable.Range(0, 81).Select(x => (x / 9, x % 9)).ToList();\n",
    "\t\t\t\t\t}\n",
    "\t\t\t\t\telse\n",
    "\t\t\t\t\t{\n",
    "\t\t\t\t\t\t_geneToCellLookup = new List<(int row, int col)>(Length);\n",
    "\t\t\t\t\t\tfor (int i = 0; i < 9; i++)\n",
    "\t\t\t\t\t\t{\n",
    "\t\t\t\t\t\t\tfor (int j = 0; j < 9; j++)\n",
    "\t\t\t\t\t\t\t{\n",
    "\t\t\t\t\t\t\t\tif (TargetSudoku.Cells[i,j] == 0)\n",
    "\t\t\t\t\t\t\t\t{\n",
    "\t\t\t\t\t\t\t\t\tGeneToCellLookup.Add((i, j));\n",
    "\t\t\t\t\t\t\t\t}\n",
    "\t\t\t\t\t\t\t\telse\n",
    "\t\t\t\t\t\t\t\t{\n",
    "\t\t\t\t\t\t\t\t\t// Add 1 to the lookup table for each number that is already in the board\n",
    "\t\t\t\t\t\t\t\t\tthis.baseLookupTable[TargetSudoku.Cells[i,j] - 1]++;\n",
    "\t\t\t\t\t\t\t\t}\n",
    "\t\t\t\t\t\t\t}\n",
    "\t\t\t\t\t\t}\n",
    "\t\t\t\t\t}\n",
    "\t\t\t\t\tthis.cloneLookupTable = new List<int>(baseLookupTable);\n",
    "\t\t\t\t}\n",
    "\t\t\t    return _geneToCellLookup;\n",
    "\t\t    }\n",
    "\t    }\n",
    "\n",
    "\t    private List<int> baseLookupTable = new List<int>(9) { 0, 0, 0, 0, 0, 0, 0, 0, 0 };\n",
    "\t    private List<int> cloneLookupTable;\n",
    "\t    private IList<(int row, int col)> _geneToCellLookup;\n",
    "\n",
    "\t    public SudokuOrderedCellsChromosome()\n",
    "            : this(null)\n",
    "        {\n",
    "        }\n",
    "\n",
    "        public SudokuOrderedCellsChromosome(SudokuGrid targetSudokuBoard)\n",
    "            : this(targetSudokuBoard, null)\n",
    "        {\n",
    "        }\n",
    "\n",
    "        public SudokuOrderedCellsChromosome(\n",
    "\t        SudokuGrid targetSudokuBoard,\n",
    "            Dictionary<(int x, int y), List<int>> extendedMask)\n",
    "            : base(targetSudokuBoard, extendedMask, targetSudokuBoard?.NbEmptyCells()?? 81)\n",
    "        {\n",
    "        }\n",
    "\n",
    "        public SudokuOrderedCellsChromosome(\n",
    "\t        SudokuGrid targetSudokuBoard,\n",
    "\t        Dictionary<(int x, int y), List<int>> extendedMask,\n",
    "\t        IList<(int row, int col)> objGeneToCellLookup,\n",
    "\t        List<int> objBaseLookupTable)\n",
    "\t        : base(targetSudokuBoard, extendedMask, targetSudokuBoard?.NbEmptyCells() ?? 81)\n",
    "        {\n",
    "            this._geneToCellLookup = objGeneToCellLookup;\n",
    "            this.baseLookupTable = objBaseLookupTable;\n",
    "            this.cloneLookupTable = new List<int>(objBaseLookupTable);\n",
    "        }\n",
    "\n",
    "        public static Random Random = new Random();\n",
    "\n",
    "        public override Gene GenerateGene(int geneIndex)\n",
    "        {\n",
    "\t        var targetCell = GeneToCellLookup[geneIndex];\n",
    "\n",
    "\t        var availableFromLookup = this.cloneLookupTable.Select(( value, ind) => (value, ind))\n",
    "\t\t        .Where((tuple => tuple.value < 9)).Select(tuple => tuple.ind+1).ToArray();\n",
    "            var availableFromCoherence = this.ExtendedMask[(targetCell.row, targetCell.col)];\n",
    "            var crossedAvail = availableFromCoherence.Where(i => availableFromLookup.Contains(i)).ToArray();\n",
    "            int figureValue;\n",
    "\t\t\tif (crossedAvail.Length==0)\n",
    "            {\n",
    "\t            // If no value is available from the mask and the lookuptable, we take the minimum value (index + 1) from the lookup table\n",
    "\t\t\t\tfigureValue= this.cloneLookupTable.Select((value, ind) => (value, ind)).MinBy(tuple => tuple.value).ind + 1;\n",
    "            }\n",
    "            else\n",
    "            {\n",
    "\t            // If there are values available from the mask and the lookuptable, we take a random value from the crossed list\n",
    "\t\t\t\tvar figureIndex = Random.Next(crossedAvail.Count());\n",
    "\t\t\t\tfigureValue = crossedAvail[figureIndex];\n",
    "\t\t\t}\n",
    "           \n",
    "            var geneValue = cloneLookupTable[figureValue-1]*9 + figureValue-1;\n",
    "            cloneLookupTable[figureValue-1] += 1;\n",
    "\n",
    "            Gene gene = new Gene(geneValue);\n",
    "            return gene;\n",
    "        }\n",
    "\n",
    "        public override IChromosome CreateNew()\n",
    "        {\n",
    "\t        var toReturn = new SudokuOrderedCellsChromosome(this.TargetSudoku, this.ExtendedMask,\n",
    "\t\t        GeneToCellLookup, baseLookupTable);\n",
    "\t\t\ttoReturn.CreateGenes();\n",
    "\t\t\treturn toReturn;\n",
    "        }\n",
    "\n",
    "        public override bool UsesPermutations()\n",
    "        {\n",
    "\t        return false;\n",
    "        }\n",
    "\n",
    "        public override SudokuGrid GetSolution()\n",
    "        {\n",
    "            var computedSudoku = (SudokuGrid) TargetSudoku.Clone();\n",
    "            var genes = GetGenes();\n",
    "            for (int geneIndex = 0; geneIndex < this.Length; geneIndex++)\n",
    "            {\n",
    "                var cellIndex = GeneToCellLookup[geneIndex];\n",
    "\t\t\t\tcomputedSudoku.Cells[cellIndex.row,cellIndex.col] = (int)genes[geneIndex].Value % 9 + 1 ;\n",
    "\t\t\t}\n",
    "            return computedSudoku;\n",
    "        }\n",
    "    }"
   ]
  },
  {
   "cell_type": "markdown",
   "metadata": {},
   "source": [
    "### Test du OrderedCellsChromosome\n",
    "\n",
    "Nous allons maintenant tester le SudokuPermutationsChromosome en utilisant notre algorithme génétique. Nous allons voir comment il se comporte sur un Sudoku de difficulté facile, moyenne et difficile."
   ]
  },
  {
   "cell_type": "code",
   "execution_count": 14,
   "metadata": {
    "dotnet_interactive": {
     "language": "csharp"
    },
    "polyglot_notebook": {
     "kernelName": "csharp"
    }
   },
   "outputs": [
    {
     "data": {
      "text/plain": [
       "Test du solver genetique de permutations de lignes:"
      ]
     },
     "metadata": {},
     "output_type": "display_data"
    },
    {
     "data": {
      "text/plain": [
       "Puzzle Sudoku Facile Initial:"
      ]
     },
     "metadata": {},
     "output_type": "display_data"
    },
    {
     "data": {
      "text/plain": [
       "Résolution par le solver SudokuGeneticSolver du Sudoku:\n",
       " -------------------------------\n",
       "| 9     2 |       5 | 4     3 | \n",
       "| 1       |    6  3 |    2  5 | \n",
       "| 5     8 | 4     7 |    6    | \n",
       "-------------------------------\n",
       "|    2  6 | 3     9 |       1 | \n",
       "|    5  7 |    1    | 2  9    | \n",
       "|    9    | 6  7    | 5  3    | \n",
       "-------------------------------\n",
       "| 2  4    | 5  3    | 6       | \n",
       "| 7     5 | 2       | 3     4 | \n",
       "|    8    |    4  1 | 9  5    | \n",
       "-------------------------------"
      ]
     },
     "metadata": {},
     "output_type": "display_data"
    },
    {
     "data": {
      "text/plain": [
       "Generation 81, Population 400, NbErrors 0, Elapsed 00:00:00.9636294"
      ]
     },
     "metadata": {},
     "output_type": "display_data"
    },
    {
     "data": {
      "text/plain": [
       "Sudoku renvoyé:\n",
       "-------------------------------\n",
       "| 9  6  2 | 1  8  5 | 4  7  3 | \n",
       "| 1  7  4 | 9  6  3 | 8  2  5 | \n",
       "| 5  3  8 | 4  2  7 | 1  6  9 | \n",
       "-------------------------------\n",
       "| 8  2  6 | 3  5  9 | 7  4  1 | \n",
       "| 3  5  7 | 8  1  4 | 2  9  6 | \n",
       "| 4  9  1 | 6  7  2 | 5  3  8 | \n",
       "-------------------------------\n",
       "| 2  4  9 | 5  3  8 | 6  1  7 | \n",
       "| 7  1  5 | 2  9  6 | 3  8  4 | \n",
       "| 6  8  3 | 7  4  1 | 9  5  2 | \n",
       "-------------------------------\n",
       "Nombre d'erreurs réstantes: 0\n",
       "Temps de résolution: 963,83 ms"
      ]
     },
     "metadata": {},
     "output_type": "display_data"
    },
    {
     "data": {
      "text/plain": [
       "Puzzle Sudoku Medium Initial:"
      ]
     },
     "metadata": {},
     "output_type": "display_data"
    },
    {
     "data": {
      "text/plain": [
       "Résolution par le solver SudokuGeneticSolver du Sudoku:\n",
       " -------------------------------\n",
       "| 8  5    |       2 | 4       | \n",
       "| 7  2    |         |       9 | \n",
       "|       4 |         |         | \n",
       "-------------------------------\n",
       "|         | 1     7 |       2 | \n",
       "| 3     5 |         | 9       | \n",
       "|    4    |         |         | \n",
       "-------------------------------\n",
       "|         |    8    |    7    | \n",
       "|    1  7 |         |         | \n",
       "|         |    3  6 |    4    | \n",
       "-------------------------------"
      ]
     },
     "metadata": {},
     "output_type": "display_data"
    },
    {
     "data": {
      "text/plain": [
       "Generation 284, Population 3200, NbErrors 9, Elapsed 00:00:19.2799666"
      ]
     },
     "metadata": {},
     "output_type": "display_data"
    },
    {
     "data": {
      "text/plain": [
       "Sudoku renvoyé:\n",
       "-------------------------------\n",
       "| 8  5  6 | 7  9  2 | 4  3  1 | \n",
       "| 7  2  1 | 6  4  3 | 8  5  9 | \n",
       "| 9  3  4 | 8  5  1 | 7  2  6 | \n",
       "-------------------------------\n",
       "| 6  9  8 | 1  4  7 | 5  3  2 | \n",
       "| 3  7  5 | 2  6  8 | 9  1  4 | \n",
       "| 2  4  1 | 5  7  9 | 6  8  3 | \n",
       "-------------------------------\n",
       "| 4  6  3 | 9  8  1 | 2  7  5 | \n",
       "| 9  1  7 | 4  2  5 | 3  6  8 | \n",
       "| 5  8  2 | 7  3  6 | 1  4  9 | \n",
       "-------------------------------\n",
       "Nombre d'erreurs réstantes: 9\n",
       "Temps de résolution: 32548,2492 ms"
      ]
     },
     "metadata": {},
     "output_type": "display_data"
    }
   ],
   "source": [
    "display(\"Test du solver genetique de permutations de lignes:\");\n",
    "\n",
    "\n",
    "display(\"Puzzle Sudoku Facile Initial:\");\n",
    "\n",
    "// Charger et tester un puzzle facile\n",
    "var easySudokus = SudokuHelper.GetSudokus(SudokuDifficulty.Easy);\n",
    "var easySudoku = easySudokus.FirstOrDefault();\n",
    "\n",
    "//Création du chromosome:\n",
    "var chromosome = new SudokuOrderedCellsChromosome(){TargetSudoku = easySudoku};\n",
    "\n",
    "var mutation = new TworsMutation();\n",
    "var crossover = new AlternatingPositionCrossover  ();\n",
    "\n",
    "var solver = new SudokuGeneticSolver(chromosome){Mutation = mutation, Crossover = crossover};\n",
    "\n",
    "SudokuHelper.SolveSudoku(easySudoku, solver);\n",
    "\n",
    "display(\"Puzzle Sudoku Medium Initial:\");\n",
    "\n",
    "// Charger et tester un puzzle moyen\n",
    "var mediumSudoku = SudokuHelper.GetSudokus(SudokuDifficulty.Medium).First();\n",
    "\n",
    "chromosome = new SudokuOrderedCellsChromosome(){TargetSudoku = mediumSudoku};\n",
    "solver =  new SudokuGeneticSolver(chromosome){Mutation = mutation, Crossover = crossover};\n",
    "\n",
    "SudokuHelper.SolveSudoku(mediumSudoku, solver);"
   ]
  }
 ],
 "metadata": {
  "kernelspec": {
   "display_name": ".NET (C#)",
   "language": "C#",
   "name": ".net-csharp"
  },
  "polyglot_notebook": {
   "kernelInfo": {
    "defaultKernelName": "csharp",
    "items": [
     {
      "aliases": [],
      "languageName": "csharp",
      "name": "csharp"
     }
    ]
   }
  }
 },
 "nbformat": 4,
 "nbformat_minor": 2
}
