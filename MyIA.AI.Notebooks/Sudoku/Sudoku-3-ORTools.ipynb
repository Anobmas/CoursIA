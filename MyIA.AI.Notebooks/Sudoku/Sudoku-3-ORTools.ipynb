{
 "cells": [
  {
   "cell_type": "markdown",
   "metadata": {},
   "source": [
    "# Résolution de Sudoku avec OR-Tools\n",
    "\n",
    "## Introduction\n",
    "\n",
    "Ce projet a pour objectif de résoudre des grilles de Sudoku en utilisant différentes méthodes d'optimisation fournies par la bibliothèque OR-Tools de Google. OR-Tools propose des solveurs pour les problèmes de satisfaction de contraintes (CSP), la programmation linéaire mixte (MIP), et bien d'autres méthodes optimisées pour les problèmes d'optimisation.\n",
    "\n",
    "Nous allons explorer plusieurs implémentations de solveurs de Sudoku, les tester sur des grilles de différentes difficultés et comparer leurs performances.\n",
    "\n",
    "## Installation de OR-Tools\n",
    "\n",
    "Pour utiliser OR-Tools avec C#, nous devons d'abord installer la bibliothèque. Vous pouvez suivre les instructions sur le site officiel de [Google OR-Tools](https://developers.google.com/optimization).\n",
    "\n",
    "### Installation de OR-Tools\n"
   ]
  },
  {
   "cell_type": "code",
   "execution_count": 1,
   "metadata": {
    "dotnet_interactive": {
     "language": "csharp"
    },
    "polyglot_notebook": {
     "kernelName": "csharp"
    }
   },
   "outputs": [
    {
     "data": {
      "text/html": [
       "<div><div></div><div></div><div><strong>Installed Packages</strong><ul><li><span>Google.OrTools, 9.10.4067</span></li></ul></div></div>"
      ]
     },
     "metadata": {},
     "output_type": "display_data"
    }
   ],
   "source": [
    "#r \"nuget: Google.OrTools\""
   ]
  },
  {
   "cell_type": "markdown",
   "metadata": {},
   "source": [
    "## Importation des Classes de Base\n",
    "\n",
    "Nous allons importer les classes de base définies dans le notebook précédent, fournissant notamment la représentation, le chargement et l'affichage de Sudokus, et l'infrastructure de résolution.\n"
   ]
  },
  {
   "cell_type": "code",
   "execution_count": 2,
   "metadata": {
    "dotnet_interactive": {
     "language": "csharp"
    },
    "polyglot_notebook": {
     "kernelName": "csharp"
    }
   },
   "outputs": [
    {
     "data": {
      "text/markdown": [
       "# Notebook 0: Classes de Base pour la Résolution de Sudoku\n",
       "\n",
       "Ce notebook contient les classes de base nécessaires pour la manipulation et la résolution des grilles de Sudoku. Il sera importé dans les autres notebooks pour réutiliser ces classes.\n",
       "\n",
       "## Importation des Bibliothèques Nécessaires\n",
       "\n",
       "Nous commençons par importer les bibliothèques nécessaires.\n"
      ]
     },
     "metadata": {},
     "output_type": "display_data"
    },
    {
     "data": {
      "text/markdown": [
       "## Définition de la classe SudokuGrid\n",
       "\n",
       "Nous définissons ici la classe SudokuGrid qui représente une grille de Sudoku et fournit des méthodes pour manipuler et afficher les grilles.\n"
      ]
     },
     "metadata": {},
     "output_type": "display_data"
    },
    {
     "data": {
      "text/markdown": [
       "## Définition de l'interface ISudokuSolver\n",
       "\n",
       "Nous définissons ici l'interface ISudokuSolver qui sera implémentée par les différentes stratégies de résolution de Sudoku.\n"
      ]
     },
     "metadata": {},
     "output_type": "display_data"
    },
    {
     "data": {
      "text/markdown": [
       "## Définition de la classe SudokuHelper\n",
       "\n",
       "Nous ajoutons ici la classe SudokuHelper qui contient des méthodes utilitaires pour charger et afficher des grilles de Sudoku.\n"
      ]
     },
     "metadata": {},
     "output_type": "display_data"
    },
    {
     "data": {
      "text/markdown": [
       "## Affichage des Puzzles de chaque Difficulté\n",
       "\n",
       "Nous allons charger et afficher un puzzle de chaque niveau de difficulté : Facile, Moyen et Difficile.\n"
      ]
     },
     "metadata": {},
     "output_type": "display_data"
    },
    {
     "data": {
      "text/plain": [
       "Puzzle Facile:\n",
       "-------------------------------\n",
       "| 9     2 |       5 | 4     3 | \n",
       "| 1       |    6  3 |    2  5 | \n",
       "| 5     8 | 4     7 |    6    | \n",
       "-------------------------------\n",
       "|    2  6 | 3     9 |       1 | \n",
       "|    5  7 |    1    | 2  9    | \n",
       "|    9    | 6  7    | 5  3    | \n",
       "-------------------------------\n",
       "| 2  4    | 5  3    | 6       | \n",
       "| 7     5 | 2       | 3     4 | \n",
       "|    8    |    4  1 | 9  5    | \n",
       "-------------------------------"
      ]
     },
     "metadata": {},
     "output_type": "display_data"
    },
    {
     "data": {
      "text/plain": [
       "Puzzle Moyen:\n",
       "-------------------------------\n",
       "| 8  5    |       2 | 4       | \n",
       "| 7  2    |         |       9 | \n",
       "|       4 |         |         | \n",
       "-------------------------------\n",
       "|         | 1     7 |       2 | \n",
       "| 3     5 |         | 9       | \n",
       "|    4    |         |         | \n",
       "-------------------------------\n",
       "|         |    8    |    7    | \n",
       "|    1  7 |         |         | \n",
       "|         |    3  6 |    4    | \n",
       "-------------------------------"
      ]
     },
     "metadata": {},
     "output_type": "display_data"
    },
    {
     "data": {
      "text/plain": [
       "Puzzle Difficile:\n",
       "-------------------------------\n",
       "| 4       |         | 8     5 | \n",
       "|    3    |         |         | \n",
       "|         | 7       |         | \n",
       "-------------------------------\n",
       "|    2    |         |    6    | \n",
       "|         |    8    | 4       | \n",
       "|         |    1    |         | \n",
       "-------------------------------\n",
       "|         | 6     3 |    7    | \n",
       "| 5       | 2       |         | \n",
       "| 1     4 |         |         | \n",
       "-------------------------------"
      ]
     },
     "metadata": {},
     "output_type": "display_data"
    }
   ],
   "source": [
    "#!import Sudoku-0-Environment.ipynb"
   ]
  },
  {
   "cell_type": "markdown",
   "metadata": {},
   "source": [
    "## Implémentations des Solveurs\n",
    "\n",
    "### Solveur par contraintes (CpSolver)\n",
    "\n",
    "L'algorithme de satisfaction de contraintes (CSP) utilise les contraintes pour réduire l'espace de recherche et trouver une solution qui satisfait toutes les contraintes du problème. Nous utilisons `CpSolver` d'OR-Tools pour cette implémentation.\n"
   ]
  },
  {
   "cell_type": "code",
   "execution_count": 3,
   "metadata": {
    "dotnet_interactive": {
     "language": "csharp"
    },
    "polyglot_notebook": {
     "kernelName": "csharp"
    }
   },
   "outputs": [],
   "source": [
    "using Google.OrTools.ConstraintSolver;\n",
    "using SimpleCPSolver = Google.OrTools.ConstraintSolver.Solver;\n",
    "\n",
    "\n",
    "public class OrToolsCpSolver : ISudokuSolver\n",
    "{\n",
    "    private const int GridSize = 9;\n",
    "\n",
    "    public SudokuGrid Solve(SudokuGrid s)\n",
    "    {\n",
    "        var solver = new SimpleCPSolver(\"CpSimple\");\n",
    "\n",
    "        IntVar[,] gridVars = new IntVar[GridSize, GridSize];\n",
    "        for (int i = 0; i < GridSize; i++)\n",
    "        {\n",
    "            for (int j = 0; j < GridSize; j++)\n",
    "            {\n",
    "                if (s.Cells[i, j] == 0)\n",
    "                {\n",
    "                    gridVars[i, j] = solver.MakeIntVar(1, 9, $\"{i}{j}\");\n",
    "                }\n",
    "                else\n",
    "                {\n",
    "                    gridVars[i, j] = solver.MakeIntConst(s.Cells[i, j]);\n",
    "                }\n",
    "            }\n",
    "        }\n",
    "\n",
    "        for (int i = 0; i < GridSize; i++)\n",
    "        {\n",
    "            IntVar[] col = new IntVar[9];\n",
    "            IntVar[] row = new IntVar[9];\n",
    "\n",
    "            for (int j = 0; j < GridSize; j++)\n",
    "            {\n",
    "                row[j] = gridVars[i, j];\n",
    "                col[j] = gridVars[j, i];\n",
    "\n",
    "                if (i % 3 == 1 && j % 3 == 1)\n",
    "                {\n",
    "                    IntVar[] square = new IntVar[9];\n",
    "                    int x = 0;\n",
    "                    for (int k = i - 1; k < i + 2; k++)\n",
    "                    {\n",
    "                        int y = 0;\n",
    "                        for (int l = j - 1; l < j + 2; l++)\n",
    "                        {\n",
    "                            square[3 * x + y] = gridVars[k, l];\n",
    "                            y++;\n",
    "                        }\n",
    "                        x++;\n",
    "                    }\n",
    "                    solver.Add(solver.MakeAllDifferent(square));\n",
    "                }\n",
    "            }\n",
    "            solver.Add(solver.MakeAllDifferent(col));\n",
    "            solver.Add(solver.MakeAllDifferent(row));\n",
    "        }\n",
    "\n",
    "        DecisionBuilder db = solver.MakePhase(gridVars.Flatten(), SimpleCPSolver.CHOOSE_FIRST_UNBOUND, SimpleCPSolver.ASSIGN_MIN_VALUE);\n",
    "\n",
    "        solver.NewSearch(db);\n",
    "        while (solver.NextSolution())\n",
    "        {\n",
    "            for (int row = 0; row < GridSize; row++)\n",
    "            {\n",
    "                for (int col = 0; col < GridSize; col++)\n",
    "                {\n",
    "                    s.Cells[row, col] = (int)gridVars[row, col].Value();\n",
    "                }\n",
    "            }\n",
    "            break;\n",
    "        }\n",
    "\n",
    "        return s;\n",
    "    }\n",
    "}"
   ]
  },
  {
   "cell_type": "markdown",
   "metadata": {},
   "source": [
    "### Tests du Solveur par contraintes\n",
    "\n",
    "Nous allons tester ce solveur sur une grille de Sudoku."
   ]
  },
  {
   "cell_type": "code",
   "execution_count": 4,
   "metadata": {
    "dotnet_interactive": {
     "language": "csharp"
    },
    "polyglot_notebook": {
     "kernelName": "csharp"
    }
   },
   "outputs": [
    {
     "name": "stdout",
     "output_type": "stream",
     "text": [
      "Puzzle Sudoku Facile Initial:\r\n"
     ]
    },
    {
     "data": {
      "text/plain": [
       "Résolution par le solver OrToolsCpSolver du Sudoku:\n",
       " -------------------------------\n",
       "| 9     2 |       5 | 4     3 | \n",
       "| 1       |    6  3 |    2  5 | \n",
       "| 5     8 | 4     7 |    6    | \n",
       "-------------------------------\n",
       "|    2  6 | 3     9 |       1 | \n",
       "|    5  7 |    1    | 2  9    | \n",
       "|    9    | 6  7    | 5  3    | \n",
       "-------------------------------\n",
       "| 2  4    | 5  3    | 6       | \n",
       "| 7     5 | 2       | 3     4 | \n",
       "|    8    |    4  1 | 9  5    | \n",
       "-------------------------------"
      ]
     },
     "metadata": {},
     "output_type": "display_data"
    },
    {
     "data": {
      "text/plain": [
       "Sudoku renvoyé:\n",
       "-------------------------------\n",
       "| 9  6  2 | 1  8  5 | 4  7  3 | \n",
       "| 1  7  4 | 9  6  3 | 8  2  5 | \n",
       "| 5  3  8 | 4  2  7 | 1  6  9 | \n",
       "-------------------------------\n",
       "| 8  2  6 | 3  5  9 | 7  4  1 | \n",
       "| 3  5  7 | 8  1  4 | 2  9  6 | \n",
       "| 4  9  1 | 6  7  2 | 5  3  8 | \n",
       "-------------------------------\n",
       "| 2  4  9 | 5  3  8 | 6  1  7 | \n",
       "| 7  1  5 | 2  9  6 | 3  8  4 | \n",
       "| 6  8  3 | 7  4  1 | 9  5  2 | \n",
       "-------------------------------\n",
       "Nombre d'erreurs réstantes: 0\n",
       "Temps de résolution: 16,8549 ms"
      ]
     },
     "metadata": {},
     "output_type": "display_data"
    },
    {
     "name": "stdout",
     "output_type": "stream",
     "text": [
      "Puzzle Sudoku Moyen Initial:\r\n"
     ]
    },
    {
     "data": {
      "text/plain": [
       "Résolution par le solver OrToolsCpSolver du Sudoku:\n",
       " -------------------------------\n",
       "| 8  5    |       2 | 4       | \n",
       "| 7  2    |         |       9 | \n",
       "|       4 |         |         | \n",
       "-------------------------------\n",
       "|         | 1     7 |       2 | \n",
       "| 3     5 |         | 9       | \n",
       "|    4    |         |         | \n",
       "-------------------------------\n",
       "|         |    8    |    7    | \n",
       "|    1  7 |         |         | \n",
       "|         |    3  6 |    4    | \n",
       "-------------------------------"
      ]
     },
     "metadata": {},
     "output_type": "display_data"
    },
    {
     "data": {
      "text/plain": [
       "Sudoku renvoyé:\n",
       "-------------------------------\n",
       "| 8  5  9 | 6  1  2 | 4  3  7 | \n",
       "| 7  2  3 | 8  5  4 | 1  6  9 | \n",
       "| 1  6  4 | 3  7  9 | 5  2  8 | \n",
       "-------------------------------\n",
       "| 9  8  6 | 1  4  7 | 3  5  2 | \n",
       "| 3  7  5 | 2  6  8 | 9  1  4 | \n",
       "| 2  4  1 | 5  9  3 | 7  8  6 | \n",
       "-------------------------------\n",
       "| 4  3  2 | 9  8  1 | 6  7  5 | \n",
       "| 6  1  7 | 4  2  5 | 8  9  3 | \n",
       "| 5  9  8 | 7  3  6 | 2  4  1 | \n",
       "-------------------------------\n",
       "Nombre d'erreurs réstantes: 0\n",
       "Temps de résolution: 1,8515 ms"
      ]
     },
     "metadata": {},
     "output_type": "display_data"
    },
    {
     "name": "stdout",
     "output_type": "stream",
     "text": [
      "Puzzle Sudoku Difficile Initial:\r\n"
     ]
    },
    {
     "data": {
      "text/plain": [
       "Résolution par le solver OrToolsCpSolver du Sudoku:\n",
       " -------------------------------\n",
       "| 4       |         | 8     5 | \n",
       "|    3    |         |         | \n",
       "|         | 7       |         | \n",
       "-------------------------------\n",
       "|    2    |         |    6    | \n",
       "|         |    8    | 4       | \n",
       "|         |    1    |         | \n",
       "-------------------------------\n",
       "|         | 6     3 |    7    | \n",
       "| 5       | 2       |         | \n",
       "| 1     4 |         |         | \n",
       "-------------------------------"
      ]
     },
     "metadata": {},
     "output_type": "display_data"
    },
    {
     "data": {
      "text/plain": [
       "Sudoku renvoyé:\n",
       "-------------------------------\n",
       "| 4  1  7 | 3  6  9 | 8  2  5 | \n",
       "| 6  3  2 | 1  5  8 | 9  4  7 | \n",
       "| 9  5  8 | 7  2  4 | 3  1  6 | \n",
       "-------------------------------\n",
       "| 8  2  5 | 4  3  7 | 1  6  9 | \n",
       "| 7  9  1 | 5  8  6 | 4  3  2 | \n",
       "| 3  4  6 | 9  1  2 | 7  5  8 | \n",
       "-------------------------------\n",
       "| 2  8  9 | 6  4  3 | 5  7  1 | \n",
       "| 5  7  3 | 2  9  1 | 6  8  4 | \n",
       "| 1  6  4 | 8  7  5 | 2  9  3 | \n",
       "-------------------------------\n",
       "Nombre d'erreurs réstantes: 0\n",
       "Temps de résolution: 2,6785 ms"
      ]
     },
     "metadata": {},
     "output_type": "display_data"
    }
   ],
   "source": [
    "var cpSolver = new OrToolsCpSolver();\n",
    "\n",
    "var easySudoku = SudokuHelper.GetSudokus(SudokuDifficulty.Easy).FirstOrDefault();\n",
    "Console.WriteLine(\"Puzzle Sudoku Facile Initial:\");\n",
    "SudokuHelper.SolveSudoku(easySudoku, cpSolver);\n",
    "\n",
    "var mediumSudoku = SudokuHelper.GetSudokus(SudokuDifficulty.Medium).FirstOrDefault();\n",
    "Console.WriteLine(\"Puzzle Sudoku Moyen Initial:\");\n",
    "SudokuHelper.SolveSudoku(mediumSudoku, cpSolver);\n",
    "\n",
    "var hardSudoku = SudokuHelper.GetSudokus(SudokuDifficulty.Hard).FirstOrDefault();\n",
    "Console.WriteLine(\"Puzzle Sudoku Difficile Initial:\");\n",
    "SudokuHelper.SolveSudoku(hardSudoku, cpSolver);\n"
   ]
  },
  {
   "cell_type": "markdown",
   "metadata": {},
   "source": [
    "### Solveur MIP (Mixed-Integer Programming)\n",
    "\n",
    "L'algorithme de programmation linéaire mixte (MIP) combine la programmation linéaire et les variables entières pour résoudre des problèmes d'optimisation. Nous utilisons `Mixed-Integer Programming` d'OR-Tools pour cette implémentation.\n"
   ]
  },
  {
   "cell_type": "code",
   "execution_count": 5,
   "metadata": {
    "dotnet_interactive": {
     "language": "csharp"
    },
    "polyglot_notebook": {
     "kernelName": "csharp"
    }
   },
   "outputs": [],
   "source": [
    "using Google.OrTools.LinearSolver;\n",
    "using LinearSolver = Google.OrTools.LinearSolver.Solver;\n",
    "\n",
    "public class OrToolsMIPSolver : ISudokuSolver\n",
    "{\n",
    "    private const int GridSize = 9;\n",
    "\n",
    "    public SudokuGrid Solve(SudokuGrid s)\n",
    "    {\n",
    "        LinearSolver solver = LinearSolver.CreateSolver(\"SCIP\");\n",
    "        if (solver == null)\n",
    "        {\n",
    "            throw new InvalidOperationException(\"Solver initialization failed.\");\n",
    "        }\n",
    "\n",
    "        Variable[,,] cells = new Variable[GridSize, GridSize, GridSize];\n",
    "        for (int i = 0; i < GridSize; i++)\n",
    "        {\n",
    "            for (int j = 0; j < GridSize; j++)\n",
    "            {\n",
    "                for (int k = 0; k < GridSize; k++)\n",
    "                {\n",
    "                    cells[i, j, k] = solver.MakeIntVar(0, 1, $\"Cell({i},{j},{k})\");\n",
    "                }\n",
    "            }\n",
    "        }\n",
    "\n",
    "        for (int i = 0; i < GridSize; i++)\n",
    "        {\n",
    "            for (int j = 0; j < GridSize; j++)\n",
    "            {\n",
    "                if (s.Cells[i, j] != 0)\n",
    "                {\n",
    "                    solver.Add(cells[i, j, s.Cells[i, j] - 1] == 1);\n",
    "                }\n",
    "            }\n",
    "        }\n",
    "\n",
    "        for (int i = 0; i < GridSize; i++)\n",
    "        {\n",
    "            for (int j = 0; j < GridSize; j++)\n",
    "            {\n",
    "                var cellSum = new LinearExpr();\n",
    "                for (int k = 0; k < GridSize; k++)\n",
    "                {\n",
    "                    cellSum += cells[i, j, k];\n",
    "                }\n",
    "                solver.Add(cellSum == 1);\n",
    "            }\n",
    "        }\n",
    "\n",
    "        for (int k = 0; k < GridSize; k++)\n",
    "        {\n",
    "            for (int i = 0; i < GridSize; i++)\n",
    "            {\n",
    "                var rowSum = new LinearExpr();\n",
    "                var colSum = new LinearExpr();\n",
    "                for (int j = 0; j < GridSize; j++)\n",
    "                {\n",
    "                    rowSum += cells[i, j, k];\n",
    "                    colSum += cells[j, i, k];\n",
    "                }\n",
    "                solver.Add(rowSum == 1);\n",
    "                solver.Add(colSum == 1);\n",
    "            }\n",
    "        }\n",
    "\n",
    "        for (int k = 0; k < GridSize; k++)\n",
    "        {\n",
    "            for (int rowBlock = 0; rowBlock < 3; ++rowBlock)\n",
    "            {\n",
    "                for (int colBlock = 0; colBlock < 3; ++colBlock)\n",
    "                {\n",
    "                    var blockSum = new LinearExpr();\n",
    "                    for (int i = 0; i < 3; i++)\n",
    "                    {\n",
    "                        for (int j = 0; j < 3; j++)\n",
    "                        {\n",
    "                            blockSum += cells[rowBlock * 3 + i, colBlock * 3 + j, k];\n",
    "                        }\n",
    "                    }\n",
    "                    solver.Add(blockSum == 1);\n",
    "                }\n",
    "            }\n",
    "        }\n",
    "\n",
    "        var resultStatus = solver.Solve();\n",
    "        if (resultStatus != LinearSolver.ResultStatus.OPTIMAL && resultStatus != LinearSolver.ResultStatus.FEASIBLE)\n",
    "        {\n",
    "            throw new Exception(\"No solution found.\");\n",
    "        }\n",
    "\n",
    "        SudokuGrid solution = new SudokuGrid();\n",
    "        for (int i = 0; i < GridSize; i++)\n",
    "        {\n",
    "            for (int j = 0; j < GridSize; j++)\n",
    "            {\n",
    "                for (int k = 0; k < GridSize; k++)\n",
    "                {\n",
    "                    if (cells[i, j, k].SolutionValue() == 1)\n",
    "                    {\n",
    "                        solution.Cells[i, j] = k + 1;\n",
    "                    }\n",
    "                }\n",
    "            }\n",
    "        }\n",
    "        return solution;\n",
    "    }\n",
    "}\n"
   ]
  },
  {
   "cell_type": "markdown",
   "metadata": {},
   "source": [
    "### Tests du Solveur MIP avec SCIP\n",
    "\n",
    "Nous allons maintenant tester ce solveur sur une grille de Sudoku."
   ]
  },
  {
   "cell_type": "code",
   "execution_count": 6,
   "metadata": {
    "dotnet_interactive": {
     "language": "csharp"
    },
    "polyglot_notebook": {
     "kernelName": "csharp"
    }
   },
   "outputs": [
    {
     "name": "stdout",
     "output_type": "stream",
     "text": [
      "Résolution par le solver OrToolsMIPSolver (SCIP) du Sudoku Facile:\r\n"
     ]
    },
    {
     "data": {
      "text/plain": [
       "Résolution par le solver OrToolsMIPSolver du Sudoku:\n",
       " -------------------------------\n",
       "| 9     2 |       5 | 4     3 | \n",
       "| 1       |    6  3 |    2  5 | \n",
       "| 5     8 | 4     7 |    6    | \n",
       "-------------------------------\n",
       "|    2  6 | 3     9 |       1 | \n",
       "|    5  7 |    1    | 2  9    | \n",
       "|    9    | 6  7    | 5  3    | \n",
       "-------------------------------\n",
       "| 2  4    | 5  3    | 6       | \n",
       "| 7     5 | 2       | 3     4 | \n",
       "|    8    |    4  1 | 9  5    | \n",
       "-------------------------------"
      ]
     },
     "metadata": {},
     "output_type": "display_data"
    },
    {
     "data": {
      "text/plain": [
       "Sudoku renvoyé:\n",
       "-------------------------------\n",
       "| 9  6  2 | 1  8  5 | 4  7  3 | \n",
       "| 1  7  4 | 9  6  3 | 8  2  5 | \n",
       "| 5  3  8 | 4  2  7 | 1  6  9 | \n",
       "-------------------------------\n",
       "| 8  2  6 | 3  5  9 | 7  4  1 | \n",
       "| 3  5  7 | 8  1  4 | 2  9  6 | \n",
       "| 4  9  1 | 6  7  2 | 5  3  8 | \n",
       "-------------------------------\n",
       "| 2  4  9 | 5  3  8 | 6  1  7 | \n",
       "| 7  1  5 | 2  9  6 | 3  8  4 | \n",
       "| 6  8  3 | 7  4  1 | 9  5  2 | \n",
       "-------------------------------\n",
       "Nombre d'erreurs réstantes: 0\n",
       "Temps de résolution: 20,7591 ms"
      ]
     },
     "metadata": {},
     "output_type": "display_data"
    },
    {
     "name": "stdout",
     "output_type": "stream",
     "text": [
      "Résolution par le solver OrToolsMIPSolver (SCIP) du Sudoku Moyen:\r\n"
     ]
    },
    {
     "data": {
      "text/plain": [
       "Résolution par le solver OrToolsMIPSolver du Sudoku:\n",
       " -------------------------------\n",
       "| 8  5    |       2 | 4       | \n",
       "| 7  2    |         |       9 | \n",
       "|       4 |         |         | \n",
       "-------------------------------\n",
       "|         | 1     7 |       2 | \n",
       "| 3     5 |         | 9       | \n",
       "|    4    |         |         | \n",
       "-------------------------------\n",
       "|         |    8    |    7    | \n",
       "|    1  7 |         |         | \n",
       "|         |    3  6 |    4    | \n",
       "-------------------------------"
      ]
     },
     "metadata": {},
     "output_type": "display_data"
    },
    {
     "data": {
      "text/plain": [
       "Sudoku renvoyé:\n",
       "-------------------------------\n",
       "| 8  5  9 | 6  1  2 | 4  3  7 | \n",
       "| 7  2  3 | 8  5  4 | 1  6  9 | \n",
       "| 1  6  4 | 3  7  9 | 5  2  8 | \n",
       "-------------------------------\n",
       "| 9  8  6 | 1  4  7 | 3  5  2 | \n",
       "| 3  7  5 | 2  6  8 | 9  1  4 | \n",
       "| 2  4  1 | 5  9  3 | 7  8  6 | \n",
       "-------------------------------\n",
       "| 4  3  2 | 9  8  1 | 6  7  5 | \n",
       "| 6  1  7 | 4  2  5 | 8  9  3 | \n",
       "| 5  9  8 | 7  3  6 | 2  4  1 | \n",
       "-------------------------------\n",
       "Nombre d'erreurs réstantes: 0\n",
       "Temps de résolution: 14,712 ms"
      ]
     },
     "metadata": {},
     "output_type": "display_data"
    },
    {
     "name": "stdout",
     "output_type": "stream",
     "text": [
      "Résolution par le solver OrToolsMIPSolver (SCIP) du Sudoku Difficile:\r\n"
     ]
    },
    {
     "data": {
      "text/plain": [
       "Résolution par le solver OrToolsMIPSolver du Sudoku:\n",
       " -------------------------------\n",
       "| 4       |         | 8     5 | \n",
       "|    3    |         |         | \n",
       "|         | 7       |         | \n",
       "-------------------------------\n",
       "|    2    |         |    6    | \n",
       "|         |    8    | 4       | \n",
       "|         |    1    |         | \n",
       "-------------------------------\n",
       "|         | 6     3 |    7    | \n",
       "| 5       | 2       |         | \n",
       "| 1     4 |         |         | \n",
       "-------------------------------"
      ]
     },
     "metadata": {},
     "output_type": "display_data"
    },
    {
     "data": {
      "text/plain": [
       "Sudoku renvoyé:\n",
       "-------------------------------\n",
       "| 4  1  7 | 3  6  9 | 8  2  5 | \n",
       "| 6  3  2 | 1  5  8 | 9  4  7 | \n",
       "| 9  5  8 | 7  2  4 | 3  1  6 | \n",
       "-------------------------------\n",
       "| 8  2  5 | 4  3  7 | 1  6  9 | \n",
       "| 7  9  1 | 5  8  6 | 4  3  2 | \n",
       "| 3  4  6 | 9  1  2 | 7  5  8 | \n",
       "-------------------------------\n",
       "| 2  8  9 | 6  4  3 | 5  7  1 | \n",
       "| 5  7  3 | 2  9  1 | 6  8  4 | \n",
       "| 1  6  4 | 8  7  5 | 2  9  3 | \n",
       "-------------------------------\n",
       "Nombre d'erreurs réstantes: 0\n",
       "Temps de résolution: 14,0888 ms"
      ]
     },
     "metadata": {},
     "output_type": "display_data"
    }
   ],
   "source": [
    "var mipSolver = new OrToolsMIPSolver();\n",
    "\n",
    "var easySudoku = SudokuHelper.GetSudokus(SudokuDifficulty.Easy).FirstOrDefault();\n",
    "Console.WriteLine(\"Résolution par le solver OrToolsMIPSolver (SCIP) du Sudoku Facile:\");\n",
    "SudokuHelper.SolveSudoku(easySudoku, mipSolver);\n",
    "\n",
    "var mediumSudoku = SudokuHelper.GetSudokus(SudokuDifficulty.Medium).FirstOrDefault();\n",
    "Console.WriteLine(\"Résolution par le solver OrToolsMIPSolver (SCIP) du Sudoku Moyen:\");\n",
    "SudokuHelper.SolveSudoku(mediumSudoku, mipSolver);\n",
    "\n",
    "var hardSudoku = SudokuHelper.GetSudokus(SudokuDifficulty.Hard).FirstOrDefault();\n",
    "Console.WriteLine(\"Résolution par le solver OrToolsMIPSolver (SCIP) du Sudoku Difficile:\");\n",
    "SudokuHelper.SolveSudoku(hardSudoku, mipSolver);\n"
   ]
  }
 ],
 "metadata": {
  "kernelspec": {
   "display_name": ".NET (C#)",
   "language": "C#",
   "name": ".net-csharp"
  },
  "polyglot_notebook": {
   "kernelInfo": {
    "defaultKernelName": "csharp",
    "items": [
     {
      "aliases": [],
      "languageName": "csharp",
      "name": "csharp"
     }
    ]
   }
  }
 },
 "nbformat": 4,
 "nbformat_minor": 2
}
