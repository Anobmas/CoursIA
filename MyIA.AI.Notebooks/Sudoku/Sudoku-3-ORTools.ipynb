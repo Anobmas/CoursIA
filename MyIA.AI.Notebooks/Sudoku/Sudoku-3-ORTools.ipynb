{
 "cells": [
  {
   "cell_type": "markdown",
   "metadata": {},
   "source": [
    "# Résolution de Sudoku avec OR-Tools\n",
    "\n",
    "## Introduction\n",
    "\n",
    "Google OR-Tools est une suite de logiciels d'optimisation développée par Google. Elle permet de résoudre des problèmes complexes d'optimisation combinatoire tels que la satisfaction de contraintes (CSP), la programmation linéaire (LP), la programmation linéaire mixte (MIP), et bien plus. Dans ce projet, nous nous concentrerons sur la résolution de Sudokus en utilisant différentes techniques fournies par OR-Tools.\n",
    "\n",
    "### Types de Solveurs\n",
    "\n",
    "1. **Solveur de Satisfaction de Contraintes (CSP)** :\n",
    "   Ce solveur utilise des techniques de propagation de contraintes et de recherche pour trouver des solutions qui satisfont toutes les contraintes spécifiées.\n",
    "\n",
    "2. **Solveur de Programmation Linéaire Mixte (MIP)** :\n",
    "   Ce solveur combine la programmation linéaire avec des variables entières pour résoudre des problèmes d'optimisation. Il est particulièrement efficace pour les problèmes où certaines variables doivent être entières.\n",
    "\n",
    "3. **Solveur de Satisfaction de Contraintes SAT (CP-SAT)** :\n",
    "   Ce solveur est basé sur un noyau SAT, utilisant des techniques avancées pour résoudre les problèmes de satisfaction de contraintes en convertissant le problème en une forme satisfiable.\n",
    "\n",
    "\n",
    "Nous allons explorer ces solveurs pour résoudre des grilles de Sudoku et comparer leurs performances.\n",
    "\n",
    "## Installation de OR-Tools\n",
    "\n",
    "Pour utiliser OR-Tools avec C#, nous devons d'abord installer la bibliothèque. Vous pouvez suivre les instructions sur le site officiel de [Google OR-Tools](https://developers.google.com/optimization).\n",
    "\n",
    "### Installation de OR-Tools\n",
    "\n",
    "On appelle le package Nuget correspondant. Nous utiliserons égalemnet la bibliothèque Plotly pour afficher les résultats."
   ]
  },
  {
   "cell_type": "code",
   "execution_count": 14,
   "metadata": {
    "dotnet_interactive": {
     "language": "csharp"
    },
    "polyglot_notebook": {
     "kernelName": "csharp"
    }
   },
   "outputs": [
    {
     "data": {
      "text/html": [
       "<div><div></div><div></div><div><strong>Installed Packages</strong><ul><li><span>Google.OrTools, 9.10.4067</span></li><li><span>XPlot.Plotly.Interactive, 4.1.0</span></li></ul></div></div>"
      ]
     },
     "metadata": {},
     "output_type": "display_data"
    }
   ],
   "source": [
    "#r \"nuget: Google.OrTools\"\n",
    "#r \"nuget: XPlot.Plotly.Interactive\""
   ]
  },
  {
   "cell_type": "markdown",
   "metadata": {},
   "source": [
    "## Importation des Classes de Base\n",
    "\n",
    "Nous allons importer les classes de base définies dans le notebook précédent, fournissant notamment la représentation, le chargement et l'affichage de Sudokus, et l'infrastructure de résolution.\n"
   ]
  },
  {
   "cell_type": "code",
   "execution_count": 15,
   "metadata": {
    "dotnet_interactive": {
     "language": "csharp"
    },
    "polyglot_notebook": {
     "kernelName": "csharp"
    }
   },
   "outputs": [
    {
     "data": {
      "text/markdown": [
       "# Notebook 0: Classes de Base pour la Résolution de Sudoku\n",
       "\n",
       "Ce notebook contient les classes de base nécessaires pour la manipulation et la résolution des grilles de Sudoku. Il sera importé dans les autres notebooks pour réutiliser ces classes.\n",
       "\n",
       "## Importation des Bibliothèques Nécessaires\n",
       "\n",
       "Nous commençons par importer les bibliothèques nécessaires.\n"
      ]
     },
     "metadata": {},
     "output_type": "display_data"
    },
    {
     "data": {
      "text/markdown": [
       "## Définition de la classe SudokuGrid\n",
       "\n",
       "Nous définissons ici la classe SudokuGrid qui représente une grille de Sudoku et fournit des méthodes pour manipuler et afficher les grilles.\n"
      ]
     },
     "metadata": {},
     "output_type": "display_data"
    },
    {
     "data": {
      "text/markdown": [
       "## Définition de l'interface ISudokuSolver\n",
       "\n",
       "Nous définissons ici l'interface ISudokuSolver qui sera implémentée par les différentes stratégies de résolution de Sudoku.\n"
      ]
     },
     "metadata": {},
     "output_type": "display_data"
    },
    {
     "data": {
      "text/markdown": [
       "## Définition de la classe SudokuHelper\n",
       "\n",
       "Nous ajoutons ici la classe SudokuHelper qui contient des méthodes utilitaires pour charger et afficher des grilles de Sudoku.\n"
      ]
     },
     "metadata": {},
     "output_type": "display_data"
    },
    {
     "data": {
      "text/markdown": [
       "## Affichage des Puzzles de chaque Difficulté\n",
       "\n",
       "Nous allons charger et afficher un puzzle de chaque niveau de difficulté : Facile, Moyen et Difficile.\n"
      ]
     },
     "metadata": {},
     "output_type": "display_data"
    },
    {
     "data": {
      "text/plain": [
       "Puzzle Facile:\n",
       "-------------------------------\n",
       "| 9     2 |       5 | 4     3 | \n",
       "| 1       |    6  3 |    2  5 | \n",
       "| 5     8 | 4     7 |    6    | \n",
       "-------------------------------\n",
       "|    2  6 | 3     9 |       1 | \n",
       "|    5  7 |    1    | 2  9    | \n",
       "|    9    | 6  7    | 5  3    | \n",
       "-------------------------------\n",
       "| 2  4    | 5  3    | 6       | \n",
       "| 7     5 | 2       | 3     4 | \n",
       "|    8    |    4  1 | 9  5    | \n",
       "-------------------------------"
      ]
     },
     "metadata": {},
     "output_type": "display_data"
    },
    {
     "data": {
      "text/plain": [
       "Puzzle Moyen:\n",
       "-------------------------------\n",
       "| 8  5    |       2 | 4       | \n",
       "| 7  2    |         |       9 | \n",
       "|       4 |         |         | \n",
       "-------------------------------\n",
       "|         | 1     7 |       2 | \n",
       "| 3     5 |         | 9       | \n",
       "|    4    |         |         | \n",
       "-------------------------------\n",
       "|         |    8    |    7    | \n",
       "|    1  7 |         |         | \n",
       "|         |    3  6 |    4    | \n",
       "-------------------------------"
      ]
     },
     "metadata": {},
     "output_type": "display_data"
    },
    {
     "data": {
      "text/plain": [
       "Puzzle Difficile:\n",
       "-------------------------------\n",
       "| 4       |         | 8     5 | \n",
       "|    3    |         |         | \n",
       "|         | 7       |         | \n",
       "-------------------------------\n",
       "|    2    |         |    6    | \n",
       "|         |    8    | 4       | \n",
       "|         |    1    |         | \n",
       "-------------------------------\n",
       "|         | 6     3 |    7    | \n",
       "| 5       | 2       |         | \n",
       "| 1     4 |         |         | \n",
       "-------------------------------"
      ]
     },
     "metadata": {},
     "output_type": "display_data"
    }
   ],
   "source": [
    "#!import Sudoku-0-Environment.ipynb"
   ]
  },
  {
   "cell_type": "markdown",
   "metadata": {},
   "source": [
    "## Implémentations des Solveurs\n",
    "\n",
    "### Solveur par contraintes classique (CpSolver)\n",
    "\n",
    "L'algorithme de satisfaction de contraintes (CSP) utilise les contraintes pour réduire l'espace de recherche et trouver une solution qui satisfait toutes les contraintes du problème. Nous utilisons `CpSolver` d'OR-Tools pour cette implémentation.\n"
   ]
  },
  {
   "cell_type": "code",
   "execution_count": 16,
   "metadata": {
    "dotnet_interactive": {
     "language": "csharp"
    },
    "polyglot_notebook": {
     "kernelName": "csharp"
    }
   },
   "outputs": [],
   "source": [
    "using Google.OrTools.ConstraintSolver;\n",
    "using SimpleCPSolver = Google.OrTools.ConstraintSolver.Solver;\n",
    "using SimpleConstraint = Google.OrTools.ConstraintSolver.Constraint;\n",
    "using IntVar = Google.OrTools.ConstraintSolver.IntVar;\n",
    "using System.Linq;\n",
    "using System.Text;\n",
    "\n",
    "public class OrToolsCPSolver : ISudokuSolver\n",
    "{\n",
    "    private const int GridSize = 9;\n",
    "    private const int RegionSize = 3;\n",
    "    public int VariableSelectionStrategy { get; set; } = SimpleCPSolver.CHOOSE_FIRST_UNBOUND;\n",
    "    public int ValueSelectionStrategy { get; set; } = SimpleCPSolver.ASSIGN_MIN_VALUE;\n",
    "    public SudokuGrid Solve(SudokuGrid s)\n",
    "    {\n",
    "        int[,] grid = s.Cells;\n",
    "        SimpleCPSolver solver = new SimpleCPSolver(\"CpSimple\");\n",
    "        IntVar[,] matrix = CreateConstraints(solver, grid);\n",
    "        // Parametrize DecisionBuilder\n",
    "        DecisionBuilder db = solver.MakePhase(matrix.Flatten(), VariableSelectionStrategy, ValueSelectionStrategy);\n",
    "        solver.NewSearch(db);\n",
    "        while (solver.NextSolution())\n",
    "        {\n",
    "            string solvedString = BuildSolvedString(matrix);\n",
    "            solver.EndSearch();\n",
    "            return SudokuGrid.ReadSudoku(solvedString);\n",
    "        }\n",
    "        throw new Exception(\"Unfeasible Sudoku\");\n",
    "    }\n",
    "    private static IntVar[,] CreateConstraints(SimpleCPSolver solver, int[,] grid)\n",
    "    {\n",
    "        IntVar[,] matrix = solver.MakeIntVarMatrix(GridSize, GridSize, 1, 9, \"matrix\");\n",
    "        for (int i = 0; i < GridSize; i++)\n",
    "        {\n",
    "            for (int j = 0; j < GridSize; j++)\n",
    "            {\n",
    "                if (grid[i, j] != 0)\n",
    "                {\n",
    "                    solver.Add(matrix[i, j] == grid[i, j]);\n",
    "                }\n",
    "            }\n",
    "        }\n",
    "        for (int i = 0; i < GridSize; i++)\n",
    "        {\n",
    "            solver.Add(solver.MakeAllDifferent((from j in Enumerable.Range(0, GridSize) select matrix[i, j]).ToArray()));\n",
    "            solver.Add(solver.MakeAllDifferent((from j in Enumerable.Range(0, GridSize) select matrix[j, i]).ToArray()));\n",
    "        }\n",
    "        for (int row = 0; row < GridSize; row += RegionSize)\n",
    "        {\n",
    "            for (int col = 0; col < GridSize; col += RegionSize)\n",
    "            {\n",
    "                IntVar[] regionVars = new IntVar[RegionSize * RegionSize];\n",
    "                for (int r = 0; r < RegionSize; r++)\n",
    "                {\n",
    "                    for (int c = 0; c < RegionSize; c++)\n",
    "                    {\n",
    "                        regionVars[r * RegionSize + c] = matrix[row + r, col + c];\n",
    "                    }\n",
    "                }\n",
    "                solver.Add(solver.MakeAllDifferent(regionVars));\n",
    "            }\n",
    "        }\n",
    "        return matrix;\n",
    "    }\n",
    "    private static string BuildSolvedString(IntVar[,] matrix)\n",
    "    {\n",
    "        StringBuilder sb = new StringBuilder();\n",
    "        for (int i = 0; i < GridSize; i++)\n",
    "        {\n",
    "            for (int j = 0; j < GridSize; j++)\n",
    "            {\n",
    "                sb.Append((int)matrix[i, j].Value());\n",
    "            }\n",
    "        }\n",
    "        return sb.ToString();\n",
    "    }\n",
    "}\n"
   ]
  },
  {
   "cell_type": "markdown",
   "metadata": {},
   "source": [
    "### Solveur par contraintes SAT\n",
    "\n",
    "Le nouveau solver par contrainte d'OR-Tools est intégré au solveur SAT\n"
   ]
  },
  {
   "cell_type": "code",
   "execution_count": 17,
   "metadata": {
    "dotnet_interactive": {
     "language": "csharp"
    },
    "polyglot_notebook": {
     "kernelName": "csharp"
    }
   },
   "outputs": [],
   "source": [
    "using Google.OrTools.Sat;\n",
    "using SatIntVar = Google.OrTools.Sat.IntVar;\n",
    "using System;\n",
    "\n",
    "public class OrToolsSatSolver : ISudokuSolver\n",
    "{\n",
    "    private const int Dimension = 9;\n",
    "    private const int SubGrid = 3;\n",
    "    private readonly CpSolver _solver = new CpSolver();\n",
    "    \n",
    "    public SudokuGrid Solve(SudokuGrid inputGrid)\n",
    "    {\n",
    "        (CpModel model, SatIntVar[,] grid) = CreateModel(inputGrid);\n",
    "        CpSolverStatus status = _solver.Solve(model);\n",
    "        if (status is CpSolverStatus.Feasible or CpSolverStatus.Optimal)\n",
    "        {\n",
    "            return MakeSolution(_solver, grid);\n",
    "        }\n",
    "        else\n",
    "        {\n",
    "            throw new InvalidOperationException(\"Sudoku grid has no solution.\");\n",
    "        }\n",
    "    }\n",
    "    private SudokuGrid MakeSolution(CpSolver solver, SatIntVar[,] grid)\n",
    "    {\n",
    "        SudokuGrid result = new SudokuGrid();\n",
    "        for (int i = 0; i < Dimension; i++)\n",
    "        {\n",
    "            for (int j = 0; j < Dimension; j++)\n",
    "            {\n",
    "                result.Cells[i, j] = (int)solver.Value(grid[i, j]);\n",
    "            }\n",
    "        }\n",
    "        return result;\n",
    "    }\n",
    "    private (CpModel model, SatIntVar[,]) CreateModel(SudokuGrid sudokuGrid)\n",
    "    {\n",
    "        CpModel model = new CpModel();\n",
    "        SatIntVar[,] grid = new SatIntVar[Dimension, Dimension];\n",
    "        CreateVariables(model, grid, sudokuGrid);\n",
    "        AddConstraints(model, grid);\n",
    "        return (model, grid);\n",
    "    }\n",
    "    private void AddConstraints(CpModel model, SatIntVar[,] grid)\n",
    "    {\n",
    "        for (int i = 0; i < Dimension; i++)\n",
    "        {\n",
    "            AddRowConstraint(model, grid, i);\n",
    "            AddColumnConstraint(model, grid, i);\n",
    "        }\n",
    "        for (int i = 0; i < Dimension; i += SubGrid)\n",
    "        {\n",
    "            for (int j = 0; j < Dimension; j += SubGrid)\n",
    "            {\n",
    "                AddCellConstraint(model, grid, i, j);\n",
    "            }\n",
    "        }\n",
    "    }\n",
    "    private void AddCellConstraint(CpModel model, SatIntVar[,] grid, int row, int col)\n",
    "    {\n",
    "        SatIntVar[] cellVariables = new SatIntVar[SubGrid * SubGrid];\n",
    "        for (int i = 0; i < SubGrid; i++)\n",
    "        {\n",
    "            for (int j = 0; j < SubGrid; j++)\n",
    "            {\n",
    "                cellVariables[i * SubGrid + j] = grid[row + i, col + j];\n",
    "            }\n",
    "        }\n",
    "        model.AddAllDifferent(cellVariables);\n",
    "    }\n",
    "    private void AddColumnConstraint(CpModel model, SatIntVar[,] grid, int col)\n",
    "    {\n",
    "        SatIntVar[] colVariables = new SatIntVar[Dimension];\n",
    "        for (int row = 0; row < Dimension; row++)\n",
    "        {\n",
    "            colVariables[row] = grid[row, col];\n",
    "        }\n",
    "        model.AddAllDifferent(colVariables);\n",
    "    }\n",
    "    private void AddRowConstraint(CpModel model, SatIntVar[,] grid, int row)\n",
    "    {\n",
    "        SatIntVar[] rowVariables = new SatIntVar[Dimension];\n",
    "        for (int col = 0; col < Dimension; col++)\n",
    "        {\n",
    "            rowVariables[col] = grid[row, col];\n",
    "        }\n",
    "        model.AddAllDifferent(rowVariables);\n",
    "    }\n",
    "    private void CreateVariables(CpModel model, SatIntVar[,] grid, SudokuGrid sudokuGrid)\n",
    "    {\n",
    "        for (int i = 0; i < Dimension; i++)\n",
    "        {\n",
    "            for (int j = 0; j < Dimension; j++)\n",
    "            {\n",
    "                int value = sudokuGrid.Cells[i, j];\n",
    "                grid[i, j] = model.NewIntVar(value == 0 ? 1 : value, value == 0 ? Dimension : value, $\"Cell({i},{j})\");\n",
    "            }\n",
    "        }\n",
    "    }\n",
    "}\n"
   ]
  },
  {
   "cell_type": "markdown",
   "metadata": {},
   "source": [
    "### Solveur MIP (Mixed-Integer Programming)\n",
    "\n",
    "L'algorithme de programmation linéaire mixte (MIP) combine la programmation linéaire et les variables entières pour résoudre des problèmes d'optimisation. Nous utilisons `Mixed-Integer Programming` d'OR-Tools pour cette implémentation.\n"
   ]
  },
  {
   "cell_type": "code",
   "execution_count": 18,
   "metadata": {
    "dotnet_interactive": {
     "language": "csharp"
    },
    "polyglot_notebook": {
     "kernelName": "csharp"
    }
   },
   "outputs": [],
   "source": [
    "using Google.OrTools.LinearSolver;\n",
    "using LinearSolver = Google.OrTools.LinearSolver.Solver;\n",
    "using LinearExpr = Google.OrTools.LinearSolver.LinearExpr;\n",
    "\n",
    "public class OrToolsMIPSolver : ISudokuSolver\n",
    "{\n",
    "    private const int GridSize = 9;\n",
    "\n",
    "    public SudokuGrid Solve(SudokuGrid s)\n",
    "    {\n",
    "        LinearSolver solver = LinearSolver.CreateSolver(\"SCIP\");\n",
    "        if (solver == null)\n",
    "        {\n",
    "            throw new InvalidOperationException(\"Solver initialization failed.\");\n",
    "        }\n",
    "\n",
    "        Variable[,,] cells = new Variable[GridSize, GridSize, GridSize];\n",
    "        InitializeVariables(s, solver, cells);\n",
    "\n",
    "        AddConstraints(solver, cells);\n",
    "\n",
    "        if (solver.Solve() != LinearSolver.ResultStatus.OPTIMAL)\n",
    "        {\n",
    "            throw new Exception(\"No solution found.\");\n",
    "        }\n",
    "\n",
    "        return ExtractSolution(s, cells);\n",
    "    }\n",
    "\n",
    "    private void InitializeVariables(SudokuGrid s, LinearSolver solver, Variable[,,] cells)\n",
    "    {\n",
    "        for (int i = 0; i < GridSize; i++)\n",
    "        {\n",
    "            for (int j = 0; j < GridSize; j++)\n",
    "            {\n",
    "                for (int k = 0; k < GridSize; k++)\n",
    "                {\n",
    "                    cells[i, j, k] = solver.MakeIntVar(0, 1, $\"Cell({i},{j},{k})\");\n",
    "                }\n",
    "                if (s.Cells[i, j] != 0)\n",
    "                {\n",
    "                    solver.Add(cells[i, j, s.Cells[i, j] - 1] == 1);\n",
    "                }\n",
    "            }\n",
    "        }\n",
    "    }\n",
    "\n",
    "    private void AddConstraints(LinearSolver solver, Variable[,,] cells)\n",
    "    {\n",
    "        for (int i = 0; i < GridSize; i++)\n",
    "        {\n",
    "            for (int j = 0; j < GridSize; j++)\n",
    "            {\n",
    "                solver.Add(Sum(solver, Enumerable.Range(0, GridSize).Select(k => cells[i, j, k])) == 1);\n",
    "            }\n",
    "        }\n",
    "\n",
    "        for (int k = 0; k < GridSize; k++)\n",
    "        {\n",
    "            for (int i = 0; i < GridSize; i++)\n",
    "            {\n",
    "                solver.Add(Sum(solver, Enumerable.Range(0, GridSize).Select(j => cells[i, j, k])) == 1);\n",
    "                solver.Add(Sum(solver, Enumerable.Range(0, GridSize).Select(j => cells[j, i, k])) == 1);\n",
    "            }\n",
    "        }\n",
    "\n",
    "        for (int k = 0; k < GridSize; k++)\n",
    "        {\n",
    "            for (int i = 0; i < GridSize; i += 3)\n",
    "            {\n",
    "                for (int j = 0; j < GridSize; j += 3)\n",
    "                {\n",
    "                    solver.Add(Sum(solver, Enumerable.Range(0, 3).SelectMany(row => Enumerable.Range(0, 3).Select(col => cells[i + row, j + col, k]))) == 1);\n",
    "                }\n",
    "            }\n",
    "        }\n",
    "    }\n",
    "\n",
    "    private LinearExpr Sum(LinearSolver solver, IEnumerable<Variable> vars)\n",
    "    {\n",
    "        LinearExpr sum = new();\n",
    "        foreach (var v in vars)\n",
    "        {\n",
    "            sum += v;\n",
    "        }\n",
    "        return sum;\n",
    "    }\n",
    "\n",
    "    private SudokuGrid ExtractSolution(SudokuGrid s, Variable[,,] cells)\n",
    "    {\n",
    "        SudokuGrid solution = new SudokuGrid();\n",
    "        for (int i = 0; i < GridSize; i++)\n",
    "        {\n",
    "            for (int j = 0; j < GridSize; j++)\n",
    "            {\n",
    "                for (int k = 0; k < GridSize; k++)\n",
    "                {\n",
    "                    if (cells[i, j, k].SolutionValue() == 1)\n",
    "                    {\n",
    "                        solution.Cells[i, j] = k + 1;\n",
    "                    }\n",
    "                }\n",
    "            }\n",
    "        }\n",
    "        return solution;\n",
    "    }\n",
    "}\n",
    "\n"
   ]
  },
  {
   "cell_type": "markdown",
   "metadata": {},
   "source": [
    "## Comparaison des Performances des Solveurs\n",
    "\n",
    "Nous allons tester nos solveurs implémentés sur des grilles de Sudoku de différentes difficultés : Facile, Moyen et Difficile. Nous mesurerons également le temps de résolution et vérifierons la validité des solutions trouvées. \n",
    "\n",
    "Les solveurs testés sont :\n",
    "- **Solveur de Satisfaction de Contraintes (CSP) avec différents DecisionBuilder**\n",
    "  - Choix par défaut\n",
    "  - Choix simple\n",
    "  - Choix taille minimale\n",
    "- **Solveur de Programmation Linéaire Mixte (MIP)**\n",
    "- **Solveur de Satisfaction de Contraintes SAT (CP-SAT)**\n",
    "\n",
    "Le test est effectué sur un ensemble de 10 Sudokus pour chaque difficulté et chaque solveur. Les résultats incluent le nombre de Sudokus résolus et le temps moyen de résolution.\n",
    "\n"
   ]
  },
  {
   "cell_type": "code",
   "execution_count": 19,
   "metadata": {
    "dotnet_interactive": {
     "language": "csharp"
    },
    "polyglot_notebook": {
     "kernelName": "csharp"
    }
   },
   "outputs": [
    {
     "data": {
      "text/html": [
       "<!DOCTYPE html>\r\n",
       "<div style=\"width: 900px; height: 500px;\" id=\"d037b8ef-a999-4596-8cdf-c85f7505cc3c\"></div><script type=\"text/javascript\">\r\n",
       "\n",
       "var renderPlotly = function() {\n",
       "    var xplotRequire = require.config({context:'xplot-3.0.1',paths:{plotly:'https://cdn.plot.ly/plotly-1.49.2.min'}}) || require;\n",
       "    xplotRequire(['plotly'], function(Plotly) { \r\n",
       "\n",
       "            var data = [{\"type\":\"bar\",\"x\":[\"Easy\",\"Medium\",\"Hard\"],\"y\":[54.4421,14.3489,2291.5541],\"name\":\"CP Solver Default\"},{\"type\":\"bar\",\"x\":[\"Easy\",\"Medium\",\"Hard\"],\"y\":[51.7361,13.8143,2152.1252],\"name\":\"CP Solver Simple\"},{\"type\":\"bar\",\"x\":[\"Easy\",\"Medium\",\"Hard\"],\"y\":[48.1592,13.5931,373.8625],\"name\":\"CP Solver Min Size\"},{\"type\":\"bar\",\"x\":[\"Easy\",\"Medium\",\"Hard\"],\"y\":[366.5472,172.7932,593.994],\"name\":\"MIP Solver\"},{\"type\":\"bar\",\"x\":[\"Easy\",\"Medium\",\"Hard\"],\"y\":[311.2201,144.9005,824.223],\"name\":\"SAT Solver\"}];\n",
       "           var layout = {\"title\":\"Comparison of Solver Performance by Difficulty\",\"xaxis\":{\"title\":\"Difficulty\",\"_isSubplotObj\":true},\"yaxis\":{\"title\":\"Total Time (ms)\",\"_isSubplotObj\":true},\"barmode\":\"group\"};\n",
       "           Plotly.newPlot('d037b8ef-a999-4596-8cdf-c85f7505cc3c', data, layout);\n",
       "        \r\n",
       "});\n",
       "};\r\n",
       "// ensure `require` is available globally\r\n",
       "if ((typeof(require) !==  typeof(Function)) || (typeof(require.config) !== typeof(Function))) {\r\n",
       "    let require_script = document.createElement('script');\r\n",
       "    require_script.setAttribute('src', 'https://cdnjs.cloudflare.com/ajax/libs/require.js/2.3.6/require.min.js');\r\n",
       "    require_script.setAttribute('type', 'text/javascript');\r\n",
       "    \r\n",
       "    \r\n",
       "    require_script.onload = function() {\r\n",
       "        renderPlotly();\r\n",
       "    };\r\n",
       "\r\n",
       "    document.getElementsByTagName('head')[0].appendChild(require_script);\r\n",
       "}\r\n",
       "else {\r\n",
       "    renderPlotly();\r\n",
       "}\r\n",
       "\r\n",
       "</script>\r\n"
      ]
     },
     "metadata": {},
     "output_type": "display_data"
    }
   ],
   "source": [
    "using XPlot.Plotly;\n",
    "using System.Linq;\n",
    "using Trace = XPlot.Plotly.Trace;\n",
    "\n",
    "var cpSolverDefault = new OrToolsCPSolver();\n",
    "var cpSolverSimple = new OrToolsCPSolver\n",
    "{\n",
    "    VariableSelectionStrategy = SimpleCPSolver.INT_VAR_SIMPLE,\n",
    "    ValueSelectionStrategy = SimpleCPSolver.INT_VALUE_SIMPLE\n",
    "};\n",
    "var cpSolverMinSize = new OrToolsCPSolver\n",
    "{\n",
    "    VariableSelectionStrategy = SimpleCPSolver.CHOOSE_MIN_SIZE_LOWEST_MIN,\n",
    "    ValueSelectionStrategy = SimpleCPSolver.ASSIGN_CENTER_VALUE\n",
    "};\n",
    "var mipSolver = new OrToolsMIPSolver();\n",
    "var satSolver = new OrToolsSatSolver();\n",
    "\n",
    "List<(string SolverName, string Difficulty, double Time, int SolvedCount)> results = new();\n",
    "\n",
    "void TestSolver(ISudokuSolver solver, SudokuDifficulty difficulty, string solverName, int numberOfSudokus)\n",
    "{\n",
    "    var sudokus = SudokuHelper.GetSudokus(difficulty).Take(numberOfSudokus).ToList();\n",
    "    Stopwatch stopwatch = new Stopwatch();\n",
    "    int solvedCount = 0;\n",
    "\n",
    "    stopwatch.Start();\n",
    "    foreach (var sudoku in sudokus)\n",
    "    {\n",
    "            SudokuGrid solved = solver.Solve(sudoku);\n",
    "    }\n",
    "    stopwatch.Stop();\n",
    "\n",
    "    double totalTime = stopwatch.Elapsed.TotalMilliseconds;\n",
    "    results.Add((solverName, difficulty.ToString(), totalTime, solvedCount));\n",
    "}\n",
    "\n",
    "int numberOfSudokus = 50;\n",
    "TestSolver(cpSolverDefault, SudokuDifficulty.Easy, \"CP Solver Default\", numberOfSudokus);\n",
    "TestSolver(cpSolverSimple, SudokuDifficulty.Easy, \"CP Solver Simple\", numberOfSudokus);\n",
    "TestSolver(cpSolverMinSize, SudokuDifficulty.Easy, \"CP Solver Min Size\", numberOfSudokus);\n",
    "TestSolver(mipSolver, SudokuDifficulty.Easy, \"MIP Solver\", numberOfSudokus);\n",
    "TestSolver(satSolver, SudokuDifficulty.Easy, \"SAT Solver\", numberOfSudokus);\n",
    "TestSolver(cpSolverDefault, SudokuDifficulty.Medium, \"CP Solver Default\", numberOfSudokus);\n",
    "TestSolver(cpSolverSimple, SudokuDifficulty.Medium, \"CP Solver Simple\", numberOfSudokus);\n",
    "TestSolver(cpSolverMinSize, SudokuDifficulty.Medium, \"CP Solver Min Size\", numberOfSudokus);\n",
    "TestSolver(mipSolver, SudokuDifficulty.Medium, \"MIP Solver\", numberOfSudokus);\n",
    "TestSolver(satSolver, SudokuDifficulty.Medium, \"SAT Solver\", numberOfSudokus);\n",
    "TestSolver(cpSolverDefault, SudokuDifficulty.Hard, \"CP Solver Default\", numberOfSudokus);\n",
    "TestSolver(cpSolverSimple, SudokuDifficulty.Hard, \"CP Solver Simple\", numberOfSudokus);\n",
    "TestSolver(cpSolverMinSize, SudokuDifficulty.Hard, \"CP Solver Min Size\", numberOfSudokus);\n",
    "TestSolver(mipSolver, SudokuDifficulty.Hard, \"MIP Solver\", numberOfSudokus);\n",
    "TestSolver(satSolver, SudokuDifficulty.Hard, \"SAT Solver\", numberOfSudokus);\n",
    "\n",
    "// Préparer les données pour le graphique Plotly\n",
    "var solverNames = results.Select(r => r.SolverName).Distinct().ToArray();\n",
    "var difficulties = results.Select(r => r.Difficulty).Distinct().ToArray();\n",
    "var traces = new List<Trace>();\n",
    "\n",
    "foreach (var solverName in solverNames)\n",
    "{\n",
    "    var solverResults = results.Where(r => r.SolverName == solverName).ToList();\n",
    "    var trace = new Bar\n",
    "    {\n",
    "        x = solverResults.Select(r => r.Difficulty).ToArray(),\n",
    "        y = solverResults.Select(r => r.Time).ToArray(),\n",
    "        name = solverName\n",
    "    };\n",
    "    traces.Add(trace);\n",
    "}\n",
    "\n",
    "var layout = new Layout.Layout\n",
    "{\n",
    "    barmode = \"group\",\n",
    "    title = \"Comparison of Solver Performance by Difficulty\",\n",
    "    xaxis = new Xaxis { title = \"Difficulty\" },\n",
    "    yaxis = new Yaxis { title = \"Total Time (ms)\" }\n",
    "};\n",
    "\n",
    "var chart = Chart.Plot(traces);\n",
    "chart.WithLayout(layout);\n",
    "display(chart);"
   ]
  }
 ],
 "metadata": {
  "kernelspec": {
   "display_name": ".NET (C#)",
   "language": "C#",
   "name": ".net-csharp"
  },
  "polyglot_notebook": {
   "kernelInfo": {
    "defaultKernelName": "csharp",
    "items": [
     {
      "aliases": [],
      "languageName": "csharp",
      "name": "csharp"
     }
    ]
   }
  }
 },
 "nbformat": 4,
 "nbformat_minor": 2
}
