{
 "cells": [
  {
   "cell_type": "markdown",
   "metadata": {},
   "source": [
    "# Résolution de Sudoku avec OR-Tools\n",
    "\n",
    "## Introduction\n",
    "\n",
    "Google OR-Tools est une suite de logiciels d'optimisation développée par Google. Elle permet de résoudre des problèmes complexes d'optimisation combinatoire tels que la satisfaction de contraintes (CSP), la programmation linéaire (LP), la programmation linéaire mixte (MIP), et bien plus. Dans ce projet, nous nous concentrerons sur la résolution de Sudokus en utilisant différentes techniques fournies par OR-Tools.\n",
    "\n",
    "### Types de Solveurs\n",
    "\n",
    "1. **Solveur de Satisfaction de Contraintes (CSP)** :\n",
    "   Ce solveur utilise des techniques de propagation de contraintes et de recherche pour trouver des solutions qui satisfont toutes les contraintes spécifiées. En CSP, les utilisateurs déclarent les contraintes sur les solutions faisables pour un ensemble de variables de décision. Cela permet de réduire l'espace de recherche en éliminant les valeurs non faisables. CSP se concentre sur la faisabilité (trouver une solution faisable) plutôt que sur l'optimisation (trouver une solution optimale).\n",
    "\n",
    "2. **Solveur de Programmation Linéaire Mixte (MIP)** :\n",
    "   Ce solveur combine la programmation linéaire avec des variables entières pour résoudre des problèmes d'optimisation. MIP est utilisé pour des problèmes où certaines variables doivent être entières, ce qui est utile dans des scénarios de prise de décision où les solutions doivent être discrètes. La programmation linéaire (LP) est une méthode pour obtenir le meilleur résultat (tel que le profit maximum ou le coût minimum) dans un modèle mathématique dont les exigences sont représentées par des relations linéaires.\n",
    "\n",
    "3. **Solveur de Satisfaction de Contraintes SAT (CP-SAT)** :\n",
    "   Ce solveur est basé sur un noyau SAT, utilisant des techniques avancées pour résoudre les problèmes de satisfaction de contraintes en convertissant le problème en une forme satisfiable. Le solveur SAT se concentre sur la faisabilité et utilise des techniques comme le retour en arrière chronologique et la propagation de contraintes.\n",
    "\n",
    "\n",
    "Nous allons explorer ces solveurs pour résoudre des grilles de Sudoku et comparer leurs performances.\n",
    "\n",
    "## Installation de OR-Tools\n",
    "\n",
    "Pour utiliser OR-Tools avec C#, nous devons d'abord installer la bibliothèque. Vous pouvez suivre les instructions sur le site officiel de [Google OR-Tools](https://developers.google.com/optimization).\n",
    "\n",
    "### Installation de OR-Tools\n",
    "\n",
    "On appelle le package Nuget correspondant. "
   ]
  },
  {
   "cell_type": "code",
   "execution_count": 1,
   "metadata": {
    "dotnet_interactive": {
     "language": "csharp"
    },
    "polyglot_notebook": {
     "kernelName": "csharp"
    }
   },
   "outputs": [
    {
     "data": {
      "text/html": [
       "<div><div></div><div></div><div><strong>Installed Packages</strong><ul><li><span>Google.OrTools, 9.10.4067</span></li></ul></div></div>"
      ]
     },
     "metadata": {},
     "output_type": "display_data"
    }
   ],
   "source": [
    "#r \"nuget: Google.OrTools\""
   ]
  },
  {
   "cell_type": "markdown",
   "metadata": {},
   "source": [
    "## Importation des Classes de Base\n",
    "\n",
    "Nous allons importer les classes de base définies dans le notebook précédent, fournissant notamment la représentation, le chargement et l'affichage de Sudokus, et l'infrastructure de résolution.\n"
   ]
  },
  {
   "cell_type": "code",
   "execution_count": 2,
   "metadata": {
    "dotnet_interactive": {
     "language": "csharp"
    },
    "polyglot_notebook": {
     "kernelName": "csharp"
    }
   },
   "outputs": [
    {
     "data": {
      "text/markdown": [
       "# Notebook 0: Classes de Base pour la Résolution de Sudoku\n",
       "\n",
       "Ce notebook contient les classes de base nécessaires pour la manipulation et la résolution des grilles de Sudoku. Il sera importé dans les autres notebooks pour réutiliser ces classes.\n",
       "\n",
       "## Importation des Bibliothèques Nécessaires\n",
       "\n",
       "Nous commençons par importer les bibliothèques nécessaires.\n"
      ]
     },
     "metadata": {},
     "output_type": "display_data"
    },
    {
     "data": {
      "text/html": [
       "<div><div></div><div></div><div><strong>Installed Packages</strong><ul><li><span>XPlot.Plotly.Interactive, 4.1.0</span></li></ul></div></div>"
      ]
     },
     "metadata": {},
     "output_type": "display_data"
    },
    {
     "data": {
      "text/plain": [
       "Loading extensions from `C:\\Users\\Administrateur.000\\.nuget\\packages\\xplot.plotly.interactive\\4.1.0\\lib\\net7.0\\XPlot.Plotly.Interactive.dll`"
      ]
     },
     "metadata": {},
     "output_type": "display_data"
    },
    {
     "data": {
      "text/markdown": [
       "Configuring PowerShell Kernel for XPlot.Plotly integration."
      ]
     },
     "metadata": {},
     "output_type": "display_data"
    },
    {
     "data": {
      "text/markdown": [
       "Installed support for XPlot.Plotly."
      ]
     },
     "metadata": {},
     "output_type": "display_data"
    },
    {
     "data": {
      "text/markdown": [
       "## Définition de la classe SudokuGrid\n",
       "\n",
       "Nous définissons ici la classe SudokuGrid qui représente une grille de Sudoku et fournit des méthodes pour manipuler et afficher les grilles.\n"
      ]
     },
     "metadata": {},
     "output_type": "display_data"
    },
    {
     "data": {
      "text/markdown": [
       "## Définition de l'interface ISudokuSolver\n",
       "\n",
       "Nous définissons ici l'interface ISudokuSolver qui sera implémentée par les différentes stratégies de résolution de Sudoku.\n"
      ]
     },
     "metadata": {},
     "output_type": "display_data"
    },
    {
     "data": {
      "text/markdown": [
       "## Définition de la classe SudokuHelper\n",
       "\n",
       "Nous ajoutons ici la classe SudokuHelper qui contient des méthodes utilitaires pour charger  des grilles de Sudoku et tester des solvers.\n",
       "\n",
       "- `GetSudokus` : Renvoie des listes de Sudoku issues de fichiers de 3 difficultés différentes.\n",
       "- `SolveSudoku` : effectue un test simple d'un solver sur un sudoku donné.\n",
       "- `TestSolvers` : exécute les tests de performance sur plusieurs solveurs.\n",
       "- `DisplayResults` : affiche les résultats des tests sous forme de graphiques.\n",
       "\n"
      ]
     },
     "metadata": {},
     "output_type": "display_data"
    }
   ],
   "source": [
    "#!import Sudoku-0-Environment.ipynb"
   ]
  },
  {
   "cell_type": "markdown",
   "metadata": {},
   "source": [
    "## Implémentations des Solveurs\n",
    "\n",
    "### Solveur par contraintes classique (CpSolver)\n",
    "\n",
    "L'algorithme de satisfaction de contraintes (CSP) utilise les contraintes pour réduire l'espace de recherche et trouver une solution qui satisfait toutes les contraintes du problème. Nous utilisons `CpSolver` d'OR-Tools pour cette implémentation.\n",
    "\n",
    "#### Étapes de la modélisation avec OR-Tools CSP\n",
    "\n",
    "1. **Création du modèle** : Utiliser `CpModel()` pour créer un modèle de contraintes.\n",
    "2. **Définition des variables** : Créer une grille de variables. Chaque variable représente une cellule du Sudoku, prenant une valeur entière de 1 à 9.\n",
    "3. **Ajout des contraintes** : Ajouter des contraintes pour les lignes, colonnes et régions. Utiliser `AddAllDifferent()` pour déclarer que chaque ensemble de variables doit contenir des valeurs différentes.\n",
    "4. **Création du solveur** : Utiliser `CpSolver()` pour créer un solveur.\n",
    "5. **Résolution du modèle** : Utiliser `Solve()` pour résoudre le modèle.\n",
    "6. **Extraction des résultats** : Utiliser `solver.Value()` pour obtenir les valeurs finales de toutes les variables dans la grille.\n"
   ]
  },
  {
   "cell_type": "code",
   "execution_count": 3,
   "metadata": {
    "dotnet_interactive": {
     "language": "csharp"
    },
    "polyglot_notebook": {
     "kernelName": "csharp"
    }
   },
   "outputs": [],
   "source": [
    "using Google.OrTools.ConstraintSolver;\n",
    "using SimpleCPSolver = Google.OrTools.ConstraintSolver.Solver;\n",
    "using SimpleConstraint = Google.OrTools.ConstraintSolver.Constraint;\n",
    "using IntVar = Google.OrTools.ConstraintSolver.IntVar;\n",
    "using System.Linq;\n",
    "using System.Text;\n",
    "\n",
    "public class OrToolsCPSolver : ISudokuSolver\n",
    "{\n",
    "    private const int GridSize = 9;\n",
    "    private const int RegionSize = 3;\n",
    "    public int VariableSelectionStrategy { get; set; } = SimpleCPSolver.CHOOSE_FIRST_UNBOUND;\n",
    "    public int ValueSelectionStrategy { get; set; } = SimpleCPSolver.ASSIGN_MIN_VALUE;\n",
    "    public SudokuGrid Solve(SudokuGrid s)\n",
    "    {\n",
    "        int[,] grid = s.Cells;\n",
    "        SimpleCPSolver solver = new SimpleCPSolver(\"CpSimple\");\n",
    "        IntVar[,] matrix = CreateConstraints(solver, grid);\n",
    "        // Parametrize DecisionBuilder\n",
    "        DecisionBuilder db = solver.MakePhase(matrix.Flatten(), VariableSelectionStrategy, ValueSelectionStrategy);\n",
    "        solver.NewSearch(db);\n",
    "        while (solver.NextSolution())\n",
    "        {\n",
    "            string solvedString = BuildSolvedString(matrix);\n",
    "            solver.EndSearch();\n",
    "            return SudokuGrid.ReadSudoku(solvedString);\n",
    "        }\n",
    "        throw new Exception(\"Unfeasible Sudoku\");\n",
    "    }\n",
    "    private static IntVar[,] CreateConstraints(SimpleCPSolver solver, int[,] grid)\n",
    "    {\n",
    "        IntVar[,] matrix = solver.MakeIntVarMatrix(GridSize, GridSize, 1, 9, \"matrix\");\n",
    "        for (int i = 0; i < GridSize; i++)\n",
    "        {\n",
    "            for (int j = 0; j < GridSize; j++)\n",
    "            {\n",
    "                if (grid[i, j] != 0)\n",
    "                {\n",
    "                    solver.Add(matrix[i, j] == grid[i, j]);\n",
    "                }\n",
    "            }\n",
    "        }\n",
    "        for (int i = 0; i < GridSize; i++)\n",
    "        {\n",
    "            solver.Add(solver.MakeAllDifferent((from j in Enumerable.Range(0, GridSize) select matrix[i, j]).ToArray()));\n",
    "            solver.Add(solver.MakeAllDifferent((from j in Enumerable.Range(0, GridSize) select matrix[j, i]).ToArray()));\n",
    "        }\n",
    "        for (int row = 0; row < GridSize; row += RegionSize)\n",
    "        {\n",
    "            for (int col = 0; col < GridSize; col += RegionSize)\n",
    "            {\n",
    "                IntVar[] regionVars = new IntVar[RegionSize * RegionSize];\n",
    "                for (int r = 0; r < RegionSize; r++)\n",
    "                {\n",
    "                    for (int c = 0; c < RegionSize; c++)\n",
    "                    {\n",
    "                        regionVars[r * RegionSize + c] = matrix[row + r, col + c];\n",
    "                    }\n",
    "                }\n",
    "                solver.Add(solver.MakeAllDifferent(regionVars));\n",
    "            }\n",
    "        }\n",
    "        return matrix;\n",
    "    }\n",
    "    private static string BuildSolvedString(IntVar[,] matrix)\n",
    "    {\n",
    "        StringBuilder sb = new StringBuilder();\n",
    "        for (int i = 0; i < GridSize; i++)\n",
    "        {\n",
    "            for (int j = 0; j < GridSize; j++)\n",
    "            {\n",
    "                sb.Append((int)matrix[i, j].Value());\n",
    "            }\n",
    "        }\n",
    "        return sb.ToString();\n",
    "    }\n",
    "}\n"
   ]
  },
  {
   "cell_type": "markdown",
   "metadata": {},
   "source": [
    "#### Test du solver CP Simple\n",
    "\n",
    "On teste sur un sudoku de chaque difficulté"
   ]
  },
  {
   "cell_type": "code",
   "execution_count": 4,
   "metadata": {
    "dotnet_interactive": {
     "language": "csharp"
    },
    "polyglot_notebook": {
     "kernelName": "csharp"
    }
   },
   "outputs": [
    {
     "data": {
      "text/plain": [
       "Résolution par le solver OrToolsCPSolver du Sudoku:\n",
       " -------------------------------\n",
       "| 9     2 |       5 | 4     3 | \n",
       "| 1       |    6  3 |    2  5 | \n",
       "| 5     8 | 4     7 |    6    | \n",
       "-------------------------------\n",
       "|    2  6 | 3     9 |       1 | \n",
       "|    5  7 |    1    | 2  9    | \n",
       "|    9    | 6  7    | 5  3    | \n",
       "-------------------------------\n",
       "| 2  4    | 5  3    | 6       | \n",
       "| 7     5 | 2       | 3     4 | \n",
       "|    8    |    4  1 | 9  5    | \n",
       "-------------------------------"
      ]
     },
     "metadata": {},
     "output_type": "display_data"
    },
    {
     "data": {
      "text/plain": [
       "Sudoku renvoyé:\n",
       "-------------------------------\n",
       "| 9  6  2 | 1  8  5 | 4  7  3 | \n",
       "| 1  7  4 | 9  6  3 | 8  2  5 | \n",
       "| 5  3  8 | 4  2  7 | 1  6  9 | \n",
       "-------------------------------\n",
       "| 8  2  6 | 3  5  9 | 7  4  1 | \n",
       "| 3  5  7 | 8  1  4 | 2  9  6 | \n",
       "| 4  9  1 | 6  7  2 | 5  3  8 | \n",
       "-------------------------------\n",
       "| 2  4  9 | 5  3  8 | 6  1  7 | \n",
       "| 7  1  5 | 2  9  6 | 3  8  4 | \n",
       "| 6  8  3 | 7  4  1 | 9  5  2 | \n",
       "-------------------------------\n",
       "Nombre d'erreurs réstantes: 0\n",
       "Temps de résolution: 29,0973 ms"
      ]
     },
     "metadata": {},
     "output_type": "display_data"
    },
    {
     "data": {
      "text/plain": [
       "Résolution par le solver OrToolsCPSolver du Sudoku:\n",
       " -------------------------------\n",
       "|       5 | 3       |         | \n",
       "| 8       |         |    2    | \n",
       "|    7    |    1    | 5       | \n",
       "-------------------------------\n",
       "| 4       |       5 | 3       | \n",
       "|    1    |    7    |       6 | \n",
       "|       3 | 2       |    8    | \n",
       "-------------------------------\n",
       "|    6    | 5       |       9 | \n",
       "|       4 |         |    3    | \n",
       "|         |       9 | 7       | \n",
       "-------------------------------"
      ]
     },
     "metadata": {},
     "output_type": "display_data"
    },
    {
     "data": {
      "text/plain": [
       "Sudoku renvoyé:\n",
       "-------------------------------\n",
       "| 1  4  5 | 3  2  7 | 6  9  8 | \n",
       "| 8  3  9 | 6  5  4 | 1  2  7 | \n",
       "| 6  7  2 | 9  1  8 | 5  4  3 | \n",
       "-------------------------------\n",
       "| 4  9  6 | 1  8  5 | 3  7  2 | \n",
       "| 2  1  8 | 4  7  3 | 9  5  6 | \n",
       "| 7  5  3 | 2  9  6 | 4  8  1 | \n",
       "-------------------------------\n",
       "| 3  6  7 | 5  4  2 | 8  1  9 | \n",
       "| 9  8  4 | 7  6  1 | 2  3  5 | \n",
       "| 5  2  1 | 8  3  9 | 7  6  4 | \n",
       "-------------------------------\n",
       "Nombre d'erreurs réstantes: 0\n",
       "Temps de résolution: 8,0663 ms"
      ]
     },
     "metadata": {},
     "output_type": "display_data"
    },
    {
     "data": {
      "text/plain": [
       "Résolution par le solver OrToolsCPSolver du Sudoku:\n",
       " -------------------------------\n",
       "| 4       |         | 8     5 | \n",
       "|    3    |         |         | \n",
       "|         | 7       |         | \n",
       "-------------------------------\n",
       "|    2    |         |    6    | \n",
       "|         |    8    | 4       | \n",
       "|         |    1    |         | \n",
       "-------------------------------\n",
       "|         | 6     3 |    7    | \n",
       "| 5       | 2       |         | \n",
       "| 1     4 |         |         | \n",
       "-------------------------------"
      ]
     },
     "metadata": {},
     "output_type": "display_data"
    },
    {
     "data": {
      "text/plain": [
       "Sudoku renvoyé:\n",
       "-------------------------------\n",
       "| 4  1  7 | 3  6  9 | 8  2  5 | \n",
       "| 6  3  2 | 1  5  8 | 9  4  7 | \n",
       "| 9  5  8 | 7  2  4 | 3  1  6 | \n",
       "-------------------------------\n",
       "| 8  2  5 | 4  3  7 | 1  6  9 | \n",
       "| 7  9  1 | 5  8  6 | 4  3  2 | \n",
       "| 3  4  6 | 9  1  2 | 7  5  8 | \n",
       "-------------------------------\n",
       "| 2  8  9 | 6  4  3 | 5  7  1 | \n",
       "| 5  7  3 | 2  9  1 | 6  8  4 | \n",
       "| 1  6  4 | 8  7  5 | 2  9  3 | \n",
       "-------------------------------\n",
       "Nombre d'erreurs réstantes: 0\n",
       "Temps de résolution: 3,7011 ms"
      ]
     },
     "metadata": {},
     "output_type": "display_data"
    }
   ],
   "source": [
    "var solver = new OrToolsCPSolver();\n",
    "var easySudoku = SudokuHelper.GetSudokus(SudokuDifficulty.Easy).First();\n",
    "SudokuHelper.SolveSudoku(easySudoku, solver);\n",
    "var mediumSudoku = SudokuHelper.GetSudokus(SudokuDifficulty.Medium).Skip(1).First();\n",
    "SudokuHelper.SolveSudoku(mediumSudoku, solver);\n",
    "var hardSudoku = SudokuHelper.GetSudokus(SudokuDifficulty.Hard).First();\n",
    "SudokuHelper.SolveSudoku(hardSudoku, solver);"
   ]
  },
  {
   "cell_type": "markdown",
   "metadata": {},
   "source": [
    "### Solveur par contraintes SAT\n",
    "\n",
    "Le solveur de satisfaction de contraintes SAT (CP-SAT) d'OR-Tools est un outil puissant basé sur un noyau SAT, utilisant des techniques avancées pour résoudre les problèmes de satisfaction de contraintes. Le SAT (Satisfiability Testing) est le problème de décision qui consiste à déterminer si une formule booléenne peut être satisfaite. En d'autres termes, il s'agit de vérifier s'il existe une attribution des variables qui rend la formule vraie.\n",
    "\n",
    "#### Étapes de la modélisation avec OR-Tools SAT\n",
    "\n",
    "1. **Création du modèle** : Utiliser `CpModel()` pour créer un modèle SAT.\n",
    "2. **Définition des variables** : Créer une grille de variables où chaque cellule du Sudoku est représentée par une variable entière de 1 à 9.\n",
    "3. **Ajout des contraintes** : Ajouter des contraintes pour s'assurer que chaque ligne, colonne et région contiennent des valeurs distinctes. Utiliser `AddAllDifferent()` pour garantir l'unicité des valeurs dans les sous-ensembles de la grille.\n",
    "4. **Création du solveur** : Utiliser `CpSolver()` pour créer un solveur.\n",
    "5. **Résolution du modèle** : Utiliser `Solve()` pour résoudre le modèle.\n",
    "6. **Extraction des résultats** : Utiliser `solver.Value()` pour obtenir les valeurs finales des variables dans la grille.\n"
   ]
  },
  {
   "cell_type": "code",
   "execution_count": 5,
   "metadata": {
    "dotnet_interactive": {
     "language": "csharp"
    },
    "polyglot_notebook": {
     "kernelName": "csharp"
    }
   },
   "outputs": [],
   "source": [
    "using Google.OrTools.Sat;\n",
    "using SatIntVar = Google.OrTools.Sat.IntVar;\n",
    "using System;\n",
    "\n",
    "public class OrToolsSatSolver : ISudokuSolver\n",
    "{\n",
    "    private const int Dimension = 9;\n",
    "    private const int SubGrid = 3;\n",
    "    private readonly CpSolver _solver = new CpSolver();\n",
    "    \n",
    "    public SudokuGrid Solve(SudokuGrid inputGrid)\n",
    "    {\n",
    "        (CpModel model, SatIntVar[,] grid) = CreateModel(inputGrid);\n",
    "        CpSolverStatus status = _solver.Solve(model);\n",
    "        if (status is CpSolverStatus.Feasible or CpSolverStatus.Optimal)\n",
    "        {\n",
    "            return MakeSolution(_solver, grid);\n",
    "        }\n",
    "        else\n",
    "        {\n",
    "            throw new InvalidOperationException(\"Sudoku grid has no solution.\");\n",
    "        }\n",
    "    }\n",
    "    private SudokuGrid MakeSolution(CpSolver solver, SatIntVar[,] grid)\n",
    "    {\n",
    "        SudokuGrid result = new SudokuGrid();\n",
    "        for (int i = 0; i < Dimension; i++)\n",
    "        {\n",
    "            for (int j = 0; j < Dimension; j++)\n",
    "            {\n",
    "                result.Cells[i, j] = (int)solver.Value(grid[i, j]);\n",
    "            }\n",
    "        }\n",
    "        return result;\n",
    "    }\n",
    "    private (CpModel model, SatIntVar[,]) CreateModel(SudokuGrid sudokuGrid)\n",
    "    {\n",
    "        CpModel model = new CpModel();\n",
    "        SatIntVar[,] grid = new SatIntVar[Dimension, Dimension];\n",
    "        CreateVariables(model, grid, sudokuGrid);\n",
    "        AddConstraints(model, grid);\n",
    "        return (model, grid);\n",
    "    }\n",
    "    private void AddConstraints(CpModel model, SatIntVar[,] grid)\n",
    "    {\n",
    "        for (int i = 0; i < Dimension; i++)\n",
    "        {\n",
    "            AddRowConstraint(model, grid, i);\n",
    "            AddColumnConstraint(model, grid, i);\n",
    "        }\n",
    "        for (int i = 0; i < Dimension; i += SubGrid)\n",
    "        {\n",
    "            for (int j = 0; j < Dimension; j += SubGrid)\n",
    "            {\n",
    "                AddCellConstraint(model, grid, i, j);\n",
    "            }\n",
    "        }\n",
    "    }\n",
    "    private void AddCellConstraint(CpModel model, SatIntVar[,] grid, int row, int col)\n",
    "    {\n",
    "        SatIntVar[] cellVariables = new SatIntVar[SubGrid * SubGrid];\n",
    "        for (int i = 0; i < SubGrid; i++)\n",
    "        {\n",
    "            for (int j = 0; j < SubGrid; j++)\n",
    "            {\n",
    "                cellVariables[i * SubGrid + j] = grid[row + i, col + j];\n",
    "            }\n",
    "        }\n",
    "        model.AddAllDifferent(cellVariables);\n",
    "    }\n",
    "    private void AddColumnConstraint(CpModel model, SatIntVar[,] grid, int col)\n",
    "    {\n",
    "        SatIntVar[] colVariables = new SatIntVar[Dimension];\n",
    "        for (int row = 0; row < Dimension; row++)\n",
    "        {\n",
    "            colVariables[row] = grid[row, col];\n",
    "        }\n",
    "        model.AddAllDifferent(colVariables);\n",
    "    }\n",
    "    private void AddRowConstraint(CpModel model, SatIntVar[,] grid, int row)\n",
    "    {\n",
    "        SatIntVar[] rowVariables = new SatIntVar[Dimension];\n",
    "        for (int col = 0; col < Dimension; col++)\n",
    "        {\n",
    "            rowVariables[col] = grid[row, col];\n",
    "        }\n",
    "        model.AddAllDifferent(rowVariables);\n",
    "    }\n",
    "    private void CreateVariables(CpModel model, SatIntVar[,] grid, SudokuGrid sudokuGrid)\n",
    "    {\n",
    "        for (int i = 0; i < Dimension; i++)\n",
    "        {\n",
    "            for (int j = 0; j < Dimension; j++)\n",
    "            {\n",
    "                int value = sudokuGrid.Cells[i, j];\n",
    "                grid[i, j] = model.NewIntVar(value == 0 ? 1 : value, value == 0 ? Dimension : value, $\"Cell({i},{j})\");\n",
    "            }\n",
    "        }\n",
    "    }\n",
    "}\n"
   ]
  },
  {
   "cell_type": "markdown",
   "metadata": {},
   "source": [
    "### Solveur MIP (Mixed-Integer Programming)\n",
    "\n",
    "L'algorithme de programmation linéaire mixte (MIP) combine la programmation linéaire et les variables entières pour résoudre des problèmes d'optimisation. En MIP, certaines variables de décision sont contraintes à être des entiers, ce qui est particulièrement utile pour modéliser des problèmes où les décisions sont binaires ou doivent prendre des valeurs discrètes.\n",
    "\n",
    "#### Étapes de la modélisation avec OR-Tools MIP\n",
    "\n",
    "1. **Création du modèle** : Utiliser `Solver.CreateSolver()` pour créer un solveur MIP.\n",
    "2. **Définition des variables** : Créer une grille de variables. Chaque cellule du Sudoku est représentée par une variable binaire dans une matrice 3D, où chaque variable indique si une valeur spécifique (1-9) est assignée à la cellule.\n",
    "3. **Ajout des contraintes** : Ajouter des contraintes pour s'assurer que chaque cellule contient exactement une valeur, et que chaque ligne, colonne et région contiennent des valeurs distinctes. Utiliser `Add()` pour ajouter des contraintes de somme et d'unicité.\n",
    "4. **Résolution du modèle** : Utiliser `Solve()` pour résoudre le modèle.\n",
    "5. **Extraction des résultats** : Utiliser `solution_value()` pour obtenir les valeurs finales des variables dans la grille et convertir les résultats de la représentation binaire à une matrice de valeurs entières.\n",
    "\n",
    "La programmation linéaire mixte permet de formuler le problème de Sudoku de manière à exploiter les techniques d'optimisation linéaire et les capacités des solveurs MIP pour trouver des solutions efficaces.\n"
   ]
  },
  {
   "cell_type": "code",
   "execution_count": 6,
   "metadata": {
    "dotnet_interactive": {
     "language": "csharp"
    },
    "polyglot_notebook": {
     "kernelName": "csharp"
    }
   },
   "outputs": [],
   "source": [
    "using Google.OrTools.LinearSolver;\n",
    "using LinearSolver = Google.OrTools.LinearSolver.Solver;\n",
    "using LinearExpr = Google.OrTools.LinearSolver.LinearExpr;\n",
    "\n",
    "public class OrToolsMIPSolver : ISudokuSolver\n",
    "{\n",
    "    private const int GridSize = 9;\n",
    "\n",
    "    // Propriété pour choisir le type de solveur linéaire\n",
    "    public string SolverID { get; set; } = \"\";\n",
    "    public LinearSolver.OptimizationProblemType OptimizationProblemType { get; set; } = LinearSolver.OptimizationProblemType.SCIP_MIXED_INTEGER_PROGRAMMING;\n",
    "\n",
    "    public SudokuGrid Solve(SudokuGrid s)\n",
    "    {\n",
    "        // Initialiser le solveur avec le type sélectionné\n",
    "        LinearSolver solver;\n",
    "         if (!string.IsNullOrEmpty(SolverID))\n",
    "        {\n",
    "             solver = LinearSolver.CreateSolver(SolverID);\n",
    "        }\n",
    "        else\n",
    "        {\n",
    "            solver = new LinearSolver(\"SudokuSolver\", OptimizationProblemType);\n",
    "        }\n",
    "       \n",
    "        if (solver == null)\n",
    "        {\n",
    "            throw new InvalidOperationException(\"Solver initialization failed.\");\n",
    "        }\n",
    "        if (solver == null)\n",
    "        {\n",
    "            throw new InvalidOperationException(\"Solver initialization failed.\");\n",
    "        }\n",
    "\n",
    "        Variable[,,] cells = new Variable[GridSize, GridSize, GridSize];\n",
    "        InitializeVariables(s, solver, cells);\n",
    "\n",
    "        AddConstraints(solver, cells);\n",
    "\n",
    "        if (solver.Solve() != LinearSolver.ResultStatus.OPTIMAL)\n",
    "        {\n",
    "            throw new Exception(\"No solution found.\");\n",
    "        }\n",
    "\n",
    "        return ExtractSolution(s, cells);\n",
    "    }\n",
    "\n",
    "\n",
    "    private void InitializeVariables(SudokuGrid s, LinearSolver solver, Variable[,,] cells)\n",
    "    {\n",
    "        for (int i = 0; i < GridSize; i++)\n",
    "        {\n",
    "            for (int j = 0; j < GridSize; j++)\n",
    "            {\n",
    "                for (int k = 0; k < GridSize; k++)\n",
    "                {\n",
    "                    cells[i, j, k] = solver.MakeIntVar(0, 1, $\"Cell({i},{j},{k})\");\n",
    "                }\n",
    "                if (s.Cells[i, j] != 0)\n",
    "                {\n",
    "                    solver.Add(cells[i, j, s.Cells[i, j] - 1] == 1);\n",
    "                }\n",
    "            }\n",
    "        }\n",
    "    }\n",
    "\n",
    "    private void AddConstraints(LinearSolver solver, Variable[,,] cells)\n",
    "    {\n",
    "        for (int i = 0; i < GridSize; i++)\n",
    "        {\n",
    "            for (int j = 0; j < GridSize; j++)\n",
    "            {\n",
    "                solver.Add(Sum(solver, Enumerable.Range(0, GridSize).Select(k => cells[i, j, k])) == 1);\n",
    "            }\n",
    "        }\n",
    "\n",
    "        for (int k = 0; k < GridSize; k++)\n",
    "        {\n",
    "            for (int i = 0; i < GridSize; i++)\n",
    "            {\n",
    "                solver.Add(Sum(solver, Enumerable.Range(0, GridSize).Select(j => cells[i, j, k])) == 1);\n",
    "                solver.Add(Sum(solver, Enumerable.Range(0, GridSize).Select(j => cells[j, i, k])) == 1);\n",
    "            }\n",
    "        }\n",
    "\n",
    "        for (int k = 0; k < GridSize; k++)\n",
    "        {\n",
    "            for (int i = 0; i < GridSize; i += 3)\n",
    "            {\n",
    "                for (int j = 0; j < GridSize; j += 3)\n",
    "                {\n",
    "                    solver.Add(Sum(solver, Enumerable.Range(0, 3).SelectMany(row => Enumerable.Range(0, 3).Select(col => cells[i + row, j + col, k]))) == 1);\n",
    "                }\n",
    "            }\n",
    "        }\n",
    "    }\n",
    "\n",
    "    private LinearExpr Sum(LinearSolver solver, IEnumerable<Variable> vars)\n",
    "    {\n",
    "        LinearExpr sum = new();\n",
    "        foreach (var v in vars)\n",
    "        {\n",
    "            sum += v;\n",
    "        }\n",
    "        return sum;\n",
    "    }\n",
    "\n",
    "    private SudokuGrid ExtractSolution(SudokuGrid s, Variable[,,] cells)\n",
    "    {\n",
    "        SudokuGrid solution = new SudokuGrid();\n",
    "        for (int i = 0; i < GridSize; i++)\n",
    "        {\n",
    "            for (int j = 0; j < GridSize; j++)\n",
    "            {\n",
    "                for (int k = 0; k < GridSize; k++)\n",
    "                {\n",
    "                    if (cells[i, j, k].SolutionValue() == 1)\n",
    "                    {\n",
    "                        solution.Cells[i, j] = k + 1;\n",
    "                    }\n",
    "                }\n",
    "            }\n",
    "        }\n",
    "        \n",
    "        return solution;\n",
    "    }\n",
    "}\n"
   ]
  },
  {
   "cell_type": "markdown",
   "metadata": {},
   "source": [
    "## Comparaison des Performances des Solveurs\n",
    "\n",
    "Nous allons tester nos solveurs implémentés sur des grilles de Sudoku de différentes difficultés : Facile, Moyen et Difficile. Nous mesurerons également le temps de résolution et vérifierons la validité des solutions trouvées. \n",
    "\n",
    "Les solveurs testés sont :\n",
    "- **Solveur de Satisfaction de Contraintes (CSP) avec différents DecisionBuilder**\n",
    "  - Choix par défaut\n",
    "  - Choix simple\n",
    "  - Choix taille minimale\n",
    "- **Solveur de Programmation Linéaire Mixte (MIP)**\n",
    "- **Solveur de Satisfaction de Contraintes SAT (CP-SAT)**\n",
    "\n",
    "Le test est effectué sur un ensemble de 10 Sudokus pour chaque difficulté et chaque solveur. Les résultats incluent le nombre de Sudokus résolus et le temps moyen de résolution.\n",
    "\n"
   ]
  },
  {
   "cell_type": "code",
   "execution_count": 7,
   "metadata": {
    "dotnet_interactive": {
     "language": "csharp"
    },
    "polyglot_notebook": {
     "kernelName": "csharp"
    }
   },
   "outputs": [
    {
     "data": {
      "text/plain": [
       "Testing MIP Solver SAT_INTEGER_PROGRAMMING on Hard sudokus..."
      ]
     },
     "metadata": {},
     "output_type": "display_data"
    },
    {
     "data": {
      "text/html": [
       "<!DOCTYPE html>\r\n",
       "<div style=\"width: 900px; height: 500px;\" id=\"2111f998-f359-47af-89ed-a214f741332c\"></div><script type=\"text/javascript\">\r\n",
       "\n",
       "var renderPlotly = function() {\n",
       "    var xplotRequire = require.config({context:'xplot-3.0.1',paths:{plotly:'https://cdn.plot.ly/plotly-1.49.2.min'}}) || require;\n",
       "    xplotRequire(['plotly'], function(Plotly) { \r\n",
       "\n",
       "            var data = [{\"type\":\"bar\",\"x\":[\"CP Solver Default\",\"CP Solver Simple\",\"CP Solver Min Size\",\"SAT Solver\",\"MIP Solver SCIP\",\"MIP Solver CLP_LINEAR_PROGRAMMING\",\"MIP Solver GLOP_LINEAR_PROGRAMMING\",\"MIP Solver SCIP_MIXED_INTEGER_PROGRAMMING\",\"MIP Solver CBC_MIXED_INTEGER_PROGRAMMING\",\"MIP Solver BOP_INTEGER_PROGRAMMING\",\"MIP Solver SAT_INTEGER_PROGRAMMING\"],\"y\":[20.844,23.9398,23.3447,209.3479,231.1519,68.854,48.6047,232.2056,166.557,227.6242,205.5188],\"name\":\"Easy\"}];\n",
       "           var layout = {\"title\":\"Comparison of Solver Performance - Easy Difficulty\",\"xaxis\":{\"title\":\"Solver\",\"_isSubplotObj\":true},\"yaxis\":{\"title\":\"Total Time (ms)\",\"type\":\"log\",\"_isSubplotObj\":true}};\n",
       "           Plotly.newPlot('2111f998-f359-47af-89ed-a214f741332c', data, layout);\n",
       "        \r\n",
       "});\n",
       "};\r\n",
       "// ensure `require` is available globally\r\n",
       "if ((typeof(require) !==  typeof(Function)) || (typeof(require.config) !== typeof(Function))) {\r\n",
       "    let require_script = document.createElement('script');\r\n",
       "    require_script.setAttribute('src', 'https://cdnjs.cloudflare.com/ajax/libs/require.js/2.3.6/require.min.js');\r\n",
       "    require_script.setAttribute('type', 'text/javascript');\r\n",
       "    \r\n",
       "    \r\n",
       "    require_script.onload = function() {\r\n",
       "        renderPlotly();\r\n",
       "    };\r\n",
       "\r\n",
       "    document.getElementsByTagName('head')[0].appendChild(require_script);\r\n",
       "}\r\n",
       "else {\r\n",
       "    renderPlotly();\r\n",
       "}\r\n",
       "\r\n",
       "</script>\r\n"
      ]
     },
     "metadata": {},
     "output_type": "display_data"
    },
    {
     "data": {
      "text/html": [
       "<!DOCTYPE html>\r\n",
       "<div style=\"width: 900px; height: 500px;\" id=\"1021169b-90f1-445a-9764-f2344a56fdf6\"></div><script type=\"text/javascript\">\r\n",
       "\n",
       "var renderPlotly = function() {\n",
       "    var xplotRequire = require.config({context:'xplot-3.0.1',paths:{plotly:'https://cdn.plot.ly/plotly-1.49.2.min'}}) || require;\n",
       "    xplotRequire(['plotly'], function(Plotly) { \r\n",
       "\n",
       "            var data = [{\"type\":\"bar\",\"x\":[\"CP Solver Default\",\"CP Solver Simple\",\"CP Solver Min Size\",\"SAT Solver\",\"MIP Solver SCIP\",\"MIP Solver SCIP_MIXED_INTEGER_PROGRAMMING\",\"MIP Solver CBC_MIXED_INTEGER_PROGRAMMING\",\"MIP Solver BOP_INTEGER_PROGRAMMING\",\"MIP Solver SAT_INTEGER_PROGRAMMING\"],\"y\":[34.8253,30.7765,33.4746,244.9616,289.7375,332.7958,3859.7294,102.4854,343.2974],\"name\":\"Medium\"}];\n",
       "           var layout = {\"title\":\"Comparison of Solver Performance - Medium Difficulty\",\"xaxis\":{\"title\":\"Solver\",\"_isSubplotObj\":true},\"yaxis\":{\"title\":\"Total Time (ms)\",\"type\":\"log\",\"_isSubplotObj\":true}};\n",
       "           Plotly.newPlot('1021169b-90f1-445a-9764-f2344a56fdf6', data, layout);\n",
       "        \r\n",
       "});\n",
       "};\r\n",
       "// ensure `require` is available globally\r\n",
       "if ((typeof(require) !==  typeof(Function)) || (typeof(require.config) !== typeof(Function))) {\r\n",
       "    let require_script = document.createElement('script');\r\n",
       "    require_script.setAttribute('src', 'https://cdnjs.cloudflare.com/ajax/libs/require.js/2.3.6/require.min.js');\r\n",
       "    require_script.setAttribute('type', 'text/javascript');\r\n",
       "    \r\n",
       "    \r\n",
       "    require_script.onload = function() {\r\n",
       "        renderPlotly();\r\n",
       "    };\r\n",
       "\r\n",
       "    document.getElementsByTagName('head')[0].appendChild(require_script);\r\n",
       "}\r\n",
       "else {\r\n",
       "    renderPlotly();\r\n",
       "}\r\n",
       "\r\n",
       "</script>\r\n"
      ]
     },
     "metadata": {},
     "output_type": "display_data"
    },
    {
     "data": {
      "text/html": [
       "<!DOCTYPE html>\r\n",
       "<div style=\"width: 900px; height: 500px;\" id=\"8bd85ad0-696b-4996-a65b-fb4623e4f2f8\"></div><script type=\"text/javascript\">\r\n",
       "\n",
       "var renderPlotly = function() {\n",
       "    var xplotRequire = require.config({context:'xplot-3.0.1',paths:{plotly:'https://cdn.plot.ly/plotly-1.49.2.min'}}) || require;\n",
       "    xplotRequire(['plotly'], function(Plotly) { \r\n",
       "\n",
       "            var data = [{\"type\":\"bar\",\"x\":[\"CP Solver Default\",\"CP Solver Simple\",\"CP Solver Min Size\",\"SAT Solver\",\"MIP Solver SCIP\",\"MIP Solver SCIP_MIXED_INTEGER_PROGRAMMING\",\"MIP Solver CBC_MIXED_INTEGER_PROGRAMMING\",\"MIP Solver BOP_INTEGER_PROGRAMMING\",\"MIP Solver SAT_INTEGER_PROGRAMMING\"],\"y\":[1932.0318,1918.7321,259.853,217.4843,172.8681,181.7862,183.9013,84.1064,263.1823],\"name\":\"Hard\"}];\n",
       "           var layout = {\"title\":\"Comparison of Solver Performance - Hard Difficulty\",\"xaxis\":{\"title\":\"Solver\",\"_isSubplotObj\":true},\"yaxis\":{\"title\":\"Total Time (ms)\",\"type\":\"log\",\"_isSubplotObj\":true}};\n",
       "           Plotly.newPlot('8bd85ad0-696b-4996-a65b-fb4623e4f2f8', data, layout);\n",
       "        \r\n",
       "});\n",
       "};\r\n",
       "// ensure `require` is available globally\r\n",
       "if ((typeof(require) !==  typeof(Function)) || (typeof(require.config) !== typeof(Function))) {\r\n",
       "    let require_script = document.createElement('script');\r\n",
       "    require_script.setAttribute('src', 'https://cdnjs.cloudflare.com/ajax/libs/require.js/2.3.6/require.min.js');\r\n",
       "    require_script.setAttribute('type', 'text/javascript');\r\n",
       "    \r\n",
       "    \r\n",
       "    require_script.onload = function() {\r\n",
       "        renderPlotly();\r\n",
       "    };\r\n",
       "\r\n",
       "    document.getElementsByTagName('head')[0].appendChild(require_script);\r\n",
       "}\r\n",
       "else {\r\n",
       "    renderPlotly();\r\n",
       "}\r\n",
       "\r\n",
       "</script>\r\n"
      ]
     },
     "metadata": {},
     "output_type": "display_data"
    }
   ],
   "source": [
    "using System;\n",
    "using System.Collections.Generic;\n",
    "using System.Diagnostics;\n",
    "using System.Linq;\n",
    "using System.Threading;\n",
    "using System.Threading.Tasks;\n",
    "using XPlot.Plotly;\n",
    "using Trace = XPlot.Plotly.Trace;\n",
    "using Microsoft.DotNet.Interactive;\n",
    "\n",
    "var cpSolverDefault = new OrToolsCPSolver();\n",
    "var cpSolverSimple = new OrToolsCPSolver\n",
    "{\n",
    "    VariableSelectionStrategy = SimpleCPSolver.INT_VAR_SIMPLE,\n",
    "    ValueSelectionStrategy = SimpleCPSolver.INT_VALUE_SIMPLE\n",
    "};\n",
    "var cpSolverMinSize = new OrToolsCPSolver\n",
    "{\n",
    "    VariableSelectionStrategy = SimpleCPSolver.CHOOSE_MIN_SIZE_LOWEST_MIN,\n",
    "    ValueSelectionStrategy = SimpleCPSolver.ASSIGN_CENTER_VALUE\n",
    "};\n",
    "\n",
    "var mipSolverIDs = new[]\n",
    "{\n",
    "    \"SCIP\",\n",
    "    // \"GLOP\",\n",
    "    // \"PDLP\"\n",
    "};\n",
    "\n",
    "var mipSolverTypes = new[]\n",
    "{\n",
    "    LinearSolver.OptimizationProblemType.CLP_LINEAR_PROGRAMMING,\n",
    "    LinearSolver.OptimizationProblemType.GLOP_LINEAR_PROGRAMMING,\n",
    "    // LinearSolver.OptimizationProblemType.PDLP_LINEAR_PROGRAMMING,\n",
    "    LinearSolver.OptimizationProblemType.SCIP_MIXED_INTEGER_PROGRAMMING,\n",
    "    // LinearSolver.OptimizationProblemType.GLPK_MIXED_INTEGER_PROGRAMMING,\n",
    "    LinearSolver.OptimizationProblemType.CBC_MIXED_INTEGER_PROGRAMMING,\n",
    "    LinearSolver.OptimizationProblemType.BOP_INTEGER_PROGRAMMING,\n",
    "    LinearSolver.OptimizationProblemType.SAT_INTEGER_PROGRAMMING,\n",
    "    // LinearSolver.OptimizationProblemType.GUROBI_LINEAR_PROGRAMMING,\n",
    "    // LinearSolver.OptimizationProblemType.GUROBI_MIXED_INTEGER_PROGRAMMING,\n",
    "    // LinearSolver.OptimizationProblemType.CPLEX_LINEAR_PROGRAMMING,\n",
    "    // LinearSolver.OptimizationProblemType.CPLEX_MIXED_INTEGER_PROGRAMMING,\n",
    "    // LinearSolver.OptimizationProblemType.XPRESS_LINEAR_PROGRAMMING,\n",
    "    // LinearSolver.OptimizationProblemType.XPRESS_MIXED_INTEGER_PROGRAMMING\n",
    "};\n",
    "\n",
    "var solvers = new List<(string Name, ISudokuSolver Solver)>\n",
    "{\n",
    "    (\"CP Solver Default\", cpSolverDefault),\n",
    "    (\"CP Solver Simple\", cpSolverSimple),\n",
    "    (\"CP Solver Min Size\", cpSolverMinSize),\n",
    "    (\"SAT Solver\", new OrToolsSatSolver())\n",
    "};\n",
    "\n",
    "foreach (var solverID in mipSolverIDs)\n",
    "{\n",
    "    solvers.Add(($\"MIP Solver {solverID}\", new OrToolsMIPSolver { SolverID = solverID }));\n",
    "}\n",
    "\n",
    "foreach (var solverType in mipSolverTypes)\n",
    "{\n",
    "    solvers.Add(($\"MIP Solver {solverType}\", new OrToolsMIPSolver { OptimizationProblemType = solverType }));\n",
    "}\n",
    "\n",
    "// Utilisation des méthodes de benchmarking\n",
    "var results = SudokuHelper.TestSolvers(solvers);\n",
    "SudokuHelper.DisplayResults(results);\n"
   ]
  },
  {
   "cell_type": "markdown",
   "metadata": {},
   "source": [
    "### Conclusion Générale\n",
    "\n",
    "Les résultats des tests de performance montrent une distinction claire entre les solveurs simples plus efficaces sur les problèmes simples et et les solveurs plus sophistiqués qui passent devant sur les problèmes plus difficiles.\n",
    "\n",
    "Une observation clé de cette analyse est l'importance de la paramétrisation des solveurs. Les différents types de solveurs MIP et les stratégies de sélection de variables et de valeurs des solveurs CP peuvent considérablement influencer les performances. Par conséquent, il est crucial de sélectionner et de paramétrer les solveurs en fonction de la nature spécifique du problème à résoudre."
   ]
  }
 ],
 "metadata": {
  "kernelspec": {
   "display_name": ".NET (C#)",
   "language": "C#",
   "name": ".net-csharp"
  },
  "polyglot_notebook": {
   "kernelInfo": {
    "defaultKernelName": "csharp",
    "items": [
     {
      "aliases": [],
      "languageName": "csharp",
      "name": "csharp"
     }
    ]
   }
  }
 },
 "nbformat": 4,
 "nbformat_minor": 2
}
