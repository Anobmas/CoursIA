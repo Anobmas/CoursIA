{
 "cells": [
  {
   "cell_type": "markdown",
   "metadata": {},
   "source": [
    "# Résolution de Sudoku avec OR-Tools\n",
    "\n",
    "## Introduction\n",
    "\n",
    "Google OR-Tools est une suite de logiciels d'optimisation développée par Google. Elle permet de résoudre des problèmes complexes d'optimisation combinatoire tels que la satisfaction de contraintes (CSP), la programmation linéaire (LP), la programmation linéaire mixte (MIP), et bien plus. Dans ce projet, nous nous concentrerons sur la résolution de Sudokus en utilisant différentes techniques fournies par OR-Tools.\n",
    "\n",
    "### Types de Solveurs\n",
    "\n",
    "1. **Solveur de Satisfaction de Contraintes (CSP)** :\n",
    "   Ce solveur utilise des techniques de propagation de contraintes et de recherche pour trouver des solutions qui satisfont toutes les contraintes spécifiées.\n",
    "\n",
    "2. **Solveur de Programmation Linéaire Mixte (MIP)** :\n",
    "   Ce solveur combine la programmation linéaire avec des variables entières pour résoudre des problèmes d'optimisation. Il est particulièrement efficace pour les problèmes où certaines variables doivent être entières.\n",
    "\n",
    "Nous allons explorer ces deux solveurs pour résoudre des grilles de Sudoku et comparer leurs performances.\n",
    "\n",
    "## Installation de OR-Tools\n",
    "\n",
    "Pour utiliser OR-Tools avec C#, nous devons d'abord installer la bibliothèque. Vous pouvez suivre les instructions sur le site officiel de [Google OR-Tools](https://developers.google.com/optimization).\n",
    "\n",
    "### Installation de OR-Tools\n"
   ]
  },
  {
   "cell_type": "code",
   "execution_count": 17,
   "metadata": {
    "dotnet_interactive": {
     "language": "csharp"
    },
    "polyglot_notebook": {
     "kernelName": "csharp"
    }
   },
   "outputs": [
    {
     "data": {
      "text/html": [
       "<div><div></div><div></div><div><strong>Installed Packages</strong><ul><li><span>Google.OrTools, 9.10.4067</span></li></ul></div></div>"
      ]
     },
     "metadata": {},
     "output_type": "display_data"
    }
   ],
   "source": [
    "#r \"nuget: Google.OrTools\""
   ]
  },
  {
   "cell_type": "markdown",
   "metadata": {},
   "source": [
    "## Importation des Classes de Base\n",
    "\n",
    "Nous allons importer les classes de base définies dans le notebook précédent, fournissant notamment la représentation, le chargement et l'affichage de Sudokus, et l'infrastructure de résolution.\n"
   ]
  },
  {
   "cell_type": "code",
   "execution_count": 18,
   "metadata": {
    "dotnet_interactive": {
     "language": "csharp"
    },
    "polyglot_notebook": {
     "kernelName": "csharp"
    }
   },
   "outputs": [
    {
     "data": {
      "text/markdown": [
       "# Notebook 0: Classes de Base pour la Résolution de Sudoku\n",
       "\n",
       "Ce notebook contient les classes de base nécessaires pour la manipulation et la résolution des grilles de Sudoku. Il sera importé dans les autres notebooks pour réutiliser ces classes.\n",
       "\n",
       "## Importation des Bibliothèques Nécessaires\n",
       "\n",
       "Nous commençons par importer les bibliothèques nécessaires.\n"
      ]
     },
     "metadata": {},
     "output_type": "display_data"
    },
    {
     "data": {
      "text/markdown": [
       "## Définition de la classe SudokuGrid\n",
       "\n",
       "Nous définissons ici la classe SudokuGrid qui représente une grille de Sudoku et fournit des méthodes pour manipuler et afficher les grilles.\n"
      ]
     },
     "metadata": {},
     "output_type": "display_data"
    },
    {
     "data": {
      "text/markdown": [
       "## Définition de l'interface ISudokuSolver\n",
       "\n",
       "Nous définissons ici l'interface ISudokuSolver qui sera implémentée par les différentes stratégies de résolution de Sudoku.\n"
      ]
     },
     "metadata": {},
     "output_type": "display_data"
    },
    {
     "data": {
      "text/markdown": [
       "## Définition de la classe SudokuHelper\n",
       "\n",
       "Nous ajoutons ici la classe SudokuHelper qui contient des méthodes utilitaires pour charger et afficher des grilles de Sudoku.\n"
      ]
     },
     "metadata": {},
     "output_type": "display_data"
    },
    {
     "data": {
      "text/markdown": [
       "## Affichage des Puzzles de chaque Difficulté\n",
       "\n",
       "Nous allons charger et afficher un puzzle de chaque niveau de difficulté : Facile, Moyen et Difficile.\n"
      ]
     },
     "metadata": {},
     "output_type": "display_data"
    },
    {
     "data": {
      "text/plain": [
       "Puzzle Facile:\n",
       "-------------------------------\n",
       "| 9     2 |       5 | 4     3 | \n",
       "| 1       |    6  3 |    2  5 | \n",
       "| 5     8 | 4     7 |    6    | \n",
       "-------------------------------\n",
       "|    2  6 | 3     9 |       1 | \n",
       "|    5  7 |    1    | 2  9    | \n",
       "|    9    | 6  7    | 5  3    | \n",
       "-------------------------------\n",
       "| 2  4    | 5  3    | 6       | \n",
       "| 7     5 | 2       | 3     4 | \n",
       "|    8    |    4  1 | 9  5    | \n",
       "-------------------------------"
      ]
     },
     "metadata": {},
     "output_type": "display_data"
    },
    {
     "data": {
      "text/plain": [
       "Puzzle Moyen:\n",
       "-------------------------------\n",
       "| 8  5    |       2 | 4       | \n",
       "| 7  2    |         |       9 | \n",
       "|       4 |         |         | \n",
       "-------------------------------\n",
       "|         | 1     7 |       2 | \n",
       "| 3     5 |         | 9       | \n",
       "|    4    |         |         | \n",
       "-------------------------------\n",
       "|         |    8    |    7    | \n",
       "|    1  7 |         |         | \n",
       "|         |    3  6 |    4    | \n",
       "-------------------------------"
      ]
     },
     "metadata": {},
     "output_type": "display_data"
    },
    {
     "data": {
      "text/plain": [
       "Puzzle Difficile:\n",
       "-------------------------------\n",
       "| 4       |         | 8     5 | \n",
       "|    3    |         |         | \n",
       "|         | 7       |         | \n",
       "-------------------------------\n",
       "|    2    |         |    6    | \n",
       "|         |    8    | 4       | \n",
       "|         |    1    |         | \n",
       "-------------------------------\n",
       "|         | 6     3 |    7    | \n",
       "| 5       | 2       |         | \n",
       "| 1     4 |         |         | \n",
       "-------------------------------"
      ]
     },
     "metadata": {},
     "output_type": "display_data"
    }
   ],
   "source": [
    "#!import Sudoku-0-Environment.ipynb"
   ]
  },
  {
   "cell_type": "markdown",
   "metadata": {},
   "source": [
    "## Implémentations des Solveurs\n",
    "\n",
    "### Solveur par contraintes (CpSolver)\n",
    "\n",
    "L'algorithme de satisfaction de contraintes (CSP) utilise les contraintes pour réduire l'espace de recherche et trouver une solution qui satisfait toutes les contraintes du problème. Nous utilisons `CpSolver` d'OR-Tools pour cette implémentation.\n"
   ]
  },
  {
   "cell_type": "code",
   "execution_count": 19,
   "metadata": {
    "dotnet_interactive": {
     "language": "csharp"
    },
    "polyglot_notebook": {
     "kernelName": "csharp"
    }
   },
   "outputs": [],
   "source": [
    "using Google.OrTools.ConstraintSolver;\n",
    "using SimpleCPSolver = Google.OrTools.ConstraintSolver.Solver;\n",
    "using SimpleConstraint = Google.OrTools.ConstraintSolver.Constraint;\n",
    "\n",
    "public class OrToolsCpSolver : ISudokuSolver\n",
    "{\n",
    "    private const int GridSize = 9;\n",
    "\n",
    "    public SudokuGrid Solve(SudokuGrid s)\n",
    "    {\n",
    "        var solver = new SimpleCPSolver(\"CpSimple\");\n",
    "\n",
    "        IntVar[,] gridVars = new IntVar[GridSize, GridSize];\n",
    "        for (int i = 0; i < GridSize; i++)\n",
    "        {\n",
    "            for (int j = 0; j < GridSize; j++)\n",
    "            {\n",
    "                gridVars[i, j] = s.Cells[i, j] == 0 \n",
    "                                 ? solver.MakeIntVar(1, GridSize, $\"Cell({i},{j})\") \n",
    "                                 : solver.MakeIntConst(s.Cells[i, j]);\n",
    "            }\n",
    "        }\n",
    "\n",
    "\n",
    "        AddAllDifferentConstraints(solver, gridVars);\n",
    "\n",
    "        DecisionBuilder db = solver.MakePhase(gridVars.Flatten(), SimpleCPSolver.CHOOSE_FIRST_UNBOUND, SimpleCPSolver.ASSIGN_MIN_VALUE);\n",
    "\n",
    "        solver.NewSearch(db);\n",
    "        while (solver.NextSolution())\n",
    "        {\n",
    "            for (int i = 0; i < GridSize; i++)\n",
    "            {\n",
    "                for (int j = 0; j < GridSize; j++)\n",
    "                {\n",
    "                    s.Cells[i, j] = (int)gridVars[i, j].Value();\n",
    "                }\n",
    "            }\n",
    "        }\n",
    "\n",
    "        return s;\n",
    "    }\n",
    "\n",
    "   private void AddAllDifferentConstraints(SimpleCPSolver solver, IntVar[,] gridVars)\n",
    "    {\n",
    "        for (int i = 0; i < GridSize; i++)\n",
    "        {\n",
    "            solver.Add(AllDifferent(solver, GetRow(gridVars, i)));\n",
    "            solver.Add(AllDifferent(solver, GetColumn(gridVars, i)));\n",
    "        }\n",
    "\n",
    "        for (int i = 0; i < GridSize; i += 3)\n",
    "        {\n",
    "            for (int j = 0; j < GridSize; j += 3)\n",
    "            {\n",
    "                solver.Add(AllDifferent(solver, GetSubGrid(gridVars, i, j)));\n",
    "            }\n",
    "        }\n",
    "    }\n",
    "\n",
    "    private IntVar[] GetRow(IntVar[,] matrix, int row)\n",
    "    {\n",
    "        IntVar[] result = new IntVar[GridSize];\n",
    "        for (int col = 0; col < GridSize; col++)\n",
    "        {\n",
    "            result[col] = matrix[row, col];\n",
    "        }\n",
    "        return result;\n",
    "    }\n",
    "\n",
    "    private IntVar[] GetColumn(IntVar[,] matrix, int col)\n",
    "    {\n",
    "        IntVar[] result = new IntVar[GridSize];\n",
    "        for (int row = 0; row < GridSize; row++)\n",
    "        {\n",
    "            result[row] = matrix[row, col];\n",
    "        }\n",
    "        return result;\n",
    "    }\n",
    "\n",
    "    private IntVar[] GetSubGrid(IntVar[,] matrix, int startRow, int startCol)\n",
    "    {\n",
    "        IntVar[] result = new IntVar[GridSize];\n",
    "        int index = 0;\n",
    "        for (int i = 0; i < 3; i++)\n",
    "        {\n",
    "            for (int j = 0; j < 3; j++)\n",
    "            {\n",
    "                result[index++] = matrix[startRow + i, startCol + j];\n",
    "            }\n",
    "        }\n",
    "        return result;\n",
    "    }\n",
    "\n",
    "    private SimpleConstraint AllDifferent(SimpleCPSolver solver, IntVar[] vars)\n",
    "    {\n",
    "        return solver.MakeAllDifferent(vars);\n",
    "    }\n",
    "}"
   ]
  },
  {
   "cell_type": "markdown",
   "metadata": {},
   "source": [
    "### Tests du Solveur par contraintes\n",
    "\n",
    "Nous allons tester ce solveur sur une grille de Sudoku."
   ]
  },
  {
   "cell_type": "code",
   "execution_count": 20,
   "metadata": {
    "dotnet_interactive": {
     "language": "csharp"
    },
    "polyglot_notebook": {
     "kernelName": "csharp"
    }
   },
   "outputs": [
    {
     "name": "stdout",
     "output_type": "stream",
     "text": [
      "Puzzle Sudoku Facile Initial:\r\n"
     ]
    },
    {
     "data": {
      "text/plain": [
       "Résolution par le solver OrToolsCpSolver du Sudoku:\n",
       " -------------------------------\n",
       "| 9     2 |       5 | 4     3 | \n",
       "| 1       |    6  3 |    2  5 | \n",
       "| 5     8 | 4     7 |    6    | \n",
       "-------------------------------\n",
       "|    2  6 | 3     9 |       1 | \n",
       "|    5  7 |    1    | 2  9    | \n",
       "|    9    | 6  7    | 5  3    | \n",
       "-------------------------------\n",
       "| 2  4    | 5  3    | 6       | \n",
       "| 7     5 | 2       | 3     4 | \n",
       "|    8    |    4  1 | 9  5    | \n",
       "-------------------------------"
      ]
     },
     "metadata": {},
     "output_type": "display_data"
    },
    {
     "data": {
      "text/plain": [
       "Sudoku renvoyé:\n",
       "-------------------------------\n",
       "| 9  6  2 | 1  8  5 | 4  7  3 | \n",
       "| 1  7  4 | 9  6  3 | 8  2  5 | \n",
       "| 5  3  8 | 4  2  7 | 1  6  9 | \n",
       "-------------------------------\n",
       "| 8  2  6 | 3  5  9 | 7  4  1 | \n",
       "| 3  5  7 | 8  1  4 | 2  9  6 | \n",
       "| 4  9  1 | 6  7  2 | 5  3  8 | \n",
       "-------------------------------\n",
       "| 2  4  9 | 5  3  8 | 6  1  7 | \n",
       "| 7  1  5 | 2  9  6 | 3  8  4 | \n",
       "| 6  8  3 | 7  4  1 | 9  5  2 | \n",
       "-------------------------------\n",
       "Nombre d'erreurs réstantes: 0\n",
       "Temps de résolution: 1,8912 ms"
      ]
     },
     "metadata": {},
     "output_type": "display_data"
    },
    {
     "name": "stdout",
     "output_type": "stream",
     "text": [
      "Puzzle Sudoku Moyen Initial:\r\n"
     ]
    },
    {
     "data": {
      "text/plain": [
       "Résolution par le solver OrToolsCpSolver du Sudoku:\n",
       " -------------------------------\n",
       "| 8  5    |       2 | 4       | \n",
       "| 7  2    |         |       9 | \n",
       "|       4 |         |         | \n",
       "-------------------------------\n",
       "|         | 1     7 |       2 | \n",
       "| 3     5 |         | 9       | \n",
       "|    4    |         |         | \n",
       "-------------------------------\n",
       "|         |    8    |    7    | \n",
       "|    1  7 |         |         | \n",
       "|         |    3  6 |    4    | \n",
       "-------------------------------"
      ]
     },
     "metadata": {},
     "output_type": "display_data"
    },
    {
     "data": {
      "text/plain": [
       "Sudoku renvoyé:\n",
       "-------------------------------\n",
       "| 8  5  9 | 6  1  2 | 4  3  7 | \n",
       "| 7  2  3 | 8  5  4 | 1  6  9 | \n",
       "| 1  6  4 | 3  7  9 | 5  2  8 | \n",
       "-------------------------------\n",
       "| 9  8  6 | 1  4  7 | 3  5  2 | \n",
       "| 3  7  5 | 2  6  8 | 9  1  4 | \n",
       "| 2  4  1 | 5  9  3 | 7  8  6 | \n",
       "-------------------------------\n",
       "| 4  3  2 | 9  8  1 | 6  7  5 | \n",
       "| 6  1  7 | 4  2  5 | 8  9  3 | \n",
       "| 5  9  8 | 7  3  6 | 2  4  1 | \n",
       "-------------------------------\n",
       "Nombre d'erreurs réstantes: 0\n",
       "Temps de résolution: 2,0463 ms"
      ]
     },
     "metadata": {},
     "output_type": "display_data"
    },
    {
     "name": "stdout",
     "output_type": "stream",
     "text": [
      "Puzzle Sudoku Difficile Initial:\r\n"
     ]
    },
    {
     "data": {
      "text/plain": [
       "Résolution par le solver OrToolsCpSolver du Sudoku:\n",
       " -------------------------------\n",
       "| 4       |         | 8     5 | \n",
       "|    3    |         |         | \n",
       "|         | 7       |         | \n",
       "-------------------------------\n",
       "|    2    |         |    6    | \n",
       "|         |    8    | 4       | \n",
       "|         |    1    |         | \n",
       "-------------------------------\n",
       "|         | 6     3 |    7    | \n",
       "| 5       | 2       |         | \n",
       "| 1     4 |         |         | \n",
       "-------------------------------"
      ]
     },
     "metadata": {},
     "output_type": "display_data"
    },
    {
     "data": {
      "text/plain": [
       "Sudoku renvoyé:\n",
       "-------------------------------\n",
       "| 4  1  7 | 3  6  9 | 8  2  5 | \n",
       "| 6  3  2 | 1  5  8 | 9  4  7 | \n",
       "| 9  5  8 | 7  2  4 | 3  1  6 | \n",
       "-------------------------------\n",
       "| 8  2  5 | 4  3  7 | 1  6  9 | \n",
       "| 7  9  1 | 5  8  6 | 4  3  2 | \n",
       "| 3  4  6 | 9  1  2 | 7  5  8 | \n",
       "-------------------------------\n",
       "| 2  8  9 | 6  4  3 | 5  7  1 | \n",
       "| 5  7  3 | 2  9  1 | 6  8  4 | \n",
       "| 1  6  4 | 8  7  5 | 2  9  3 | \n",
       "-------------------------------\n",
       "Nombre d'erreurs réstantes: 0\n",
       "Temps de résolution: 27,1 ms"
      ]
     },
     "metadata": {},
     "output_type": "display_data"
    }
   ],
   "source": [
    "var cpSolver = new OrToolsCpSolver();\n",
    "\n",
    "var easySudoku = SudokuHelper.GetSudokus(SudokuDifficulty.Easy).FirstOrDefault();\n",
    "Console.WriteLine(\"Puzzle Sudoku Facile Initial:\");\n",
    "SudokuHelper.SolveSudoku(easySudoku, cpSolver);\n",
    "\n",
    "var mediumSudoku = SudokuHelper.GetSudokus(SudokuDifficulty.Medium).FirstOrDefault();\n",
    "Console.WriteLine(\"Puzzle Sudoku Moyen Initial:\");\n",
    "SudokuHelper.SolveSudoku(mediumSudoku, cpSolver);\n",
    "\n",
    "var hardSudoku = SudokuHelper.GetSudokus(SudokuDifficulty.Hard).FirstOrDefault();\n",
    "Console.WriteLine(\"Puzzle Sudoku Difficile Initial:\");\n",
    "SudokuHelper.SolveSudoku(hardSudoku, cpSolver);\n"
   ]
  },
  {
   "cell_type": "markdown",
   "metadata": {},
   "source": [
    "### Solveur MIP (Mixed-Integer Programming)\n",
    "\n",
    "L'algorithme de programmation linéaire mixte (MIP) combine la programmation linéaire et les variables entières pour résoudre des problèmes d'optimisation. Nous utilisons `Mixed-Integer Programming` d'OR-Tools pour cette implémentation.\n"
   ]
  },
  {
   "cell_type": "code",
   "execution_count": 21,
   "metadata": {
    "dotnet_interactive": {
     "language": "csharp"
    },
    "polyglot_notebook": {
     "kernelName": "csharp"
    }
   },
   "outputs": [],
   "source": [
    "using Google.OrTools.LinearSolver;\n",
    "using LinearSolver = Google.OrTools.LinearSolver.Solver;\n",
    "\n",
    "public class OrToolsMIPSolver : ISudokuSolver\n",
    "{\n",
    "    private const int GridSize = 9;\n",
    "\n",
    "    public SudokuGrid Solve(SudokuGrid s)\n",
    "    {\n",
    "        LinearSolver solver = LinearSolver.CreateSolver(\"SCIP\");\n",
    "        if (solver == null)\n",
    "        {\n",
    "            throw new InvalidOperationException(\"Solver initialization failed.\");\n",
    "        }\n",
    "\n",
    "        Variable[,,] cells = new Variable[GridSize, GridSize, GridSize];\n",
    "        InitializeVariables(s, solver, cells);\n",
    "\n",
    "        AddConstraints(solver, cells);\n",
    "\n",
    "        if (solver.Solve() != LinearSolver.ResultStatus.OPTIMAL)\n",
    "        {\n",
    "            throw new Exception(\"No solution found.\");\n",
    "        }\n",
    "\n",
    "        return ExtractSolution(s, cells);\n",
    "    }\n",
    "\n",
    "    private void InitializeVariables(SudokuGrid s, LinearSolver solver, Variable[,,] cells)\n",
    "    {\n",
    "        for (int i = 0; i < GridSize; i++)\n",
    "        {\n",
    "            for (int j = 0; j < GridSize; j++)\n",
    "            {\n",
    "                for (int k = 0; k < GridSize; k++)\n",
    "                {\n",
    "                    cells[i, j, k] = solver.MakeIntVar(0, 1, $\"Cell({i},{j},{k})\");\n",
    "                }\n",
    "                if (s.Cells[i, j] != 0)\n",
    "                {\n",
    "                    solver.Add(cells[i, j, s.Cells[i, j] - 1] == 1);\n",
    "                }\n",
    "            }\n",
    "        }\n",
    "    }\n",
    "\n",
    "    private void AddConstraints(LinearSolver solver, Variable[,,] cells)\n",
    "    {\n",
    "        for (int i = 0; i < GridSize; i++)\n",
    "        {\n",
    "            for (int j = 0; j < GridSize; j++)\n",
    "            {\n",
    "                solver.Add(Sum(solver, Enumerable.Range(0, GridSize).Select(k => cells[i, j, k])) == 1);\n",
    "            }\n",
    "        }\n",
    "\n",
    "        for (int k = 0; k < GridSize; k++)\n",
    "        {\n",
    "            for (int i = 0; i < GridSize; i++)\n",
    "            {\n",
    "                solver.Add(Sum(solver, Enumerable.Range(0, GridSize).Select(j => cells[i, j, k])) == 1);\n",
    "                solver.Add(Sum(solver, Enumerable.Range(0, GridSize).Select(j => cells[j, i, k])) == 1);\n",
    "            }\n",
    "        }\n",
    "\n",
    "        for (int k = 0; k < GridSize; k++)\n",
    "        {\n",
    "            for (int i = 0; i < GridSize; i += 3)\n",
    "            {\n",
    "                for (int j = 0; j < GridSize; j += 3)\n",
    "                {\n",
    "                    solver.Add(Sum(solver, Enumerable.Range(0, 3).SelectMany(row => Enumerable.Range(0, 3).Select(col => cells[i + row, j + col, k]))) == 1);\n",
    "                }\n",
    "            }\n",
    "        }\n",
    "    }\n",
    "\n",
    "    private LinearExpr Sum(LinearSolver solver, IEnumerable<Variable> vars)\n",
    "    {\n",
    "        LinearExpr sum = new();\n",
    "        foreach (var v in vars)\n",
    "        {\n",
    "            sum += v;\n",
    "        }\n",
    "        return sum;\n",
    "    }\n",
    "\n",
    "    private SudokuGrid ExtractSolution(SudokuGrid s, Variable[,,] cells)\n",
    "    {\n",
    "        SudokuGrid solution = new SudokuGrid();\n",
    "        for (int i = 0; i < GridSize; i++)\n",
    "        {\n",
    "            for (int j = 0; j < GridSize; j++)\n",
    "            {\n",
    "                for (int k = 0; k < GridSize; k++)\n",
    "                {\n",
    "                    if (cells[i, j, k].SolutionValue() == 1)\n",
    "                    {\n",
    "                        solution.Cells[i, j] = k + 1;\n",
    "                    }\n",
    "                }\n",
    "            }\n",
    "        }\n",
    "        return solution;\n",
    "    }\n",
    "}\n",
    "\n"
   ]
  },
  {
   "cell_type": "markdown",
   "metadata": {},
   "source": [
    "### Tests des Solveurs\n",
    "\n",
    "Nous allons maintenant tester les solveurs implémentés sur des grilles de Sudoku de différentes difficultés : Facile, Moyen et Difficile. Nous mesurerons également le temps de résolution et vérifierons la validité des solutions trouvées.\n"
   ]
  },
  {
   "cell_type": "code",
   "execution_count": 23,
   "metadata": {},
   "outputs": [
    {
     "name": "stdout",
     "output_type": "stream",
     "text": [
      "Résolution par le solver OrToolsCpSolver du Sudoku Easy:\r\n"
     ]
    },
    {
     "data": {
      "text/plain": [
       "Résolution par le solver OrToolsCpSolver du Sudoku:\n",
       " -------------------------------\n",
       "| 9     2 |       5 | 4     3 | \n",
       "| 1       |    6  3 |    2  5 | \n",
       "| 5     8 | 4     7 |    6    | \n",
       "-------------------------------\n",
       "|    2  6 | 3     9 |       1 | \n",
       "|    5  7 |    1    | 2  9    | \n",
       "|    9    | 6  7    | 5  3    | \n",
       "-------------------------------\n",
       "| 2  4    | 5  3    | 6       | \n",
       "| 7     5 | 2       | 3     4 | \n",
       "|    8    |    4  1 | 9  5    | \n",
       "-------------------------------"
      ]
     },
     "metadata": {},
     "output_type": "display_data"
    },
    {
     "data": {
      "text/plain": [
       "Sudoku renvoyé:\n",
       "-------------------------------\n",
       "| 9  6  2 | 1  8  5 | 4  7  3 | \n",
       "| 1  7  4 | 9  6  3 | 8  2  5 | \n",
       "| 5  3  8 | 4  2  7 | 1  6  9 | \n",
       "-------------------------------\n",
       "| 8  2  6 | 3  5  9 | 7  4  1 | \n",
       "| 3  5  7 | 8  1  4 | 2  9  6 | \n",
       "| 4  9  1 | 6  7  2 | 5  3  8 | \n",
       "-------------------------------\n",
       "| 2  4  9 | 5  3  8 | 6  1  7 | \n",
       "| 7  1  5 | 2  9  6 | 3  8  4 | \n",
       "| 6  8  3 | 7  4  1 | 9  5  2 | \n",
       "-------------------------------\n",
       "Nombre d'erreurs réstantes: 0\n",
       "Temps de résolution: 1,0297 ms"
      ]
     },
     "metadata": {},
     "output_type": "display_data"
    },
    {
     "name": "stdout",
     "output_type": "stream",
     "text": [
      "Résolution par le solver OrToolsMIPSolver (SCIP) du Sudoku Easy:\r\n"
     ]
    },
    {
     "data": {
      "text/plain": [
       "Résolution par le solver OrToolsMIPSolver du Sudoku:\n",
       " -------------------------------\n",
       "| 9     2 |       5 | 4     3 | \n",
       "| 1       |    6  3 |    2  5 | \n",
       "| 5     8 | 4     7 |    6    | \n",
       "-------------------------------\n",
       "|    2  6 | 3     9 |       1 | \n",
       "|    5  7 |    1    | 2  9    | \n",
       "|    9    | 6  7    | 5  3    | \n",
       "-------------------------------\n",
       "| 2  4    | 5  3    | 6       | \n",
       "| 7     5 | 2       | 3     4 | \n",
       "|    8    |    4  1 | 9  5    | \n",
       "-------------------------------"
      ]
     },
     "metadata": {},
     "output_type": "display_data"
    },
    {
     "data": {
      "text/plain": [
       "Sudoku renvoyé:\n",
       "-------------------------------\n",
       "| 9  6  2 | 1  8  5 | 4  7  3 | \n",
       "| 1  7  4 | 9  6  3 | 8  2  5 | \n",
       "| 5  3  8 | 4  2  7 | 1  6  9 | \n",
       "-------------------------------\n",
       "| 8  2  6 | 3  5  9 | 7  4  1 | \n",
       "| 3  5  7 | 8  1  4 | 2  9  6 | \n",
       "| 4  9  1 | 6  7  2 | 5  3  8 | \n",
       "-------------------------------\n",
       "| 2  4  9 | 5  3  8 | 6  1  7 | \n",
       "| 7  1  5 | 2  9  6 | 3  8  4 | \n",
       "| 6  8  3 | 7  4  1 | 9  5  2 | \n",
       "-------------------------------\n",
       "Nombre d'erreurs réstantes: 0\n",
       "Temps de résolution: 8,0337 ms"
      ]
     },
     "metadata": {},
     "output_type": "display_data"
    },
    {
     "name": "stdout",
     "output_type": "stream",
     "text": [
      "Résolution par le solver OrToolsCpSolver du Sudoku Medium:\r\n"
     ]
    },
    {
     "data": {
      "text/plain": [
       "Résolution par le solver OrToolsCpSolver du Sudoku:\n",
       " -------------------------------\n",
       "| 8  5    |       2 | 4       | \n",
       "| 7  2    |         |       9 | \n",
       "|       4 |         |         | \n",
       "-------------------------------\n",
       "|         | 1     7 |       2 | \n",
       "| 3     5 |         | 9       | \n",
       "|    4    |         |         | \n",
       "-------------------------------\n",
       "|         |    8    |    7    | \n",
       "|    1  7 |         |         | \n",
       "|         |    3  6 |    4    | \n",
       "-------------------------------"
      ]
     },
     "metadata": {},
     "output_type": "display_data"
    },
    {
     "data": {
      "text/plain": [
       "Sudoku renvoyé:\n",
       "-------------------------------\n",
       "| 8  5  9 | 6  1  2 | 4  3  7 | \n",
       "| 7  2  3 | 8  5  4 | 1  6  9 | \n",
       "| 1  6  4 | 3  7  9 | 5  2  8 | \n",
       "-------------------------------\n",
       "| 9  8  6 | 1  4  7 | 3  5  2 | \n",
       "| 3  7  5 | 2  6  8 | 9  1  4 | \n",
       "| 2  4  1 | 5  9  3 | 7  8  6 | \n",
       "-------------------------------\n",
       "| 4  3  2 | 9  8  1 | 6  7  5 | \n",
       "| 6  1  7 | 4  2  5 | 8  9  3 | \n",
       "| 5  9  8 | 7  3  6 | 2  4  1 | \n",
       "-------------------------------\n",
       "Nombre d'erreurs réstantes: 0\n",
       "Temps de résolution: 1,7296 ms"
      ]
     },
     "metadata": {},
     "output_type": "display_data"
    },
    {
     "name": "stdout",
     "output_type": "stream",
     "text": [
      "Résolution par le solver OrToolsMIPSolver (SCIP) du Sudoku Medium:\r\n"
     ]
    },
    {
     "data": {
      "text/plain": [
       "Résolution par le solver OrToolsMIPSolver du Sudoku:\n",
       " -------------------------------\n",
       "| 8  5    |       2 | 4       | \n",
       "| 7  2    |         |       9 | \n",
       "|       4 |         |         | \n",
       "-------------------------------\n",
       "|         | 1     7 |       2 | \n",
       "| 3     5 |         | 9       | \n",
       "|    4    |         |         | \n",
       "-------------------------------\n",
       "|         |    8    |    7    | \n",
       "|    1  7 |         |         | \n",
       "|         |    3  6 |    4    | \n",
       "-------------------------------"
      ]
     },
     "metadata": {},
     "output_type": "display_data"
    },
    {
     "data": {
      "text/plain": [
       "Sudoku renvoyé:\n",
       "-------------------------------\n",
       "| 8  5  9 | 6  1  2 | 4  3  7 | \n",
       "| 7  2  3 | 8  5  4 | 1  6  9 | \n",
       "| 1  6  4 | 3  7  9 | 5  2  8 | \n",
       "-------------------------------\n",
       "| 9  8  6 | 1  4  7 | 3  5  2 | \n",
       "| 3  7  5 | 2  6  8 | 9  1  4 | \n",
       "| 2  4  1 | 5  9  3 | 7  8  6 | \n",
       "-------------------------------\n",
       "| 4  3  2 | 9  8  1 | 6  7  5 | \n",
       "| 6  1  7 | 4  2  5 | 8  9  3 | \n",
       "| 5  9  8 | 7  3  6 | 2  4  1 | \n",
       "-------------------------------\n",
       "Nombre d'erreurs réstantes: 0\n",
       "Temps de résolution: 8,8427 ms"
      ]
     },
     "metadata": {},
     "output_type": "display_data"
    },
    {
     "name": "stdout",
     "output_type": "stream",
     "text": [
      "Résolution par le solver OrToolsCpSolver du Sudoku Hard:\r\n"
     ]
    },
    {
     "data": {
      "text/plain": [
       "Résolution par le solver OrToolsCpSolver du Sudoku:\n",
       " -------------------------------\n",
       "| 4       |         | 8     5 | \n",
       "|    3    |         |         | \n",
       "|         | 7       |         | \n",
       "-------------------------------\n",
       "|    2    |         |    6    | \n",
       "|         |    8    | 4       | \n",
       "|         |    1    |         | \n",
       "-------------------------------\n",
       "|         | 6     3 |    7    | \n",
       "| 5       | 2       |         | \n",
       "| 1     4 |         |         | \n",
       "-------------------------------"
      ]
     },
     "metadata": {},
     "output_type": "display_data"
    },
    {
     "data": {
      "text/plain": [
       "Sudoku renvoyé:\n",
       "-------------------------------\n",
       "| 4  1  7 | 3  6  9 | 8  2  5 | \n",
       "| 6  3  2 | 1  5  8 | 9  4  7 | \n",
       "| 9  5  8 | 7  2  4 | 3  1  6 | \n",
       "-------------------------------\n",
       "| 8  2  5 | 4  3  7 | 1  6  9 | \n",
       "| 7  9  1 | 5  8  6 | 4  3  2 | \n",
       "| 3  4  6 | 9  1  2 | 7  5  8 | \n",
       "-------------------------------\n",
       "| 2  8  9 | 6  4  3 | 5  7  1 | \n",
       "| 5  7  3 | 2  9  1 | 6  8  4 | \n",
       "| 1  6  4 | 8  7  5 | 2  9  3 | \n",
       "-------------------------------\n",
       "Nombre d'erreurs réstantes: 0\n",
       "Temps de résolution: 29,8822 ms"
      ]
     },
     "metadata": {},
     "output_type": "display_data"
    },
    {
     "name": "stdout",
     "output_type": "stream",
     "text": [
      "Résolution par le solver OrToolsMIPSolver (SCIP) du Sudoku Hard:\r\n"
     ]
    },
    {
     "data": {
      "text/plain": [
       "Résolution par le solver OrToolsMIPSolver du Sudoku:\n",
       " -------------------------------\n",
       "| 4       |         | 8     5 | \n",
       "|    3    |         |         | \n",
       "|         | 7       |         | \n",
       "-------------------------------\n",
       "|    2    |         |    6    | \n",
       "|         |    8    | 4       | \n",
       "|         |    1    |         | \n",
       "-------------------------------\n",
       "|         | 6     3 |    7    | \n",
       "| 5       | 2       |         | \n",
       "| 1     4 |         |         | \n",
       "-------------------------------"
      ]
     },
     "metadata": {},
     "output_type": "display_data"
    },
    {
     "data": {
      "text/plain": [
       "Sudoku renvoyé:\n",
       "-------------------------------\n",
       "| 4  1  7 | 3  6  9 | 8  2  5 | \n",
       "| 6  3  2 | 1  5  8 | 9  4  7 | \n",
       "| 9  5  8 | 7  2  4 | 3  1  6 | \n",
       "-------------------------------\n",
       "| 8  2  5 | 4  3  7 | 1  6  9 | \n",
       "| 7  9  1 | 5  8  6 | 4  3  2 | \n",
       "| 3  4  6 | 9  1  2 | 7  5  8 | \n",
       "-------------------------------\n",
       "| 2  8  9 | 6  4  3 | 5  7  1 | \n",
       "| 5  7  3 | 2  9  1 | 6  8  4 | \n",
       "| 1  6  4 | 8  7  5 | 2  9  3 | \n",
       "-------------------------------\n",
       "Nombre d'erreurs réstantes: 0\n",
       "Temps de résolution: 10,5879 ms"
      ]
     },
     "metadata": {},
     "output_type": "display_data"
    }
   ],
   "source": [
    "var cpSolver = new OrToolsCpSolver();\n",
    "var mipSolver = new OrToolsMIPSolver();\n",
    "\n",
    "void TestSolver(ISudokuSolver solver, SudokuDifficulty difficulty, string solverName)\n",
    "{\n",
    "    var sudoku = SudokuHelper.GetSudokus(difficulty).FirstOrDefault();\n",
    "    Console.WriteLine($\"Résolution par le {solverName} du Sudoku {difficulty}:\");\n",
    "    SudokuHelper.SolveSudoku(sudoku, solver);\n",
    "}\n",
    "\n",
    "TestSolver(cpSolver, SudokuDifficulty.Easy, \"solver OrToolsCpSolver\");\n",
    "TestSolver(mipSolver, SudokuDifficulty.Easy, \"solver OrToolsMIPSolver (SCIP)\");\n",
    "TestSolver(cpSolver, SudokuDifficulty.Medium, \"solver OrToolsCpSolver\");\n",
    "TestSolver(mipSolver, SudokuDifficulty.Medium, \"solver OrToolsMIPSolver (SCIP)\");\n",
    "TestSolver(cpSolver, SudokuDifficulty.Hard, \"solver OrToolsCpSolver\");\n",
    "TestSolver(mipSolver, SudokuDifficulty.Hard, \"solver OrToolsMIPSolver (SCIP)\");\n"
   ]
  }
 ],
 "metadata": {
  "kernelspec": {
   "display_name": ".NET (C#)",
   "language": "C#",
   "name": ".net-csharp"
  },
  "polyglot_notebook": {
   "kernelInfo": {
    "defaultKernelName": "csharp",
    "items": [
     {
      "aliases": [],
      "languageName": "csharp",
      "name": "csharp"
     }
    ]
   }
  }
 },
 "nbformat": 4,
 "nbformat_minor": 2
}
