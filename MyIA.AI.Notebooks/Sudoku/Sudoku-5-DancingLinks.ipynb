{
 "cells": [
  {
   "cell_type": "markdown",
   "metadata": {},
   "source": [
    "# Notebook pour la Résolution de Sudoku avec DancingLinks\n",
    "\n",
    "Ce notebook présentera deux approches pour résoudre des puzzles de Sudoku en utilisant l'algorithme Dancing Links (DLX). Nous explorerons d'abord une solution basée sur la bibliothèque `DlxLib`, puis une solution optimisée développée from scratch.\n",
    "\n",
    "## 1. Introduction à Dancing Links\n",
    "\n",
    "Dancing Links (DLX) est une technique efficace pour résoudre des problèmes exact cover, popularisée par Donald Knuth. Elle est souvent utilisée pour des problèmes comme le Sudoku, où l'objectif est de couvrir toutes les contraintes avec un ensemble de solutions possibles.\n",
    "\n",
    "**Références :**\n",
    "- [Dancing Links Algorithm](https://en.wikipedia.org/wiki/Dancing_Links)\n",
    "- [DLXLib Documentation](https://github.com/tomerfiliba/dlx)\n",
    "\n",
    "## 2. Configuration de l'environnement\n",
    "\n",
    "Installez les packages nécessaires pour ce notebook :"
   ]
  },
  {
   "cell_type": "code",
   "execution_count": 19,
   "metadata": {
    "dotnet_interactive": {
     "language": "csharp"
    },
    "polyglot_notebook": {
     "kernelName": "csharp"
    }
   },
   "outputs": [
    {
     "data": {
      "text/html": [
       "<div><div></div><div></div><div><strong>Installed Packages</strong><ul><li><span>DlxLib, 1.3.0</span></li></ul></div></div>"
      ]
     },
     "metadata": {},
     "output_type": "display_data"
    }
   ],
   "source": [
    "#r \"nuget: DlxLib\""
   ]
  },
  {
   "cell_type": "markdown",
   "metadata": {},
   "source": [
    "### Importation des Classes de Base\n",
    "\n",
    "Nous allons importer les classes de base définies dans le notebook précédent, fournissant notamment la représentation, le chargement et l'affichage de Sudokus, et l'infrastructure de résolution.\n"
   ]
  },
  {
   "cell_type": "code",
   "execution_count": 20,
   "metadata": {},
   "outputs": [
    {
     "data": {
      "text/markdown": [
       "# Notebook 0: Classes de Base pour la Résolution de Sudoku\n",
       "\n",
       "Ce notebook contient les classes de base nécessaires pour la manipulation et la résolution des grilles de Sudoku. Il sera importé dans les autres notebooks pour réutiliser ces classes.\n",
       "\n",
       "## Importation des Bibliothèques Nécessaires\n",
       "\n",
       "Nous commençons par importer les bibliothèques nécessaires.\n"
      ]
     },
     "metadata": {},
     "output_type": "display_data"
    },
    {
     "data": {
      "text/html": [
       "<div><div></div><div></div><div><strong>Installed Packages</strong><ul><li><span>XPlot.Plotly.Interactive, 4.1.0</span></li></ul></div></div>"
      ]
     },
     "metadata": {},
     "output_type": "display_data"
    },
    {
     "data": {
      "text/plain": [
       "Loading extensions from `C:\\Users\\Administrateur.000\\.nuget\\packages\\xplot.plotly.interactive\\4.1.0\\lib\\net7.0\\XPlot.Plotly.Interactive.dll`"
      ]
     },
     "metadata": {},
     "output_type": "display_data"
    },
    {
     "data": {
      "text/markdown": [
       "Configuring PowerShell Kernel for XPlot.Plotly integration."
      ]
     },
     "metadata": {},
     "output_type": "display_data"
    },
    {
     "data": {
      "text/markdown": [
       "Installed support for XPlot.Plotly."
      ]
     },
     "metadata": {},
     "output_type": "display_data"
    },
    {
     "data": {
      "text/markdown": [
       "## Définition de la classe SudokuGrid\n",
       "\n",
       "Nous définissons ici la classe SudokuGrid qui représente une grille de Sudoku et fournit des méthodes pour manipuler et afficher les grilles.\n"
      ]
     },
     "metadata": {},
     "output_type": "display_data"
    },
    {
     "data": {
      "text/markdown": [
       "## Définition de l'interface ISudokuSolver\n",
       "\n",
       "Nous définissons ici l'interface ISudokuSolver qui sera implémentée par les différentes stratégies de résolution de Sudoku.\n"
      ]
     },
     "metadata": {},
     "output_type": "display_data"
    },
    {
     "data": {
      "text/markdown": [
       "## Définition de la classe SudokuHelper\n",
       "\n",
       "Nous ajoutons ici la classe SudokuHelper qui contient des méthodes utilitaires pour charger  des grilles de Sudoku et tester des solvers.\n",
       "\n",
       "- `GetSudokus` : Renvoie des listes de Sudoku issues de fichiers de 3 difficultés différentes.\n",
       "- `SolveSudoku` : effectue un test simple d'un solver sur un sudoku donné.\n",
       "- `TestSolvers` : exécute les tests de performance sur plusieurs solveurs.\n",
       "- `DisplayResults` : affiche les résultats des tests sous forme de graphiques.\n",
       "\n"
      ]
     },
     "metadata": {},
     "output_type": "display_data"
    }
   ],
   "source": [
    "#!import Sudoku-0-Environment.ipynb"
   ]
  },
  {
   "cell_type": "markdown",
   "metadata": {},
   "source": [
    "## 3. Implémentation avec DLXLib\n",
    "\n",
    "Nous allons commencer par implémenter le solver en utilisant la bibliothèque `DlxLib`."
   ]
  },
  {
   "cell_type": "code",
   "execution_count": 21,
   "metadata": {},
   "outputs": [],
   "source": [
    "using System;\n",
    "using System.Collections.Generic;\n",
    "using System.Collections.Immutable;\n",
    "using DlxLib;\n",
    "\n",
    "public class DancingLinkSolver : ISudokuSolver\n",
    "{\n",
    "    public SudokuGrid Solve(SudokuGrid s)\n",
    "    {\n",
    "        var internalRows = BuildInternalRowsForGrid(s);\n",
    "        var dlxRows = BuildDlxRows(internalRows);\n",
    "        var solutions = new Dlx()\n",
    "            .Solve(dlxRows, d => d, r => r)\n",
    "            .ToImmutableList();\n",
    "\n",
    "        return SolutionToGrid(internalRows, solutions.First());\n",
    "    }\n",
    "    \n",
    "    private static IImmutableList<Tuple<int, int, int, bool>> BuildInternalRowsForGrid(SudokuGrid grid)\n",
    "    {\n",
    "        var internalRows = new List<Tuple<int, int, int, bool>>();\n",
    "        for (int row = 0; row < 9; row++)\n",
    "        {\n",
    "            for (int col = 0; col < 9; col++)\n",
    "            {\n",
    "                int value = grid.Cells[row, col];\n",
    "                internalRows.AddRange(BuildInternalRowsForCell(row, col, value));\n",
    "            }\n",
    "        }\n",
    "        return internalRows.ToImmutableList();\n",
    "    }\n",
    "\n",
    "    private static IImmutableList<Tuple<int, int, int, bool>> BuildInternalRowsForCell(int row, int col, int value)\n",
    "    {\n",
    "        if (value >= 1 && value <= 9)\n",
    "        {\n",
    "            return ImmutableList.Create(Tuple.Create(row, col, value, true));\n",
    "        }\n",
    "        else\n",
    "        {\n",
    "            var internalRows = new List<Tuple<int, int, int, bool>>(9);\n",
    "            for (int v = 1; v <= 9; v++)\n",
    "            {\n",
    "                internalRows.Add(Tuple.Create(row, col, v, false));\n",
    "            }\n",
    "            return internalRows.ToImmutableList();\n",
    "        }\n",
    "    }\n",
    "\n",
    "    private static IImmutableList<IImmutableList<int>> BuildDlxRows(IEnumerable<Tuple<int, int, int, bool>> internalRows)\n",
    "    {\n",
    "        var dlxRows = new List<IImmutableList<int>>();\n",
    "        foreach (var internalRow in internalRows)\n",
    "        {\n",
    "            dlxRows.Add(BuildDlxRow(internalRow));\n",
    "        }\n",
    "        return dlxRows.ToImmutableList();\n",
    "    }\n",
    "\n",
    "    private static IImmutableList<int> BuildDlxRow(Tuple<int, int, int, bool> internalRow)\n",
    "    {\n",
    "        var row = internalRow.Item1;\n",
    "        var col = internalRow.Item2;\n",
    "        var value = internalRow.Item3;\n",
    "        var box = RowColToBox(row, col);\n",
    "        var result = new int[4 * 9 * 9];\n",
    "        result[row * 9 + col] = 1; \n",
    "        result[9 * 9 + row * 9 + value - 1] = 1;\n",
    "        result[2 * 9 * 9 + col * 9 + value - 1] = 1;\n",
    "        result[3 * 9 * 9 + box * 9 + value - 1] = 1;\n",
    "        return result.ToImmutableList();\n",
    "    }\n",
    "\n",
    "    private static int RowColToBox(int row, int col)\n",
    "    {\n",
    "        return row - (row % 3) + (col / 3);\n",
    "    }\n",
    "\n",
    "    private static SudokuGrid SolutionToGrid(\n",
    "        IReadOnlyList<Tuple<int, int, int, bool>> internalRows,\n",
    "        Solution solution)\n",
    "    {\n",
    "        var grid = new int[9, 9];\n",
    "        foreach (var (row, col, value, _) in solution.RowIndexes.Select(rowIndex => internalRows[rowIndex]))\n",
    "        {\n",
    "            grid[row, col] = value;\n",
    "        }\n",
    "        return new SudokuGrid { Cells = grid };\n",
    "    }\n",
    "}"
   ]
  },
  {
   "cell_type": "markdown",
   "metadata": {},
   "source": [
    "## 4. Implémentation Optimisée from Scratch\n",
    "\n",
    "Nous allons maintenant implémenter une version optimisée de l'algorithme DLX."
   ]
  },
  {
   "cell_type": "code",
   "execution_count": 22,
   "metadata": {},
   "outputs": [],
   "source": [
    "public class DlxCustomized\n",
    "{\n",
    "    class NodeHead : Node\n",
    "    {\n",
    "        internal int size;\n",
    "\n",
    "        public NodeHead() : base(null) { }\n",
    "    }\n",
    "\n",
    "    class Node\n",
    "    {\n",
    "        internal Node right = null;\n",
    "        internal Node left = null;\n",
    "        internal Node up = null;\n",
    "        internal Node down = null;\n",
    "        internal NodeHead nodeHead = null;\n",
    "        \n",
    "        internal int rowIndex;\n",
    "        internal int column ;\n",
    "        \n",
    "        internal int value;\n",
    "\n",
    "        public Node(NodeHead t)\n",
    "        {\n",
    "            nodeHead = t;\n",
    "        }\n",
    "    }\n",
    "    \n",
    "    private NodeHead root;\n",
    "    private bool stop = false;\n",
    "    private LinkedList<Node> solutions = new LinkedList<Node>();\n",
    "    private SudokuGrid sudoku;\n",
    "    \n",
    "    public DlxCustomized(SudokuGrid sudokuGrid)\n",
    "    {\n",
    "        sudoku = sudokuGrid;\n",
    "        root = new NodeHead();\n",
    "        root.right = root;\n",
    "        root.left = root;\n",
    "    }\n",
    "\n",
    "    public SudokuGrid Solve()\n",
    "    {\n",
    "        Init();\n",
    "        search();\n",
    "        foreach(Node node in solutions)\n",
    "        {\n",
    "            sudoku.Cells[node.rowIndex, node.column] = node.value;\n",
    "        }\n",
    "        return sudoku;\n",
    "    }\n",
    "    \n",
    "    public void Init()\n",
    "    {\n",
    "        Node[] tmp = new Node[9 * 9 * 4];\n",
    "        root = new NodeHead();\n",
    "        Node currentNode = root;\n",
    "        \n",
    "        for (int j = 0; j < 324; j++)\n",
    "        {\n",
    "            currentNode.right = new NodeHead();\n",
    "            currentNode.right.left = currentNode;\n",
    "            currentNode = currentNode.right;\n",
    "            currentNode.rowIndex = j;\n",
    "            currentNode.up = currentNode;\n",
    "            currentNode.down = currentNode;\n",
    "            tmp[j] = currentNode;\n",
    "        }\n",
    "        currentNode.right = root;\n",
    "        root.left = currentNode;\n",
    "\n",
    "        int imatrix = 0;\n",
    "        for (int i = 0; i < 9; i++)\n",
    "        {\n",
    "            for (int j = 0; j < 9; j++)\n",
    "            {\n",
    "                int value = sudoku.Cells[i ,j];\n",
    "                Node tmpRCCNode, tmpRNCNode, tmpCNCNode, tmpBNCNode;\n",
    "                \n",
    "                if (value == 0)\n",
    "                {\n",
    "                    value = 1;\n",
    "                    int RCC = 9 * i + j;\n",
    "                    int RNC = 81 + 9 * i + value - 1;\n",
    "                    int CNC = 162 + 9 * j + value - 1;\n",
    "                    int BNC = 243 + ((i / 3) * 3 + j / 3) * 9 + value - 1;\n",
    "                    int end = imatrix + 9;\n",
    "                    for (; imatrix < end; imatrix++)\n",
    "                    {\n",
    "                        tmpRCCNode = new Node((NodeHead)tmp[RCC].down);\n",
    "                        tmpRNCNode = new Node((NodeHead)tmp[RNC].down);\n",
    "                        tmpCNCNode = new Node((NodeHead)tmp[CNC].down);\n",
    "                        tmpBNCNode = new Node((NodeHead)tmp[BNC].down);\n",
    "                        tmpRCCNode.rowIndex = i;\n",
    "                        tmpRCCNode.column = j;\n",
    "                        tmpRCCNode.value = value;\n",
    "                        tmpRNCNode.rowIndex = i;\n",
    "                        tmpRNCNode.column = j;\n",
    "                        tmpRNCNode.value = value;\n",
    "                        tmpCNCNode.rowIndex = i;\n",
    "                        tmpCNCNode.column = j;\n",
    "                        tmpCNCNode.value = value;\n",
    "                        tmpBNCNode.rowIndex = i;\n",
    "                        tmpBNCNode.column = j;\n",
    "                        tmpBNCNode.value = value++;\n",
    "                        ((NodeHead)tmp[RCC].down).size++;\n",
    "                        ((NodeHead)tmp[RNC].down).size++;\n",
    "                        ((NodeHead)tmp[CNC].down).size++;\n",
    "                        ((NodeHead)tmp[BNC].down).size++;\n",
    "                        tmpRCCNode.right = tmpRNCNode;\n",
    "                        tmpRNCNode.right = tmpCNCNode;\n",
    "                        tmpCNCNode.right = tmpBNCNode;\n",
    "                        tmpBNCNode.right = tmpRCCNode;\n",
    "                        tmpBNCNode.left = tmpCNCNode;\n",
    "                        tmpCNCNode.left = tmpRNCNode;\n",
    "                        tmpRNCNode.left = tmpRCCNode;\n",
    "                        tmpRCCNode.left = tmpBNCNode;\n",
    "                        tmpRCCNode.up = tmp[RCC];\n",
    "                        tmpRCCNode.down = tmp[RCC].down;\n",
    "                        tmp[RCC].down = tmpRCCNode;\n",
    "                        tmp[RCC] = tmpRCCNode;\n",
    "                        tmpRNCNode.up = tmp[RNC];\n",
    "                        tmpRNCNode.down = tmp[RNC].down;\n",
    "                        tmp[RNC].down = tmpRNCNode;\n",
    "                        tmp[RNC++] = tmpRNCNode;\n",
    "                        tmpCNCNode.up = tmp[CNC];\n",
    "                        tmpCNCNode.down\n",
    "\n",
    " = tmp[CNC].down;\n",
    "                        tmp[CNC].down = tmpCNCNode;\n",
    "                        tmp[CNC++] = tmpCNCNode;\n",
    "                        tmpBNCNode.up = tmp[BNC];\n",
    "                        tmpBNCNode.down = tmp[BNC].down;\n",
    "                        tmp[BNC].down = tmpBNCNode;\n",
    "                        tmp[BNC++] = tmpBNCNode;\n",
    "                    }\n",
    "                }\n",
    "                else\n",
    "                {\n",
    "                    int RCC = 9 * i + j;\n",
    "                    int RNC = 81 + 9 * i + value - 1;\n",
    "                    int CNC = 162 + 9 * j + value - 1;\n",
    "                    int BNC = 243 + ((i / 3) * 3 + j / 3) * 9 + value - 1;\n",
    "                    tmpRCCNode = new Node((NodeHead)tmp[RCC].down);\n",
    "                    tmpRNCNode = new Node((NodeHead)tmp[RNC].down);\n",
    "                    tmpCNCNode = new Node((NodeHead)tmp[CNC].down);\n",
    "                    tmpBNCNode = new Node((NodeHead)tmp[BNC].down);\n",
    "                    tmpRCCNode.rowIndex = i;\n",
    "                    tmpRCCNode.column = j;\n",
    "                    tmpRCCNode.value = value;\n",
    "                    tmpRNCNode.rowIndex = i;\n",
    "                    tmpRNCNode.column = j;\n",
    "                    tmpRNCNode.value = value;\n",
    "                    tmpCNCNode.rowIndex = i;\n",
    "                    tmpCNCNode.column = j;\n",
    "                    tmpCNCNode.value = value;\n",
    "                    tmpBNCNode.rowIndex = i;\n",
    "                    tmpBNCNode.column = j;\n",
    "                    tmpBNCNode.value = value;\n",
    "                    tmpRCCNode.right = tmpRNCNode;\n",
    "                    tmpRNCNode.right = tmpCNCNode;\n",
    "                    tmpCNCNode.right = tmpBNCNode;\n",
    "                    tmpBNCNode.right = tmpRCCNode;\n",
    "                    tmpBNCNode.left = tmpCNCNode;\n",
    "                    tmpCNCNode.left = tmpRNCNode;\n",
    "                    tmpRNCNode.left = tmpRCCNode;\n",
    "                    tmpRCCNode.left = tmpBNCNode;\n",
    "                    tmpRCCNode.up = tmp[RCC];\n",
    "                    tmpRCCNode.down = tmp[RCC].down;\n",
    "                    tmp[RCC].down = tmpRCCNode;\n",
    "                    tmp[RCC] = tmpRCCNode;\n",
    "                    tmpRNCNode.up = tmp[RNC];\n",
    "                    tmpRNCNode.down = tmp[RNC].down;\n",
    "                    tmp[RNC].down = tmpRNCNode;\n",
    "                    tmp[RNC++] = tmpRNCNode;\n",
    "                    tmpCNCNode.up = tmp[CNC];\n",
    "                    tmpCNCNode.down = tmp[CNC].down;\n",
    "                    tmp[CNC].down = tmpCNCNode;\n",
    "                    tmp[CNC++] = tmpCNCNode;\n",
    "                    tmpBNCNode.up = tmp[BNC];\n",
    "                    tmpBNCNode.down = tmp[BNC].down;\n",
    "                    tmp[BNC].down = tmpBNCNode;\n",
    "                    tmp[BNC++] = tmpBNCNode;\n",
    "                    imatrix++;\n",
    "                }\n",
    "            }\n",
    "        }\n",
    "    }\n",
    "    \n",
    "    public void search()\n",
    "    {\n",
    "        if (root.right == root)\n",
    "        {\n",
    "            stop = true;\n",
    "            return;\n",
    "        }\n",
    "\n",
    "        NodeHead selected = (NodeHead)root.right;\n",
    "        int c = selected.size;\n",
    "        for (NodeHead currentNode = (NodeHead)root.right; currentNode != root; currentNode = (NodeHead)currentNode.right)\n",
    "        {\n",
    "            if (c > currentNode.size)\n",
    "            {\n",
    "                c = currentNode.size;\n",
    "                selected = currentNode;\n",
    "            }\n",
    "        }\n",
    "\n",
    "        cover(selected);\n",
    "\n",
    "        for (Node iNode = selected.down; iNode != selected; iNode = iNode.down)\n",
    "        {\n",
    "            solutions.AddLast(iNode);\n",
    "            for (Node jNode = iNode.right; jNode != iNode; jNode = jNode.right)\n",
    "            {\n",
    "                cover(jNode.nodeHead);\n",
    "            }\n",
    "            search();\n",
    "            if (stop)\n",
    "                return;\n",
    "            solutions.RemoveLast();\n",
    "            for (Node jNode = iNode.left; jNode != iNode; jNode = jNode.left)\n",
    "            {\n",
    "                uncover(jNode.nodeHead);\n",
    "            }\n",
    "        }\n",
    "        uncover(selected);\n",
    "        return;\n",
    "    }\n",
    "\n",
    "    private void cover(NodeHead node)\n",
    "    {\n",
    "        node.left.right = node.right;\n",
    "        node.right.left = node.left;\n",
    "        for (Node iNode = node.down; iNode != node; iNode = iNode.down)\n",
    "        {\n",
    "            for (Node jNode = iNode.right; jNode != iNode; jNode = jNode.right)\n",
    "            {\n",
    "                jNode.up.down = jNode.down;\n",
    "                jNode.down.up = jNode.up;\n",
    "                jNode.nodeHead.size--;\n",
    "            }\n",
    "        }\n",
    "    }\n",
    "\n",
    "    private void uncover(NodeHead node)\n",
    "    {\n",
    "        for (Node iNode = node.down; iNode != node; iNode = iNode.down)\n",
    "        {\n",
    "            for (Node jNode = iNode.right; jNode != iNode; jNode = jNode.right)\n",
    "            {\n",
    "                jNode.up.down = jNode;\n",
    "                jNode.down.up = jNode;\n",
    "                jNode.nodeHead.size++;\n",
    "            }\n",
    "        }\n",
    "        node.left.right = node;\n",
    "        node.right.left = node;\n",
    "    }\n",
    "}"
   ]
  },
  {
   "cell_type": "markdown",
   "metadata": {},
   "source": [
    "### Implémentation du nouveau solver"
   ]
  },
  {
   "cell_type": "code",
   "execution_count": 23,
   "metadata": {},
   "outputs": [],
   "source": [
    "public class DancingLinkSolverWithCustomDlx : ISudokuSolver\n",
    "{\n",
    "    \n",
    "       \n",
    "    public SudokuGrid Solve(SudokuGrid sudoku)\n",
    "    {\n",
    "        DlxCustomized dlxCustomized = new DlxCustomized(sudoku);\n",
    "        return dlxCustomized.Solve();\n",
    "    }\n",
    "}"
   ]
  },
  {
   "cell_type": "markdown",
   "metadata": {},
   "source": [
    "#### 5. Comparaison des Performances\n",
    "\n",
    "Nous allons maintenant comparer les performances des deux approches sur des puzzles de différentes difficultés."
   ]
  },
  {
   "cell_type": "code",
   "execution_count": 24,
   "metadata": {},
   "outputs": [
    {
     "data": {
      "text/plain": [
       "Testing Dancing Link Solver (Customized) on Hard sudokus..."
      ]
     },
     "metadata": {},
     "output_type": "display_data"
    },
    {
     "name": "stdout",
     "output_type": "stream",
     "text": [
      "Dancing Link Solver (DLXLib) | Difficulty: Easy | Time: 115,4546 ms | Status: Success\n",
      "Dancing Link Solver (DLXLib) | Difficulty: Medium | Time: 153,7937 ms | Status: Success\n",
      "Dancing Link Solver (DLXLib) | Difficulty: Hard | Time: 174,9278 ms | Status: Success\n",
      "Dancing Link Solver (Customized) | Difficulty: Easy | Time: 9,329 ms | Status: Success\n",
      "Dancing Link Solver (Customized) | Difficulty: Medium | Time: 6,9385 ms | Status: Success\n",
      "Dancing Link Solver (Customized) | Difficulty: Hard | Time: 9,7907 ms | Status: Success\n"
     ]
    },
    {
     "data": {
      "text/html": [
       "<!DOCTYPE html>\r\n",
       "<div style=\"width: 900px; height: 500px;\" id=\"ada4ee24-210c-434f-a8ab-99e9b39cb208\"></div><script type=\"text/javascript\">\r\n",
       "\n",
       "var renderPlotly = function() {\n",
       "    var xplotRequire = require.config({context:'xplot-3.0.1',paths:{plotly:'https://cdn.plot.ly/plotly-1.49.2.min'}}) || require;\n",
       "    xplotRequire(['plotly'], function(Plotly) { \r\n",
       "\n",
       "            var data = [{\"type\":\"bar\",\"x\":[\"Dancing Link Solver (DLXLib)\",\"Dancing Link Solver (Customized)\"],\"y\":[115.4546,9.329],\"name\":\"Easy\"}];\n",
       "           var layout = {\"title\":\"Comparison of Solver Performance - Easy Difficulty\",\"xaxis\":{\"title\":\"Solver\",\"_isSubplotObj\":true},\"yaxis\":{\"title\":\"Total Time (ms)\",\"type\":\"log\",\"_isSubplotObj\":true}};\n",
       "           Plotly.newPlot('ada4ee24-210c-434f-a8ab-99e9b39cb208', data, layout);\n",
       "        \r\n",
       "});\n",
       "};\r\n",
       "// ensure `require` is available globally\r\n",
       "if ((typeof(require) !==  typeof(Function)) || (typeof(require.config) !== typeof(Function))) {\r\n",
       "    let require_script = document.createElement('script');\r\n",
       "    require_script.setAttribute('src', 'https://cdnjs.cloudflare.com/ajax/libs/require.js/2.3.6/require.min.js');\r\n",
       "    require_script.setAttribute('type', 'text/javascript');\r\n",
       "    \r\n",
       "    \r\n",
       "    require_script.onload = function() {\r\n",
       "        renderPlotly();\r\n",
       "    };\r\n",
       "\r\n",
       "    document.getElementsByTagName('head')[0].appendChild(require_script);\r\n",
       "}\r\n",
       "else {\r\n",
       "    renderPlotly();\r\n",
       "}\r\n",
       "\r\n",
       "</script>\r\n"
      ]
     },
     "metadata": {},
     "output_type": "display_data"
    },
    {
     "data": {
      "text/html": [
       "<!DOCTYPE html>\r\n",
       "<div style=\"width: 900px; height: 500px;\" id=\"49543fe5-6486-4d60-95c8-58d61efc0497\"></div><script type=\"text/javascript\">\r\n",
       "\n",
       "var renderPlotly = function() {\n",
       "    var xplotRequire = require.config({context:'xplot-3.0.1',paths:{plotly:'https://cdn.plot.ly/plotly-1.49.2.min'}}) || require;\n",
       "    xplotRequire(['plotly'], function(Plotly) { \r\n",
       "\n",
       "            var data = [{\"type\":\"bar\",\"x\":[\"Dancing Link Solver (DLXLib)\",\"Dancing Link Solver (Customized)\"],\"y\":[153.7937,6.9385],\"name\":\"Medium\"}];\n",
       "           var layout = {\"title\":\"Comparison of Solver Performance - Medium Difficulty\",\"xaxis\":{\"title\":\"Solver\",\"_isSubplotObj\":true},\"yaxis\":{\"title\":\"Total Time (ms)\",\"type\":\"log\",\"_isSubplotObj\":true}};\n",
       "           Plotly.newPlot('49543fe5-6486-4d60-95c8-58d61efc0497', data, layout);\n",
       "        \r\n",
       "});\n",
       "};\r\n",
       "// ensure `require` is available globally\r\n",
       "if ((typeof(require) !==  typeof(Function)) || (typeof(require.config) !== typeof(Function))) {\r\n",
       "    let require_script = document.createElement('script');\r\n",
       "    require_script.setAttribute('src', 'https://cdnjs.cloudflare.com/ajax/libs/require.js/2.3.6/require.min.js');\r\n",
       "    require_script.setAttribute('type', 'text/javascript');\r\n",
       "    \r\n",
       "    \r\n",
       "    require_script.onload = function() {\r\n",
       "        renderPlotly();\r\n",
       "    };\r\n",
       "\r\n",
       "    document.getElementsByTagName('head')[0].appendChild(require_script);\r\n",
       "}\r\n",
       "else {\r\n",
       "    renderPlotly();\r\n",
       "}\r\n",
       "\r\n",
       "</script>\r\n"
      ]
     },
     "metadata": {},
     "output_type": "display_data"
    },
    {
     "data": {
      "text/html": [
       "<!DOCTYPE html>\r\n",
       "<div style=\"width: 900px; height: 500px;\" id=\"772cc196-5a49-44ce-afa7-4165778b1a2a\"></div><script type=\"text/javascript\">\r\n",
       "\n",
       "var renderPlotly = function() {\n",
       "    var xplotRequire = require.config({context:'xplot-3.0.1',paths:{plotly:'https://cdn.plot.ly/plotly-1.49.2.min'}}) || require;\n",
       "    xplotRequire(['plotly'], function(Plotly) { \r\n",
       "\n",
       "            var data = [{\"type\":\"bar\",\"x\":[\"Dancing Link Solver (DLXLib)\",\"Dancing Link Solver (Customized)\"],\"y\":[174.9278,9.7907],\"name\":\"Hard\"}];\n",
       "           var layout = {\"title\":\"Comparison of Solver Performance - Hard Difficulty\",\"xaxis\":{\"title\":\"Solver\",\"_isSubplotObj\":true},\"yaxis\":{\"title\":\"Total Time (ms)\",\"type\":\"log\",\"_isSubplotObj\":true}};\n",
       "           Plotly.newPlot('772cc196-5a49-44ce-afa7-4165778b1a2a', data, layout);\n",
       "        \r\n",
       "});\n",
       "};\r\n",
       "// ensure `require` is available globally\r\n",
       "if ((typeof(require) !==  typeof(Function)) || (typeof(require.config) !== typeof(Function))) {\r\n",
       "    let require_script = document.createElement('script');\r\n",
       "    require_script.setAttribute('src', 'https://cdnjs.cloudflare.com/ajax/libs/require.js/2.3.6/require.min.js');\r\n",
       "    require_script.setAttribute('type', 'text/javascript');\r\n",
       "    \r\n",
       "    \r\n",
       "    require_script.onload = function() {\r\n",
       "        renderPlotly();\r\n",
       "    };\r\n",
       "\r\n",
       "    document.getElementsByTagName('head')[0].appendChild(require_script);\r\n",
       "}\r\n",
       "else {\r\n",
       "    renderPlotly();\r\n",
       "}\r\n",
       "\r\n",
       "</script>\r\n"
      ]
     },
     "metadata": {},
     "output_type": "display_data"
    }
   ],
   "source": [
    "using System.Diagnostics;\n",
    "using System.Threading;\n",
    "using System.Threading.Tasks;\n",
    "\n",
    "var solvers = new List<(string Name, ISudokuSolver Solver)>\n",
    "{\n",
    "    (\"Dancing Link Solver (DLXLib)\", new DancingLinkSolver()),\n",
    "    (\"Dancing Link Solver (Customized)\", new DancingLinkSolverWithCustomDlx())\n",
    "};\n",
    "\n",
    "var results = SudokuHelper.TestSolvers(solvers);\n",
    "\n",
    "// Affichage des résultats\n",
    "foreach (var result in results)\n",
    "{\n",
    "    Console.WriteLine($\"{result.SolverName} | Difficulty: {result.Difficulty} | Time: {result.Time} ms | Status: {result.Status}\");\n",
    "}\n",
    "\n",
    "SudokuHelper.DisplayResults(results);"
   ]
  }
 ],
 "metadata": {
  "kernelspec": {
   "display_name": ".NET (C#)",
   "language": "C#",
   "name": ".net-csharp"
  },
  "polyglot_notebook": {
   "kernelInfo": {
    "defaultKernelName": "csharp",
    "items": [
     {
      "aliases": [],
      "languageName": "csharp",
      "name": "csharp"
     }
    ]
   }
  }
 },
 "nbformat": 4,
 "nbformat_minor": 2
}
