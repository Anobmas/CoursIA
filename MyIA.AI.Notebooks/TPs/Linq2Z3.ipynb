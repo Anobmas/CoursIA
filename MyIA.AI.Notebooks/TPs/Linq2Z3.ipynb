{
 "cells": [
  {
   "cell_type": "markdown",
   "metadata": {},
   "source": [
    "## Utilisation de LINQ et Z3 pour la résolution de problèmes\n",
    "\n",
    "### Installation de Z3.Linq\n",
    "\n",
    "On appelle le package Nuget correspondant. \n",
    "\n",
    "\n"
   ]
  },
  {
   "cell_type": "code",
   "execution_count": 3,
   "metadata": {
    "dotnet_interactive": {
     "language": "csharp"
    },
    "polyglot_notebook": {
     "kernelName": "csharp"
    }
   },
   "outputs": [
    {
     "data": {
      "text/html": [
       "<div><div></div><div></div><div><strong>Installed Packages</strong><ul><li><span>Z3.Linq, 2.0.1</span></li></ul></div></div>"
      ]
     },
     "metadata": {},
     "output_type": "display_data"
    }
   ],
   "source": [
    "#r \"nuget: Z3.Linq\""
   ]
  },
  {
   "cell_type": "markdown",
   "metadata": {},
   "source": [
    "### Exemple court"
   ]
  },
  {
   "cell_type": "code",
   "execution_count": 4,
   "metadata": {},
   "outputs": [
    {
     "name": "stdout",
     "output_type": "stream",
     "text": [
      "X1 = 3, X2 = 0, X3 = 1, X4 = 0, X5 = 1\r\n"
     ]
    }
   ],
   "source": [
    "using Z3.Linq; \n",
    "\n",
    "using (var ctx = new Z3Context())\n",
    "      {\n",
    "        var theorem = from t in ctx.NewTheorem<Symbols<int, int, int, int, int>>()\n",
    "              where t.X1 - t.X2 >= 1\n",
    "              where t.X1 - t.X2 <= 3\n",
    "              where t.X1 == (2 * t.X3) + t.X5\n",
    "              where t.X3 == t.X5\n",
    "              where t.X2 == 6 * t.X4\n",
    "              select t;\n",
    "var solution = theorem.Solve();\n",
    "Console.WriteLine(\"X1 = {0}, X2 = {1}, X3 = {2}, X4 = {3}, X5 = {4}\", solution.X1, solution.X2, solution.X3, solution.X4, solution.X5);\n",
    "\n",
    "}"
   ]
  }
 ],
 "metadata": {
  "kernelspec": {
   "display_name": ".NET (C#)",
   "language": "C#",
   "name": ".net-csharp"
  },
  "polyglot_notebook": {
   "kernelInfo": {
    "defaultKernelName": "csharp",
    "items": [
     {
      "aliases": [],
      "languageName": "csharp",
      "name": "csharp"
     }
    ]
   }
  }
 },
 "nbformat": 4,
 "nbformat_minor": 2
}
